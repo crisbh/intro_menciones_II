{
 "cells": [
  {
   "cell_type": "markdown",
   "metadata": {
    "slideshow": {
     "slide_type": "skip"
    }
   },
   "source": [
    "# Instructions to export slides\n",
    "\n",
    "We might be interested in hiding the code of some slides, e.g. when displaying a video. In order to achieve this,\n",
    " the metadata of the cell has to be edited to include \"to_remove\" tag from the View->Cell Toolbar->Edit Metadata option.\n",
    " \n",
    "For instance:\n",
    " \n",
    "```js\n",
    "{\n",
    "    \"tags\": [\n",
    "        \"to_remove\"\n",
    "    ],\n",
    "    \"slideshow\": {\n",
    "        \"slide_type\": \"slide\"\n",
    "    }\n",
    "}\n",
    "```\n",
    "\n",
    "In order for this to take effect, the slideshow must be compile via the terminal using:\n",
    "```sh\n",
    "jupyter nbconvert presentation.ipynb --to slides --no-prompt --TagRemovePreprocessor.remove_input_tags {\\\"to_remove\\\"} --post serve --SlidesExporter.reveal_theme=simple\n",
    "```"
   ]
  },
  {
   "cell_type": "markdown",
   "metadata": {
    "slideshow": {
     "slide_type": "slide"
    }
   },
   "source": [
    "# Visualización de datos\n",
    "\n",
    "Supongamos que tenemos el resultado del análisis de datos, de la simulación, del algorítmo de *machine learning*, etc. \n",
    "\n",
    "El último paso es la comunicación de estos resultados con una **visualización de datos**.\n",
    "\n",
    "<img style=\"float: center;\" src=\"clase4_imagenes/infographic.png\" alt=\"alt text\" width=\"600\" height=\"600\" class=\"blog-image\">"
   ]
  },
  {
   "cell_type": "markdown",
   "metadata": {
    "slideshow": {
     "slide_type": "slide"
    }
   },
   "source": [
    "* La visualización es un aspecto muy importante de la ciencia. \n",
    "* Hay muy pocos casos donde *no* necesitamos crear una representación gráfica de nuestro trabajo.\n",
    "* Incluso en la matemática pura, una visualización buena puede ayudar mucho."
   ]
  },
  {
   "cell_type": "markdown",
   "metadata": {
    "slideshow": {
     "slide_type": "slide"
    }
   },
   "source": [
    "¿Por qué es tan importante? Porque nuestros cerebros procesan información visual muy rápidamente...\n",
    "\n",
    "![](clase4_imagenes/bandwidth_brain.png)"
   ]
  },
  {
   "cell_type": "markdown",
   "metadata": {
    "slideshow": {
     "slide_type": "slide"
    }
   },
   "source": [
    "### Cuarteto de Anscombe\n",
    "\n",
    "En la clase sobre análisis de datos, vimos que es muy importante \"explorar\" los datos a ver como son. \n",
    "\n",
    "Una forma rápida y útil de hacer eso es... graficarlos.\n",
    "\n",
    "Vamos a ver un ejemplo famoso de la estadística, llamado **\"El Cuarteto de Anscombe\"**.\n",
    "\n",
    "![](clase4_imagenes/anscombes_quartet_valores.png)"
   ]
  },
  {
   "cell_type": "markdown",
   "metadata": {
    "slideshow": {
     "slide_type": "slide"
    }
   },
   "source": [
    "El Cuarteto de Anscombe consiste en:\n",
    "\n",
    "* 4 conjuntos de datos, con valores diferentes pero propiedades *estadísticas idénticas*:\n",
    "* La *correlación* entre las variables es la misma.\n",
    "* La recta obtenida mediante *regresión lineal* también es la misma."
   ]
  },
  {
   "cell_type": "markdown",
   "metadata": {
    "slideshow": {
     "slide_type": "slide"
    }
   },
   "source": [
    "Los gráficos de los datos y rectas obtenida mediante regresión lineal:\n",
    "\n",
    "<img style=\"float: center;\" src=\"clase4_imagenes/anscombes_quartet.png\" alt=\"alt text\" width=\"900\" height=\"600\" class=\"blog-image\">"
   ]
  },
  {
   "cell_type": "markdown",
   "metadata": {
    "slideshow": {
     "slide_type": "slide"
    }
   },
   "source": [
    "¡Los 4 conjuntos de datos son muy diferentes! El único gráfico que parece \"normal\" es el primero. Todos los otros muestran puntos con \"estructura\" (es decir, no parecen datos \"reales\"). "
   ]
  },
  {
   "cell_type": "markdown",
   "metadata": {
    "slideshow": {
     "slide_type": "fragment"
    }
   },
   "source": [
    "Si no tenemos una razón para sospechar que haya estructura en los datos, podríamos concluir que hay algo mal en nuestros datos en los otros 3 gráficos.\n",
    "\n",
    "Este ejemplo ilustra el uso de los gráficos para analizar rápidamente los datos, y posiblemente detectar problemas."
   ]
  },
  {
   "cell_type": "markdown",
   "metadata": {
    "slideshow": {
     "slide_type": "slide"
    }
   },
   "source": [
    "### Visualizaciones en la astronomía\n",
    "\n",
    "* Las visualizaciones a veces nos permiten a *entender* los datos en una manera nueva.\n",
    "* Hay muchos ejemplos en la astronomía, que es una ciencia que se basa en las representaciones gráficas de los datos."
   ]
  },
  {
   "cell_type": "markdown",
   "metadata": {
    "slideshow": {
     "slide_type": "slide"
    }
   },
   "source": [
    "<img style=\"float: right;\" src=\"clase4_imagenes/HRDiagram-es.png\">\n",
    "\n",
    "### Diagrama de Hertzsprung-Russell\n",
    "\n",
    "También se llaman *diagrama de color-magnitud* de las estrellas.\n",
    "\n",
    "\n",
    "En tal diagrama graficamos el color (o temperatura) de una estrella contra su magnitud (o luminosidad).\n",
    "\n"
   ]
  },
  {
   "cell_type": "markdown",
   "metadata": {
    "slideshow": {
     "slide_type": "slide"
    }
   },
   "source": [
    "* Secuencia principal (SP): donde se encuentran la mayoría de las estrellas. \n",
    " * Baja luminosidad $\\Rightarrow$ color rojo.\n",
    " * Alta luminosidad $\\Rightarrow$ color azul.\n",
    "* Otras regiones: la rama de las estrellas gigantes, supergigantes, enanas blancas.\n",
    "* Cuando una estrella está terminando su vida en la secuencia principal, se mueve a las ramas de gigantes/supergigantes."
   ]
  },
  {
   "cell_type": "markdown",
   "metadata": {
    "slideshow": {
     "slide_type": "slide"
    }
   },
   "source": [
    "#### Ejemplo del uso del diagrama HR\n",
    "\n",
    "\n",
    "Para determinar la edad de los cúmulos globulares de estrellas:\n",
    "\n",
    "* Se supone que todas las estrellas se formaron en el mismo momento.\n",
    "* Estrellas grandes y luminosas en la SP consumen todo su hidrógeno y se mueven a la rama de las gigantes después de un tiempo más corto que una estrella menos masiva.\n",
    "* Podemos analizar cuantas estrellas en el cúmulo ya están en la rama de las gigantes, y así determinar la edad del cúmulo."
   ]
  },
  {
   "cell_type": "markdown",
   "metadata": {
    "slideshow": {
     "slide_type": "fragment"
    }
   },
   "source": [
    "Hace 30 años las observaciones indicaron que los cúmulos globulares eran mayor en edad que el universo... \n",
    "\n",
    "El descubrimiento de la aceleración de la expansión del universo (en 1998) nos dio cuenta de que el universo era más antiguo de lo pensado hasta entonces, por lo cual esta aparente contradicción fue resuelta."
   ]
  },
  {
   "cell_type": "markdown",
   "metadata": {
    "slideshow": {
     "slide_type": "slide"
    }
   },
   "source": [
    "### Un ejemplo de la meteorología\n",
    "\n",
    "<img style=\"float: right;\" src=\"clase4_imagenes/OUN.gif\">\n",
    "\n",
    "Un globo meteorológico toma mediciones de temperatura, presión, punto de rocío, etc.\n",
    "\n",
    "La línea roja es la temperatura, la línea verde es el punto de rocío.\n",
    "\n",
    "La línea discontinua corresponde al gradiente adiabático (algo que podemos calcular con la física).\n",
    "\n",
    "Estos diagramas son muy útiles para determinar la *estabilidad* (o no) del aire en una región.\n",
    "\n",
    "Aire inestable tiene la tendencia de formar nubes, tormentas, etc."
   ]
  },
  {
   "cell_type": "markdown",
   "metadata": {
    "slideshow": {
     "slide_type": "slide"
    }
   },
   "source": [
    "### Infografías en las noticias...\n",
    "\n",
    "![](clase4_imagenes/hurricane.jpg)"
   ]
  },
  {
   "cell_type": "markdown",
   "metadata": {
    "slideshow": {
     "slide_type": "slide"
    }
   },
   "source": [
    "### Visualizaciones malas... (usted no lo haga)\n",
    "\n",
    "(Fuente: http://viz.wtf/)"
   ]
  },
  {
   "cell_type": "markdown",
   "metadata": {
    "slideshow": {
     "slide_type": "slide"
    }
   },
   "source": [
    "![](clase4_imagenes/bad_viz1.jpg)"
   ]
  },
  {
   "cell_type": "markdown",
   "metadata": {
    "slideshow": {
     "slide_type": "slide"
    }
   },
   "source": [
    "![](clase4_imagenes/paper_graph.jpg)"
   ]
  },
  {
   "cell_type": "markdown",
   "metadata": {
    "slideshow": {
     "slide_type": "slide"
    }
   },
   "source": [
    "<img style=\"float: center;\" src=\"clase4_imagenes/monochromatic.png\" alt=\"alt text\" height=\"600\" class=\"blog-image\">"
   ]
  },
  {
   "cell_type": "markdown",
   "metadata": {
    "slideshow": {
     "slide_type": "slide"
    }
   },
   "source": [
    "<img style=\"float: center;\" src=\"clase4_imagenes/pinera.jpg\" alt=\"alt text\" width=\"800\" height=\"600\" class=\"blog-image\">"
   ]
  },
  {
   "cell_type": "markdown",
   "metadata": {
    "slideshow": {
     "slide_type": "slide"
    }
   },
   "source": [
    "### Creando gráficos en Python\n",
    "\n",
    "* Matplotlib\n",
    "\n",
    "<img style=\"float: center;\" src=\"clase4_imagenes/matplotlib.png\" alt=\"alt text\" width=\"800\" height=\"600\" class=\"blog-image\">"
   ]
  },
  {
   "cell_type": "markdown",
   "metadata": {
    "slideshow": {
     "slide_type": "slide"
    }
   },
   "source": [
    "* Gráficos interactivos (Bokeh)\n",
    "\n",
    "![](clase4_imagenes/bokeh.png)"
   ]
  },
  {
   "cell_type": "code",
   "execution_count": 1,
   "metadata": {
    "scrolled": false,
    "slideshow": {
     "slide_type": "slide"
    }
   },
   "outputs": [],
   "source": [
    "import numpy as np\n",
    "\n",
    "from bokeh.io import output_notebook\n",
    "from bokeh.plotting import figure, show\n",
    "\n",
    "# Set up data\n",
    "N = 4000\n",
    "x = np.random.random(size=N) * 100\n",
    "y = np.random.random(size=N) * 100\n",
    "radii = np.random.random(size=N) * 1.5\n",
    "colors = [\"#%02x%02x%02x\" % (int(r), int(g), 150) for r, g in zip(np.floor(50+2*x), np.floor(30+2*y))]"
   ]
  },
  {
   "cell_type": "code",
   "execution_count": 2,
   "metadata": {
    "scrolled": false,
    "slideshow": {
     "slide_type": "slide"
    }
   },
   "outputs": [
    {
     "data": {
      "text/html": [
       "<style>\n",
       "        .bk-notebook-logo {\n",
       "            display: block;\n",
       "            width: 20px;\n",
       "            height: 20px;\n",
       "            background-image: url(data:image/png;base64,iVBORw0KGgoAAAANSUhEUgAAABQAAAAUCAYAAACNiR0NAAAABHNCSVQICAgIfAhkiAAAAAlwSFlzAAALEgAACxIB0t1+/AAAABx0RVh0U29mdHdhcmUAQWRvYmUgRmlyZXdvcmtzIENTNui8sowAAAOkSURBVDiNjZRtaJVlGMd/1/08zzln5zjP1LWcU9N0NkN8m2CYjpgQYQXqSs0I84OLIC0hkEKoPtiH3gmKoiJDU7QpLgoLjLIQCpEsNJ1vqUOdO7ppbuec5+V+rj4ctwzd8IIbbi6u+8f1539dt3A78eXC7QizUF7gyV1fD1Yqg4JWz84yffhm0qkFqBogB9rM8tZdtwVsPUhWhGcFJngGeWrPzHm5oaMmkfEg1usvLFyc8jLRqDOMru7AyC8saQr7GG7f5fvDeH7Ej8CM66nIF+8yngt6HWaKh7k49Soy9nXurCi1o3qUbS3zWfrYeQDTB/Qj6kX6Ybhw4B+bOYoLKCC9H3Nu/leUTZ1JdRWkkn2ldcCamzrcf47KKXdAJllSlxAOkRgyHsGC/zRday5Qld9DyoM4/q/rUoy/CXh3jzOu3bHUVZeU+DEn8FInkPBFlu3+nW3Nw0mk6vCDiWg8CeJaxEwuHS3+z5RgY+YBR6V1Z1nxSOfoaPa4LASWxxdNp+VWTk7+4vzaou8v8PN+xo+KY2xsw6une2frhw05CTYOmQvsEhjhWjn0bmXPjpE1+kplmmkP3suftwTubK9Vq22qKmrBhpY4jvd5afdRA3wGjFAgcnTK2s4hY0/GPNIb0nErGMCRxWOOX64Z8RAC4oCXdklmEvcL8o0BfkNK4lUg9HTl+oPlQxdNo3Mg4Nv175e/1LDGzZen30MEjRUtmXSfiTVu1kK8W4txyV6BMKlbgk3lMwYCiusNy9fVfvvwMxv8Ynl6vxoByANLTWplvuj/nF9m2+PDtt1eiHPBr1oIfhCChQMBw6Aw0UulqTKZdfVvfG7VcfIqLG9bcldL/+pdWTLxLUy8Qq38heUIjh4XlzZxzQm19lLFlr8vdQ97rjZVOLf8nclzckbcD4wxXMidpX30sFd37Fv/GtwwhzhxGVAprjbg0gCAEeIgwCZyTV2Z1REEW8O4py0wsjeloKoMr6iCY6dP92H6Vw/oTyICIthibxjm/DfN9lVz8IqtqKYLUXfoKVMVQVVJOElGjrnnUt9T9wbgp8AyYKaGlqingHZU/uG2NTZSVqwHQTWkx9hxjkpWDaCg6Ckj5qebgBVbT3V3NNXMSiWSDdGV3hrtzla7J+duwPOToIg42ChPQOQjspnSlp1V+Gjdged7+8UN5CRAV7a5EdFNwCjEaBR27b3W890TE7g24NAP/mMDXRWrGoFPQI9ls/MWO2dWFAar/xcOIImbbpA3zgAAAABJRU5ErkJggg==);\n",
       "        }\n",
       "    </style>\n",
       "    <div>\n",
       "        <a href=\"https://bokeh.org\" target=\"_blank\" class=\"bk-notebook-logo\"></a>\n",
       "        <span id=\"d2874040-65bb-4be5-8dc9-da63b9270365\">Loading BokehJS ...</span>\n",
       "    </div>\n"
      ]
     },
     "metadata": {},
     "output_type": "display_data"
    },
    {
     "data": {
      "application/javascript": [
       "(function(root) {\n",
       "  function now() {\n",
       "    return new Date();\n",
       "  }\n",
       "\n",
       "  const force = true;\n",
       "\n",
       "  if (typeof root._bokeh_onload_callbacks === \"undefined\" || force === true) {\n",
       "    root._bokeh_onload_callbacks = [];\n",
       "    root._bokeh_is_loading = undefined;\n",
       "  }\n",
       "\n",
       "const JS_MIME_TYPE = 'application/javascript';\n",
       "  const HTML_MIME_TYPE = 'text/html';\n",
       "  const EXEC_MIME_TYPE = 'application/vnd.bokehjs_exec.v0+json';\n",
       "  const CLASS_NAME = 'output_bokeh rendered_html';\n",
       "\n",
       "  /**\n",
       "   * Render data to the DOM node\n",
       "   */\n",
       "  function render(props, node) {\n",
       "    const script = document.createElement(\"script\");\n",
       "    node.appendChild(script);\n",
       "  }\n",
       "\n",
       "  /**\n",
       "   * Handle when an output is cleared or removed\n",
       "   */\n",
       "  function handleClearOutput(event, handle) {\n",
       "    function drop(id) {\n",
       "      const view = Bokeh.index.get_by_id(id)\n",
       "      if (view != null) {\n",
       "        view.model.document.clear()\n",
       "        Bokeh.index.delete(view)\n",
       "      }\n",
       "    }\n",
       "\n",
       "    const cell = handle.cell;\n",
       "\n",
       "    const id = cell.output_area._bokeh_element_id;\n",
       "    const server_id = cell.output_area._bokeh_server_id;\n",
       "\n",
       "    // Clean up Bokeh references\n",
       "    if (id != null) {\n",
       "      drop(id)\n",
       "    }\n",
       "\n",
       "    if (server_id !== undefined) {\n",
       "      // Clean up Bokeh references\n",
       "      const cmd_clean = \"from bokeh.io.state import curstate; print(curstate().uuid_to_server['\" + server_id + \"'].get_sessions()[0].document.roots[0]._id)\";\n",
       "      cell.notebook.kernel.execute(cmd_clean, {\n",
       "        iopub: {\n",
       "          output: function(msg) {\n",
       "            const id = msg.content.text.trim()\n",
       "            drop(id)\n",
       "          }\n",
       "        }\n",
       "      });\n",
       "      // Destroy server and session\n",
       "      const cmd_destroy = \"import bokeh.io.notebook as ion; ion.destroy_server('\" + server_id + \"')\";\n",
       "      cell.notebook.kernel.execute(cmd_destroy);\n",
       "    }\n",
       "  }\n",
       "\n",
       "  /**\n",
       "   * Handle when a new output is added\n",
       "   */\n",
       "  function handleAddOutput(event, handle) {\n",
       "    const output_area = handle.output_area;\n",
       "    const output = handle.output;\n",
       "\n",
       "    // limit handleAddOutput to display_data with EXEC_MIME_TYPE content only\n",
       "    if ((output.output_type != \"display_data\") || (!Object.prototype.hasOwnProperty.call(output.data, EXEC_MIME_TYPE))) {\n",
       "      return\n",
       "    }\n",
       "\n",
       "    const toinsert = output_area.element.find(\".\" + CLASS_NAME.split(' ')[0]);\n",
       "\n",
       "    if (output.metadata[EXEC_MIME_TYPE][\"id\"] !== undefined) {\n",
       "      toinsert[toinsert.length - 1].firstChild.textContent = output.data[JS_MIME_TYPE];\n",
       "      // store reference to embed id on output_area\n",
       "      output_area._bokeh_element_id = output.metadata[EXEC_MIME_TYPE][\"id\"];\n",
       "    }\n",
       "    if (output.metadata[EXEC_MIME_TYPE][\"server_id\"] !== undefined) {\n",
       "      const bk_div = document.createElement(\"div\");\n",
       "      bk_div.innerHTML = output.data[HTML_MIME_TYPE];\n",
       "      const script_attrs = bk_div.children[0].attributes;\n",
       "      for (let i = 0; i < script_attrs.length; i++) {\n",
       "        toinsert[toinsert.length - 1].firstChild.setAttribute(script_attrs[i].name, script_attrs[i].value);\n",
       "        toinsert[toinsert.length - 1].firstChild.textContent = bk_div.children[0].textContent\n",
       "      }\n",
       "      // store reference to server id on output_area\n",
       "      output_area._bokeh_server_id = output.metadata[EXEC_MIME_TYPE][\"server_id\"];\n",
       "    }\n",
       "  }\n",
       "\n",
       "  function register_renderer(events, OutputArea) {\n",
       "\n",
       "    function append_mime(data, metadata, element) {\n",
       "      // create a DOM node to render to\n",
       "      const toinsert = this.create_output_subarea(\n",
       "        metadata,\n",
       "        CLASS_NAME,\n",
       "        EXEC_MIME_TYPE\n",
       "      );\n",
       "      this.keyboard_manager.register_events(toinsert);\n",
       "      // Render to node\n",
       "      const props = {data: data, metadata: metadata[EXEC_MIME_TYPE]};\n",
       "      render(props, toinsert[toinsert.length - 1]);\n",
       "      element.append(toinsert);\n",
       "      return toinsert\n",
       "    }\n",
       "\n",
       "    /* Handle when an output is cleared or removed */\n",
       "    events.on('clear_output.CodeCell', handleClearOutput);\n",
       "    events.on('delete.Cell', handleClearOutput);\n",
       "\n",
       "    /* Handle when a new output is added */\n",
       "    events.on('output_added.OutputArea', handleAddOutput);\n",
       "\n",
       "    /**\n",
       "     * Register the mime type and append_mime function with output_area\n",
       "     */\n",
       "    OutputArea.prototype.register_mime_type(EXEC_MIME_TYPE, append_mime, {\n",
       "      /* Is output safe? */\n",
       "      safe: true,\n",
       "      /* Index of renderer in `output_area.display_order` */\n",
       "      index: 0\n",
       "    });\n",
       "  }\n",
       "\n",
       "  // register the mime type if in Jupyter Notebook environment and previously unregistered\n",
       "  if (root.Jupyter !== undefined) {\n",
       "    const events = require('base/js/events');\n",
       "    const OutputArea = require('notebook/js/outputarea').OutputArea;\n",
       "\n",
       "    if (OutputArea.prototype.mime_types().indexOf(EXEC_MIME_TYPE) == -1) {\n",
       "      register_renderer(events, OutputArea);\n",
       "    }\n",
       "  }\n",
       "  if (typeof (root._bokeh_timeout) === \"undefined\" || force === true) {\n",
       "    root._bokeh_timeout = Date.now() + 5000;\n",
       "    root._bokeh_failed_load = false;\n",
       "  }\n",
       "\n",
       "  const NB_LOAD_WARNING = {'data': {'text/html':\n",
       "     \"<div style='background-color: #fdd'>\\n\"+\n",
       "     \"<p>\\n\"+\n",
       "     \"BokehJS does not appear to have successfully loaded. If loading BokehJS from CDN, this \\n\"+\n",
       "     \"may be due to a slow or bad network connection. Possible fixes:\\n\"+\n",
       "     \"</p>\\n\"+\n",
       "     \"<ul>\\n\"+\n",
       "     \"<li>re-rerun `output_notebook()` to attempt to load from CDN again, or</li>\\n\"+\n",
       "     \"<li>use INLINE resources instead, as so:</li>\\n\"+\n",
       "     \"</ul>\\n\"+\n",
       "     \"<code>\\n\"+\n",
       "     \"from bokeh.resources import INLINE\\n\"+\n",
       "     \"output_notebook(resources=INLINE)\\n\"+\n",
       "     \"</code>\\n\"+\n",
       "     \"</div>\"}};\n",
       "\n",
       "  function display_loaded() {\n",
       "    const el = document.getElementById(\"d2874040-65bb-4be5-8dc9-da63b9270365\");\n",
       "    if (el != null) {\n",
       "      el.textContent = \"BokehJS is loading...\";\n",
       "    }\n",
       "    if (root.Bokeh !== undefined) {\n",
       "      if (el != null) {\n",
       "        el.textContent = \"BokehJS \" + root.Bokeh.version + \" successfully loaded.\";\n",
       "      }\n",
       "    } else if (Date.now() < root._bokeh_timeout) {\n",
       "      setTimeout(display_loaded, 100)\n",
       "    }\n",
       "  }\n",
       "\n",
       "  function run_callbacks() {\n",
       "    try {\n",
       "      root._bokeh_onload_callbacks.forEach(function(callback) {\n",
       "        if (callback != null)\n",
       "          callback();\n",
       "      });\n",
       "    } finally {\n",
       "      delete root._bokeh_onload_callbacks\n",
       "    }\n",
       "    console.debug(\"Bokeh: all callbacks have finished\");\n",
       "  }\n",
       "\n",
       "  function load_libs(css_urls, js_urls, callback) {\n",
       "    if (css_urls == null) css_urls = [];\n",
       "    if (js_urls == null) js_urls = [];\n",
       "\n",
       "    root._bokeh_onload_callbacks.push(callback);\n",
       "    if (root._bokeh_is_loading > 0) {\n",
       "      console.debug(\"Bokeh: BokehJS is being loaded, scheduling callback at\", now());\n",
       "      return null;\n",
       "    }\n",
       "    if (js_urls == null || js_urls.length === 0) {\n",
       "      run_callbacks();\n",
       "      return null;\n",
       "    }\n",
       "    console.debug(\"Bokeh: BokehJS not loaded, scheduling load and callback at\", now());\n",
       "    root._bokeh_is_loading = css_urls.length + js_urls.length;\n",
       "\n",
       "    function on_load() {\n",
       "      root._bokeh_is_loading--;\n",
       "      if (root._bokeh_is_loading === 0) {\n",
       "        console.debug(\"Bokeh: all BokehJS libraries/stylesheets loaded\");\n",
       "        run_callbacks()\n",
       "      }\n",
       "    }\n",
       "\n",
       "    function on_error(url) {\n",
       "      console.error(\"failed to load \" + url);\n",
       "    }\n",
       "\n",
       "    for (let i = 0; i < css_urls.length; i++) {\n",
       "      const url = css_urls[i];\n",
       "      const element = document.createElement(\"link\");\n",
       "      element.onload = on_load;\n",
       "      element.onerror = on_error.bind(null, url);\n",
       "      element.rel = \"stylesheet\";\n",
       "      element.type = \"text/css\";\n",
       "      element.href = url;\n",
       "      console.debug(\"Bokeh: injecting link tag for BokehJS stylesheet: \", url);\n",
       "      document.body.appendChild(element);\n",
       "    }\n",
       "\n",
       "    for (let i = 0; i < js_urls.length; i++) {\n",
       "      const url = js_urls[i];\n",
       "      const element = document.createElement('script');\n",
       "      element.onload = on_load;\n",
       "      element.onerror = on_error.bind(null, url);\n",
       "      element.async = false;\n",
       "      element.src = url;\n",
       "      console.debug(\"Bokeh: injecting script tag for BokehJS library: \", url);\n",
       "      document.head.appendChild(element);\n",
       "    }\n",
       "  };\n",
       "\n",
       "  function inject_raw_css(css) {\n",
       "    const element = document.createElement(\"style\");\n",
       "    element.appendChild(document.createTextNode(css));\n",
       "    document.body.appendChild(element);\n",
       "  }\n",
       "\n",
       "  const js_urls = [\"https://cdn.bokeh.org/bokeh/release/bokeh-3.3.0.min.js\", \"https://cdn.bokeh.org/bokeh/release/bokeh-gl-3.3.0.min.js\", \"https://cdn.bokeh.org/bokeh/release/bokeh-widgets-3.3.0.min.js\", \"https://cdn.bokeh.org/bokeh/release/bokeh-tables-3.3.0.min.js\", \"https://cdn.bokeh.org/bokeh/release/bokeh-mathjax-3.3.0.min.js\"];\n",
       "  const css_urls = [];\n",
       "\n",
       "  const inline_js = [    function(Bokeh) {\n",
       "      Bokeh.set_log_level(\"info\");\n",
       "    },\n",
       "function(Bokeh) {\n",
       "    }\n",
       "  ];\n",
       "\n",
       "  function run_inline_js() {\n",
       "    if (root.Bokeh !== undefined || force === true) {\n",
       "          for (let i = 0; i < inline_js.length; i++) {\n",
       "      inline_js[i].call(root, root.Bokeh);\n",
       "    }\n",
       "if (force === true) {\n",
       "        display_loaded();\n",
       "      }} else if (Date.now() < root._bokeh_timeout) {\n",
       "      setTimeout(run_inline_js, 100);\n",
       "    } else if (!root._bokeh_failed_load) {\n",
       "      console.log(\"Bokeh: BokehJS failed to load within specified timeout.\");\n",
       "      root._bokeh_failed_load = true;\n",
       "    } else if (force !== true) {\n",
       "      const cell = $(document.getElementById(\"d2874040-65bb-4be5-8dc9-da63b9270365\")).parents('.cell').data().cell;\n",
       "      cell.output_area.append_execute_result(NB_LOAD_WARNING)\n",
       "    }\n",
       "  }\n",
       "\n",
       "  if (root._bokeh_is_loading === 0) {\n",
       "    console.debug(\"Bokeh: BokehJS loaded, going straight to plotting\");\n",
       "    run_inline_js();\n",
       "  } else {\n",
       "    load_libs(css_urls, js_urls, function() {\n",
       "      console.debug(\"Bokeh: BokehJS plotting callback run at\", now());\n",
       "      run_inline_js();\n",
       "    });\n",
       "  }\n",
       "}(window));"
      ],
      "application/vnd.bokehjs_load.v0+json": "(function(root) {\n  function now() {\n    return new Date();\n  }\n\n  const force = true;\n\n  if (typeof root._bokeh_onload_callbacks === \"undefined\" || force === true) {\n    root._bokeh_onload_callbacks = [];\n    root._bokeh_is_loading = undefined;\n  }\n\n\n  if (typeof (root._bokeh_timeout) === \"undefined\" || force === true) {\n    root._bokeh_timeout = Date.now() + 5000;\n    root._bokeh_failed_load = false;\n  }\n\n  const NB_LOAD_WARNING = {'data': {'text/html':\n     \"<div style='background-color: #fdd'>\\n\"+\n     \"<p>\\n\"+\n     \"BokehJS does not appear to have successfully loaded. If loading BokehJS from CDN, this \\n\"+\n     \"may be due to a slow or bad network connection. Possible fixes:\\n\"+\n     \"</p>\\n\"+\n     \"<ul>\\n\"+\n     \"<li>re-rerun `output_notebook()` to attempt to load from CDN again, or</li>\\n\"+\n     \"<li>use INLINE resources instead, as so:</li>\\n\"+\n     \"</ul>\\n\"+\n     \"<code>\\n\"+\n     \"from bokeh.resources import INLINE\\n\"+\n     \"output_notebook(resources=INLINE)\\n\"+\n     \"</code>\\n\"+\n     \"</div>\"}};\n\n  function display_loaded() {\n    const el = document.getElementById(\"d2874040-65bb-4be5-8dc9-da63b9270365\");\n    if (el != null) {\n      el.textContent = \"BokehJS is loading...\";\n    }\n    if (root.Bokeh !== undefined) {\n      if (el != null) {\n        el.textContent = \"BokehJS \" + root.Bokeh.version + \" successfully loaded.\";\n      }\n    } else if (Date.now() < root._bokeh_timeout) {\n      setTimeout(display_loaded, 100)\n    }\n  }\n\n  function run_callbacks() {\n    try {\n      root._bokeh_onload_callbacks.forEach(function(callback) {\n        if (callback != null)\n          callback();\n      });\n    } finally {\n      delete root._bokeh_onload_callbacks\n    }\n    console.debug(\"Bokeh: all callbacks have finished\");\n  }\n\n  function load_libs(css_urls, js_urls, callback) {\n    if (css_urls == null) css_urls = [];\n    if (js_urls == null) js_urls = [];\n\n    root._bokeh_onload_callbacks.push(callback);\n    if (root._bokeh_is_loading > 0) {\n      console.debug(\"Bokeh: BokehJS is being loaded, scheduling callback at\", now());\n      return null;\n    }\n    if (js_urls == null || js_urls.length === 0) {\n      run_callbacks();\n      return null;\n    }\n    console.debug(\"Bokeh: BokehJS not loaded, scheduling load and callback at\", now());\n    root._bokeh_is_loading = css_urls.length + js_urls.length;\n\n    function on_load() {\n      root._bokeh_is_loading--;\n      if (root._bokeh_is_loading === 0) {\n        console.debug(\"Bokeh: all BokehJS libraries/stylesheets loaded\");\n        run_callbacks()\n      }\n    }\n\n    function on_error(url) {\n      console.error(\"failed to load \" + url);\n    }\n\n    for (let i = 0; i < css_urls.length; i++) {\n      const url = css_urls[i];\n      const element = document.createElement(\"link\");\n      element.onload = on_load;\n      element.onerror = on_error.bind(null, url);\n      element.rel = \"stylesheet\";\n      element.type = \"text/css\";\n      element.href = url;\n      console.debug(\"Bokeh: injecting link tag for BokehJS stylesheet: \", url);\n      document.body.appendChild(element);\n    }\n\n    for (let i = 0; i < js_urls.length; i++) {\n      const url = js_urls[i];\n      const element = document.createElement('script');\n      element.onload = on_load;\n      element.onerror = on_error.bind(null, url);\n      element.async = false;\n      element.src = url;\n      console.debug(\"Bokeh: injecting script tag for BokehJS library: \", url);\n      document.head.appendChild(element);\n    }\n  };\n\n  function inject_raw_css(css) {\n    const element = document.createElement(\"style\");\n    element.appendChild(document.createTextNode(css));\n    document.body.appendChild(element);\n  }\n\n  const js_urls = [\"https://cdn.bokeh.org/bokeh/release/bokeh-3.3.0.min.js\", \"https://cdn.bokeh.org/bokeh/release/bokeh-gl-3.3.0.min.js\", \"https://cdn.bokeh.org/bokeh/release/bokeh-widgets-3.3.0.min.js\", \"https://cdn.bokeh.org/bokeh/release/bokeh-tables-3.3.0.min.js\", \"https://cdn.bokeh.org/bokeh/release/bokeh-mathjax-3.3.0.min.js\"];\n  const css_urls = [];\n\n  const inline_js = [    function(Bokeh) {\n      Bokeh.set_log_level(\"info\");\n    },\nfunction(Bokeh) {\n    }\n  ];\n\n  function run_inline_js() {\n    if (root.Bokeh !== undefined || force === true) {\n          for (let i = 0; i < inline_js.length; i++) {\n      inline_js[i].call(root, root.Bokeh);\n    }\nif (force === true) {\n        display_loaded();\n      }} else if (Date.now() < root._bokeh_timeout) {\n      setTimeout(run_inline_js, 100);\n    } else if (!root._bokeh_failed_load) {\n      console.log(\"Bokeh: BokehJS failed to load within specified timeout.\");\n      root._bokeh_failed_load = true;\n    } else if (force !== true) {\n      const cell = $(document.getElementById(\"d2874040-65bb-4be5-8dc9-da63b9270365\")).parents('.cell').data().cell;\n      cell.output_area.append_execute_result(NB_LOAD_WARNING)\n    }\n  }\n\n  if (root._bokeh_is_loading === 0) {\n    console.debug(\"Bokeh: BokehJS loaded, going straight to plotting\");\n    run_inline_js();\n  } else {\n    load_libs(css_urls, js_urls, function() {\n      console.debug(\"Bokeh: BokehJS plotting callback run at\", now());\n      run_inline_js();\n    });\n  }\n}(window));"
     },
     "metadata": {},
     "output_type": "display_data"
    }
   ],
   "source": [
    "output_notebook()"
   ]
  },
  {
   "cell_type": "code",
   "execution_count": 3,
   "metadata": {
    "scrolled": false,
    "slideshow": {
     "slide_type": "fragment"
    }
   },
   "outputs": [
    {
     "data": {
      "text/html": [
       "<div style=\"display: table;\"><div style=\"display: table-row;\"><div style=\"display: table-cell;\"><b title=\"bokeh.models.renderers.glyph_renderer.GlyphRenderer\">GlyphRenderer</b>(</div><div style=\"display: table-cell;\">id&nbsp;=&nbsp;'p1035', <span id=\"p1039\" style=\"cursor: pointer;\">&hellip;)</span></div></div><div class=\"p1038\" style=\"display: none;\"><div style=\"display: table-cell;\"></div><div style=\"display: table-cell;\">coordinates&nbsp;=&nbsp;None,</div></div><div class=\"p1038\" style=\"display: none;\"><div style=\"display: table-cell;\"></div><div style=\"display: table-cell;\">data_source&nbsp;=&nbsp;ColumnDataSource(id='p1029', ...),</div></div><div class=\"p1038\" style=\"display: none;\"><div style=\"display: table-cell;\"></div><div style=\"display: table-cell;\">glyph&nbsp;=&nbsp;Circle(id='p1032', ...),</div></div><div class=\"p1038\" style=\"display: none;\"><div style=\"display: table-cell;\"></div><div style=\"display: table-cell;\">group&nbsp;=&nbsp;None,</div></div><div class=\"p1038\" style=\"display: none;\"><div style=\"display: table-cell;\"></div><div style=\"display: table-cell;\">hover_glyph&nbsp;=&nbsp;None,</div></div><div class=\"p1038\" style=\"display: none;\"><div style=\"display: table-cell;\"></div><div style=\"display: table-cell;\">js_event_callbacks&nbsp;=&nbsp;{},</div></div><div class=\"p1038\" style=\"display: none;\"><div style=\"display: table-cell;\"></div><div style=\"display: table-cell;\">js_property_callbacks&nbsp;=&nbsp;{},</div></div><div class=\"p1038\" style=\"display: none;\"><div style=\"display: table-cell;\"></div><div style=\"display: table-cell;\">level&nbsp;=&nbsp;'glyph',</div></div><div class=\"p1038\" style=\"display: none;\"><div style=\"display: table-cell;\"></div><div style=\"display: table-cell;\">muted&nbsp;=&nbsp;False,</div></div><div class=\"p1038\" style=\"display: none;\"><div style=\"display: table-cell;\"></div><div style=\"display: table-cell;\">muted_glyph&nbsp;=&nbsp;Circle(id='p1034', ...),</div></div><div class=\"p1038\" style=\"display: none;\"><div style=\"display: table-cell;\"></div><div style=\"display: table-cell;\">name&nbsp;=&nbsp;None,</div></div><div class=\"p1038\" style=\"display: none;\"><div style=\"display: table-cell;\"></div><div style=\"display: table-cell;\">nonselection_glyph&nbsp;=&nbsp;Circle(id='p1033', ...),</div></div><div class=\"p1038\" style=\"display: none;\"><div style=\"display: table-cell;\"></div><div style=\"display: table-cell;\">propagate_hover&nbsp;=&nbsp;False,</div></div><div class=\"p1038\" style=\"display: none;\"><div style=\"display: table-cell;\"></div><div style=\"display: table-cell;\">selection_glyph&nbsp;=&nbsp;'auto',</div></div><div class=\"p1038\" style=\"display: none;\"><div style=\"display: table-cell;\"></div><div style=\"display: table-cell;\">subscribed_events&nbsp;=&nbsp;PropertyValueSet(),</div></div><div class=\"p1038\" style=\"display: none;\"><div style=\"display: table-cell;\"></div><div style=\"display: table-cell;\">syncable&nbsp;=&nbsp;True,</div></div><div class=\"p1038\" style=\"display: none;\"><div style=\"display: table-cell;\"></div><div style=\"display: table-cell;\">tags&nbsp;=&nbsp;[],</div></div><div class=\"p1038\" style=\"display: none;\"><div style=\"display: table-cell;\"></div><div style=\"display: table-cell;\">view&nbsp;=&nbsp;CDSView(id='p1036', ...),</div></div><div class=\"p1038\" style=\"display: none;\"><div style=\"display: table-cell;\"></div><div style=\"display: table-cell;\">visible&nbsp;=&nbsp;True,</div></div><div class=\"p1038\" style=\"display: none;\"><div style=\"display: table-cell;\"></div><div style=\"display: table-cell;\">x_range_name&nbsp;=&nbsp;'default',</div></div><div class=\"p1038\" style=\"display: none;\"><div style=\"display: table-cell;\"></div><div style=\"display: table-cell;\">y_range_name&nbsp;=&nbsp;'default')</div></div></div>\n",
       "<script>\n",
       "(function() {\n",
       "  let expanded = false;\n",
       "  const ellipsis = document.getElementById(\"p1039\");\n",
       "  ellipsis.addEventListener(\"click\", function() {\n",
       "    const rows = document.getElementsByClassName(\"p1038\");\n",
       "    for (let i = 0; i < rows.length; i++) {\n",
       "      const el = rows[i];\n",
       "      el.style.display = expanded ? \"none\" : \"table-row\";\n",
       "    }\n",
       "    ellipsis.innerHTML = expanded ? \"&hellip;)\" : \"&lsaquo;&lsaquo;&lsaquo;\";\n",
       "    expanded = !expanded;\n",
       "  });\n",
       "})();\n",
       "</script>\n"
      ],
      "text/plain": [
       "GlyphRenderer(id='p1035', ...)"
      ]
     },
     "execution_count": 3,
     "metadata": {},
     "output_type": "execute_result"
    }
   ],
   "source": [
    "p = figure(width=400,height=400)\n",
    "p.circle(x, y, radius=radii, fill_color=colors, fill_alpha=0.6, line_color=None)"
   ]
  },
  {
   "cell_type": "code",
   "execution_count": 4,
   "metadata": {
    "scrolled": false,
    "slideshow": {
     "slide_type": "slide"
    }
   },
   "outputs": [
    {
     "data": {
      "text/html": [
       "\n",
       "  <div id=\"bc5efcfd-1ef0-4a40-ba68-b7be2e771281\" data-root-id=\"p1001\" style=\"display: contents;\"></div>\n"
      ]
     },
     "metadata": {},
     "output_type": "display_data"
    },
    {
     "data": {
      "application/javascript": [
       "(function(root) {\n",
       "  function embed_document(root) {\n",
       "  const docs_json = {\"90268967-295e-4380-8949-1dd519e7d24e\":{\"version\":\"3.3.0\",\"title\":\"Bokeh Application\",\"roots\":[{\"type\":\"object\",\"name\":\"Figure\",\"id\":\"p1001\",\"attributes\":{\"width\":400,\"height\":400,\"x_range\":{\"type\":\"object\",\"name\":\"DataRange1d\",\"id\":\"p1002\"},\"y_range\":{\"type\":\"object\",\"name\":\"DataRange1d\",\"id\":\"p1003\"},\"x_scale\":{\"type\":\"object\",\"name\":\"LinearScale\",\"id\":\"p1010\"},\"y_scale\":{\"type\":\"object\",\"name\":\"LinearScale\",\"id\":\"p1011\"},\"title\":{\"type\":\"object\",\"name\":\"Title\",\"id\":\"p1008\"},\"renderers\":[{\"type\":\"object\",\"name\":\"GlyphRenderer\",\"id\":\"p1035\",\"attributes\":{\"data_source\":{\"type\":\"object\",\"name\":\"ColumnDataSource\",\"id\":\"p1029\",\"attributes\":{\"selected\":{\"type\":\"object\",\"name\":\"Selection\",\"id\":\"p1030\",\"attributes\":{\"indices\":[],\"line_indices\":[]}},\"selection_policy\":{\"type\":\"object\",\"name\":\"UnionRenderers\",\"id\":\"p1031\"},\"data\":{\"type\":\"map\",\"entries\":[[\"radius\",{\"type\":\"ndarray\",\"array\":{\"type\":\"bytes\",\"data\":\"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\"},\"shape\":[4000],\"dtype\":\"float64\",\"order\":\"little\"}],[\"x\",{\"type\":\"ndarray\",\"array\":{\"type\":\"bytes\",\"data\":\"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\"},\"shape\":[4000],\"dtype\":\"float64\",\"order\":\"little\"}],[\"y\",{\"type\":\"ndarray\",\"array\":{\"type\":\"bytes\",\"data\":\"t+dfpS0kV0B2Y/4njCghQMbh9bUF+vo/qMilmQOjPkDxnOY2YC5QQIr6NFmsm1VAGmMKKaLmBkBvHkfLY/ZDQPbEMHUSOT1AaS1otwTMRECs10w5fjHkP+3g5whkxk5A9oBcfmMUVEAERDYblvhBQKddknfa1UJAuwyOABWmUUBjsfX1cY9XQHCxPkarbVVAO54zphN/Q0CFAfd2lgtVQMoh1saGqE1ANffq47XaU0DeSF+2feJHQL1LpwIduyBA6AKONLTBI0CZ5L0rHxpWQHXemawjHkpAweUhNzGyIUAoeYXWo/NDQBLyyRKvhC9AN+FP3b9yPUAa5lJiHUNWQPX8NT4qC1RARlr2QJZqV0DBcJtc2fBHQFDDsVOCjVRAo6adQ8GpT0CvxipP6DUPQAzYPykVTy9ASqzBkbCwN0DkOomkNspSQGsGWPjFmzVAELNBIvqaVkCN7diVHJZSQEbXslZ+hFZAx4hMTv0DWEDWi6AxC9pTQLunX/JGjFZArYIGccYIJUDE3oQSEnhQQNY31g3kRVhAPnI5IK97UkAwxPd67qZEQER9KUxNiFVARPQIKUvRRkD5/w7OOxhWQMO5gyTSJFZA+3MvaWrbL0Dyaw8emkVMQPEqVpC+v0VAp85TIgjRT0AfRTryEHtXQLKCKo4ujEFAnXxsoNFzOkBGZ0n2fRIxQOfrIQCWtzdA8U+WaFwpVED2KPKskm1PQKDh12j9X1hAhx+NJ+W0WEDLl2fGGCxXQEhGqIKvE1hApq0RERc+LkD9xdR/jpFIQOOanREtilhAGG5zAnOYWEC0aO9Kp8QOQDMB58RE81JAPEPK75CmEUB9B2yvev9FQHUfWQHnajVAaUaq22GHNEDRDlYySTYdQGK53BuZoTdAc8/ETsJPD0AwcFswENJRQM4ltofgFFdAtxuNovDmSECngYR/bpo0QDHquULCbE5A11ttUrynVUBV4VwAttRQQP7Ifh77XUdAxM0moTrmU0BIWYspT348QPmLG6R50lBA2nGLklakQkDzIZI5dBJKQLY4sbY1LVNA0Zf3l3lJTUAjsqAzgP0eQPugzJbL/ENAjTjyizJWUUBLuQEPTbY6QLrdd+SIxUJAyktRhyjyTUDNtn4rNjY4QPCAcbEofFdAcLrVjc4aPUB0e4niSME9QCG2nS3tjEhAVAozyhTnRUAT3tKv4IIzQPhsLVGF+jJAc8KjqoO3QUBYdo8itKFCQE9oi/tW90BABIS8gN/5QkDs9K9FQpIDQDLMJifJDDVAYe9g49T/TED+urztK0MoQGhT+GSQ/zhAO0AsTMQ7UEC6SweYau0uQAOVJ9w2ylBAAj2IDvwpR0DLWT55vaxYQD7yALpb5jhA2Fn13rKl2T/a4T3nv/EmQO1WecVN1xZA5szZWou/S0A8Xl5i009UQLnvoaZiWDNATG3linprV0D8OIxdahtRQCbmuWKUdUVAwmtcT2I8TECNbheWoxdUQIgjpW077hxAt/I7OJPeVkAibDd4qgsrQD5JTp5tHENAhwS1d1Y/PUBXt6d7KAtFQC09g/CPFVNArmVHlzjzSkCvndcWDq9RQK1jG0F3PkxAhvNHNsodNECGt+DCW9AqQLQ7SXpMQh9AXKcwjDEdRkDawIEuAnFUQEQpwq6OUVZAJ47V4xQhS0DGdGbHiKtWQKy+6Hp4dj5AGsysc1hqMUDHrvw+dCgyQLwaiosp8RtAZfHpfUKYV0B3QQM6gxVIQBZSKAdXEFdAUKlcRZzpV0CKaxlyVc4zQIqwaZ4Mi1ZAQDKmPwOMVkDFLl9fkTFSQG1YqcWOjVRAM8ai4VQ/VkCF96wltS1XQIh+9bJljxNAYuQeQOglEkAqfnc/cGM8QO5Z6bVdV0FAL7nflU3tV0Ac9R+JqspIQGjoAt8U61ZAGeED5hiuV0AlHb1RAvxVQHfjtJpZMx5AGD7Z0XCjI0BxlA1QDgk2QAXjUsXuVktATSViICooVkDc6d7PlVJTQM/j3eQY0FVA7WAYP2HFSkCi8pktPvhBQC2Vvtiks1hAGei0zdo1UkBNcZMn/uQzQMr70mH6UDpAceCNZlGsWEBjIuJkXLxJQJPN860qmlZA/o6adxNAV0CRp+HTyYdVQNbK1lDmvENAOTa6Ow9dR0CrZhx1ihNXQFvAFPMzzDBAVn5SVHbjRkCIhr5aq6NQQEkjAoZV11FAbJp72qUoT0BVqGPj5elCQJrbbm5qLwNAUux4bC9PWEA8RlDYjWkrQIqSicc8KkBAqXGt0T+pWECWJYw8sR9CQMdxkdax+zFAXvK48uA5SkD3uLf6uiBQQCucaTpalFFAUcaYTL1LLEDX+vhp/g5TQPlfUr/MGkdAcWdroMqsVUAdnS+xhOpHQIhg5aOUslhAoMojCz+bV0DqIQzEodVRQLSzKzKg4DFA+XCde7/HMEBMpKOMzd5DQIiiCWcB41FAawiakGJKUUBhr3kTtBVUQBNudKSjqVNAER/Jp6M7VECW1my8tKYtQPKQj+lLBFNAX9Hr358rTkBC0qtelFUQQP/a+jogiShAyjKoFnVAVkBIAspq7/0lQJN+qSU+5ElABADJvjygS0Aq6W5wcCRJQJR/FHoYylBAVmmTa5z1UEAsi3uzKn5QQMgMD1aRY1RARzpBZmVDR0Dgb9boMIzgP7Q6grzupUZAU9ey9ThLM0Brv+LmL1NQQJzXUTFwXVFA57of6GfhQ0Av1O4UbSVVQJ/4DC0t6FhAsCududsEUEBo1F5EgRpWQD0W3cN4tFhAbVrjM5TlNkDBW3b6ZaU/QJKq/V8d6T5AORrzH2O4MEAjFhm1mhwqQM/vyqFNOFRAAA/ZPWlrTkC85Pidubk5QDucy+w+O0BAtXk3VYhCUkARB7uXE6pCQHg+R2a+hVdAZ6ds9ELnUUA1gbtqg2FBQKAIay8qeVJA2PBJlWSePUBR8k45v+JUQF6TmGHSDRFAqNe/2rmEMUDQsDmQD6VTQGYVCS4p5ldAWuJc8xl9V0AWSQzdir5RQE2AY03S20FARD6u1rfyKkBut5tikaxOQOAhJGew51RAYyep4vwwQEDmyXNXpKBUQCzjfpthBe8/dHBwFfPSCkBk5UYmXqBQQK4DITNkzh9AzYrVmJWzSUDvGMFh14I3QOaJRNbOk1VAM+UiSo1sWEAQQmP61ucyQJ2j89awe0FANG+QPJ0gPECRnDuktIIuQMqe2MEOTFBALGsOpVZkSUDybwyT6I9XQNprKYaC1DhAGYJ9BwfSUkCIM+w1jDNJQCQcL3GfBuU/Xmvw7tsEQEDJ2YCcQKA0QLElmNDWslJAtvDIOYSCSEDsIs6XT9IwQC1CZsDSBFZA+4QR8B3ZR0AVUvpE9RxEQMeHpdCme1NAOTHYWzS6UED+B7UvULsaQBixqppZRVZAn/vaDgE/N0A0VE02bVBTQECLWbUYlc0/MsRCmYE1T0B/lfaIrX0+QD2xHWThpVNAQl3GePTCVkDoCebofwdUQGe1p1VWJEhAwnvK4rDYK0CJn8ti59pYQHyoufA6FENAUEwEdINIVEAtqxu5u+JUQPHP+uXdE1FAlsKoaQMCSkAO7VrCDAJCQKyHSCbcKFhAaEJtroZUU0Cacw+21ApTQCpuRrQycB9A58d8/LK5WEBtlBCJL64tQAtV8jNcdVNA0o6Jwk2VSUDtSBB/OXgKQHQo3v+lsVdAqybbhtVtVEAhaJwe2GVMQIoVeAKw70VAVFPdeXjg9j99LqZs6ANFQCKmzteoQERA9WO45qe7NkDSH1JK381WQB7wCspVR0hAwUvRXxOIQkB4v3U6xPdKQHNDl/mNDEZAoiznSF1O+T9O51CW/RVEQKhf3x9DK0dAwhdIBLthV0Cm4zGwP51WQJryzTUbolVArI0KCLxCWEDaYVmxHFJIQKs+rcTIIjpAMg+9c0KtV0AECipeXIxJQPBE78mH6ypAxh1JiSFOC0ATYIHndU1XQOhhAfeJhz1AdpbcA8g0+z+exxY21PdGQF72ywonFlNA6CRllYJZRkBKQNS7b5FQQPpNJfq1CklAiSfKcWwZVUAuQlogF1FOQMPBK98yoDxAVa4vxQoZRUBHNIuYwNkWQNAUQ/X560NAPFAbkh8ePUAI0cnWzB9RQOpycugvSUJAXzcdCs98SUARzpyGQpVAQIB7VeWBZkdA/kZ395bYLEBQMmm4BE5KQAzDj2ubAUBAmjvgUtntOkC/OBRZyZ1LQIL/lzfRfzJAJlm1i76WVECQsSMxZstWQDp6FOQbkFNArMRCzdUAVUBO+U0/r15SQBIyu70vdzJAUq4XUV8KUkCvl9I/5opTQKCCRMvanlVAFcvS6ajoV0BbRWROYqtWQHnpeGGSwg1AVT42DjKwTEAOkfqgZGhDQJbmqMBh1UlAXyW5eRByG0BeT9SMVEVMQCrGL9ttTRRA9iVw53svVkBzW8q4kCAvQBN1iWHDbkxA0aXj0HUUMUBgrjDhD7VUQNTUQXHF0yJAGDOqrj42SEDeiTU0tvMzQI47p3tLrUBACSw2aLVlUEA2JLBLB8FAQMMZu3Wy3FRAlDp7gZnaCkBP02+f47tXQGijmpioRlJAFzIOmBrJV0D6WDl5ebwsQJqTwmp0kFdARZ1dou/oVkBuAJoZfclVQEsimtv4eARAH+9sVaGxR0B4QRo5XpJJQDwkmbiY2EJARVy2oz5qTkC8cAKNrVdRQF0Bhil3cU9AnEfReYyHSEAjHJ/ZjoZUQO+1IRZMK0hAOHgTFkGuU0CWhAYI9vASQBgBvu5nqkJABi54+TSvSUDrF4ROZuRRQKwXUXV6pU5AVOEJW+0DSEDsluB3Q50lQKDD6ojwiElAQXH54b5cUUDKhoNQATBKQJ2Ps6lgjzhA7I0Gs4igQUDOkxTKPHc4QOS37entxjRAe+ORrqwZVEAWlNVwXwsrQLgEVAdYA0dAWwhBMxJODUDMqSZ93b1QQOzbqii1zDVAc4IR7XPETUDafaeqwCxLQOoqru2hyElAz4/K+KWcQkDcuUAYi4pEQMv+Xi7qj1JABKi1pUV7VEB6BfttdDMaQJejzXtQ7CdA6KQLUIGiU0ANoxn35F8sQKa6BTGgkklAMNTY8WUhVkBVuW7GdgxDQAD+r/JOnkFAM0ZSd5iXPUCwVSiXOp09QOxnx9W6bEVAhWACKfHQQEBRTj0FkbtUQI6aOWKkSzRADF4YGDhlO0Di6dTGz41FQDd3/b58SlBAifbgVYybMEC9LayA3fpAQPEAsr0KI05ANEGYX4/9TUDrAzNGPpg6QHAZ3zFHbPE/xYnlAiRhRkBsk0ioUkszQNwFCn595yxANtsf0RxBQ0C934Pazkc3QBXdoCHbp1JAxf2lVz7BQkCy53hjq81QQBfM33OeGzBAmBjlGJ1XUUDTrTH6nuhUQNctuKBsA1NA3/I7km+nT0CgDwpAHNBTQCEmdhP+lUBAZZAjR23UVkBICsuhwjQCQJ+6syWn9i9AXwZ4vTPUU0Ch3RTkwspAQNRz6hNeBVJARF0PoUTEV0BZ+54TgTVFQIknb34fYkxAB9hyTI3XV0ADvy7UJq8/QOdtYFYwUVVAeSBwyiGXTEAM8Rqljvo7QJ4nm7IQB0NAWp9ZTY88UUAnJRKDRiQTQOpNzl7sMC9AScMeI3mqVUBwu+/XOjxQQJnPMIZ+VjVA8DA7bFmUWEDUbcbudiNXQHEUS/mzwDZAftCB0bP3TUCVspUIixdXQMgFDBuJO1VASDkNeIwLUEDJyUS+1SM4QDMYOZCE+FdAjO0ZA3iYRECZAUfZCL1WQP54m5JNLDFAqMpRftAoUUBWOe1Nz+E0QBp9vhtjjDBAkJ5yQ1wnMkCNCzyvGgFHQNRGnf7Mc1BAFN8/1XLZPUBCt/togABKQNc7trcTQUZAnenTQolMSkAlurOLUsMbQAqykoI4oFBAQi5KFBncNkBsNctUOZ9IQFoxxNB8s1ZAUgkgDKWaUEA0gSWycyv/Pz015mnROlJAj/HElCUYVkDxhVxCNHNQQKKB1fIsq1dA9o+gd8zZWEBIVZm+8o9RQMV/F859TiRA6tJ0uqNIU0AsP3oxOTBSQD8m6wM5FTFABSBHob7LQkCliilch/oyQKhGpa3b/EJAbjFz5jjFUkDzeDw7fTtYQGIAoD9CAhBACgIzQR0wUkBu+tJtUbNQQADTFCciHjBA0FnvVSCzKkDXwlNgolNWQNJyWJSi10JAdYkpY+QCUUDE9Qk9skU/QCxgZPMCq1hA7sAyFd7fJUDcHGUSowj2P73WclgwSFhAcJW5VPmT0z82gbHIecE5QGHC1cBoA1ZAMDuLkhUCVECh234DQDhJQHWP5suyOUdAOsKFEPcxM0C630L1EBU1QKgU/RNywU5AXCyCYJF/QkAQiuyOh/VHQF+o/ikAGElAnTbK20BGRUBaqjCRlY1CQOxZxTyaAFZALcywlX3vUEB2qRAgaqxHQGXsyNrHj1VAhFu+FuGKREBtFZ7BSFZWQCcSzEWqzkZAGE7lS08LJkCgCqTcQCdAQCBKYTBtWDxA0MfVLZLLQkB3VFm85vAkQMZIXMREKyVAJzhW3Z4yUEC2afnDMxMxQI+BLe7BLFBAnZyLa6P2REDIlZBq5/tMQMzzVYMXwE5AAya4NnwxSUBOInRsgZ5UQJOsx6kC61FAQ8FJcnFSPUAYiHb6ID1XQPf0mE45aEdAXXg8/IsoUEAHKMUGmw5VQIy31cIv0VVA8kwFlDkeQ0B9FP9AWztDQDPLsH9o70tAbZMPLtX6UkAiYH7R4fhWQG1SLhdm2DRA9Fb9J1/cQUDbnil9WwVAQD4sQ8NSQElAsSe/u9b2Q0DCVmHECzlSQLxdb0/3riJA95pdha2ROkAdthmSm+hSQORkoScVWz9A/IHBZnhWNkCG6FYcFhhBQK/4COUx2VZAuBFF8HgVUUBEzUfKl0lWQIa6w7EriDpAoEnbtsooLUAFaPVsRHgqQABLopOWGVBAlARJTdpcNUAsBJiPRfE1QEFp0c2kcU5AzkRFnsV5U0DnskN875FWQLED91+dDlZAoN0unph/M0DmPzYjYxhRQCIlXYVZaUZAKEXisICH4D9biM3AcSlNQKDTisFeR0BA8DoakVsGP0Bn7fllT/hSQJ8t/WsmwERAmzLeZXFvUkBSjBncw65EQCYPhsU+C05ApJ4GEGnxFECoo1a2Ny4WQAFbD+k6tlFAOIGDE707UkApD8dwekVVQJ/RA72DvFRAT+rbjRchUUD7JWtAtV5QQMQOdNyTakhAUVB+8swqSEDLaR7nBrtQQAtuaABdsUBA+LAe5rM7MUBWAxDHOuJWQHZRSv4/5lFAuWWYwNsZVUBBAz+9znsVQG+8K6/Ns01AaxuI5M4LKUDpni2GAhNQQNhRSvRWL01AoYCNTUwRGUAnr7vagUdDQCi4DisGkFJAifzdn4snS0AN0Osbx9g/QNP7xZ9YzlVAycKhDRPsO0CSJvzEVjtYQGrl2YLgEihAp98LpBtISUDPdfLSi+RUQIwnZZFnwylAAQJvKOpcVkCU44uDoIRSQNLNHEZO609Avsmjl2mNS0AkP4oUbS1VQJitZxuvMT5AeUrbZKBRVEBc00z3T6Q8QMC5HEwo7VRAg3CJDaz9UUCkPRuK+rc0QA8XSvG55FJAk+G4kgJuUEA9Pyw590BIQNkKQGtmHkdAfgmaUcSzUkDx3t5ia8tSQH8boOwC3VZAnCBggtewUUAWwz3M7Sg5QG6gxQLqhjBAQMfgs3KlWEAZ4wW6STc5QD8KO+FTYFhA4jJwZhtSPkCyP5KrLiQJQG1ckPdmlEhAwoI0ZyJETkBosLH5RLFUQLjsutWdUktAJxkisUiSUkDBQAQjfNRKQPQ8iKJI/1hAIKXpU0NDTUDu3DWNYlNTQPT4vu9ldENAx87PFTgoVUCsnF0DTbdCQK6ZmILplldAzfX9z6GJKkDXEW+0SOlUQKiyjs9qeFJApJlff5kZTkAX9h1/7cNRQJh5MHeCxRdABCQFaWYbSkBkl4P8m5tKQKs+vzFlTFFAmpyT5jSDREC3iwb8IhM9QHkk3FcoqzxASWiErLqIJkDK2FXRXTJGQLlOGKZh30tAWeeurBVPA0D2bozBqGtKQEDdaKKBCFdAwAn/ZgWoVkCoAI4O1pA+QOOMCRgjuVdAM6W+9OiiUkCSYZTIxpE4QC5IZq2o4lJAE1x44746NkC0Knnw9CUdQFWsvD7NAkNAz2v5AOopNUBc5Th9aIRNQK7sXLmhuEtAfEJdDdqmPEC/8PkFhB1SQBoIbxPNCkNAYTyYHYmJTUDB2n9E3W1XQAbUkjtMFlBAAlzzNZZiAUDwXXkynjE1QKOeNBkDb1dAJtetRKoVV0Df32+oYxIhQN7xYSd4kE5AQyRD0osgTUDTJB0NHllVQHzoaWaL01FAKyNEoLG0RUCRLvBLkPtRQHFtIpkMdVBAdcz857XfSkC5bHl7VlIxQKstQ605rVRAPHe9I1wuRUB2qKN2i3c+QDHMJmyggAxAxOUOoXTsTkBsMEtLJIZEQC8oxdtuTTJAa8VYwvLXM0DdTuARtzI1QEAow0gYalZAlMmUwx8UIkA8IZTiTr1NQMTG7ZeZoVdARc+B+TPVSUC1Spm4G0JKQKRLGvEH7xBAsbtl92SJUEDjhHEb4BFSQBOD11v7hUtAvOgAP/5AJEDb6dn+8e9NQE5DumWpOUBAVLz+d+A8S0AXfQvxUUdVQE22CXNdhjFA16vmGs7eV0Cy6AS7VzNWQKaO/hW8+DlAXvr6Vz/wV0DAgcasUTBWQADxIXXEgVdA1I5lzyZ+UUBL65PUJBdXQAD+se7Hc05AKrknZXvqUkAkiZo5R9Y5QPw8G7SUI+w/Wkk1FTi3KEBByKkWuOtCQORmiQsLZidAguNHvdTN8D+2fSumi/QTQPqKgVHGHFZAKfFeox5DWEAFeTdphwg2QGSbGDqyzO8/fJRCCC2ERUBxvbx31bRPQMKfER6fIFhA2fQF6igWI0DFFCnQQDVRQCl2xKM/1VhAOExxUjVRMkBiFS87ZVhXQKuZOqHL9wtA/g/K5hJsHkDg9TLM/cNJQNhBt3MrRhpAlPZNMLpGTECUh4l0HT4CQGRBWBDYHvQ/iiyBoKW6LUAiW/AYaNVBQAHp/uI1X0lAY1kX1ZdrQkA9OicFTi42QGF5QZtFnlRAVFgHF7CLVEDwyR9LqO5PQL/ovY2Rz0JAqHCO/i4/MEAASRJZ5qtYQC6aknb6d1VATduyzK3vV0CA3WYo3bVNQGKRm+lQm09AazODD2PcRUCQt1J4kNBVQDwWstSRLRpA0Kjy96uGFEDyeaKIhxMjQOtrwv/mjkVAGcuE1cx3OUAHka2JNsVCQBgJdOq52FNAf/EUuTlnV0DxLVws8YNXQOnB/kwuUUBAGJepoj+SO0Cdhhq/LslWQH4KLEtAif0/OWDVMUZKIUBtFQCt8opAQDltWvMZPzVAgwPeLh9vMUALne74MWs4QEzOOjELLFFAAhMIdWVfT0Cf0tR8an9WQKeuYCa6iz9AR9o+xO/fSECfGpjRLh08QJn+XDtE209AbFm9R5n2O0BORwMboQ1NQB6UllBpXkpAMA6ZqYqsVUCTStgOy8QqQMQnW+cdOx5AAkYFJjWyTUBWOSpr/dQ0QO0Ypv6yckFA/CtN4daiC0AZrYlej8hLQLb1QWScNkhANOklGBeaQkAwjMRBLV8mQOoqJwiRShlAOSQT/I0tWEBq8axTnxnzP7F5fj/fqz1AwuFwkYNKNEB5s7YiOiRTQPNELwW+rVNA83NURO/3JEDTXlUvPB1FQLLyOW6HoEhAyk1fSdS9JkDcy9QTY81FQOKvqgCA3FNATstchxnaVkCzjBpKyMpEQC41/APuwzNA/j+E02SaWEA0g9i8aM9JQGiT0IQuYUNAt4FKJEx5H0DR2OfIB/BYQC/yNBfrbyBAUPDZr7thKEDf/gazyidYQE0BGFyC5FRAWME8ual4RUCTH855c81EQJWrjJu0+RVA/2IvBXK6VUCsQjat/5gmQNogHe5AiShAT+Qx3nB/AkAxHoG0aThXQJTghn/nwxxASUapHJwIWEAuVlQxpKpQQA6vwB1gU1dAqPu2Z47/8z85JL+zxg5UQPR54jwI61JAxOj3x9SjQkDBm+fl/j1WQCpRu2eMnE1AWYiPLnzbTkCAu4FdKWtCQOH9JoQWtUtAZZosltmlQ0CPi1Av4GxXQKTlf2kNvxBA2/k/7s4CU0CkAABbbfFJQKmjGiMHBUNAX4ka77m2REDnzl9WlYNQQEOc4Y5XiTFAfUwvlFglHUBcR+hV8JkzQFiakWb0DFBA4Y5Biu8EU0DSqGCzXek2QAg8OPzpVEZAnNmyo8GsJ0BBQRzLbmlIQMF6r+x23E1A/eFNknxuCUBcM++HFStVQEb46/lhLjFAU12U44RiRUBnEtJ0c4ZVQDksC4oQahJAusfFGCAUPEBgoWUA2Zc5QLahTpbvJkBAHZLwBQCKVEAEH/w3teYTQEblGKe7T0NAE3pbJUIiVECUO3t4TulWQCwttfZPo1NAiVT2yfsQV0D+TAU+f6NQQIBD9R0m5yZAEo0jlxaGQUCutKcQ0iVEQB7oP9zb7VRA+aCxi2iEVECwKBtR5bYZQI4N64XzoFRAi1sZE2ggVkCZEKyFhN4LQGsw5rH8yDVABa1PTbp2WEDi9Q3QtpkCQJUoIRTdEU9AywTHDIgbUkBWSeQoE3FQQG5XzD+3NFJA5pxjfVg1T0CKDYhHtL5MQNgL6cpqHDdA5JQK+vD4U0BzjS1+Dqw7QAsd7kpH0kZAHFP7cGrDVUA24hO6+kBXQAyntdzzNlZArvF5SOkfP0BZgzhR/iBUQGH8yHt0wDVAc39jhJyGC0ATxj15lNJYQKUlZrRqslJAb0dVPoivVUDNuIvzV25UQF36XuYOLVNA6oFchKTHKEBwOvgXeXZYQN6x6wy07D9AjpOxBOzwVkBKV/P+XrY9QOTXKNBUB1BAaEXZXfdiWEDBW2ANHMlBQJcbkPwitk5AwEU5flOsVEDKgwNS8sRFQJ1K5qx/LDtAIKh0Dq36IUAmSm+J659UQK9JbjCX9ldAIjnCiPu5MUCmNbpkbtdCQG/eEvDzIjVAuxYTJTKDHUBWuNNAydA0QBPuzgLeLVZALU7hNqVKT0Aujdr2ATkiQKzGD1SiGE5A2eFbo4oDVkC0w71nMeZIQJ2UE8fDBzVAJOVKSs9IM0BTTO4LBiESQJw9L0uJ+FZADA2fpamxFEB5jqbEejA/QBZ8c1ZTIlZAAHba3yHSM0CmK99ll5lRQIicm1Tij1VArrDZOIZoSECaHtBrzO86QOPuyui4UFVA1nzJSRNBSEDgFVJQSlIUQK+60KNMzVBAgNu8S9hVGkD0fkUz7WxXQIDMIXhu9FZAtvo9PJXmRUAo3EjKcu8yQLAmx4nWgzxAxzeXwSlvSkCZoFqDRYg3QPXyo7l/8FVAAdPrRU48VECbW+rjmWkZQOG2UEQZNRtAc3Qdbs0CQkCMjN7ZKv9OQP7TpwLAjE9ATjzkjhRMM0D74u5GPt0mQHH3WzSqUVhAA3ihyPDXSkDHgZ05VWVIQNzLZ12ARUxAYBXM59HSPkDieGXaDdZBQIOr7xjACiZAqqZLf706GUCu/7ONuC5UQLPIJ9vAX0hAelsq6jPyQkDpFy5KpFZKQKOa3ZHlllhA2MRGOJ+TGEBUrJ0nWWk5QJ3lBy3ilEhAtZ0ZZ0l0R0CurhYhYpw1QI9prXpoezxA9LTO2sbUMUBmol9xL2ZAQM3ellmjx0lAWlko5NOWRkA7zc7PI1dCQE7GqMnymjBAy95lsn5AUkBBw9GdQx5DQBbnK45XfFJA4D+xg6fRWEDyWb0aU0oLQFVBoFTsUkhAeLsvHR48UEDdPwJ3ets3QOrJ3M0meERA5A44vW3XQ0D8lCuc9thDQOaI08gymEhAXI5YpHQxRkDqCai63QBSQJABIETRFStAgsY8R3FgS0CtjpivwxQnQG/TxX0SejlAYS/X0571VkAX5V2CvUBUQH5p0Wq87VVAATZYr/P4VUCBT32/SftWQDX3kzbOJElAxw9B3JG+QEBnclNAxAJPQNtdUSJsw1FABx6L7TKzVED69d4fsl1JQCeIbmLevTlAlxIxSak2Q0DO5Ny9fV9TQPLoZem+HktAgxMphXHMLkAVCZgJBz44QACwId/rw09A97Rf01gnUEBoddp5o9ZKQEVVgYvRG0RAIUHzXQvjTkCEkgz4uT9NQFc6HIPoXT1AFLbyfZ/nT0DOlHhQ+s0nQCL0MLKqP1FALRb8RM24WEDyoKsDVR1YQGbde0c+R0JA7JmdzWMvJ0BGUx/Fb1MpQAJDBM1Z8h9AN1H5Ql0WQkDXP67fmaQzQFP6+OpKTVhACbm6KcHbN0BdzZgfhDo1QOVdF2m5fVRAJAWPIGKTUEANVocXgFlVQOqlWBlOYEhANEQaFf8sGECAT9SP7eRWQDLz7ToJUUlAWnsJ77NjUkA0Akq42oknQLks9+tavk1AS9e7O5eJSkA7zaiq4MJVQBxHXBHRjSVAl8lCpSd+V0A01UWpf2xUQMmxahst6T9AH4rZdpjsNkBVELY3bQRNQBGG8ZyZX01A6aSprxSrVECyIuOqOTsyQBvw8du2rDtA4Qm67FxzSUBgUmkYqRhDQESQcZusrC1AB0ORZhm7T0BZHaNGztlWQOpBbAjsokVArDgfmi3NV0AXSacy3alWQL9CXUT8mkpAZU7wxIJ4LkBIUy+OKhlTQIopp0V0thhAUECWn8UvQ0CYcWqc3eDsPwwslPPjNVVAaldov2W1UkCBCQXsBupFQMgogLe4xVhAHwBgHDCFUEDpbdZe4I5DQPfXn84SAVhAi81bEjDGSkCBEeCiQChFQOrKMw0eCE5A0GN/iw0nSkCEt608ip8JQA7Buo05LyZAMYYI1YdjMkCOPvipJq1JQLHmnFvJZFdAkWLT3Y4YVkDFHoZaM4JRQFy/scj98ztAuNbWXnfRQED1xjB27HMvQGA79hVeklhAPOqHG39RVUAIpWPEBgFEQJV0a/SgtlFABDK9hMB0NkCEpObYSiY7QLu4QtbXTlZASRkCI3uaIkCVlFot7QZFQP/62vgQrT9AI+2vB405V0Akxm/nSZhVQP01lbO35EFA8+QUPfRZV0COzTCDWQklQPDky+AVCi1AHtwqDDyfI0DqRWARyN8TQNH6UKG+VyNA4Tehrx9QUUC8LmCxFqE4QKUAC+e0dzhAAB9/wwxDT0Co7Wp8Br5TQECYXnJJOEJA2gi+OWX9V0Dj6x0JRwJSQASOwtqrXFBAwLgsVCIgP0AvbVfYattMQO52gKDWGC1AYaVr4nsvR0BCF/qbR5VNQDbp3w8iLDhAf6/RPdmIQkDQ21EzNpFQQN4zjZpur1dAQa2rBD28R0AwzhSECXM+QBPuUS7O2k5A/tziX/cpSUAw0OQ3AxctQOYwNnjiAUdAStjwRVU2R0A9PeD0BXUCQG5oePJuURJAW+zplg0OS0ACeXMyfppTQIafniCb/FFAuEocOwZ6SUBM8vwM98dIQM44xKnSDzVAjaYDUXl8R0BozSlEJZhWQH7mM1OB4UxAcCNGICS2wj/+r4TZfpw1QETZCvlXoDJAtuETvmQeVUClQS7pVPJGQEHO1BBmKyZAjZC5P0rqPkDqH+sB7gtUQKhCX630PFZAZ0wdSqP2Q0CrtUAB5eVXQN+a628iQUJAAI4o142gWECjy2FsrXhYQCsauxJHMyJAZsnSnXNlTED41ZPoGzBWQEK3iS73fFhAEC/vgPz2UkAMpdEww4NQQOjjt2ISFTZAkG1RwwTPOECntstCd9k/QC5lYSNGAFZA6Y88T7N+GUB8j+i1twYSQEf2wPS23U5Adnvei0IeOkDKYmzqfnhTQJw4XE/ugjVAfWtWuIcUQEBj8ncoXxBVQHJ/vu13qStAeF0T9KmbHkAPz76+2r5WQIl1BWwPBTJAVVl/nak5V0C9UiIWx4BEQEUduu256hlAFE9OtDAfRUAjMNjG3ARSQD+vMsUXKDBAiiYDvP8PRkAs+keHqjREQJuM9kTP601A/10P2r98QEA4dBjMrUBWQHwD17AuGBlAVMimmELrPUAB0PLcNsMwQMujjJqgkDJAxg6kb2OsTEAKxqEqmGlDQLcyxgIWQT1Aaxpku8/9NED8nKg06xBJQClY/KY/mVRApJd58YgCWECyCbKQWT5BQPcklXVba1JAwubRoZpUR0DQjdO7qfXjP4PmtIFmTExA9k/vvPy3UUDn9007q0BQQIJI90C6gR1Amo8oXVOB9z/mRE6sJKYzQKamNINe8kBAY6t+2URlU0BGJDBn9wtXQHesSlt8/gBAKuP4F3YJRUDLnOaMnLZXQBpKFJyMqTNANz8XemrIPkDfp8lY8CosQBA8pEgCSxNAmGP0iAY+PEAOv+2mwW8XQNk8FxfZgFVApMXlrVa6KUBR0bopbHpEQH6lrVDahiRAfzhE/0Q3RkCyEt9yCPQpQEHmLZjPCUNAN9tTgLAbQUAMXL1b5XBMQJMQ+wYsOz9AvpCkXiGqCUCP7DiyCQtWQBW9zJr/EDhAxET9VhREQECWaHRS9IMxQJFWW05BNFBAVvAnGDpHOUBOLizpQLFWQNzKJPFouU9APgQ2YA8CUEBCtPyIxfJMQN7j0gNjaR9AASkqf6MtQUC0QNjSUddQQCizk8ON1UFA5dQyaG9USkCY8vyY/dhQQJgKf1YipAtAp2RGJ0sxPUAGPtYoaBZVQIjugrN1wFBA+/aDGbLnF0BvyPxfQR9LQI4jwL+Iz0hAk5GB/LisEEBj/QUegiZSQN/c6CniIDBArSM2eAR9SUBTzkxvjgdAQIkifRImP0dA47SiAvXmVUCg5OSQqhJHQJYSXmLxBlBAgHneeOV5NEAQFpiAetcsQAV+g1H42ElAHv8GpjsyU0COWpz7NBxHQDNMKEVK/0VAWYGfUYBjPUAv3Kh0rWEwQDEta4eH0UlAt4uEKsNqQUDG33G7NwJSQE11+2WTxEpAdp174oX18j94o4yBZO1XQH11Evv1sQtA6kD+fG0+VUAzlOBLw241QIeKJWE3o1JAmn8wkNNHK0DS/5p+l9H0P44j9Mm/sFBAcGYZbXkcVUBmvifiQC1TQIq8xpzcGlJA1l90RzL2JEDZdGj9flhTQK2ahqQdklBAiocwls+3WEBGSgAhUaw4QGlo1Oc06E1AuhajkiBLO0D+85LcPjdCQGjUeYIxBTRAw9KdYPnRQECKrd01GsBLQMz6XRAMCj1AMDYk2swJI0DY00BCqCZWQGaUtb0/cSBAN8Rs7hHqQUC+lkqVa+5DQEx1k30+/BNAYMeDve7tOEAtipA3sZ1IQKcCrduQe0pAta8xXoBpSUAHfxgZF9Q5QFZnT18SA01Aq3vooLbNQkASDlzef6NTQEBBD6Jy309A5mQx4Ob+KUABTGT2Uq82QN/ysuNVLldAZP3dcCEbVkDZOuTzL7VOQAi4xHlg/9k/Ve7LQOPuQkD+btLyMaouQHIftpeb1RFA+v2jE3tZVUD6KgDhiu9UQDLQ0XLoJlZArmaMFT+8U0CGnf+wtFQkQAAmMi1Edro/RR1qXIRKUkDtz4koY8ZEQPg5erdlqCZAAEDb3aAdVUCfVIgT3PpSQA4BoJLXPUhAyGM9jZfQR0AWE3WXtwNHQB0QNYdEXVZATFrj8lPhVEDQR0MwKHglQCU06zi48U1AQGQXwxzyEkBhSdxzaBJSQPg+N3Bt5FhA6U5E37I5B0DUN6mKjuQ6QGV+AFgN+0RAcga19jo4S0AdjutAb7hTQN3oZMGyijZAQGL7i0rEB0DFjsZQipVAQMCEWpb9PFhA4lNczrUROkBMQykfkBMWQBF0uLh0DURAJ9dPWztcQEC1rMErBiwrQK73Pw4vnvY/L4tFivbPQUBakF3yv+1CQGH1zWZv7UlA2P6A6vJYNkDTEOa7qzNGQAqxn5NRCyFAvs8BFD4EGkBsBKjJTh7/PwX0HsCYnS5AoAEqCEBFPED7gTOCZphXQJTsf3uT1VBAdRNlEbdZUkDgezlRVthTQAyB8mDXClRAkSz1GLlTSUCItpu5S8j2P/9mDPqDsB1AeiHDcK7kUED/G0ZdZNU8QEGRspgZI1JAwqjl2lbnVUAyb7X/kV5FQHbqoPgsDVZAfsErC6QLK0CpAD/Y/PNRQGOQW40kO0ZApUqSL/hGTkCGx835vlgxQNQe8eQJ6FJAKXMRWN6LUkCEchqzV91SQBMLHQut90ZAoMMiPsqQMEA1z5lUaV1AQAEfX2YahFRA6Lb6DIbI5D8GCKGu/OZWQADJfvGtTU9AMXeIaYHITECItSwT+yVUQHplXQKTgDNAHBHd+8T+UUCBBBmQihY2QBdnzjl6QjhAM0E70AXsU0BfL9+ssBhLQD+5xFR39k1AZj/AAySEOkC3YoANdQNSQJrB35+Vig1AokMmiTMoU0BYUYH1B7M9QC01SthkylZAAG1nXn2MUUCY55ZoaWJTQBmw4KdD1VdAavxHuBoLG0Au3oUzjHEhQCcCjiky/gFAm8YyHSs0VUAUbm+/dOFSQBHfTXmfeFFAy6XrSR6FUUBO6ibYX6hKQDRqMC66fVNAc7CPKZ28WECE+AdrPB8qQHn4EWP3hEVABxN3LmhVVUBIFgq7E084QBFd2rJLykxAfL4g5oTNU0CpXHDe2tFVQLlUlZkNLUNAmGAww3ROUkDZT/SP8hs5QENzKwAtr09A1S3PAg/xQEDt5S53idBTQAqnT08EtlNABO74BaAgQUDxYFnTyppXQCtk7GXG6B5AnBxxlgB4U0B1Of0AwHpFQL9W1daIa05AIMI0Sc+WV0BAmV50b9JQQP2RQM/Q4TFAnIW0SlQSSUDEZFnarPkjQCWbnJXTaVVAd0VlJ1J8VEBZOxZ4BDBCQHY0MGobuhpAmMUayGqSSUDjPRigL4FDQAkNBvyRA1JA70z0MZJUSkANuBZTmg1PQKCZYCsyllJAdeR9euRdN0B8vmhQY65TQMvThewYMFhAzAX7or6TV0BKzyj3LPVFQMpbO1H9sjlACi9UsLPQVkBBVRIROHdCQIS+ngOL6lFAB3B7pacJUUCx3ghZ64JIQMa5z7zgOEdALbw8nvmqVkA8Jn77cg5NQCgx/fTYQVhAz6jCFDPmQUA8P/t9RYAbQFLnt835sU1ARHjj4r1LUECplBSJVyxXQG8K4H8QB0VAy/MHsuuPD0DYOKj06+tGQNLJvv8MUQpAUSU4C4qRQEByqSXmHtw2QP5RS1c1yC9AMSpYhHc0UUCissIGZYRQQPHp7XPWaE9AxIMRGipUUkA5SmHql8ZRQKju2Te/yh1A4bPm0CXZLkBhfkJd6HI3QOpjZUsfylJAkBfndzQSUUDuHtcKeMwjQA9C3XfKkFRATeALBJ8vIkB+Wg959ogsQNqGv+xV/y9AxJEvV2FIQUDL6/Q1nhIpQL4XS4OLVEZANsjRDt0dUEDI5rBWNRVUQIC7bHFikldANFMVXo6JR0CmPaTT/RlXQO5HpXHENh5ATDPr9x1yQUAL74Pi6ItQQIvU1/SncE1ABPPUXexsNUBc5l13wJcuQLppI+RGQVBAFAvOl9XaUUApWOKKUN1UQPRJujvE4TpAKQm9V/FsOkC7tWXpCc1IQBaisCQS0ipA66yWVfnTUUDJmSHsxR5JQEwejERs/lBAOYRyzUITVkBjWVjlnY03QCKfwQr59zpA3JEZDN3UMUDH/u2ewwVDQJvAfyVV60VA8Ed8UiVRV0C4mv10w53lP8xOmFG9K0NA0x9cwU9YSUAKc/5/EXBRQJdq3s4V30FAVtuIJHePQ0B9OsSsynNEQDZU32ZIx0ZAHhf7CoFgU0BeTZ3ziKIxQIPcmisfMT9AeOLsHVaIT0BS1ZhYG3xTQO0F6ShPtVdAr5EMp7K+U0CW8OwUhmoNQHvttjLMm09AzIbThALsVkAptuprxaMrQKKRw8AX2itAsARvvEpBT0As9ti/EDNRQL/098TXh0RA3GDO8i11NEBks12jTppWQOrPOatdX1VA1jDp/MrOQEC9szKnC8hWQIY8uJVgvU5A5hAhl602PUAqBeCZdxI7QCSK2CWcuUFA2dWd4t7nSUAEunVFJtdWQK+TJ7QzM1hAYlpp8okfM0BvkqTk3aBYQKI/EBlMzhRAJnn4tVhTLEAUtC39Hw4/QOydIRAjHihAzqqtXoJaQ0CQhTm0CYI2QPfk+thInldAF+oAJM2+R0AfcdBRsYhBQIssksB7lDdAYqqtAnS0SUAKL/fgGIYIQCPKTjKHUE5A3SRUzjUqQUBOdpa74z1WQKf5D+SgklhACTFDevTbO0AyXLV3Ni9JQPNfcpfV0yNAvhUMXMj0PUDyZBQ3LzQ3QMc2Rh5TwUxAShySIHU+SEA5WuixYNlRQOitwRrNrCNArjEnb7L8OUDc/Dd7ZrMxQMN0RnpoAFZAkAGF1h2MUECDY8FhflRRQDpuPbeu6hRA8R626fhjNEAw+SomfRE9QN1q7V2QtlRADKnh0ZETVkA467NIDOU0QCBC19xKCFFAvMFWuwx+B0AC/B7Dg3QpQCwshhOKzjVA5jaC8QbAV0B3gm9olKxOQGUx9ymSFT9ACFXWev38Q0CpiNFpZbcmQBiZy4XmVE1ACTbWWQjmSUDdyrLMRb5SQN6g6xhzRRFAmFRIudbYREDeAccExGVXQJ+/RvVSZzBAOTjQ9kerV0C0RYlDyvIxQNwxmQQ4E0pAXw1tRl+HVUC0/seWV1lGQKiVcS4IJFNAo0hWiZ/iRkDDAO5mayxXQEYvfiTyolBAc3IZoR0/UkC+H/c8/FZWQMaQBdtuLFhAzCuJLmSHQUDcGTA49NhPQHB6hken/09AfELfI394VEAAGwtj27JMQI9a1C5FHUFAzOcpkeKKUUAx/t7IxKlWQFBz2Is7WFJAQJo3q8XLGEDiDc5Zbcw1QBkmVaXqqFVADjgn3QaOP0C8wYKEsXhHQMmabWm9FU9AfJ9JXPgeRUD77hGWb0tCQHKfALEsUDFAivtMQttoL0Dm4zJQwpI9QKzstd2fnFdAuBgxmdexOkDKASO+zvpQQCL3wLZBh0JAwqPeWVuOOkC8vXvLQMVQQLyoj6kQZkRA10cI2mdFVEA8whDd9Z1FQNNBiAFHMFdAKUyfsAMAVECURwXAB25VQNU00wI3ilZAUzVUsSlZREDc2MeWHHc3QC8gWpR7hlFAu3LTEwVuU0C3u8sWds9PQN9NKWVKEFRACBGH1twsPkDsNglejxwpQDHxHIA6OVVAj3ZkuXyWRUCNAA0WYXVIQMTIh1RtAEhAuFkW+t2oHEC7Svzi7vsmQMugdwc/N0dABTBH9WO3UEAiNk2xfgxBQCsPMn5BHFdAvH7CBL59LkCy3hsSxxI0QIRIX9RVlkFAazRhSF/+R0BZH5VuWspVQGU/a25pYBJATSc+J1pqUUBDkyI/sP9EQD7Y/qHO0i5Akv5csXxlVUAZp5GxykVCQPC2ElwZG01AK9VtBAYKSEDkX1zt77FMQKBIWV2YjVRA5LVmBhL0RUDt4HL4LRVWQGRqphaD6idAECcQbegETEDegjLAWQAlQO2ouGSr+kxAVB+aEdPPU0C9YwWYujEqQG0rw1FH8FdA/N4Tkj9PV0B7SVnnTzVWQPJUpr9o31VA2MvbTVSBJkDx/v+kztZYQPSvUU+aWUJAbteaeyjXPkAd9T4OD0RMQLukGaefHFJA89hpDl0xP0BYH4WeaAlDQF3ke80RHVBAMFC61Fc/yD8nDXTq/BZTQHOVohg2/1FAC+lgx5E4SkBVKJLdwAlLQExrGMXQg0VAGYedv3dAKECMZwgUCw/3P7eM6TVIZkhAI8CTSPmUUkA/HRtIXqxVQC7FB6X8NzJAYnHGpMQyPEDBGXeOte5KQHA+IhAWxfE/8FwPmSKdQUDK8Ck9MjVFQEIhG/fGp1BA8vuDmZC8REDnCnw22Y9UQD6E/z8NyldA/4YjfreEO0D8nzfi8o5IQFbj5UTJeURAUrxSJ/CtUUConvjaSldCQMX5vOyNg0ZANJPh0lrJVEBixPYBxeNXQHAixHzLv0ZAIrCjMeJEUUAZKmSg3dRYQB5npMZVBiNAf4dS24t5SED6v6PHWOk8QM6dNof7f1VAIOmwzbmaVkACpKvMk5wnQK7G9/dtX1VARr3yBssaVEAshYDhO7xTQC3ar5J4EFJA7eSOrPteRkCJZ0T+YeRUQI2SSA/STlVAUEJQeeFcSUArgahk9cg8QCvqV3qUQ0BACjBAlL4hRkBUeiNw+l8tQDiGyf1X51RA7azfl/DMV0D4fzecSmwxQKYjmfohKzNACj3NBhnkEkAWMoQWn58lQLu7KvM/1TBA9UBGnWA7UEAtctEq5l1IQNVMka3HnD5AOCyNV/0OVkCgrt76WfMzQJ8g17DdC1ZAoEPlt6oEQkBPfjPSGOBXQI5+Q3jNJlRAIDIusnR06z9Ub7+bHhdTQKjW5JMuZUBAqv+1iDjVQEDYQaN7z/JSQMIfyAD8ZvU/5WAInGT6SkCm7zU2iX1TQGJDHqao6lZAFU3yAWz0UkAXUZaEpdpFQEdZCLGQoFhAE7XNJP/pBUCjqb0ptehTQJ65ZzFJmVZAR9jnlWk2R0AE14nTVPJRQPdnass/DFBA9baUm+RCUkBEdw86wHEsQFhDAQ4ETUNAw6unNIjjSUDKkJ1SmfNVQOmh2gPAslJA1DbRMWdkREARC/9zRY1XQKSfFbXXt1VACpnh2rHaRkCDcnd7zhpRQIQj1FciwiZALSz/nR5uO0APHrYtJyVJQPMRY6hfkgtAYNtgNcTqR0CWRwVqxpkbQL4Is0q6PjdAl8sgb9OgC0CEh/hGCuZWQI2XRviemj1AoM4jqr25UUClwh+vWrZRQBBcvvNIXEdATOZzU7UfGEDRw2faujtGQCr8ZgUZITJAzSmDsZ3jEUBkPtU6ZrtWQFD58qRMQD1AyDndncvNUUDKwkYBWM8sQHSog+3EFklAMHfknXkYT0AaiTSbDI5LQE9iGHk6yTRAMRRZMwEZR0Bl8GlNGLpAQGO5VPyF6URAziP/zrZwVkDgmEBorFgiQA/jeZt/yFFA5fo0ZUldNUBONpawaO3/PydTfYwBgCxAwsVjNySXSUDwlllphBo4QAI2wgfMWUdA87MMGAZmSEBaO+rxh75RQFBW0Sd5mi1A4PomAsplUEB+dPno93g1QI44gZe+eEZAfULO6s+DR0ATpfRo5tRUQO9uNxCRaFBAUU7TJQ8SVkDsWT3mWrxYQFJLEm2AOv4/nWY0S4jiMkDYlN4YEjVBQAWe1BBY/1JAyKo9uV0hUkCau+IW0KRRQPP+9RgOXVFA/tvidXTxVkAcz0SCKXlJQK6Znjbi3DpA1gVt9QQ1VECz7dCt5GdWQPPads/DszpAXe7WSjZpTkBi9uHlOMFEQDJgGGIc1TlAI7PdSPVsLUBylmEthRU4QOvGMe4p0zNAVbGZdqDDU0BIDOrChaQhQGfOq1DVMURAME3/R3JMN0D+Lt5qNvYyQMdLNJc/6EJANZvxQ7tYUEDTez0YIXtGQBdY93e9LDxAY3scrlq/VEB9gpToAgtPQKIMT8QEbDlAdWBuGJY0SEDYbKEASEARQN27y0SINEhAjPi3eBE3T0Cb9C9dYZBVQPxzU6w0xVdAxq3rGaS8T0AnPwQXUgpJQAbkJ84OWUdAromXsEcJMUD0H22nNoVMQNw/pUVjZgFAhPmvwQ+1TEAMXYiT7dY4QNTZ7CL6TlNADvWebnO5R0BAlUAmxJFNQBFUq1Xt9lFAL3LoqOD7LEBpWq2JK8pVQHcfXJ0g8lJAaoLYNFcdUUBAw8z2C6FAQHA3FAnJYRNAiC35kEDc6z8ZjQEFI7pPQL6LEz5m8CxAHPUvx11J+T+ZyHOn4wk6QP+v2Qv07E5AQnOCm79jUUDEx+53aXFEQPhKkF+/8ypAPWnuwxU7S0Cwf3+SJmVSQIoB1xijCBVAnIquiKXn/j/SUuffb1pYQHOxrJzrxUJAyZBX9IrsUkBamOFHm4NHQKYan798x1NA/nuEaN51TECoq49/ZL9RQIJBbxqX5lFAv5VoVzA0UECwAdfQTbYTQJHMnlsZblhA24HBH2n6V0CDOw9DR7UpQCpzQO87zhZACbZoPMhAKUBRlw00GNdIQFRefzkhulRAFmc8K47xVEA1tEE+LtBCQH4ssX54uEtAvBbPtpc5T0CkFDIAxF8vQG94Jm28PjdA+Ju9cabvV0BdG+4oOtdUQAGNCsN+QUpAKeKtf8FSUEBU2jdURhY/QMz0L7fNfRRAYQLNvwFYVUCPWjc6Z/cwQErl0ubuyBNA7SKpd5j2IUBQf67iiCBQQB6V9KJ3MVhAgkMQQDNxUkAyfFGhFlQMQIQvg9NmVTNAyU6fuEZDUEDK0MXnCKMcQElqqDOe/DZAqen2rqpmR0CnL61lnHcbQAlF4WhNmFVALgr03PtQEUADeYtF9z4/QPjJjtHUdhZAhk2cPaCdFkAgfEDxaGw3QIAfr5awrVRA8kBd6oK6SEBe995vgylTQE1Josto61NAatkUU/GLUkDgE46ujWZUQIORh8W3CVhAN3Ejf32wU0A26vNgX709QPQ5u5cgAVhAfFR/iZT/SUDRShV/jcw3QNkCtAT8bExAhmopIqjBP0CKHGKVuJ1RQFCqhUffCsI/TGrwNDGyQEAOJm7M5thVQPO/UOuhQlRAqnC4TN7vVkDvSbPDb5BGQGHKQIn1byJAUl9Lm1QxT0AlRFy49J9RQIBsKQ6tRURAJDP2p8FvVkAQkPxe0n4QQMAHLUcXVDFA63U3uaJ1NEB5DQKUXoZCQM6Dxj8A8kJADmt+z0FYWEAdj6lUBV1EQIw/Wq4kvTVARcMo6HtiUkBdFmo3HAhYQP3RGuHl41BAVt2XvD11UkDJChwYfPRYQOqoizzLKFNAu2hxPCC9KkCxEtZScMdSQOGdZwS1dkNAEod8sKxtQkDFCem//v5SQKnmOgyrC1NA5g3TRFEDUkCpBWNjwyIdQBdPh5ip5VVA8DCnTaXtE0AcbCcyXUpSQG4ZKyYbEktAmkAROHobRUCNjwmz/HJFQEeXnBePfVFAZMU4FzvXPkDhIQ3dnZ9VQGVvLq6+R05AoF5tNFaVWEB/NrVlUZxCQFFBQVcVUlJANiqbx1h6QECsvo3jAtlOQF3GIod8ykxAaysn0UlaQ0DutnhsmgszQMzZy5xCiVVAIO7hhvYvM0CsREacQmRHQJjqequSTC1ALveIK64VJ0AMvopxvMhPQLJ+XWs9iFVAnyzHdYTxRUDQF9xmTyZWQNLLER6mxjFA8hffSSYzU0ALDfxqSjFAQNaI/tWKAVdAUrCJwOpeVEBlgrZTSrtYQBY22L1uFDFAh5t5YggkJUAltcmwwJk6QHl2HnBpzVRA5jFMMHV5FkDN7H8r6v5UQNXvRi03Nk1AitPhiwdXV0CqiLQwNCBWQEUn26FHXkdA5/RdZ+GTVkBvNswd5v1YQBHI21/wWVBA+8PNjH1PVkASubxY3HZYQAgL0FwRAUlASeck6mNxWEDzz4S1BcZCQNOGyw1JnTZAvi5JHkweUUAfLCPuZSs2QEEwLs9Tc1VACoguMeZ1UECkb+PjjoxDQFfTm+ufuiVA/fSH3423NEDdJyLr2XwxQIDLkPKIskNAkcal5XIJNUDGHPQcK8sQQMDkdA8bY05AVKT/1wBZS0CjUT8U/uFEQIG2tbhk7lNA0Fqf481TREDvD4OMK9FVQAZdubwmRy5AGIfKAqG4QUBCF2ahKV9JQL2oYnZ8hVNAquyXwz1CUECKFH/RHXw6QGwOMBzS/1RASrJJ8ju3WEDjCA6y/IlQQMcWuHCXolBAeowc4XMyMEAHc/nVoh5QQHbEVTmKAD9AjzmtS3VBO0CG9D54Oy5VQKJYz8sfXU5ADut4Oeh7VkAhtlkpYm9AQESlZOuv0FZA6bRJFlDaV0D9htJzLt9MQHpQR34CcTJAjL+Vp/7vLEBgcNgXXN+yPyD0Y5t1FlVAVlH4TK+RQUAEAa4DZihYQLDxGaxoC0VA5ymfHdiNV0AdsLun+yRQQDOBShtyhVRA7MeBtJ3xVEBoo5U/OMtRQBSiLKRVISRAlMP/gJvJQEBs1qGLCMHxP4lur7lmVkdA2IBAK6vOR0BVb7dW9IFSQNPLW0oNaztAoU7idr2QSkBGdo5L/Z40QBKNB2GsCkBAsVDdxYQnQEA8p3to0L9TQHo3oBqJBU1ACvyhj0ovMED3ZNp3M2pQQJkMhS9xBEhA9unca1uCUEDf4TJL8pRSQNZCF+wwkkBAzmgFle0SQkANrTvzdlpIQPIZ71pDpTJAYXmRT4qfL0DfOfxK1FFSQBAHK2d5n0xAXMy7SgklP0B8aXODzXVFQDaYSuaE6klA0rCmzChdVkD+6KpDW0U1QJhCmjDICkJAdXhDykahTkDge2vOD/o5QJtPY8kX1k1AdTaZSknaUEADogUb0Yg2QCFDGiIwrz5AoRHb9JBvSECrKSMJHJdSQBusTXx3eUdALWX1zjxyUUCIOsw3eLk8QJ1xJ7ardlJA80KW/N5aVEDSttNIuegjQOq2t38bNkhA4MF+TE8RQUAeGgjlYu42QGX5EqZcwkRACTHfm8waNkB1X2QO3+5SQNnMY8zxa1RASAs48JZLPEA6Kn/Ez2hYQJu/2V7qYlVA25YL8gUOUEApWoB5/B9JQJ5qawwZU1RA6lA+aFd4WEA2W1ceSe84QJwNxQGQxEVA5AT5jTu6QkDIe9u1oeIJQMUkUl5kz1BADczGo3PrEUCQ9S8amHkgQEY+5a3LihZArMvfK+7/UEBogxAGZZdQQOeCsC71R1ZAxMU/hkLmGkApL8cj4MNUQLvi4dtAFy5A4g/Wv3XiQUAgSSrnAoZIQOve4IlgaVdAyMt0DiLhREDVlEkZSWFWQLAJZw71JjxA87XUdPL5QUB+tnmSR9IyQB5QayeJtVhA55BTPuQEVkCs1TdnlzpKQEZVkIkEQSNAspP37QASTkC2D25VRgs8QPd1W+DcQDdAaK6gq45E2j+m1CXd2r0xQMGdp9lDckBAYK2agvDvKUCkgaWQGi1TQNUGW+QdA0pAcM0OCoK1IUBQOuw3EFNCQOeS8oBz4lRAzOzsNLBuEkBh+sHb44ZCQL2Tx2rryUFAUcch6MsAMEALw7xl1/FYQOpnezwvEVhAD7XG30MzFEAQ6ZKZv8FXQIKNcosq0VVAMTwI4tSzUUBQVxpG/g8+QNx+8PAa5kRAHeFod/WiOUDghCDac4lQQJBX/2nBxCtAcuD/6xO/SkDpSC/ojHhFQB9EDGBkEk9A5nS4FW5zNUDBRqnaX74xQLuHI6lYukJAs2g07bpHO0CJugr8399YQCYYsFWSoidAKDwlDx1rRUDRzE3PRj5RQHy25/ds9TlA0FSKk/EQTUB+D9jUU7/2P3sVlPeXXVFAwBmeDFqpN0BjIO8VgRBVQI12TOkEBVNAreDb9JSYNUC0b8QXO3/zPzRa5r6JIkdAjdfJWjCcSkChMapirStSQP1LdXY4QFhAvL6oNiD1RUA+c+PRg980QErUkCZ8AVFAnzuFYxkwSUA0cVPtGncZQOd+0BUeAUlAbOlugtz7M0B8DSFxcUpRQFbWh3EiC1BApqZjUYKyU0DCdMdBrMlUQHZsJuyYyURAfo8MJw3zUUCwiZNMSk1BQAaT/1VJiktAOF99pT4sRUDc2DKiQwhTQE6RHReC+EVA4Cx+wOR1UkDUeZmMnidEQKHBTy2oPiFA3+UyfkaJU0CMqFtDVu9UQBhyZSgmL0VAd6uOYifvP0ChUnXa8lZVQDhi1Pw7U1ZAgMpd2HUWsT/Dtt4bQedEQGi/aHIcQ0FAiXPjN2/4U0CF2doB4RlVQEbOdURKk1dAxARuoU9zBECDkhVI7UhQQC8mdGX5eFBAGJev6spsM0CP4n+Rbk8EQDAtEbgrhwdAKWvclOyDS0BO6xICYGEqQC8bItsqU1BA8058dr0tUEDaQi9ceHtBQMciXjTmSVFAqeQb3fwfS0ChnJNZ08gaQHvOKxV/xU1AQMktqQ3WOEAf4TmMaYBIQKiCRRXOLVFAEHln1TIGWEDf+a8Z7pFEQGKnTvCuTlRApi2HgmhiPkBZbGW9v9tWQLK5ac3Ax1VAzXvuXWryP0AawDY3VSRAQCdkvjCGOldAC9LPfUgMS0DwGUpjC2kVQMwKqNAJAlZAlBPSL8iNV0C0eXx9U5dWQB2iAKBO10pA9v1/oJEhFUARBSMvOvxYQK3rmxYbgDxAmOTnWCIxS0AvecV9bSxSQJtCwwzUy1dAdf1D+fYOP0CmyaH/ecUVQH2L0nd+WVJAM3HghdB5UUDbpZqVYWpWQANn2kX9RghA0ufKEvPQEkAhEXceG3M3QFNebQU5Jk9AB2VmfpYnS0AHK4dpDIxQQKkdXtPUszZAKpFzmCShLECk6m1KO/I6QAnF74qbMFBA2q6ivUNqTUDSpDqsfOVVQA4Fwzz23idAOMkeYqNaMUD3fwJg0tZKQHC51SlGIPE/uHbzKwIAQ0BQ4wTVEGzLP1S82Vj0S05AAQEp8Su5VkBkUwBfP0xXQDVufghqC1VAGTVyqx6nBEDIqAWgw31TQBEzadm5BkxAyZ2b1xAGU0BYHIW3YUAwQNyaidHrAk5A3LADcAU0REBrNmCl1XtQQIgcCz18oEhAbdnXwd6sMECAn/zUzgtYQBnhPLLba0NAeKXzrGpsGkAXnfupQddYQKXmMR8vYVhAouokTVjDVkD+0NRwhVBAQExxndTibwRAX2uKxNIuUEDRnYwdOQFYQLPGtPprlVdAIVnvjzPaIkA6zpc8sqdXQO6t5+UzpiVAjN7rQRN+OUAUz4YyxR5QQPKVRDi4X0NA2Kjni0+xK0D6d/NQPzNAQK2xJLd+R1RArKULhKwH/z+Z5U3EwFlWQB5HpoEPUUNAyHO9bTBzI0AfIIovb8BGQAc75ygVF1FA/EY7cquIOEBexZ8Tb/lVQISXxrWsiTFAtqaIe+54V0DDaC+whD1LQFE4ADmJq0VAXziOA32rT0C8xyAibmUdQM2Z9/ENWExA7JjorI18U0DVczoFK85XQGOxU8qAfFRA8qPCOcNGUUDuON5VT79UQD3p+DGZjzRA1m3XE+WmSEDqByBFbmJSQFVvActUMDhAz4aJA3FqUED0rUUR8FZIQHo3tvBnZjlAplX9Uq1nVUCNcrQZklBWQFs8ndNcr1hASfT3pDA3PEDPpl+6kKU6QDq4MleLFFBAvQdTMiPWRUDwdLPiF05GQNw4tAWyzyNAbVYMb9X7LUC7fZO36wJUQPcPeFGjAD1AcGAZMAkkKECfHjDIheQqQBY3nIaK81RA75ch0gugOUDIlWwCq5NUQK5gIDqJ7VhAnY6J1xrdQUD2xOGFPFJAQBN8UhICzEZAFJB8m/ACLUC2T4v3vbRUQFrIyMJis0JAEejoixV3Q0Bp1Q3hGAdCQEVGtUdO9k9Aq5qOfuBMSUB8mYgtVM5PQMdavB+QhlJADXx+rASbUED0jDIO41NFQJQ9awRHpilAdHcRT+5VTUCuBCbZqBNKQNYUBLdWZjRAvnDgtaxtUECMzZguiAFVQAIoBfuEgENAJyhjZgQhQkAiII/YoHVVQONkkxpH3lZAzIy5CR9/HUBUyXZhfY04QDoqOt1v3UtA0OhvxwLcUUBwUuuo47xOQO64rafqxC9A4/4jRwKnVkBzVJksHY5MQCw6pP8kjT9A5uxE5f1tNECUUZYGL5RFQIAr1ZlBdlNA+5afWsGkS0DvM8BxvHtVQJShuDWmrf4/Wx0Uubf7D0DqjbS45KlOQFg0fZ6ereo/+YC6BicwWEDXb4SqI25WQC7ztG/edFBAs2ZCxjL0TUAZzVZSpRpVQC8JrEz+2lhAY0G5jUUfOkAZCOE4WwdCQPn8ATPovlFAgG5n0ZdhMkCj/BPJe4cGQA4EBY4ET1NACTu469YxR0AFQp2UqYlHQAkJyxIsblhAvefHKTL9QkDHEoRqmE8xQFuIQv95U1NAKi2nHjkpQUC2sF6xH7g9QBgo53QLn+0/wC5w831SSUAL6eTweUZBQP5T6J9TB0dANjMznTvHUUB7gfzjJsg1QCTGRhswvVZAqr9uMim/WEAn4wOyhPFWQGhbXNbSKTZAmXpN7i2/SEBcAJAOOeFYQEkerG0BR0NAvo/uM+yBVEBoshWA021WQJl1HgTfu1ZAY9DN70+pVECvkwyFNUlIQJQ+sWHC1lFAFdHQgeSWWEApEfsUsnBQQBw84Fg9P0VABhuN9IZMMECGbNzpIzH/P6xNmnlxjVZAaIqb3MCU9z99hO/I1ehIQCIbioduOVNADcS9pO8WQkD3m14/gQZVQCw5Nc0lcClADHAsiRCTVEBN318lhMFYQG7wJciPVEtAwtIJOOpVR0DDeN8E3FZLQG7vOrVT9/Y/iesv0vuUFkCqZESdH0kAQMRa9BlkRkZAdY3zb7ueO0CSr81Q7slPQF6KQ5VESEhAPN8W/rF+OEDBVHDGfpc5QGeuER8Mf0lASnO1q8qaVkA+MUc7yvBEQFA9arpt6FZAmpLriN7CREA+mCfkehQuQHILPJ6tc1ZA4D/Y/yKxJkDke1R9u5FBQHubE0HMZjpAVXT/TZzNWECcthGdNjhVQNMv42ljkVRAz0XcoKbhUkBGL27tOTBNQA3nBqjto0VAm2TncNujUUBDN3lLYhpOQLWuqJ6YxEdA6JYrBhy7L0AHVGz3MxBXQAAm/vsuo1VAV00Gmz+wCkDLnY2TF407QPUhro7JtzNAhqTcm8BdJUACYQHRIBlPQJBgdG0EOgxAs+G5sruvQkCxOPIPZZJVQMp35Ab5JjdA2n7HAfQnT0DS8hFagU9RQHbLnOJWqkNAksrAcwXEPkDEhh0dYmhUQCAvrVLTn1VAutv3PW7aRkBaZZY9jWDwPzQDSQu7vENAxCBfM+ENUkBKDKbCNo5SQBKu1I/UOTpA4bnoFLXcVEAuThaJMc1KQKz9uV+p4UJAAV/3xn55UkBgHIrgPawcQOmgknc+vUVALt8L+EvtIEDP+8dNHfkiQGm3dD5qFCFAgve2zgn+UkB/2q5q+1tYQCsJh4FtsEJAQykNqPZmF0CL0erkg7hXQOU2nJfdG1JANjGWfEHHUUCtATeJ7T9LQFv5RW9s8lBAs9OwGptGQkCCYVJQgzk2QJw3yryGNERAnMvlLqdbM0DUIwiWdoJUQGSVoI3KJEpAEIJJF2r2NECITYWOUAtQQM4GmqhLy1BA1Z34sCCaGUAzunbFIQVWQBgRTCBPbUdAIcDRGjF7UECqXiSNIdFAQGCGLdydWVFAHrOJLweeFEDphk+uI2g7QOzRHvlOO05A8Y8WOboPVkB6x6IPHqtUQHozHULyhEpAKXW55XQNO0Bi0J72F99LQPJgfmdoDEFAaIeDMBzUVEBmJQbj8ohSQGaEIL0GAFRAg6oi1gL5UkCUWOO/ISRTQKhq0jRkSfo/l3Iy/ZRAI0BBoyuUcAZXQIP1IHE9A0dAJwDJrB+2V0AVFIuvEH0pQAHQuHGlGkhAd82ehHn7OkAGC8bVQpM6QD9GBxIJ8jFA5gvqoeddRkCOg5qWmMVFQKJ/BjemJkxAHJqnMITiRUCCZWx4tflLQMY3ZggQJUhAhBOFidwAQEBdnWp076JQQDE+qh3m2UtAIrTZZ+RMU0Bxxp4byS9PQKmKNx0pOlVARvAtD995J0C13p81hHM5QIiFOa8OKlVAEkLlJ6gaVEAdLCtZ21cuQHbl6SJmmEhAo33j3IqLVkDThqVGjRRBQAC7IU9zrw9AWtPgXrmpTkChKjyHVzs7QA4d/2L+vFJAqHWOJQhGSEBRr+ULgmJWQAsRAY3L/wFA6kRBDNpZWEAOKKt898BRQGR4cXv9n05ABzvTobpGWED2kdg/AcQSQEa2fYtfljpABrwdmL24TEAKFNNiE15HQAO8oYeYsUhAvhPCgTb0NkBcDoHBgv0wQNUXg7Em3UVAoIilyEYtVkBhTWiYV15CQJQ/HdnCqE5A0cTxn06zREDfA7Fl7fE6QEqnt7uqcUJA9y+d/uHkVkCZCAM/8mojQMzPum93GzxAhomAvKh+VUCfHzuv6xZFQD2n31OfLVBAyDuaAEUMTkBU8e8XSMszQFgx/QZEHRZA/NIqkXv2IkAxYe3fGN1HQFINeAx4vFJA9iNuAtA1LEA6nZl6ZsA5QA2Mih696zNAZhMu/lnGV0CT3zicBFhSQFoPZHpm9EFAguSdIogUVkAszT3lARpDQIxQXYVW0FdAjquBE8wtQkDk+sg+lspXQIinh7Pe10lAiUut+L99VUAEOX//dshSQA8cMBsCYQxA2jsaTPcOKkB+Qrzv31ZDQD4GbeoRBExAcTnNCeCHUkDla/QqzvVXQB9K6XgDOUNA83wieUEZJ0Bm6NTEN+hGQGbipqMcOSdA4u2AX8o9QUDJ9hRgNnI4QGWpALsY10JArmtE1VBvVkBGiBy+ZphEQAJ9XbZOmyNAqVODvJymQkCKcVd8qVpKQGQ1zNW33ktAXKvFqR9a9D/lwlx3OoZRQP4R32+QKFVAyDBkGSXqQEB+qIE+oUlRQFk/2Jenf1RATEza6mUyVkB2Ikq+EehLQHdul58a0Q9ADidyujaCREBQO+OouTpUQBdS8Uaj9iVAPJNcSAQ8KkA74aBJqLRPQL+9ZrLiazFAcNYnlQ8qVUB5jE1EEyAzQJRWNN24sldAlGu8aqjMJUAi32S8P7hFQORevvOVPVRAoAUnEjOFUkDZKJqO9NYiQCqFPl/Q5ClAIgaXaQQIV0BcsmFVr09WQIh2JfFBLDlA2yi27tYnV0CdfThOgM5QQF9sZLvix0xAGvlBoXqmSEAcm75V0DNPQA1y5G7W+VVA1K20pO9cVUCP6Oj3utRXQLILIKRhY1FApMzBB6WwQ0CB69r8uIw9QHd4DOgOMT1Ar3rZhrDiV0COto8+0TgcQFZf1fW1GT5A4Yobv8kgT0DMTPaS6+NIQIrSmf0lL0JA9VidV0k8UUBC8xaADh1GQAQtsEIR30BA1Inauvl5P0BuzrXDk+M3QDPc9wIMLElAzGvQEMyXGUAZWN5CGzVGQGAruC8JRk9A6RhFN2GMNkAD1/L++CoqQPZfiOipG09As0bSlyZkU0APlb9AoT86QPGTNIqcL0BAfJJB1kg4O0CmBuN7mFdLQG+XhBEiIg9AGGS9Cgs3TEBUG/Zz2Z5WQJJEeSp0MylAOq0rjvUTU0CCareHCNtVQHKtZgdMajpAUFvW4DNIMEDdfd41dho1QMW2PhTO1SVAHeb147bFI0BGNjA6VxpBQFyFbnecMRJAd0lEeaz1EUA+ngCgy91AQFzTkfdSoklAO0cJVYQ8WEDb5gwRR15FQHAns/OV1Mo/FpHxtncmUEAsoxb1DItJQEQ+ZVF8ZFJAv/2D44IuSUCqTPemH/ZYQDpz7iP3BUhAqrrJ9w2jEUADJ/MucpdRQBVVc2gIYVdAKPf2QVV5RkCIf/ni5G1XQEsybaYpH0VAOXLmC9jaVkA+95SfBldVQKB6ddaciFhAmS1YFLxiV0D6wNKsfHhTQMgxdbcuuVFAJTWP63FeNUDhidGcmY1WQMSSJSBAbFFAg3TbQVGRVUDeLmAHzIpNQMFQe3GtvVRA/0K9glLDV0DUC68t0tdXQOjS77FCHhpARnplFvY2VkCp0lxm77BFQFTBT7DnxjxAvcJCex6YTkBT8SdhFu1QQHapUL3tzjxAvJlctabuG0DTjNY6+5xUQO0tRt09t1NAaZ0/dfT4UUBSj/p0icQ5QIzh7cY8Af0//xojwbGFOUBGFKze8UlRQDBjx88sLkNA3UrC3gsWEEBng4X4emxFQFgUpd73CD1AvnoYhPb8U0CEAdKSJXI5QKicbIXAKENA4OfzZ2dAM0AlIDRmefBYQDBFXkDnhVJA1Cl8zhv6R0CleqQ6HadQQIySlybZXT1AeVvE8o4tS0CxQy0IZ9hIQLBV5MViikBAh+WHTG9hLEBmoITif1lYQPorokUtIDRAS3C6xJuATUBlMVAebo5XQJdMMJDLLUVABrpv30k5TUCPOVeRD6NOQAvRo4WE0VZAgexEATB1UECoVk+6trdHQLCKf4bGt1VATAk2rjCGCUB5LkvkPlhUQHBZneehT0JAFR8YUh9HV0DzZKmZ/pY2QDZa6s0yLlRARIznVn1zVUD3mZJWP0IiQEAy4fTWjkJAAnJ6N31rUUCkx/DR5u8lQP5XROVWuVBAh2yYI8M0RkDvAhXKdG80QOZD+rIBuFJAJLghLs0/UUDnA6eXeLhVQARWe8cuLilADxHMtTl2UkBw621v54NWQBi1Nq5/qUpARdJrQuPARkACoQna06RVQCBDrsjbkSNAambQ5Nm2JkCBMPJT3U9EQAuimDp4REpAJQl+LOokKED6VCv7qpc9QAP9MIPPHyBAjBTnaDJHMUAdFU8M911VQC5QIASpAVJAoMBdLKz9TEBbk/kWJ7RVQCkDxH2VAzhAOFs/kScyTEBy2wCikIhWQI0sqxWgb01A1kfhqAEBSUCI/m8JdZ5VQLBGWWPMalNAaxzvtwFTE0DC+q+ZhfZTQDltb8+BhUpA6hhUO1t0R0Dto0GjlmoaQORZkAMIZes/P45ilasQUEBb/84CehpBQLKNMrsDdDJAQSl5RcIWMkAW0ggsTsIYQDELgkDxHz9AbjsNuHutPUCDb09Q8eBHQEC6xDy+QFdAQzVpXXqLTUAjddi5E8o1QLwUvbCSE1NAa2AehWYHV0AfHGB0ucxDQCq+/9FcckNAZCbjTDE0TkCAWNXWX4U+QPlUOoy6Uz9AMGuwQ8qCT0BHMV/yIFFUQJHP9MP2PFZARC1gh3UUUkB1q3PeeN5UQC0JQ2u+bj9AyjklfnuwT0BDQumb1fsEQFLCwlBcZy1AodjbqojGVkBOob0ga1D3P1L5h14E2VBAv/TY4+oUVUCgcK4OEkJXQIvBrAfcfVhAN6ybjXwGU0Ahrd7lAcZAQHSeDtLDtiZAcumsQY4fLkDeb/IVfWNGQDuYiSQTPlhAeIXA8lrF/z+D4mCj/+5UQA+5fsQoSVNAAGPgGzFj5j+MqAc1nUdPQA6Hxz0QmlhAeFojIOJeS0BvT45dhHNUQMrmiEyWT1FAp6YKgVXaUEBqGjYsmHkgQD8M6RoOBlNA73ncxz+gTEBMmjszdCg8QMHW9aTuhVNAy8s5/cToS0Cage8zNqRUQEhSt0FtGVZA/zNL7J4dUkB3YSsWXMVRQL8Z+gFFmUlAkahPLv9/VkDEBKSqkI9IQEUbiuzUTiNADJ1YVcsXOEDVny/ePVI2QLEqBx/FbFJAIBZHbrXPLUB4ah5tZodUQHqx49kIpFVA9goWhdzmPEDMjR42onYtQMzUcbbTbktAjwb2Fy0pV0DAyKdARH9DQOJugIzq/zpAEDGMmptmNkBeshRfTTxCQCLRlyh+nEVA54sj2/eoUECDmeMzKnVPQLp8z9HggkVABLEDtNEAUECBOC+yb4tWQMXhkFYiwERAVH2O851jU0CshnG2gwz6P9Z9r+KvCTJAhuFk9FdqS0DZpFUCSYpOQAY1L++AYFJA4Vs+dNV9R0DpPGip9uBTQCeETE0W7FJAojeeJ2HJSUClBMZpnbQFQEOVig1AH0dAKaU38SiWTUCWOx1oYpoTQJzBfUqUpz1AOoI8j0D+UkCXdqWUXkZYQKWpAGfnYSpAcLMG8XqXSkAi9oXyKaQyQI5rHEiVAk9AtHGuZFgmHkA6tDKkQMdSQPACNAgHwRBAObfID/RcQ0CvttGn0X1DQDmeJKtiGjZACKOQKuKwSECUUuaUXlJFQIJh9+6d1zNAueDq0aLYQED76jFeWNJUQETJPj11azRAEPwzNR6kR0DA/1iDehhSQLoeQtLimEFACmPrJXb8MUD2a+kGQEBWQDKopZsxFldAmCJE0wvPFEBvHmfGIQA8QLrAQowbazdAnzTTNYMgT0CChJyfxBlAQLJRkzWWkVJAiLAyg5DIJkDoRWhxq6FSQNZYxtXWdUlAZxgFq7eMVEAnmp6bT5RKQFN7aN6BAFVAuFypNJYPSEBiK9zEw+k3QODJ/XckP1BANPyVxPL8P0DIe2V4xPJWQEWEyDqRCzJAIxe0jHwXLUCJWZlZ7bdWQLywHA+euVZA6cTNdyr3OECmfQXryUoyQOZ1y+oFkkxAOtZDhpriS0BCWUP8WFQbQNKV5erGDFNAoNYnkIMI0z9kjjjCWPw7QK527rcOLjVArjjzZ2RIWECFHjlQsulRQN1BEOswbU9ANrtJ9ljbTUDOXtixNI1VQD5b6Rmc509ADcvllHjbPUCOnP4lCYhPQDt4k3OSLj9Aaeg0YipdQEBGplVhl+RAQKEsmW/mG0tAioaeJL3pUkCKaT7n1chPQDR6HXH0FEtAzu96a5i+RUCHnvNZ/+gxQMTRkF8km0xAKqijbdNoVUCsJFt2VAJVQCyKovo3A1FA1L7jGnmRG0C5ucG8c4lXQGTOOxfRoB9AhTlR0InMSUAYf2CP+cYaQM9eLwSLvEZA64achYTqQ0DVKQGAqMBXQFTAdbOzLzVA1uGT56yiHUBUa1r6uYxWQBANK+KNJkdAnwm8CTucVED7k8Q42JY0QLOCojHFvFFAa2OvsGDjUUAX+yy+ZvhFQMVpCmkX9k1AF8Eqgn1xIkAXyDxlC3ZTQMr8Ztet0FdAmLdCZY30RUD1VYKsRVNKQAA66+BRu4Q/DI+6GXhRUED9V8s35edTQEg5+csRIUpAIsJBJXVjVEB2KjoI6QxAQGjGy0/tLEpAFsXbC+l6S0BV7+SJYFZUQBDmq6gQzFFA2ncoCWlCVECrta3VpWs2QHx0e3W5MVVAYgcHKKutRUAgpYWQ6QM7QFnxKEkStFNAe+ncfgN3NEBC/WF4nYkUQJwUFZFHwkhAKNTBdpgVJUCZs0eggotQQDReNU4drlhAMCHeL7QyUUDEGcOy6qw3QLbCKQm9lVBA3uFAo/kaH0BVsesqdltVQPUdcWC84kRABJWKXlbvVkBaOTXUCClKQHI5Rsb9aFVASG3opr+tVECz4l3WQ15QQPU6qkkyxENAuA4Ym3UbUEC3+2/vkKVWQLhb/BgC+1BAWP+kBLYdR0BGRt4H3fUyQNgVWij9c0NAdpgR3LHkGkDf/pkRTcFGQLCyYrmQqNU///VC/OexSECODsodyX8wQPoX15Q5qThAmv9GMsWsLEArr+g96bsxQOAeRslm3UFAgQg5L/nhRkAgJWbhCL86QNR07wXCZFRAmsaRdzhZUkDYgqrk4fJSQNEMVHL8w0lAXa4qX1kyU0CmIVj3FsEPQC5exIjCzExAlvhjNCheGECvXH5jGh5YQBb13EMDwUdAl8kcCu94UkCwlgy0OjZYQFo70ohsWUhAKHXu/TYM4D/Ltl3/AIA+QFEn/okGpUFAhxGVaewQUEAJmHeL3qdSQD3TFruxSFFAHsjxXSEDVUAaVxoKpF1TQFnwTK/bsldA1oihQhVqVEBwVtwXI7rXP1whaac1MyhAPDI4teC4MUANVxPuV905QLDmLPVM/yRAyoy8c5osUUDokF+C5dpOQObL0pALk0BAqm13W6giTUBQWUQBryRWQGR553apfjVAXcnaaUG3GUAckQO39ttSQAyZ6P8JKVBApydeDEN6QEB7HvozgeIQQHu362M/flFAG88XPEErN0Bv+3kndH9UQJ1H2hweZUVAWIGvannp3D+XoK/FZPY3QGoBsQs7AlJAQ0qmRq1xOkAVRDJBLsUtQIUQukIcAS9ACtJ3bbEhVkAVr6Xk0g0tQBvF6RlMeUlA03d9JAJVVEDnkgb7hr4nQPIuZQrXUk5AEjSsF54PEUA4dX8kRoNLQJeA3Wh8U0VAqmMRO59uOkCdyOeZ+f9SQIXkkvRN0jpABYOrpG8RQkBBCruKHE1LQKBGteOYpvM/ZtSev003UEDPZVSQ1opWQCl6do6aXldAKdiB7xaWVkC6ns2vtZZYQMYEdTYEfSxAdT4hzm/xRkBcSAbavpwFQPX2ALy24BlAbZoEq+hnPEBA5knSbpxXQFCiIIG7FURAw8ZZL3trQEB8/wgvPsNFQLu/IUQ9eFNAUKM5Ap2ZFEC3MPKJIU1AQCPreXSZ7UVAZCkDoa28T0ARTgh6eEtWQBRlqvJwQlVAlG+iq3jnS0BgGULiemdUQH/qNWbL0UZAr9oAFj4IL0B9FiYNSOlRQAkXVABFl0xAjlWQqyVHM0DRMgb9EidAQCYkIgMunCBAnh++evRVLEAwkqpP64JUQHDoTrq4dzZApI7+iYd+UEA5xoZ3lkhNQEeWDhAqZTFAI0bRAPEtS0B2ypCDhCJEQOOP+5GcD1ZA/noKZHN0UUCM3Q3mqOdPQFw0+KdaN0ZAZpfh3gTPVUAKy1+hWZJDQBk4f9WWCTlAVZybVN62VEBUkCWq0o9JQCu/cQWEUVhAuNpojqztTEDCuN3kIYRGQJAQgCM7b09AcNEx6XQTUEDjuYFtEZJSQNGj4lVQmVVAdvkScXC8L0DSKyTdDyROQL2B/rfSp01ArE02lKv0Q0Arel0iurI9QCGiPtFwK0FAP5CCOmBoQ0C/NK3bvDdYQDwJmsofRyVA/sCg7AOUVEB/gt70a7dIQHg9WuBp3jlAe9te8B+nRUA8BXAKwz5UQJBs3J5ECEdARjfVrVkAI0DFqYqS+yxQQPFt6ghVrz1Adao/iSyAJUA5BrZIDO5NQJ9I41t3hjVAIk5XLpoXV0CGvpOE0ltAQFuzIUy0MFNAvkMSkw8kNEDvbYeZHSlNQNiIGRV/sEtAu+xwn+1BVEChLPZvIH1WQDfI2vgLJjdAEJ+YIrteLEB0kCCyznpOQJO9AsuecldAjGmva1vKUED6ve8e1QVXQN1LYTnTFUpAtkzbRPxDSkCjPotnJelOQEOnaPJVU1ZAnhRHh+x6VUARMjJd3wo9QHCHwNTTQ0BA/9nxP141TECsatHFMagYQFTP/ureWxJAvmPVSenVPUBivNOdDglBQLovW5p8llJARjOKvNbESUDpN2dgipJCQPDqcFRrwENAlXa4e6gZRkDm1Tv89j84QPMRQLvirzhAzbPU7BLjSEBYDJaDxDpLQGp1PRZ2tFZAWHNjlpX/QkBKBuzs3lNTQGGkya2r2FJA7Yk/7KwHUkBKIwF558gMQAmdrqdQHVRATK551nDYVEAGI88jLJLxP4jdmSSEilZAoJJFV5OMD0Co5XDfkVhUQOXTRSaacD9Anhx9R1JWLkDpxKTGvsxDQDPItU3FYlZAN2Jr8y4GJUCURY/EEnpEQC4RnoFUvFNAhjYpCbXiEkAXWov+KRlJQF7tVNtfH0ZAMLrKriEzTUDZr4FYMBRPQFDajCGlejRA3IeGkGR8WEBj+9Wm0WdHQHCEaUllnhhAHRo9WItWQkBBQ/xCXbZYQJECNzhr5VJAaG4Jibi1UkCN85m3PU1QQFPkTpBes1NAsEJqdeU5T0Bkfpe5W0lRQCOKrKAOeTNAJRsqkHPBT0Bu0Rl6oHxWQBBuMG/ZhjdAqahcNriWI0B1xtwsvQ8qQGbEOXzYJTVAbGhyzNcTR0BF0yn+4e1SQMpCbYkQ7jBANlTo4hu+SkBQDuA+fXFPQN4CKsRmBjRAsunVCG1xUkC2uzUsU70+QPpzHgMU80hANr4iyvK6WEBI6OfLfpFUQC6zKQFSaURAOrXlo4BpD0CdCQZr/9tQQPB1wSm4SUtAivjsQFK5U0AEU+WT1rxCQKvFpcmpUlFA6n6fvhRfOUAEKwetAOpYQPdR0EQ4A0xAzEVZB7WjMEDODyXP1qBXQCbjRdX8flRAwEYvF9mZOkBzQ0uITrYbQNPuToZnuUdANOM9ll/MV0AKzIKaBmQxQAnASz7KVzxAEuhFLjpkU0Bmg9ApFj1QQPA9d5QtPOs/WNlJV/vgTEAT04qJ7FVOQEasiOL/cFdA++K+m9w5MED+/qA9Hqs4QF5NxUKMcEpAPLmExZCTMEAJAgGgbJZRQLZpdoGyCURAtfSvbSlIRECPBN3axktTQLTWqWTHG1JAXky/d4goVkBsWCn79OhWQEu9uLH85VRAC0MBJ6EcS0B4ieKZx+RRQHQGkb7VSCxAoL1LrdBSJUAFawOX/69MQP/z9U17m0lA40g3/neyJEDOzRtqnvtPQNuU3mHae1FAKhXYt/GcSECLI7rjtNstQJa5ynfEp0RAUWbW0MnfVEAu/6gjWG1AQHGDeS+HxDxA1AtpXrroREBGGQwQCalVQEbUzopLDTJAKkUjaLlhFUDtT59pdrc9QCA1+1mWJlNASj4AfJ9dGUD8LpDOJyxGQOy5ag39llFAnnoL67C3N0CCFd7enltCQA9DWyaOMUBA76NKQx4TU0BVv5BNRTcsQBxO3jOaRkVA1aV85CbFIEBl06RVQuI1QAwAKIdaJFhA9ar1LzPOUUBMobfnJd1GQHP5Fc/QTEZAnCSJZaVRUEBpCRDmWtdAQNPpeFxM/kFA0E2GtCdLVECR+RalGixKQF+FiIftnEBAlivuQM2oSUBv6M1CWSRUQMONBKuPwTJAieFvMc8ZV0DEXFFiUqRYQAeLrIq3TQNAYh1l15O6TUA33iknsndWQKhi44pQFlZAV6NRgUVANEAlhlqnNNNJQCkoSdodllhA9Sgt8kXtS0DQFY1UuS1AQD7PzISVwVdA43bB0G8jWEAMUepBmVNEQMJ4ctvrrlRAsio++sDrRkDEx2LsuU1HQM9Xa2JuqkVAMR3/c3UHVkDcEG4uiQZVQAJ0Vb9U909AEGsHF9m+T0AUU8XEJLg+QOih2XPQDlVAiOI+uHAjNkAkoux0w3ZIQBzk1QsTuRNAMFfWkpNu3D/FDvoXcHBTQGwtWNbcxz1A1e1UlnB6WEAV87sM4LQ4QHtJbQ1UVylAzwEcXTswWECijbto3aJOQPywz/b7kUhAVSI0z2spJEC2CNNk8c0SQIW/VIPor1RAHD2bYhWHVEDizgulJF83QLKm3Jazr1RAkuwb0DDpUUBzRLsu08lBQGM41T2GHklAcvNnaUVETEAxHcVT9jslQD0WYiO04DxAmu8JPpehVUCMsUGcwKRSQH7Kncd0Avc/uFP9hB3gR0DrtuXFRKYjQBisS9PW5SVArYv7eJ2DVUAbQTePnsJEQGHUKNfTMiRAwrOWP97HTUDGFYW/0bz+P6WcpanlCVhA0CoB7BbrS0Bb2vXZFoM4QERugo8YsUZAdc2nJuBbOEAjtpoAUahVQNa1O1x3gkNAzDts0SsPQ0Cqj1Rx/d06QKjcihWpolJAuCOtdisQU0BORtOV9mBIQIrfTitjW0lAlnhNBEivJEDyGX/a94FRQLa+8gUsrlZAYbhzIkihQkAcDGCNPVQvQBmNVOS/NlJAETqsogM6UECOeQd7PH1TQLuRSnMBjFNAUqcSvPxAQEBND5VqzWo8QFSI0Ag+CkNANXw6e5K4U0DKt6Umj5ZIQKQugdchYENA2F8x7nRKWEBntanQ8vAwQCbKT5bV0FJAphZcFxxRSEDB3sTPD/cEQMp+CMm50UlA9MSVPYPNIECLoPWTZA9IQAIbq2NAeBZA95BMH3RkUUAPvN/HWf1DQPjaby+yW1hAO/qdMdi+RUDDQUzDzvsmQET9vQEDqURA4K1oHgh3VkB6eS4E9eNVQNp/6nHI/lBA7uhfnVAcDkAmmbqBpq9UQKcjXvDZd0BA//fn+/6vVECeLJuWQvdWQC+/0zfPW1VAbogVJETJRkCX2PJTQrFKQKgfrwHjD0ZAYMa8LePGVkAjlw5WxuZDQMBeFHxl/FJAxY3EsVXGV0BopVGUe6QnQI9FhGyzTiVAl0f+RQEcFUCrpHyvtilUQEXQaSU6blFAmiGPYxhOUEBv8gmB2X5VQGRprzkeSjVAeQ9PbD8zRUA12TzV5TRQQGqK4gf1jlhAx7lV0ioHU0CkuRIgCjJQQGLt14oRwlhAy4w6SaBKVUC8Q0UIG4hEQJGaUTU23AdAtE3i4PYP5j9rvyicDEhSQHtWYfcrsVFAvfaRKf2+T0BzWoudLTNRQLjymOnu5fs/iD13AV2v9D8eMD+n0XMoQEHE9Wf6EVhAVrPeEPllUEAHrkplxsA4QAyCBjsImlNA+mLiVGDtTUCS5Frrv9E4QKW0raBNIkxAiDxeL1dVVkDopJUuA7VMQA4XDondQFZA3LvZ8JY9U0A/IUL1b59QQJg/THEclEZAEdSJIwkMUkA+9rYaIJgkQLdpiey+gkxAC2P5BDZqEUCfgLYhM9gqQOxBHxgdAlJA8BGOasPGNkCCHq4axa5BQH6TgSOBW0xA1gqF++2vWEBF53Zcvj08QGI3OZ+CuE1AfDxYwFSiQkBFSwrpo/hCQPqVffort0NAASy+RlihVkCM9bHFQwZFQIfa7aR8+VBAvqRWl71/PkDqx7Bez6AbQBFJBwAooztAZme+XgpuQkDvfuk5F5JEQB+kQD7HAEFA67Tm2NgPNkAOkfWevRBAQJ5OCvKu2FhANdbOzOvSQEDrtn3usps3QPUK3v0RQk1ATbM/MMQLUUAE2QXzC1U3QAyu7ggK2VZAuJM6lpXZSkA4pXiNZKBUQCLqJGvUkjxAIzh+ARszS0AAPzFM6UwzQGkwQwcqmC1A9yfT7f54IkDP0cwpHb5AQJF6ttGOXEJAZwAKCVhYUEDv9+aCkrYhQMaR94PyPyxAx2AhKEy3K0CmLILuRwNRQC71irDpslhA008tKmewSkBA8+VoEXxOQH/wUTMmI0FANMYrzOpZIkCxXXQtwxRRQOblkBiVKjVADqZ2iLYTUkAPwE/sH09KQKQYsz3j+1dAnqXCps8WLUC5uY2B5c5WQH03EHIsOFdAFj1+uCSpWEAByO7faSRWQKdOVwIPyFdAiOz+DEYrT0CtrxE0UNNCQGBiajl3CERAqk5vQIdqS0C2yAIO70cYQLbi9w0ntFhADClGv9KmRUBbE9AJFgBWQEIps9VwLlhARixzA/8LTEDT4AKve6xEQFG0wq/VzVJAin7IH2zwPECijOVqmmdWQG42MCDpEFRAD/HEoqLyVECwmfuu7WFMQILY/U3/KQdAtMjR0uVoH0Ay92NBF3BSQD9HVnDlpU1AJKFsID/TPkCUqyWXSQM1QIQpW/Ra3k1A5q0RDce3R0CAMrTkX1NUQE0kGI72YgZAf2FXwrVqU0BzcCQp2HI0QMTiKR9Aq+8/mxeaKu6SVkDmsaH/VYE6QEmNivYjzFFA1lovZ7TmVUA9ivYXyNRRQMZMXx5JXFJAejwV25HUNECpeKe6ffxUQBif4aNIMVVAx781VJadTEAuTqs8D0c7QKgAbolq+FJAKpyrBNTeVkC+8TMDJj08QO0eeSpkYFNA45DAVkgZUEDcGdp1GOhLQEjt8kMOsktA/V/zyaSvUkAMz8Ko+3w0QCsipWlN7E5AdrYgQocdHkD3E2w6HaNVQGVjNwXaRFRAlhp/7w/MQUCfgLYJdCtMQMSBBl+vQ0hAmUKwNm0tM0BFRT7tNh9DQMcJ2rVm6E1Avjqy62+DBkA31Pa3I9c+QDEjspQ+MUpA/Yt8GT7fLkB9TPK4Bh4lQOCYSwEnslVAywu5At2fTkD6LeVEriwZQB4UnYQSizZAUZHFli7AUEC5OCQfD0tCQE0gsthkYjhAtY1kPksoQEAHGUnV3kVQQMDUdYor0lJADIeDQANiU0D8C/ebkjtVQMy/O6/5uTBAvj9lxYcXREA7hgqx1HtLQGRj2E3QTFJA+8H0NAmyWEAt5io6FXhXQC+9yXzMm0dAnX6qGcETV0CZiD9uTZtFQFiJv7AfFSdAumDXbYsVIkBKlR6ANZJYQHSUAdcLhSlA9ATbjBFbVUBguPR1gZFQQK8ubKhuxVhAwk2ZiAY7KkAJ1drEJcJSQJYEMmd1Q0ZA4xK5NtbOTUAtUBUdcPxSQAwmg9b7xT9ARJGaIID+UUACvx9zl6Q9QK/t9JYg31VAYZeuxj9MSEDrKhnHhbVJQMSK1NR23jFAe+dDyWvcRkAiCQwkfc5XQJATMybyd1FAVjJ3DWhIOECNkszFUuw2QEVV4AVe7FdAgZz0M8oWRkBNWhcSpSROQAsAI8sM8jBA2wU9FnyHMkDmOt5+H81WQJFFNGDoUApAl1GUqWcrGUDwTqr0yB9RQIcm6yFtNAJApV3CE3IWUECbAy7akZFXQGOVF2kd/VJAUHdqDaFIVECn2nSXexpCQMCZ1Ezb5UlAinhq4f+2QUAyZ2mqBzQhQMGzu9pSeDBATyQifeO5SkCcfNjPls0mQJPXUpfXnTZAO979Jq1aVkDKd5fJFDZWQDYHEZEBAEBA4k8EILmaHkDABYUB1MxXQABHhh+sUzBACu0mC2fJRkCNyPTqCDpJQEROpd99+jpAL4kScqH6VUAzthB4LyM+QG25w9lRpVFAyTfBHLK9VUA=\"},\"shape\":[4000],\"dtype\":\"float64\",\"order\":\"little\"}],[\"fill_color\",[\"#bad796\",\"#a72f96\",\"#f92196\",\"#645b96\",\"#909f96\",\"#5aca96\",\"#ca2396\",\"#326d96\",\"#8f5896\",\"#e47196\",\"#9f1f96\",\"#7a9996\",\"#a7be96\",\"#926596\",\"#546996\",\"#3bab96\",\"#5fda96\",\"#3cc996\",\"#876b96\",\"#f7c696\",\"#7e9496\",\"#7cbc96\",\"#447d96\",\"#6d2e96\",\"#7b3196\",\"#cdce96\",\"#c18696\",\"#682f96\",\"#816d96\",\"#9d3d96\",\"#a85896\",\"#90d096\",\"#4bbe96\",\"#41d996\",\"#4a7d96\",\"#55c296\",\"#569c96\",\"#8a2596\",\"#f63d96\",\"#584d96\",\"#e9b496\",\"#d24996\",\"#b9d296\",\"#e5b296\",\"#6ed296\",\"#ccde96\",\"#40bc96\",\"#48d296\",\"#5a3396\",\"#3fa196\",\"#dee096\",\"#63b196\",\"#787096\",\"#93ca96\",\"#a87996\",\"#87ce96\",\"#dbcf96\",\"#6f3d96\",\"#638f96\",\"#b17496\",\"#439d96\",\"#4cd996\",\"#586496\",\"#d75296\",\"#f14096\",\"#484d96\",\"#ecbf96\",\"#719b96\",\"#66e096\",\"#79e396\",\"#9fd796\",\"#66de96\",\"#4c3c96\",\"#3a8096\",\"#bae296\",\"#68e296\",\"#e42596\",\"#b6b596\",\"#b82696\",\"#c47596\",\"#474896\",\"#9a4796\",\"#bb2c96\",\"#814d96\",\"#d12596\",\"#8eac96\",\"#9cd696\",\"#988196\",\"#3b4796\",\"#d89796\",\"#e1cb96\",\"#aca496\",\"#c97b96\",\"#96bd96\",\"#405696\",\"#54a496\",\"#566896\",\"#d68696\",\"#51b796\",\"#5f9396\",\"#e42d96\",\"#9a6d96\",\"#99a896\",\"#955396\",\"#a66996\",\"#4f9596\",\"#744e96\",\"#3ad996\",\"#495896\",\"#515996\",\"#848096\",\"#777596\",\"#484596\",\"#e74396\",\"#db6496\",\"#ba6896\",\"#5b6196\",\"#686996\",\"#c32296\",\"#554896\",\"#5b9196\",\"#883696\",\"#414f96\",\"#a79f96\",\"#df3c96\",\"#4aa496\",\"#687a96\",\"#5ce396\",\"#6b4f96\",\"#d81e96\",\"#ae3496\",\"#c52996\",\"#848c96\",\"#68c096\",\"#f54496\",\"#e0d996\",\"#6aa696\",\"#6e7396\",\"#ab8e96\",\"#e7be96\",\"#a52c96\",\"#d4d496\",\"#f13996\",\"#c86a96\",\"#ac5896\",\"#867296\",\"#a7b696\",\"#d98996\",\"#64ab96\",\"#408e96\",\"#4f4696\",\"#403896\",\"#a62d96\",\"#a87696\",\"#d3c196\",\"#3fd096\",\"#df8a96\",\"#69d396\",\"#9d5a96\",\"#6e4096\",\"#ea4296\",\"#cd2b96\",\"#48da96\",\"#737e96\",\"#9ed696\",\"#ccdd96\",\"#e04596\",\"#c7d296\",\"#f3d296\",\"#f3af96\",\"#edc296\",\"#adcf96\",\"#d7d796\",\"#b52796\",\"#532796\",\"#4a5696\",\"#f46396\",\"#43dd96\",\"#b48196\",\"#63d596\",\"#82db96\",\"#66cd96\",\"#682d96\",\"#e93196\",\"#a44a96\",\"#c38b96\",\"#52cf96\",\"#f9b896\",\"#95cc96\",\"#e28996\",\"#cd6596\",\"#a7e396\",\"#d9af96\",\"#f34596\",\"#685296\",\"#3be396\",\"#358496\",\"#81d296\",\"#afd896\",\"#58ca96\",\"#b76c96\",\"#c27b96\",\"#8fd696\",\"#783f96\",\"#337996\",\"#3fa396\",\"#3fac96\",\"#479a96\",\"#cb6996\",\"#d42296\",\"#7be096\",\"#503996\",\"#655e96\",\"#41e396\",\"#e86696\",\"#b94196\",\"#a48696\",\"#939f96\",\"#e6aa96\",\"#b73a96\",\"#8eb696\",\"#8f7a96\",\"#cacb96\",\"#9f7d96\",\"#84e396\",\"#6bda96\",\"#36ac96\",\"#6a4196\",\"#463f96\",\"#b06d96\",\"#f1ad96\",\"#daa896\",\"#43be96\",\"#9abb96\",\"#82bf96\",\"#cf3b96\",\"#acb696\",\"#459696\",\"#a92696\",\"#923696\",\"#cad096\",\"#503396\",\"#c08596\",\"#7c8c96\",\"#5e8296\",\"#e8a496\",\"#51a596\",\"#8aa196\",\"#67c196\",\"#e47b96\",\"#9d1f96\",\"#867896\",\"#364496\",\"#efa096\",\"#c3a896\",\"#af6d96\",\"#e5c796\",\"#55e596\",\"#ed9e96\",\"#54ce96\",\"#cfe396\",\"#3b4b96\",\"#dc5d96\",\"#425b96\",\"#453f96\",\"#df3896\",\"#42bf96\",\"#a69796\",\"#b25196\",\"#b65e96\",\"#54b096\",\"#526896\",\"#beda96\",\"#64ad96\",\"#ed6396\",\"#a4b196\",\"#325996\",\"#e2c596\",\"#a72696\",\"#ec4196\",\"#e7bb96\",\"#8ddd96\",\"#36d996\",\"#4cab96\",\"#5b6596\",\"#a13896\",\"#819896\",\"#8bc596\",\"#8e5e96\",\"#67c396\",\"#a51f96\",\"#ad2496\",\"#71a396\",\"#9d2d96\",\"#e78496\",\"#4b4d96\",\"#97ca96\",\"#d1e196\",\"#7f4396\",\"#bc6396\",\"#a85696\",\"#3a3c96\",\"#bea096\",\"#e88396\",\"#53da96\",\"#c14f96\",\"#92b496\",\"#e98296\",\"#bb1f96\",\"#ee5e96\",\"#9c4796\",\"#7bb396\",\"#468096\",\"#b53f96\",\"#93ce96\",\"#567d96\",\"#3a6e96\",\"#e5b996\",\"#94a396\",\"#da2b96\",\"#dcd096\",\"#c14c96\",\"#7db896\",\"#7c1e96\",\"#589a96\",\"#ad5a96\",\"#56bb96\",\"#97d496\",\"#8abe96\",\"#df7e96\",\"#b63996\",\"#40e496\",\"#d26a96\",\"#dac096\",\"#61c596\",\"#dba696\",\"#578696\",\"#736696\",\"#41df96\",\"#87b896\",\"#f2b696\",\"#472d96\",\"#3fe396\",\"#f93b96\",\"#a8b996\",\"#3d8496\",\"#c12496\",\"#badb96\",\"#b8c196\",\"#698f96\",\"#e27596\",\"#7e2096\",\"#3b7296\",\"#346f96\",\"#7a4b96\",\"#d2d496\",\"#b77f96\",\"#dd6896\",\"#af8996\",\"#b77696\",\"#d02196\",\"#e36e96\",\"#a57a96\",\"#9dd996\",\"#c7d296\",\"#d6cb96\",\"#b5e096\",\"#7c7f96\",\"#db5296\",\"#cedb96\",\"#8c8496\",\"#e63896\",\"#b82496\",\"#b2d896\",\"#675996\",\"#912196\",\"#557996\",\"#3db696\",\"#9c7796\",\"#c4a296\",\"#4b8296\",\"#66c696\",\"#f09796\",\"#505796\",\"#537296\",\"#b82996\",\"#c36d96\",\"#535896\",\"#baa696\",\"#796796\",\"#6e8396\",\"#9a6096\",\"#997b96\",\"#bb3a96\",\"#d58796\",\"#c75e96\",\"#6a5396\",\"#588c96\",\"#b54296\",\"#5ac296\",\"#74d496\",\"#66ba96\",\"#cdc696\",\"#8eb096\",\"#ae4296\",\"#6eae96\",\"#b6ba96\",\"#5dca96\",\"#6edd96\",\"#b4d396\",\"#612596\",\"#639096\",\"#de6b96\",\"#7f8596\",\"#772b96\",\"#ae8f96\",\"#f42896\",\"#73cf96\",\"#423d96\",\"#8b8f96\",\"#a34096\",\"#4cc396\",\"#553096\",\"#c07e96\",\"#3d4596\",\"#376096\",\"#cea196\",\"#906196\",\"#bbc496\",\"#982496\",\"#5bdb96\",\"#c8b096\",\"#5fdc96\",\"#7d3a96\",\"#39da96\",\"#b2d596\",\"#70cc96\",\"#6e2396\",\"#857c96\",\"#588496\",\"#9d6996\",\"#6c9796\",\"#4ea896\",\"#909b96\",\"#c78096\",\"#45c296\",\"#447e96\",\"#e1bb96\",\"#d32796\",\"#ec6896\",\"#588496\",\"#edad96\",\"#589896\",\"#d47e96\",\"#b13396\",\"#6f8496\",\"#a2a896\",\"#368696\",\"#9d4f96\",\"#6c6496\",\"#7b4e96\",\"#a64796\",\"#e9be96\",\"#823996\",\"#927a96\",\"#e52596\",\"#bea396\",\"#f04996\",\"#5a9596\",\"#aa8a96\",\"#828596\",\"#a26896\",\"#bb7096\",\"#e0b296\",\"#7bc196\",\"#e62b96\",\"#bf3596\",\"#70bb96\",\"#ce3a96\",\"#538496\",\"#c8cf96\",\"#aa6a96\",\"#966496\",\"#dc5996\",\"#745996\",\"#cc7396\",\"#a36196\",\"#f3c396\",\"#804696\",\"#775496\",\"#da7496\",\"#9ba096\",\"#e93f96\",\"#556196\",\"#f09696\",\"#c19596\",\"#505396\",\"#a22096\",\"#727796\",\"#ea4496\",\"#d13a96\",\"#6b6b96\",\"#e24c96\",\"#3cb396\",\"#416996\",\"#b7a496\",\"#b63e96\",\"#56a896\",\"#8cc596\",\"#8fb696\",\"#999c96\",\"#6bbc96\",\"#9a6096\",\"#75d496\",\"#a22296\",\"#b13d96\",\"#8ebc96\",\"#f06196\",\"#59ae96\",\"#81dc96\",\"#767296\",\"#928f96\",\"#36dc96\",\"#ad5d96\",\"#e0c896\",\"#c29096\",\"#ac5596\",\"#a46a96\",\"#d6a796\",\"#362796\",\"#563d96\",\"#8ecb96\",\"#d09f96\",\"#f44896\",\"#8ee296\",\"#49d796\",\"#964b96\",\"#639596\",\"#f1d696\",\"#b7c796\",\"#d29e96\",\"#ca4e96\",\"#d4dd96\",\"#947096\",\"#4ad396\",\"#924096\",\"#bca796\",\"#424796\",\"#4d3f96\",\"#3c4296\",\"#c17a96\",\"#e7a196\",\"#995996\",\"#6b8696\",\"#e07796\",\"#5c8796\",\"#682b96\",\"#36a396\",\"#a14b96\",\"#858096\",\"#a0d396\",\"#76a296\",\"#ef2196\",\"#50af96\",\"#88ce96\",\"#a8a196\",\"#ebdb96\",\"#53e496\",\"#acaa96\",\"#4b3296\",\"#e6b896\",\"#94af96\",\"#b44096\",\"#6e6996\",\"#df4396\",\"#e86996\",\"#e9b496\",\"#86df96\",\"#f82696\",\"#a3af96\",\"#87a396\",\"#403e96\",\"#f83896\",\"#e4d096\",\"#466996\",\"#dea696\",\"#d05c96\",\"#54e396\",\"#903396\",\"#402096\",\"#51e096\",\"#791e96\",\"#a75196\",\"#67ce96\",\"#99be96\",\"#3c8296\",\"#7a7a96\",\"#444496\",\"#9c4896\",\"#989996\",\"#ed6796\",\"#af7d96\",\"#db8296\",\"#837396\",\"#7f6896\",\"#bcce96\",\"#eda596\",\"#a77c96\",\"#99ca96\",\"#e97096\",\"#7ed096\",\"#877996\",\"#da3496\",\"#925e96\",\"#f65696\",\"#9f6996\",\"#c33296\",\"#b43396\",\"#4c9f96\",\"#5f4096\",\"#4f9f96\",\"#c47196\",\"#5e9196\",\"#9b9996\",\"#f68296\",\"#a1c296\",\"#dfad96\",\"#5f5896\",\"#f2d796\",\"#d37b96\",\"#e39f96\",\"#c3c696\",\"#d3cc96\",\"#3f6a96\",\"#536a96\",\"#bf8d96\",\"#9fb596\",\"#8ed596\",\"#544796\",\"#f66596\",\"#5f5e96\",\"#8d8396\",\"#616d96\",\"#d4af96\",\"#cf3096\",\"#f55396\",\"#beb596\",\"#a85c96\",\"#8e4a96\",\"#e56296\",\"#3ed496\",\"#3aa696\",\"#89d096\",\"#395396\",\"#603b96\",\"#9f3896\",\"#899e96\",\"#dc4896\",\"#ad4996\",\"#809796\",\"#73b996\",\"#7bd296\",\"#c5ce96\",\"#db4496\",\"#8ea696\",\"#637796\",\"#e31f96\",\"#8c9296\",\"#c25f96\",\"#3d5c96\",\"#81b596\",\"#e57196\",\"#64b196\",\"#387096\",\"#939696\",\"#8e2896\",\"#9d2996\",\"#35ab96\",\"#7aaf96\",\"#f3c896\",\"#93c396\",\"#8ca796\",\"#c3a096\",\"#6a7f96\",\"#f67e96\",\"#34a396\",\"#bd6096\",\"#e34096\",\"#72d596\",\"#a9ad96\",\"#afc696\",\"#e52896\",\"#619496\",\"#333796\",\"#399e96\",\"#909296\",\"#b22a96\",\"#e96b96\",\"#e9b296\",\"#5b8a96\",\"#d95d96\",\"#52cc96\",\"#9d5596\",\"#b3df96\",\"#c13696\",\"#868396\",\"#74c596\",\"#f33796\",\"#4bd096\",\"#beb296\",\"#999d96\",\"#8c8c96\",\"#59c796\",\"#a65a96\",\"#6cc096\",\"#3b5796\",\"#c0c596\",\"#41ad96\",\"#aa4796\",\"#f8b596\",\"#48a196\",\"#c27f96\",\"#907a96\",\"#74b396\",\"#5db496\",\"#c4d496\",\"#3dab96\",\"#655096\",\"#5f3f96\",\"#66e396\",\"#bc5096\",\"#55e196\",\"#7e5a96\",\"#aa2496\",\"#6a8096\",\"#379796\",\"#c5c396\",\"#5c8b96\",\"#f9b296\",\"#418996\",\"#cbe596\",\"#f09396\",\"#b8b896\",\"#b06b96\",\"#e9c796\",\"#816896\",\"#b9da96\",\"#393896\",\"#ccc596\",\"#87b196\",\"#559696\",\"#7aac96\",\"#562996\",\"#508696\",\"#898896\",\"#b1a896\",\"#a37096\",\"#c65896\",\"#445796\",\"#b93496\",\"#ee7696\",\"#ad8d96\",\"#7d2296\",\"#898796\",\"#f1d696\",\"#89d396\",\"#795b96\",\"#badb96\",\"#48b396\",\"#c94f96\",\"#95b596\",\"#644a96\",\"#9a2c96\",\"#556a96\",\"#364896\",\"#c39496\",\"#c48c96\",\"#3e5796\",\"#48ae96\",\"#886a96\",\"#409496\",\"#b9d996\",\"#ea9e96\",\"#372296\",\"#974896\",\"#37d996\",\"#89d696\",\"#442f96\",\"#4e9896\",\"#6a9296\",\"#d4c896\",\"#44ac96\",\"#427496\",\"#e1ad96\",\"#52a196\",\"#388996\",\"#784096\",\"#d6c396\",\"#8e7296\",\"#775a96\",\"#c32596\",\"#e69996\",\"#877096\",\"#cb4296\",\"#a54596\",\"#984896\",\"#43d196\",\"#ac3096\",\"#c19496\",\"#c1db96\",\"#a48596\",\"#478796\",\"#e02696\",\"#44a296\",\"#c2ae96\",\"#da8c96\",\"#573296\",\"#6a9596\",\"#b05e96\",\"#918a96\",\"#6ec896\",\"#534196\",\"#3adc96\",\"#d2cf96\",\"#945196\",\"#f7dd96\",\"#55cf96\",\"#f1da96\",\"#eaa996\",\"#b1d696\",\"#d79796\",\"#ecb596\",\"#cf5196\",\"#591f96\",\"#7e3696\",\"#3b6996\",\"#5e3596\",\"#f02096\",\"#f32796\",\"#dece96\",\"#5fe096\",\"#634a96\",\"#801f96\",\"#a87496\",\"#bf9c96\",\"#e9df96\",\"#863196\",\"#e7a796\",\"#8ce496\",\"#f84296\",\"#e8d896\",\"#522496\",\"#762d96\",\"#368596\",\"#552b96\",\"#a48f96\",\"#4c2296\",\"#f82096\",\"#5e3b96\",\"#bd6596\",\"#5d8396\",\"#6e6796\",\"#db4a96\",\"#93c296\",\"#a7c296\",\"#509d96\",\"#d76996\",\"#3d3e96\",\"#51e396\",\"#f8c996\",\"#d7dd96\",\"#889496\",\"#8a9c96\",\"#6c7596\",\"#8ccc96\",\"#4c2b96\",\"#672896\",\"#5e3196\",\"#7a7496\",\"#785096\",\"#d16996\",\"#93bc96\",\"#64d996\",\"#44da96\",\"#585f96\",\"#665596\",\"#f1d496\",\"#522196\",\"#772f96\",\"#8d6096\",\"#954896\",\"#cf4096\",\"#4c4e96\",\"#71a796\",\"#c39b96\",\"#96d196\",\"#795d96\",\"#6d8196\",\"#385696\",\"#d59d96\",\"#f85596\",\"#679296\",\"#ef8796\",\"#4bcb96\",\"#5f3896\",\"#402d96\",\"#f99496\",\"#d94796\",\"#e46396\",\"#a92496\",\"#d68d96\",\"#ba7e96\",\"#b76896\",\"#413496\",\"#b02a96\",\"#34df96\",\"#902096\",\"#985996\",\"#f14696\",\"#65b796\",\"#84bb96\",\"#e23296\",\"#f87296\",\"#dc8096\",\"#dc3496\",\"#6f7596\",\"#5ebc96\",\"#b8d496\",\"#a17196\",\"#f54596\",\"#94e296\",\"#538596\",\"#4e6b96\",\"#342d96\",\"#7de596\",\"#4d2e96\",\"#c63696\",\"#a2df96\",\"#cac596\",\"#8a7396\",\"#e77196\",\"#712896\",\"#f2cb96\",\"#603496\",\"#dc3696\",\"#822296\",\"#5bd796\",\"#b92c96\",\"#98de96\",\"#89a396\",\"#5bd896\",\"#4d2096\",\"#acbe96\",\"#34b596\",\"#326896\",\"#edcf96\",\"#7d9496\",\"#da9996\",\"#ba6796\",\"#c38c96\",\"#b26c96\",\"#85d996\",\"#b62696\",\"#4eb696\",\"#b38596\",\"#886a96\",\"#9a7096\",\"#34a296\",\"#c94196\",\"#822c96\",\"#994596\",\"#569e96\",\"#6cb696\",\"#9a4b96\",\"#5a7796\",\"#8e3596\",\"#ef7f96\",\"#999596\",\"#b32496\",\"#a7c796\",\"#7c4096\",\"#b47396\",\"#75ca96\",\"#ec2796\",\"#8a5696\",\"#6e5196\",\"#565e96\",\"#99c296\",\"#f62796\",\"#ea6b96\",\"#85bf96\",\"#d2d596\",\"#8cbb96\",\"#7fd696\",\"#4ea396\",\"#523496\",\"#cf6496\",\"#8c6e96\",\"#cec596\",\"#dec296\",\"#702a96\",\"#8ec396\",\"#e6cf96\",\"#762496\",\"#434996\",\"#cae196\",\"#da2296\",\"#d29a96\",\"#3bae96\",\"#a2a196\",\"#ccaf96\",\"#af9a96\",\"#609096\",\"#c14c96\",\"#e9bd96\",\"#f95596\",\"#797996\",\"#9ecc96\",\"#50d896\",\"#59cf96\",\"#6d5c96\",\"#a4bf96\",\"#864996\",\"#f92496\",\"#ece496\",\"#b9b396\",\"#a0cb96\",\"#87c196\",\"#dbb796\",\"#6a3696\",\"#bbe196\",\"#895d96\",\"#e5d596\",\"#a25996\",\"#439e96\",\"#a5e196\",\"#ca6596\",\"#f89896\",\"#dec396\",\"#347596\",\"#d25496\",\"#682f96\",\"#c0c296\",\"#bedd96\",\"#6f4196\",\"#e66996\",\"#364896\",\"#332c96\",\"#514796\",\"#4ccf96\",\"#529b96\",\"#953096\",\"#ae9696\",\"#e7ce96\",\"#8d8196\",\"#c44896\",\"#d24496\",\"#d32796\",\"#c3d596\",\"#682896\",\"#ac5c96\",\"#d0cf96\",\"#574596\",\"#dbaa96\",\"#f7ca96\",\"#487f96\",\"#695396\",\"#cac896\",\"#507f96\",\"#4b2896\",\"#bfa496\",\"#6d2b96\",\"#89d996\",\"#52d596\",\"#f07596\",\"#614396\",\"#735796\",\"#c38796\",\"#624d96\",\"#42cd96\",\"#51bf96\",\"#922a96\",\"#ce2b96\",\"#de6696\",\"#839996\",\"#3a9c96\",\"#944496\",\"#643496\",\"#90e096\",\"#b78996\",\"#ca7f96\",\"#f18f96\",\"#c15b96\",\"#686596\",\"#f43496\",\"#bd2a96\",\"#44bf96\",\"#dc7f96\",\"#9a6996\",\"#398796\",\"#5ee296\",\"#322a96\",\"#4b5096\",\"#5e8096\",\"#b47b96\",\"#b14996\",\"#975696\",\"#8a4196\",\"#575f96\",\"#908596\",\"#3f7896\",\"#576796\",\"#753f96\",\"#64b096\",\"#ce6a96\",\"#f2b196\",\"#80e496\",\"#7c2496\",\"#527f96\",\"#b79f96\",\"#d64d96\",\"#f86f96\",\"#916d96\",\"#6b6d96\",\"#c08096\",\"#d57696\",\"#c9ae96\",\"#4b3996\",\"#4f8b96\",\"#d63596\",\"#5d5096\",\"#5ad596\",\"#81c096\",\"#b9cd96\",\"#e1cd96\",\"#e7d596\",\"#708296\",\"#c26096\",\"#cd9a96\",\"#cdac96\",\"#4ac396\",\"#828396\",\"#f35196\",\"#ec6a96\",\"#f4b896\",\"#af8a96\",\"#c43c96\",\"#c64e96\",\"#d99d96\",\"#639f96\",\"#8e8996\",\"#716e96\",\"#769996\",\"#e49296\",\"#a25896\",\"#7e9d96\",\"#403596\",\"#69a796\",\"#bce396\",\"#bcde96\",\"#a96796\",\"#8d3596\",\"#7d3796\",\"#962d96\",\"#a56696\",\"#a34596\",\"#7fe096\",\"#8a4d96\",\"#a64896\",\"#ebc196\",\"#6aa296\",\"#9bc896\",\"#617f96\",\"#522a96\",\"#90d596\",\"#8c8396\",\"#f3b196\",\"#7c3596\",\"#a69496\",\"#e78896\",\"#b0cc96\",\"#393396\",\"#53d996\",\"#afc196\",\"#975d96\",\"#9d4b96\",\"#f79296\",\"#469396\",\"#8dc396\",\"#394296\",\"#3d5596\",\"#4e8396\",\"#c26a96\",\"#733b96\",\"#709c96\",\"#bbd496\",\"#5f7496\",\"#59dc96\",\"#9dd396\",\"#868896\",\"#d13c96\",\"#33b696\",\"#d12a96\",\"#9f6a96\",\"#931f96\",\"#d6c796\",\"#e7b396\",\"#3c7596\",\"#e4e496\",\"#a4a296\",\"#c56c96\",\"#b0de96\",\"#3f8996\",\"#987296\",\"#879696\",\"#618696\",\"#c52496\",\"#c33496\",\"#af4296\",\"#538496\",\"#4ad996\",\"#47ce96\",\"#35aa96\",\"#595596\",\"#6b6196\",\"#3f3d96\",\"#99e296\",\"#f5c896\",\"#a16e96\",\"#c2ab96\",\"#9e4a96\",\"#d55496\",\"#9cd096\",\"#8c3096\",\"#ca7296\",\"#8a5d96\",\"#d8d796\",\"#63ca96\",\"#c16596\",\"#60d896\",\"#b73396\",\"#c63b96\",\"#9a3196\",\"#492796\",\"#5d3196\",\"#cba896\",\"#334f96\",\"#3a4e96\",\"#b09b96\",\"#7dbb96\",\"#4e6696\",\"#4bdd96\",\"#e2ae96\",\"#c6a096\",\"#f55c96\",\"#6d9196\",\"#c53b96\",\"#947a96\",\"#509496\",\"#7e4e96\",\"#db6896\",\"#5aa296\",\"#95db96\",\"#ab7c96\",\"#d15a96\",\"#639996\",\"#998296\",\"#e63b96\",\"#ce7a96\",\"#707a96\",\"#652296\",\"#f12796\",\"#f58a96\",\"#b8ba96\",\"#a1ad96\",\"#c98396\",\"#3c8196\",\"#db4896\",\"#ee7b96\",\"#9dd296\",\"#e79196\",\"#ef1e96\",\"#7a4996\",\"#eb4396\",\"#52c696\",\"#937996\",\"#833496\",\"#935b96\",\"#e2be96\",\"#65cf96\",\"#6c6d96\",\"#c3dd96\",\"#736796\",\"#e1e396\",\"#57e196\",\"#af3096\",\"#8e8f96\",\"#79cf96\",\"#80e196\",\"#d9b596\",\"#78a296\",\"#ac4a96\",\"#934f96\",\"#975d96\",\"#d8ce96\",\"#c62a96\",\"#c42796\",\"#e19996\",\"#415296\",\"#c7b996\",\"#444996\",\"#4c5e96\",\"#4ec696\",\"#3e3996\",\"#ba2d96\",\"#4dd396\",\"#cc4296\",\"#edd796\",\"#9c7096\",\"#912a96\",\"#d27296\",\"#a8ae96\",\"#bd3e96\",\"#f77696\",\"#616e96\",\"#9f9596\",\"#bc5f96\",\"#a7d096\",\"#512a96\",\"#4a5996\",\"#5c3f96\",\"#914396\",\"#769096\",\"#d56b96\",\"#d25896\",\"#c44796\",\"#f48296\",\"#5cc296\",\"#e5de96\",\"#e16296\",\"#5fb196\",\"#477b96\",\"#7d1f96\",\"#728f96\",\"#74ab96\",\"#e2a096\",\"#702c96\",\"#b92096\",\"#994596\",\"#876196\",\"#47b996\",\"#a4d696\",\"#c32296\",\"#557296\",\"#a6db96\",\"#804596\",\"#835b96\",\"#753a96\",\"#5d2796\",\"#6d5696\",\"#942996\",\"#edca96\",\"#9c3796\",\"#c06f96\",\"#c43296\",\"#4f7696\",\"#593796\",\"#a96a96\",\"#886296\",\"#e48f96\",\"#8b5c96\",\"#ad2496\",\"#9fce96\",\"#c64e96\",\"#7f5f96\",\"#594196\",\"#339f96\",\"#b95096\",\"#efd396\",\"#629c96\",\"#cd9e96\",\"#7f9196\",\"#b92d96\",\"#826296\",\"#76a496\",\"#996596\",\"#c68796\",\"#b4a496\",\"#a42496\",\"#435896\",\"#f4c696\",\"#58a496\",\"#382996\",\"#d28a96\",\"#cf8196\",\"#b52696\",\"#4eaf96\",\"#333e96\",\"#458396\",\"#e95e96\",\"#df7a96\",\"#99cd96\",\"#747a96\",\"#489e96\",\"#384696\",\"#643a96\",\"#968596\",\"#8ab796\",\"#de7a96\",\"#6e7596\",\"#955896\",\"#f03e96\",\"#448596\",\"#696396\",\"#caae96\",\"#a48996\",\"#892096\",\"#a4dd96\",\"#512496\",\"#7cc796\",\"#dc4896\",\"#6db396\",\"#813996\",\"#702096\",\"#e7a396\",\"#e2c696\",\"#aab796\",\"#c9ae96\",\"#4a3296\",\"#82b896\",\"#93a296\",\"#f8e396\",\"#be4f96\",\"#f09596\",\"#ed5496\",\"#3a6696\",\"#3e4696\",\"#e36196\",\"#b38d96\",\"#985896\",\"#563196\",\"#7acf96\",\"#a42e96\",\"#cb6596\",\"#8b6d96\",\"#532796\",\"#944f96\",\"#688096\",\"#af8796\",\"#438396\",\"#f45196\",\"#8f9296\",\"#cf6996\",\"#48bb96\",\"#329d96\",\"#4a3796\",\"#ab4b96\",\"#7ad796\",\"#82ce96\",\"#f89896\",\"#d31e96\",\"#b06996\",\"#593c96\",\"#c62696\",\"#33c896\",\"#67c596\",\"#3ccf96\",\"#e8bb96\",\"#503296\",\"#cc1e96\",\"#deb096\",\"#d57196\",\"#363496\",\"#ccc696\",\"#48b596\",\"#6f7e96\",\"#507d96\",\"#cb7a96\",\"#4cd096\",\"#90c596\",\"#643396\",\"#989596\",\"#f12796\",\"#f2ae96\",\"#91e596\",\"#f32396\",\"#7b5396\",\"#577196\",\"#868a96\",\"#9dbb96\",\"#5e4b96\",\"#bb2396\",\"#b16096\",\"#cddf96\",\"#6e5296\",\"#e72996\",\"#3e6e96\",\"#895f96\",\"#533996\",\"#462096\",\"#456596\",\"#466996\",\"#568596\",\"#b24a96\",\"#ad7696\",\"#f82f96\",\"#832b96\",\"#bf2196\",\"#d43c96\",\"#e85696\",\"#4fda96\",\"#dfa496\",\"#8db096\",\"#dcbc96\",\"#8fbe96\",\"#d08396\",\"#642096\",\"#c22c96\",\"#8da596\",\"#355796\",\"#4eaf96\",\"#40cd96\",\"#3a7396\",\"#8bce96\",\"#603996\",\"#8aad96\",\"#d57696\",\"#d89796\",\"#794096\",\"#5cb596\",\"#e7b296\",\"#7eb496\",\"#b17996\",\"#a43f96\",\"#425f96\",\"#54c296\",\"#541f96\",\"#b5d596\",\"#c39b96\",\"#869196\",\"#3ebf96\",\"#5b4596\",\"#80ad96\",\"#cc4a96\",\"#884e96\",\"#efbd96\",\"#ec8a96\",\"#d09596\",\"#8c5396\",\"#ebae96\",\"#d82596\",\"#78b796\",\"#e55996\",\"#f9d496\",\"#b9aa96\",\"#a0b996\",\"#6adc96\",\"#792b96\",\"#d32f96\",\"#a22296\",\"#34c796\",\"#94b596\",\"#82a996\",\"#b9aa96\",\"#e08896\",\"#c4b996\",\"#ade396\",\"#653896\",\"#e07496\",\"#93c896\",\"#db4e96\",\"#b49196\",\"#6cbc96\",\"#a4cc96\",\"#d66a96\",\"#eab096\",\"#535096\",\"#e69c96\",\"#e26196\",\"#45bc96\",\"#4cbb96\",\"#656296\",\"#49da96\",\"#f72d96\",\"#a1b996\",\"#ea7396\",\"#549796\",\"#98da96\",\"#e7a496\",\"#7f4196\",\"#658296\",\"#e03196\",\"#efc996\",\"#69c196\",\"#cd6696\",\"#952b96\",\"#8b8496\",\"#d56c96\",\"#d0ae96\",\"#c18796\",\"#7e9a96\",\"#5db296\",\"#d24c96\",\"#f7bb96\",\"#61df96\",\"#6cda96\",\"#457596\",\"#c45196\",\"#d2d496\",\"#e06796\",\"#e4ad96\",\"#d0a696\",\"#f18096\",\"#917a96\",\"#6dd396\",\"#f49296\",\"#79e096\",\"#ef6596\",\"#9b2b96\",\"#e79496\",\"#52a096\",\"#98d796\",\"#517296\",\"#e32596\",\"#9c7996\",\"#7c2496\",\"#d96096\",\"#ef4b96\",\"#803d96\",\"#93a796\",\"#83a296\",\"#689b96\",\"#aeb096\",\"#c1ac96\",\"#462c96\",\"#c63c96\",\"#af4c96\",\"#c1b496\",\"#eea696\",\"#763196\",\"#f0c296\",\"#353096\",\"#983a96\",\"#8f3d96\",\"#416396\",\"#f13796\",\"#7f7796\",\"#709e96\",\"#babe96\",\"#95da96\",\"#9c7c96\",\"#bbd696\",\"#ed2d96\",\"#686396\",\"#7aa296\",\"#ba9396\",\"#374896\",\"#9c3c96\",\"#c9a096\",\"#f3ac96\",\"#62c496\",\"#365396\",\"#3b5296\",\"#f38196\",\"#913896\",\"#eaac96\",\"#4b8296\",\"#95a596\",\"#36ce96\",\"#a54d96\",\"#6f5396\",\"#d84196\",\"#f76a96\",\"#517596\",\"#f0d896\",\"#681f96\",\"#526a96\",\"#d98396\",\"#47a996\",\"#896596\",\"#486c96\",\"#c86f96\",\"#9f7996\",\"#82b996\",\"#354196\",\"#345c96\",\"#6a9c96\",\"#f7b996\",\"#ebdb96\",\"#4fbb96\",\"#972596\",\"#389c96\",\"#bed596\",\"#b73996\",\"#4d3996\",\"#c29b96\",\"#b0a796\",\"#a07096\",\"#6d4696\",\"#e1d296\",\"#47c896\",\"#da6196\",\"#4cd496\",\"#629896\",\"#a85896\",\"#d35496\",\"#ad6496\",\"#6f8596\",\"#6bd496\",\"#5cdf96\",\"#d14496\",\"#37e396\",\"#682896\",\"#753a96\",\"#4f5c96\",\"#da3696\",\"#8b6b96\",\"#6a4b96\",\"#59da96\",\"#597c96\",\"#5b6496\",\"#6c4d96\",\"#f68496\",\"#722496\",\"#399796\",\"#6a6296\",\"#7fcf96\",\"#c9e296\",\"#745596\",\"#668296\",\"#393196\",\"#605996\",\"#3e4c96\",\"#7a9196\",\"#6c7e96\",\"#ebac96\",\"#b53196\",\"#c45196\",\"#864196\",\"#8cce96\",\"#94a296\",\"#4ba896\",\"#b72896\",\"#604696\",\"#ed5896\",\"#97c396\",\"#efce96\",\"#e04796\",\"#f8a696\",\"#d22396\",\"#663796\",\"#a54996\",\"#6adc96\",\"#3c9896\",\"#475c96\",\"#8f6d96\",\"#b83496\",\"#5d9396\",\"#bf8596\",\"#afb396\",\"#712696\",\"#947196\",\"#34d996\",\"#aa3e96\",\"#7adb96\",\"#b44196\",\"#cd8696\",\"#cbca96\",\"#da7796\",\"#aab796\",\"#777996\",\"#ebd796\",\"#baa396\",\"#caaf96\",\"#86d096\",\"#f8df96\",\"#476496\",\"#e69d96\",\"#4f9d96\",\"#dfc196\",\"#e99096\",\"#336296\",\"#3aaa96\",\"#34d396\",\"#a0b096\",\"#862a96\",\"#ab4996\",\"#37cb96\",\"#c05d96\",\"#477b96\",\"#8e9a96\",\"#947296\",\"#5e6796\",\"#514096\",\"#593d96\",\"#b85996\",\"#adda96\",\"#345396\",\"#eca596\",\"#c46896\",\"#c15396\",\"#5ca496\",\"#376f96\",\"#c3c096\",\"#737496\",\"#95d796\",\"#e4be96\",\"#56c996\",\"#b6d296\",\"#7e6f96\",\"#474c96\",\"#47aa96\",\"#ecb996\",\"#959d96\",\"#a2be96\",\"#ef5a96\",\"#e43796\",\"#dec796\",\"#bb7496\",\"#377f96\",\"#467e96\",\"#d62c96\",\"#993496\",\"#567a96\",\"#98a396\",\"#656296\",\"#4ed696\",\"#6e3c96\",\"#db4696\",\"#706496\",\"#ca7d96\",\"#cccc96\",\"#de2796\",\"#caa996\",\"#e67196\",\"#973c96\",\"#71c996\",\"#736796\",\"#af9296\",\"#747e96\",\"#9d9096\",\"#9bc296\",\"#cf7596\",\"#a3ce96\",\"#5f3596\",\"#448e96\",\"#5a3396\",\"#529196\",\"#dbbc96\",\"#9a3896\",\"#85dd96\",\"#d5d896\",\"#98cf96\",\"#3ecc96\",\"#c63496\",\"#48e496\",\"#9a6796\",\"#545b96\",\"#4f8f96\",\"#e9ae96\",\"#945c96\",\"#636a96\",\"#cb9e96\",\"#e31e96\",\"#5db696\",\"#f8ad96\",\"#a28696\",\"#cd8a96\",\"#d67496\",\"#9a3696\",\"#d72096\",\"#e97f96\",\"#bab296\",\"#f4cb96\",\"#b24296\",\"#8f5696\",\"#9e8996\",\"#392096\",\"#416496\",\"#e67296\",\"#a9a396\",\"#577096\",\"#32c296\",\"#54dc96\",\"#685596\",\"#658096\",\"#706f96\",\"#8dab96\",\"#416796\",\"#917896\",\"#68c496\",\"#f1dd96\",\"#7c7896\",\"#b5a896\",\"#d6e496\",\"#6c3196\",\"#f87f96\",\"#d25796\",\"#6cc996\",\"#8ed296\",\"#5d3596\",\"#38c896\",\"#bfbe96\",\"#90bb96\",\"#53ae96\",\"#bb7796\",\"#4ec596\",\"#68c896\",\"#e88396\",\"#7b5796\",\"#a25f96\",\"#487696\",\"#593b96\",\"#a3c596\",\"#cddc96\",\"#e24096\",\"#8e4496\",\"#742796\",\"#873396\",\"#d33f96\",\"#b89f96\",\"#bf7f96\",\"#b55b96\",\"#cdce96\",\"#dd4596\",\"#73ce96\",\"#456696\",\"#e7dd96\",\"#dabf96\",\"#851f96\",\"#b3b696\",\"#665f96\",\"#7f6196\",\"#a7b596\",\"#9d2096\",\"#e18996\",\"#6cb996\",\"#54d596\",\"#90b596\",\"#cc7596\",\"#e7e396\",\"#432396\",\"#edbd96\",\"#ded296\",\"#637a96\",\"#7fad96\",\"#389e96\",\"#d4b096\",\"#843a96\",\"#6c6b96\",\"#768596\",\"#b1cd96\",\"#5bb396\",\"#946f96\",\"#b3da96\",\"#68cb96\",\"#747996\",\"#9ea696\",\"#983496\",\"#895496\",\"#ab8296\",\"#4a2496\",\"#7f7d96\",\"#792b96\",\"#964c96\",\"#d92496\",\"#5bd596\",\"#6c5996\",\"#95ab96\",\"#53ab96\",\"#a97b96\",\"#832a96\",\"#397696\",\"#764296\",\"#562696\",\"#d1d396\",\"#855896\",\"#96ac96\",\"#333a96\",\"#378296\",\"#3c9a96\",\"#3d8c96\",\"#a94796\",\"#bb7a96\",\"#476096\",\"#c17196\",\"#73d196\",\"#353096\",\"#64ac96\",\"#f74896\",\"#662196\",\"#a43a96\",\"#578496\",\"#674e96\",\"#d17b96\",\"#507f96\",\"#4fab96\",\"#3e3b96\",\"#5ba196\",\"#5a4896\",\"#e47796\",\"#957c96\",\"#91c496\",\"#dca196\",\"#3bce96\",\"#6be396\",\"#4f2196\",\"#884396\",\"#976296\",\"#f5b596\",\"#77af96\",\"#b7ab96\",\"#afa896\",\"#4bd596\",\"#ac8396\",\"#445396\",\"#4dbf96\",\"#5fd196\",\"#a05396\",\"#789796\",\"#537196\",\"#ba5196\",\"#9f3b96\",\"#644e96\",\"#bd4596\",\"#b8bc96\",\"#912f96\",\"#356e96\",\"#9d4c96\",\"#634396\",\"#e96996\",\"#39a096\",\"#9f7796\",\"#be5696\",\"#9bc396\",\"#f19a96\",\"#ac5096\",\"#937e96\",\"#a62696\",\"#437e96\",\"#ce9a96\",\"#eeca96\",\"#ebdc96\",\"#699c96\",\"#a98296\",\"#877b96\",\"#d94096\",\"#6b9096\",\"#3a2296\",\"#f09096\",\"#914f96\",\"#d2b896\",\"#cf7c96\",\"#d29496\",\"#47ad96\",\"#a43a96\",\"#afcc96\",\"#ceb596\",\"#cea696\",\"#886096\",\"#ee2796\",\"#a01f96\",\"#3b9c96\",\"#493a96\",\"#f62196\",\"#aa5296\",\"#9c9996\",\"#54a996\",\"#ab6f96\",\"#8b3896\",\"#8f8a96\",\"#e6b196\",\"#ec2896\",\"#da2196\",\"#37e096\",\"#756996\",\"#47b596\",\"#e67c96\",\"#5ebc96\",\"#ce8f96\",\"#b1ab96\",\"#87ad96\",\"#839f96\",\"#9a2796\",\"#a4e196\",\"#38dd96\",\"#a73796\",\"#d52996\",\"#973796\",\"#d38196\",\"#ccc396\",\"#dfc596\",\"#816996\",\"#d58c96\",\"#e19a96\",\"#cc3d96\",\"#cd4c96\",\"#5cdd96\",\"#73c496\",\"#978796\",\"#d3a096\",\"#bc5c96\",\"#862896\",\"#d0c896\",\"#453f96\",\"#642796\",\"#d22f96\",\"#e39f96\",\"#e1df96\",\"#63b196\",\"#a32596\",\"#dd4496\",\"#54a096\",\"#5f2c96\",\"#af4b96\",\"#9f7b96\",\"#422b96\",\"#76ca96\",\"#a22696\",\"#615c96\",\"#a12996\",\"#772996\",\"#974c96\",\"#8cc396\",\"#7f8096\",\"#c5b796\",\"#c1bd96\",\"#abb296\",\"#9ec196\",\"#88de96\",\"#45bb96\",\"#a25996\",\"#64de96\",\"#e38596\",\"#534d96\",\"#358f96\",\"#465d96\",\"#55aa96\",\"#631e96\",\"#9c6096\",\"#3ccc96\",\"#ccc096\",\"#a9d596\",\"#697896\",\"#ee3096\",\"#619a96\",\"#daaa96\",\"#8c6f96\",\"#ded196\",\"#642696\",\"#5e4096\",\"#3f4696\",\"#886896\",\"#d96996\",\"#60e096\",\"#e86f96\",\"#ec4996\",\"#43b196\",\"#55de96\",\"#75a596\",\"#b8b196\",\"#9be596\",\"#7eb796\",\"#9d3896\",\"#86b496\",\"#ae6b96\",\"#e06796\",\"#96b596\",\"#6eb696\",\"#baae96\",\"#842c96\",\"#eacd96\",\"#862796\",\"#a6b096\",\"#a88a96\",\"#987296\",\"#f57396\",\"#aaa996\",\"#495b96\",\"#3aca96\",\"#859796\",\"#52e296\",\"#846896\",\"#43b096\",\"#c95f96\",\"#509996\",\"#969196\",\"#826b96\",\"#5a4496\",\"#65ca96\",\"#ef4496\",\"#357b96\",\"#823b96\",\"#a43596\",\"#df9d96\",\"#d5ca96\",\"#957596\",\"#b4cf96\",\"#334196\",\"#3cb796\",\"#e55e96\",\"#8fd696\",\"#6cc096\",\"#85e396\",\"#4e4096\",\"#673396\",\"#dc5396\",\"#7dc496\",\"#642996\",\"#35c596\",\"#aa9296\",\"#5bd896\",\"#56cf96\",\"#c67b96\",\"#f4d296\",\"#a7e596\",\"#8aa096\",\"#65d096\",\"#99e196\",\"#328296\",\"#53e196\",\"#806996\",\"#b24b96\",\"#e3a696\",\"#794a96\",\"#b0c996\",\"#f2a196\",\"#3a6c96\",\"#cf3396\",\"#6e4796\",\"#474096\",\"#cd6c96\",\"#8e4896\",\"#bc2696\",\"#929796\",\"#e58b96\",\"#cf7196\",\"#b1bd96\",\"#f46f96\",\"#57cc96\",\"#ed3c96\",\"#d46496\",\"#a88396\",\"#4cba96\",\"#96a096\",\"#ce5296\",\"#cdc596\",\"#97e396\",\"#b6a296\",\"#c3a396\",\"#493e96\",\"#4b9e96\",\"#855c96\",\"#a65496\",\"#9ec796\",\"#9b9796\",\"#3fd196\",\"#955f96\",\"#3cd496\",\"#97dc96\",\"#599196\",\"#ca4296\",\"#ba3a96\",\"#891e96\",\"#bac696\",\"#9c6496\",\"#cadf96\",\"#3c7296\",\"#b1da96\",\"#719f96\",\"#38c296\",\"#d0c596\",\"#47ac96\",\"#563296\",\"#856196\",\"#662096\",\"#877b96\",\"#a87d96\",\"#5fb296\",\"#c75496\",\"#da8896\",\"#6e4796\",\"#445e96\",\"#675e96\",\"#3cbb96\",\"#f39296\",\"#543e96\",\"#89a196\",\"#bd7e96\",\"#bfa296\",\"#e9b296\",\"#e16096\",\"#ae6696\",\"#b77f96\",\"#f84396\",\"#c63d96\",\"#f9b096\",\"#c09096\",\"#8d5c96\",\"#5a7396\",\"#ab8596\",\"#f9d096\",\"#a84896\",\"#a86696\",\"#489896\",\"#425196\",\"#b69596\",\"#4da496\",\"#bf4b96\",\"#7c5b96\",\"#de7f96\",\"#54b296\",\"#f37b96\",\"#bca996\",\"#365796\",\"#aab196\",\"#73c096\",\"#b43196\",\"#bd7e96\",\"#cc6296\",\"#a64b96\",\"#947196\",\"#f44a96\",\"#85b596\",\"#d3c196\",\"#c15696\",\"#c6e196\",\"#abc996\",\"#a99e96\",\"#968296\",\"#50c096\",\"#98e196\",\"#4f4f96\",\"#4b7596\",\"#af6896\",\"#742496\",\"#98a496\",\"#952696\",\"#5f2e96\",\"#f62996\",\"#baa596\",\"#c4a296\",\"#b9d096\",\"#3a2b96\",\"#3bc496\",\"#e33c96\",\"#966596\",\"#f68096\",\"#61d996\",\"#6b7196\",\"#78d196\",\"#de5696\",\"#f56596\",\"#d64396\",\"#c1e396\",\"#cece96\",\"#f98696\",\"#7e3196\",\"#759696\",\"#ab5696\",\"#3a4c96\",\"#f11e96\",\"#694196\",\"#eb5f96\",\"#983796\",\"#8cb796\",\"#3b8696\",\"#492f96\",\"#d36796\",\"#85c596\",\"#f22796\",\"#cb6896\",\"#f86596\",\"#4e3e96\",\"#34e596\",\"#cede96\",\"#942896\",\"#d2dc96\",\"#44cc96\",\"#65ab96\",\"#f15a96\",\"#9c7196\",\"#e55196\",\"#62a296\",\"#ac3996\",\"#518896\",\"#877396\",\"#809a96\",\"#ae4896\",\"#a44196\",\"#356896\",\"#9a5496\",\"#63e496\",\"#3b3596\",\"#3e7396\",\"#c1a796\",\"#965196\",\"#b49296\",\"#752096\",\"#a1a896\",\"#4d4d96\",\"#d0c696\",\"#3bb696\",\"#8b4996\",\"#9d2096\",\"#987a96\",\"#ab8896\",\"#46af96\",\"#f0e096\",\"#917596\",\"#db4796\",\"#bca696\",\"#f48296\",\"#b92a96\",\"#858296\",\"#334596\",\"#d2a896\",\"#709e96\",\"#b0bb96\",\"#79c496\",\"#a87196\",\"#acad96\",\"#d26396\",\"#bc8c96\",\"#677296\",\"#6ab696\",\"#e87596\",\"#d6b196\",\"#3d6e96\",\"#342f96\",\"#3bba96\",\"#4ec596\",\"#997296\",\"#cd5d96\",\"#c4c896\",\"#49d096\",\"#e81e96\",\"#d67196\",\"#7f6396\",\"#ddbd96\",\"#5bc696\",\"#d7da96\",\"#db2396\",\"#39a096\",\"#98a196\",\"#744496\",\"#9f2396\",\"#e72396\",\"#d48c96\",\"#8a3896\",\"#37a096\",\"#c09f96\",\"#d56396\",\"#6aa896\",\"#d58a96\",\"#db2b96\",\"#f59596\",\"#5b4f96\",\"#cc8096\",\"#54a796\",\"#53de96\",\"#d97096\",\"#b4c096\",\"#485a96\",\"#7ed496\",\"#eccc96\",\"#6b5d96\",\"#d05e96\",\"#b3d796\",\"#928a96\",\"#e92896\",\"#3dce96\",\"#e5da96\",\"#b1d296\",\"#9f8996\",\"#cb2896\",\"#f7e596\",\"#ef5796\",\"#bd8a96\",\"#92af96\",\"#e2dc96\",\"#df5c96\",\"#3b2896\",\"#6bb096\",\"#bea996\",\"#aad196\",\"#9c2496\",\"#702796\",\"#8e4c96\",\"#c29a96\",\"#898a96\",\"#62a296\",\"#754b96\",\"#5d3a96\",\"#905396\",\"#7c9f96\",\"#f99396\",\"#d5cd96\",\"#543596\",\"#e14096\",\"#f08996\",\"#c42096\",\"#796a96\",\"#5c1e96\",\"#bb9796\",\"#cfd396\",\"#86d896\",\"#44c696\",\"#3b2396\",\"#a7b996\",\"#6e8e96\",\"#9fb696\",\"#443e96\",\"#379696\",\"#e16e96\",\"#6fa196\",\"#638096\",\"#f13f96\",\"#e2de96\",\"#a86b96\",\"#f82b96\",\"#a1e496\",\"#42e196\",\"#3fd496\",\"#eb5f96\",\"#972396\",\"#769f96\",\"#4ade96\",\"#87da96\",\"#393096\",\"#d7db96\",\"#9f3396\",\"#425096\",\"#8a9e96\",\"#776b96\",\"#353996\",\"#405e96\",\"#72c096\",\"#372196\",\"#62d096\",\"#456b96\",\"#483196\",\"#927996\",\"#75a696\",\"#7c4f96\",\"#a4cd96\",\"#a34196\",\"#87d996\",\"#9f8a96\",\"#a07496\",\"#ee9c96\",\"#672c96\",\"#888f96\",\"#85b996\",\"#bddc96\",\"#a7c196\",\"#3aa896\",\"#dcc396\",\"#4f4796\",\"#548096\",\"#8bb196\",\"#3d4e96\",\"#cca196\",\"#767f96\",\"#395096\",\"#4bc996\",\"#73d096\",\"#abe396\",\"#d65696\",\"#d35396\",\"#ac9e96\",\"#b97596\",\"#627796\",\"#6e3196\",\"#b33b96\",\"#b3be96\",\"#d55896\",\"#c83696\",\"#723896\",\"#95c596\",\"#5a5196\",\"#5ec296\",\"#7de596\",\"#5b6596\",\"#375f96\",\"#ef7996\",\"#ce3b96\",\"#64c396\",\"#e06896\",\"#676b96\",\"#bf6696\",\"#4c9d96\",\"#7a8396\",\"#769d96\",\"#dab296\",\"#8aa296\",\"#637396\",\"#ec3796\",\"#359396\",\"#ae8696\",\"#e44696\",\"#63a196\",\"#84c696\",\"#656c96\",\"#706696\",\"#6dc996\",\"#a9d496\",\"#342c96\",\"#f64f96\",\"#998d96\",\"#e2ac96\",\"#639896\",\"#733d96\",\"#b6d396\",\"#da9096\",\"#8a5d96\",\"#544696\",\"#dc7496\",\"#95b996\",\"#9c8c96\",\"#85c996\",\"#3a2196\",\"#9d2596\",\"#529896\",\"#791f96\",\"#f1df96\",\"#ead196\",\"#d7a196\",\"#659596\",\"#dac696\",\"#a8e496\",\"#3f5296\",\"#3c6696\",\"#70ab96\",\"#dc4296\",\"#f32396\",\"#73b896\",\"#667a96\",\"#517c96\",\"#ede196\",\"#726996\",\"#5a4096\",\"#f0b896\",\"#646296\",\"#ab5996\",\"#bd1f96\",\"#968396\",\"#846396\",\"#9b7a96\",\"#48ac96\",\"#a54996\",\"#f7d396\",\"#3de396\",\"#ccd596\",\"#c64a96\",\"#c68096\",\"#98e596\",\"#656b96\",\"#3bc296\",\"#d1d196\",\"#d6d396\",\"#92c396\",\"#567f96\",\"#4cac96\",\"#a8e296\",\"#9da196\",\"#d87296\",\"#5c3e96\",\"#332196\",\"#98d296\",\"#802096\",\"#ad8196\",\"#b4b796\",\"#f16696\",\"#c4c696\",\"#e03796\",\"#51c296\",\"#88e496\",\"#338b96\",\"#c87b96\",\"#438b96\",\"#3a2096\",\"#bd2996\",\"#bb2296\",\"#bd7796\",\"#755596\",\"#779d96\",\"#9b7f96\",\"#4b4e96\",\"#ae5196\",\"#b88396\",\"#d6d296\",\"#6b7196\",\"#5dd596\",\"#857196\",\"#b03c96\",\"#bdd196\",\"#713496\",\"#a46496\",\"#975296\",\"#58e496\",\"#42c796\",\"#eec296\",\"#cdb596\",\"#899296\",\"#327496\",\"#ccab96\",\"#859696\",\"#5e7d96\",\"#353d96\",\"#74d696\",\"#60cb96\",\"#4a2496\",\"#a95596\",\"#964596\",\"#753396\",\"#409a96\",\"#a52596\",\"#db6896\",\"#b4ca96\",\"#6c4c96\",\"#719a96\",\"#39a896\",\"#8c6c96\",\"#405b96\",\"#66c196\",\"#d6ca96\",\"#3a7996\",\"#b82096\",\"#e46c96\",\"#54ae96\",\"#32b296\",\"#365296\",\"#76c496\",\"#5b8996\",\"#de6996\",\"#4bb196\",\"#4a2c96\",\"#797496\",\"#e12e96\",\"#613096\",\"#e22f96\",\"#3ab596\",\"#78e096\",\"#f56896\",\"#b22996\",\"#f3db96\",\"#f1ae96\",\"#8bac96\",\"#be8a96\",\"#c6a596\",\"#9a6796\",\"#454a96\",\"#de6e96\",\"#be4496\",\"#efc296\",\"#908696\",\"#354796\",\"#559e96\",\"#8fa496\",\"#3e2a96\",\"#50ce96\",\"#957b96\",\"#7da196\",\"#d66196\",\"#baa896\",\"#bf2896\",\"#845496\",\"#9f9696\",\"#a2ce96\",\"#47c396\",\"#aa8896\",\"#df5496\",\"#a38d96\",\"#406296\",\"#5cc496\",\"#a2b296\",\"#7cbe96\",\"#9cb596\",\"#96b796\",\"#5d2196\",\"#5c3196\",\"#d6d696\",\"#437a96\",\"#96db96\",\"#cf3796\",\"#bd7e96\",\"#e55396\",\"#3d5396\",\"#964196\",\"#847796\",\"#647596\",\"#898e96\",\"#877596\",\"#f28d96\",\"#eb7e96\",\"#965e96\",\"#57a396\",\"#668d96\",\"#a3b896\",\"#f99a96\",\"#6fc796\",\"#5c3596\",\"#9f5096\",\"#97c796\",\"#c4be96\",\"#a03c96\",\"#b28096\",\"#86d296\",\"#c36296\",\"#372596\",\"#759896\",\"#375496\",\"#5eb396\",\"#b77f96\",\"#f1d196\",\"#552296\",\"#b1e096\",\"#d1ac96\",\"#ad9896\",\"#62e096\",\"#412796\",\"#d25396\",\"#c89096\",\"#767b96\",\"#338096\",\"#684b96\",\"#be3f96\",\"#6d7596\",\"#edcf96\",\"#3a6796\",\"#e39896\",\"#897096\",\"#bf5396\",\"#976796\",\"#97d596\",\"#cd3196\",\"#445696\",\"#9fc996\",\"#3a7296\",\"#ba9f96\",\"#a89696\",\"#884596\",\"#a32996\",\"#813096\",\"#907d96\",\"#9cb396\",\"#f73a96\",\"#ac5196\",\"#ee4596\",\"#cedc96\",\"#d0b096\",\"#5b6596\",\"#c4ce96\",\"#356a96\",\"#d7dc96\",\"#786696\",\"#b8dc96\",\"#e98596\",\"#56c996\",\"#e3b496\",\"#462596\",\"#f43896\",\"#dc6b96\",\"#6c8e96\",\"#f2b296\",\"#82dd96\",\"#326a96\",\"#a93596\",\"#5d7996\",\"#d43596\",\"#c36296\",\"#474e96\",\"#946996\",\"#a8d196\",\"#4e7096\",\"#493196\",\"#df6896\",\"#9f8796\",\"#c98d96\",\"#c72096\",\"#b5aa96\",\"#80c796\",\"#406196\",\"#90a896\",\"#42c196\",\"#67cf96\",\"#e98d96\",\"#322596\",\"#467096\",\"#38bf96\",\"#cb3396\",\"#9a3896\",\"#9f9c96\",\"#ca4096\",\"#33c796\",\"#994496\",\"#59db96\",\"#9b3396\",\"#8c7496\",\"#68bf96\",\"#48b296\",\"#473096\",\"#413796\",\"#c1d696\",\"#61d096\",\"#755096\",\"#48d796\",\"#f4a496\",\"#799196\",\"#b48096\",\"#589a96\",\"#cacd96\",\"#6cc896\",\"#8bdc96\",\"#93a996\",\"#776c96\",\"#945996\",\"#6d5896\",\"#44dd96\",\"#922c96\",\"#665a96\",\"#d89a96\",\"#608196\",\"#3b6696\",\"#efa796\",\"#ea7696\",\"#5a6196\",\"#905c96\",\"#c24d96\",\"#c08296\",\"#5e2a96\",\"#df7696\",\"#f39b96\",\"#404b96\",\"#573896\",\"#e99a96\",\"#8db996\",\"#c75296\",\"#345e96\",\"#385496\",\"#768b96\",\"#d82596\",\"#e38e96\",\"#7ed296\",\"#ce3796\",\"#71b696\",\"#f1cc96\",\"#ea5296\",\"#5c3e96\",\"#c84896\",\"#c53396\",\"#bb3196\",\"#766296\",\"#ea2796\",\"#7a2696\",\"#666196\",\"#b98496\",\"#c4df96\",\"#c67396\",\"#961e96\",\"#d59f96\",\"#438496\",\"#e2b196\",\"#418296\",\"#dfe596\",\"#db7e96\",\"#d22696\",\"#46aa96\",\"#5bd996\",\"#737796\",\"#65d996\",\"#8f7296\",\"#d9d496\",\"#b3c896\",\"#b4e296\",\"#8cd996\",\"#87b996\",\"#bfab96\",\"#ae4896\",\"#ced296\",\"#46a996\",\"#49ca96\",\"#8e9496\",\"#6ec396\",\"#99dc96\",\"#93dc96\",\"#e72b96\",\"#6fcf96\",\"#6c7496\",\"#d25796\",\"#f89896\",\"#a8a596\",\"#e05796\",\"#cd2b96\",\"#dac296\",\"#91bb96\",\"#f1ad96\",\"#b15196\",\"#c32196\",\"#f15196\",\"#7ea896\",\"#696a96\",\"#672696\",\"#d07396\",\"#c75896\",\"#e4bd96\",\"#385096\",\"#3b6a96\",\"#8f4496\",\"#a1e596\",\"#deb296\",\"#937d96\",\"#68a396\",\"#975896\",\"#d78a96\",\"#898196\",\"#d66096\",\"#5b3a96\",\"#a6e096\",\"#e54696\",\"#b09496\",\"#cada96\",\"#d97296\",\"#ab9296\",\"#529896\",\"#44d496\",\"#b7a196\",\"#e17c96\",\"#4ccb96\",\"#452496\",\"#b8c096\",\"#a66796\",\"#3fd896\",\"#ab4b96\",\"#a9bf96\",\"#e9c996\",\"#e83096\",\"#c16896\",\"#62a996\",\"#4c3396\",\"#98a396\",\"#cf7696\",\"#964696\",\"#90b396\",\"#f1a796\",\"#bbcb96\",\"#5d3796\",\"#80b196\",\"#5cd296\",\"#8c8896\",\"#a37996\",\"#57cb96\",\"#e93196\",\"#793496\",\"#526f96\",\"#708796\",\"#b63696\",\"#ee5996\",\"#be2e96\",\"#6b4096\",\"#4bc896\",\"#f3ae96\",\"#d69196\",\"#96cb96\",\"#e44e96\",\"#7e8e96\",\"#edd296\",\"#5a9396\",\"#5f8296\",\"#53ca96\",\"#f3b996\",\"#9f2796\",\"#d2bd96\",\"#848896\",\"#e87b96\",\"#e52b96\",\"#a61f96\",\"#ad9e96\",\"#9e6296\",\"#f84296\",\"#8f4296\",\"#e72a96\",\"#4a5c96\",\"#815996\",\"#8c7d96\",\"#ead896\",\"#469496\",\"#7c4996\",\"#c9b696\",\"#cbd696\",\"#626d96\",\"#566b96\",\"#d19696\",\"#685b96\",\"#bc5c96\",\"#c19c96\",\"#bac096\",\"#81cf96\",\"#89ae96\",\"#b6c496\",\"#a15c96\",\"#739c96\",\"#382396\",\"#f73b96\",\"#79d496\",\"#bd2096\",\"#40a496\",\"#75c696\",\"#d6d896\",\"#a8e196\",\"#46b696\",\"#6b6196\",\"#f23496\",\"#b93c96\",\"#d67796\",\"#40df96\",\"#e72196\",\"#c4c596\",\"#81b896\",\"#8e1f96\",\"#f59b96\",\"#81e296\",\"#df8b96\",\"#9fc196\",\"#53a896\",\"#cca496\",\"#952e96\",\"#72b696\",\"#ca9096\",\"#7d5696\",\"#ccba96\",\"#5a8d96\",\"#65c396\",\"#85ce96\",\"#8cae96\",\"#eaac96\",\"#528496\",\"#b1d196\",\"#db8096\",\"#d93196\",\"#df4e96\",\"#364a96\",\"#b8b196\",\"#883b96\",\"#f3c296\",\"#5ccb96\",\"#f95796\",\"#cf3b96\",\"#878b96\",\"#5cd796\",\"#bc6b96\",\"#df5396\",\"#494a96\",\"#c76696\",\"#b47496\",\"#45a396\",\"#f19b96\",\"#527496\",\"#759e96\",\"#d2d296\",\"#b07196\",\"#aab996\",\"#482196\",\"#c04296\",\"#c08b96\",\"#ca9896\",\"#aeb196\",\"#df7b96\",\"#47bd96\",\"#f1b596\",\"#7d8596\",\"#592396\",\"#ce7a96\",\"#849496\",\"#eb2796\",\"#915996\",\"#3ab596\",\"#a5e096\",\"#d33896\",\"#5f8896\",\"#9e4396\",\"#5c9a96\",\"#4a2d96\",\"#cab496\",\"#912696\",\"#666b96\",\"#556b96\",\"#324a96\",\"#b48096\",\"#787396\",\"#5f4596\",\"#976196\",\"#85c496\",\"#5e4696\",\"#9a7c96\",\"#c0ae96\",\"#ad6496\",\"#b94196\",\"#7fd096\",\"#7ad696\",\"#af2896\",\"#a75696\",\"#b84c96\",\"#aa9a96\",\"#9f5e96\",\"#f0b296\",\"#483496\",\"#54b396\",\"#3a8396\",\"#9cc296\",\"#418896\",\"#a8c696\",\"#a17e96\",\"#974d96\",\"#579f96\",\"#885d96\",\"#7cd596\",\"#944296\",\"#b13b96\",\"#9dd396\",\"#d9d396\",\"#794f96\",\"#d64296\",\"#f89096\",\"#378d96\",\"#4f2b96\",\"#e3b696\",\"#b21e96\",\"#ab5596\",\"#d64896\",\"#6ee096\",\"#b7ad96\",\"#579b96\",\"#bc9596\",\"#3bca96\",\"#729d96\",\"#725996\",\"#649c96\",\"#665c96\",\"#f75f96\",\"#bc6196\",\"#eb8a96\",\"#e5b596\",\"#739d96\",\"#d88a96\",\"#847496\",\"#c64196\",\"#a89096\",\"#bfc996\",\"#f4c696\",\"#d6a696\",\"#702b96\",\"#ebda96\",\"#ad2d96\",\"#728596\",\"#da2b96\",\"#3b7896\",\"#906d96\",\"#acdc96\",\"#c64896\",\"#ba2c96\",\"#dfd296\",\"#4d7a96\",\"#5bc296\",\"#f14796\",\"#dfab96\",\"#34ad96\",\"#bf7596\",\"#3f9596\",\"#d73096\",\"#cfb996\",\"#efdc96\",\"#cf7596\",\"#bf8796\",\"#441e96\",\"#d9a096\",\"#b7bd96\",\"#608696\",\"#89c196\",\"#8f5e96\",\"#c58696\",\"#358b96\",\"#6cc096\",\"#4eac96\",\"#8ec096\",\"#7e4a96\",\"#63c796\",\"#387496\",\"#705496\",\"#3cbb96\",\"#d14696\",\"#a32896\",\"#358196\",\"#e13396\",\"#f9a296\",\"#e5e396\",\"#a0a796\",\"#4e4d96\",\"#59a296\",\"#602d96\",\"#54c896\",\"#a27196\",\"#a5d596\",\"#e18696\",\"#dfc996\",\"#b1c396\",\"#aca096\",\"#f56d96\",\"#f59e96\",\"#9fd396\",\"#54a596\",\"#4d7a96\",\"#9a4396\",\"#f06b96\",\"#582b96\",\"#d37996\",\"#b11e96\",\"#428096\",\"#973e96\",\"#784f96\",\"#e63a96\",\"#754196\",\"#e56596\",\"#c77996\",\"#8c5396\",\"#4ec196\",\"#abb096\",\"#6fb596\",\"#4e8596\",\"#3ab796\",\"#f52596\",\"#859196\",\"#482a96\",\"#bdde96\",\"#e37d96\",\"#58b196\",\"#58df96\",\"#837f96\",\"#c71f96\",\"#435b96\",\"#796496\",\"#4b9e96\",\"#39b396\",\"#f1a896\",\"#d2c696\",\"#a8b896\",\"#c5db96\",\"#d5c196\",\"#3e1e96\",\"#8b3696\",\"#824196\",\"#8f5196\",\"#e63296\",\"#95a796\",\"#5d9996\",\"#bf6096\",\"#549296\",\"#80cf96\",\"#b64896\",\"#3f2a96\",\"#9eb496\",\"#3a9f96\",\"#535f96\",\"#a12696\",\"#57a996\",\"#db4c96\",\"#70c196\",\"#777396\",\"#741e96\",\"#b74d96\",\"#3cae96\",\"#e15296\",\"#ab3b96\",\"#873d96\",\"#5ecf96\",\"#683b96\",\"#6d8396\",\"#a8c096\",\"#833596\",\"#ca9796\",\"#e22696\",\"#4b8c96\",\"#697396\",\"#925296\",\"#b1b596\",\"#435396\",\"#d76696\",\"#938b96\",\"#832096\",\"#429f96\",\"#50d296\",\"#f4d896\",\"#38d296\",\"#58e296\",\"#a43a96\",\"#687996\",\"#802396\",\"#e42a96\",\"#515696\",\"#a4da96\",\"#9b6e96\",\"#785f96\",\"#d87596\",\"#7bb996\",\"#592896\",\"#435f96\",\"#637596\",\"#b39c96\",\"#cfd096\",\"#7bc896\",\"#c28d96\",\"#99c196\",\"#617996\",\"#ca3d96\",\"#b8ad96\",\"#d19096\",\"#484496\",\"#ba5e96\",\"#6b2e96\",\"#9b3a96\",\"#87c296\",\"#884a96\",\"#b6a196\",\"#da9396\",\"#ab4096\",\"#a58a96\",\"#806e96\",\"#b7ce96\",\"#4fa996\",\"#529d96\",\"#8a7696\",\"#71cc96\",\"#686c96\",\"#8c5096\",\"#64c396\",\"#eb8496\",\"#36e096\",\"#5f9196\",\"#ba7896\",\"#929b96\",\"#979e96\",\"#98b296\",\"#acca96\",\"#673d96\",\"#419696\",\"#b79496\",\"#746d96\",\"#a05996\",\"#686296\",\"#a16b96\",\"#4edf96\",\"#5f3396\",\"#72c296\",\"#3d8096\",\"#b05196\",\"#497496\",\"#acbf96\",\"#827a96\",\"#613196\",\"#f29f96\",\"#e65996\",\"#a93396\",\"#a89596\",\"#464996\",\"#35d696\",\"#4b5f96\",\"#8eb796\",\"#474696\",\"#3d9296\",\"#6b8c96\",\"#efc096\",\"#43d196\",\"#f34c96\",\"#d03a96\",\"#8b9796\",\"#e6d996\",\"#3fa496\",\"#90d696\",\"#a18696\",\"#9d8796\",\"#c69996\",\"#f5d096\",\"#ebc996\",\"#905896\",\"#7c5f96\",\"#548e96\",\"#372a96\",\"#592796\",\"#8b5996\",\"#c46296\",\"#bab296\",\"#7d8596\",\"#c56896\",\"#6a6d96\",\"#907696\",\"#8b4e96\",\"#d44f96\",\"#c88196\",\"#f78a96\",\"#51d396\",\"#456996\",\"#b8b896\",\"#e9b496\",\"#59ae96\",\"#3b2596\",\"#a3be96\",\"#87c496\",\"#8d2096\",\"#86d296\",\"#b52596\",\"#3bc096\",\"#c85c96\",\"#be3c96\",\"#a06d96\",\"#49d196\",\"#e03396\",\"#7f6f96\",\"#92bb96\",\"#bb2796\",\"#838296\",\"#617696\",\"#f09296\",\"#529a96\",\"#cc4696\",\"#a5e196\",\"#467b96\",\"#4a2a96\",\"#496796\",\"#cde396\",\"#75b596\",\"#65b396\",\"#77a096\",\"#aebb96\",\"#ee9a96\",\"#d3a896\",\"#f64496\",\"#8e9d96\",\"#79d196\",\"#864d96\",\"#423196\",\"#913896\",\"#8d4896\",\"#597a96\",\"#f8b596\",\"#b23f96\",\"#7e8896\",\"#d89b96\",\"#dc4696\",\"#74b196\",\"#ca5b96\",\"#a38196\",\"#99e396\",\"#41c296\",\"#c26f96\",\"#de2596\",\"#55a496\",\"#f08b96\",\"#f8bb96\",\"#b46896\",\"#7fa896\",\"#685096\",\"#d7e596\",\"#798e96\",\"#813f96\",\"#47db96\",\"#8ec196\",\"#ce5396\",\"#c52b96\",\"#6d7c96\",\"#b5dc96\",\"#a94096\",\"#915696\",\"#eab996\",\"#a79f96\",\"#c21f96\",\"#a89196\",\"#cb9796\",\"#d6d996\",\"#3e3e96\",\"#ef4f96\",\"#ad8796\",\"#c23f96\",\"#34aa96\",\"#936e96\",\"#556f96\",\"#b9b896\",\"#67ae96\",\"#53cf96\",\"#70d596\",\"#ccc596\",\"#f58a96\",\"#cfad96\",\"#a63a96\",\"#5a3396\",\"#c29096\",\"#3f8496\",\"#f93296\",\"#ca9d96\",\"#a0a996\",\"#ee8096\",\"#e83b96\",\"#a17096\",\"#44c496\",\"#ee5f96\",\"#935796\",\"#387196\",\"#4dcb96\",\"#e94296\",\"#d22896\",\"#945996\",\"#aeb796\",\"#7c2a96\",\"#897696\",\"#4caa96\",\"#d94d96\",\"#8f6796\",\"#485e96\",\"#b6b696\",\"#413a96\",\"#787396\",\"#352e96\",\"#7c4996\",\"#e6df96\",\"#69ac96\",\"#ef7996\",\"#e07796\",\"#4ba096\",\"#a96196\",\"#566596\",\"#7ec096\",\"#e68696\",\"#426096\",\"#c28496\",\"#ddbf96\",\"#e44396\",\"#61d696\",\"#5de396\",\"#a32296\",\"#859496\",\"#41d196\",\"#c3ce96\",\"#764696\",\"#698596\",\"#e0e296\",\"#a28d96\",\"#735e96\",\"#7adc96\",\"#cadf96\",\"#b86f96\",\"#9bc396\",\"#687996\",\"#7c7b96\",\"#b47496\",\"#43ce96\",\"#cdc696\",\"#dd9d96\",\"#b69c96\",\"#735b96\",\"#82c696\",\"#904a96\",\"#347f96\",\"#842796\",\"#4d1e96\",\"#c6b996\",\"#535996\",\"#84e196\",\"#364f96\",\"#473796\",\"#59df96\",\"#589896\",\"#b78096\",\"#ce3296\",\"#6e2796\",\"#7fc396\",\"#a1c296\",\"#a24c96\",\"#39c396\",\"#59ad96\",\"#d36596\",\"#3e8296\",\"#ca8f96\",\"#4d3396\",\"#f25796\",\"#83cb96\",\"#7bb396\",\"#e92096\",\"#467d96\",\"#c63196\",\"#913396\",\"#a0ca96\",\"#7d7196\",\"#af3296\",\"#4a9596\",\"#dd2196\",\"#ecde96\",\"#f08d96\",\"#4e4f96\",\"#5d7896\",\"#5b4e96\",\"#61cb96\",\"#a36c96\",\"#796a96\",\"#f05396\",\"#61b396\",\"#5bb696\",\"#6d7f96\",\"#a78396\",\"#343296\",\"#a3aa96\",\"#e0d396\",\"#336896\",\"#be3d96\",\"#f0af96\",\"#499f96\",\"#3cb996\",\"#a5ba96\",\"#cf5f96\",\"#8a5696\",\"#b56a96\",\"#68bb96\",\"#788096\",\"#b56b96\",\"#a0e096\",\"#c63f96\",\"#65b496\",\"#747f96\",\"#6e2396\",\"#588596\",\"#e12e96\",\"#737e96\",\"#ea2996\",\"#60a996\",\"#7f6d96\",\"#80e096\",\"#747496\",\"#643496\",\"#a87096\",\"#94d196\",\"#47cd96\",\"#67a596\",\"#f62596\",\"#dec396\",\"#c65f96\",\"#5ec396\",\"#e4d596\",\"#a4c896\",\"#eb7996\",\"#918896\",\"#4a7696\",\"#a3d496\",\"#486d96\",\"#33b596\",\"#97dc96\",\"#763596\",\"#513396\",\"#bf2896\",\"#37bf96\",\"#64a996\",\"#73a096\",\"#73c996\",\"#3a4896\",\"#dd7296\",\"#5d9f96\",\"#f0e296\",\"#ccb696\",\"#8f9f96\",\"#72e496\",\"#e3c896\",\"#5b7096\",\"#892396\",\"#e21f96\",\"#4cb096\",\"#48ab96\",\"#ce9c96\",\"#7fa796\",\"#b02196\",\"#732096\",\"#743696\",\"#45de96\",\"#59a196\",\"#554f96\",\"#86ba96\",\"#4e9596\",\"#744f96\",\"#9b8e96\",\"#a2d096\",\"#a19096\",\"#f8d096\",\"#7fb796\",\"#a5a296\",\"#d77896\",\"#84ae96\",\"#373296\",\"#889096\",\"#f82696\",\"#5a3896\",\"#dcae96\",\"#e54b96\",\"#b06496\",\"#a68f96\",\"#4ae396\",\"#d95696\",\"#3e9496\",\"#726896\",\"#f86996\",\"#516c96\",\"#8ed396\",\"#de7296\",\"#9da596\",\"#5c5a96\",\"#5c2b96\",\"#525596\",\"#4a6796\",\"#5f7096\",\"#816296\",\"#3f4a96\",\"#9f5e96\",\"#4ee496\",\"#7b6196\",\"#ee4d96\",\"#3b9396\",\"#64a696\",\"#e84c96\",\"#b0d496\",\"#338996\",\"#72c396\",\"#a05796\",\"#d08a96\",\"#d34496\",\"#d43b96\",\"#763096\",\"#5c6096\",\"#556796\",\"#8ea096\",\"#a12f96\",\"#9f3a96\",\"#513996\",\"#74a696\",\"#e5e396\",\"#648896\",\"#929796\",\"#5a6296\",\"#d43096\",\"#92a696\",\"#c94896\",\"#72ae96\",\"#a78796\",\"#aedd96\",\"#cc3b96\",\"#63d496\",\"#7ad796\",\"#dde396\",\"#b2cf96\",\"#71dc96\",\"#649a96\",\"#c86996\",\"#e86e96\",\"#7d8b96\",\"#3d2a96\",\"#32e396\",\"#cc7496\",\"#a7ce96\",\"#38df96\",\"#3d8e96\",\"#587096\",\"#96b496\",\"#c25796\",\"#70d196\",\"#93be96\",\"#c6c596\",\"#5c8f96\",\"#c92396\",\"#d12d96\",\"#39b196\",\"#d39496\",\"#845b96\",\"#6a4896\",\"#549596\",\"#7e7c96\",\"#bac096\",\"#852396\",\"#eeb996\",\"#6c4696\",\"#791f96\",\"#74d296\",\"#f15396\",\"#3bac96\",\"#dbcd96\",\"#5aac96\",\"#cbb096\",\"#6e4796\",\"#b4c596\",\"#d3c796\",\"#469096\",\"#b75496\",\"#6db596\",\"#94d496\",\"#3f5696\",\"#a3b996\",\"#879e96\",\"#f58d96\",\"#9d8c96\",\"#5bb396\",\"#e44696\",\"#789996\",\"#e92d96\",\"#33cb96\",\"#d5c096\",\"#c16596\",\"#a38e96\",\"#d67f96\",\"#6a4496\",\"#d36a96\",\"#bd9596\",\"#4a2396\",\"#7e5b96\",\"#358696\",\"#cf3c96\",\"#e43396\",\"#e4cb96\",\"#db9896\",\"#5d2a96\",\"#e24b96\",\"#eda496\",\"#536796\",\"#7b4e96\",\"#805e96\",\"#e4a096\",\"#67b496\",\"#a8b996\",\"#c1c796\",\"#ae3f96\",\"#376e96\",\"#de8b96\",\"#72b096\",\"#d5e396\",\"#add996\",\"#677c96\",\"#c1d696\",\"#947496\",\"#813596\",\"#7a3096\",\"#a7e296\",\"#813796\",\"#68c896\",\"#78a296\",\"#35e496\",\"#d53896\",\"#80b496\",\"#577796\",\"#ee9596\",\"#67b596\",\"#b95d96\",\"#35ad96\",\"#d75996\",\"#a7cc96\",\"#657f96\",\"#b08496\",\"#514196\",\"#937996\",\"#72dc96\",\"#a9a996\",\"#ce4e96\",\"#6f4b96\",\"#e7dd96\",\"#a17696\",\"#a09696\",\"#e33f96\",\"#904396\",\"#bcd496\",\"#662496\",\"#772a96\",\"#afa696\",\"#782296\",\"#d39e96\",\"#acda96\",\"#68b596\",\"#c3c096\",\"#a06696\",\"#7c8596\",\"#4d6496\",\"#d22f96\",\"#d03e96\",\"#5e8896\",\"#a03496\",\"#f34b96\",\"#69d096\",\"#82cf96\",\"#d75e96\",\"#de2d96\",\"#8fdc96\",\"#ee3e96\",\"#5d7996\",\"#848296\",\"#f35396\",\"#9dcd96\",\"#645a96\",\"#75ab96\",\"#f8cb96\"]]]}}},\"view\":{\"type\":\"object\",\"name\":\"CDSView\",\"id\":\"p1036\",\"attributes\":{\"filter\":{\"type\":\"object\",\"name\":\"AllIndices\",\"id\":\"p1037\"}}},\"glyph\":{\"type\":\"object\",\"name\":\"Circle\",\"id\":\"p1032\",\"attributes\":{\"x\":{\"type\":\"field\",\"field\":\"x\"},\"y\":{\"type\":\"field\",\"field\":\"y\"},\"line_color\":{\"type\":\"value\",\"value\":null},\"fill_color\":{\"type\":\"field\",\"field\":\"fill_color\"},\"fill_alpha\":{\"type\":\"value\",\"value\":0.6},\"radius\":{\"type\":\"field\",\"field\":\"radius\"}}},\"nonselection_glyph\":{\"type\":\"object\",\"name\":\"Circle\",\"id\":\"p1033\",\"attributes\":{\"x\":{\"type\":\"field\",\"field\":\"x\"},\"y\":{\"type\":\"field\",\"field\":\"y\"},\"line_color\":{\"type\":\"value\",\"value\":null},\"line_alpha\":{\"type\":\"value\",\"value\":0.1},\"fill_color\":{\"type\":\"field\",\"field\":\"fill_color\"},\"fill_alpha\":{\"type\":\"value\",\"value\":0.1},\"hatch_alpha\":{\"type\":\"value\",\"value\":0.1},\"radius\":{\"type\":\"field\",\"field\":\"radius\"}}},\"muted_glyph\":{\"type\":\"object\",\"name\":\"Circle\",\"id\":\"p1034\",\"attributes\":{\"x\":{\"type\":\"field\",\"field\":\"x\"},\"y\":{\"type\":\"field\",\"field\":\"y\"},\"line_color\":{\"type\":\"value\",\"value\":null},\"line_alpha\":{\"type\":\"value\",\"value\":0.2},\"fill_color\":{\"type\":\"field\",\"field\":\"fill_color\"},\"fill_alpha\":{\"type\":\"value\",\"value\":0.2},\"hatch_alpha\":{\"type\":\"value\",\"value\":0.2},\"radius\":{\"type\":\"field\",\"field\":\"radius\"}}}}}],\"toolbar\":{\"type\":\"object\",\"name\":\"Toolbar\",\"id\":\"p1009\",\"attributes\":{\"tools\":[{\"type\":\"object\",\"name\":\"PanTool\",\"id\":\"p1022\"},{\"type\":\"object\",\"name\":\"WheelZoomTool\",\"id\":\"p1023\",\"attributes\":{\"renderers\":\"auto\"}},{\"type\":\"object\",\"name\":\"BoxZoomTool\",\"id\":\"p1024\",\"attributes\":{\"overlay\":{\"type\":\"object\",\"name\":\"BoxAnnotation\",\"id\":\"p1025\",\"attributes\":{\"syncable\":false,\"level\":\"overlay\",\"visible\":false,\"left_units\":\"canvas\",\"right_units\":\"canvas\",\"top_units\":\"canvas\",\"bottom_units\":\"canvas\",\"line_color\":\"black\",\"line_alpha\":1.0,\"line_width\":2,\"line_dash\":[4,4],\"fill_color\":\"lightgrey\",\"fill_alpha\":0.5}}}},{\"type\":\"object\",\"name\":\"SaveTool\",\"id\":\"p1026\"},{\"type\":\"object\",\"name\":\"ResetTool\",\"id\":\"p1027\"},{\"type\":\"object\",\"name\":\"HelpTool\",\"id\":\"p1028\"}]}},\"left\":[{\"type\":\"object\",\"name\":\"LinearAxis\",\"id\":\"p1017\",\"attributes\":{\"ticker\":{\"type\":\"object\",\"name\":\"BasicTicker\",\"id\":\"p1018\",\"attributes\":{\"mantissas\":[1,2,5]}},\"formatter\":{\"type\":\"object\",\"name\":\"BasicTickFormatter\",\"id\":\"p1019\"},\"major_label_policy\":{\"type\":\"object\",\"name\":\"AllLabels\",\"id\":\"p1020\"}}}],\"below\":[{\"type\":\"object\",\"name\":\"LinearAxis\",\"id\":\"p1012\",\"attributes\":{\"ticker\":{\"type\":\"object\",\"name\":\"BasicTicker\",\"id\":\"p1013\",\"attributes\":{\"mantissas\":[1,2,5]}},\"formatter\":{\"type\":\"object\",\"name\":\"BasicTickFormatter\",\"id\":\"p1014\"},\"major_label_policy\":{\"type\":\"object\",\"name\":\"AllLabels\",\"id\":\"p1015\"}}}],\"center\":[{\"type\":\"object\",\"name\":\"Grid\",\"id\":\"p1016\",\"attributes\":{\"axis\":{\"id\":\"p1012\"}}},{\"type\":\"object\",\"name\":\"Grid\",\"id\":\"p1021\",\"attributes\":{\"dimension\":1,\"axis\":{\"id\":\"p1017\"}}}]}}]}};\n",
       "  const render_items = [{\"docid\":\"90268967-295e-4380-8949-1dd519e7d24e\",\"roots\":{\"p1001\":\"bc5efcfd-1ef0-4a40-ba68-b7be2e771281\"},\"root_ids\":[\"p1001\"]}];\n",
       "  root.Bokeh.embed.embed_items_notebook(docs_json, render_items);\n",
       "  }\n",
       "  if (root.Bokeh !== undefined) {\n",
       "    embed_document(root);\n",
       "  } else {\n",
       "    let attempts = 0;\n",
       "    const timer = setInterval(function(root) {\n",
       "      if (root.Bokeh !== undefined) {\n",
       "        clearInterval(timer);\n",
       "        embed_document(root);\n",
       "      } else {\n",
       "        attempts++;\n",
       "        if (attempts > 100) {\n",
       "          clearInterval(timer);\n",
       "          console.log(\"Bokeh: ERROR: Unable to run BokehJS code because BokehJS library is missing\");\n",
       "        }\n",
       "      }\n",
       "    }, 10, root)\n",
       "  }\n",
       "})(window);"
      ],
      "application/vnd.bokehjs_exec.v0+json": ""
     },
     "metadata": {
      "application/vnd.bokehjs_exec.v0+json": {
       "id": "p1001"
      }
     },
     "output_type": "display_data"
    }
   ],
   "source": [
    "show(p)"
   ]
  },
  {
   "cell_type": "markdown",
   "metadata": {
    "slideshow": {
     "slide_type": "slide"
    }
   },
   "source": [
    "### Paraview\n",
    "\n",
    "Paraview es un software de código abierto (gratuito) que permite visualizar datos de simulaciones.\n",
    "\n",
    "Muy utilizado en algunas ramas de la ingeniería, por ejemplo para analizar simulaciones aeorodinámicas.\n",
    "\n",
    "<img style=\"float: center;\" src=\"clase4_imagenes/paraview_website.png\" alt=\"alt text\" width=\"800\" height=\"600\" class=\"blog-image\">"
   ]
  },
  {
   "cell_type": "markdown",
   "metadata": {
    "slideshow": {
     "slide_type": "slide"
    }
   },
   "source": [
    "<img style=\"float: center;\" src=\"clase4_imagenes/spitfire_paraview.png\" alt=\"alt text\" width=\"800\" height=\"600\" class=\"blog-image\">"
   ]
  },
  {
   "cell_type": "markdown",
   "metadata": {
    "slideshow": {
     "slide_type": "slide"
    }
   },
   "source": [
    "#### Visualizaciones con animaciones\n",
    "\n",
    "* Ecos de luz en la estrella RS Pup\n",
    "\n",
    "![](clase4_imagenes/rs_pup.gif)"
   ]
  },
  {
   "cell_type": "markdown",
   "metadata": {
    "slideshow": {
     "slide_type": "slide"
    }
   },
   "source": [
    "#### Visualizaciones de simulaciones\n",
    "\n",
    "* En una simulación tenemos toda la información para crear visualizaciones espectaculares.\n",
    "* Ejemplo con una simulación de N-cuerpos:\n",
    "\n",
    "<img style=\"float: center;\" src=\"clase4_imagenes/galaxy_simulations.jpg\" alt=\"alt text\" width=\"800\" height=\"600\" class=\"blog-image\">"
   ]
  },
  {
   "cell_type": "markdown",
   "metadata": {
    "slideshow": {
     "slide_type": "slide"
    }
   },
   "source": [
    "* Imagenes \"sintéticas\" de galaxias generadas en simulaciones.\n",
    "* Incluyen el cálculo preciso de las longitudes de onda de la luz según la composición de la galaxia.\n",
    "\n",
    "![](clase4_imagenes/sunrise.jpg)"
   ]
  },
  {
   "cell_type": "markdown",
   "metadata": {
    "slideshow": {
     "slide_type": "slide"
    }
   },
   "source": [
    "#### Visualización con \"renderización de volúmenes\" (Volume rendering)\n",
    "\n",
    "* Si tenemos un objeto compuesto de materia continua (no solamente partículas) hay que usar otra manera de visualizarlo.\n",
    "* Una opción es el uso de *volume rendering*\n",
    "* El concepto de *volume rendering* es calcular las propiedades de los rayos de luz que pasan dentro del objeto."
   ]
  },
  {
   "cell_type": "markdown",
   "metadata": {
    "slideshow": {
     "slide_type": "fragment"
    }
   },
   "source": [
    "![](clase4_imagenes/vol_ray_casting2.png)\n",
    "\n",
    "Este se llama *ray casting*"
   ]
  },
  {
   "cell_type": "markdown",
   "metadata": {
    "slideshow": {
     "slide_type": "slide"
    }
   },
   "source": [
    "* A veces queremos aplicar una *proyección* a la imagen para que tiene el aspecto de una imagen con perspectiva.\n",
    "\n",
    "![](clase4_imagenes/perspective.jpg)"
   ]
  },
  {
   "cell_type": "markdown",
   "metadata": {
    "slideshow": {
     "slide_type": "slide"
    }
   },
   "source": [
    "#### Un ejemplo del uso de *volume rendering* en la astronomía\n",
    "\n",
    "* Este método es muy útil para simulaciones hidrodinámicas (que incluyen el gas de la galaxia)\n",
    "\n",
    "![](clase4_imagenes/gases.png)"
   ]
  },
  {
   "cell_type": "markdown",
   "metadata": {
    "slideshow": {
     "slide_type": "slide"
    }
   },
   "source": [
    "#### Rendering\n",
    "\n",
    "* El concepto de *rendering* (calcular los rayos de luz que pasan a través o que se reflejan de un objeto) es algo muy usado en arte hecho en los computadores.\n",
    "* Hay programas disponibles que calculan la apariencia de un objeto según las luces que hay en el escenario, las propiedades de la materia del objeto, etc.\n",
    "* Por ejemplo, para Linux, hay un programa (gratis!) llamado **Blender**.\n",
    "\n",
    "![](clase4_imagenes/blender.jpeg)"
   ]
  },
  {
   "cell_type": "markdown",
   "metadata": {
    "slideshow": {
     "slide_type": "slide"
    }
   },
   "source": [
    "* Se puede usar **Blender** para crear animaciones. Puede calcular algunos aspectos de la \"física\" de un objeto, aunque no se puede crear una simulación científica...\n",
    "\n",
    "![](clase4_imagenes/wrecking_ball.gif)"
   ]
  },
  {
   "cell_type": "markdown",
   "metadata": {
    "slideshow": {
     "slide_type": "slide"
    }
   },
   "source": [
    "* Hay algunos astronómos que han usado Blender para crear visualizaciones de simulaciones astrofísicas, por ejemplo:\n",
    "\n",
    "<img style=\"float: center;\" src=\"clase4_imagenes/protodisk.jpg\" alt=\"alt text\" width=\"800\" height=\"600\" class=\"blog-image\">"
   ]
  },
  {
   "cell_type": "markdown",
   "metadata": {
    "slideshow": {
     "slide_type": "slide"
    }
   },
   "source": [
    "Hay un programa diseñado específicamente para visualizaciones de simulaciones cosmológicas que se llama **Splotch**. Aplica la transformación de los datos para dar la impresión de perspectiva, ocupa *ray casting* como en el método de *volume rendering*, etc..."
   ]
  },
  {
   "cell_type": "markdown",
   "metadata": {
    "slideshow": {
     "slide_type": "slide"
    }
   },
   "source": [
    "![](clase4_imagenes/cosmo_fly_around.gif)"
   ]
  },
  {
   "cell_type": "markdown",
   "metadata": {
    "slideshow": {
     "slide_type": "slide"
    }
   },
   "source": [
    "#### *Ray Tracing*\n",
    "\n",
    "Un área del mundo de computación gráfica (que está usado mucho en *rendering* es *ray tracing* (trazado de rayos). La idea es muy similar a *volume rendering* pero ahora incluimos la posibilidad de tener superficies reflectantes, también refracción, etc.\n",
    "\n",
    "![](clase4_imagenes/ray-tracing-fuente.webp)"
   ]
  },
  {
   "cell_type": "markdown",
   "metadata": {
    "slideshow": {
     "slide_type": "slide"
    }
   },
   "source": [
    "#### Un ejemplo (hecho por un programa escrito en C++)\n",
    "\n",
    "![](clase4_imagenes/ray11.png)"
   ]
  },
  {
   "cell_type": "markdown",
   "metadata": {
    "slideshow": {
     "slide_type": "slide"
    }
   },
   "source": [
    "# Realidad Virtual\n",
    "\n",
    "Hoy en día tenemos la tecnología para visualizar en 3D de verdad, con la *realidad virtual* (VR, por sus siglos en inglés).\n",
    "\n",
    "| ![](clase4_imagenes/oculus_rift.jpg) |\n",
    "|-------------------------------------|\n",
    "| Oculus Rift |"
   ]
  },
  {
   "cell_type": "markdown",
   "metadata": {
    "slideshow": {
     "slide_type": "slide"
    }
   },
   "source": [
    "| ![](clase4_imagenes/google_cardboard.jpg) |\n",
    "|------------------------------------------|\n",
    "| Google Cardboard |"
   ]
  },
  {
   "cell_type": "markdown",
   "metadata": {
    "slideshow": {
     "slide_type": "slide"
    }
   },
   "source": [
    "| ![](clase4_imagenes/sketchfab.jpg) |\n",
    "|-----------------------------------|\n",
    "| https://sketchfab.com |"
   ]
  },
  {
   "cell_type": "markdown",
   "metadata": {
    "slideshow": {
     "slide_type": "slide"
    }
   },
   "source": [
    "#### Visualizaciones de simulaciones cosmológicas:\n",
    "\n",
    "Créditos: *T.H Jarrett et al., Astronomy and Computing Volume 37, 2021, 100502*\n",
    "\n",
    "<img style=\"float: center;\" src=\"clase4_imagenes/VR_cosmology_Box.jpg\" alt=\"alt text\" width=\"600\" height=\"600\" class=\"blog-image\">"
   ]
  },
  {
   "cell_type": "markdown",
   "metadata": {
    "slideshow": {
     "slide_type": "slide"
    }
   },
   "source": [
    "\n",
    "<img style=\"float: center;\" src=\"clase4_imagenes/VR_cosmology_2.jpg\" alt=\"alt text\" width=\"800\" height=\"600\" class=\"blog-image\">"
   ]
  },
  {
   "cell_type": "markdown",
   "metadata": {
    "slideshow": {
     "slide_type": "slide"
    }
   },
   "source": [
    "\n",
    "<img style=\"float: center;\" src=\"clase4_imagenes/VR_cosmology.jpg\" alt=\"alt text\" width=\"800\" height=\"600\" class=\"blog-image\">"
   ]
  },
  {
   "cell_type": "markdown",
   "metadata": {
    "slideshow": {
     "slide_type": "slide"
    }
   },
   "source": [
    "## Resumen\n",
    "\n",
    "* La visualización de datos es común a todas las áreas de la ciencia, por ejemplo la astronomía y ciencias atmosféricas.\n",
    "* Python es probablemente el lenguaje más utilizado en ciencia para visualizar datos, por lo que complementa otros lenguajes (por ejemplo C es muy utilizado para simulaciones).\n",
    "* Visualizar no tan solo sirve para comunicar resultados, sino que también para inspeccionar los datos y asegurarnos que tengan sentido (como vimos con el Cuarteto de Anscombe).\n",
    "* La visualización puede ir desde gráficos de puntos en un espacio Cartesiano, hasta imágenes 3D."
   ]
  }
 ],
 "metadata": {
  "celltoolbar": "Slideshow",
  "kernelspec": {
   "display_name": "Python 3 (ipykernel)",
   "language": "python",
   "name": "python3"
  },
  "language_info": {
   "codemirror_mode": {
    "name": "ipython",
    "version": 3
   },
   "file_extension": ".py",
   "mimetype": "text/x-python",
   "name": "python",
   "nbconvert_exporter": "python",
   "pygments_lexer": "ipython3",
   "version": "3.9.6"
  }
 },
 "nbformat": 4,
 "nbformat_minor": 2
}
