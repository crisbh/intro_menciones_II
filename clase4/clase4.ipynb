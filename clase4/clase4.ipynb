{
 "cells": [
  {
   "cell_type": "markdown",
   "metadata": {
    "slideshow": {
     "slide_type": "skip"
    }
   },
   "source": [
    "# Instructions to export slides\n",
    "\n",
    "We might be interested in hiding the code of some slides, e.g. when displaying a video. In order to achieve this,\n",
    " the metadata of the cell has to be edited to include \"to_remove\" tag from the View->Cell Toolbar->Edit Metadata option.\n",
    " \n",
    "For instance:\n",
    " \n",
    "```js\n",
    "{\n",
    "    \"tags\": [\n",
    "        \"to_remove\"\n",
    "    ],\n",
    "    \"slideshow\": {\n",
    "        \"slide_type\": \"slide\"\n",
    "    }\n",
    "}\n",
    "```\n",
    "\n",
    "In order for this to take effect, the slideshow must be compile via the terminal using:\n",
    "```sh\n",
    "jupyter nbconvert presentation.ipynb --to slides --no-prompt --TagRemovePreprocessor.remove_input_tags {\\\"to_remove\\\"} --post serve --SlidesExporter.reveal_theme=simple\n",
    "```"
   ]
  },
  {
   "cell_type": "markdown",
   "metadata": {
    "editable": true,
    "slideshow": {
     "slide_type": "slide"
    },
    "tags": []
   },
   "source": [
    "# Visualización de datos\n",
    "\n",
    "Supongamos que tenemos el resultado de un análisis de datos: podrían ser de algún experimento, una simulación, de un algorítmo de *machine learning*, etc. \n",
    "\n",
    "El último paso es la comunicación de estos resultados con una **visualización de datos**.\n",
    "\n",
    "<img style=\"float: center;\" src=\"clase4_imagenes/infographic.png\" alt=\"alt text\" width=\"600\" height=\"600\" class=\"blog-image\">"
   ]
  },
  {
   "cell_type": "markdown",
   "metadata": {
    "editable": true,
    "slideshow": {
     "slide_type": "slide"
    },
    "tags": []
   },
   "source": [
    "# Visualización de datos\n",
    "\n",
    "- Por qué es útil la visualización de datos?\n",
    "- Información y datos: **¿son lo mismo?**"
   ]
  },
  {
   "cell_type": "markdown",
   "metadata": {
    "editable": true,
    "slideshow": {
     "slide_type": "slide"
    },
    "tags": []
   },
   "source": [
    "# Visualización de datos\n",
    "\n",
    "* La visualización es un aspecto muy importante en todas las áreas de la ciencia. \n",
    "* Hay muy pocos casos donde *no* necesitamos crear una representación gráfica de nuestro trabajo.\n",
    "* Incluso en la matemática pura, una visualización buena puede ayudar mucho."
   ]
  },
  {
   "cell_type": "markdown",
   "metadata": {
    "slideshow": {
     "slide_type": "slide"
    }
   },
   "source": [
    "¿Por qué es tan importante? Porque nuestros cerebros procesan información visual muy rápidamente...\n",
    "\n",
    "![](clase4_imagenes/bandwidth_brain.png)"
   ]
  },
  {
   "cell_type": "markdown",
   "metadata": {
    "slideshow": {
     "slide_type": "slide"
    }
   },
   "source": [
    "### El Cuarteto de Anscombe\n",
    "\n",
    "En las clases sobre análisis de datos, vimos que es muy importante \"explorar\" los datos a ver como son. \n",
    "\n",
    "Una forma rápida y útil de hacer eso es... graficarlos."
   ]
  },
  {
   "cell_type": "markdown",
   "metadata": {
    "slideshow": {
     "slide_type": "fragment"
    }
   },
   "source": [
    "\n",
    "Vamos a ver un ejemplo famoso de la estadística, llamado **\"El Cuarteto de Anscombe\"**.\n",
    "\n",
    "![](clase4_imagenes/anscombes_quartet_valores.png)"
   ]
  },
  {
   "cell_type": "markdown",
   "metadata": {
    "slideshow": {
     "slide_type": "slide"
    }
   },
   "source": [
    "El Cuarteto de Anscombe consiste en 4 conjuntos de datos con valores diferentes, pero propiedades *estadísticas idénticas*:\n",
    "\n",
    "* El promedio, desviación estándar ($\\sigma$) y suma total son las mismas.\n",
    "* La *correlación* entre las variables es la misma.\n",
    "* La recta obtenida mediante *regresión lineal* también es la misma.\n",
    "\n",
    "<img style=\"float: center;\" src=\"clase4_imagenes/Anscombe_tabla_propiedades.png\" alt=\"alt text\" width=\"500\" height=\"400\" class=\"blog-image\">"
   ]
  },
  {
   "cell_type": "markdown",
   "metadata": {
    "slideshow": {
     "slide_type": "slide"
    }
   },
   "source": [
    "Los gráficos de los datos y rectas obtenida mediante regresión lineal:\n",
    "\n",
    "<img style=\"float: center;\" src=\"clase4_imagenes/anscombes_quartet.png\" alt=\"alt text\" width=\"900\" height=\"600\" class=\"blog-image\">"
   ]
  },
  {
   "cell_type": "markdown",
   "metadata": {
    "slideshow": {
     "slide_type": "slide"
    }
   },
   "source": [
    "¡Los 4 conjuntos de datos son muy diferentes! \n",
    "\n",
    "- El único gráfico que parece \"normal\" es el primero. \n",
    "\n",
    "- Todos los otros muestran puntos con cierta \"estructura\".\n",
    "    - Es decir, no parecen datos \"reales\" de algún experimento, observación, etc, sino más bien artificiales. "
   ]
  },
  {
   "cell_type": "markdown",
   "metadata": {
    "editable": true,
    "slideshow": {
     "slide_type": "fragment"
    },
    "tags": []
   },
   "source": [
    "Si no tenemos una razón para sospechar que haya estructura en los datos, podríamos concluir que hay algo mal en nuestros datos en los otros 3 gráficos.\n",
    "\n",
    "**Conclusión**: El Cuarteto de Anscombe nos enseña porqué es importante el uso de los gráficos para analizar rápidamente los datos, y posiblemente detectar problemas."
   ]
  },
  {
   "cell_type": "markdown",
   "metadata": {
    "editable": true,
    "slideshow": {
     "slide_type": "slide"
    },
    "tags": []
   },
   "source": [
    "### El flujo de trabajo cuando trabajos con datos\n",
    "\n",
    "Datos → Visualización → Interpretación → Entendimiento."
   ]
  },
  {
   "cell_type": "markdown",
   "metadata": {
    "editable": true,
    "slideshow": {
     "slide_type": "slide"
    },
    "tags": []
   },
   "source": [
    "### Visualizaciones en la astronomía\n",
    "\n",
    "* Las visualizaciones a veces nos permiten *entender* los datos en una manera nueva.\n",
    "* Hay muchos ejemplos en la astronomía, que es una ciencia que se basa en las representaciones gráficas de los datos."
   ]
  },
  {
   "cell_type": "markdown",
   "metadata": {
    "editable": true,
    "slideshow": {
     "slide_type": "slide"
    },
    "tags": []
   },
   "source": [
    "<img style=\"float: right;\" src=\"clase4_imagenes/HRDiagram-es.png\">\n",
    "\n",
    "### Diagrama de Hertzsprung-Russell\n",
    "\n",
    "También se llaman *diagrama de color-magnitud* de las estrellas.\n",
    "\n",
    "\n",
    "En tal diagrama graficamos el color (o temperatura) de una estrella contra su magnitud (o luminosidad).\n"
   ]
  },
  {
   "cell_type": "markdown",
   "metadata": {
    "editable": true,
    "slideshow": {
     "slide_type": "slide"
    },
    "tags": []
   },
   "source": [
    "Este diagrama permite observar ciertas relaciones entre la luminosidad y el color de las estrellas:\n",
    "\n",
    "* Secuencia principal (SP): donde se encuentran la mayoría de las estrellas. \n",
    " * Baja luminosidad $\\Rightarrow$ color rojo.\n",
    " * Alta luminosidad $\\Rightarrow$ color azul.\n",
    "* Otras regiones: la rama de las estrellas gigantes, supergigantes, enanas blancas.\n",
    "* Cuando una estrella está terminando su vida en la secuencia principal, se mueve a las ramas de gigantes/supergigantes."
   ]
  },
  {
   "cell_type": "markdown",
   "metadata": {
    "editable": true,
    "slideshow": {
     "slide_type": "skip"
    },
    "tags": []
   },
   "source": [
    "#### Ejemplo del uso del diagrama de Hertzsprung-Russell \n",
    "\n",
    "\n",
    "Determinación de la edad de los cúmulos globulares de estrellas:\n",
    "\n",
    "* Se supone que todas las estrellas se formaron en épocas más o menos cercanas.\n",
    "* Estrellas grandes y luminosas en la SP consumen todo su hidrógeno y se mueven a la rama de las gigantes después de un tiempo más corto que una estrella menos masiva.\n",
    "* Podemos analizar cuantas estrellas en el cúmulo ya están en la rama de las gigantes, y así determinar la edad del cúmulo."
   ]
  },
  {
   "cell_type": "markdown",
   "metadata": {
    "editable": true,
    "slideshow": {
     "slide_type": "skip"
    },
    "tags": []
   },
   "source": [
    "Hace 30 años, las observaciones parecían indicar que **los cúmulos globulares eran más antiguos que el propio universo**... \n",
    "\n",
    "- El descubrimiento de la aceleración de la expansión del universo (en 1998) nos dio cuenta de que el universo era más antiguo de lo pensado hasta entonces, con lo cual **esta aparente contradicción fue resuelta**.\n",
    "\n",
    "- La determinación de la edad de los glóbulos con el diagrama de HR era correcta &#x2705;."
   ]
  },
  {
   "cell_type": "markdown",
   "metadata": {
    "editable": true,
    "slideshow": {
     "slide_type": "slide"
    },
    "tags": []
   },
   "source": [
    "### La Radiación del Fondo Cósmico de Microondas (CMB)\n",
    "\n",
    "- 1964: Penzias y Wilson detectan un ruido térmico uniforme (~3 K) en todas las direcciones.\n",
    "- Sin saberlo, habían observado la radiación relicta del Big Bang, predicha por Gamow y el grupo de Princeton (Dicke, Peebles).\n",
    "\n",
    "<img style=\"float: center;\" src=\"clase4_imagenes/penzias-wilson.jpg\" width=\"600\">\n"
   ]
  },
  {
   "cell_type": "markdown",
   "metadata": {
    "editable": true,
    "slideshow": {
     "slide_type": "slide"
    },
    "tags": []
   },
   "source": [
    "### La Radiación del Fondo Cósmico de Microondas (CMB)\n",
    "\n",
    "Lo que vio Penzias y Wilson.\n",
    "\n",
    "- Significado: evidencia directa de que el universo fue mucho más denso y caliente.\n",
    "- **Obtienen el Premio Nobel de Física en 1978!**.\n",
    "\n",
    "<img style=\"float: center;\" src=\"clase4_imagenes/CMB_COBE-0.gif\">"
   ]
  },
  {
   "cell_type": "markdown",
   "metadata": {
    "editable": true,
    "slideshow": {
     "slide_type": "slide"
    },
    "tags": []
   },
   "source": [
    "### La Radiación del Fondo Cósmico de Microondas (CMB)\n",
    "\n",
    "- Sin embargo, este ruido térmico tiene mucha más información que no se ve a simple vista...\n",
    "  - A simple vista, el CMB parece totalmente homogéneo: el mismo brillo en todo el cielo.\n",
    "- Al sustraer de la imagen el promedio de la temperatura, se logra ver algo más.\n",
    "  - Esto muestra \"un dipolo\": se debe al movimiento propio de la Tierra respecto a el CMB!\n",
    "\n",
    "<img style=\"float: center;\" src=\"clase4_imagenes/CMB_COBE-2.gif\">"
   ]
  },
  {
   "cell_type": "markdown",
   "metadata": {
    "editable": true,
    "jp-MarkdownHeadingCollapsed": true,
    "slideshow": {
     "slide_type": "slide"
    },
    "tags": []
   },
   "source": [
    "### La Radiación del Fondo Cósmico de Microondas (CMB)\n",
    "\n",
    "\n",
    "- Ahora, sustrayendo además dicho dipolo de la imagen original, y con observaciones (antenas) más modernas, se logra ver incluso más:\n",
    "  - Sin embargo, mediciones precisas revelan **fluctuaciones diminutas** (ΔT/T ≈ 10⁻⁵).\n",
    "  - Estas irregularidades son las semillas de las galaxias y cúmulos que vemos hoy.\n",
    "\n",
    "<img style=\"float: center;\" src=\"clase4_imagenes/CMB_WMAP.jpg\">\n"
   ]
  },
  {
   "cell_type": "markdown",
   "metadata": {
    "editable": true,
    "slideshow": {
     "slide_type": "slide"
    },
    "tags": []
   },
   "source": [
    "### La Radiación del Fondo Cósmico de Microondas (CMB)\n",
    "\n",
    "- El CMB nos enseña que muchas veces es necesario visualizar los datos de distintas formas:\n",
    "  - La información más rica está en las variaciones imperceptibles.\n",
    "  - Observaciones más modernas han seguido estudiando el CMB.\n",
    "  \n",
    "<img style=\"float: center;\" src=\"clase4_imagenes/CMB-Temperature-fluctuations-a-comparison-between-COBE-1992-WMAP-2003-and-Planck.png\">"
   ]
  },
  {
   "cell_type": "markdown",
   "metadata": {
    "editable": true,
    "slideshow": {
     "slide_type": "skip"
    },
    "tags": []
   },
   "source": [
    "### Un ejemplo de la meteorología\n",
    "\n",
    "\n",
    "Un globo meteorológico toma mediciones de temperatura, presión, punto de rocío, etc.\n",
    "\n",
    "La línea roja es la temperatura, la línea verde es el punto de rocío.\n",
    "\n",
    "La línea punteada corresponde al gradiente adiabático (algo que podemos calcular con la física).\n",
    "\n",
    "Estos diagramas son muy útiles para determinar la *estabilidad* (o no) del aire en una región.\n",
    "\n",
    "El Aire inestable tiene la tendencia de formar nubes, tormentas, etc."
   ]
  },
  {
   "cell_type": "markdown",
   "metadata": {
    "editable": true,
    "slideshow": {
     "slide_type": "slide"
    },
    "tags": []
   },
   "source": [
    "### Infografías en las noticias...\n",
    "\n",
    "![](clase4_imagenes/hurricane.jpg)"
   ]
  },
  {
   "cell_type": "markdown",
   "metadata": {
    "slideshow": {
     "slide_type": "slide"
    }
   },
   "source": [
    "### Visualizaciones malas... (usted no lo haga)\n",
    "\n",
    "(Fuente: http://viz.wtf/)"
   ]
  },
  {
   "cell_type": "markdown",
   "metadata": {
    "slideshow": {
     "slide_type": "slide"
    }
   },
   "source": [
    "![](clase4_imagenes/bad_viz1.jpg)"
   ]
  },
  {
   "cell_type": "markdown",
   "metadata": {
    "slideshow": {
     "slide_type": "slide"
    }
   },
   "source": [
    "![](clase4_imagenes/paper_graph.jpg)"
   ]
  },
  {
   "cell_type": "markdown",
   "metadata": {
    "slideshow": {
     "slide_type": "slide"
    }
   },
   "source": [
    "<img style=\"float: center;\" src=\"clase4_imagenes/monochromatic.png\" alt=\"alt text\" height=\"400\" class=\"blog-image\">"
   ]
  },
  {
   "cell_type": "markdown",
   "metadata": {
    "slideshow": {
     "slide_type": "slide"
    }
   },
   "source": [
    "<img style=\"float: center;\" src=\"clase4_imagenes/nebraska_poll.jpg\" alt=\"alt text\" height=\"200\"  width=\"400\" class=\"blog-image\">"
   ]
  },
  {
   "cell_type": "markdown",
   "metadata": {
    "editable": true,
    "slideshow": {
     "slide_type": "skip"
    },
    "tags": []
   },
   "source": [
    "<img style=\"float: center;\" src=\"clase4_imagenes/pinera.jpg\" alt=\"alt text\" width=\"800\" height=\"600\" class=\"blog-image\">"
   ]
  },
  {
   "cell_type": "markdown",
   "metadata": {
    "slideshow": {
     "slide_type": "slide"
    }
   },
   "source": [
    "### Creando gráficos en Python\n",
    "\n",
    "* Matplotlib\n",
    "\n",
    "<img style=\"float: center;\" src=\"clase4_imagenes/matplotlib.png\" alt=\"alt text\" width=\"800\" height=\"600\" class=\"blog-image\">"
   ]
  },
  {
   "cell_type": "markdown",
   "metadata": {
    "slideshow": {
     "slide_type": "slide"
    }
   },
   "source": [
    "* Gráficos interactivos (Bokeh)\n",
    "\n",
    "![](clase4_imagenes/bokeh.png)"
   ]
  },
  {
   "cell_type": "code",
   "execution_count": 1,
   "metadata": {
    "slideshow": {
     "slide_type": "slide"
    }
   },
   "outputs": [],
   "source": [
    "import numpy as np\n",
    "\n",
    "from bokeh.io import output_notebook\n",
    "from bokeh.plotting import figure, show\n",
    "\n",
    "# Set up data\n",
    "N = 4000\n",
    "x = np.random.random(size=N) * 100\n",
    "y = np.random.random(size=N) * 100\n",
    "radii = np.random.random(size=N) * 1.5\n",
    "colors = [\"#%02x%02x%02x\" % (int(r), int(g), 150) for r, g in zip(np.floor(50+2*x), np.floor(30+2*y))]"
   ]
  },
  {
   "cell_type": "code",
   "execution_count": 2,
   "metadata": {
    "slideshow": {
     "slide_type": "slide"
    }
   },
   "outputs": [
    {
     "data": {
      "text/html": [
       "<style>\n",
       "        .bk-notebook-logo {\n",
       "            display: block;\n",
       "            width: 20px;\n",
       "            height: 20px;\n",
       "            background-image: url(data:image/png;base64,iVBORw0KGgoAAAANSUhEUgAAABQAAAAUCAYAAACNiR0NAAAABHNCSVQICAgIfAhkiAAAAAlwSFlzAAALEgAACxIB0t1+/AAAABx0RVh0U29mdHdhcmUAQWRvYmUgRmlyZXdvcmtzIENTNui8sowAAAOkSURBVDiNjZRtaJVlGMd/1/08zzln5zjP1LWcU9N0NkN8m2CYjpgQYQXqSs0I84OLIC0hkEKoPtiH3gmKoiJDU7QpLgoLjLIQCpEsNJ1vqUOdO7ppbuec5+V+rj4ctwzd8IIbbi6u+8f1539dt3A78eXC7QizUF7gyV1fD1Yqg4JWz84yffhm0qkFqBogB9rM8tZdtwVsPUhWhGcFJngGeWrPzHm5oaMmkfEg1usvLFyc8jLRqDOMru7AyC8saQr7GG7f5fvDeH7Ej8CM66nIF+8yngt6HWaKh7k49Soy9nXurCi1o3qUbS3zWfrYeQDTB/Qj6kX6Ybhw4B+bOYoLKCC9H3Nu/leUTZ1JdRWkkn2ldcCamzrcf47KKXdAJllSlxAOkRgyHsGC/zRday5Qld9DyoM4/q/rUoy/CXh3jzOu3bHUVZeU+DEn8FInkPBFlu3+nW3Nw0mk6vCDiWg8CeJaxEwuHS3+z5RgY+YBR6V1Z1nxSOfoaPa4LASWxxdNp+VWTk7+4vzaou8v8PN+xo+KY2xsw6une2frhw05CTYOmQvsEhjhWjn0bmXPjpE1+kplmmkP3suftwTubK9Vq22qKmrBhpY4jvd5afdRA3wGjFAgcnTK2s4hY0/GPNIb0nErGMCRxWOOX64Z8RAC4oCXdklmEvcL8o0BfkNK4lUg9HTl+oPlQxdNo3Mg4Nv175e/1LDGzZen30MEjRUtmXSfiTVu1kK8W4txyV6BMKlbgk3lMwYCiusNy9fVfvvwMxv8Ynl6vxoByANLTWplvuj/nF9m2+PDtt1eiHPBr1oIfhCChQMBw6Aw0UulqTKZdfVvfG7VcfIqLG9bcldL/+pdWTLxLUy8Qq38heUIjh4XlzZxzQm19lLFlr8vdQ97rjZVOLf8nclzckbcD4wxXMidpX30sFd37Fv/GtwwhzhxGVAprjbg0gCAEeIgwCZyTV2Z1REEW8O4py0wsjeloKoMr6iCY6dP92H6Vw/oTyICIthibxjm/DfN9lVz8IqtqKYLUXfoKVMVQVVJOElGjrnnUt9T9wbgp8AyYKaGlqingHZU/uG2NTZSVqwHQTWkx9hxjkpWDaCg6Ckj5qebgBVbT3V3NNXMSiWSDdGV3hrtzla7J+duwPOToIg42ChPQOQjspnSlp1V+Gjdged7+8UN5CRAV7a5EdFNwCjEaBR27b3W890TE7g24NAP/mMDXRWrGoFPQI9ls/MWO2dWFAar/xcOIImbbpA3zgAAAABJRU5ErkJggg==);\n",
       "        }\n",
       "    </style>\n",
       "    <div>\n",
       "        <a href=\"https://bokeh.org\" target=\"_blank\" class=\"bk-notebook-logo\"></a>\n",
       "        <span id=\"ee4af278-fe84-40a8-a14d-ae43592f5bb8\">Loading BokehJS ...</span>\n",
       "    </div>\n"
      ]
     },
     "metadata": {},
     "output_type": "display_data"
    },
    {
     "data": {
      "application/javascript": [
       "(function(root) {\n",
       "  function now() {\n",
       "    return new Date();\n",
       "  }\n",
       "\n",
       "  const force = true;\n",
       "\n",
       "  if (typeof root._bokeh_onload_callbacks === \"undefined\" || force === true) {\n",
       "    root._bokeh_onload_callbacks = [];\n",
       "    root._bokeh_is_loading = undefined;\n",
       "  }\n",
       "\n",
       "const JS_MIME_TYPE = 'application/javascript';\n",
       "  const HTML_MIME_TYPE = 'text/html';\n",
       "  const EXEC_MIME_TYPE = 'application/vnd.bokehjs_exec.v0+json';\n",
       "  const CLASS_NAME = 'output_bokeh rendered_html';\n",
       "\n",
       "  /**\n",
       "   * Render data to the DOM node\n",
       "   */\n",
       "  function render(props, node) {\n",
       "    const script = document.createElement(\"script\");\n",
       "    node.appendChild(script);\n",
       "  }\n",
       "\n",
       "  /**\n",
       "   * Handle when an output is cleared or removed\n",
       "   */\n",
       "  function handleClearOutput(event, handle) {\n",
       "    function drop(id) {\n",
       "      const view = Bokeh.index.get_by_id(id)\n",
       "      if (view != null) {\n",
       "        view.model.document.clear()\n",
       "        Bokeh.index.delete(view)\n",
       "      }\n",
       "    }\n",
       "\n",
       "    const cell = handle.cell;\n",
       "\n",
       "    const id = cell.output_area._bokeh_element_id;\n",
       "    const server_id = cell.output_area._bokeh_server_id;\n",
       "\n",
       "    // Clean up Bokeh references\n",
       "    if (id != null) {\n",
       "      drop(id)\n",
       "    }\n",
       "\n",
       "    if (server_id !== undefined) {\n",
       "      // Clean up Bokeh references\n",
       "      const cmd_clean = \"from bokeh.io.state import curstate; print(curstate().uuid_to_server['\" + server_id + \"'].get_sessions()[0].document.roots[0]._id)\";\n",
       "      cell.notebook.kernel.execute(cmd_clean, {\n",
       "        iopub: {\n",
       "          output: function(msg) {\n",
       "            const id = msg.content.text.trim()\n",
       "            drop(id)\n",
       "          }\n",
       "        }\n",
       "      });\n",
       "      // Destroy server and session\n",
       "      const cmd_destroy = \"import bokeh.io.notebook as ion; ion.destroy_server('\" + server_id + \"')\";\n",
       "      cell.notebook.kernel.execute(cmd_destroy);\n",
       "    }\n",
       "  }\n",
       "\n",
       "  /**\n",
       "   * Handle when a new output is added\n",
       "   */\n",
       "  function handleAddOutput(event, handle) {\n",
       "    const output_area = handle.output_area;\n",
       "    const output = handle.output;\n",
       "\n",
       "    // limit handleAddOutput to display_data with EXEC_MIME_TYPE content only\n",
       "    if ((output.output_type != \"display_data\") || (!Object.prototype.hasOwnProperty.call(output.data, EXEC_MIME_TYPE))) {\n",
       "      return\n",
       "    }\n",
       "\n",
       "    const toinsert = output_area.element.find(\".\" + CLASS_NAME.split(' ')[0]);\n",
       "\n",
       "    if (output.metadata[EXEC_MIME_TYPE][\"id\"] !== undefined) {\n",
       "      toinsert[toinsert.length - 1].firstChild.textContent = output.data[JS_MIME_TYPE];\n",
       "      // store reference to embed id on output_area\n",
       "      output_area._bokeh_element_id = output.metadata[EXEC_MIME_TYPE][\"id\"];\n",
       "    }\n",
       "    if (output.metadata[EXEC_MIME_TYPE][\"server_id\"] !== undefined) {\n",
       "      const bk_div = document.createElement(\"div\");\n",
       "      bk_div.innerHTML = output.data[HTML_MIME_TYPE];\n",
       "      const script_attrs = bk_div.children[0].attributes;\n",
       "      for (let i = 0; i < script_attrs.length; i++) {\n",
       "        toinsert[toinsert.length - 1].firstChild.setAttribute(script_attrs[i].name, script_attrs[i].value);\n",
       "        toinsert[toinsert.length - 1].firstChild.textContent = bk_div.children[0].textContent\n",
       "      }\n",
       "      // store reference to server id on output_area\n",
       "      output_area._bokeh_server_id = output.metadata[EXEC_MIME_TYPE][\"server_id\"];\n",
       "    }\n",
       "  }\n",
       "\n",
       "  function register_renderer(events, OutputArea) {\n",
       "\n",
       "    function append_mime(data, metadata, element) {\n",
       "      // create a DOM node to render to\n",
       "      const toinsert = this.create_output_subarea(\n",
       "        metadata,\n",
       "        CLASS_NAME,\n",
       "        EXEC_MIME_TYPE\n",
       "      );\n",
       "      this.keyboard_manager.register_events(toinsert);\n",
       "      // Render to node\n",
       "      const props = {data: data, metadata: metadata[EXEC_MIME_TYPE]};\n",
       "      render(props, toinsert[toinsert.length - 1]);\n",
       "      element.append(toinsert);\n",
       "      return toinsert\n",
       "    }\n",
       "\n",
       "    /* Handle when an output is cleared or removed */\n",
       "    events.on('clear_output.CodeCell', handleClearOutput);\n",
       "    events.on('delete.Cell', handleClearOutput);\n",
       "\n",
       "    /* Handle when a new output is added */\n",
       "    events.on('output_added.OutputArea', handleAddOutput);\n",
       "\n",
       "    /**\n",
       "     * Register the mime type and append_mime function with output_area\n",
       "     */\n",
       "    OutputArea.prototype.register_mime_type(EXEC_MIME_TYPE, append_mime, {\n",
       "      /* Is output safe? */\n",
       "      safe: true,\n",
       "      /* Index of renderer in `output_area.display_order` */\n",
       "      index: 0\n",
       "    });\n",
       "  }\n",
       "\n",
       "  // register the mime type if in Jupyter Notebook environment and previously unregistered\n",
       "  if (root.Jupyter !== undefined) {\n",
       "    const events = require('base/js/events');\n",
       "    const OutputArea = require('notebook/js/outputarea').OutputArea;\n",
       "\n",
       "    if (OutputArea.prototype.mime_types().indexOf(EXEC_MIME_TYPE) == -1) {\n",
       "      register_renderer(events, OutputArea);\n",
       "    }\n",
       "  }\n",
       "  if (typeof (root._bokeh_timeout) === \"undefined\" || force === true) {\n",
       "    root._bokeh_timeout = Date.now() + 5000;\n",
       "    root._bokeh_failed_load = false;\n",
       "  }\n",
       "\n",
       "  const NB_LOAD_WARNING = {'data': {'text/html':\n",
       "     \"<div style='background-color: #fdd'>\\n\"+\n",
       "     \"<p>\\n\"+\n",
       "     \"BokehJS does not appear to have successfully loaded. If loading BokehJS from CDN, this \\n\"+\n",
       "     \"may be due to a slow or bad network connection. Possible fixes:\\n\"+\n",
       "     \"</p>\\n\"+\n",
       "     \"<ul>\\n\"+\n",
       "     \"<li>re-rerun `output_notebook()` to attempt to load from CDN again, or</li>\\n\"+\n",
       "     \"<li>use INLINE resources instead, as so:</li>\\n\"+\n",
       "     \"</ul>\\n\"+\n",
       "     \"<code>\\n\"+\n",
       "     \"from bokeh.resources import INLINE\\n\"+\n",
       "     \"output_notebook(resources=INLINE)\\n\"+\n",
       "     \"</code>\\n\"+\n",
       "     \"</div>\"}};\n",
       "\n",
       "  function display_loaded() {\n",
       "    const el = document.getElementById(\"ee4af278-fe84-40a8-a14d-ae43592f5bb8\");\n",
       "    if (el != null) {\n",
       "      el.textContent = \"BokehJS is loading...\";\n",
       "    }\n",
       "    if (root.Bokeh !== undefined) {\n",
       "      if (el != null) {\n",
       "        el.textContent = \"BokehJS \" + root.Bokeh.version + \" successfully loaded.\";\n",
       "      }\n",
       "    } else if (Date.now() < root._bokeh_timeout) {\n",
       "      setTimeout(display_loaded, 100)\n",
       "    }\n",
       "  }\n",
       "\n",
       "  function run_callbacks() {\n",
       "    try {\n",
       "      root._bokeh_onload_callbacks.forEach(function(callback) {\n",
       "        if (callback != null)\n",
       "          callback();\n",
       "      });\n",
       "    } finally {\n",
       "      delete root._bokeh_onload_callbacks\n",
       "    }\n",
       "    console.debug(\"Bokeh: all callbacks have finished\");\n",
       "  }\n",
       "\n",
       "  function load_libs(css_urls, js_urls, callback) {\n",
       "    if (css_urls == null) css_urls = [];\n",
       "    if (js_urls == null) js_urls = [];\n",
       "\n",
       "    root._bokeh_onload_callbacks.push(callback);\n",
       "    if (root._bokeh_is_loading > 0) {\n",
       "      console.debug(\"Bokeh: BokehJS is being loaded, scheduling callback at\", now());\n",
       "      return null;\n",
       "    }\n",
       "    if (js_urls == null || js_urls.length === 0) {\n",
       "      run_callbacks();\n",
       "      return null;\n",
       "    }\n",
       "    console.debug(\"Bokeh: BokehJS not loaded, scheduling load and callback at\", now());\n",
       "    root._bokeh_is_loading = css_urls.length + js_urls.length;\n",
       "\n",
       "    function on_load() {\n",
       "      root._bokeh_is_loading--;\n",
       "      if (root._bokeh_is_loading === 0) {\n",
       "        console.debug(\"Bokeh: all BokehJS libraries/stylesheets loaded\");\n",
       "        run_callbacks()\n",
       "      }\n",
       "    }\n",
       "\n",
       "    function on_error(url) {\n",
       "      console.error(\"failed to load \" + url);\n",
       "    }\n",
       "\n",
       "    for (let i = 0; i < css_urls.length; i++) {\n",
       "      const url = css_urls[i];\n",
       "      const element = document.createElement(\"link\");\n",
       "      element.onload = on_load;\n",
       "      element.onerror = on_error.bind(null, url);\n",
       "      element.rel = \"stylesheet\";\n",
       "      element.type = \"text/css\";\n",
       "      element.href = url;\n",
       "      console.debug(\"Bokeh: injecting link tag for BokehJS stylesheet: \", url);\n",
       "      document.body.appendChild(element);\n",
       "    }\n",
       "\n",
       "    for (let i = 0; i < js_urls.length; i++) {\n",
       "      const url = js_urls[i];\n",
       "      const element = document.createElement('script');\n",
       "      element.onload = on_load;\n",
       "      element.onerror = on_error.bind(null, url);\n",
       "      element.async = false;\n",
       "      element.src = url;\n",
       "      console.debug(\"Bokeh: injecting script tag for BokehJS library: \", url);\n",
       "      document.head.appendChild(element);\n",
       "    }\n",
       "  };\n",
       "\n",
       "  function inject_raw_css(css) {\n",
       "    const element = document.createElement(\"style\");\n",
       "    element.appendChild(document.createTextNode(css));\n",
       "    document.body.appendChild(element);\n",
       "  }\n",
       "\n",
       "  const js_urls = [\"https://cdn.bokeh.org/bokeh/release/bokeh-3.3.0.min.js\", \"https://cdn.bokeh.org/bokeh/release/bokeh-gl-3.3.0.min.js\", \"https://cdn.bokeh.org/bokeh/release/bokeh-widgets-3.3.0.min.js\", \"https://cdn.bokeh.org/bokeh/release/bokeh-tables-3.3.0.min.js\", \"https://cdn.bokeh.org/bokeh/release/bokeh-mathjax-3.3.0.min.js\"];\n",
       "  const css_urls = [];\n",
       "\n",
       "  const inline_js = [    function(Bokeh) {\n",
       "      Bokeh.set_log_level(\"info\");\n",
       "    },\n",
       "function(Bokeh) {\n",
       "    }\n",
       "  ];\n",
       "\n",
       "  function run_inline_js() {\n",
       "    if (root.Bokeh !== undefined || force === true) {\n",
       "          for (let i = 0; i < inline_js.length; i++) {\n",
       "      inline_js[i].call(root, root.Bokeh);\n",
       "    }\n",
       "if (force === true) {\n",
       "        display_loaded();\n",
       "      }} else if (Date.now() < root._bokeh_timeout) {\n",
       "      setTimeout(run_inline_js, 100);\n",
       "    } else if (!root._bokeh_failed_load) {\n",
       "      console.log(\"Bokeh: BokehJS failed to load within specified timeout.\");\n",
       "      root._bokeh_failed_load = true;\n",
       "    } else if (force !== true) {\n",
       "      const cell = $(document.getElementById(\"ee4af278-fe84-40a8-a14d-ae43592f5bb8\")).parents('.cell').data().cell;\n",
       "      cell.output_area.append_execute_result(NB_LOAD_WARNING)\n",
       "    }\n",
       "  }\n",
       "\n",
       "  if (root._bokeh_is_loading === 0) {\n",
       "    console.debug(\"Bokeh: BokehJS loaded, going straight to plotting\");\n",
       "    run_inline_js();\n",
       "  } else {\n",
       "    load_libs(css_urls, js_urls, function() {\n",
       "      console.debug(\"Bokeh: BokehJS plotting callback run at\", now());\n",
       "      run_inline_js();\n",
       "    });\n",
       "  }\n",
       "}(window));"
      ],
      "application/vnd.bokehjs_load.v0+json": "(function(root) {\n  function now() {\n    return new Date();\n  }\n\n  const force = true;\n\n  if (typeof root._bokeh_onload_callbacks === \"undefined\" || force === true) {\n    root._bokeh_onload_callbacks = [];\n    root._bokeh_is_loading = undefined;\n  }\n\n\n  if (typeof (root._bokeh_timeout) === \"undefined\" || force === true) {\n    root._bokeh_timeout = Date.now() + 5000;\n    root._bokeh_failed_load = false;\n  }\n\n  const NB_LOAD_WARNING = {'data': {'text/html':\n     \"<div style='background-color: #fdd'>\\n\"+\n     \"<p>\\n\"+\n     \"BokehJS does not appear to have successfully loaded. If loading BokehJS from CDN, this \\n\"+\n     \"may be due to a slow or bad network connection. Possible fixes:\\n\"+\n     \"</p>\\n\"+\n     \"<ul>\\n\"+\n     \"<li>re-rerun `output_notebook()` to attempt to load from CDN again, or</li>\\n\"+\n     \"<li>use INLINE resources instead, as so:</li>\\n\"+\n     \"</ul>\\n\"+\n     \"<code>\\n\"+\n     \"from bokeh.resources import INLINE\\n\"+\n     \"output_notebook(resources=INLINE)\\n\"+\n     \"</code>\\n\"+\n     \"</div>\"}};\n\n  function display_loaded() {\n    const el = document.getElementById(\"ee4af278-fe84-40a8-a14d-ae43592f5bb8\");\n    if (el != null) {\n      el.textContent = \"BokehJS is loading...\";\n    }\n    if (root.Bokeh !== undefined) {\n      if (el != null) {\n        el.textContent = \"BokehJS \" + root.Bokeh.version + \" successfully loaded.\";\n      }\n    } else if (Date.now() < root._bokeh_timeout) {\n      setTimeout(display_loaded, 100)\n    }\n  }\n\n  function run_callbacks() {\n    try {\n      root._bokeh_onload_callbacks.forEach(function(callback) {\n        if (callback != null)\n          callback();\n      });\n    } finally {\n      delete root._bokeh_onload_callbacks\n    }\n    console.debug(\"Bokeh: all callbacks have finished\");\n  }\n\n  function load_libs(css_urls, js_urls, callback) {\n    if (css_urls == null) css_urls = [];\n    if (js_urls == null) js_urls = [];\n\n    root._bokeh_onload_callbacks.push(callback);\n    if (root._bokeh_is_loading > 0) {\n      console.debug(\"Bokeh: BokehJS is being loaded, scheduling callback at\", now());\n      return null;\n    }\n    if (js_urls == null || js_urls.length === 0) {\n      run_callbacks();\n      return null;\n    }\n    console.debug(\"Bokeh: BokehJS not loaded, scheduling load and callback at\", now());\n    root._bokeh_is_loading = css_urls.length + js_urls.length;\n\n    function on_load() {\n      root._bokeh_is_loading--;\n      if (root._bokeh_is_loading === 0) {\n        console.debug(\"Bokeh: all BokehJS libraries/stylesheets loaded\");\n        run_callbacks()\n      }\n    }\n\n    function on_error(url) {\n      console.error(\"failed to load \" + url);\n    }\n\n    for (let i = 0; i < css_urls.length; i++) {\n      const url = css_urls[i];\n      const element = document.createElement(\"link\");\n      element.onload = on_load;\n      element.onerror = on_error.bind(null, url);\n      element.rel = \"stylesheet\";\n      element.type = \"text/css\";\n      element.href = url;\n      console.debug(\"Bokeh: injecting link tag for BokehJS stylesheet: \", url);\n      document.body.appendChild(element);\n    }\n\n    for (let i = 0; i < js_urls.length; i++) {\n      const url = js_urls[i];\n      const element = document.createElement('script');\n      element.onload = on_load;\n      element.onerror = on_error.bind(null, url);\n      element.async = false;\n      element.src = url;\n      console.debug(\"Bokeh: injecting script tag for BokehJS library: \", url);\n      document.head.appendChild(element);\n    }\n  };\n\n  function inject_raw_css(css) {\n    const element = document.createElement(\"style\");\n    element.appendChild(document.createTextNode(css));\n    document.body.appendChild(element);\n  }\n\n  const js_urls = [\"https://cdn.bokeh.org/bokeh/release/bokeh-3.3.0.min.js\", \"https://cdn.bokeh.org/bokeh/release/bokeh-gl-3.3.0.min.js\", \"https://cdn.bokeh.org/bokeh/release/bokeh-widgets-3.3.0.min.js\", \"https://cdn.bokeh.org/bokeh/release/bokeh-tables-3.3.0.min.js\", \"https://cdn.bokeh.org/bokeh/release/bokeh-mathjax-3.3.0.min.js\"];\n  const css_urls = [];\n\n  const inline_js = [    function(Bokeh) {\n      Bokeh.set_log_level(\"info\");\n    },\nfunction(Bokeh) {\n    }\n  ];\n\n  function run_inline_js() {\n    if (root.Bokeh !== undefined || force === true) {\n          for (let i = 0; i < inline_js.length; i++) {\n      inline_js[i].call(root, root.Bokeh);\n    }\nif (force === true) {\n        display_loaded();\n      }} else if (Date.now() < root._bokeh_timeout) {\n      setTimeout(run_inline_js, 100);\n    } else if (!root._bokeh_failed_load) {\n      console.log(\"Bokeh: BokehJS failed to load within specified timeout.\");\n      root._bokeh_failed_load = true;\n    } else if (force !== true) {\n      const cell = $(document.getElementById(\"ee4af278-fe84-40a8-a14d-ae43592f5bb8\")).parents('.cell').data().cell;\n      cell.output_area.append_execute_result(NB_LOAD_WARNING)\n    }\n  }\n\n  if (root._bokeh_is_loading === 0) {\n    console.debug(\"Bokeh: BokehJS loaded, going straight to plotting\");\n    run_inline_js();\n  } else {\n    load_libs(css_urls, js_urls, function() {\n      console.debug(\"Bokeh: BokehJS plotting callback run at\", now());\n      run_inline_js();\n    });\n  }\n}(window));"
     },
     "metadata": {},
     "output_type": "display_data"
    }
   ],
   "source": [
    "output_notebook()"
   ]
  },
  {
   "cell_type": "code",
   "execution_count": 3,
   "metadata": {
    "slideshow": {
     "slide_type": "fragment"
    }
   },
   "outputs": [
    {
     "data": {
      "text/html": [
       "<div style=\"display: table;\"><div style=\"display: table-row;\"><div style=\"display: table-cell;\"><b title=\"bokeh.models.renderers.glyph_renderer.GlyphRenderer\">GlyphRenderer</b>(</div><div style=\"display: table-cell;\">id&nbsp;=&nbsp;'p1035', <span id=\"p1039\" style=\"cursor: pointer;\">&hellip;)</span></div></div><div class=\"p1038\" style=\"display: none;\"><div style=\"display: table-cell;\"></div><div style=\"display: table-cell;\">coordinates&nbsp;=&nbsp;None,</div></div><div class=\"p1038\" style=\"display: none;\"><div style=\"display: table-cell;\"></div><div style=\"display: table-cell;\">data_source&nbsp;=&nbsp;ColumnDataSource(id='p1029', ...),</div></div><div class=\"p1038\" style=\"display: none;\"><div style=\"display: table-cell;\"></div><div style=\"display: table-cell;\">glyph&nbsp;=&nbsp;Circle(id='p1032', ...),</div></div><div class=\"p1038\" style=\"display: none;\"><div style=\"display: table-cell;\"></div><div style=\"display: table-cell;\">group&nbsp;=&nbsp;None,</div></div><div class=\"p1038\" style=\"display: none;\"><div style=\"display: table-cell;\"></div><div style=\"display: table-cell;\">hover_glyph&nbsp;=&nbsp;None,</div></div><div class=\"p1038\" style=\"display: none;\"><div style=\"display: table-cell;\"></div><div style=\"display: table-cell;\">js_event_callbacks&nbsp;=&nbsp;{},</div></div><div class=\"p1038\" style=\"display: none;\"><div style=\"display: table-cell;\"></div><div style=\"display: table-cell;\">js_property_callbacks&nbsp;=&nbsp;{},</div></div><div class=\"p1038\" style=\"display: none;\"><div style=\"display: table-cell;\"></div><div style=\"display: table-cell;\">level&nbsp;=&nbsp;'glyph',</div></div><div class=\"p1038\" style=\"display: none;\"><div style=\"display: table-cell;\"></div><div style=\"display: table-cell;\">muted&nbsp;=&nbsp;False,</div></div><div class=\"p1038\" style=\"display: none;\"><div style=\"display: table-cell;\"></div><div style=\"display: table-cell;\">muted_glyph&nbsp;=&nbsp;Circle(id='p1034', ...),</div></div><div class=\"p1038\" style=\"display: none;\"><div style=\"display: table-cell;\"></div><div style=\"display: table-cell;\">name&nbsp;=&nbsp;None,</div></div><div class=\"p1038\" style=\"display: none;\"><div style=\"display: table-cell;\"></div><div style=\"display: table-cell;\">nonselection_glyph&nbsp;=&nbsp;Circle(id='p1033', ...),</div></div><div class=\"p1038\" style=\"display: none;\"><div style=\"display: table-cell;\"></div><div style=\"display: table-cell;\">propagate_hover&nbsp;=&nbsp;False,</div></div><div class=\"p1038\" style=\"display: none;\"><div style=\"display: table-cell;\"></div><div style=\"display: table-cell;\">selection_glyph&nbsp;=&nbsp;'auto',</div></div><div class=\"p1038\" style=\"display: none;\"><div style=\"display: table-cell;\"></div><div style=\"display: table-cell;\">subscribed_events&nbsp;=&nbsp;PropertyValueSet(),</div></div><div class=\"p1038\" style=\"display: none;\"><div style=\"display: table-cell;\"></div><div style=\"display: table-cell;\">syncable&nbsp;=&nbsp;True,</div></div><div class=\"p1038\" style=\"display: none;\"><div style=\"display: table-cell;\"></div><div style=\"display: table-cell;\">tags&nbsp;=&nbsp;[],</div></div><div class=\"p1038\" style=\"display: none;\"><div style=\"display: table-cell;\"></div><div style=\"display: table-cell;\">view&nbsp;=&nbsp;CDSView(id='p1036', ...),</div></div><div class=\"p1038\" style=\"display: none;\"><div style=\"display: table-cell;\"></div><div style=\"display: table-cell;\">visible&nbsp;=&nbsp;True,</div></div><div class=\"p1038\" style=\"display: none;\"><div style=\"display: table-cell;\"></div><div style=\"display: table-cell;\">x_range_name&nbsp;=&nbsp;'default',</div></div><div class=\"p1038\" style=\"display: none;\"><div style=\"display: table-cell;\"></div><div style=\"display: table-cell;\">y_range_name&nbsp;=&nbsp;'default')</div></div></div>\n",
       "<script>\n",
       "(function() {\n",
       "  let expanded = false;\n",
       "  const ellipsis = document.getElementById(\"p1039\");\n",
       "  ellipsis.addEventListener(\"click\", function() {\n",
       "    const rows = document.getElementsByClassName(\"p1038\");\n",
       "    for (let i = 0; i < rows.length; i++) {\n",
       "      const el = rows[i];\n",
       "      el.style.display = expanded ? \"none\" : \"table-row\";\n",
       "    }\n",
       "    ellipsis.innerHTML = expanded ? \"&hellip;)\" : \"&lsaquo;&lsaquo;&lsaquo;\";\n",
       "    expanded = !expanded;\n",
       "  });\n",
       "})();\n",
       "</script>\n"
      ],
      "text/plain": [
       "GlyphRenderer(id='p1035', ...)"
      ]
     },
     "execution_count": 3,
     "metadata": {},
     "output_type": "execute_result"
    }
   ],
   "source": [
    "p = figure(width=400,height=400)\n",
    "p.circle(x, y, radius=radii, fill_color=colors, fill_alpha=0.6, line_color=None)"
   ]
  },
  {
   "cell_type": "code",
   "execution_count": 4,
   "metadata": {
    "slideshow": {
     "slide_type": "slide"
    }
   },
   "outputs": [
    {
     "data": {
      "text/html": [
       "\n",
       "  <div id=\"eb2fa701-6361-4f5a-8f01-c4a82e87c53c\" data-root-id=\"p1001\" style=\"display: contents;\"></div>\n"
      ]
     },
     "metadata": {},
     "output_type": "display_data"
    },
    {
     "data": {
      "application/javascript": [
       "(function(root) {\n",
       "  function embed_document(root) {\n",
       "  const docs_json = {\"f6da10be-da7d-45c9-a20b-12fd942cc818\":{\"version\":\"3.3.0\",\"title\":\"Bokeh Application\",\"roots\":[{\"type\":\"object\",\"name\":\"Figure\",\"id\":\"p1001\",\"attributes\":{\"width\":400,\"height\":400,\"x_range\":{\"type\":\"object\",\"name\":\"DataRange1d\",\"id\":\"p1002\"},\"y_range\":{\"type\":\"object\",\"name\":\"DataRange1d\",\"id\":\"p1003\"},\"x_scale\":{\"type\":\"object\",\"name\":\"LinearScale\",\"id\":\"p1010\"},\"y_scale\":{\"type\":\"object\",\"name\":\"LinearScale\",\"id\":\"p1011\"},\"title\":{\"type\":\"object\",\"name\":\"Title\",\"id\":\"p1008\"},\"renderers\":[{\"type\":\"object\",\"name\":\"GlyphRenderer\",\"id\":\"p1035\",\"attributes\":{\"data_source\":{\"type\":\"object\",\"name\":\"ColumnDataSource\",\"id\":\"p1029\",\"attributes\":{\"selected\":{\"type\":\"object\",\"name\":\"Selection\",\"id\":\"p1030\",\"attributes\":{\"indices\":[],\"line_indices\":[]}},\"selection_policy\":{\"type\":\"object\",\"name\":\"UnionRenderers\",\"id\":\"p1031\"},\"data\":{\"type\":\"map\",\"entries\":[[\"radius\",{\"type\":\"ndarray\",\"array\":{\"type\":\"bytes\",\"data\":\"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\"},\"shape\":[4000],\"dtype\":\"float64\",\"order\":\"little\"}],[\"x\",{\"type\":\"ndarray\",\"array\":{\"type\":\"bytes\",\"data\":\"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\"},\"shape\":[4000],\"dtype\":\"float64\",\"order\":\"little\"}],[\"y\",{\"type\":\"ndarray\",\"array\":{\"type\":\"bytes\",\"data\":\"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\"},\"shape\":[4000],\"dtype\":\"float64\",\"order\":\"little\"}],[\"fill_color\",[\"#5c3696\",\"#697196\",\"#69bd96\",\"#ddb496\",\"#ec5d96\",\"#81ca96\",\"#a38d96\",\"#9b3a96\",\"#534f96\",\"#8e4496\",\"#508596\",\"#c1b196\",\"#e2da96\",\"#569296\",\"#df2c96\",\"#f88096\",\"#9fa996\",\"#ef7d96\",\"#69ce96\",\"#f53096\",\"#993496\",\"#cf7296\",\"#cc4096\",\"#a47c96\",\"#f8d596\",\"#ccde96\",\"#383596\",\"#5eac96\",\"#9f2396\",\"#b84a96\",\"#827e96\",\"#905296\",\"#58c896\",\"#eec096\",\"#8bd096\",\"#8fa996\",\"#af4396\",\"#93a396\",\"#6d4496\",\"#9c2c96\",\"#3d5596\",\"#34e196\",\"#dfbb96\",\"#817996\",\"#a64996\",\"#508996\",\"#f0bb96\",\"#e8ca96\",\"#4a3e96\",\"#a02b96\",\"#a4b696\",\"#52de96\",\"#a4b496\",\"#b67196\",\"#48a396\",\"#726f96\",\"#d94296\",\"#3d6e96\",\"#839c96\",\"#322296\",\"#a65296\",\"#f28c96\",\"#61df96\",\"#b3a496\",\"#bfac96\",\"#562896\",\"#855896\",\"#41d496\",\"#948896\",\"#6b8a96\",\"#ce4896\",\"#d96196\",\"#f97696\",\"#7c4496\",\"#323996\",\"#426096\",\"#42a996\",\"#a09796\",\"#a5ce96\",\"#80b996\",\"#56d096\",\"#b6b396\",\"#932696\",\"#f54796\",\"#595d96\",\"#6b3a96\",\"#967996\",\"#356f96\",\"#a96e96\",\"#caba96\",\"#40d396\",\"#d26696\",\"#ab6a96\",\"#bf5d96\",\"#74c696\",\"#c44596\",\"#f37996\",\"#3a5a96\",\"#9a8296\",\"#344096\",\"#e7b596\",\"#ec9296\",\"#67e596\",\"#88c596\",\"#567996\",\"#d83a96\",\"#7d5596\",\"#a6a596\",\"#c69496\",\"#d1cb96\",\"#364396\",\"#883b96\",\"#47e496\",\"#42d496\",\"#705896\",\"#878f96\",\"#8b7a96\",\"#94b696\",\"#907c96\",\"#7c7496\",\"#b3a396\",\"#674f96\",\"#6bcb96\",\"#994896\",\"#503e96\",\"#a06b96\",\"#e7c796\",\"#49bd96\",\"#eb5696\",\"#3da296\",\"#d29a96\",\"#c54696\",\"#8ee196\",\"#77b496\",\"#63e396\",\"#4b9596\",\"#98b196\",\"#c4d496\",\"#747296\",\"#3bb896\",\"#542496\",\"#4d5a96\",\"#4b6196\",\"#d17796\",\"#a56496\",\"#d3c296\",\"#974a96\",\"#677296\",\"#ef4796\",\"#507596\",\"#3b2096\",\"#378a96\",\"#798d96\",\"#4e7d96\",\"#84e496\",\"#d89796\",\"#628196\",\"#3c6296\",\"#e56f96\",\"#e9a496\",\"#722196\",\"#e7df96\",\"#8d2896\",\"#bd5b96\",\"#6ac896\",\"#f58e96\",\"#9cd496\",\"#558596\",\"#c8d696\",\"#e7cd96\",\"#88d496\",\"#40b696\",\"#466096\",\"#999b96\",\"#aeb396\",\"#d77c96\",\"#d69c96\",\"#e47c96\",\"#4f8296\",\"#519d96\",\"#f5bb96\",\"#3bc796\",\"#db5c96\",\"#a6a196\",\"#8f7c96\",\"#e5cb96\",\"#3c2e96\",\"#97e096\",\"#543396\",\"#91b596\",\"#b2c996\",\"#a0c196\",\"#c13096\",\"#dedd96\",\"#738296\",\"#7e8696\",\"#5a6496\",\"#d49996\",\"#d75896\",\"#89bf96\",\"#596e96\",\"#72b996\",\"#be6f96\",\"#bca696\",\"#4e7096\",\"#c57496\",\"#499196\",\"#f57596\",\"#77b596\",\"#c78896\",\"#45ca96\",\"#9a3c96\",\"#53bb96\",\"#cb7796\",\"#7f6f96\",\"#d74096\",\"#c9bf96\",\"#42c096\",\"#8f3a96\",\"#61b896\",\"#7c6c96\",\"#aacf96\",\"#322396\",\"#4ab996\",\"#e78996\",\"#5c2a96\",\"#5f8396\",\"#784a96\",\"#4ebb96\",\"#814896\",\"#8ccf96\",\"#397f96\",\"#46bc96\",\"#788496\",\"#348696\",\"#6f6296\",\"#b8a196\",\"#855896\",\"#acb396\",\"#636b96\",\"#a7c196\",\"#4edc96\",\"#ba2496\",\"#784696\",\"#68d296\",\"#633296\",\"#bfb496\",\"#574296\",\"#394096\",\"#f26596\",\"#f12f96\",\"#c1c196\",\"#cf6196\",\"#3a6496\",\"#37c696\",\"#e17f96\",\"#ad7e96\",\"#a65b96\",\"#3fb796\",\"#4b4596\",\"#619096\",\"#6c5d96\",\"#6f6296\",\"#572796\",\"#bd5c96\",\"#c26796\",\"#a7be96\",\"#d7e496\",\"#643396\",\"#c8e196\",\"#7d3996\",\"#86ca96\",\"#f99e96\",\"#389a96\",\"#759c96\",\"#45d996\",\"#f0b096\",\"#e67996\",\"#f39496\",\"#9cc396\",\"#e85696\",\"#3f7596\",\"#9b9e96\",\"#dcd596\",\"#b18e96\",\"#a9e196\",\"#9aaa96\",\"#455c96\",\"#d1cf96\",\"#839b96\",\"#9d8096\",\"#b03c96\",\"#d7c696\",\"#e63d96\",\"#c14896\",\"#86d296\",\"#984896\",\"#db9e96\",\"#d89496\",\"#b07c96\",\"#8fe096\",\"#4f4b96\",\"#b4bd96\",\"#bd5796\",\"#f01f96\",\"#71d596\",\"#d52b96\",\"#b2a496\",\"#bcb196\",\"#c1de96\",\"#72cb96\",\"#742796\",\"#6a5996\",\"#626496\",\"#a6c096\",\"#495c96\",\"#e6b796\",\"#cc6896\",\"#5a7596\",\"#925796\",\"#f95296\",\"#e62d96\",\"#4c3e96\",\"#8ca296\",\"#adb796\",\"#b3dd96\",\"#798896\",\"#afe396\",\"#805d96\",\"#ad2396\",\"#ba4796\",\"#d93696\",\"#342f96\",\"#f9be96\",\"#701e96\",\"#614c96\",\"#b9a396\",\"#b1a796\",\"#4dd196\",\"#6eda96\",\"#5fab96\",\"#9c7e96\",\"#41e196\",\"#75a696\",\"#6c4b96\",\"#568c96\",\"#9a2a96\",\"#ab4196\",\"#8a3c96\",\"#ba9796\",\"#35da96\",\"#f6b096\",\"#a02d96\",\"#f46696\",\"#bab696\",\"#929f96\",\"#642696\",\"#907396\",\"#bf3996\",\"#c1b196\",\"#a96896\",\"#b59696\",\"#8e5196\",\"#f6a396\",\"#bcde96\",\"#a96596\",\"#582d96\",\"#a42196\",\"#a6a396\",\"#c02896\",\"#c26e96\",\"#f9be96\",\"#d6b696\",\"#558996\",\"#397c96\",\"#7e8f96\",\"#ed5296\",\"#574796\",\"#a62596\",\"#c55c96\",\"#432796\",\"#8b8e96\",\"#b2e496\",\"#40c196\",\"#d39496\",\"#367196\",\"#e3ca96\",\"#41d096\",\"#98b096\",\"#a43196\",\"#4c4d96\",\"#70c396\",\"#376196\",\"#526b96\",\"#858b96\",\"#dd6596\",\"#cf2696\",\"#f42a96\",\"#3acb96\",\"#d67796\",\"#d89a96\",\"#455296\",\"#d1c396\",\"#e04796\",\"#612496\",\"#e33596\",\"#f0d796\",\"#bb3796\",\"#62d196\",\"#497b96\",\"#db4296\",\"#d8b796\",\"#6cde96\",\"#3b6b96\",\"#bcca96\",\"#7e6896\",\"#65d296\",\"#d16496\",\"#818c96\",\"#dc5a96\",\"#68bc96\",\"#db4696\",\"#3d2c96\",\"#f45496\",\"#649196\",\"#4eb696\",\"#d98b96\",\"#b87e96\",\"#f79796\",\"#6f8696\",\"#555a96\",\"#3ab296\",\"#d1cc96\",\"#b15b96\",\"#f5ab96\",\"#614096\",\"#837696\",\"#6cda96\",\"#e18496\",\"#a59a96\",\"#369796\",\"#536a96\",\"#f72396\",\"#d9e596\",\"#453096\",\"#4c7496\",\"#569a96\",\"#9d4596\",\"#f66a96\",\"#ae3996\",\"#357096\",\"#b6ba96\",\"#823e96\",\"#ec8896\",\"#8abf96\",\"#f06796\",\"#d5ad96\",\"#d0e396\",\"#e8d696\",\"#4ba596\",\"#765196\",\"#9a2b96\",\"#9b7996\",\"#efbe96\",\"#6c3396\",\"#a3e096\",\"#716396\",\"#c72596\",\"#68bd96\",\"#355496\",\"#38af96\",\"#e06796\",\"#b87396\",\"#e5d896\",\"#8a8896\",\"#c0e596\",\"#dc7996\",\"#868396\",\"#ba4896\",\"#942a96\",\"#e32696\",\"#cdad96\",\"#627396\",\"#7cb196\",\"#383096\",\"#ab9896\",\"#c67596\",\"#5ebe96\",\"#cb3996\",\"#94e396\",\"#bd2b96\",\"#f96d96\",\"#f35b96\",\"#cba596\",\"#953696\",\"#f81e96\",\"#35e396\",\"#c53296\",\"#853196\",\"#8c2e96\",\"#4e2a96\",\"#ed2c96\",\"#5b8596\",\"#7cbf96\",\"#3f8f96\",\"#5c6b96\",\"#c9b696\",\"#3b4f96\",\"#3ae396\",\"#337696\",\"#804a96\",\"#cab996\",\"#ade496\",\"#6ec896\",\"#55ac96\",\"#f57e96\",\"#f53f96\",\"#be8096\",\"#447796\",\"#9e3296\",\"#994396\",\"#a1a496\",\"#3a5096\",\"#3dd296\",\"#9e5496\",\"#77e396\",\"#d9d696\",\"#d43e96\",\"#ad4596\",\"#869b96\",\"#9dcd96\",\"#6c9f96\",\"#65d696\",\"#f93e96\",\"#daca96\",\"#ce3596\",\"#506596\",\"#83c896\",\"#93de96\",\"#37ab96\",\"#e9a496\",\"#7f6296\",\"#e7cc96\",\"#71d696\",\"#381f96\",\"#775c96\",\"#917e96\",\"#7fb296\",\"#a54896\",\"#e4d396\",\"#902f96\",\"#609796\",\"#325c96\",\"#58d596\",\"#5ce496\",\"#b6bb96\",\"#457396\",\"#362296\",\"#672796\",\"#e7be96\",\"#897b96\",\"#863696\",\"#62c996\",\"#8e5e96\",\"#cfd096\",\"#b65496\",\"#f8bb96\",\"#96af96\",\"#9e5596\",\"#6a5b96\",\"#9d6c96\",\"#508396\",\"#3ed296\",\"#bb4196\",\"#ee5f96\",\"#335096\",\"#586296\",\"#de2996\",\"#6e2296\",\"#5b4896\",\"#602a96\",\"#8e5196\",\"#db9d96\",\"#668b96\",\"#8ac296\",\"#e44796\",\"#7d5b96\",\"#d99096\",\"#691e96\",\"#f39c96\",\"#9b7896\",\"#c6bc96\",\"#385796\",\"#a82a96\",\"#349096\",\"#e47796\",\"#35cd96\",\"#f38a96\",\"#d37b96\",\"#49d296\",\"#587b96\",\"#796996\",\"#863f96\",\"#d39396\",\"#a59096\",\"#aa6496\",\"#acc696\",\"#6e5b96\",\"#3ba496\",\"#af4a96\",\"#a79d96\",\"#493396\",\"#45cf96\",\"#32dc96\",\"#4f2096\",\"#bf3096\",\"#472e96\",\"#903496\",\"#cd4f96\",\"#cae096\",\"#3cae96\",\"#c07696\",\"#cd5196\",\"#387a96\",\"#db9996\",\"#676696\",\"#ae9696\",\"#e32c96\",\"#ecb196\",\"#e18b96\",\"#4dae96\",\"#83d096\",\"#7e7596\",\"#7fdf96\",\"#f02896\",\"#3ab596\",\"#f4b096\",\"#d65096\",\"#8e3e96\",\"#a27e96\",\"#8b5e96\",\"#3add96\",\"#b96196\",\"#582196\",\"#f24796\",\"#814e96\",\"#a7ab96\",\"#55ac96\",\"#a78996\",\"#326996\",\"#e8a396\",\"#5a3596\",\"#542996\",\"#af3396\",\"#953896\",\"#394e96\",\"#54b896\",\"#572396\",\"#769496\",\"#3daa96\",\"#44b296\",\"#88b696\",\"#c8e196\",\"#9dba96\",\"#4ec696\",\"#687696\",\"#a3e396\",\"#815e96\",\"#e52f96\",\"#362296\",\"#d8ad96\",\"#9d2296\",\"#6cca96\",\"#372196\",\"#9aa996\",\"#6a7196\",\"#8e4f96\",\"#b4c196\",\"#72d196\",\"#3ea796\",\"#795896\",\"#f9be96\",\"#c6c096\",\"#585496\",\"#843896\",\"#e42b96\",\"#d53d96\",\"#6fc296\",\"#be2e96\",\"#a92196\",\"#d28e96\",\"#f4a796\",\"#939e96\",\"#e42896\",\"#356f96\",\"#35bb96\",\"#867096\",\"#dbd696\",\"#58d696\",\"#de7c96\",\"#c8c296\",\"#619696\",\"#842496\",\"#dc4796\",\"#7ce096\",\"#364f96\",\"#684296\",\"#d52296\",\"#56d296\",\"#77cf96\",\"#9dd796\",\"#be2f96\",\"#60a396\",\"#5d5596\",\"#574b96\",\"#ac9e96\",\"#b5ad96\",\"#a73896\",\"#952d96\",\"#445496\",\"#689e96\",\"#b62596\",\"#cddd96\",\"#bf6c96\",\"#e6a096\",\"#67cf96\",\"#ac9296\",\"#78aa96\",\"#ee8a96\",\"#7b7496\",\"#e08396\",\"#aa7696\",\"#eb6c96\",\"#99bb96\",\"#576d96\",\"#8e4f96\",\"#ad8196\",\"#da2c96\",\"#d75596\",\"#368096\",\"#6ba196\",\"#b2b996\",\"#75bb96\",\"#425996\",\"#bb4296\",\"#dc6696\",\"#37bc96\",\"#775a96\",\"#ccaa96\",\"#d89696\",\"#a66596\",\"#8d4c96\",\"#b6c596\",\"#e91f96\",\"#ab8996\",\"#c12396\",\"#f4bd96\",\"#3fc796\",\"#809f96\",\"#708396\",\"#3d7f96\",\"#aab496\",\"#547c96\",\"#c1ae96\",\"#6ddd96\",\"#a38f96\",\"#a62e96\",\"#ddd096\",\"#c78896\",\"#9d6196\",\"#79c496\",\"#d9bc96\",\"#e98c96\",\"#a0dd96\",\"#af9f96\",\"#b22496\",\"#f16596\",\"#643296\",\"#7d5c96\",\"#7e8796\",\"#396696\",\"#753696\",\"#cfa996\",\"#f68596\",\"#901e96\",\"#869696\",\"#d66196\",\"#b57996\",\"#3c6796\",\"#c67c96\",\"#3a7496\",\"#f24096\",\"#f35a96\",\"#a94b96\",\"#469d96\",\"#7d3596\",\"#bde096\",\"#c1df96\",\"#66c196\",\"#d7bb96\",\"#cb2496\",\"#ccb896\",\"#848b96\",\"#deb996\",\"#886696\",\"#bb7696\",\"#67a796\",\"#7fcf96\",\"#ba9396\",\"#c74496\",\"#cb2c96\",\"#63e296\",\"#499796\",\"#e19996\",\"#d2cf96\",\"#5e4696\",\"#cde196\",\"#3dd196\",\"#63d896\",\"#95c096\",\"#899e96\",\"#b85796\",\"#b9ad96\",\"#6cd696\",\"#a0d996\",\"#a85d96\",\"#678b96\",\"#be3096\",\"#7fe396\",\"#81d196\",\"#a67a96\",\"#675896\",\"#f99196\",\"#ea8e96\",\"#a87196\",\"#ad2196\",\"#8e4496\",\"#d1c296\",\"#94a196\",\"#43c396\",\"#8dc796\",\"#ec6e96\",\"#ac5696\",\"#cb3996\",\"#a6cb96\",\"#586496\",\"#557d96\",\"#e83696\",\"#baa096\",\"#5bbd96\",\"#cd5196\",\"#c8a896\",\"#d5a296\",\"#7d2d96\",\"#afd096\",\"#436e96\",\"#a47396\",\"#4b2596\",\"#a92496\",\"#a64496\",\"#475196\",\"#ba3996\",\"#5d6b96\",\"#b83196\",\"#a42096\",\"#d88396\",\"#8aa596\",\"#bd2a96\",\"#506b96\",\"#78de96\",\"#657a96\",\"#bd9996\",\"#938696\",\"#9d4996\",\"#7f6696\",\"#885296\",\"#9c5496\",\"#7e5a96\",\"#569d96\",\"#90ce96\",\"#ef7e96\",\"#3b7896\",\"#6f5b96\",\"#a49496\",\"#c2cd96\",\"#db7296\",\"#efde96\",\"#744a96\",\"#f5b096\",\"#8b2496\",\"#375396\",\"#a53e96\",\"#897e96\",\"#ca2b96\",\"#6f8f96\",\"#737196\",\"#f65696\",\"#e13496\",\"#487996\",\"#d53396\",\"#806996\",\"#c95f96\",\"#e96096\",\"#cb6196\",\"#d1e396\",\"#cdd196\",\"#f69596\",\"#809196\",\"#706196\",\"#c68696\",\"#c68696\",\"#d5bc96\",\"#d23e96\",\"#65ca96\",\"#b26496\",\"#515d96\",\"#734696\",\"#5d3996\",\"#8ed096\",\"#b15d96\",\"#91b096\",\"#6fad96\",\"#ae9396\",\"#784f96\",\"#c9d696\",\"#697996\",\"#845896\",\"#4d4f96\",\"#665396\",\"#5a4096\",\"#424496\",\"#af9f96\",\"#f76e96\",\"#757096\",\"#b8ce96\",\"#b92896\",\"#3e5496\",\"#e5b996\",\"#f1a296\",\"#98e096\",\"#9e6496\",\"#799996\",\"#f3b896\",\"#b4c396\",\"#eddc96\",\"#882996\",\"#888a96\",\"#6a9196\",\"#6d9796\",\"#cee396\",\"#df5496\",\"#ad4b96\",\"#5e8296\",\"#d4dc96\",\"#7d7696\",\"#b49d96\",\"#f96e96\",\"#eb8696\",\"#4ee196\",\"#812f96\",\"#692496\",\"#326796\",\"#ded496\",\"#354a96\",\"#3f8696\",\"#9f7d96\",\"#8f2d96\",\"#917596\",\"#f16296\",\"#677c96\",\"#ea4196\",\"#adce96\",\"#3fd096\",\"#bfc496\",\"#892496\",\"#dd9a96\",\"#ddc396\",\"#567896\",\"#bf8896\",\"#df3996\",\"#958496\",\"#492596\",\"#90d296\",\"#8e9f96\",\"#464d96\",\"#ca4b96\",\"#544696\",\"#707096\",\"#4c7596\",\"#8b9596\",\"#544a96\",\"#5fb596\",\"#7c1f96\",\"#41b096\",\"#874c96\",\"#3d7696\",\"#ad3696\",\"#b4e396\",\"#bc4c96\",\"#5ae196\",\"#69af96\",\"#b92896\",\"#c53096\",\"#85d696\",\"#c6b796\",\"#a48d96\",\"#ab9e96\",\"#aba196\",\"#a04396\",\"#5cc496\",\"#d8d696\",\"#b5b596\",\"#601f96\",\"#5f5796\",\"#7d9996\",\"#c63796\",\"#e0b096\",\"#cbdd96\",\"#804696\",\"#b24096\",\"#e85596\",\"#3a3096\",\"#ee7496\",\"#adb996\",\"#458d96\",\"#e96b96\",\"#86cc96\",\"#c7e196\",\"#44d096\",\"#38b496\",\"#c65496\",\"#94b096\",\"#502096\",\"#4a8c96\",\"#5b6596\",\"#874b96\",\"#496296\",\"#6c9096\",\"#3b3a96\",\"#ae8e96\",\"#3eb996\",\"#817296\",\"#678d96\",\"#8be596\",\"#81c796\",\"#cf9d96\",\"#8ec896\",\"#af6896\",\"#939096\",\"#7c7996\",\"#42cf96\",\"#459396\",\"#33db96\",\"#ea4f96\",\"#8b7096\",\"#3d1e96\",\"#e4da96\",\"#6cbc96\",\"#38db96\",\"#ad7b96\",\"#5d7e96\",\"#709b96\",\"#973796\",\"#c44a96\",\"#75b096\",\"#b5ce96\",\"#4c2596\",\"#eb8796\",\"#373596\",\"#aabf96\",\"#5b9996\",\"#dc8696\",\"#f5d896\",\"#5d9096\",\"#655096\",\"#d5d596\",\"#823796\",\"#d38796\",\"#5c7196\",\"#677396\",\"#861f96\",\"#50de96\",\"#745b96\",\"#e2bd96\",\"#a64896\",\"#a2e196\",\"#d72096\",\"#597196\",\"#586f96\",\"#717e96\",\"#7b4296\",\"#a0bf96\",\"#b32f96\",\"#cb1f96\",\"#4f7996\",\"#c73a96\",\"#8fd896\",\"#bc3196\",\"#3e6b96\",\"#e9e596\",\"#c67c96\",\"#bed196\",\"#b2ac96\",\"#e94d96\",\"#c89896\",\"#745496\",\"#979e96\",\"#e56896\",\"#833c96\",\"#bede96\",\"#422c96\",\"#eaa996\",\"#d22896\",\"#f36696\",\"#e22696\",\"#8cd596\",\"#b19896\",\"#3f9b96\",\"#47db96\",\"#5e6796\",\"#8e4f96\",\"#742396\",\"#8e6296\",\"#a99996\",\"#dfce96\",\"#925e96\",\"#5d8396\",\"#d0b296\",\"#6e5396\",\"#455c96\",\"#493796\",\"#771f96\",\"#909096\",\"#558d96\",\"#7ab296\",\"#d53196\",\"#619c96\",\"#b1b196\",\"#b99396\",\"#35a396\",\"#ddca96\",\"#5ccf96\",\"#d74696\",\"#9ddb96\",\"#817896\",\"#ecd896\",\"#cd4896\",\"#965c96\",\"#3d6696\",\"#552596\",\"#c24696\",\"#dd8b96\",\"#e3e596\",\"#9dd396\",\"#cadc96\",\"#e89696\",\"#568996\",\"#c97996\",\"#429e96\",\"#f51f96\",\"#8c4296\",\"#ecab96\",\"#9e9496\",\"#f07f96\",\"#9b8c96\",\"#eccd96\",\"#cb9496\",\"#f59296\",\"#f7b496\",\"#7c6c96\",\"#6de396\",\"#74af96\",\"#bee496\",\"#a4a196\",\"#492496\",\"#46e496\",\"#9bb496\",\"#adc496\",\"#a35c96\",\"#7b8896\",\"#e4cf96\",\"#71a396\",\"#97a796\",\"#44cc96\",\"#876496\",\"#91ba96\",\"#c8a396\",\"#b07c96\",\"#c6d196\",\"#a43996\",\"#e73a96\",\"#4f6e96\",\"#b82c96\",\"#43b596\",\"#3cda96\",\"#438d96\",\"#65ba96\",\"#782996\",\"#f73f96\",\"#9fdb96\",\"#91bd96\",\"#65b496\",\"#8f7796\",\"#702f96\",\"#a3ad96\",\"#b7b596\",\"#7b9296\",\"#c37496\",\"#edbd96\",\"#818496\",\"#e0dc96\",\"#85b296\",\"#cad096\",\"#9abb96\",\"#3c7296\",\"#f16f96\",\"#49a296\",\"#60c396\",\"#cc5d96\",\"#986396\",\"#e28a96\",\"#e21f96\",\"#dfcb96\",\"#b03296\",\"#b4be96\",\"#c52696\",\"#523096\",\"#ec3a96\",\"#6c1e96\",\"#414096\",\"#a1c596\",\"#ee7596\",\"#442396\",\"#cace96\",\"#8fcd96\",\"#d73f96\",\"#6e6696\",\"#c55b96\",\"#34b296\",\"#dd6c96\",\"#a13e96\",\"#de2f96\",\"#a8a196\",\"#848b96\",\"#57b696\",\"#3ee196\",\"#4a5896\",\"#d7a096\",\"#49b496\",\"#966096\",\"#f7c396\",\"#98e196\",\"#c22f96\",\"#874396\",\"#edb196\",\"#beb496\",\"#c2cc96\",\"#f24596\",\"#ba7f96\",\"#7c6496\",\"#c4ac96\",\"#84e496\",\"#ba9696\",\"#dc5f96\",\"#3c8796\",\"#89cf96\",\"#684696\",\"#d64296\",\"#3b7796\",\"#e4c796\",\"#51ba96\",\"#ed4296\",\"#e85896\",\"#4d6e96\",\"#e9d596\",\"#e53496\",\"#d63d96\",\"#d7ba96\",\"#444c96\",\"#8b6d96\",\"#4ed896\",\"#575c96\",\"#3fb196\",\"#e47696\",\"#419f96\",\"#a7d996\",\"#62e196\",\"#aaaa96\",\"#e7c196\",\"#6c9096\",\"#cf9596\",\"#90ba96\",\"#eb7e96\",\"#db6f96\",\"#874196\",\"#ec7f96\",\"#3e7696\",\"#f6b596\",\"#91d396\",\"#9e8d96\",\"#adcd96\",\"#e98196\",\"#392196\",\"#a74596\",\"#7dd296\",\"#7e9396\",\"#e48a96\",\"#7e2496\",\"#b22996\",\"#89a296\",\"#c9b196\",\"#60d896\",\"#903996\",\"#bb7696\",\"#3dcd96\",\"#a72196\",\"#a29696\",\"#728d96\",\"#8e2f96\",\"#53a396\",\"#e6c396\",\"#b14696\",\"#53d796\",\"#de4596\",\"#878a96\",\"#c2b096\",\"#d33796\",\"#4ac596\",\"#438696\",\"#acad96\",\"#d51e96\",\"#d9c296\",\"#66bd96\",\"#6ae196\",\"#b5cf96\",\"#4b9f96\",\"#5a3896\",\"#db8896\",\"#675996\",\"#3e6d96\",\"#414896\",\"#ec7996\",\"#497b96\",\"#de3496\",\"#856696\",\"#402196\",\"#376196\",\"#d9df96\",\"#ca6896\",\"#936f96\",\"#e7b796\",\"#ee3c96\",\"#c54296\",\"#f65196\",\"#c17c96\",\"#b18b96\",\"#afaa96\",\"#33a396\",\"#f1db96\",\"#834996\",\"#5f8596\",\"#3be296\",\"#e37696\",\"#da6d96\",\"#435796\",\"#7f3c96\",\"#40c696\",\"#d4de96\",\"#d2be96\",\"#742d96\",\"#cc7f96\",\"#ecd296\",\"#3c5396\",\"#789c96\",\"#a74b96\",\"#af9896\",\"#b7ce96\",\"#d77196\",\"#d45e96\",\"#c6e496\",\"#709396\",\"#9f9096\",\"#948a96\",\"#bd3396\",\"#8f5a96\",\"#c8c596\",\"#76a396\",\"#50b196\",\"#e3b796\",\"#3e3096\",\"#8c6e96\",\"#a05396\",\"#e6e296\",\"#b12196\",\"#512a96\",\"#daaf96\",\"#d2d796\",\"#d2b596\",\"#343796\",\"#a2c496\",\"#8e8f96\",\"#b04996\",\"#e43796\",\"#329296\",\"#4ed696\",\"#35c096\",\"#4e5396\",\"#a1d596\",\"#6e5696\",\"#607196\",\"#3a2096\",\"#bd3c96\",\"#6dc696\",\"#6b8196\",\"#e5a796\",\"#ab6a96\",\"#89e096\",\"#9ccf96\",\"#ee7f96\",\"#5d7596\",\"#979696\",\"#912496\",\"#535d96\",\"#6b9996\",\"#37b796\",\"#70a896\",\"#7ce296\",\"#f57696\",\"#d2c096\",\"#b9a596\",\"#ce7396\",\"#95c796\",\"#de7096\",\"#dc2c96\",\"#f85696\",\"#b04396\",\"#5e6a96\",\"#76e096\",\"#724796\",\"#5caa96\",\"#c35096\",\"#5dbb96\",\"#428d96\",\"#9e7896\",\"#748296\",\"#aea996\",\"#e34096\",\"#692d96\",\"#b32196\",\"#58a296\",\"#36ab96\",\"#baaa96\",\"#f64896\",\"#d04796\",\"#ccb896\",\"#4d4896\",\"#32ac96\",\"#4d6c96\",\"#bfd096\",\"#735196\",\"#e79696\",\"#454096\",\"#b77b96\",\"#c64496\",\"#3b7696\",\"#8d6b96\",\"#72a796\",\"#cc7596\",\"#ed5d96\",\"#df6d96\",\"#f0c896\",\"#683596\",\"#662f96\",\"#6d4c96\",\"#efdd96\",\"#f84996\",\"#58df96\",\"#b97696\",\"#ca3a96\",\"#3c8d96\",\"#a84596\",\"#a6c296\",\"#66cc96\",\"#4e2f96\",\"#3ebf96\",\"#ca6696\",\"#b8bc96\",\"#f89e96\",\"#d62c96\",\"#548596\",\"#c85596\",\"#927796\",\"#e7b796\",\"#e5be96\",\"#c1a196\",\"#997096\",\"#7a7796\",\"#e24996\",\"#589796\",\"#7ec496\",\"#4acd96\",\"#6ce096\",\"#637c96\",\"#48c196\",\"#adc296\",\"#5f5196\",\"#373396\",\"#77b196\",\"#a83a96\",\"#5d4996\",\"#e8c696\",\"#83cf96\",\"#5db196\",\"#322d96\",\"#bfc696\",\"#859296\",\"#326196\",\"#f84696\",\"#bcd596\",\"#623196\",\"#f99c96\",\"#ab2f96\",\"#37cc96\",\"#6fb496\",\"#328b96\",\"#90e596\",\"#f89a96\",\"#ae4796\",\"#ec3296\",\"#40a996\",\"#9b3f96\",\"#ae6296\",\"#689a96\",\"#3bb896\",\"#4d8896\",\"#694d96\",\"#bc7d96\",\"#a24096\",\"#668d96\",\"#a85f96\",\"#bbab96\",\"#ce3296\",\"#72dc96\",\"#60ba96\",\"#db3d96\",\"#454296\",\"#89be96\",\"#374196\",\"#778b96\",\"#b94f96\",\"#583896\",\"#c73a96\",\"#f95296\",\"#ceae96\",\"#f54e96\",\"#b37c96\",\"#c88596\",\"#5e7096\",\"#beae96\",\"#e5da96\",\"#c0a996\",\"#c36b96\",\"#449196\",\"#437d96\",\"#e33796\",\"#c3a896\",\"#5e5196\",\"#e63396\",\"#ba8e96\",\"#4da496\",\"#33c396\",\"#392196\",\"#b24e96\",\"#4eaa96\",\"#537396\",\"#615a96\",\"#d15296\",\"#adcb96\",\"#b44a96\",\"#3e9b96\",\"#a25296\",\"#864e96\",\"#d44a96\",\"#f06e96\",\"#5bcc96\",\"#b8d596\",\"#413096\",\"#f0ca96\",\"#ce2d96\",\"#5d3396\",\"#ba9296\",\"#332796\",\"#387d96\",\"#d1d896\",\"#9eb596\",\"#331f96\",\"#6a9496\",\"#38a096\",\"#3f5a96\",\"#cd3796\",\"#e9d096\",\"#587096\",\"#d66496\",\"#826796\",\"#354b96\",\"#879296\",\"#762b96\",\"#b77596\",\"#3d6996\",\"#c8c196\",\"#3b5396\",\"#d56096\",\"#e56996\",\"#d77a96\",\"#c79996\",\"#b59f96\",\"#e7a296\",\"#c65296\",\"#65d996\",\"#499396\",\"#a48496\",\"#3caf96\",\"#8f2496\",\"#9f4896\",\"#854a96\",\"#b03396\",\"#505696\",\"#e04c96\",\"#366b96\",\"#af6696\",\"#80c496\",\"#8f7496\",\"#c5a396\",\"#715b96\",\"#aacf96\",\"#6dd496\",\"#853396\",\"#bacc96\",\"#ef8d96\",\"#41ad96\",\"#a59b96\",\"#567696\",\"#bd3f96\",\"#3a2796\",\"#41c996\",\"#d26096\",\"#914496\",\"#b29296\",\"#66a096\",\"#75e596\",\"#bbbf96\",\"#933696\",\"#4d3b96\",\"#e04596\",\"#5d4796\",\"#c66396\",\"#c95c96\",\"#c34796\",\"#f0bb96\",\"#d14896\",\"#ee6c96\",\"#cd5596\",\"#4dd996\",\"#8cd396\",\"#964b96\",\"#64a996\",\"#f1e496\",\"#363796\",\"#9f3c96\",\"#c3c596\",\"#845296\",\"#4a7e96\",\"#9bc996\",\"#908796\",\"#b26a96\",\"#3d2196\",\"#622696\",\"#7a3c96\",\"#ebdd96\",\"#b3b696\",\"#df9296\",\"#538e96\",\"#ac7f96\",\"#72d896\",\"#d79f96\",\"#409796\",\"#c32396\",\"#c97496\",\"#4ea396\",\"#3cc996\",\"#edac96\",\"#416496\",\"#569c96\",\"#b8bc96\",\"#492b96\",\"#d89296\",\"#c0dc96\",\"#af4c96\",\"#f36196\",\"#bca996\",\"#527c96\",\"#a53d96\",\"#6fbf96\",\"#48d896\",\"#a6df96\",\"#63ce96\",\"#f07e96\",\"#44bb96\",\"#a77196\",\"#6a6296\",\"#b8da96\",\"#87ae96\",\"#43c996\",\"#cfa796\",\"#e7c296\",\"#bd8296\",\"#6d2b96\",\"#559796\",\"#39d096\",\"#61e496\",\"#78c896\",\"#372696\",\"#e8dd96\",\"#86a696\",\"#3e5e96\",\"#7b5b96\",\"#f0d296\",\"#8cb596\",\"#4c6396\",\"#6fa896\",\"#3dc296\",\"#a83496\",\"#72b696\",\"#bad296\",\"#524196\",\"#878b96\",\"#55a796\",\"#b18896\",\"#eb5e96\",\"#b9bb96\",\"#92ab96\",\"#d87f96\",\"#9ddf96\",\"#82df96\",\"#a5d796\",\"#5a7296\",\"#7be296\",\"#972f96\",\"#937f96\",\"#ad7396\",\"#f8ac96\",\"#f84996\",\"#f1aa96\",\"#7d2796\",\"#af6796\",\"#64d196\",\"#352296\",\"#e75d96\",\"#9f7796\",\"#783a96\",\"#ee2196\",\"#7bb396\",\"#46b096\",\"#90d996\",\"#955796\",\"#6fbb96\",\"#e4cb96\",\"#8d3a96\",\"#393096\",\"#d23d96\",\"#b8ad96\",\"#42e196\",\"#ec5b96\",\"#5f7b96\",\"#83bb96\",\"#a97396\",\"#768296\",\"#a96196\",\"#59a596\",\"#483996\",\"#dcb996\",\"#b52c96\",\"#f32c96\",\"#862896\",\"#cdb796\",\"#8bb496\",\"#e15996\",\"#bd4896\",\"#43de96\",\"#f84996\",\"#d8e296\",\"#f1d696\",\"#ccd196\",\"#572896\",\"#89cc96\",\"#66d996\",\"#4c6996\",\"#349096\",\"#da5796\",\"#8e4696\",\"#d9e396\",\"#592096\",\"#445f96\",\"#5e2f96\",\"#5b5e96\",\"#cf7e96\",\"#7cc896\",\"#f85c96\",\"#df6896\",\"#eaaf96\",\"#82da96\",\"#d58196\",\"#e99f96\",\"#aab296\",\"#782196\",\"#35be96\",\"#d23096\",\"#6ad496\",\"#439e96\",\"#9e5296\",\"#8c8596\",\"#cad296\",\"#b08996\",\"#785796\",\"#f2c496\",\"#4c7196\",\"#767596\",\"#b34f96\",\"#da4396\",\"#c77e96\",\"#49d296\",\"#a26096\",\"#5f3b96\",\"#6b8296\",\"#f08696\",\"#71aa96\",\"#54e396\",\"#ac6a96\",\"#ee9096\",\"#5f8796\",\"#a9b796\",\"#e0d296\",\"#f08196\",\"#ad4896\",\"#f08c96\",\"#8c3196\",\"#95c596\",\"#d35496\",\"#be7e96\",\"#92a896\",\"#a04c96\",\"#7b4896\",\"#889c96\",\"#e7cc96\",\"#d76896\",\"#912b96\",\"#f23796\",\"#bd5496\",\"#e5df96\",\"#7cae96\",\"#be9196\",\"#38af96\",\"#419196\",\"#872596\",\"#746096\",\"#b94196\",\"#ed6896\",\"#4f7796\",\"#f13796\",\"#f62796\",\"#7b6c96\",\"#34b496\",\"#9dcc96\",\"#68b496\",\"#d34f96\",\"#57c096\",\"#9eca96\",\"#aaac96\",\"#90ab96\",\"#677296\",\"#766496\",\"#7e9f96\",\"#b4b396\",\"#a8b196\",\"#5d2a96\",\"#6e5796\",\"#46cf96\",\"#ed2696\",\"#3f2596\",\"#9fba96\",\"#5cc896\",\"#3e8b96\",\"#68be96\",\"#c59996\",\"#ed7c96\",\"#704396\",\"#916396\",\"#657896\",\"#721f96\",\"#e27e96\",\"#667596\",\"#703596\",\"#65a796\",\"#c76e96\",\"#3a4496\",\"#632596\",\"#8adb96\",\"#7de096\",\"#40da96\",\"#6da996\",\"#edad96\",\"#deab96\",\"#722796\",\"#eaa296\",\"#f77e96\",\"#9fc096\",\"#f59696\",\"#be5e96\",\"#738d96\",\"#be4b96\",\"#5b3096\",\"#34de96\",\"#ef9596\",\"#daab96\",\"#391e96\",\"#5a4596\",\"#846896\",\"#e27a96\",\"#359596\",\"#7d9496\",\"#5e7996\",\"#46cb96\",\"#658c96\",\"#928496\",\"#528d96\",\"#f72696\",\"#beb196\",\"#392396\",\"#bfa896\",\"#d66696\",\"#413d96\",\"#5ee496\",\"#405696\",\"#f24296\",\"#958f96\",\"#4e2a96\",\"#c4a996\",\"#8d9596\",\"#662a96\",\"#66e396\",\"#703d96\",\"#47d596\",\"#b69f96\",\"#4dca96\",\"#808896\",\"#c0b796\",\"#c29396\",\"#7f7f96\",\"#46c196\",\"#656896\",\"#c95a96\",\"#5e6096\",\"#675196\",\"#c9c296\",\"#667c96\",\"#b45996\",\"#4ca596\",\"#f29996\",\"#39de96\",\"#41d496\",\"#434696\",\"#e0c996\",\"#c66e96\",\"#f66196\",\"#b2b196\",\"#cad796\",\"#f44496\",\"#624696\",\"#871f96\",\"#5c5096\",\"#8e5a96\",\"#d62b96\",\"#996696\",\"#743296\",\"#38e296\",\"#36a896\",\"#5b2c96\",\"#a46996\",\"#ae3896\",\"#d17e96\",\"#c6c396\",\"#b56d96\",\"#aa5f96\",\"#854896\",\"#f2c096\",\"#3d8496\",\"#c64796\",\"#7cd296\",\"#9bcd96\",\"#383296\",\"#752496\",\"#efbc96\",\"#ed8296\",\"#e7d496\",\"#ad7596\",\"#cc6a96\",\"#987b96\",\"#756d96\",\"#f66396\",\"#c2b896\",\"#ef7d96\",\"#699b96\",\"#4a8496\",\"#698a96\",\"#bbd396\",\"#736c96\",\"#78bc96\",\"#413496\",\"#71bf96\",\"#e01e96\",\"#65a296\",\"#4a3a96\",\"#e3ab96\",\"#a94c96\",\"#c5ab96\",\"#bdc496\",\"#604696\",\"#d29796\",\"#45b796\",\"#3b3b96\",\"#814596\",\"#ca5496\",\"#d37c96\",\"#e48a96\",\"#93c796\",\"#a55a96\",\"#9e9b96\",\"#e42796\",\"#6f3c96\",\"#395a96\",\"#dc8a96\",\"#685696\",\"#3e7596\",\"#74da96\",\"#8b5496\",\"#4b1e96\",\"#398496\",\"#7c6d96\",\"#bfe296\",\"#f1c296\",\"#4d4896\",\"#9db496\",\"#aed196\",\"#e3bd96\",\"#8b2096\",\"#f12696\",\"#a3aa96\",\"#6e5c96\",\"#852896\",\"#804496\",\"#ea6196\",\"#339f96\",\"#ef7696\",\"#e89696\",\"#334d96\",\"#ef7f96\",\"#975a96\",\"#9d6b96\",\"#72c496\",\"#979496\",\"#57c196\",\"#dc6c96\",\"#d34696\",\"#9db996\",\"#4d3f96\",\"#7c3896\",\"#5fae96\",\"#589896\",\"#46a196\",\"#e4d396\",\"#4be196\",\"#6a4696\",\"#746396\",\"#a6c496\",\"#bfa496\",\"#acbb96\",\"#abc196\",\"#b3c096\",\"#446996\",\"#f59496\",\"#82cb96\",\"#e87f96\",\"#43c196\",\"#764296\",\"#de6496\",\"#da3f96\",\"#72c996\",\"#f3d396\",\"#986a96\",\"#6bd296\",\"#c65a96\",\"#e8bb96\",\"#907296\",\"#55ac96\",\"#e7c696\",\"#4fc596\",\"#945696\",\"#728e96\",\"#c9c396\",\"#cac596\",\"#92d896\",\"#d87d96\",\"#f1b096\",\"#864d96\",\"#385c96\",\"#b0c896\",\"#88b496\",\"#da2f96\",\"#47e096\",\"#a6e296\",\"#d28296\",\"#399f96\",\"#348f96\",\"#b92f96\",\"#a4ce96\",\"#603696\",\"#5da096\",\"#f19196\",\"#d0ab96\",\"#ba3796\",\"#ea3796\",\"#7e9f96\",\"#c1ad96\",\"#f04296\",\"#d1bb96\",\"#c69596\",\"#ba3696\",\"#c43f96\",\"#7d7296\",\"#df8896\",\"#499696\",\"#a5cd96\",\"#46ac96\",\"#4a2d96\",\"#d6c896\",\"#b93596\",\"#56ac96\",\"#782896\",\"#4b9196\",\"#404896\",\"#b1c196\",\"#a7c596\",\"#c3ae96\",\"#4de496\",\"#797696\",\"#a24496\",\"#559496\",\"#9cb796\",\"#cfc396\",\"#8cba96\",\"#bfd896\",\"#7a6b96\",\"#33d496\",\"#4bcd96\",\"#9d4c96\",\"#6ab696\",\"#4db196\",\"#84ce96\",\"#f24c96\",\"#7edf96\",\"#ca4c96\",\"#336496\",\"#4b3096\",\"#7fb796\",\"#9b6e96\",\"#3f2896\",\"#622d96\",\"#993f96\",\"#39dd96\",\"#63c396\",\"#e7b496\",\"#e98496\",\"#3f4696\",\"#baae96\",\"#5da396\",\"#c9c396\",\"#b85f96\",\"#865096\",\"#b52b96\",\"#658396\",\"#433e96\",\"#342f96\",\"#78b896\",\"#c4e596\",\"#8d8196\",\"#d71f96\",\"#898996\",\"#6ab696\",\"#f66096\",\"#739c96\",\"#44c696\",\"#375c96\",\"#aadf96\",\"#489996\",\"#c5b096\",\"#d79096\",\"#468d96\",\"#e18b96\",\"#68d496\",\"#42cc96\",\"#a2dd96\",\"#a0c396\",\"#f96f96\",\"#81a096\",\"#91b796\",\"#d65b96\",\"#879896\",\"#b0e196\",\"#3e4296\",\"#604596\",\"#f2a696\",\"#3e2f96\",\"#7f8896\",\"#f66196\",\"#923a96\",\"#e6c696\",\"#7c3296\",\"#ba3e96\",\"#e42f96\",\"#a92a96\",\"#93ce96\",\"#37e096\",\"#38e296\",\"#c18296\",\"#af5796\",\"#c2bc96\",\"#948096\",\"#5baf96\",\"#665c96\",\"#73c696\",\"#749996\",\"#528b96\",\"#46d796\",\"#b3aa96\",\"#46b096\",\"#f1c896\",\"#553196\",\"#b03c96\",\"#df9496\",\"#54d596\",\"#e48896\",\"#4ea596\",\"#ae4996\",\"#4da296\",\"#3e7f96\",\"#a16c96\",\"#4c6596\",\"#45b796\",\"#e69b96\",\"#784896\",\"#67c796\",\"#f9c496\",\"#5abd96\",\"#606296\",\"#73b396\",\"#d46896\",\"#50a896\",\"#bc3b96\",\"#f86196\",\"#895f96\",\"#5dc696\",\"#f4a896\",\"#671e96\",\"#c65f96\",\"#bb2a96\",\"#447c96\",\"#f2d096\",\"#54a396\",\"#d58296\",\"#e5bc96\",\"#a2e396\",\"#686396\",\"#da6496\",\"#c1ac96\",\"#bca596\",\"#456d96\",\"#653096\",\"#5ab296\",\"#604d96\",\"#9fb396\",\"#8a7396\",\"#9fab96\",\"#328d96\",\"#b5de96\",\"#92c096\",\"#b08a96\",\"#8bdd96\",\"#35a296\",\"#864a96\",\"#b88796\",\"#f47d96\",\"#e77796\",\"#763696\",\"#f9d296\",\"#918896\",\"#398896\",\"#bd8296\",\"#c06196\",\"#a85496\",\"#722196\",\"#4b7996\",\"#6a7396\",\"#746496\",\"#35d596\",\"#415a96\",\"#604496\",\"#3c4896\",\"#64cf96\",\"#cf2b96\",\"#c48d96\",\"#412d96\",\"#e9a696\",\"#efde96\",\"#be6e96\",\"#bd2a96\",\"#8b4d96\",\"#f67996\",\"#592096\",\"#57e596\",\"#93d996\",\"#70af96\",\"#8c2d96\",\"#f15196\",\"#f7d396\",\"#de7c96\",\"#46e396\",\"#bb6b96\",\"#ca3396\",\"#3f7e96\",\"#585496\",\"#e53a96\",\"#83e096\",\"#ef7096\",\"#986f96\",\"#514b96\",\"#f72d96\",\"#535296\",\"#d9ac96\",\"#626496\",\"#328796\",\"#ee2296\",\"#5cac96\",\"#622696\",\"#738896\",\"#546a96\",\"#99a596\",\"#90cf96\",\"#9f2296\",\"#9c5896\",\"#44a296\",\"#888196\",\"#84c796\",\"#c46496\",\"#efa596\",\"#ae7396\",\"#669e96\",\"#c48f96\",\"#474396\",\"#3abf96\",\"#cd7596\",\"#cf5096\",\"#385396\",\"#c95096\",\"#d53096\",\"#7a4296\",\"#322996\",\"#9baa96\",\"#334e96\",\"#ebb296\",\"#ecd896\",\"#5e2096\",\"#5aa996\",\"#434696\",\"#bb6c96\",\"#66b196\",\"#d99996\",\"#344d96\",\"#a19896\",\"#65c896\",\"#de2c96\",\"#e3bf96\",\"#6e7396\",\"#d2c296\",\"#856b96\",\"#a0ba96\",\"#d9cc96\",\"#cc8396\",\"#f3e496\",\"#61b496\",\"#dd4f96\",\"#576096\",\"#b95a96\",\"#932a96\",\"#f1dd96\",\"#77d996\",\"#924096\",\"#535a96\",\"#743b96\",\"#b4ae96\",\"#63a096\",\"#f6c596\",\"#669496\",\"#c26296\",\"#d03896\",\"#ade596\",\"#ec4b96\",\"#cb7696\",\"#8aac96\",\"#9fa796\",\"#a2c596\",\"#51b196\",\"#497996\",\"#a65296\",\"#6d8a96\",\"#516e96\",\"#45cd96\",\"#333796\",\"#672996\",\"#9d7f96\",\"#47b396\",\"#8ba796\",\"#de3d96\",\"#bcdc96\",\"#69a696\",\"#419e96\",\"#e88c96\",\"#656f96\",\"#9bb196\",\"#df2a96\",\"#9f5596\",\"#42af96\",\"#58c896\",\"#b95b96\",\"#825a96\",\"#352896\",\"#34a596\",\"#c08796\",\"#de3e96\",\"#b8d796\",\"#a9a696\",\"#9cb796\",\"#866696\",\"#e38796\",\"#aade96\",\"#be7796\",\"#bd9696\",\"#c58096\",\"#559796\",\"#905796\",\"#a54896\",\"#f02a96\",\"#acc296\",\"#4acc96\",\"#93a596\",\"#37ad96\",\"#6a8e96\",\"#76b396\",\"#323996\",\"#89a096\",\"#626896\",\"#703896\",\"#585096\",\"#abd696\",\"#6c2b96\",\"#8c4296\",\"#a7c496\",\"#64a096\",\"#6b6f96\",\"#869a96\",\"#bd2796\",\"#3a5096\",\"#3e9596\",\"#bd4e96\",\"#e15d96\",\"#bade96\",\"#88c596\",\"#323396\",\"#6f9896\",\"#934896\",\"#f73396\",\"#59ad96\",\"#ab8196\",\"#60db96\",\"#7b8396\",\"#5b6d96\",\"#886296\",\"#5ad696\",\"#6f8896\",\"#639196\",\"#663f96\",\"#623a96\",\"#882096\",\"#707a96\",\"#86c296\",\"#ac8696\",\"#82d396\",\"#a2a996\",\"#ed5c96\",\"#b62296\",\"#473796\",\"#7dd096\",\"#6e8e96\",\"#f65896\",\"#52cf96\",\"#6cca96\",\"#e36a96\",\"#5b5996\",\"#877496\",\"#a83696\",\"#a09696\",\"#7d7296\",\"#9d4696\",\"#72be96\",\"#763396\",\"#95c296\",\"#bea796\",\"#7c3e96\",\"#d76e96\",\"#f73196\",\"#c1cf96\",\"#5b9196\",\"#87dc96\",\"#73b096\",\"#be8396\",\"#5c7996\",\"#55a896\",\"#c0b496\",\"#741f96\",\"#42c996\",\"#be2896\",\"#8ee396\",\"#a3c096\",\"#b0de96\",\"#81d296\",\"#a05396\",\"#9da596\",\"#49ab96\",\"#918c96\",\"#a38896\",\"#d67796\",\"#ccdc96\",\"#af8e96\",\"#ab6696\",\"#89c496\",\"#79e296\",\"#342896\",\"#463b96\",\"#b4b396\",\"#457396\",\"#f73896\",\"#9a9496\",\"#bb4696\",\"#327696\",\"#90c096\",\"#4fe496\",\"#ac6e96\",\"#807c96\",\"#8a8596\",\"#67aa96\",\"#5b8e96\",\"#ed8c96\",\"#924096\",\"#add196\",\"#7bdd96\",\"#d9df96\",\"#5d3796\",\"#c99296\",\"#7aa596\",\"#355a96\",\"#583a96\",\"#885296\",\"#432496\",\"#3cd896\",\"#81b096\",\"#e47296\",\"#a64296\",\"#653596\",\"#a8a296\",\"#81df96\",\"#322a96\",\"#4c4596\",\"#904596\",\"#c44396\",\"#9c9f96\",\"#6e8596\",\"#734996\",\"#d7bc96\",\"#697596\",\"#338a96\",\"#44ce96\",\"#bd7296\",\"#a49b96\",\"#683596\",\"#616296\",\"#7ab096\",\"#f1cb96\",\"#e36096\",\"#92c096\",\"#ca9d96\",\"#d0dc96\",\"#67b296\",\"#b25996\",\"#5db796\",\"#4b7796\",\"#f9b496\",\"#6fa796\",\"#6dc296\",\"#776096\",\"#747e96\",\"#91dc96\",\"#714496\",\"#d39696\",\"#868596\",\"#548c96\",\"#6ce596\",\"#dad296\",\"#503e96\",\"#cbb396\",\"#5b2896\",\"#d15b96\",\"#c67f96\",\"#d59d96\",\"#48d596\",\"#f13696\",\"#6c8f96\",\"#f9b396\",\"#6b2f96\",\"#e84996\",\"#328396\",\"#92d796\",\"#783b96\",\"#35d396\",\"#406096\",\"#a4d196\",\"#354296\",\"#d45896\",\"#35de96\",\"#673f96\",\"#aea796\",\"#529196\",\"#c0cd96\",\"#afac96\",\"#775896\",\"#837996\",\"#7dad96\",\"#e2cb96\",\"#863296\",\"#a99996\",\"#e4b396\",\"#a92796\",\"#4ad096\",\"#c45c96\",\"#919b96\",\"#923996\",\"#39e096\",\"#f75f96\",\"#9c6396\",\"#542096\",\"#9ab096\",\"#90c896\",\"#8a2596\",\"#8ed896\",\"#476d96\",\"#bf3096\",\"#7d5096\",\"#744196\",\"#7b9696\",\"#5b7b96\",\"#3f6e96\",\"#50b396\",\"#ef7396\",\"#f0e296\",\"#60c596\",\"#c2bc96\",\"#a8b996\",\"#33ad96\",\"#d2b596\",\"#a37d96\",\"#3a7196\",\"#52c596\",\"#3d2496\",\"#c51e96\",\"#afb496\",\"#cd7c96\",\"#b68f96\",\"#c49296\",\"#cb8896\",\"#53ba96\",\"#d87796\",\"#876596\",\"#f4ad96\",\"#a74296\",\"#8c7096\",\"#ad7596\",\"#bf6f96\",\"#f24096\",\"#e45496\",\"#a64696\",\"#f96396\",\"#df7d96\",\"#8b6296\",\"#be4696\",\"#87d396\",\"#80c896\",\"#4ac396\",\"#60c596\",\"#e72396\",\"#376996\",\"#7a8396\",\"#cead96\",\"#8a8a96\",\"#64b396\",\"#f8d596\",\"#899596\",\"#af1f96\",\"#b47196\",\"#a64f96\",\"#dfc096\",\"#acaf96\",\"#d36696\",\"#342e96\",\"#491f96\",\"#bf4396\",\"#cccb96\",\"#4f9896\",\"#c47f96\",\"#4b6c96\",\"#e92f96\",\"#c8ad96\",\"#66a796\",\"#da6596\",\"#846496\",\"#502596\",\"#6fce96\",\"#e62396\",\"#f01f96\",\"#9e5c96\",\"#9cbe96\",\"#b04096\",\"#d0cc96\",\"#9a5f96\",\"#f6a396\",\"#349f96\",\"#f33096\",\"#894796\",\"#343796\",\"#496e96\",\"#cd2896\",\"#419a96\",\"#4c3496\",\"#afa996\",\"#80d996\",\"#acb096\",\"#f64696\",\"#7d2996\",\"#696896\",\"#ca5896\",\"#ef4596\",\"#679b96\",\"#edd996\",\"#515496\",\"#de2a96\",\"#80a496\",\"#f14896\",\"#ebb096\",\"#d65296\",\"#d75e96\",\"#f0ca96\",\"#d2ad96\",\"#959a96\",\"#cf5596\",\"#bdcb96\",\"#484196\",\"#a8a896\",\"#b7e296\",\"#f04096\",\"#f18696\",\"#beb296\",\"#7db196\",\"#d35396\",\"#34a496\",\"#f89196\",\"#b1db96\",\"#61c496\",\"#ee3696\",\"#88bc96\",\"#a14096\",\"#7cd196\",\"#cb3b96\",\"#337696\",\"#9ad996\",\"#8d5896\",\"#ad9f96\",\"#8b7296\",\"#df6396\",\"#374c96\",\"#4c5c96\",\"#3ae396\",\"#764996\",\"#c2aa96\",\"#cb3c96\",\"#646896\",\"#ad8c96\",\"#ca3696\",\"#e6a496\",\"#a71e96\",\"#333f96\",\"#abb096\",\"#c64496\",\"#8b5496\",\"#bb5996\",\"#7e3896\",\"#32d696\",\"#cebf96\",\"#457f96\",\"#3b9196\",\"#c6b696\",\"#799296\",\"#bd8e96\",\"#69c696\",\"#b28996\",\"#86a596\",\"#99b996\",\"#784996\",\"#f0c396\",\"#d9cf96\",\"#e08496\",\"#91a996\",\"#4bd096\",\"#5b8c96\",\"#553b96\",\"#cbd596\",\"#612c96\",\"#398c96\",\"#687096\",\"#de3896\",\"#deb996\",\"#4a5296\",\"#93ab96\",\"#f35296\",\"#cebf96\",\"#6d6796\",\"#54cc96\",\"#466596\",\"#f09596\",\"#b29796\",\"#713696\",\"#cec196\",\"#6cc696\",\"#646896\",\"#d67c96\",\"#f7bb96\",\"#8a2b96\",\"#7b2596\",\"#d35696\",\"#994796\",\"#c8c096\",\"#b09496\",\"#4fd996\",\"#d66896\",\"#cb4696\",\"#4dda96\",\"#696496\",\"#605396\",\"#bd6696\",\"#76d996\",\"#4a5096\",\"#d14496\",\"#bf5d96\",\"#a5e296\",\"#998d96\",\"#dbdd96\",\"#dda696\",\"#c82f96\",\"#816496\",\"#ce9f96\",\"#45e596\",\"#8fb796\",\"#95b796\",\"#969c96\",\"#628896\",\"#e3d996\",\"#4c6f96\",\"#e15496\",\"#e57496\",\"#a33196\",\"#84d296\",\"#702196\",\"#77ad96\",\"#af3596\",\"#56d196\",\"#d77196\",\"#ef7596\",\"#335c96\",\"#64bc96\",\"#f38e96\",\"#473d96\",\"#d8b796\",\"#958396\",\"#eb8296\",\"#a3cb96\",\"#dfb996\",\"#a2d496\",\"#8bd196\",\"#b85d96\",\"#b4ba96\",\"#dca296\",\"#df6196\",\"#c6aa96\",\"#8bb196\",\"#34a296\",\"#3b2e96\",\"#8d9096\",\"#51e396\",\"#5e3396\",\"#a2e596\",\"#3f5d96\",\"#f9e596\",\"#b0d796\",\"#ca4296\",\"#6e4b96\",\"#812696\",\"#b92496\",\"#66e196\",\"#8b6f96\",\"#8eb296\",\"#9e5796\",\"#558396\",\"#66c296\",\"#335c96\",\"#b22796\",\"#7a8d96\",\"#bfbb96\",\"#909996\",\"#ca4d96\",\"#d6b596\",\"#6da596\",\"#f49b96\",\"#ac3896\",\"#c1aa96\",\"#f15a96\",\"#7abf96\",\"#722096\",\"#80ba96\",\"#677e96\",\"#f13d96\",\"#49bf96\",\"#5c4f96\",\"#a92696\",\"#40b296\",\"#65c696\",\"#3a9696\",\"#ae6496\",\"#327896\",\"#357696\",\"#f49396\",\"#484d96\",\"#495e96\",\"#7a9196\",\"#6dd596\",\"#524a96\",\"#852b96\",\"#6d4896\",\"#a4d196\",\"#c45f96\",\"#de2396\",\"#6f9596\",\"#ecd496\",\"#a42696\",\"#826e96\",\"#9e4b96\",\"#c89b96\",\"#f1b796\",\"#db4e96\",\"#c09096\",\"#3ed796\",\"#75a596\",\"#939c96\",\"#c13096\",\"#594f96\",\"#d8c396\",\"#dac496\",\"#ceb296\",\"#e47796\",\"#3d2796\",\"#5b7c96\",\"#b47196\",\"#c06396\",\"#485796\",\"#d42c96\",\"#d54996\",\"#d3bf96\",\"#648b96\",\"#7da196\",\"#6b8f96\",\"#74da96\",\"#9a4796\",\"#53bf96\",\"#5d8f96\",\"#4ac996\",\"#5ae096\",\"#8dce96\",\"#71d396\",\"#405896\",\"#492e96\",\"#792996\",\"#a44a96\",\"#6ed496\",\"#9de296\",\"#53d996\",\"#e36996\",\"#498396\",\"#5c8d96\",\"#b35296\",\"#358096\",\"#cc7696\",\"#713e96\",\"#8dc396\",\"#342196\",\"#a06896\",\"#3e8f96\",\"#513296\",\"#c0de96\",\"#7ed396\",\"#ea6396\",\"#f79b96\",\"#6d8d96\",\"#638796\",\"#e16b96\",\"#88de96\",\"#4bac96\",\"#594a96\",\"#5f7b96\",\"#536996\",\"#cc9396\",\"#e15496\",\"#3fae96\",\"#e7da96\",\"#3d9296\",\"#b23a96\",\"#f26496\",\"#c24196\",\"#925696\",\"#60b796\",\"#329896\",\"#c63496\",\"#779796\",\"#5e7596\",\"#904f96\",\"#c06296\",\"#d02f96\",\"#602d96\",\"#e27896\",\"#ed5c96\",\"#824596\",\"#c57396\",\"#bf6996\",\"#f94296\",\"#5b6596\",\"#8e4f96\",\"#bfdb96\",\"#943396\",\"#8ea296\",\"#419996\",\"#deb896\",\"#ac5996\",\"#d9c796\",\"#3dda96\",\"#e7b596\",\"#a17096\",\"#f2a296\",\"#4d2c96\",\"#913b96\",\"#7e6f96\",\"#cdc696\",\"#c45396\",\"#cbc096\",\"#3a6896\",\"#36c096\",\"#3e3f96\",\"#595296\",\"#97d896\",\"#c35396\",\"#a43d96\",\"#c17196\",\"#34b996\",\"#4e2396\",\"#3e5096\",\"#844696\",\"#5d3196\",\"#324296\",\"#b2c796\",\"#b9ae96\",\"#557496\",\"#e42696\",\"#679d96\",\"#3ea296\",\"#822296\",\"#38bb96\",\"#afe496\",\"#d38f96\",\"#71c296\",\"#8b7696\",\"#aae596\",\"#66e596\",\"#8edd96\",\"#b1ad96\",\"#e3d596\",\"#c6c296\",\"#918096\",\"#e7a196\",\"#6c5b96\",\"#866f96\",\"#7d5396\",\"#e27096\",\"#cd6096\",\"#577e96\",\"#444396\",\"#ba5596\",\"#d86e96\",\"#e66396\",\"#b03496\",\"#c1ca96\",\"#507696\",\"#ae5b96\",\"#cdb996\",\"#519d96\",\"#80a496\",\"#c32496\",\"#d39796\",\"#9c6096\",\"#37c296\",\"#ab9b96\",\"#41b696\",\"#62ad96\",\"#7c9896\",\"#f13796\",\"#b88596\",\"#a3cf96\",\"#a1d796\",\"#56b196\",\"#6dbf96\",\"#ab5496\",\"#498a96\",\"#758f96\",\"#7a4896\",\"#8a6196\",\"#3f4096\",\"#8e7996\",\"#9e6296\",\"#5cce96\",\"#6c5f96\",\"#c79596\",\"#412896\",\"#507a96\",\"#51c996\",\"#686696\",\"#492496\",\"#a1d196\",\"#ef9296\",\"#dd2d96\",\"#4ea496\",\"#434d96\",\"#7e7496\",\"#713396\",\"#e2be96\",\"#3b4e96\",\"#c49196\",\"#6f4596\",\"#5f2c96\",\"#c02896\",\"#ad2696\",\"#417596\",\"#c4ac96\",\"#9a7396\",\"#f04e96\",\"#6a5096\",\"#456996\",\"#f02c96\",\"#be6c96\",\"#a13196\",\"#683696\",\"#6fe396\",\"#572396\",\"#a57f96\",\"#474496\",\"#da8996\",\"#688296\",\"#8a5996\",\"#4da496\",\"#5b8396\",\"#af4596\",\"#d3ac96\",\"#465996\",\"#ccd396\",\"#b58996\",\"#dedf96\",\"#ad8a96\",\"#8cb196\",\"#6ab996\",\"#73e196\",\"#4edc96\",\"#401e96\",\"#454696\",\"#bf9196\",\"#6c9b96\",\"#36bd96\",\"#5c3d96\",\"#aa3c96\",\"#c36796\",\"#73c896\",\"#699196\",\"#98d696\",\"#c27c96\",\"#5ac896\",\"#53c796\",\"#dd7696\",\"#ba9c96\",\"#b3e396\",\"#c92e96\",\"#677296\",\"#c74796\",\"#b73496\",\"#9f3896\",\"#703696\",\"#d05996\",\"#567796\",\"#838a96\",\"#688f96\",\"#69d696\",\"#a8ba96\",\"#65a596\",\"#759096\",\"#9d9f96\",\"#945496\",\"#b84f96\",\"#486e96\",\"#e25496\",\"#83c396\",\"#bab796\",\"#d0a196\",\"#61b896\",\"#a06396\",\"#818a96\",\"#c9d996\",\"#976396\",\"#7b3396\",\"#455096\",\"#f2d496\",\"#e48d96\",\"#7b6196\",\"#e6aa96\",\"#8a9696\",\"#afa596\",\"#3bb396\",\"#563e96\",\"#806f96\",\"#844896\",\"#54c896\",\"#8ad296\",\"#a19396\",\"#706496\",\"#875096\",\"#726796\",\"#906096\",\"#9e4e96\",\"#4d7b96\",\"#db4d96\",\"#ab7d96\",\"#ca3f96\",\"#7fdd96\",\"#653c96\",\"#647396\",\"#b25896\",\"#e6e596\",\"#894896\",\"#6e5a96\",\"#b19196\",\"#81c496\",\"#c8be96\",\"#4ab496\",\"#a2df96\",\"#459e96\",\"#6de496\",\"#8fbe96\",\"#7c7096\",\"#9b9f96\",\"#ee4096\",\"#976996\",\"#934196\",\"#f06996\",\"#a95c96\",\"#e44296\",\"#755596\",\"#952396\",\"#95c196\",\"#c0b296\",\"#e9d896\",\"#60ba96\",\"#abc596\",\"#773d96\",\"#815d96\",\"#644896\",\"#f33296\",\"#4b4496\",\"#f3e396\",\"#516b96\",\"#d69f96\",\"#bfd396\",\"#447796\",\"#73d396\",\"#b57a96\",\"#bd5196\",\"#492996\",\"#a27696\",\"#a29796\",\"#b89b96\",\"#338596\",\"#7cd696\",\"#547a96\",\"#879c96\",\"#3fca96\",\"#a73f96\",\"#58d796\",\"#a5a596\",\"#dfa596\",\"#9eaf96\",\"#9a6d96\",\"#938b96\",\"#b9ce96\",\"#4e3f96\",\"#96ca96\",\"#c84896\",\"#603296\",\"#63c696\",\"#455696\",\"#418d96\",\"#da4896\",\"#857d96\",\"#c35b96\",\"#a18696\",\"#f37a96\",\"#62e396\",\"#b29996\",\"#b3b996\",\"#e46c96\",\"#845796\",\"#d05696\",\"#f65196\",\"#d48296\",\"#f95496\",\"#bb4396\",\"#d72496\",\"#e4d196\",\"#f77196\",\"#f82296\",\"#8ace96\",\"#ab2796\",\"#e15896\",\"#983696\",\"#614b96\",\"#5cd996\",\"#b85396\",\"#c44d96\",\"#7b2c96\",\"#abb796\",\"#d93096\",\"#818f96\",\"#4f3296\",\"#863e96\",\"#972896\",\"#ea3896\",\"#dbe496\",\"#414196\",\"#7cb896\",\"#f7a496\",\"#b9b296\",\"#d76896\",\"#83d896\",\"#5a3f96\",\"#e9e196\",\"#65bd96\",\"#652896\",\"#6b4696\",\"#c63696\",\"#be3d96\",\"#cba396\",\"#9ca096\",\"#388f96\",\"#ddb796\",\"#3e3296\",\"#cf3c96\",\"#e48596\",\"#338996\",\"#9e9696\",\"#602f96\",\"#a58c96\",\"#cec396\",\"#ef1f96\",\"#f99996\",\"#f2d696\",\"#785f96\",\"#c3bb96\",\"#627196\",\"#823696\",\"#ad8896\",\"#f57b96\",\"#3da796\",\"#f15396\",\"#625b96\",\"#44a296\",\"#72a596\",\"#a45596\",\"#7acf96\",\"#939596\",\"#365a96\",\"#d49f96\",\"#60b396\",\"#5a8696\",\"#f6d396\",\"#f25e96\",\"#c55e96\",\"#977396\",\"#df4c96\",\"#f7e196\",\"#3ac096\",\"#bc9796\",\"#4c2296\",\"#49cc96\",\"#4d7596\",\"#c33996\",\"#cd9796\",\"#699596\",\"#553896\",\"#ad6696\",\"#b3c696\",\"#f47496\",\"#34ce96\",\"#89a696\",\"#b63996\",\"#47a596\",\"#737096\",\"#379196\",\"#c2a096\",\"#885b96\",\"#b75e96\",\"#7b3196\",\"#a47d96\",\"#f14f96\",\"#c47a96\",\"#664b96\",\"#6a7496\",\"#d8c096\",\"#a11f96\",\"#355096\",\"#3d5896\",\"#67c096\",\"#842996\",\"#e8c196\",\"#d84f96\",\"#89c196\",\"#9d8496\",\"#3b8f96\",\"#941e96\",\"#8ab796\",\"#89d496\",\"#5a9c96\",\"#a53596\",\"#645b96\",\"#dfa096\",\"#53b096\",\"#753496\",\"#95bc96\",\"#d77496\",\"#3c3996\",\"#dba696\",\"#b36296\",\"#e13696\",\"#4e6496\",\"#8ebd96\",\"#44b196\",\"#e5df96\",\"#bec896\",\"#7fcf96\",\"#918496\",\"#b98296\",\"#c43696\",\"#459896\",\"#f97b96\",\"#36be96\",\"#5c2c96\",\"#c5c196\",\"#3f6596\",\"#f6b896\",\"#69b196\",\"#efbb96\",\"#76a096\",\"#a09396\",\"#e8a596\",\"#90d596\",\"#c55996\",\"#8f3296\",\"#4ea996\",\"#b66d96\",\"#372c96\",\"#bd9396\",\"#63e096\",\"#529e96\",\"#c36c96\",\"#753d96\",\"#b3d996\",\"#96b396\",\"#7b5196\",\"#eae596\",\"#f39f96\",\"#d25896\",\"#f88a96\",\"#f65396\",\"#7eb496\",\"#3f6796\",\"#526e96\",\"#409296\",\"#becc96\",\"#ad4596\",\"#8b5b96\",\"#73d896\",\"#ecdc96\",\"#d79b96\",\"#3d8596\",\"#35a696\",\"#da7b96\",\"#40b996\",\"#67b096\",\"#473b96\",\"#e5c796\",\"#599496\",\"#9de196\",\"#443b96\",\"#95b796\",\"#9b6196\",\"#95e296\",\"#7d5096\",\"#f4a096\",\"#d78996\",\"#589996\",\"#a0d296\",\"#adac96\",\"#e62796\",\"#a8c896\",\"#637a96\",\"#668996\",\"#568896\",\"#324796\",\"#8cd296\",\"#e3ad96\",\"#ee8396\",\"#a94896\",\"#a78296\",\"#45b096\",\"#a03f96\",\"#83ca96\",\"#d62796\",\"#ede296\",\"#ca7096\",\"#87d596\",\"#a26e96\",\"#a74296\",\"#77b396\",\"#847896\",\"#9e5296\",\"#d2ce96\",\"#5d6b96\",\"#8bc696\",\"#da2196\",\"#4a5496\",\"#69a696\",\"#486596\",\"#c62796\",\"#64c096\",\"#68d696\",\"#e4c896\",\"#8b4596\",\"#339996\",\"#732596\",\"#706596\",\"#714c96\",\"#628796\",\"#ae5396\",\"#c8da96\",\"#b3b596\",\"#702796\",\"#ce8496\",\"#c76596\",\"#816d96\",\"#e55096\",\"#813a96\",\"#b64296\",\"#59bf96\",\"#8eb696\",\"#9eca96\",\"#895896\",\"#89ac96\",\"#535096\",\"#358d96\",\"#635296\",\"#89dc96\",\"#433c96\",\"#939496\",\"#d44c96\",\"#e83696\",\"#e7e096\",\"#c7bd96\",\"#accb96\",\"#a7b596\",\"#643596\",\"#602996\",\"#751e96\",\"#bbbf96\",\"#382696\",\"#3fe596\",\"#dfce96\",\"#bba796\",\"#e95096\",\"#bd4f96\",\"#9e9f96\",\"#ee6896\",\"#8fe096\",\"#932096\",\"#759a96\",\"#d7b496\",\"#762b96\",\"#bb3a96\",\"#842996\",\"#b05696\",\"#a2bd96\",\"#edaf96\",\"#d76796\",\"#3e2996\",\"#c6cc96\",\"#737696\",\"#d44696\",\"#361f96\",\"#e58296\",\"#af4d96\",\"#996e96\",\"#d58396\",\"#84a896\",\"#c39296\",\"#e26196\",\"#348096\",\"#dab096\",\"#5cb996\",\"#ec8896\",\"#96be96\",\"#9a5196\",\"#678896\",\"#ca6596\",\"#ba2796\",\"#d7c396\",\"#65c596\",\"#f04d96\",\"#7c4796\",\"#4f6d96\",\"#a9d496\",\"#bbe196\",\"#3d2c96\",\"#c52996\",\"#6d3a96\",\"#a48096\",\"#678c96\",\"#43c896\",\"#624096\",\"#bcd396\",\"#ede096\",\"#6d7b96\",\"#3a4596\",\"#924f96\",\"#acba96\",\"#da5e96\",\"#be6796\",\"#e63796\",\"#677596\",\"#7c4796\",\"#857096\",\"#d09d96\",\"#3d3896\",\"#91bb96\",\"#b85196\",\"#873996\",\"#52b796\",\"#e63f96\",\"#8ba696\",\"#d7c696\",\"#597c96\",\"#3faf96\",\"#457a96\",\"#e11e96\",\"#54d996\",\"#bb6a96\",\"#719c96\",\"#a4e396\",\"#e16596\",\"#bb8c96\",\"#97b696\",\"#c6c896\",\"#f3cc96\",\"#84b996\",\"#adac96\",\"#f05196\",\"#bead96\",\"#b13f96\",\"#f02a96\",\"#e8d696\",\"#3f8596\",\"#69b796\",\"#ce2596\",\"#73a396\",\"#bb4896\",\"#ee5996\",\"#c4e596\",\"#f47496\",\"#774a96\",\"#603b96\",\"#a89096\",\"#9d5996\",\"#c78f96\",\"#634a96\",\"#e5b696\",\"#359796\",\"#479196\",\"#f68096\",\"#4fca96\",\"#b8b396\",\"#36de96\",\"#4be396\",\"#a1be96\",\"#da7996\",\"#ac4c96\",\"#c08d96\",\"#f8d196\",\"#cc3596\",\"#b45196\",\"#978f96\",\"#5e5f96\",\"#932796\",\"#baa596\",\"#872296\",\"#ed8e96\",\"#d2c796\",\"#449d96\",\"#b06a96\",\"#bfc196\",\"#e16d96\",\"#479d96\",\"#d32596\",\"#eae596\",\"#ef9896\",\"#92b796\",\"#6c3796\",\"#589d96\",\"#6fc896\",\"#d3e296\",\"#d84896\",\"#428e96\",\"#c14c96\",\"#abdf96\",\"#398496\",\"#8e9396\",\"#587a96\",\"#495396\",\"#463996\",\"#c68696\",\"#7b8296\",\"#7bdc96\",\"#778f96\",\"#5c9d96\",\"#67dc96\",\"#729a96\",\"#e22f96\",\"#ba4396\",\"#8c3196\",\"#a19796\",\"#dc9f96\",\"#88a096\",\"#7b2696\",\"#ae4696\",\"#afe596\",\"#ec2596\",\"#d26296\",\"#af3b96\",\"#513796\",\"#674a96\",\"#bacf96\",\"#3c3596\",\"#64a396\",\"#be5096\",\"#c18796\",\"#a18b96\",\"#d7ad96\",\"#7aa296\",\"#9bad96\",\"#346396\",\"#946c96\",\"#58ca96\",\"#b96b96\",\"#86c396\",\"#8cb696\",\"#f65996\",\"#ae7b96\",\"#dd8e96\",\"#47ad96\",\"#ebc996\",\"#9d5296\",\"#a15296\",\"#bccf96\",\"#dc7496\",\"#3d8996\",\"#3ee196\",\"#801f96\",\"#d52896\",\"#453e96\",\"#df9396\",\"#776e96\",\"#79d896\",\"#7b4a96\",\"#7ad396\",\"#57d396\",\"#70d096\",\"#34c896\",\"#696196\",\"#8fa996\",\"#b7dd96\",\"#c49196\",\"#dc6196\",\"#97c696\",\"#ceab96\",\"#aa3996\",\"#f12396\",\"#51d996\",\"#593396\",\"#797e96\",\"#684b96\",\"#3b4696\",\"#645996\",\"#8b5896\",\"#cab196\",\"#a29496\",\"#66df96\",\"#f23e96\",\"#f36096\",\"#576d96\",\"#c92996\",\"#d36296\",\"#f43c96\",\"#d06796\",\"#b15396\",\"#907996\",\"#be4196\",\"#e99996\",\"#b97396\",\"#7e7d96\",\"#8a6496\",\"#7c2096\",\"#6b6c96\",\"#8dd096\",\"#35ca96\",\"#784b96\",\"#bca296\",\"#f57296\",\"#c17c96\",\"#3ac896\",\"#6ccd96\",\"#ed5996\",\"#b06d96\",\"#c73196\",\"#9a7996\",\"#399796\",\"#516b96\",\"#e62a96\",\"#e7bf96\",\"#d09396\",\"#71c896\",\"#6cd096\",\"#4e6c96\",\"#d85996\",\"#f17f96\",\"#5f2896\",\"#ab5c96\",\"#c95f96\",\"#f5c796\",\"#99cc96\",\"#e4b496\",\"#ab4296\",\"#5cd896\",\"#53a596\",\"#947f96\",\"#8d6496\",\"#f19d96\",\"#efca96\",\"#cf8796\",\"#352896\",\"#b23096\",\"#6bb296\",\"#606296\",\"#8ba196\",\"#9b2296\",\"#54ab96\",\"#438c96\",\"#da6496\",\"#354e96\",\"#e18096\",\"#f67c96\",\"#cfd596\",\"#a5c096\",\"#7be396\",\"#82d096\",\"#4d7996\",\"#af3096\",\"#ab2b96\",\"#c77d96\",\"#e57e96\",\"#988696\",\"#e59796\",\"#807a96\",\"#788296\",\"#493796\",\"#dabe96\",\"#3b3f96\",\"#c3d396\",\"#a1b496\",\"#f32496\",\"#f8c196\",\"#946196\",\"#927f96\",\"#6cba96\",\"#7e3f96\",\"#85b996\",\"#cc7a96\",\"#b64896\",\"#94d896\",\"#5f8f96\",\"#878096\",\"#f7ca96\",\"#f86196\",\"#ebc396\",\"#775496\",\"#4e6c96\",\"#ce3396\",\"#818196\",\"#af4696\",\"#f76d96\",\"#886996\",\"#922896\",\"#aebe96\",\"#877396\",\"#354796\",\"#62a796\",\"#5a8b96\",\"#6daa96\",\"#7cc196\",\"#d12e96\",\"#f45d96\",\"#765c96\",\"#f3da96\",\"#d48896\",\"#ce4196\",\"#64a696\",\"#d2d496\",\"#a45b96\",\"#6d5296\",\"#888d96\",\"#765296\",\"#7f8d96\",\"#3e7896\",\"#88a496\",\"#7d2d96\",\"#66d496\",\"#a73996\",\"#bd8796\",\"#b2d596\",\"#e42b96\",\"#eb5996\",\"#c6a096\",\"#7e7796\",\"#a93b96\",\"#cdb596\",\"#efa596\",\"#433096\",\"#384f96\",\"#f12096\"]]]}}},\"view\":{\"type\":\"object\",\"name\":\"CDSView\",\"id\":\"p1036\",\"attributes\":{\"filter\":{\"type\":\"object\",\"name\":\"AllIndices\",\"id\":\"p1037\"}}},\"glyph\":{\"type\":\"object\",\"name\":\"Circle\",\"id\":\"p1032\",\"attributes\":{\"x\":{\"type\":\"field\",\"field\":\"x\"},\"y\":{\"type\":\"field\",\"field\":\"y\"},\"line_color\":{\"type\":\"value\",\"value\":null},\"fill_color\":{\"type\":\"field\",\"field\":\"fill_color\"},\"fill_alpha\":{\"type\":\"value\",\"value\":0.6},\"radius\":{\"type\":\"field\",\"field\":\"radius\"}}},\"nonselection_glyph\":{\"type\":\"object\",\"name\":\"Circle\",\"id\":\"p1033\",\"attributes\":{\"x\":{\"type\":\"field\",\"field\":\"x\"},\"y\":{\"type\":\"field\",\"field\":\"y\"},\"line_color\":{\"type\":\"value\",\"value\":null},\"line_alpha\":{\"type\":\"value\",\"value\":0.1},\"fill_color\":{\"type\":\"field\",\"field\":\"fill_color\"},\"fill_alpha\":{\"type\":\"value\",\"value\":0.1},\"hatch_alpha\":{\"type\":\"value\",\"value\":0.1},\"radius\":{\"type\":\"field\",\"field\":\"radius\"}}},\"muted_glyph\":{\"type\":\"object\",\"name\":\"Circle\",\"id\":\"p1034\",\"attributes\":{\"x\":{\"type\":\"field\",\"field\":\"x\"},\"y\":{\"type\":\"field\",\"field\":\"y\"},\"line_color\":{\"type\":\"value\",\"value\":null},\"line_alpha\":{\"type\":\"value\",\"value\":0.2},\"fill_color\":{\"type\":\"field\",\"field\":\"fill_color\"},\"fill_alpha\":{\"type\":\"value\",\"value\":0.2},\"hatch_alpha\":{\"type\":\"value\",\"value\":0.2},\"radius\":{\"type\":\"field\",\"field\":\"radius\"}}}}}],\"toolbar\":{\"type\":\"object\",\"name\":\"Toolbar\",\"id\":\"p1009\",\"attributes\":{\"tools\":[{\"type\":\"object\",\"name\":\"PanTool\",\"id\":\"p1022\"},{\"type\":\"object\",\"name\":\"WheelZoomTool\",\"id\":\"p1023\",\"attributes\":{\"renderers\":\"auto\"}},{\"type\":\"object\",\"name\":\"BoxZoomTool\",\"id\":\"p1024\",\"attributes\":{\"overlay\":{\"type\":\"object\",\"name\":\"BoxAnnotation\",\"id\":\"p1025\",\"attributes\":{\"syncable\":false,\"level\":\"overlay\",\"visible\":false,\"left_units\":\"canvas\",\"right_units\":\"canvas\",\"top_units\":\"canvas\",\"bottom_units\":\"canvas\",\"line_color\":\"black\",\"line_alpha\":1.0,\"line_width\":2,\"line_dash\":[4,4],\"fill_color\":\"lightgrey\",\"fill_alpha\":0.5}}}},{\"type\":\"object\",\"name\":\"SaveTool\",\"id\":\"p1026\"},{\"type\":\"object\",\"name\":\"ResetTool\",\"id\":\"p1027\"},{\"type\":\"object\",\"name\":\"HelpTool\",\"id\":\"p1028\"}]}},\"left\":[{\"type\":\"object\",\"name\":\"LinearAxis\",\"id\":\"p1017\",\"attributes\":{\"ticker\":{\"type\":\"object\",\"name\":\"BasicTicker\",\"id\":\"p1018\",\"attributes\":{\"mantissas\":[1,2,5]}},\"formatter\":{\"type\":\"object\",\"name\":\"BasicTickFormatter\",\"id\":\"p1019\"},\"major_label_policy\":{\"type\":\"object\",\"name\":\"AllLabels\",\"id\":\"p1020\"}}}],\"below\":[{\"type\":\"object\",\"name\":\"LinearAxis\",\"id\":\"p1012\",\"attributes\":{\"ticker\":{\"type\":\"object\",\"name\":\"BasicTicker\",\"id\":\"p1013\",\"attributes\":{\"mantissas\":[1,2,5]}},\"formatter\":{\"type\":\"object\",\"name\":\"BasicTickFormatter\",\"id\":\"p1014\"},\"major_label_policy\":{\"type\":\"object\",\"name\":\"AllLabels\",\"id\":\"p1015\"}}}],\"center\":[{\"type\":\"object\",\"name\":\"Grid\",\"id\":\"p1016\",\"attributes\":{\"axis\":{\"id\":\"p1012\"}}},{\"type\":\"object\",\"name\":\"Grid\",\"id\":\"p1021\",\"attributes\":{\"dimension\":1,\"axis\":{\"id\":\"p1017\"}}}]}}]}};\n",
       "  const render_items = [{\"docid\":\"f6da10be-da7d-45c9-a20b-12fd942cc818\",\"roots\":{\"p1001\":\"eb2fa701-6361-4f5a-8f01-c4a82e87c53c\"},\"root_ids\":[\"p1001\"]}];\n",
       "  root.Bokeh.embed.embed_items_notebook(docs_json, render_items);\n",
       "  }\n",
       "  if (root.Bokeh !== undefined) {\n",
       "    embed_document(root);\n",
       "  } else {\n",
       "    let attempts = 0;\n",
       "    const timer = setInterval(function(root) {\n",
       "      if (root.Bokeh !== undefined) {\n",
       "        clearInterval(timer);\n",
       "        embed_document(root);\n",
       "      } else {\n",
       "        attempts++;\n",
       "        if (attempts > 100) {\n",
       "          clearInterval(timer);\n",
       "          console.log(\"Bokeh: ERROR: Unable to run BokehJS code because BokehJS library is missing\");\n",
       "        }\n",
       "      }\n",
       "    }, 10, root)\n",
       "  }\n",
       "})(window);"
      ],
      "application/vnd.bokehjs_exec.v0+json": ""
     },
     "metadata": {
      "application/vnd.bokehjs_exec.v0+json": {
       "id": "p1001"
      }
     },
     "output_type": "display_data"
    }
   ],
   "source": [
    "show(p)"
   ]
  },
  {
   "cell_type": "markdown",
   "metadata": {
    "slideshow": {
     "slide_type": "slide"
    }
   },
   "source": [
    "### Paraview\n",
    "\n",
    "`Paraview` es un software de código abierto (gratuito) que permite visualizar datos de simulaciones.\n",
    "\n",
    "<img style=\"float: center;\" src=\"clase4_imagenes/paraview_website.png\" alt=\"alt text\" width=\"800\" height=\"600\" class=\"blog-image\">"
   ]
  },
  {
   "cell_type": "markdown",
   "metadata": {
    "slideshow": {
     "slide_type": "slide"
    }
   },
   "source": [
    "Paraview es muy utilizado en ingeniería, por ejemplo para visualizar y analizar simulaciones aeorodinámicas.\n",
    "\n",
    "<img style=\"float: center;\" src=\"clase4_imagenes/spitfire_paraview.png\" alt=\"alt text\" width=\"800\" height=\"600\" class=\"blog-image\">"
   ]
  },
  {
   "cell_type": "markdown",
   "metadata": {
    "slideshow": {
     "slide_type": "slide"
    }
   },
   "source": [
    "#### Visualizaciones con animaciones\n",
    "\n",
    "* Ecos de luz en la estrella RS Pup\n",
    "\n",
    "![](clase4_imagenes/rs_pup.gif)"
   ]
  },
  {
   "cell_type": "markdown",
   "metadata": {
    "slideshow": {
     "slide_type": "slide"
    }
   },
   "source": [
    "#### Visualizaciones de simulaciones\n",
    "\n",
    "* En una simulación tenemos toda la información para crear visualizaciones espectaculares.\n",
    "* Ejemplo con una simulación de N-cuerpos:\n",
    "\n",
    "<img style=\"float: center;\" src=\"clase4_imagenes/galaxy_simulations.jpg\" alt=\"alt text\" width=\"800\" height=\"600\" class=\"blog-image\">"
   ]
  },
  {
   "cell_type": "markdown",
   "metadata": {
    "slideshow": {
     "slide_type": "slide"
    }
   },
   "source": [
    "* Imagenes de galaxias \"sintéticas\", i.e. generadas mediante simulaciones.\n",
    "* Incluyen el cálculo preciso de las longitudes de onda de la luz según la composición de la galaxia.\n",
    "\n",
    "![](clase4_imagenes/sunrise.jpg)"
   ]
  },
  {
   "cell_type": "markdown",
   "metadata": {
    "slideshow": {
     "slide_type": "slide"
    }
   },
   "source": [
    "* Simulación del Universo utilizando método de N-cuerpos y algunos ingredientes extras...\n",
    "* Permite observar la \"estructura a gran escala\" del Universo, así como también las galaxias.\n",
    "\n",
    "<img style=\"float: center;\" src=\"clase4_imagenes/eagle_zoom_stages1.png\" alt=\"alt text\" width=\"500\" height=\"600\" class=\"blog-image\">"
   ]
  },
  {
   "cell_type": "markdown",
   "metadata": {
    "slideshow": {
     "slide_type": "slide"
    }
   },
   "source": [
    "#### Visualización con \"renderización de volúmenes\" (Volume rendering)\n",
    "\n",
    "* Si tenemos un objeto compuesto de materia continua (no solamente partículas) hay que usar otra manera de visualizarlo.\n",
    "* Una opción es el uso de *volume rendering*\n",
    "* El concepto de *volume rendering* es calcular las propiedades de los rayos de luz que pasan dentro del objeto."
   ]
  },
  {
   "cell_type": "markdown",
   "metadata": {
    "slideshow": {
     "slide_type": "fragment"
    }
   },
   "source": [
    "![](clase4_imagenes/vol_ray_casting2.png)\n",
    "\n",
    "Este se llama *ray casting*"
   ]
  },
  {
   "cell_type": "markdown",
   "metadata": {
    "slideshow": {
     "slide_type": "slide"
    }
   },
   "source": [
    "A veces queremos aplicar una *proyección* a la imagen para que tenga el aspecto de una imagen con perspectiva.\n",
    "\n",
    "![](clase4_imagenes/perspective.jpg)"
   ]
  },
  {
   "cell_type": "markdown",
   "metadata": {
    "slideshow": {
     "slide_type": "slide"
    }
   },
   "source": [
    "#### Un ejemplo del uso de *volume rendering* en la astronomía\n",
    "\n",
    "* Este método es muy útil para simulaciones hidrodinámicas (que incluyen el gas de la galaxia)\n",
    "\n",
    "![](clase4_imagenes/gases.png)"
   ]
  },
  {
   "cell_type": "markdown",
   "metadata": {
    "slideshow": {
     "slide_type": "slide"
    }
   },
   "source": [
    "#### Rendering\n",
    "\n",
    "* El concepto de *rendering* (calcular los rayos de luz que pasan a través o que se reflejan de un objeto) es algo muy usado en arte hecho en los computadores.\n",
    "* Hay programas disponibles que calculan la apariencia de un objeto según las luces que hay en el escenario, las propiedades de la materia del objeto, etc.\n",
    "* Por ejemplo, para Linux, hay un programa (gratuito) llamado **Blender**.\n",
    "\n",
    "![](clase4_imagenes/blender.jpeg)"
   ]
  },
  {
   "cell_type": "markdown",
   "metadata": {
    "slideshow": {
     "slide_type": "slide"
    }
   },
   "source": [
    "* Se puede usar **Blender** para crear animaciones. Puede calcular algunos aspectos de la \"física\" de un objeto, aunque no se puede crear una simulación científica...\n",
    "\n",
    "![](clase4_imagenes/wrecking_ball.gif)"
   ]
  },
  {
   "cell_type": "markdown",
   "metadata": {
    "slideshow": {
     "slide_type": "slide"
    }
   },
   "source": [
    "Hay algunos astronómos que han usado Blender para crear visualizaciones de simulaciones astrofísicas, por ejemplo:\n",
    "\n",
    "<img style=\"float: center;\" src=\"clase4_imagenes/protodisk.jpg\" alt=\"alt text\" width=\"600\" height=\"600\" class=\"blog-image\">"
   ]
  },
  {
   "cell_type": "markdown",
   "metadata": {
    "editable": true,
    "slideshow": {
     "slide_type": "skip"
    },
    "tags": []
   },
   "source": [
    "Hay un programa diseñado específicamente para visualizaciones de simulaciones cosmológicas que se llama **Splotch**. Aplica la transformación de los datos para dar la impresión de perspectiva, ocupa *ray casting* como en el método de *volume rendering*, etc..."
   ]
  },
  {
   "cell_type": "markdown",
   "metadata": {
    "editable": true,
    "slideshow": {
     "slide_type": "skip"
    },
    "tags": []
   },
   "source": [
    "![](clase4_imagenes/cosmo_fly_around.gif)"
   ]
  },
  {
   "cell_type": "markdown",
   "metadata": {
    "editable": true,
    "slideshow": {
     "slide_type": "slide"
    },
    "tags": []
   },
   "source": [
    "#### *Ray Tracing*\n",
    "\n",
    "Un área del mundo de la computación gráfica que está usado mucho en *rendering* es *ray tracing* (trazado de rayos). La idea es muy similar a *volume rendering* pero ahora incluimos la posibilidad de tener superficies reflectantes, también refracción, etc.\n",
    "\n",
    "![](clase4_imagenes/ray-tracing-fuente.webp)"
   ]
  },
  {
   "cell_type": "markdown",
   "metadata": {
    "editable": true,
    "slideshow": {
     "slide_type": "slide"
    },
    "tags": []
   },
   "source": [
    "#### Un ejemplo (hecho por un programa escrito en C++)\n",
    "\n",
    "![](clase4_imagenes/ray11.png)"
   ]
  },
  {
   "cell_type": "markdown",
   "metadata": {
    "editable": true,
    "slideshow": {
     "slide_type": "slide"
    },
    "tags": []
   },
   "source": [
    "# Realidad Virtual\n",
    "\n",
    "Hoy en día tenemos la tecnología para visualizar en 3D de verdad, con la *realidad virtual* (VR, por sus siglas en inglés).\n",
    "\n",
    "| ![](clase4_imagenes/oculus_rift.jpg) |\n",
    "|-------------------------------------|\n",
    "| Oculus Rift |"
   ]
  },
  {
   "cell_type": "markdown",
   "metadata": {
    "editable": true,
    "slideshow": {
     "slide_type": "slide"
    },
    "tags": []
   },
   "source": [
    "| ![](clase4_imagenes/google_cardboard.jpg) |\n",
    "|------------------------------------------|\n",
    "| Google Cardboard |"
   ]
  },
  {
   "cell_type": "markdown",
   "metadata": {
    "editable": true,
    "slideshow": {
     "slide_type": "slide"
    },
    "tags": []
   },
   "source": [
    "| ![](clase4_imagenes/sketchfab.jpg) |\n",
    "|-----------------------------------|\n",
    "| https://sketchfab.com |"
   ]
  },
  {
   "cell_type": "markdown",
   "metadata": {
    "slideshow": {
     "slide_type": "slide"
    }
   },
   "source": [
    "#### Visualizaciones de simulaciones cosmológicas:\n",
    "\n",
    "Créditos: *T.H Jarrett et al., Astronomy and Computing Volume 37, 2021, 100502*\n",
    "\n",
    "<img style=\"float: center;\" src=\"clase4_imagenes/VR_cosmology_Box.jpg\" alt=\"alt text\" width=\"600\" height=\"600\" class=\"blog-image\">"
   ]
  },
  {
   "cell_type": "markdown",
   "metadata": {
    "editable": true,
    "slideshow": {
     "slide_type": "slide"
    },
    "tags": []
   },
   "source": [
    "\n",
    "<img style=\"float: center;\" src=\"clase4_imagenes/VR_cosmology_2.jpg\" alt=\"alt text\" width=\"800\" height=\"600\" class=\"blog-image\">"
   ]
  },
  {
   "cell_type": "markdown",
   "metadata": {
    "editable": true,
    "slideshow": {
     "slide_type": "slide"
    },
    "tags": []
   },
   "source": [
    "\n",
    "<img style=\"float: center;\" src=\"clase4_imagenes/VR_cosmology.jpg\" alt=\"alt text\" width=\"800\" height=\"600\" class=\"blog-image\">"
   ]
  },
  {
   "cell_type": "markdown",
   "metadata": {
    "editable": true,
    "slideshow": {
     "slide_type": "slide"
    },
    "tags": []
   },
   "source": [
    "# Visualización en 360 grados:\n",
    "https://www.youtube.com/watch?v=-918lpR43sM"
   ]
  },
  {
   "cell_type": "markdown",
   "metadata": {
    "editable": true,
    "slideshow": {
     "slide_type": "slide"
    },
    "tags": []
   },
   "source": [
    "## Resumen\n",
    "\n",
    "* La visualización de datos es común a todas las áreas de la ciencia, por ejemplo la astronomía y ciencias atmosféricas.\n",
    "* `Python` es muy utilizado en ciencia para visualizar datos, por lo que complementa otros lenguajes (por ejemplo `C` es muy utilizado para simulaciones).\n",
    "* Visualizar no tan solo sirve para comunicar resultados, sino que también para inspeccionar los datos y asegurarnos que tengan sentido (como vimos con el Cuarteto de Anscombe).\n",
    "* La visualización puede ir desde gráficos de puntos en un espacio Cartesiano, hasta imágenes 3D."
   ]
  }
 ],
 "metadata": {
  "celltoolbar": "Slideshow",
  "kernelspec": {
   "display_name": "Python 3 (ipykernel)",
   "language": "python",
   "name": "python3"
  },
  "language_info": {
   "codemirror_mode": {
    "name": "ipython",
    "version": 3
   },
   "file_extension": ".py",
   "mimetype": "text/x-python",
   "name": "python",
   "nbconvert_exporter": "python",
   "pygments_lexer": "ipython3",
   "version": "3.12.2"
  }
 },
 "nbformat": 4,
 "nbformat_minor": 4
}
