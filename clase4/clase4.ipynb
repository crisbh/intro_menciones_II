{
 "cells": [
  {
   "cell_type": "markdown",
   "metadata": {
    "slideshow": {
     "slide_type": "skip"
    }
   },
   "source": [
    "# Instructions to export slides\n",
    "\n",
    "We might be interested in hiding the code of some slides, e.g. when displaying a video. In order to achieve this,\n",
    " the metadata of the cell has to be edited to include \"to_remove\" tag from the View->Cell Toolbar->Edit Metadata option.\n",
    " \n",
    "For instance:\n",
    " \n",
    "```js\n",
    "{\n",
    "    \"tags\": [\n",
    "        \"to_remove\"\n",
    "    ],\n",
    "    \"slideshow\": {\n",
    "        \"slide_type\": \"slide\"\n",
    "    }\n",
    "}\n",
    "```\n",
    "\n",
    "In order for this to take effect, the slideshow must be compile via the terminal using:\n",
    "```sh\n",
    "jupyter nbconvert presentation.ipynb --to slides --no-prompt --TagRemovePreprocessor.remove_input_tags {\\\"to_remove\\\"} --post serve --SlidesExporter.reveal_theme=simple\n",
    "```"
   ]
  },
  {
   "cell_type": "markdown",
   "metadata": {
    "slideshow": {
     "slide_type": "slide"
    }
   },
   "source": [
    "# Visualización de datos\n",
    "\n",
    "Supongamos que tenemos el resultado del análisis de datos, de la simulación, del algorítmo de *machine learning*, etc. \n",
    "\n",
    "El último paso es la comunicación de estos resultados con una **visualización de datos**.\n",
    "\n",
    "<img style=\"float: center;\" src=\"clase4_imagenes/infographic.png\" alt=\"alt text\" width=\"600\" height=\"600\" class=\"blog-image\">"
   ]
  },
  {
   "cell_type": "markdown",
   "metadata": {
    "slideshow": {
     "slide_type": "slide"
    }
   },
   "source": [
    "* La visualización es un aspecto muy importante de la ciencia. \n",
    "* Hay muy pocos casos donde *no* necesitamos crear una representación gráfica de nuestro trabajo.\n",
    "* Incluso en la matemática pura, una visualización buena puede ayudar mucho."
   ]
  },
  {
   "cell_type": "markdown",
   "metadata": {
    "slideshow": {
     "slide_type": "slide"
    }
   },
   "source": [
    "¿Por qué es tan importante? Porque nuestros cerebros procesan información visual muy rápidamente...\n",
    "\n",
    "![](clase4_imagenes/bandwidth_brain.png)"
   ]
  },
  {
   "cell_type": "markdown",
   "metadata": {
    "slideshow": {
     "slide_type": "slide"
    }
   },
   "source": [
    "### Cuarteto de Anscombe\n",
    "\n",
    "En la clase sobre análisis de datos, vimos que es muy importante \"explorar\" los datos a ver como son. \n",
    "\n",
    "Una forma rápida y útil de hacer eso es... graficarlos.\n",
    "\n",
    "Vamos a ver un ejemplo famoso de la estadística, llamado **\"El Cuarteto de Anscombe\"**.\n",
    "\n",
    "![](clase4_imagenes/anscombes_quartet_valores.png)"
   ]
  },
  {
   "cell_type": "markdown",
   "metadata": {
    "slideshow": {
     "slide_type": "slide"
    }
   },
   "source": [
    "El Cuarteto de Anscombe consiste en:\n",
    "\n",
    "* 4 conjuntos de datos, con valores diferentes pero propiedades *estadísticas idénticas*:\n",
    "* La *correlación* entre las variables es la misma.\n",
    "* La recta obtenida mediante *regresión lineal* también es la misma."
   ]
  },
  {
   "cell_type": "markdown",
   "metadata": {
    "slideshow": {
     "slide_type": "slide"
    }
   },
   "source": [
    "Los gráficos de los datos y rectas obtenida mediante regresión lineal:\n",
    "\n",
    "<img style=\"float: center;\" src=\"clase4_imagenes/anscombes_quartet.png\" alt=\"alt text\" width=\"900\" height=\"600\" class=\"blog-image\">"
   ]
  },
  {
   "cell_type": "markdown",
   "metadata": {
    "slideshow": {
     "slide_type": "slide"
    }
   },
   "source": [
    "¡Los 4 conjuntos de datos son muy diferentes! El único gráfico que parece \"normal\" es el primero. Todos los otros muestran puntos con \"estructura\" (es decir, no parecen datos \"reales\"). "
   ]
  },
  {
   "cell_type": "markdown",
   "metadata": {
    "slideshow": {
     "slide_type": "fragment"
    }
   },
   "source": [
    "Si no tenemos una razón para sospechar que haya estructura en los datos, podríamos concluir que hay algo mal en nuestros datos en los otros 3 gráficos.\n",
    "\n",
    "Este ejemplo ilustra el uso de los gráficos para analizar rápidamente los datos, y posiblemente detectar problemas."
   ]
  },
  {
   "cell_type": "markdown",
   "metadata": {
    "slideshow": {
     "slide_type": "slide"
    }
   },
   "source": [
    "### Visualizaciones en la astronomía\n",
    "\n",
    "* Las visualizaciones a veces nos permiten a *entender* los datos en una manera nueva.\n",
    "* Hay muchos ejemplos en la astronomía, que es una ciencia que se basa en las representaciones gráficas de los datos."
   ]
  },
  {
   "cell_type": "markdown",
   "metadata": {
    "slideshow": {
     "slide_type": "slide"
    }
   },
   "source": [
    "<img style=\"float: right;\" src=\"clase4_imagenes/HRDiagram-es.png\">\n",
    "\n",
    "### Diagrama de Hertzsprung-Russell\n",
    "\n",
    "También se llaman *diagrama de color-magnitud* de las estrellas.\n",
    "\n",
    "\n",
    "En tal diagrama graficamos el color (o temperatura) de una estrella contra su magnitud (o luminosidad).\n",
    "\n"
   ]
  },
  {
   "cell_type": "markdown",
   "metadata": {
    "slideshow": {
     "slide_type": "slide"
    }
   },
   "source": [
    "* Secuencia principal (SP): donde se encuentran la mayoría de las estrellas. \n",
    " * Baja luminosidad $\\Rightarrow$ color rojo.\n",
    " * Alta luminosidad $\\Rightarrow$ color azul.\n",
    "* Otras regiones: la rama de las estrellas gigantes, supergigantes, enanas blancas.\n",
    "* Cuando una estrella está terminando su vida en la secuencia principal, se mueve a las ramas de gigantes/supergigantes."
   ]
  },
  {
   "cell_type": "markdown",
   "metadata": {
    "slideshow": {
     "slide_type": "slide"
    }
   },
   "source": [
    "#### Ejemplo del uso del diagrama HR\n",
    "\n",
    "\n",
    "Para determinar la edad de los cúmulos globulares de estrellas:\n",
    "\n",
    "* Se supone que todas las estrellas se formaron en el mismo momento.\n",
    "* Estrellas grandes y luminosas en la SP consumen todo su hidrógeno y se mueven a la rama de las gigantes después de un tiempo más corto que una estrella menos masiva.\n",
    "* Podemos analizar cuantas estrellas en el cúmulo ya están en la rama de las gigantes, y así determinar la edad del cúmulo."
   ]
  },
  {
   "cell_type": "markdown",
   "metadata": {
    "slideshow": {
     "slide_type": "fragment"
    }
   },
   "source": [
    "Hace 30 años las observaciones indicaron que los cúmulos globulares eran mayor en edad que el universo... \n",
    "\n",
    "El descubrimiento de la aceleración de la expansión del universo (en 1998) nos dio cuenta de que el universo era más antiguo de lo pensado hasta entonces, por lo cual esta aparente contradicción fue resuelta."
   ]
  },
  {
   "cell_type": "markdown",
   "metadata": {
    "slideshow": {
     "slide_type": "slide"
    }
   },
   "source": [
    "### Un ejemplo de la meteorología\n",
    "\n",
    "<img style=\"float: right;\" src=\"clase4_imagenes/OUN.gif\">\n",
    "\n",
    "Un globo meteorológico toma mediciones de temperatura, presión, punto de rocío, etc.\n",
    "\n",
    "La línea roja es la temperatura, la línea verde es el punto de rocío.\n",
    "\n",
    "La línea discontinua corresponde al gradiente adiabático (algo que podemos calcular con la física).\n",
    "\n",
    "Estos diagramas son muy útiles para determinar la *estabilidad* (o no) del aire en una región.\n",
    "\n",
    "Aire inestable tiene la tendencia de formar nubes, tormentas, etc."
   ]
  },
  {
   "cell_type": "markdown",
   "metadata": {
    "slideshow": {
     "slide_type": "slide"
    }
   },
   "source": [
    "### Infografías en las noticias...\n",
    "\n",
    "![](clase4_imagenes/hurricane.jpg)"
   ]
  },
  {
   "cell_type": "markdown",
   "metadata": {
    "slideshow": {
     "slide_type": "slide"
    }
   },
   "source": [
    "### Visualizaciones malas... (usted no lo haga)\n",
    "\n",
    "(Fuente: http://viz.wtf/)"
   ]
  },
  {
   "cell_type": "markdown",
   "metadata": {
    "slideshow": {
     "slide_type": "slide"
    }
   },
   "source": [
    "![](clase4_imagenes/bad_viz1.jpg)"
   ]
  },
  {
   "cell_type": "markdown",
   "metadata": {
    "slideshow": {
     "slide_type": "slide"
    }
   },
   "source": [
    "![](clase4_imagenes/paper_graph.jpg)"
   ]
  },
  {
   "cell_type": "markdown",
   "metadata": {
    "slideshow": {
     "slide_type": "slide"
    }
   },
   "source": [
    "<img style=\"float: center;\" src=\"clase4_imagenes/monochromatic.png\" alt=\"alt text\" height=\"600\" class=\"blog-image\">"
   ]
  },
  {
   "cell_type": "markdown",
   "metadata": {
    "slideshow": {
     "slide_type": "slide"
    }
   },
   "source": [
    "<img style=\"float: center;\" src=\"clase4_imagenes/pinera.jpg\" alt=\"alt text\" width=\"800\" height=\"600\" class=\"blog-image\">"
   ]
  },
  {
   "cell_type": "markdown",
   "metadata": {
    "slideshow": {
     "slide_type": "slide"
    }
   },
   "source": [
    "### Creando gráficos en Python\n",
    "\n",
    "* Matplotlib\n",
    "\n",
    "<img style=\"float: center;\" src=\"clase4_imagenes/matplotlib.png\" alt=\"alt text\" width=\"800\" height=\"600\" class=\"blog-image\">"
   ]
  },
  {
   "cell_type": "markdown",
   "metadata": {
    "slideshow": {
     "slide_type": "slide"
    }
   },
   "source": [
    "* Gráficos interactivos (Bokeh)\n",
    "\n",
    "![](clase4_imagenes/bokeh.png)"
   ]
  },
  {
   "cell_type": "code",
   "execution_count": 1,
   "metadata": {
    "scrolled": false,
    "slideshow": {
     "slide_type": "slide"
    }
   },
   "outputs": [],
   "source": [
    "import numpy as np\n",
    "\n",
    "from bokeh.io import output_notebook\n",
    "from bokeh.plotting import figure, show\n",
    "\n",
    "# Set up data\n",
    "N = 4000\n",
    "x = np.random.random(size=N) * 100\n",
    "y = np.random.random(size=N) * 100\n",
    "radii = np.random.random(size=N) * 1.5\n",
    "colors = [\"#%02x%02x%02x\" % (int(r), int(g), 150) for r, g in zip(np.floor(50+2*x), np.floor(30+2*y))]"
   ]
  },
  {
   "cell_type": "code",
   "execution_count": 2,
   "metadata": {
    "scrolled": false,
    "slideshow": {
     "slide_type": "slide"
    }
   },
   "outputs": [
    {
     "data": {
      "text/html": [
       "<style>\n",
       "        .bk-notebook-logo {\n",
       "            display: block;\n",
       "            width: 20px;\n",
       "            height: 20px;\n",
       "            background-image: url(data:image/png;base64,iVBORw0KGgoAAAANSUhEUgAAABQAAAAUCAYAAACNiR0NAAAABHNCSVQICAgIfAhkiAAAAAlwSFlzAAALEgAACxIB0t1+/AAAABx0RVh0U29mdHdhcmUAQWRvYmUgRmlyZXdvcmtzIENTNui8sowAAAOkSURBVDiNjZRtaJVlGMd/1/08zzln5zjP1LWcU9N0NkN8m2CYjpgQYQXqSs0I84OLIC0hkEKoPtiH3gmKoiJDU7QpLgoLjLIQCpEsNJ1vqUOdO7ppbuec5+V+rj4ctwzd8IIbbi6u+8f1539dt3A78eXC7QizUF7gyV1fD1Yqg4JWz84yffhm0qkFqBogB9rM8tZdtwVsPUhWhGcFJngGeWrPzHm5oaMmkfEg1usvLFyc8jLRqDOMru7AyC8saQr7GG7f5fvDeH7Ej8CM66nIF+8yngt6HWaKh7k49Soy9nXurCi1o3qUbS3zWfrYeQDTB/Qj6kX6Ybhw4B+bOYoLKCC9H3Nu/leUTZ1JdRWkkn2ldcCamzrcf47KKXdAJllSlxAOkRgyHsGC/zRday5Qld9DyoM4/q/rUoy/CXh3jzOu3bHUVZeU+DEn8FInkPBFlu3+nW3Nw0mk6vCDiWg8CeJaxEwuHS3+z5RgY+YBR6V1Z1nxSOfoaPa4LASWxxdNp+VWTk7+4vzaou8v8PN+xo+KY2xsw6une2frhw05CTYOmQvsEhjhWjn0bmXPjpE1+kplmmkP3suftwTubK9Vq22qKmrBhpY4jvd5afdRA3wGjFAgcnTK2s4hY0/GPNIb0nErGMCRxWOOX64Z8RAC4oCXdklmEvcL8o0BfkNK4lUg9HTl+oPlQxdNo3Mg4Nv175e/1LDGzZen30MEjRUtmXSfiTVu1kK8W4txyV6BMKlbgk3lMwYCiusNy9fVfvvwMxv8Ynl6vxoByANLTWplvuj/nF9m2+PDtt1eiHPBr1oIfhCChQMBw6Aw0UulqTKZdfVvfG7VcfIqLG9bcldL/+pdWTLxLUy8Qq38heUIjh4XlzZxzQm19lLFlr8vdQ97rjZVOLf8nclzckbcD4wxXMidpX30sFd37Fv/GtwwhzhxGVAprjbg0gCAEeIgwCZyTV2Z1REEW8O4py0wsjeloKoMr6iCY6dP92H6Vw/oTyICIthibxjm/DfN9lVz8IqtqKYLUXfoKVMVQVVJOElGjrnnUt9T9wbgp8AyYKaGlqingHZU/uG2NTZSVqwHQTWkx9hxjkpWDaCg6Ckj5qebgBVbT3V3NNXMSiWSDdGV3hrtzla7J+duwPOToIg42ChPQOQjspnSlp1V+Gjdged7+8UN5CRAV7a5EdFNwCjEaBR27b3W890TE7g24NAP/mMDXRWrGoFPQI9ls/MWO2dWFAar/xcOIImbbpA3zgAAAABJRU5ErkJggg==);\n",
       "        }\n",
       "    </style>\n",
       "    <div>\n",
       "        <a href=\"https://bokeh.org\" target=\"_blank\" class=\"bk-notebook-logo\"></a>\n",
       "        <span id=\"e0882046-6e06-4b3a-96f3-f605d34527ba\">Loading BokehJS ...</span>\n",
       "    </div>\n"
      ]
     },
     "metadata": {},
     "output_type": "display_data"
    },
    {
     "data": {
      "application/javascript": [
       "(function(root) {\n",
       "  function now() {\n",
       "    return new Date();\n",
       "  }\n",
       "\n",
       "  const force = true;\n",
       "\n",
       "  if (typeof root._bokeh_onload_callbacks === \"undefined\" || force === true) {\n",
       "    root._bokeh_onload_callbacks = [];\n",
       "    root._bokeh_is_loading = undefined;\n",
       "  }\n",
       "\n",
       "const JS_MIME_TYPE = 'application/javascript';\n",
       "  const HTML_MIME_TYPE = 'text/html';\n",
       "  const EXEC_MIME_TYPE = 'application/vnd.bokehjs_exec.v0+json';\n",
       "  const CLASS_NAME = 'output_bokeh rendered_html';\n",
       "\n",
       "  /**\n",
       "   * Render data to the DOM node\n",
       "   */\n",
       "  function render(props, node) {\n",
       "    const script = document.createElement(\"script\");\n",
       "    node.appendChild(script);\n",
       "  }\n",
       "\n",
       "  /**\n",
       "   * Handle when an output is cleared or removed\n",
       "   */\n",
       "  function handleClearOutput(event, handle) {\n",
       "    function drop(id) {\n",
       "      const view = Bokeh.index.get_by_id(id)\n",
       "      if (view != null) {\n",
       "        view.model.document.clear()\n",
       "        Bokeh.index.delete(view)\n",
       "      }\n",
       "    }\n",
       "\n",
       "    const cell = handle.cell;\n",
       "\n",
       "    const id = cell.output_area._bokeh_element_id;\n",
       "    const server_id = cell.output_area._bokeh_server_id;\n",
       "\n",
       "    // Clean up Bokeh references\n",
       "    if (id != null) {\n",
       "      drop(id)\n",
       "    }\n",
       "\n",
       "    if (server_id !== undefined) {\n",
       "      // Clean up Bokeh references\n",
       "      const cmd_clean = \"from bokeh.io.state import curstate; print(curstate().uuid_to_server['\" + server_id + \"'].get_sessions()[0].document.roots[0]._id)\";\n",
       "      cell.notebook.kernel.execute(cmd_clean, {\n",
       "        iopub: {\n",
       "          output: function(msg) {\n",
       "            const id = msg.content.text.trim()\n",
       "            drop(id)\n",
       "          }\n",
       "        }\n",
       "      });\n",
       "      // Destroy server and session\n",
       "      const cmd_destroy = \"import bokeh.io.notebook as ion; ion.destroy_server('\" + server_id + \"')\";\n",
       "      cell.notebook.kernel.execute(cmd_destroy);\n",
       "    }\n",
       "  }\n",
       "\n",
       "  /**\n",
       "   * Handle when a new output is added\n",
       "   */\n",
       "  function handleAddOutput(event, handle) {\n",
       "    const output_area = handle.output_area;\n",
       "    const output = handle.output;\n",
       "\n",
       "    // limit handleAddOutput to display_data with EXEC_MIME_TYPE content only\n",
       "    if ((output.output_type != \"display_data\") || (!Object.prototype.hasOwnProperty.call(output.data, EXEC_MIME_TYPE))) {\n",
       "      return\n",
       "    }\n",
       "\n",
       "    const toinsert = output_area.element.find(\".\" + CLASS_NAME.split(' ')[0]);\n",
       "\n",
       "    if (output.metadata[EXEC_MIME_TYPE][\"id\"] !== undefined) {\n",
       "      toinsert[toinsert.length - 1].firstChild.textContent = output.data[JS_MIME_TYPE];\n",
       "      // store reference to embed id on output_area\n",
       "      output_area._bokeh_element_id = output.metadata[EXEC_MIME_TYPE][\"id\"];\n",
       "    }\n",
       "    if (output.metadata[EXEC_MIME_TYPE][\"server_id\"] !== undefined) {\n",
       "      const bk_div = document.createElement(\"div\");\n",
       "      bk_div.innerHTML = output.data[HTML_MIME_TYPE];\n",
       "      const script_attrs = bk_div.children[0].attributes;\n",
       "      for (let i = 0; i < script_attrs.length; i++) {\n",
       "        toinsert[toinsert.length - 1].firstChild.setAttribute(script_attrs[i].name, script_attrs[i].value);\n",
       "        toinsert[toinsert.length - 1].firstChild.textContent = bk_div.children[0].textContent\n",
       "      }\n",
       "      // store reference to server id on output_area\n",
       "      output_area._bokeh_server_id = output.metadata[EXEC_MIME_TYPE][\"server_id\"];\n",
       "    }\n",
       "  }\n",
       "\n",
       "  function register_renderer(events, OutputArea) {\n",
       "\n",
       "    function append_mime(data, metadata, element) {\n",
       "      // create a DOM node to render to\n",
       "      const toinsert = this.create_output_subarea(\n",
       "        metadata,\n",
       "        CLASS_NAME,\n",
       "        EXEC_MIME_TYPE\n",
       "      );\n",
       "      this.keyboard_manager.register_events(toinsert);\n",
       "      // Render to node\n",
       "      const props = {data: data, metadata: metadata[EXEC_MIME_TYPE]};\n",
       "      render(props, toinsert[toinsert.length - 1]);\n",
       "      element.append(toinsert);\n",
       "      return toinsert\n",
       "    }\n",
       "\n",
       "    /* Handle when an output is cleared or removed */\n",
       "    events.on('clear_output.CodeCell', handleClearOutput);\n",
       "    events.on('delete.Cell', handleClearOutput);\n",
       "\n",
       "    /* Handle when a new output is added */\n",
       "    events.on('output_added.OutputArea', handleAddOutput);\n",
       "\n",
       "    /**\n",
       "     * Register the mime type and append_mime function with output_area\n",
       "     */\n",
       "    OutputArea.prototype.register_mime_type(EXEC_MIME_TYPE, append_mime, {\n",
       "      /* Is output safe? */\n",
       "      safe: true,\n",
       "      /* Index of renderer in `output_area.display_order` */\n",
       "      index: 0\n",
       "    });\n",
       "  }\n",
       "\n",
       "  // register the mime type if in Jupyter Notebook environment and previously unregistered\n",
       "  if (root.Jupyter !== undefined) {\n",
       "    const events = require('base/js/events');\n",
       "    const OutputArea = require('notebook/js/outputarea').OutputArea;\n",
       "\n",
       "    if (OutputArea.prototype.mime_types().indexOf(EXEC_MIME_TYPE) == -1) {\n",
       "      register_renderer(events, OutputArea);\n",
       "    }\n",
       "  }\n",
       "  if (typeof (root._bokeh_timeout) === \"undefined\" || force === true) {\n",
       "    root._bokeh_timeout = Date.now() + 5000;\n",
       "    root._bokeh_failed_load = false;\n",
       "  }\n",
       "\n",
       "  const NB_LOAD_WARNING = {'data': {'text/html':\n",
       "     \"<div style='background-color: #fdd'>\\n\"+\n",
       "     \"<p>\\n\"+\n",
       "     \"BokehJS does not appear to have successfully loaded. If loading BokehJS from CDN, this \\n\"+\n",
       "     \"may be due to a slow or bad network connection. Possible fixes:\\n\"+\n",
       "     \"</p>\\n\"+\n",
       "     \"<ul>\\n\"+\n",
       "     \"<li>re-rerun `output_notebook()` to attempt to load from CDN again, or</li>\\n\"+\n",
       "     \"<li>use INLINE resources instead, as so:</li>\\n\"+\n",
       "     \"</ul>\\n\"+\n",
       "     \"<code>\\n\"+\n",
       "     \"from bokeh.resources import INLINE\\n\"+\n",
       "     \"output_notebook(resources=INLINE)\\n\"+\n",
       "     \"</code>\\n\"+\n",
       "     \"</div>\"}};\n",
       "\n",
       "  function display_loaded() {\n",
       "    const el = document.getElementById(\"e0882046-6e06-4b3a-96f3-f605d34527ba\");\n",
       "    if (el != null) {\n",
       "      el.textContent = \"BokehJS is loading...\";\n",
       "    }\n",
       "    if (root.Bokeh !== undefined) {\n",
       "      if (el != null) {\n",
       "        el.textContent = \"BokehJS \" + root.Bokeh.version + \" successfully loaded.\";\n",
       "      }\n",
       "    } else if (Date.now() < root._bokeh_timeout) {\n",
       "      setTimeout(display_loaded, 100)\n",
       "    }\n",
       "  }\n",
       "\n",
       "  function run_callbacks() {\n",
       "    try {\n",
       "      root._bokeh_onload_callbacks.forEach(function(callback) {\n",
       "        if (callback != null)\n",
       "          callback();\n",
       "      });\n",
       "    } finally {\n",
       "      delete root._bokeh_onload_callbacks\n",
       "    }\n",
       "    console.debug(\"Bokeh: all callbacks have finished\");\n",
       "  }\n",
       "\n",
       "  function load_libs(css_urls, js_urls, callback) {\n",
       "    if (css_urls == null) css_urls = [];\n",
       "    if (js_urls == null) js_urls = [];\n",
       "\n",
       "    root._bokeh_onload_callbacks.push(callback);\n",
       "    if (root._bokeh_is_loading > 0) {\n",
       "      console.debug(\"Bokeh: BokehJS is being loaded, scheduling callback at\", now());\n",
       "      return null;\n",
       "    }\n",
       "    if (js_urls == null || js_urls.length === 0) {\n",
       "      run_callbacks();\n",
       "      return null;\n",
       "    }\n",
       "    console.debug(\"Bokeh: BokehJS not loaded, scheduling load and callback at\", now());\n",
       "    root._bokeh_is_loading = css_urls.length + js_urls.length;\n",
       "\n",
       "    function on_load() {\n",
       "      root._bokeh_is_loading--;\n",
       "      if (root._bokeh_is_loading === 0) {\n",
       "        console.debug(\"Bokeh: all BokehJS libraries/stylesheets loaded\");\n",
       "        run_callbacks()\n",
       "      }\n",
       "    }\n",
       "\n",
       "    function on_error(url) {\n",
       "      console.error(\"failed to load \" + url);\n",
       "    }\n",
       "\n",
       "    for (let i = 0; i < css_urls.length; i++) {\n",
       "      const url = css_urls[i];\n",
       "      const element = document.createElement(\"link\");\n",
       "      element.onload = on_load;\n",
       "      element.onerror = on_error.bind(null, url);\n",
       "      element.rel = \"stylesheet\";\n",
       "      element.type = \"text/css\";\n",
       "      element.href = url;\n",
       "      console.debug(\"Bokeh: injecting link tag for BokehJS stylesheet: \", url);\n",
       "      document.body.appendChild(element);\n",
       "    }\n",
       "\n",
       "    for (let i = 0; i < js_urls.length; i++) {\n",
       "      const url = js_urls[i];\n",
       "      const element = document.createElement('script');\n",
       "      element.onload = on_load;\n",
       "      element.onerror = on_error.bind(null, url);\n",
       "      element.async = false;\n",
       "      element.src = url;\n",
       "      console.debug(\"Bokeh: injecting script tag for BokehJS library: \", url);\n",
       "      document.head.appendChild(element);\n",
       "    }\n",
       "  };\n",
       "\n",
       "  function inject_raw_css(css) {\n",
       "    const element = document.createElement(\"style\");\n",
       "    element.appendChild(document.createTextNode(css));\n",
       "    document.body.appendChild(element);\n",
       "  }\n",
       "\n",
       "  const js_urls = [\"https://cdn.bokeh.org/bokeh/release/bokeh-3.3.0.min.js\", \"https://cdn.bokeh.org/bokeh/release/bokeh-gl-3.3.0.min.js\", \"https://cdn.bokeh.org/bokeh/release/bokeh-widgets-3.3.0.min.js\", \"https://cdn.bokeh.org/bokeh/release/bokeh-tables-3.3.0.min.js\", \"https://cdn.bokeh.org/bokeh/release/bokeh-mathjax-3.3.0.min.js\"];\n",
       "  const css_urls = [];\n",
       "\n",
       "  const inline_js = [    function(Bokeh) {\n",
       "      Bokeh.set_log_level(\"info\");\n",
       "    },\n",
       "function(Bokeh) {\n",
       "    }\n",
       "  ];\n",
       "\n",
       "  function run_inline_js() {\n",
       "    if (root.Bokeh !== undefined || force === true) {\n",
       "          for (let i = 0; i < inline_js.length; i++) {\n",
       "      inline_js[i].call(root, root.Bokeh);\n",
       "    }\n",
       "if (force === true) {\n",
       "        display_loaded();\n",
       "      }} else if (Date.now() < root._bokeh_timeout) {\n",
       "      setTimeout(run_inline_js, 100);\n",
       "    } else if (!root._bokeh_failed_load) {\n",
       "      console.log(\"Bokeh: BokehJS failed to load within specified timeout.\");\n",
       "      root._bokeh_failed_load = true;\n",
       "    } else if (force !== true) {\n",
       "      const cell = $(document.getElementById(\"e0882046-6e06-4b3a-96f3-f605d34527ba\")).parents('.cell').data().cell;\n",
       "      cell.output_area.append_execute_result(NB_LOAD_WARNING)\n",
       "    }\n",
       "  }\n",
       "\n",
       "  if (root._bokeh_is_loading === 0) {\n",
       "    console.debug(\"Bokeh: BokehJS loaded, going straight to plotting\");\n",
       "    run_inline_js();\n",
       "  } else {\n",
       "    load_libs(css_urls, js_urls, function() {\n",
       "      console.debug(\"Bokeh: BokehJS plotting callback run at\", now());\n",
       "      run_inline_js();\n",
       "    });\n",
       "  }\n",
       "}(window));"
      ],
      "application/vnd.bokehjs_load.v0+json": "(function(root) {\n  function now() {\n    return new Date();\n  }\n\n  const force = true;\n\n  if (typeof root._bokeh_onload_callbacks === \"undefined\" || force === true) {\n    root._bokeh_onload_callbacks = [];\n    root._bokeh_is_loading = undefined;\n  }\n\n\n  if (typeof (root._bokeh_timeout) === \"undefined\" || force === true) {\n    root._bokeh_timeout = Date.now() + 5000;\n    root._bokeh_failed_load = false;\n  }\n\n  const NB_LOAD_WARNING = {'data': {'text/html':\n     \"<div style='background-color: #fdd'>\\n\"+\n     \"<p>\\n\"+\n     \"BokehJS does not appear to have successfully loaded. If loading BokehJS from CDN, this \\n\"+\n     \"may be due to a slow or bad network connection. Possible fixes:\\n\"+\n     \"</p>\\n\"+\n     \"<ul>\\n\"+\n     \"<li>re-rerun `output_notebook()` to attempt to load from CDN again, or</li>\\n\"+\n     \"<li>use INLINE resources instead, as so:</li>\\n\"+\n     \"</ul>\\n\"+\n     \"<code>\\n\"+\n     \"from bokeh.resources import INLINE\\n\"+\n     \"output_notebook(resources=INLINE)\\n\"+\n     \"</code>\\n\"+\n     \"</div>\"}};\n\n  function display_loaded() {\n    const el = document.getElementById(\"e0882046-6e06-4b3a-96f3-f605d34527ba\");\n    if (el != null) {\n      el.textContent = \"BokehJS is loading...\";\n    }\n    if (root.Bokeh !== undefined) {\n      if (el != null) {\n        el.textContent = \"BokehJS \" + root.Bokeh.version + \" successfully loaded.\";\n      }\n    } else if (Date.now() < root._bokeh_timeout) {\n      setTimeout(display_loaded, 100)\n    }\n  }\n\n  function run_callbacks() {\n    try {\n      root._bokeh_onload_callbacks.forEach(function(callback) {\n        if (callback != null)\n          callback();\n      });\n    } finally {\n      delete root._bokeh_onload_callbacks\n    }\n    console.debug(\"Bokeh: all callbacks have finished\");\n  }\n\n  function load_libs(css_urls, js_urls, callback) {\n    if (css_urls == null) css_urls = [];\n    if (js_urls == null) js_urls = [];\n\n    root._bokeh_onload_callbacks.push(callback);\n    if (root._bokeh_is_loading > 0) {\n      console.debug(\"Bokeh: BokehJS is being loaded, scheduling callback at\", now());\n      return null;\n    }\n    if (js_urls == null || js_urls.length === 0) {\n      run_callbacks();\n      return null;\n    }\n    console.debug(\"Bokeh: BokehJS not loaded, scheduling load and callback at\", now());\n    root._bokeh_is_loading = css_urls.length + js_urls.length;\n\n    function on_load() {\n      root._bokeh_is_loading--;\n      if (root._bokeh_is_loading === 0) {\n        console.debug(\"Bokeh: all BokehJS libraries/stylesheets loaded\");\n        run_callbacks()\n      }\n    }\n\n    function on_error(url) {\n      console.error(\"failed to load \" + url);\n    }\n\n    for (let i = 0; i < css_urls.length; i++) {\n      const url = css_urls[i];\n      const element = document.createElement(\"link\");\n      element.onload = on_load;\n      element.onerror = on_error.bind(null, url);\n      element.rel = \"stylesheet\";\n      element.type = \"text/css\";\n      element.href = url;\n      console.debug(\"Bokeh: injecting link tag for BokehJS stylesheet: \", url);\n      document.body.appendChild(element);\n    }\n\n    for (let i = 0; i < js_urls.length; i++) {\n      const url = js_urls[i];\n      const element = document.createElement('script');\n      element.onload = on_load;\n      element.onerror = on_error.bind(null, url);\n      element.async = false;\n      element.src = url;\n      console.debug(\"Bokeh: injecting script tag for BokehJS library: \", url);\n      document.head.appendChild(element);\n    }\n  };\n\n  function inject_raw_css(css) {\n    const element = document.createElement(\"style\");\n    element.appendChild(document.createTextNode(css));\n    document.body.appendChild(element);\n  }\n\n  const js_urls = [\"https://cdn.bokeh.org/bokeh/release/bokeh-3.3.0.min.js\", \"https://cdn.bokeh.org/bokeh/release/bokeh-gl-3.3.0.min.js\", \"https://cdn.bokeh.org/bokeh/release/bokeh-widgets-3.3.0.min.js\", \"https://cdn.bokeh.org/bokeh/release/bokeh-tables-3.3.0.min.js\", \"https://cdn.bokeh.org/bokeh/release/bokeh-mathjax-3.3.0.min.js\"];\n  const css_urls = [];\n\n  const inline_js = [    function(Bokeh) {\n      Bokeh.set_log_level(\"info\");\n    },\nfunction(Bokeh) {\n    }\n  ];\n\n  function run_inline_js() {\n    if (root.Bokeh !== undefined || force === true) {\n          for (let i = 0; i < inline_js.length; i++) {\n      inline_js[i].call(root, root.Bokeh);\n    }\nif (force === true) {\n        display_loaded();\n      }} else if (Date.now() < root._bokeh_timeout) {\n      setTimeout(run_inline_js, 100);\n    } else if (!root._bokeh_failed_load) {\n      console.log(\"Bokeh: BokehJS failed to load within specified timeout.\");\n      root._bokeh_failed_load = true;\n    } else if (force !== true) {\n      const cell = $(document.getElementById(\"e0882046-6e06-4b3a-96f3-f605d34527ba\")).parents('.cell').data().cell;\n      cell.output_area.append_execute_result(NB_LOAD_WARNING)\n    }\n  }\n\n  if (root._bokeh_is_loading === 0) {\n    console.debug(\"Bokeh: BokehJS loaded, going straight to plotting\");\n    run_inline_js();\n  } else {\n    load_libs(css_urls, js_urls, function() {\n      console.debug(\"Bokeh: BokehJS plotting callback run at\", now());\n      run_inline_js();\n    });\n  }\n}(window));"
     },
     "metadata": {},
     "output_type": "display_data"
    }
   ],
   "source": [
    "output_notebook()"
   ]
  },
  {
   "cell_type": "code",
   "execution_count": 3,
   "metadata": {
    "scrolled": false,
    "slideshow": {
     "slide_type": "fragment"
    }
   },
   "outputs": [
    {
     "data": {
      "text/html": [
       "<div style=\"display: table;\"><div style=\"display: table-row;\"><div style=\"display: table-cell;\"><b title=\"bokeh.models.renderers.glyph_renderer.GlyphRenderer\">GlyphRenderer</b>(</div><div style=\"display: table-cell;\">id&nbsp;=&nbsp;'p1035', <span id=\"p1039\" style=\"cursor: pointer;\">&hellip;)</span></div></div><div class=\"p1038\" style=\"display: none;\"><div style=\"display: table-cell;\"></div><div style=\"display: table-cell;\">coordinates&nbsp;=&nbsp;None,</div></div><div class=\"p1038\" style=\"display: none;\"><div style=\"display: table-cell;\"></div><div style=\"display: table-cell;\">data_source&nbsp;=&nbsp;ColumnDataSource(id='p1029', ...),</div></div><div class=\"p1038\" style=\"display: none;\"><div style=\"display: table-cell;\"></div><div style=\"display: table-cell;\">glyph&nbsp;=&nbsp;Circle(id='p1032', ...),</div></div><div class=\"p1038\" style=\"display: none;\"><div style=\"display: table-cell;\"></div><div style=\"display: table-cell;\">group&nbsp;=&nbsp;None,</div></div><div class=\"p1038\" style=\"display: none;\"><div style=\"display: table-cell;\"></div><div style=\"display: table-cell;\">hover_glyph&nbsp;=&nbsp;None,</div></div><div class=\"p1038\" style=\"display: none;\"><div style=\"display: table-cell;\"></div><div style=\"display: table-cell;\">js_event_callbacks&nbsp;=&nbsp;{},</div></div><div class=\"p1038\" style=\"display: none;\"><div style=\"display: table-cell;\"></div><div style=\"display: table-cell;\">js_property_callbacks&nbsp;=&nbsp;{},</div></div><div class=\"p1038\" style=\"display: none;\"><div style=\"display: table-cell;\"></div><div style=\"display: table-cell;\">level&nbsp;=&nbsp;'glyph',</div></div><div class=\"p1038\" style=\"display: none;\"><div style=\"display: table-cell;\"></div><div style=\"display: table-cell;\">muted&nbsp;=&nbsp;False,</div></div><div class=\"p1038\" style=\"display: none;\"><div style=\"display: table-cell;\"></div><div style=\"display: table-cell;\">muted_glyph&nbsp;=&nbsp;Circle(id='p1034', ...),</div></div><div class=\"p1038\" style=\"display: none;\"><div style=\"display: table-cell;\"></div><div style=\"display: table-cell;\">name&nbsp;=&nbsp;None,</div></div><div class=\"p1038\" style=\"display: none;\"><div style=\"display: table-cell;\"></div><div style=\"display: table-cell;\">nonselection_glyph&nbsp;=&nbsp;Circle(id='p1033', ...),</div></div><div class=\"p1038\" style=\"display: none;\"><div style=\"display: table-cell;\"></div><div style=\"display: table-cell;\">propagate_hover&nbsp;=&nbsp;False,</div></div><div class=\"p1038\" style=\"display: none;\"><div style=\"display: table-cell;\"></div><div style=\"display: table-cell;\">selection_glyph&nbsp;=&nbsp;'auto',</div></div><div class=\"p1038\" style=\"display: none;\"><div style=\"display: table-cell;\"></div><div style=\"display: table-cell;\">subscribed_events&nbsp;=&nbsp;PropertyValueSet(),</div></div><div class=\"p1038\" style=\"display: none;\"><div style=\"display: table-cell;\"></div><div style=\"display: table-cell;\">syncable&nbsp;=&nbsp;True,</div></div><div class=\"p1038\" style=\"display: none;\"><div style=\"display: table-cell;\"></div><div style=\"display: table-cell;\">tags&nbsp;=&nbsp;[],</div></div><div class=\"p1038\" style=\"display: none;\"><div style=\"display: table-cell;\"></div><div style=\"display: table-cell;\">view&nbsp;=&nbsp;CDSView(id='p1036', ...),</div></div><div class=\"p1038\" style=\"display: none;\"><div style=\"display: table-cell;\"></div><div style=\"display: table-cell;\">visible&nbsp;=&nbsp;True,</div></div><div class=\"p1038\" style=\"display: none;\"><div style=\"display: table-cell;\"></div><div style=\"display: table-cell;\">x_range_name&nbsp;=&nbsp;'default',</div></div><div class=\"p1038\" style=\"display: none;\"><div style=\"display: table-cell;\"></div><div style=\"display: table-cell;\">y_range_name&nbsp;=&nbsp;'default')</div></div></div>\n",
       "<script>\n",
       "(function() {\n",
       "  let expanded = false;\n",
       "  const ellipsis = document.getElementById(\"p1039\");\n",
       "  ellipsis.addEventListener(\"click\", function() {\n",
       "    const rows = document.getElementsByClassName(\"p1038\");\n",
       "    for (let i = 0; i < rows.length; i++) {\n",
       "      const el = rows[i];\n",
       "      el.style.display = expanded ? \"none\" : \"table-row\";\n",
       "    }\n",
       "    ellipsis.innerHTML = expanded ? \"&hellip;)\" : \"&lsaquo;&lsaquo;&lsaquo;\";\n",
       "    expanded = !expanded;\n",
       "  });\n",
       "})();\n",
       "</script>\n"
      ],
      "text/plain": [
       "GlyphRenderer(id='p1035', ...)"
      ]
     },
     "execution_count": 3,
     "metadata": {},
     "output_type": "execute_result"
    }
   ],
   "source": [
    "p = figure(width=400,height=400)\n",
    "p.circle(x, y, radius=radii, fill_color=colors, fill_alpha=0.6, line_color=None)"
   ]
  },
  {
   "cell_type": "code",
   "execution_count": 4,
   "metadata": {
    "scrolled": false,
    "slideshow": {
     "slide_type": "slide"
    }
   },
   "outputs": [
    {
     "data": {
      "text/html": [
       "\n",
       "  <div id=\"a61547ab-4b15-4cff-ab93-598bf404895a\" data-root-id=\"p1001\" style=\"display: contents;\"></div>\n"
      ]
     },
     "metadata": {},
     "output_type": "display_data"
    },
    {
     "data": {
      "application/javascript": [
       "(function(root) {\n",
       "  function embed_document(root) {\n",
       "  const docs_json = {\"bc8beadd-a997-4adb-8278-0ae526dbb0ae\":{\"version\":\"3.3.0\",\"title\":\"Bokeh Application\",\"roots\":[{\"type\":\"object\",\"name\":\"Figure\",\"id\":\"p1001\",\"attributes\":{\"width\":400,\"height\":400,\"x_range\":{\"type\":\"object\",\"name\":\"DataRange1d\",\"id\":\"p1002\"},\"y_range\":{\"type\":\"object\",\"name\":\"DataRange1d\",\"id\":\"p1003\"},\"x_scale\":{\"type\":\"object\",\"name\":\"LinearScale\",\"id\":\"p1010\"},\"y_scale\":{\"type\":\"object\",\"name\":\"LinearScale\",\"id\":\"p1011\"},\"title\":{\"type\":\"object\",\"name\":\"Title\",\"id\":\"p1008\"},\"renderers\":[{\"type\":\"object\",\"name\":\"GlyphRenderer\",\"id\":\"p1035\",\"attributes\":{\"data_source\":{\"type\":\"object\",\"name\":\"ColumnDataSource\",\"id\":\"p1029\",\"attributes\":{\"selected\":{\"type\":\"object\",\"name\":\"Selection\",\"id\":\"p1030\",\"attributes\":{\"indices\":[],\"line_indices\":[]}},\"selection_policy\":{\"type\":\"object\",\"name\":\"UnionRenderers\",\"id\":\"p1031\"},\"data\":{\"type\":\"map\",\"entries\":[[\"radius\",{\"type\":\"ndarray\",\"array\":{\"type\":\"bytes\",\"data\":\"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\"},\"shape\":[4000],\"dtype\":\"float64\",\"order\":\"little\"}],[\"x\",{\"type\":\"ndarray\",\"array\":{\"type\":\"bytes\",\"data\":\"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\"},\"shape\":[4000],\"dtype\":\"float64\",\"order\":\"little\"}],[\"y\",{\"type\":\"ndarray\",\"array\":{\"type\":\"bytes\",\"data\":\"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\"},\"shape\":[4000],\"dtype\":\"float64\",\"order\":\"little\"}],[\"fill_color\",[\"#7dbb96\",\"#457696\",\"#e6e196\",\"#e37096\",\"#a1a996\",\"#469896\",\"#ae8a96\",\"#de7496\",\"#764396\",\"#b82896\",\"#458496\",\"#a7b096\",\"#67bc96\",\"#d3e096\",\"#52c896\",\"#713296\",\"#6a7596\",\"#f1ba96\",\"#db9f96\",\"#505696\",\"#861e96\",\"#a54e96\",\"#d1c396\",\"#863496\",\"#f6d896\",\"#f63796\",\"#774296\",\"#72aa96\",\"#a39196\",\"#8e5796\",\"#4c3796\",\"#846796\",\"#614896\",\"#f0e496\",\"#efb996\",\"#738096\",\"#472596\",\"#c0bf96\",\"#b66d96\",\"#7d4496\",\"#a8d396\",\"#67d396\",\"#8bcd96\",\"#ea5096\",\"#54b696\",\"#52b096\",\"#96e396\",\"#e6de96\",\"#426696\",\"#5bbb96\",\"#766996\",\"#f87196\",\"#5a5a96\",\"#d23996\",\"#f79396\",\"#579e96\",\"#77af96\",\"#728996\",\"#e31f96\",\"#53d696\",\"#8ee396\",\"#e3a396\",\"#32b596\",\"#dea196\",\"#cf2196\",\"#353396\",\"#c59c96\",\"#45bc96\",\"#f98c96\",\"#b73796\",\"#9cde96\",\"#ef4f96\",\"#b33d96\",\"#818f96\",\"#37c396\",\"#d97f96\",\"#5c3a96\",\"#c82196\",\"#5d8896\",\"#d0e396\",\"#da6a96\",\"#5c5c96\",\"#bcaa96\",\"#987f96\",\"#b58496\",\"#9b8a96\",\"#e6d696\",\"#537496\",\"#337796\",\"#526b96\",\"#a0b496\",\"#7dc796\",\"#3c6496\",\"#ad5696\",\"#7cb296\",\"#605596\",\"#ae3296\",\"#c85496\",\"#c44d96\",\"#cdc696\",\"#d3a696\",\"#d78996\",\"#98c696\",\"#d3e496\",\"#4d3096\",\"#452296\",\"#8eb396\",\"#375e96\",\"#322196\",\"#bd5796\",\"#b6a296\",\"#54d596\",\"#d56a96\",\"#cebb96\",\"#862496\",\"#83a996\",\"#567396\",\"#a4a396\",\"#6ed996\",\"#548696\",\"#b83596\",\"#61a696\",\"#d83096\",\"#f69396\",\"#3ade96\",\"#e7e396\",\"#504296\",\"#9d7d96\",\"#db3a96\",\"#d66696\",\"#bfb196\",\"#dba696\",\"#c6d396\",\"#d85d96\",\"#829696\",\"#d5c496\",\"#e44d96\",\"#dd3896\",\"#74c196\",\"#6e9c96\",\"#6a7896\",\"#62db96\",\"#38a196\",\"#a6e596\",\"#f97796\",\"#995096\",\"#c58896\",\"#a5cb96\",\"#87ce96\",\"#6a6696\",\"#555c96\",\"#72af96\",\"#d62696\",\"#e7aa96\",\"#d1d196\",\"#a63196\",\"#807d96\",\"#736796\",\"#e98096\",\"#506996\",\"#b84f96\",\"#939496\",\"#c1dc96\",\"#af3696\",\"#915496\",\"#b8af96\",\"#3c3d96\",\"#e66496\",\"#3dbd96\",\"#a87396\",\"#7a9796\",\"#f14e96\",\"#e74696\",\"#4b6f96\",\"#9bd496\",\"#f87596\",\"#4bd096\",\"#888d96\",\"#59cf96\",\"#cad896\",\"#ad2c96\",\"#f83296\",\"#bc3096\",\"#c84296\",\"#f9c796\",\"#ec7396\",\"#89b896\",\"#e98b96\",\"#78ac96\",\"#695996\",\"#5d3396\",\"#458596\",\"#912796\",\"#902d96\",\"#ea1f96\",\"#9cb796\",\"#503396\",\"#725b96\",\"#4b3196\",\"#34c696\",\"#933796\",\"#a8c496\",\"#eb3196\",\"#426896\",\"#627496\",\"#52c696\",\"#e84596\",\"#833696\",\"#89db96\",\"#5c8696\",\"#a29996\",\"#658696\",\"#ecd196\",\"#bf9896\",\"#c03096\",\"#cb1e96\",\"#b8a796\",\"#3cb896\",\"#718b96\",\"#bb8c96\",\"#f28a96\",\"#3fc296\",\"#a0be96\",\"#3e8796\",\"#818896\",\"#47be96\",\"#51c796\",\"#e5e296\",\"#6f7596\",\"#73c096\",\"#60b296\",\"#4e6596\",\"#644d96\",\"#37de96\",\"#e54896\",\"#46bf96\",\"#abc996\",\"#d39f96\",\"#f36896\",\"#455096\",\"#3e4896\",\"#8b7796\",\"#967f96\",\"#a5ba96\",\"#c7ac96\",\"#d27196\",\"#c07f96\",\"#846e96\",\"#7cb096\",\"#ba7296\",\"#3b6796\",\"#872b96\",\"#65e596\",\"#d6cc96\",\"#dfd896\",\"#f37696\",\"#cdb696\",\"#67ce96\",\"#e27a96\",\"#f32a96\",\"#7dc796\",\"#e33296\",\"#809996\",\"#ae2896\",\"#b93e96\",\"#708696\",\"#adda96\",\"#8ec496\",\"#56a296\",\"#71e596\",\"#9d9996\",\"#ed3096\",\"#e24496\",\"#b03d96\",\"#8f3a96\",\"#b65e96\",\"#36d396\",\"#abe296\",\"#6c9b96\",\"#d46e96\",\"#6ad596\",\"#a0c996\",\"#a94896\",\"#6c2696\",\"#355b96\",\"#613396\",\"#767096\",\"#ca4296\",\"#b27796\",\"#d06d96\",\"#ec4e96\",\"#967396\",\"#f2db96\",\"#b33996\",\"#88ab96\",\"#ef9896\",\"#bfce96\",\"#578396\",\"#cb9396\",\"#f0b196\",\"#8b3c96\",\"#813a96\",\"#774c96\",\"#559296\",\"#a58296\",\"#8eca96\",\"#955896\",\"#3a4096\",\"#33b096\",\"#3b3296\",\"#e63396\",\"#a05496\",\"#4d2d96\",\"#707696\",\"#6e3b96\",\"#5eb096\",\"#d19896\",\"#efa996\",\"#7ab496\",\"#742596\",\"#9b5296\",\"#e8ba96\",\"#b36696\",\"#b27c96\",\"#94e296\",\"#9b8896\",\"#839996\",\"#c81e96\",\"#da8f96\",\"#d14d96\",\"#d86196\",\"#ce6996\",\"#be6a96\",\"#e06d96\",\"#b38196\",\"#f7d296\",\"#655996\",\"#b28396\",\"#65d796\",\"#f6ae96\",\"#3a3496\",\"#e09a96\",\"#a89396\",\"#5ad296\",\"#3e2d96\",\"#613796\",\"#61d496\",\"#65a696\",\"#3b8896\",\"#486996\",\"#7eaa96\",\"#5e3396\",\"#67bc96\",\"#666d96\",\"#7cb496\",\"#4f7396\",\"#4f2996\",\"#ed6d96\",\"#b07896\",\"#f99e96\",\"#a32b96\",\"#796096\",\"#e6d196\",\"#dcbf96\",\"#a66896\",\"#e1b696\",\"#895896\",\"#a75196\",\"#599396\",\"#574496\",\"#463396\",\"#823a96\",\"#80bc96\",\"#99c496\",\"#8b2e96\",\"#d55796\",\"#a59696\",\"#e4bb96\",\"#f16396\",\"#aedb96\",\"#559c96\",\"#da5696\",\"#7cb896\",\"#86a796\",\"#9ec796\",\"#708d96\",\"#9b3f96\",\"#f63196\",\"#9f8296\",\"#ea5d96\",\"#8ba696\",\"#c09d96\",\"#99b396\",\"#c06596\",\"#f52c96\",\"#d08b96\",\"#343c96\",\"#b38c96\",\"#ec2296\",\"#35d996\",\"#a5ad96\",\"#bdb296\",\"#688f96\",\"#3f5196\",\"#cb5196\",\"#7bb696\",\"#c17796\",\"#3c8796\",\"#a9c796\",\"#e88996\",\"#567a96\",\"#f75396\",\"#7d2496\",\"#e78496\",\"#412c96\",\"#e18996\",\"#c93d96\",\"#d75396\",\"#a7ce96\",\"#b27d96\",\"#537196\",\"#425696\",\"#612196\",\"#638796\",\"#d37496\",\"#d7ca96\",\"#b09a96\",\"#8e6896\",\"#512696\",\"#3a4096\",\"#d86896\",\"#6d7296\",\"#453496\",\"#bb7196\",\"#55d896\",\"#42e596\",\"#6b2596\",\"#ebe296\",\"#979796\",\"#3e8496\",\"#a66096\",\"#8cbd96\",\"#c72696\",\"#d64b96\",\"#e0be96\",\"#434a96\",\"#afa796\",\"#7c7396\",\"#e16296\",\"#d63696\",\"#484e96\",\"#d57a96\",\"#357896\",\"#ed3996\",\"#bc5a96\",\"#ebaa96\",\"#7a8796\",\"#d86496\",\"#8faa96\",\"#5b3c96\",\"#88b396\",\"#d32496\",\"#664e96\",\"#6f9096\",\"#ee3396\",\"#557496\",\"#c8ba96\",\"#3d3d96\",\"#585496\",\"#457796\",\"#4fd196\",\"#3fa596\",\"#5d4996\",\"#da5796\",\"#af4596\",\"#ef9f96\",\"#f45b96\",\"#cc9796\",\"#6e4796\",\"#729996\",\"#54b096\",\"#9a5496\",\"#895a96\",\"#da1f96\",\"#c58196\",\"#d26196\",\"#d13b96\",\"#8ba496\",\"#47df96\",\"#a46696\",\"#d2d296\",\"#e64e96\",\"#5ed196\",\"#f38496\",\"#92d996\",\"#854996\",\"#e8aa96\",\"#5c2e96\",\"#e99f96\",\"#572196\",\"#d25b96\",\"#571f96\",\"#d35d96\",\"#bc9f96\",\"#d59c96\",\"#a3b496\",\"#f1a096\",\"#8ed596\",\"#6bdd96\",\"#ce3e96\",\"#58c196\",\"#d07196\",\"#eb6296\",\"#d4a296\",\"#c97b96\",\"#d1cb96\",\"#76c096\",\"#e93196\",\"#e6e396\",\"#af8096\",\"#bd7d96\",\"#707096\",\"#43cc96\",\"#a8bc96\",\"#51cf96\",\"#f7a896\",\"#ea9a96\",\"#437d96\",\"#373596\",\"#cc2e96\",\"#378896\",\"#346c96\",\"#ea2d96\",\"#e45796\",\"#d29a96\",\"#cba996\",\"#f55696\",\"#8aa296\",\"#3cd196\",\"#e29696\",\"#a18d96\",\"#328f96\",\"#e5bd96\",\"#4ca996\",\"#c9a596\",\"#554b96\",\"#ee6596\",\"#726b96\",\"#581e96\",\"#561f96\",\"#59c796\",\"#4bc196\",\"#467996\",\"#957b96\",\"#7f9a96\",\"#60ba96\",\"#f14996\",\"#cf7096\",\"#d3b596\",\"#d94a96\",\"#bc7896\",\"#466296\",\"#8ccb96\",\"#b14f96\",\"#e0aa96\",\"#de7e96\",\"#bf2096\",\"#6c3f96\",\"#956696\",\"#986096\",\"#997b96\",\"#8cc096\",\"#49d396\",\"#ea7f96\",\"#639696\",\"#99ba96\",\"#d12796\",\"#5db796\",\"#563596\",\"#5c8e96\",\"#7f6b96\",\"#609d96\",\"#c7ac96\",\"#ec2396\",\"#84b796\",\"#63e396\",\"#94bf96\",\"#f4a596\",\"#f68d96\",\"#b32196\",\"#a69c96\",\"#f57696\",\"#3d8e96\",\"#375d96\",\"#62c696\",\"#e67c96\",\"#33bd96\",\"#416296\",\"#744796\",\"#d34d96\",\"#462f96\",\"#896496\",\"#e36096\",\"#404696\",\"#c52896\",\"#c38f96\",\"#c31e96\",\"#d68396\",\"#599d96\",\"#c26496\",\"#c95c96\",\"#f04896\",\"#755b96\",\"#6d6b96\",\"#74a496\",\"#6f2e96\",\"#42e096\",\"#928196\",\"#a1e296\",\"#494596\",\"#6c3096\",\"#461f96\",\"#8bd896\",\"#66e496\",\"#7c2896\",\"#6f4796\",\"#996096\",\"#ee6396\",\"#cccb96\",\"#acdb96\",\"#6aa296\",\"#6b5296\",\"#6b2a96\",\"#bad796\",\"#a82196\",\"#e9ba96\",\"#f8a396\",\"#96e296\",\"#a6d496\",\"#bf9d96\",\"#cb7696\",\"#666d96\",\"#883a96\",\"#365896\",\"#a4e296\",\"#8d5296\",\"#ec8896\",\"#ed4896\",\"#6c2196\",\"#535a96\",\"#3f2796\",\"#a68896\",\"#569996\",\"#9b7f96\",\"#468096\",\"#864096\",\"#d05f96\",\"#a64196\",\"#4d7b96\",\"#498696\",\"#d99b96\",\"#f3d096\",\"#b55d96\",\"#a48c96\",\"#b36b96\",\"#5d2896\",\"#56b696\",\"#eda996\",\"#ef6096\",\"#d73096\",\"#8a7d96\",\"#f5b096\",\"#6fc296\",\"#9c8296\",\"#4ac496\",\"#de6696\",\"#b07496\",\"#3a9c96\",\"#5f3296\",\"#388896\",\"#9b5596\",\"#7c3e96\",\"#ad7e96\",\"#bca096\",\"#36a596\",\"#a48296\",\"#c93996\",\"#96ab96\",\"#7bab96\",\"#5a2d96\",\"#7be396\",\"#b76496\",\"#473796\",\"#9fa296\",\"#523a96\",\"#972b96\",\"#ee4896\",\"#3e5996\",\"#a93096\",\"#40a296\",\"#3e6896\",\"#e26996\",\"#bf3d96\",\"#949496\",\"#624496\",\"#3d9196\",\"#682996\",\"#b24c96\",\"#ed5196\",\"#794696\",\"#a18d96\",\"#d72f96\",\"#95da96\",\"#ce5996\",\"#425e96\",\"#ceb396\",\"#99e396\",\"#e7bb96\",\"#d56c96\",\"#b38a96\",\"#5f9a96\",\"#753c96\",\"#497596\",\"#68db96\",\"#749096\",\"#e39d96\",\"#d99996\",\"#839896\",\"#8bad96\",\"#d1e096\",\"#f84696\",\"#7b3596\",\"#539b96\",\"#4b6f96\",\"#cfb996\",\"#c62b96\",\"#be2996\",\"#e96196\",\"#a64296\",\"#7d7896\",\"#d65f96\",\"#9de296\",\"#ac9396\",\"#359f96\",\"#993396\",\"#706696\",\"#f47c96\",\"#a79196\",\"#757c96\",\"#bd9396\",\"#9fd096\",\"#bad396\",\"#3fbf96\",\"#c1bd96\",\"#b7ac96\",\"#d6b396\",\"#e5b096\",\"#445996\",\"#c57096\",\"#864096\",\"#7c8296\",\"#4ac296\",\"#91a896\",\"#d7a396\",\"#d66a96\",\"#d34b96\",\"#e7d796\",\"#6f4596\",\"#9ecc96\",\"#607696\",\"#abb196\",\"#e22096\",\"#604096\",\"#c17296\",\"#b05796\",\"#ec7596\",\"#ea9996\",\"#645896\",\"#e58396\",\"#8c6596\",\"#7c9c96\",\"#889f96\",\"#6c4596\",\"#b52496\",\"#d04496\",\"#d23496\",\"#f2df96\",\"#77d396\",\"#dc2196\",\"#e63596\",\"#ce7b96\",\"#3c9296\",\"#855e96\",\"#c48496\",\"#e33996\",\"#bfa696\",\"#5faf96\",\"#588896\",\"#905e96\",\"#e39296\",\"#558096\",\"#5dc096\",\"#443a96\",\"#9e9296\",\"#698896\",\"#4b5e96\",\"#b6c096\",\"#c64096\",\"#bbe096\",\"#b68896\",\"#68d096\",\"#c76996\",\"#804396\",\"#946e96\",\"#8c8d96\",\"#90de96\",\"#5f9096\",\"#a15196\",\"#af7596\",\"#992796\",\"#d6db96\",\"#e25d96\",\"#b9d496\",\"#d8ce96\",\"#c22996\",\"#73c396\",\"#c3ae96\",\"#92d796\",\"#7dc896\",\"#c4c196\",\"#7f3996\",\"#8f9d96\",\"#50d296\",\"#65ab96\",\"#a26096\",\"#6e7296\",\"#5bb596\",\"#335a96\",\"#caca96\",\"#93e396\",\"#80ce96\",\"#7d9a96\",\"#f84596\",\"#c37496\",\"#896a96\",\"#9fb896\",\"#5b9096\",\"#674296\",\"#60a596\",\"#a2ba96\",\"#4d4096\",\"#f26396\",\"#e7b796\",\"#c94c96\",\"#7b8396\",\"#cec396\",\"#d91f96\",\"#dbe396\",\"#df7f96\",\"#9e2196\",\"#e68d96\",\"#c68196\",\"#8f8c96\",\"#c55496\",\"#e5d696\",\"#bd2a96\",\"#a7b496\",\"#429696\",\"#f25796\",\"#d8ac96\",\"#97e396\",\"#e26996\",\"#57d596\",\"#c63696\",\"#adcc96\",\"#6a6e96\",\"#6fe196\",\"#d25896\",\"#69dd96\",\"#3ac996\",\"#d42596\",\"#472696\",\"#f84696\",\"#bebb96\",\"#75ae96\",\"#bc4c96\",\"#3e5b96\",\"#b16796\",\"#77b496\",\"#57d196\",\"#d57d96\",\"#9a8f96\",\"#d6ca96\",\"#7ab996\",\"#b9c396\",\"#782496\",\"#a74696\",\"#838196\",\"#7e3796\",\"#3ba396\",\"#b5c796\",\"#e99b96\",\"#478996\",\"#7ce496\",\"#993996\",\"#74b296\",\"#e09096\",\"#8d9b96\",\"#d1a696\",\"#336096\",\"#9c3d96\",\"#abb696\",\"#b3b696\",\"#b2cf96\",\"#b2c696\",\"#dac696\",\"#f64096\",\"#e84f96\",\"#bb8696\",\"#634396\",\"#a4b796\",\"#843d96\",\"#396c96\",\"#35de96\",\"#e98696\",\"#ec5b96\",\"#b46496\",\"#f57a96\",\"#a09196\",\"#aca396\",\"#795996\",\"#98b196\",\"#3d2c96\",\"#749296\",\"#e6db96\",\"#71bc96\",\"#922596\",\"#e32f96\",\"#36e396\",\"#caa896\",\"#a26d96\",\"#e9b596\",\"#b4e196\",\"#f69296\",\"#ec5996\",\"#7db296\",\"#b0c696\",\"#a44596\",\"#cad796\",\"#847196\",\"#ae7496\",\"#83a496\",\"#4c8096\",\"#65e396\",\"#f21f96\",\"#78a996\",\"#637d96\",\"#788796\",\"#9b6696\",\"#914496\",\"#f27c96\",\"#598496\",\"#7e4d96\",\"#56b896\",\"#b03896\",\"#f6ae96\",\"#aa6096\",\"#db4596\",\"#c15296\",\"#d8bb96\",\"#d46596\",\"#6f4796\",\"#af6f96\",\"#8b8a96\",\"#b34c96\",\"#ef9b96\",\"#5eb096\",\"#8f6996\",\"#ae5096\",\"#79d396\",\"#f54296\",\"#406396\",\"#d66a96\",\"#b13f96\",\"#516a96\",\"#788a96\",\"#585e96\",\"#728796\",\"#ec9d96\",\"#61c896\",\"#ed6a96\",\"#de4896\",\"#86c496\",\"#f5d596\",\"#d3e296\",\"#572096\",\"#bec296\",\"#768896\",\"#a82796\",\"#c37d96\",\"#f56a96\",\"#465d96\",\"#e62f96\",\"#a28c96\",\"#6ad696\",\"#687796\",\"#ddbf96\",\"#e76b96\",\"#763396\",\"#868996\",\"#4e7196\",\"#8e7c96\",\"#f3e296\",\"#928596\",\"#d47896\",\"#b2c596\",\"#84ca96\",\"#da7596\",\"#c92896\",\"#424c96\",\"#69e496\",\"#412096\",\"#d94396\",\"#b93096\",\"#de8b96\",\"#69a096\",\"#70dd96\",\"#4bd196\",\"#e93696\",\"#cace96\",\"#6a6e96\",\"#adb696\",\"#f7c696\",\"#437496\",\"#e96996\",\"#cba396\",\"#c75896\",\"#71d196\",\"#aa8396\",\"#565296\",\"#92e396\",\"#6ac896\",\"#e5e196\",\"#f5cf96\",\"#563a96\",\"#b19b96\",\"#936796\",\"#332896\",\"#86d396\",\"#d1aa96\",\"#c72796\",\"#e19f96\",\"#37c196\",\"#8ba796\",\"#72af96\",\"#5a2a96\",\"#91dc96\",\"#7a5e96\",\"#bb5e96\",\"#7ea596\",\"#b62a96\",\"#a56496\",\"#76db96\",\"#8e7c96\",\"#466b96\",\"#508396\",\"#857096\",\"#4db196\",\"#b87496\",\"#5d7b96\",\"#ec3e96\",\"#813796\",\"#cab996\",\"#932a96\",\"#725196\",\"#72ce96\",\"#d42396\",\"#91b596\",\"#58d696\",\"#ba2f96\",\"#588596\",\"#a56f96\",\"#ba9396\",\"#d2d696\",\"#f39f96\",\"#358396\",\"#bcb096\",\"#367e96\",\"#6e3796\",\"#ee3f96\",\"#f58e96\",\"#e49f96\",\"#f87596\",\"#7c2d96\",\"#cb3796\",\"#d2d596\",\"#629f96\",\"#cb8b96\",\"#a69e96\",\"#ac3496\",\"#ac7396\",\"#cd8a96\",\"#f7b496\",\"#e65c96\",\"#ac5f96\",\"#71b896\",\"#67c496\",\"#c07a96\",\"#b97096\",\"#935b96\",\"#a79296\",\"#aaa596\",\"#4f2796\",\"#68bf96\",\"#9da296\",\"#c09f96\",\"#aecb96\",\"#949196\",\"#62e296\",\"#78df96\",\"#dde096\",\"#7e9596\",\"#38b296\",\"#8c2896\",\"#f02d96\",\"#75c396\",\"#80a896\",\"#f39696\",\"#d8ab96\",\"#cb2696\",\"#a48b96\",\"#4c2096\",\"#704096\",\"#dd7b96\",\"#b1cc96\",\"#996796\",\"#32e496\",\"#89dd96\",\"#c16596\",\"#f69f96\",\"#496896\",\"#f42696\",\"#f12396\",\"#38bc96\",\"#9ddf96\",\"#617b96\",\"#d13596\",\"#c22196\",\"#34a496\",\"#9cd096\",\"#855196\",\"#e4bd96\",\"#c92796\",\"#705f96\",\"#5c8b96\",\"#517896\",\"#3b3f96\",\"#628396\",\"#f07296\",\"#e85c96\",\"#c3b496\",\"#4fbf96\",\"#cf7e96\",\"#7c7096\",\"#6fa696\",\"#f5a396\",\"#6d5a96\",\"#8a4596\",\"#524c96\",\"#c9bb96\",\"#bca096\",\"#8ae196\",\"#ab7296\",\"#384c96\",\"#46e596\",\"#e27896\",\"#9b6c96\",\"#817d96\",\"#5c3196\",\"#438a96\",\"#f92596\",\"#77af96\",\"#76d196\",\"#e32c96\",\"#458a96\",\"#814796\",\"#376796\",\"#6c5796\",\"#579496\",\"#597996\",\"#695f96\",\"#5a2196\",\"#d52996\",\"#c15696\",\"#392396\",\"#f2be96\",\"#439496\",\"#32dd96\",\"#8e9f96\",\"#51da96\",\"#adc596\",\"#722496\",\"#b22e96\",\"#503b96\",\"#527396\",\"#6f6296\",\"#922196\",\"#ba7896\",\"#735f96\",\"#569f96\",\"#3fdf96\",\"#c58696\",\"#c0b696\",\"#cedf96\",\"#c0da96\",\"#cc7496\",\"#f19096\",\"#c03696\",\"#6e3e96\",\"#6c4e96\",\"#e27296\",\"#803896\",\"#e94b96\",\"#62ca96\",\"#4b6f96\",\"#443496\",\"#bb7f96\",\"#639296\",\"#9dbb96\",\"#c45d96\",\"#7ba396\",\"#bbe196\",\"#f15796\",\"#eaaf96\",\"#bbe396\",\"#994996\",\"#f51f96\",\"#8cb296\",\"#c84e96\",\"#897096\",\"#d43396\",\"#f8d596\",\"#566b96\",\"#ac3f96\",\"#76d696\",\"#b8a196\",\"#bf8b96\",\"#c6b596\",\"#92b496\",\"#502e96\",\"#707c96\",\"#c39196\",\"#b31f96\",\"#526796\",\"#61a196\",\"#3c8896\",\"#6f9696\",\"#e19e96\",\"#61c896\",\"#98b896\",\"#ddbc96\",\"#a92596\",\"#c1c896\",\"#f8ab96\",\"#f87596\",\"#5ac696\",\"#938c96\",\"#a39596\",\"#c75b96\",\"#d8aa96\",\"#5f6196\",\"#815e96\",\"#8bb096\",\"#644a96\",\"#8d6496\",\"#de3796\",\"#e43596\",\"#be6796\",\"#46cc96\",\"#da8096\",\"#b4b396\",\"#514596\",\"#c1c896\",\"#bcb296\",\"#bdcb96\",\"#b0bc96\",\"#734296\",\"#5bc796\",\"#3c3d96\",\"#c6d496\",\"#f53096\",\"#dd6c96\",\"#87a196\",\"#b47f96\",\"#792d96\",\"#478596\",\"#9fb096\",\"#459396\",\"#984896\",\"#b7cc96\",\"#be3096\",\"#4a7296\",\"#8a2f96\",\"#5f5996\",\"#7f3f96\",\"#e5c196\",\"#99df96\",\"#44d996\",\"#add996\",\"#ecaf96\",\"#adad96\",\"#ae9496\",\"#354c96\",\"#45e396\",\"#622096\",\"#f04296\",\"#4f7196\",\"#d55b96\",\"#7be296\",\"#d55c96\",\"#e8b796\",\"#872796\",\"#bcc896\",\"#bfd796\",\"#34b396\",\"#d15c96\",\"#78cd96\",\"#c2da96\",\"#bb9b96\",\"#f19996\",\"#c03496\",\"#f94896\",\"#8db096\",\"#567c96\",\"#efdc96\",\"#349a96\",\"#df2896\",\"#804296\",\"#c5c496\",\"#522096\",\"#cf2096\",\"#c97096\",\"#594e96\",\"#574996\",\"#73c696\",\"#ea9c96\",\"#43b196\",\"#bfcd96\",\"#8a6996\",\"#82a596\",\"#eb3a96\",\"#46a696\",\"#d06696\",\"#aa7b96\",\"#838996\",\"#b1bf96\",\"#f1b496\",\"#952796\",\"#553096\",\"#3e2096\",\"#5da196\",\"#4f3896\",\"#91d596\",\"#8f8796\",\"#b2d796\",\"#cc5296\",\"#519f96\",\"#748f96\",\"#859796\",\"#f6d896\",\"#473996\",\"#5b7096\",\"#843b96\",\"#958a96\",\"#653c96\",\"#69ba96\",\"#b5de96\",\"#d05f96\",\"#e9a896\",\"#482496\",\"#694396\",\"#73cd96\",\"#aab696\",\"#d42096\",\"#582a96\",\"#bb3c96\",\"#5c7e96\",\"#7ab196\",\"#b88696\",\"#984096\",\"#461e96\",\"#bfc396\",\"#b62196\",\"#d7ba96\",\"#8cd796\",\"#b67996\",\"#5b8e96\",\"#323a96\",\"#666896\",\"#b2bd96\",\"#575896\",\"#405996\",\"#845c96\",\"#4b6196\",\"#ace196\",\"#f07796\",\"#9f9196\",\"#b35796\",\"#548696\",\"#9b9f96\",\"#824e96\",\"#836d96\",\"#604896\",\"#507b96\",\"#c1bd96\",\"#9d6d96\",\"#c47b96\",\"#409596\",\"#bc4c96\",\"#566e96\",\"#637e96\",\"#922096\",\"#ce7a96\",\"#d4d096\",\"#f5d396\",\"#7a2696\",\"#344496\",\"#a9a096\",\"#e66996\",\"#61a196\",\"#496496\",\"#5a4796\",\"#84a596\",\"#f2e296\",\"#8e5c96\",\"#e98296\",\"#836c96\",\"#85d296\",\"#f48f96\",\"#929e96\",\"#c0cd96\",\"#dda596\",\"#caa696\",\"#434e96\",\"#f3d996\",\"#916896\",\"#c0cd96\",\"#e68a96\",\"#778d96\",\"#e63496\",\"#395396\",\"#477b96\",\"#818b96\",\"#476996\",\"#46bb96\",\"#40a696\",\"#50d896\",\"#e46596\",\"#f38c96\",\"#a9b396\",\"#729396\",\"#ccd096\",\"#efa996\",\"#e8da96\",\"#e3cc96\",\"#e14396\",\"#634796\",\"#a2d096\",\"#e1c396\",\"#993f96\",\"#d79796\",\"#f73196\",\"#38d196\",\"#58ad96\",\"#37c396\",\"#a96396\",\"#572496\",\"#bc9896\",\"#e98a96\",\"#f83c96\",\"#94cf96\",\"#803496\",\"#b64496\",\"#685996\",\"#8b2396\",\"#44d796\",\"#3a3796\",\"#4a6996\",\"#6c4296\",\"#7daa96\",\"#5fbb96\",\"#7e6c96\",\"#8a2d96\",\"#4e3696\",\"#b37296\",\"#bac196\",\"#6e8a96\",\"#507f96\",\"#cc5a96\",\"#53df96\",\"#d03396\",\"#954296\",\"#6e2896\",\"#d39c96\",\"#5b9996\",\"#474d96\",\"#b3e196\",\"#bf5296\",\"#9f7996\",\"#b84596\",\"#9e5896\",\"#463b96\",\"#842396\",\"#ec2d96\",\"#db5896\",\"#e29096\",\"#a3d796\",\"#4e6096\",\"#8b5496\",\"#79e596\",\"#406996\",\"#b97796\",\"#b9ce96\",\"#783f96\",\"#bfde96\",\"#4bb296\",\"#827b96\",\"#d54c96\",\"#ac9496\",\"#ba1f96\",\"#88bb96\",\"#bdaf96\",\"#bbe396\",\"#344a96\",\"#4b9896\",\"#b17e96\",\"#367296\",\"#79c496\",\"#94a096\",\"#632596\",\"#489496\",\"#ba5a96\",\"#e46f96\",\"#7aa296\",\"#969296\",\"#c57c96\",\"#c09196\",\"#8ed096\",\"#e94296\",\"#9a8696\",\"#ad7096\",\"#92e196\",\"#55ae96\",\"#3e5596\",\"#e35396\",\"#d9a996\",\"#ba6396\",\"#367096\",\"#da6496\",\"#e03596\",\"#e98a96\",\"#66d296\",\"#3c5696\",\"#3c3a96\",\"#829e96\",\"#b04e96\",\"#90aa96\",\"#5aad96\",\"#f37296\",\"#cdd196\",\"#3bba96\",\"#7f6996\",\"#bf3196\",\"#ba5496\",\"#628496\",\"#89b996\",\"#b9ad96\",\"#3c8c96\",\"#37df96\",\"#904a96\",\"#a4c696\",\"#db9596\",\"#ad7696\",\"#9d2496\",\"#a43196\",\"#dda996\",\"#ef3d96\",\"#e58596\",\"#3b8f96\",\"#51c696\",\"#7b4796\",\"#c2bb96\",\"#cc8896\",\"#d96796\",\"#addf96\",\"#8f4996\",\"#f99296\",\"#7b2196\",\"#f0dd96\",\"#99a796\",\"#5d7596\",\"#c6d096\",\"#905b96\",\"#325096\",\"#82dc96\",\"#bedb96\",\"#7b4196\",\"#679c96\",\"#9cb896\",\"#88c896\",\"#e9da96\",\"#c66196\",\"#79c296\",\"#a78596\",\"#586896\",\"#6bb596\",\"#8e3a96\",\"#9cd496\",\"#666896\",\"#603496\",\"#c12896\",\"#413196\",\"#d78296\",\"#6ae096\",\"#c1c996\",\"#448396\",\"#b2a796\",\"#4ec996\",\"#e09b96\",\"#ba8296\",\"#4a7896\",\"#8b3b96\",\"#f5de96\",\"#b57d96\",\"#54c796\",\"#815496\",\"#ab4c96\",\"#c74396\",\"#cb8996\",\"#9fcd96\",\"#e0c496\",\"#763e96\",\"#643796\",\"#413b96\",\"#886596\",\"#ebd096\",\"#d8b596\",\"#f37696\",\"#ed3396\",\"#392496\",\"#397896\",\"#802396\",\"#633796\",\"#8a4f96\",\"#5dda96\",\"#add596\",\"#abe196\",\"#e39996\",\"#76cb96\",\"#3fbb96\",\"#5cac96\",\"#474d96\",\"#7e3396\",\"#5fc296\",\"#4a4f96\",\"#4c6e96\",\"#6fce96\",\"#d5a896\",\"#92c296\",\"#a14d96\",\"#cde296\",\"#d82b96\",\"#482a96\",\"#9d4096\",\"#79d996\",\"#83c996\",\"#7f9b96\",\"#3e5396\",\"#b6c496\",\"#8c2796\",\"#882496\",\"#693196\",\"#bdda96\",\"#809896\",\"#5adb96\",\"#aeb096\",\"#858296\",\"#66df96\",\"#872896\",\"#669496\",\"#59b396\",\"#355c96\",\"#9e2c96\",\"#337796\",\"#6ae096\",\"#596396\",\"#d69096\",\"#623c96\",\"#328696\",\"#7ec296\",\"#77e096\",\"#4e9496\",\"#ba8796\",\"#e04b96\",\"#9fce96\",\"#e7a496\",\"#df1e96\",\"#396296\",\"#aec396\",\"#eed496\",\"#67bf96\",\"#a5b996\",\"#91e496\",\"#9f9f96\",\"#35a296\",\"#af2496\",\"#d4ae96\",\"#84d996\",\"#9c6896\",\"#453396\",\"#f8bd96\",\"#e1c996\",\"#f69096\",\"#e42b96\",\"#562396\",\"#d44796\",\"#388d96\",\"#5cbb96\",\"#417796\",\"#daa896\",\"#b43996\",\"#9e6a96\",\"#394896\",\"#5b4096\",\"#cf6396\",\"#475596\",\"#8b7496\",\"#b73796\",\"#b7c796\",\"#345d96\",\"#d12d96\",\"#cc7b96\",\"#5d8496\",\"#e9ca96\",\"#cd6f96\",\"#76e296\",\"#b25696\",\"#7d7096\",\"#a2cf96\",\"#8e6496\",\"#eb2296\",\"#889e96\",\"#d7b196\",\"#5a3e96\",\"#58d696\",\"#a7e296\",\"#c59896\",\"#b26996\",\"#77c696\",\"#866c96\",\"#8ad196\",\"#b32896\",\"#d13a96\",\"#f78a96\",\"#3bc996\",\"#7c7296\",\"#d7da96\",\"#f12096\",\"#656c96\",\"#68da96\",\"#86da96\",\"#f6a596\",\"#877a96\",\"#bf3696\",\"#dad396\",\"#bfcc96\",\"#9f6096\",\"#b2c896\",\"#3bb196\",\"#527096\",\"#d99496\",\"#ee7196\",\"#75c496\",\"#503d96\",\"#6b5f96\",\"#6a6896\",\"#91c196\",\"#83e396\",\"#81e296\",\"#d8a696\",\"#a73296\",\"#92c896\",\"#618096\",\"#d69a96\",\"#9d6196\",\"#453b96\",\"#a99696\",\"#dcbc96\",\"#db9096\",\"#c93a96\",\"#a7b996\",\"#37b996\",\"#783396\",\"#602896\",\"#bf3c96\",\"#9f6e96\",\"#399696\",\"#3e3f96\",\"#d9d296\",\"#b5d796\",\"#9c6f96\",\"#746a96\",\"#d29396\",\"#e77496\",\"#df7196\",\"#9dc496\",\"#417596\",\"#759e96\",\"#75cc96\",\"#92a796\",\"#9bb396\",\"#514896\",\"#c0d096\",\"#88d496\",\"#de5c96\",\"#f5b096\",\"#367596\",\"#ad7696\",\"#667b96\",\"#aa9c96\",\"#699696\",\"#8a8b96\",\"#c8d696\",\"#e0d196\",\"#a96196\",\"#6f2d96\",\"#999896\",\"#488e96\",\"#563a96\",\"#ad6996\",\"#32dd96\",\"#f08c96\",\"#d4df96\",\"#622296\",\"#c78696\",\"#9adc96\",\"#668a96\",\"#6c5b96\",\"#c15596\",\"#37e196\",\"#35ad96\",\"#452896\",\"#6b5996\",\"#7bd396\",\"#ebc296\",\"#3dd596\",\"#989a96\",\"#37de96\",\"#3b6296\",\"#d99496\",\"#e07496\",\"#927396\",\"#e0df96\",\"#379496\",\"#6f9d96\",\"#f54596\",\"#a15996\",\"#6dd696\",\"#8dbf96\",\"#e12d96\",\"#9bc796\",\"#5bb496\",\"#53c196\",\"#978796\",\"#be8596\",\"#477696\",\"#65b596\",\"#cae396\",\"#ac6996\",\"#3b2a96\",\"#65bc96\",\"#ca5c96\",\"#b52c96\",\"#69e596\",\"#543896\",\"#ef4496\",\"#898496\",\"#9fa796\",\"#732a96\",\"#466c96\",\"#585396\",\"#4fb196\",\"#bda896\",\"#7e4796\",\"#426a96\",\"#adba96\",\"#9daa96\",\"#829896\",\"#328596\",\"#b3da96\",\"#e12d96\",\"#de2896\",\"#d88596\",\"#ab5c96\",\"#ac7496\",\"#e8c796\",\"#7dbc96\",\"#4f9d96\",\"#ac9896\",\"#5dd396\",\"#9fad96\",\"#cda696\",\"#ae3196\",\"#914b96\",\"#54c796\",\"#325696\",\"#b83b96\",\"#439f96\",\"#b93296\",\"#c9c296\",\"#e02c96\",\"#af7f96\",\"#704196\",\"#dd7b96\",\"#682296\",\"#81ad96\",\"#c39296\",\"#41b896\",\"#5fa096\",\"#ba4a96\",\"#eaab96\",\"#f6e396\",\"#ea9996\",\"#b96196\",\"#799f96\",\"#5c8896\",\"#c7c496\",\"#8f7896\",\"#e27996\",\"#562996\",\"#9ea896\",\"#86e596\",\"#33cc96\",\"#b75696\",\"#957f96\",\"#e22396\",\"#596496\",\"#437696\",\"#663f96\",\"#ee7d96\",\"#8f3696\",\"#8ab196\",\"#a66d96\",\"#db3196\",\"#ede096\",\"#6fc696\",\"#763f96\",\"#827a96\",\"#9b7096\",\"#f29d96\",\"#4fd196\",\"#418196\",\"#941e96\",\"#4fdb96\",\"#4c6996\",\"#b63f96\",\"#d54a96\",\"#f6c996\",\"#b89e96\",\"#d46496\",\"#674c96\",\"#898896\",\"#3e3796\",\"#903896\",\"#c08696\",\"#6d9696\",\"#c5da96\",\"#808996\",\"#b6a396\",\"#cb5496\",\"#809d96\",\"#b0b096\",\"#649096\",\"#504896\",\"#8d9a96\",\"#a33c96\",\"#4d6696\",\"#7eb596\",\"#6eab96\",\"#69e396\",\"#ade196\",\"#846496\",\"#78aa96\",\"#9bc996\",\"#ab4896\",\"#a27e96\",\"#5a8196\",\"#e46896\",\"#3e6d96\",\"#dcb396\",\"#712f96\",\"#619096\",\"#93bc96\",\"#823596\",\"#863596\",\"#79bd96\",\"#3fce96\",\"#3e9896\",\"#a77896\",\"#534996\",\"#90bd96\",\"#38a496\",\"#b33d96\",\"#ba7e96\",\"#52b096\",\"#42af96\",\"#f9d796\",\"#8a8496\",\"#5ccf96\",\"#ab9896\",\"#ec3d96\",\"#b53e96\",\"#8b3b96\",\"#b4e196\",\"#b38a96\",\"#f5ab96\",\"#d3cb96\",\"#d24496\",\"#aea296\",\"#a56096\",\"#8c9996\",\"#437a96\",\"#605896\",\"#87ca96\",\"#5b6896\",\"#734496\",\"#b14496\",\"#8d3196\",\"#e87f96\",\"#e62796\",\"#e86796\",\"#713196\",\"#6b6896\",\"#83a396\",\"#328c96\",\"#d12996\",\"#378c96\",\"#8a2296\",\"#792396\",\"#d44c96\",\"#49d396\",\"#da3496\",\"#493896\",\"#d05096\",\"#3ec096\",\"#322196\",\"#a34896\",\"#a0d496\",\"#ca2b96\",\"#479c96\",\"#6abb96\",\"#eb6c96\",\"#b47596\",\"#7b6e96\",\"#5e2396\",\"#86e396\",\"#a53d96\",\"#745796\",\"#8aae96\",\"#8baa96\",\"#96bb96\",\"#598196\",\"#afb196\",\"#628896\",\"#c67096\",\"#343b96\",\"#469196\",\"#c83a96\",\"#82a596\",\"#72d896\",\"#815f96\",\"#8a8896\",\"#db8896\",\"#837996\",\"#4cb296\",\"#7ec996\",\"#e2c696\",\"#6bba96\",\"#845e96\",\"#dcd796\",\"#3e4c96\",\"#a39096\",\"#3dbf96\",\"#f24b96\",\"#f47d96\",\"#bbe596\",\"#f43d96\",\"#9a4696\",\"#9ece96\",\"#e8c196\",\"#e3df96\",\"#de5d96\",\"#3b3196\",\"#36b996\",\"#37c196\",\"#c1bd96\",\"#7c7396\",\"#837496\",\"#d2d996\",\"#4f5a96\",\"#aec096\",\"#8c1f96\",\"#4e9496\",\"#a2d696\",\"#549096\",\"#cf8096\",\"#b62196\",\"#ae9a96\",\"#c39396\",\"#a13a96\",\"#5f8396\",\"#cf6296\",\"#387096\",\"#c52c96\",\"#ce6f96\",\"#65ab96\",\"#676d96\",\"#5ebf96\",\"#924f96\",\"#656496\",\"#aacd96\",\"#caaf96\",\"#756c96\",\"#c22996\",\"#778596\",\"#a3c096\",\"#c77c96\",\"#b27c96\",\"#db8c96\",\"#ebb396\",\"#718296\",\"#4bd096\",\"#cad196\",\"#f3a796\",\"#815996\",\"#ed4396\",\"#df4d96\",\"#e77496\",\"#cb8296\",\"#e2d196\",\"#cc2996\",\"#5f2896\",\"#7ebb96\",\"#787896\",\"#c5e496\",\"#d66c96\",\"#4bc596\",\"#6e3696\",\"#664996\",\"#32ae96\",\"#e16296\",\"#835596\",\"#609996\",\"#b83f96\",\"#a77196\",\"#857e96\",\"#344196\",\"#aacd96\",\"#ead396\",\"#5b4696\",\"#7e2896\",\"#82b096\",\"#504596\",\"#e9b396\",\"#a1b496\",\"#7ad096\",\"#968c96\",\"#6ee296\",\"#952596\",\"#68a996\",\"#8b5c96\",\"#5f8296\",\"#644c96\",\"#987a96\",\"#aa4f96\",\"#d55396\",\"#f39d96\",\"#756996\",\"#366c96\",\"#99b396\",\"#ec2296\",\"#aa6396\",\"#e52496\",\"#573396\",\"#de4196\",\"#7bab96\",\"#86da96\",\"#6b4e96\",\"#5b1f96\",\"#4acf96\",\"#4a7196\",\"#c97e96\",\"#99c596\",\"#bb5296\",\"#ab3d96\",\"#a86096\",\"#563996\",\"#93e396\",\"#ebde96\",\"#7c4096\",\"#b13796\",\"#ed3e96\",\"#d26d96\",\"#6fba96\",\"#b39a96\",\"#7faf96\",\"#8d9396\",\"#af3096\",\"#332396\",\"#b47396\",\"#c52696\",\"#43bf96\",\"#9c9896\",\"#59aa96\",\"#836f96\",\"#a96796\",\"#6a8b96\",\"#ba2196\",\"#afc796\",\"#64c596\",\"#677496\",\"#d3b696\",\"#d15496\",\"#f75496\",\"#e6c296\",\"#627396\",\"#e1dd96\",\"#cb8696\",\"#d68896\",\"#8c6696\",\"#8e9896\",\"#9cd396\",\"#6faf96\",\"#e78396\",\"#8b5d96\",\"#d28296\",\"#daa196\",\"#d6b296\",\"#ec2096\",\"#efc696\",\"#ca2096\",\"#c8de96\",\"#ad6796\",\"#9dbd96\",\"#d04896\",\"#84b496\",\"#76db96\",\"#b3b196\",\"#f8a496\",\"#a16196\",\"#45a596\",\"#b79896\",\"#863796\",\"#357696\",\"#88c196\",\"#b3b496\",\"#82c196\",\"#ae2596\",\"#62b396\",\"#aa7c96\",\"#a62196\",\"#a82f96\",\"#c26396\",\"#b62c96\",\"#4e7b96\",\"#772496\",\"#b44096\",\"#80be96\",\"#523996\",\"#cad696\",\"#6f4996\",\"#a42296\",\"#9ca196\",\"#8a6d96\",\"#a35996\",\"#67e496\",\"#ae8a96\",\"#ae4896\",\"#f5e496\",\"#4c8996\",\"#535d96\",\"#6bbc96\",\"#bc2696\",\"#6cb996\",\"#7fa596\",\"#ebb396\",\"#bccb96\",\"#397c96\",\"#ca9b96\",\"#4a2e96\",\"#cc7396\",\"#4e7a96\",\"#d4e396\",\"#3eae96\",\"#789996\",\"#b86e96\",\"#ac8196\",\"#764c96\",\"#51c396\",\"#5f6a96\",\"#c84396\",\"#485696\",\"#d68296\",\"#717a96\",\"#5a2696\",\"#aba996\",\"#5c5a96\",\"#49db96\",\"#689396\",\"#d24896\",\"#b63d96\",\"#409d96\",\"#9fde96\",\"#43d496\",\"#cb6296\",\"#f73496\",\"#aebe96\",\"#5d4196\",\"#6b3596\",\"#a74296\",\"#e83896\",\"#4e6f96\",\"#dca096\",\"#573f96\",\"#e83396\",\"#c87c96\",\"#648a96\",\"#e38596\",\"#814b96\",\"#7cdf96\",\"#e47e96\",\"#eee296\",\"#496d96\",\"#c55196\",\"#956496\",\"#8f8396\",\"#c1a896\",\"#399796\",\"#ec5b96\",\"#3a8096\",\"#90ad96\",\"#542396\",\"#5b9696\",\"#601e96\",\"#58c096\",\"#a02e96\",\"#ae9d96\",\"#de7596\",\"#f56796\",\"#572f96\",\"#f27796\",\"#d44c96\",\"#a97d96\",\"#bb2696\",\"#4a5d96\",\"#3edd96\",\"#dcae96\",\"#852996\",\"#692196\",\"#75ca96\",\"#41e596\",\"#67c496\",\"#a14d96\",\"#516896\",\"#45a696\",\"#5bbd96\",\"#464396\",\"#8c6496\",\"#e53896\",\"#c2e396\",\"#d72796\",\"#f8cf96\",\"#794896\",\"#51c896\",\"#7dbf96\",\"#72b596\",\"#8ec896\",\"#4d2d96\",\"#b3d596\",\"#3c5c96\",\"#9fca96\",\"#ef7a96\",\"#cf6596\",\"#f0be96\",\"#aee396\",\"#88de96\",\"#f87396\",\"#f89b96\",\"#bdcf96\",\"#babe96\",\"#3e6d96\",\"#5e1e96\",\"#762696\",\"#c34596\",\"#f37896\",\"#c88e96\",\"#3fbc96\",\"#6e8896\",\"#6dab96\",\"#e8cd96\",\"#acc196\",\"#7bd296\",\"#6c9e96\",\"#da8396\",\"#a96196\",\"#9e7c96\",\"#64de96\",\"#74d096\",\"#ea8f96\",\"#d5c696\",\"#cc4096\",\"#ccaa96\",\"#4b5696\",\"#914196\",\"#466796\",\"#c65096\",\"#f69896\",\"#66a496\",\"#6c3e96\",\"#aa8496\",\"#8c5f96\",\"#a85e96\",\"#43a096\",\"#f0b596\",\"#3d5496\",\"#cf7396\",\"#9fa396\",\"#dc6896\",\"#af5c96\",\"#87c696\",\"#497a96\",\"#9a7196\",\"#9f4c96\",\"#8ce496\",\"#776496\",\"#c52596\",\"#8f4896\",\"#82e096\",\"#ee7096\",\"#827196\",\"#dd6396\",\"#752e96\",\"#c67796\",\"#b89196\",\"#d6ca96\",\"#be3396\",\"#6adc96\",\"#c88296\",\"#348196\",\"#e85796\",\"#86b696\",\"#4e2c96\",\"#93cd96\",\"#ba4296\",\"#f3de96\",\"#519e96\",\"#b82396\",\"#f58796\",\"#6c2e96\",\"#f49896\",\"#89c796\",\"#8a9196\",\"#9f5296\",\"#b98b96\",\"#d9cf96\",\"#4d2496\",\"#c0bb96\",\"#be4796\",\"#927f96\",\"#eba196\",\"#abb796\",\"#5fc596\",\"#6f8396\",\"#d95d96\",\"#85de96\",\"#764196\",\"#e57b96\",\"#cec096\",\"#72b296\",\"#c8be96\",\"#92a396\",\"#3d5696\",\"#ba4c96\",\"#d44e96\",\"#84d196\",\"#e98496\",\"#cc6996\",\"#72e596\",\"#36b696\",\"#7eb296\",\"#bdb496\",\"#925e96\",\"#ece096\",\"#34bc96\",\"#483796\",\"#897596\",\"#925896\",\"#c7a896\",\"#326e96\",\"#b4a296\",\"#8f5696\",\"#a1a396\",\"#db2296\",\"#7e5096\",\"#878d96\",\"#c26a96\",\"#9f4496\",\"#6f1e96\",\"#8ab996\",\"#35b296\",\"#8f2696\",\"#d49a96\",\"#6f6a96\",\"#642896\",\"#96c596\",\"#326a96\",\"#924796\",\"#9ab296\",\"#91c996\",\"#f6ca96\",\"#3d4b96\",\"#4ec896\",\"#5d3e96\",\"#abb996\",\"#6ea596\",\"#5f7596\",\"#d13c96\",\"#e53c96\",\"#3b3d96\",\"#4e8696\",\"#729d96\",\"#e62196\",\"#893796\",\"#f43c96\",\"#b97c96\",\"#734696\",\"#bd8896\",\"#c3db96\",\"#ce9596\",\"#ea4696\",\"#4d9a96\",\"#e5bb96\",\"#c0cd96\",\"#e24f96\",\"#af2696\",\"#6e2196\",\"#d2ad96\",\"#a24c96\",\"#5a6496\",\"#574196\",\"#3a4e96\",\"#acc196\",\"#323796\",\"#ea8696\",\"#a3e596\",\"#37e396\",\"#8d8796\",\"#4b3296\",\"#f42096\",\"#cf5296\",\"#6abf96\",\"#a86796\",\"#895d96\",\"#99e396\",\"#5ba696\",\"#a98f96\",\"#3b7c96\",\"#532f96\",\"#5b3d96\",\"#9f5896\",\"#8bb896\",\"#8a9e96\",\"#3bc096\",\"#93c996\",\"#5fde96\",\"#332f96\",\"#50ca96\",\"#baa296\",\"#ac4296\",\"#431e96\",\"#c12496\",\"#963e96\",\"#ed3d96\",\"#bfa496\",\"#ce2596\",\"#c47796\",\"#b34896\",\"#3ecc96\",\"#9d3396\",\"#f2da96\",\"#402996\",\"#9b8996\",\"#d05696\",\"#e2dd96\",\"#512596\",\"#cc8c96\",\"#771e96\",\"#9b7b96\",\"#5a8696\",\"#8e5096\",\"#83a496\",\"#f14796\",\"#ec9496\",\"#c92296\",\"#d4c996\",\"#e7a996\",\"#acd796\",\"#9c8096\",\"#da5a96\",\"#3a4e96\",\"#f83396\",\"#9b5996\",\"#ea6696\",\"#623596\",\"#bfc596\",\"#5e2a96\",\"#57dc96\",\"#a74e96\",\"#9e4f96\",\"#b88296\",\"#87dd96\",\"#d44e96\",\"#75c496\",\"#64bb96\",\"#57e396\",\"#554896\",\"#eace96\",\"#c4d496\",\"#9c3b96\",\"#f1b596\",\"#34af96\",\"#8fe396\",\"#85e496\",\"#43d296\",\"#e49f96\",\"#a6c396\",\"#dbd696\",\"#61e496\",\"#61cf96\",\"#9c5796\",\"#e9a296\",\"#402096\",\"#be4596\",\"#e88e96\",\"#acd696\",\"#c32996\",\"#832396\",\"#87d096\",\"#f1dd96\",\"#786296\",\"#6a6496\",\"#916d96\",\"#dc8696\",\"#605696\",\"#e44196\",\"#805796\",\"#988996\",\"#f29096\",\"#ca3d96\",\"#c0c396\",\"#b2a296\",\"#7c9c96\",\"#588896\",\"#6bb796\",\"#90b096\",\"#35af96\",\"#736196\",\"#607a96\",\"#7a6d96\",\"#e43196\",\"#b56396\",\"#787696\",\"#a09796\",\"#bdd896\",\"#79ba96\",\"#f15f96\",\"#ac8e96\",\"#d15e96\",\"#72d896\",\"#a7c296\",\"#5b3e96\",\"#643696\",\"#883496\",\"#59d796\",\"#506296\",\"#835696\",\"#e09296\",\"#c59d96\",\"#907896\",\"#93da96\",\"#642e96\",\"#51b696\",\"#dd9e96\",\"#edc296\",\"#5c7696\",\"#cd3996\",\"#7a6796\",\"#da2c96\",\"#ea2b96\",\"#da5696\",\"#a46896\",\"#eaa896\",\"#5c4b96\",\"#c77396\",\"#963696\",\"#54c396\",\"#8bcf96\",\"#37b996\",\"#e3be96\",\"#cb2f96\",\"#78c396\",\"#91d996\",\"#342596\",\"#eec996\",\"#3e9996\",\"#d67396\",\"#bfca96\",\"#34ce96\",\"#d2d096\",\"#a2ca96\",\"#ce7796\",\"#ccab96\",\"#5bbe96\",\"#e25696\",\"#652d96\",\"#ce5296\",\"#42df96\",\"#cedb96\",\"#6cd096\",\"#c9bb96\",\"#ddbc96\",\"#e32396\",\"#d17e96\",\"#ef4696\",\"#3a4896\",\"#615e96\",\"#9bd596\",\"#3d6d96\",\"#649496\",\"#e78996\",\"#e08f96\",\"#d42896\",\"#377096\",\"#d1c696\",\"#7c4e96\",\"#9b4396\",\"#b22096\",\"#7f5d96\",\"#828596\",\"#e5bf96\",\"#917696\",\"#99bd96\",\"#f22c96\",\"#d86596\",\"#bae396\",\"#c82796\",\"#5cb396\",\"#554696\",\"#89dc96\",\"#a74f96\",\"#ef9396\",\"#6a4f96\",\"#b24796\",\"#377996\",\"#f06b96\",\"#acd896\",\"#7aca96\",\"#514c96\",\"#794a96\",\"#48b896\",\"#694596\",\"#f09d96\",\"#f9d696\",\"#efc296\",\"#baae96\",\"#de7796\",\"#e97996\",\"#354996\",\"#c9b596\",\"#609696\",\"#bc4096\",\"#8f3c96\",\"#458296\",\"#6d2196\",\"#8fdc96\",\"#377696\",\"#da3d96\",\"#ee6496\",\"#92cd96\",\"#3e4b96\",\"#823096\",\"#9fba96\",\"#d3a496\",\"#954596\",\"#b27f96\",\"#cc5896\",\"#5e4996\",\"#649696\",\"#3d4a96\",\"#3d7f96\",\"#432996\",\"#cfcf96\",\"#bf8f96\",\"#8d5396\",\"#f79f96\",\"#c37a96\",\"#884c96\",\"#dc7496\",\"#de5f96\",\"#3f5d96\",\"#bc9b96\",\"#553596\",\"#ebce96\",\"#b48696\",\"#6ac396\",\"#3f2496\",\"#844a96\",\"#e64096\",\"#65d696\",\"#6d7696\",\"#bca196\",\"#463296\",\"#6a1f96\",\"#e7d296\",\"#36ab96\",\"#7abe96\",\"#7e6896\",\"#a14a96\",\"#948696\",\"#c2d796\",\"#776d96\",\"#f3a096\",\"#73d096\",\"#8b2d96\",\"#4c3096\",\"#457c96\",\"#cb7a96\",\"#a1df96\",\"#7f8d96\",\"#67a796\",\"#e3b896\",\"#f44d96\",\"#a5cd96\",\"#98a396\",\"#5f8296\",\"#b69f96\",\"#61a396\",\"#d72c96\",\"#446d96\",\"#987a96\",\"#34b496\",\"#6d6196\",\"#a1de96\",\"#64da96\",\"#833296\",\"#e3c696\",\"#da6996\",\"#5c2f96\",\"#c4da96\",\"#7b8096\",\"#a9a396\",\"#832996\",\"#b0dd96\",\"#bae296\",\"#496096\",\"#bed096\",\"#9b3596\",\"#397796\",\"#564596\",\"#e6cd96\",\"#60c596\",\"#4d5496\",\"#8db296\",\"#43af96\",\"#a6db96\",\"#d87996\",\"#dddf96\",\"#5d9a96\",\"#ca5396\",\"#8ce396\",\"#7fd696\",\"#8e6096\",\"#69e396\",\"#5d7996\",\"#dd3a96\",\"#f15196\",\"#ec7696\",\"#a78a96\",\"#8a3996\",\"#64c596\",\"#a4c496\",\"#b64696\",\"#a5cf96\",\"#ddc696\",\"#ceac96\",\"#457196\",\"#4b5496\",\"#40b096\",\"#eb7f96\",\"#d32896\",\"#a96d96\",\"#b12d96\",\"#722f96\",\"#ab4096\",\"#ac8d96\",\"#3ae296\",\"#6acf96\",\"#c67596\",\"#8d2a96\",\"#9f2896\",\"#f55b96\",\"#eb2396\",\"#957596\",\"#8c6d96\",\"#799196\",\"#a4e596\",\"#b38b96\",\"#b6c296\",\"#cfcf96\",\"#a14196\",\"#ccc196\",\"#c26e96\",\"#4c4196\",\"#8fa496\",\"#451e96\",\"#605096\",\"#bae096\",\"#b47f96\",\"#952796\",\"#689996\",\"#654496\",\"#685796\",\"#f9b196\",\"#de5d96\",\"#bdbb96\",\"#e78996\",\"#e33f96\",\"#b29996\",\"#a98296\",\"#49dc96\",\"#399796\",\"#786d96\",\"#74e196\",\"#999596\",\"#c2d796\",\"#786996\",\"#79ce96\",\"#ebac96\",\"#5b6e96\",\"#85bd96\",\"#9e9296\",\"#b2b396\",\"#7dd396\",\"#998496\",\"#cd8096\",\"#3b9996\",\"#626596\",\"#4d5f96\",\"#779896\",\"#617196\",\"#94b896\",\"#8f6d96\",\"#876d96\",\"#bb3a96\",\"#687596\",\"#371e96\",\"#e32f96\",\"#619f96\",\"#4c5d96\",\"#cfd596\",\"#a72796\",\"#b2c096\",\"#a5df96\",\"#e16096\",\"#9f3696\",\"#865696\",\"#c38296\",\"#c22296\",\"#c45896\",\"#9b4396\",\"#758696\",\"#d05396\",\"#893a96\",\"#485296\",\"#b24a96\",\"#d95596\",\"#49b196\",\"#eed796\",\"#7a5996\",\"#9aa996\",\"#8b5296\",\"#7f6796\",\"#50c096\",\"#917596\",\"#ba6396\",\"#e8d396\",\"#be5396\",\"#d26196\",\"#465f96\",\"#a55696\",\"#534396\",\"#902396\",\"#f56796\",\"#52c396\",\"#392596\",\"#782a96\",\"#e0d196\",\"#70be96\",\"#d97596\",\"#7b5196\",\"#753796\",\"#4c9096\",\"#afa596\",\"#7fc796\",\"#743996\",\"#a12996\",\"#655496\",\"#89b796\",\"#8b3896\",\"#365c96\",\"#aae596\",\"#405296\",\"#b23996\",\"#ae5696\",\"#b5b896\",\"#744b96\",\"#f4ca96\",\"#81c996\",\"#7dbb96\",\"#496196\",\"#45b096\",\"#439696\",\"#c99296\",\"#bb5896\",\"#8e7b96\",\"#895996\",\"#ab2696\",\"#e82c96\",\"#838296\",\"#e02596\",\"#c9de96\",\"#e2c196\",\"#eb6a96\",\"#4f8d96\",\"#e13b96\",\"#82b996\",\"#947b96\",\"#c37896\",\"#c4a396\",\"#604596\",\"#e29496\",\"#3d7396\",\"#804d96\",\"#ac5196\",\"#ee3c96\",\"#f25b96\",\"#e02f96\",\"#4b2e96\",\"#889d96\",\"#b68696\",\"#e3ce96\",\"#8e4b96\",\"#6db796\",\"#886596\",\"#d8d896\",\"#496296\",\"#ebc096\",\"#ccd396\",\"#92c096\",\"#d87a96\",\"#79a296\",\"#54c396\",\"#84b096\",\"#45b996\",\"#70a096\",\"#bebb96\",\"#561e96\",\"#7fa396\",\"#ec4096\",\"#4c6d96\",\"#914396\",\"#7aa096\",\"#e4e096\",\"#f92a96\",\"#6f5b96\",\"#edac96\",\"#b5d596\",\"#33b696\",\"#76e196\",\"#94c996\",\"#474d96\",\"#974696\",\"#85bc96\",\"#3d8696\",\"#f37396\",\"#454696\",\"#7c9f96\",\"#4b3d96\",\"#913996\",\"#555396\",\"#573596\",\"#574696\",\"#5a6596\",\"#dd3d96\",\"#9a2396\",\"#d9d696\",\"#f04796\",\"#b05496\",\"#c8d196\",\"#853196\",\"#4b3096\",\"#b8be96\",\"#445196\",\"#689b96\",\"#f42896\",\"#709096\",\"#3aab96\",\"#6fc796\",\"#d1c996\",\"#55b996\",\"#8fdc96\",\"#b87396\",\"#aa9696\",\"#a8ab96\",\"#b67e96\",\"#d7c096\",\"#bd3696\",\"#eec496\",\"#ee1f96\",\"#d92996\",\"#ecd496\",\"#97bb96\",\"#b09796\",\"#587c96\",\"#6c6c96\",\"#e9b096\",\"#dc6f96\",\"#c59e96\",\"#63c096\",\"#4fcf96\",\"#817696\",\"#cb5096\",\"#694696\",\"#82d896\",\"#c72e96\",\"#668896\",\"#e79c96\",\"#ed3096\",\"#369096\",\"#9f8f96\",\"#8f8296\",\"#d65196\",\"#6bd496\",\"#c45c96\",\"#6f6696\",\"#399596\",\"#814f96\",\"#8b8196\",\"#bd4a96\",\"#d3cd96\",\"#e99b96\",\"#63aa96\",\"#d7a096\",\"#f0b096\",\"#886696\",\"#c48496\",\"#377b96\",\"#f63196\",\"#a1be96\",\"#bc6c96\",\"#c08d96\",\"#ce1e96\",\"#bc2096\",\"#772d96\",\"#d6a296\",\"#36cf96\",\"#a0d896\",\"#9cac96\",\"#5fb596\",\"#ce9e96\",\"#dd4596\",\"#d6bb96\",\"#be7496\",\"#ba4996\",\"#7ba396\",\"#5bb296\",\"#5f4896\",\"#d94a96\",\"#b6bb96\",\"#b16696\",\"#8f6d96\",\"#e57b96\",\"#5a3f96\",\"#55a096\",\"#647c96\",\"#e17996\",\"#9e7596\",\"#5db396\",\"#729f96\",\"#67c696\",\"#b69596\",\"#361f96\",\"#d87296\",\"#ebd996\",\"#8d8296\",\"#5f8d96\",\"#6cde96\",\"#e96a96\",\"#c85a96\",\"#6f7f96\",\"#d58696\",\"#daa496\",\"#abe096\",\"#903f96\",\"#e27096\",\"#476696\",\"#534596\",\"#c23b96\",\"#7ca596\",\"#7ba096\",\"#558a96\",\"#d02596\",\"#d92596\",\"#a22196\",\"#42cb96\",\"#33b696\",\"#bf8896\",\"#f03996\",\"#9c5296\",\"#bf2896\",\"#f3c796\",\"#8a3b96\",\"#ef6396\",\"#5be396\",\"#83a596\",\"#339196\",\"#774f96\",\"#756196\",\"#5f9296\",\"#7a3196\",\"#5e7596\",\"#ef7d96\",\"#756996\",\"#456796\",\"#38a196\",\"#67e396\",\"#6acd96\",\"#f26496\",\"#d5e096\",\"#afce96\",\"#9a9b96\",\"#5d9296\",\"#b8a296\",\"#98a596\",\"#616096\",\"#e9ba96\",\"#d17496\",\"#9f5196\",\"#b48696\",\"#a62496\",\"#949596\",\"#596596\",\"#f12896\",\"#396d96\",\"#379596\",\"#9ed996\",\"#422196\",\"#86be96\",\"#df1e96\",\"#eddb96\",\"#877d96\",\"#c9b196\",\"#e74196\",\"#b58196\",\"#f76d96\",\"#d7b696\",\"#4b5496\",\"#c38d96\",\"#95a096\",\"#5e7496\",\"#9e8296\",\"#a43496\",\"#5ddd96\",\"#ebd096\",\"#bfc796\",\"#f32196\",\"#e04696\",\"#5a2996\",\"#81b396\",\"#efa796\",\"#352496\",\"#d99396\",\"#c59d96\",\"#a6d196\",\"#916696\",\"#b96496\",\"#465096\",\"#523996\",\"#e3dc96\",\"#d7c496\",\"#358596\",\"#ba9896\",\"#e87596\",\"#a78396\",\"#f2bb96\",\"#c43396\",\"#4d3996\",\"#44b296\",\"#61ab96\",\"#e6b896\",\"#32d296\",\"#9f4b96\",\"#b8ae96\",\"#5f7e96\",\"#359996\",\"#ec9f96\",\"#d64996\",\"#48e196\",\"#793396\",\"#b85c96\",\"#813e96\",\"#f3e596\",\"#3a9496\",\"#f25596\",\"#af6396\",\"#347d96\",\"#c3e296\",\"#dd4b96\",\"#dad596\",\"#f15896\",\"#9add96\",\"#a8c396\",\"#4d9e96\",\"#b18e96\",\"#bb2996\",\"#7ddd96\",\"#cca196\",\"#f4c596\",\"#9b9e96\",\"#f68f96\",\"#b36e96\",\"#b0a796\",\"#5ed896\",\"#504f96\",\"#786f96\",\"#968d96\",\"#beac96\",\"#9a3c96\",\"#872296\",\"#666996\",\"#e92b96\",\"#d28196\",\"#858996\",\"#acd396\",\"#947f96\",\"#3cd096\",\"#99b196\",\"#867496\",\"#a84b96\",\"#3b5e96\",\"#6f6c96\",\"#b23796\",\"#969e96\",\"#88e496\",\"#71b196\",\"#3b5a96\",\"#3acd96\",\"#ddce96\",\"#df8696\",\"#ebb196\",\"#f5ba96\",\"#657b96\",\"#c14496\",\"#ec2b96\",\"#7a8e96\",\"#37e196\",\"#b52e96\",\"#a05896\",\"#e93796\",\"#864e96\",\"#58c796\",\"#c29796\",\"#364996\",\"#b27b96\",\"#d4cd96\",\"#38bc96\",\"#f46f96\",\"#523696\",\"#3e6e96\",\"#9bca96\",\"#f1cb96\",\"#696796\",\"#a35f96\",\"#589996\",\"#dcad96\",\"#f57696\",\"#3e8c96\",\"#952896\",\"#d81f96\",\"#839e96\",\"#db8296\",\"#9a6b96\",\"#3ca196\",\"#f05296\",\"#6de496\",\"#4b5196\",\"#9fda96\",\"#b8cb96\",\"#8d8196\",\"#a25a96\",\"#67e196\",\"#ed3e96\",\"#492496\",\"#71ca96\",\"#bd2196\",\"#543696\",\"#408296\",\"#beb096\",\"#c07a96\",\"#b42c96\",\"#497096\",\"#5fd196\",\"#74a996\",\"#d2ce96\",\"#bc4b96\",\"#494696\",\"#74d196\",\"#3b7896\",\"#b09396\",\"#5c2696\",\"#959796\",\"#b4b796\",\"#f8d896\",\"#4db296\",\"#62a896\",\"#726796\",\"#c28d96\",\"#7a9196\",\"#c5c096\",\"#862596\",\"#535d96\",\"#821e96\",\"#3cbe96\",\"#eac796\",\"#4c9296\",\"#b23c96\",\"#5d7b96\",\"#cf5096\",\"#93d696\",\"#739896\",\"#dc2596\",\"#d45196\",\"#32e196\",\"#eb9196\",\"#6dcc96\",\"#438e96\",\"#c6d496\",\"#bb4096\",\"#584f96\",\"#534e96\",\"#ac8196\",\"#3e9b96\",\"#f2a096\",\"#df4896\",\"#f03596\",\"#ea3f96\",\"#a29996\",\"#d97796\",\"#71b996\",\"#94bc96\",\"#46b396\",\"#48c896\",\"#8a7496\",\"#62cc96\",\"#caa896\",\"#4c9096\",\"#b18b96\",\"#88a896\",\"#f74d96\",\"#c4db96\",\"#d92096\",\"#a9c696\",\"#5bc196\",\"#c66c96\",\"#905496\",\"#804696\",\"#f7ac96\",\"#96c396\",\"#6cb996\",\"#aa7c96\",\"#e1c696\",\"#d86296\",\"#c62296\",\"#5b8796\",\"#d93396\",\"#f43a96\",\"#906796\",\"#e33796\",\"#cf8e96\",\"#aa3696\",\"#573b96\",\"#df4d96\",\"#a5e296\",\"#f41f96\",\"#714296\",\"#6b5296\",\"#d14496\",\"#70df96\",\"#9ad096\",\"#d49496\",\"#358496\",\"#bd7f96\",\"#354396\",\"#354796\",\"#ae9d96\",\"#8d9e96\",\"#cccd96\",\"#d09196\",\"#ac4896\",\"#a17b96\",\"#7d5796\",\"#8e5d96\",\"#9e8296\",\"#4ae596\",\"#e7cd96\",\"#ede496\",\"#e0cf96\",\"#a96696\",\"#3ebf96\",\"#7e5a96\",\"#47cc96\",\"#e79496\",\"#cb3996\",\"#94ae96\",\"#4ac796\",\"#b77596\",\"#915296\",\"#c35b96\",\"#4c5896\",\"#552196\",\"#bd3596\",\"#d64596\",\"#5fcc96\",\"#aebc96\",\"#807b96\",\"#a0c896\",\"#bca796\",\"#3f4b96\",\"#b4c796\",\"#875496\",\"#c34d96\",\"#417a96\",\"#41aa96\",\"#bb4596\",\"#ca8996\",\"#eb3096\",\"#bde296\",\"#b8cc96\",\"#87c996\",\"#deaf96\",\"#3b5796\",\"#4b9a96\",\"#832196\",\"#584896\",\"#f5a496\",\"#a5b396\",\"#dc5c96\",\"#e36196\",\"#dbb696\",\"#d58396\",\"#8f4596\",\"#7acd96\",\"#4c7996\",\"#ae8296\",\"#477396\",\"#c19196\",\"#f0d496\",\"#877496\",\"#523d96\",\"#5a2296\",\"#dd6c96\",\"#c3b096\",\"#90d596\",\"#52a496\",\"#8e4e96\",\"#68a796\",\"#35a396\",\"#985e96\",\"#709e96\",\"#c37e96\",\"#566d96\",\"#da3a96\",\"#4c8e96\",\"#384d96\",\"#604196\",\"#924e96\",\"#e9dd96\",\"#7d7496\",\"#532e96\",\"#ee6396\",\"#9f4b96\",\"#9c5196\",\"#e83a96\",\"#a6a696\",\"#d78896\",\"#3e2e96\",\"#51a596\",\"#bcbe96\",\"#4a7496\",\"#ac8796\",\"#37d496\",\"#436f96\",\"#8e2e96\",\"#869096\",\"#cea096\",\"#b12c96\",\"#436a96\",\"#b62c96\",\"#a08d96\",\"#97ba96\",\"#9c7e96\",\"#7a1f96\",\"#7f5896\",\"#97ae96\",\"#a34096\",\"#7c8196\",\"#899296\",\"#89c496\",\"#37cb96\",\"#536a96\",\"#5bb296\",\"#85dd96\",\"#3c4c96\",\"#e69696\",\"#c86096\",\"#f8b696\",\"#3d9e96\",\"#cab096\",\"#e5cd96\",\"#e7df96\",\"#f5ae96\",\"#5a7296\",\"#aa3296\",\"#a89696\",\"#813296\",\"#666996\",\"#726396\",\"#436c96\",\"#738e96\",\"#803196\",\"#3f7896\",\"#927496\",\"#6c6a96\",\"#589096\",\"#d0da96\",\"#634996\",\"#c3ba96\",\"#be4a96\",\"#665596\",\"#89e596\",\"#e03e96\",\"#582596\",\"#b1b396\",\"#bb9c96\",\"#3d8796\",\"#4fa696\",\"#f83a96\",\"#c62496\",\"#e18196\",\"#3d4796\",\"#a62e96\",\"#e28496\",\"#472d96\",\"#675c96\",\"#f5af96\",\"#a08b96\",\"#4cd896\",\"#f33796\",\"#ad7296\",\"#f05b96\",\"#742196\",\"#ab8996\",\"#beb096\",\"#962996\",\"#526496\",\"#5bbf96\",\"#e09696\",\"#5c9596\",\"#467496\",\"#40a196\",\"#ce2396\",\"#c8ac96\",\"#9fda96\",\"#4dc196\",\"#ac6596\",\"#e56196\",\"#da9a96\",\"#7f3f96\",\"#466596\",\"#3f3096\",\"#c52296\",\"#c5b196\",\"#d75596\",\"#a39a96\",\"#ae6596\",\"#678c96\",\"#463296\",\"#7c4396\",\"#bd6996\",\"#bc2e96\",\"#d23796\",\"#5ae396\",\"#ba6296\",\"#b92d96\",\"#51cd96\",\"#3bb896\",\"#a57496\",\"#3f5396\",\"#412a96\",\"#852796\",\"#477b96\",\"#f38496\",\"#89a196\",\"#7eaf96\",\"#4a8296\",\"#615596\",\"#99cb96\",\"#84ba96\",\"#537796\",\"#912996\",\"#c85c96\",\"#a9a496\",\"#77c596\",\"#dc7996\",\"#4a7296\",\"#7b2196\",\"#358796\",\"#97db96\",\"#655c96\",\"#d2a596\",\"#417a96\",\"#6f6796\",\"#ab9896\",\"#d47e96\",\"#e74096\",\"#c46896\",\"#ac5b96\",\"#48ce96\",\"#64e096\",\"#9ea196\",\"#755c96\",\"#d57096\",\"#bee596\",\"#483796\",\"#c04a96\",\"#ba4b96\",\"#7d4896\",\"#d84a96\",\"#a4e096\",\"#63a296\",\"#363496\",\"#f92b96\",\"#ba9e96\",\"#b93596\",\"#68a296\",\"#d98496\",\"#ca7696\",\"#6d9d96\",\"#dcda96\",\"#9b3e96\",\"#375c96\",\"#d7d096\",\"#4db796\",\"#bb2296\",\"#88b896\",\"#f36b96\",\"#b93396\",\"#e68996\",\"#82b096\",\"#d8bb96\",\"#bf7096\",\"#eeb896\",\"#f38796\",\"#b6c496\",\"#e1ab96\",\"#99ba96\",\"#7e3a96\",\"#575396\",\"#bee296\",\"#788396\",\"#359896\",\"#ce5496\",\"#42aa96\",\"#738096\",\"#626e96\",\"#826296\",\"#3cd696\",\"#789596\",\"#d57896\",\"#d6ad96\",\"#ae5f96\",\"#f16296\",\"#43c396\",\"#609196\",\"#3fa396\",\"#436896\",\"#ad6596\",\"#43bd96\",\"#745e96\",\"#33d396\",\"#81da96\",\"#412296\",\"#953a96\",\"#4da096\",\"#f88796\",\"#4f6d96\",\"#c02996\",\"#883696\",\"#ec6b96\",\"#36e496\",\"#50a996\",\"#d4c096\",\"#f8aa96\",\"#448696\",\"#998c96\",\"#ae5c96\",\"#f4ae96\",\"#3b6696\",\"#a99c96\",\"#f25396\",\"#aaca96\",\"#398996\",\"#e84496\",\"#b1cc96\",\"#609296\",\"#507296\",\"#a97d96\",\"#35b496\",\"#599896\",\"#8c4496\",\"#a5cc96\",\"#bd8d96\",\"#947896\",\"#b1b296\",\"#856696\",\"#f34d96\",\"#942796\",\"#472c96\",\"#c7cc96\",\"#84e596\",\"#426896\",\"#a9c996\",\"#68df96\",\"#8d2896\",\"#3c9496\",\"#6dac96\",\"#c32e96\",\"#743696\",\"#f7ab96\",\"#442196\",\"#657c96\",\"#d4b796\",\"#9eb596\",\"#e46096\",\"#63e096\",\"#347a96\",\"#7e9796\",\"#4e5996\",\"#d73b96\",\"#387896\",\"#d2e096\",\"#843996\",\"#4e4596\",\"#513e96\",\"#c05196\",\"#685996\",\"#98a096\",\"#779f96\",\"#ad2f96\",\"#4be196\",\"#705196\",\"#618096\",\"#b29996\",\"#892c96\",\"#512c96\",\"#eed596\",\"#c22f96\",\"#bfbe96\",\"#8d9a96\",\"#593996\",\"#aea696\",\"#de9a96\",\"#392196\",\"#5a7f96\",\"#3cbc96\",\"#832f96\",\"#e76196\",\"#537a96\",\"#518996\",\"#dca096\",\"#373196\",\"#75a696\",\"#be6896\",\"#838f96\",\"#362096\",\"#a09996\",\"#70d496\",\"#c33d96\",\"#7c8796\",\"#702096\",\"#cb6296\",\"#682296\",\"#7ac296\",\"#765e96\",\"#f17c96\",\"#5aac96\",\"#664596\",\"#c6e396\",\"#e24796\",\"#e17c96\",\"#908796\",\"#a86496\",\"#995596\",\"#9f3f96\",\"#929896\",\"#6bce96\",\"#89c496\",\"#bbaa96\",\"#f12696\",\"#e95696\",\"#369d96\",\"#55b096\",\"#7b7096\",\"#855a96\",\"#ebb896\",\"#b4d896\",\"#8ba796\",\"#405496\",\"#916196\",\"#c0e196\",\"#618696\",\"#739096\",\"#4b4d96\",\"#745f96\",\"#a39f96\",\"#f61e96\",\"#4a5196\",\"#5fe596\",\"#645496\",\"#985b96\",\"#4d8996\",\"#a67e96\",\"#47db96\",\"#a64a96\",\"#d58296\",\"#7c7496\",\"#4e9f96\",\"#76d596\",\"#87a196\",\"#a08d96\",\"#56b696\",\"#e32b96\",\"#7ca396\",\"#445596\",\"#cf6796\",\"#833096\",\"#5bb896\",\"#f75396\",\"#895d96\",\"#73b996\",\"#ceb996\",\"#556196\",\"#4e9196\",\"#45a996\",\"#f59d96\",\"#ce7796\",\"#e27096\",\"#8ab996\",\"#a09d96\",\"#e7c696\",\"#b62796\",\"#f1aa96\",\"#f49196\",\"#7c9d96\",\"#d0ae96\",\"#ef3c96\",\"#4a9a96\",\"#bf8e96\",\"#914596\",\"#b1ce96\"]]]}}},\"view\":{\"type\":\"object\",\"name\":\"CDSView\",\"id\":\"p1036\",\"attributes\":{\"filter\":{\"type\":\"object\",\"name\":\"AllIndices\",\"id\":\"p1037\"}}},\"glyph\":{\"type\":\"object\",\"name\":\"Circle\",\"id\":\"p1032\",\"attributes\":{\"x\":{\"type\":\"field\",\"field\":\"x\"},\"y\":{\"type\":\"field\",\"field\":\"y\"},\"line_color\":{\"type\":\"value\",\"value\":null},\"fill_color\":{\"type\":\"field\",\"field\":\"fill_color\"},\"fill_alpha\":{\"type\":\"value\",\"value\":0.6},\"radius\":{\"type\":\"field\",\"field\":\"radius\"}}},\"nonselection_glyph\":{\"type\":\"object\",\"name\":\"Circle\",\"id\":\"p1033\",\"attributes\":{\"x\":{\"type\":\"field\",\"field\":\"x\"},\"y\":{\"type\":\"field\",\"field\":\"y\"},\"line_color\":{\"type\":\"value\",\"value\":null},\"line_alpha\":{\"type\":\"value\",\"value\":0.1},\"fill_color\":{\"type\":\"field\",\"field\":\"fill_color\"},\"fill_alpha\":{\"type\":\"value\",\"value\":0.1},\"hatch_alpha\":{\"type\":\"value\",\"value\":0.1},\"radius\":{\"type\":\"field\",\"field\":\"radius\"}}},\"muted_glyph\":{\"type\":\"object\",\"name\":\"Circle\",\"id\":\"p1034\",\"attributes\":{\"x\":{\"type\":\"field\",\"field\":\"x\"},\"y\":{\"type\":\"field\",\"field\":\"y\"},\"line_color\":{\"type\":\"value\",\"value\":null},\"line_alpha\":{\"type\":\"value\",\"value\":0.2},\"fill_color\":{\"type\":\"field\",\"field\":\"fill_color\"},\"fill_alpha\":{\"type\":\"value\",\"value\":0.2},\"hatch_alpha\":{\"type\":\"value\",\"value\":0.2},\"radius\":{\"type\":\"field\",\"field\":\"radius\"}}}}}],\"toolbar\":{\"type\":\"object\",\"name\":\"Toolbar\",\"id\":\"p1009\",\"attributes\":{\"tools\":[{\"type\":\"object\",\"name\":\"PanTool\",\"id\":\"p1022\"},{\"type\":\"object\",\"name\":\"WheelZoomTool\",\"id\":\"p1023\",\"attributes\":{\"renderers\":\"auto\"}},{\"type\":\"object\",\"name\":\"BoxZoomTool\",\"id\":\"p1024\",\"attributes\":{\"overlay\":{\"type\":\"object\",\"name\":\"BoxAnnotation\",\"id\":\"p1025\",\"attributes\":{\"syncable\":false,\"level\":\"overlay\",\"visible\":false,\"left_units\":\"canvas\",\"right_units\":\"canvas\",\"top_units\":\"canvas\",\"bottom_units\":\"canvas\",\"line_color\":\"black\",\"line_alpha\":1.0,\"line_width\":2,\"line_dash\":[4,4],\"fill_color\":\"lightgrey\",\"fill_alpha\":0.5}}}},{\"type\":\"object\",\"name\":\"SaveTool\",\"id\":\"p1026\"},{\"type\":\"object\",\"name\":\"ResetTool\",\"id\":\"p1027\"},{\"type\":\"object\",\"name\":\"HelpTool\",\"id\":\"p1028\"}]}},\"left\":[{\"type\":\"object\",\"name\":\"LinearAxis\",\"id\":\"p1017\",\"attributes\":{\"ticker\":{\"type\":\"object\",\"name\":\"BasicTicker\",\"id\":\"p1018\",\"attributes\":{\"mantissas\":[1,2,5]}},\"formatter\":{\"type\":\"object\",\"name\":\"BasicTickFormatter\",\"id\":\"p1019\"},\"major_label_policy\":{\"type\":\"object\",\"name\":\"AllLabels\",\"id\":\"p1020\"}}}],\"below\":[{\"type\":\"object\",\"name\":\"LinearAxis\",\"id\":\"p1012\",\"attributes\":{\"ticker\":{\"type\":\"object\",\"name\":\"BasicTicker\",\"id\":\"p1013\",\"attributes\":{\"mantissas\":[1,2,5]}},\"formatter\":{\"type\":\"object\",\"name\":\"BasicTickFormatter\",\"id\":\"p1014\"},\"major_label_policy\":{\"type\":\"object\",\"name\":\"AllLabels\",\"id\":\"p1015\"}}}],\"center\":[{\"type\":\"object\",\"name\":\"Grid\",\"id\":\"p1016\",\"attributes\":{\"axis\":{\"id\":\"p1012\"}}},{\"type\":\"object\",\"name\":\"Grid\",\"id\":\"p1021\",\"attributes\":{\"dimension\":1,\"axis\":{\"id\":\"p1017\"}}}]}}]}};\n",
       "  const render_items = [{\"docid\":\"bc8beadd-a997-4adb-8278-0ae526dbb0ae\",\"roots\":{\"p1001\":\"a61547ab-4b15-4cff-ab93-598bf404895a\"},\"root_ids\":[\"p1001\"]}];\n",
       "  root.Bokeh.embed.embed_items_notebook(docs_json, render_items);\n",
       "  }\n",
       "  if (root.Bokeh !== undefined) {\n",
       "    embed_document(root);\n",
       "  } else {\n",
       "    let attempts = 0;\n",
       "    const timer = setInterval(function(root) {\n",
       "      if (root.Bokeh !== undefined) {\n",
       "        clearInterval(timer);\n",
       "        embed_document(root);\n",
       "      } else {\n",
       "        attempts++;\n",
       "        if (attempts > 100) {\n",
       "          clearInterval(timer);\n",
       "          console.log(\"Bokeh: ERROR: Unable to run BokehJS code because BokehJS library is missing\");\n",
       "        }\n",
       "      }\n",
       "    }, 10, root)\n",
       "  }\n",
       "})(window);"
      ],
      "application/vnd.bokehjs_exec.v0+json": ""
     },
     "metadata": {
      "application/vnd.bokehjs_exec.v0+json": {
       "id": "p1001"
      }
     },
     "output_type": "display_data"
    }
   ],
   "source": [
    "show(p)"
   ]
  },
  {
   "cell_type": "markdown",
   "metadata": {
    "slideshow": {
     "slide_type": "slide"
    }
   },
   "source": [
    "### Paraview\n",
    "\n",
    "Paraview es un software de código abierto (gratuito) que permite visualizar datos de simulaciones.\n",
    "\n",
    "<img style=\"float: center;\" src=\"clase4_imagenes/paraview_website.png\" alt=\"alt text\" width=\"800\" height=\"600\" class=\"blog-image\">"
   ]
  },
  {
   "cell_type": "markdown",
   "metadata": {
    "slideshow": {
     "slide_type": "slide"
    }
   },
   "source": [
    "Paraview es muy utilizado en ingeniería, por ejemplo para visualizar y analizar simulaciones aeorodinámicas.\n",
    "\n",
    "<img style=\"float: center;\" src=\"clase4_imagenes/spitfire_paraview.png\" alt=\"alt text\" width=\"800\" height=\"600\" class=\"blog-image\">"
   ]
  },
  {
   "cell_type": "markdown",
   "metadata": {
    "slideshow": {
     "slide_type": "slide"
    }
   },
   "source": [
    "#### Visualizaciones con animaciones\n",
    "\n",
    "* Ecos de luz en la estrella RS Pup\n",
    "\n",
    "![](clase4_imagenes/rs_pup.gif)"
   ]
  },
  {
   "cell_type": "markdown",
   "metadata": {
    "slideshow": {
     "slide_type": "slide"
    }
   },
   "source": [
    "#### Visualizaciones de simulaciones\n",
    "\n",
    "* En una simulación tenemos toda la información para crear visualizaciones espectaculares.\n",
    "* Ejemplo con una simulación de N-cuerpos:\n",
    "\n",
    "<img style=\"float: center;\" src=\"clase4_imagenes/galaxy_simulations.jpg\" alt=\"alt text\" width=\"800\" height=\"600\" class=\"blog-image\">"
   ]
  },
  {
   "cell_type": "markdown",
   "metadata": {
    "slideshow": {
     "slide_type": "slide"
    }
   },
   "source": [
    "* Imagenes \"sintéticas\" de galaxias generadas en simulaciones.\n",
    "* Incluyen el cálculo preciso de las longitudes de onda de la luz según la composición de la galaxia.\n",
    "\n",
    "![](clase4_imagenes/sunrise.jpg)"
   ]
  },
  {
   "cell_type": "markdown",
   "metadata": {
    "slideshow": {
     "slide_type": "slide"
    }
   },
   "source": [
    "#### Visualización con \"renderización de volúmenes\" (Volume rendering)\n",
    "\n",
    "* Si tenemos un objeto compuesto de materia continua (no solamente partículas) hay que usar otra manera de visualizarlo.\n",
    "* Una opción es el uso de *volume rendering*\n",
    "* El concepto de *volume rendering* es calcular las propiedades de los rayos de luz que pasan dentro del objeto."
   ]
  },
  {
   "cell_type": "markdown",
   "metadata": {
    "slideshow": {
     "slide_type": "fragment"
    }
   },
   "source": [
    "![](clase4_imagenes/vol_ray_casting2.png)\n",
    "\n",
    "Este se llama *ray casting*"
   ]
  },
  {
   "cell_type": "markdown",
   "metadata": {
    "slideshow": {
     "slide_type": "slide"
    }
   },
   "source": [
    "A veces queremos aplicar una *proyección* a la imagen para que tenga el aspecto de una imagen con perspectiva.\n",
    "\n",
    "![](clase4_imagenes/perspective.jpg)"
   ]
  },
  {
   "cell_type": "markdown",
   "metadata": {
    "slideshow": {
     "slide_type": "slide"
    }
   },
   "source": [
    "#### Un ejemplo del uso de *volume rendering* en la astronomía\n",
    "\n",
    "* Este método es muy útil para simulaciones hidrodinámicas (que incluyen el gas de la galaxia)\n",
    "\n",
    "![](clase4_imagenes/gases.png)"
   ]
  },
  {
   "cell_type": "markdown",
   "metadata": {
    "slideshow": {
     "slide_type": "slide"
    }
   },
   "source": [
    "#### Rendering\n",
    "\n",
    "* El concepto de *rendering* (calcular los rayos de luz que pasan a través o que se reflejan de un objeto) es algo muy usado en arte hecho en los computadores.\n",
    "* Hay programas disponibles que calculan la apariencia de un objeto según las luces que hay en el escenario, las propiedades de la materia del objeto, etc.\n",
    "* Por ejemplo, para Linux, hay un programa (gratis!) llamado **Blender**.\n",
    "\n",
    "![](clase4_imagenes/blender.jpeg)"
   ]
  },
  {
   "cell_type": "markdown",
   "metadata": {
    "slideshow": {
     "slide_type": "slide"
    }
   },
   "source": [
    "* Se puede usar **Blender** para crear animaciones. Puede calcular algunos aspectos de la \"física\" de un objeto, aunque no se puede crear una simulación científica...\n",
    "\n",
    "![](clase4_imagenes/wrecking_ball.gif)"
   ]
  },
  {
   "cell_type": "markdown",
   "metadata": {
    "slideshow": {
     "slide_type": "slide"
    }
   },
   "source": [
    "* Hay algunos astronómos que han usado Blender para crear visualizaciones de simulaciones astrofísicas, por ejemplo:\n",
    "\n",
    "<img style=\"float: center;\" src=\"clase4_imagenes/protodisk.jpg\" alt=\"alt text\" width=\"800\" height=\"600\" class=\"blog-image\">"
   ]
  },
  {
   "cell_type": "markdown",
   "metadata": {
    "slideshow": {
     "slide_type": "slide"
    }
   },
   "source": [
    "Hay un programa diseñado específicamente para visualizaciones de simulaciones cosmológicas que se llama **Splotch**. Aplica la transformación de los datos para dar la impresión de perspectiva, ocupa *ray casting* como en el método de *volume rendering*, etc..."
   ]
  },
  {
   "cell_type": "markdown",
   "metadata": {
    "slideshow": {
     "slide_type": "slide"
    }
   },
   "source": [
    "![](clase4_imagenes/cosmo_fly_around.gif)"
   ]
  },
  {
   "cell_type": "markdown",
   "metadata": {
    "slideshow": {
     "slide_type": "slide"
    }
   },
   "source": [
    "#### *Ray Tracing*\n",
    "\n",
    "Un área del mundo de computación gráfica (que está usado mucho en *rendering* es *ray tracing* (trazado de rayos). La idea es muy similar a *volume rendering* pero ahora incluimos la posibilidad de tener superficies reflectantes, también refracción, etc.\n",
    "\n",
    "![](clase4_imagenes/ray-tracing-fuente.webp)"
   ]
  },
  {
   "cell_type": "markdown",
   "metadata": {
    "slideshow": {
     "slide_type": "slide"
    }
   },
   "source": [
    "#### Un ejemplo (hecho por un programa escrito en C++)\n",
    "\n",
    "![](clase4_imagenes/ray11.png)"
   ]
  },
  {
   "cell_type": "markdown",
   "metadata": {
    "slideshow": {
     "slide_type": "slide"
    }
   },
   "source": [
    "# Realidad Virtual\n",
    "\n",
    "Hoy en día tenemos la tecnología para visualizar en 3D de verdad, con la *realidad virtual* (VR, por sus siglos en inglés).\n",
    "\n",
    "| ![](clase4_imagenes/oculus_rift.jpg) |\n",
    "|-------------------------------------|\n",
    "| Oculus Rift |"
   ]
  },
  {
   "cell_type": "markdown",
   "metadata": {
    "slideshow": {
     "slide_type": "slide"
    }
   },
   "source": [
    "| ![](clase4_imagenes/google_cardboard.jpg) |\n",
    "|------------------------------------------|\n",
    "| Google Cardboard |"
   ]
  },
  {
   "cell_type": "markdown",
   "metadata": {
    "slideshow": {
     "slide_type": "slide"
    }
   },
   "source": [
    "| ![](clase4_imagenes/sketchfab.jpg) |\n",
    "|-----------------------------------|\n",
    "| https://sketchfab.com |"
   ]
  },
  {
   "cell_type": "markdown",
   "metadata": {
    "slideshow": {
     "slide_type": "slide"
    }
   },
   "source": [
    "#### Visualizaciones de simulaciones cosmológicas:\n",
    "\n",
    "Créditos: *T.H Jarrett et al., Astronomy and Computing Volume 37, 2021, 100502*\n",
    "\n",
    "<img style=\"float: center;\" src=\"clase4_imagenes/VR_cosmology_Box.jpg\" alt=\"alt text\" width=\"600\" height=\"600\" class=\"blog-image\">"
   ]
  },
  {
   "cell_type": "markdown",
   "metadata": {
    "slideshow": {
     "slide_type": "slide"
    }
   },
   "source": [
    "\n",
    "<img style=\"float: center;\" src=\"clase4_imagenes/VR_cosmology_2.jpg\" alt=\"alt text\" width=\"800\" height=\"600\" class=\"blog-image\">"
   ]
  },
  {
   "cell_type": "markdown",
   "metadata": {
    "slideshow": {
     "slide_type": "slide"
    }
   },
   "source": [
    "\n",
    "<img style=\"float: center;\" src=\"clase4_imagenes/VR_cosmology.jpg\" alt=\"alt text\" width=\"800\" height=\"600\" class=\"blog-image\">"
   ]
  },
  {
   "cell_type": "markdown",
   "metadata": {
    "slideshow": {
     "slide_type": "slide"
    }
   },
   "source": [
    "## Resumen\n",
    "\n",
    "* La visualización de datos es común a todas las áreas de la ciencia, por ejemplo la astronomía y ciencias atmosféricas.\n",
    "* Python es probablemente el lenguaje más utilizado en ciencia para visualizar datos, por lo que complementa otros lenguajes (por ejemplo C es muy utilizado para simulaciones).\n",
    "* Visualizar no tan solo sirve para comunicar resultados, sino que también para inspeccionar los datos y asegurarnos que tengan sentido (como vimos con el Cuarteto de Anscombe).\n",
    "* La visualización puede ir desde gráficos de puntos en un espacio Cartesiano, hasta imágenes 3D."
   ]
  }
 ],
 "metadata": {
  "celltoolbar": "Slideshow",
  "kernelspec": {
   "display_name": "Python 3 (ipykernel)",
   "language": "python",
   "name": "python3"
  },
  "language_info": {
   "codemirror_mode": {
    "name": "ipython",
    "version": 3
   },
   "file_extension": ".py",
   "mimetype": "text/x-python",
   "name": "python",
   "nbconvert_exporter": "python",
   "pygments_lexer": "ipython3",
   "version": "3.9.6"
  }
 },
 "nbformat": 4,
 "nbformat_minor": 2
}
