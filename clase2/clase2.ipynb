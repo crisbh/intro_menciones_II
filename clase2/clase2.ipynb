{
 "cells": [
  {
   "cell_type": "markdown",
   "metadata": {
    "slideshow": {
     "slide_type": "skip"
    }
   },
   "source": [
    "# Instructions to export slides\n",
    "\n",
    "We might be interested in hiding the code of some slides, e.g. when displaying a video. In order to achieve this,\n",
    " the metadata of the cell has to be edited to include \"to_remove\" tag from the View->Cell Toolbar->Edit Metadata option.\n",
    " \n",
    "For instance:\n",
    " \n",
    "```js\n",
    "{\n",
    "    \"tags\": [\n",
    "        \"to_remove\"\n",
    "    ],\n",
    "    \"slideshow\": {\n",
    "        \"slide_type\": \"slide\"\n",
    "    }\n",
    "}\n",
    "```\n",
    "\n",
    "In order for this to take effect, the slideshow must be compile via the terminal using:\n",
    "```sh\n",
    "jupyter nbconvert presentation.ipynb --to slides --no-prompt --TagRemovePreprocessor.remove_input_tags {\\\"to_remove\\\"} --post serve --SlidesExporter.reveal_theme=simple\n",
    "```"
   ]
  },
  {
   "cell_type": "code",
   "execution_count": 1,
   "metadata": {
    "slideshow": {
     "slide_type": "skip"
    }
   },
   "outputs": [],
   "source": [
    "from numpy import *\n",
    "from matplotlib.pyplot import *\n",
    "\n",
    "%matplotlib inline\n",
    "# Correct size for figures in slideshow\n",
    "rcParams[\"figure.figsize\"] = (4, 3)\n",
    "rcParams[\"figure.dpi\"] = 100"
   ]
  },
  {
   "cell_type": "markdown",
   "metadata": {
    "slideshow": {
     "slide_type": "slide"
    }
   },
   "source": [
    "# Análisis y ciencia de datos\n",
    "\n",
    "* La ciencia necesita de experimentación, es decir, **datos**.\n",
    "* El método científico: hacer hipótesis, adquirir **datos**, analizar **datos**, refutar/apoyar hipótesis.\n",
    "* En astronomía, meteorología, física, la cantidad de datos disponible (hoy en día) es enorme. ¿Cómo podemos analizarlos?"
   ]
  },
  {
   "cell_type": "markdown",
   "metadata": {
    "slideshow": {
     "slide_type": "slide"
    }
   },
   "source": [
    "## El propósito del análisis de datos\n",
    "* Buscamos **información** dentro de los datos para apoyar o refutar una hipótesis científica.\n",
    "* Este es la actividad fundamental de cualquier científico trabajando en un area empírica: e.g. astronomía, meteorología, física experimental, física computacional, etc."
   ]
  },
  {
   "cell_type": "markdown",
   "metadata": {
    "slideshow": {
     "slide_type": "slide"
    }
   },
   "source": [
    "## ¿Qué son los datos?\n",
    "\n",
    "En general, los datos están compuestos de parámetros o cantidades que describen un sistema, o un aspecto del sistema que estamos estudiando. Por ejemplo:\n",
    "\n",
    "* Para una estrella variable, podrían incluir la luminosidad de la estrella, su período de variabilidad, etc.\n",
    "* Para un experimento de física de partículas, podrían incluir la taza de producción de una partícula específica.\n",
    "* Para una simulación computacional de la atmósfera, podrían incluir la presión, la temperatura, y la densidad del aire, como calculado en la simulación en ciertos puntos en la superficie de la Tierra, y en ciertos momentos.\n",
    "\n",
    "Con un conjunto de datos, podemos comenzar con el análisis. \n",
    "\n",
    "Utilizaremos de ejemplo un caso del clima, con datos de la temperatura global promedio mensual (dataset: HadCRUT4, del UK Met Office, https://crudata.uea.ac.uk/cru/data/temperature/)."
   ]
  },
  {
   "cell_type": "markdown",
   "metadata": {
    "slideshow": {
     "slide_type": "slide"
    }
   },
   "source": [
    "## Pasos principales del análisis de datos:\n",
    "\n",
    "### 1. Explorar y procesar los datos.\n",
    "### 2. Aplicar análisis\n",
    "### 3. Visualizar el resultado."
   ]
  },
  {
   "cell_type": "markdown",
   "metadata": {
    "slideshow": {
     "slide_type": "slide"
    }
   },
   "source": [
    "### 1. Exploración de los datos\n",
    "\n",
    "El primer paso es simplemente \"mirar\" a los datos (i.e. verificar el contenido del archivo de datos, hacer un gráfico simple). Es un paso importante pero frecuentemente olvidado... \n",
    "\n",
    "Nuestros cerebros son muy buenos en procesar información visual, por lo tanto una imágen visual de los datos puede otorgar información útil inmediatemente. Podemos ver inmediatemente si hay distintos grupos de datos, o valores que son muy diferentes de los demás.\n",
    "\n",
    "Por ejemplo, si tenemos observaciones de estrellas variables, y graficamos sus masas y sus períodos, quizás veremos uno o dos puntos que están muy lejos del resto del grupo:\n",
    "\n",
    "![](clase2_imagenes_datos/outlier.png)\n"
   ]
  },
  {
   "cell_type": "markdown",
   "metadata": {
    "slideshow": {
     "slide_type": "slide"
    }
   },
   "source": [
    "Puntos como eso se llaman *outliers* en inglés.\n",
    "\n",
    "Podría ser que los datos tienen un error, o podría ser algo nuevo y interesante..."
   ]
  },
  {
   "cell_type": "markdown",
   "metadata": {
    "slideshow": {
     "slide_type": "slide"
    }
   },
   "source": [
    "Consideremos un ejemplo. Tenemos un archivo de texto que contiene información del promedio global de la temperatura. Podemos leer las primeras 10 líneas del archivo con \"head\":"
   ]
  },
  {
   "cell_type": "code",
   "execution_count": 2,
   "metadata": {
    "slideshow": {
     "slide_type": "slide"
    }
   },
   "outputs": [],
   "source": [
    "!head clase2_imagenes_datos/HadCRUT.4.6.0.0.monthly_ns_avg_mod.txt"
   ]
  },
  {
   "cell_type": "markdown",
   "metadata": {
    "slideshow": {
     "slide_type": "fragment"
    }
   },
   "source": [
    "Por simplicidad, el archivo de datos que viene de la página web ya está reducido.\n",
    "\n",
    "Aquí tenemos 3 columnas, la primera es el año, la segunda es el mes, y la tercera es la *anomalía en la tempertura promedia* (diferencia comparada con el promedio de los años 1961-1990)."
   ]
  },
  {
   "cell_type": "code",
   "execution_count": 3,
   "metadata": {
    "slideshow": {
     "slide_type": "slide"
    }
   },
   "outputs": [],
   "source": [
    "!cat clase2_imagenes_datos/HadCRUT.4.6.0.0.monthly_ns_avg_mod.txt"
   ]
  },
  {
   "cell_type": "markdown",
   "metadata": {
    "slideshow": {
     "slide_type": "slide"
    }
   },
   "source": [
    "Parece que no hay datos faltantes, ni valores muy grandes ni muy pequeños: los datos se ven \"normal\"...\n",
    "\n",
    "Ahora cargamos los datos en Python, y hacemos un gráfico simple:"
   ]
  },
  {
   "cell_type": "code",
   "execution_count": 4,
   "metadata": {
    "slideshow": {
     "slide_type": "fragment"
    }
   },
   "outputs": [],
   "source": [
    "datos = loadtxt(\"clase2_imagenes_datos/HadCRUT.4.6.0.0.monthly_ns_avg_mod.txt\")\n",
    "plot(datos[:,2])"
   ]
  },
  {
   "cell_type": "markdown",
   "metadata": {
    "slideshow": {
     "slide_type": "slide"
    }
   },
   "source": [
    "Hay una tendencia creciente, pero los datos todavía no están en el formato que necesitamos. Queremos eliminar las variaciones estacionales ya que los datos son mensuales. Así que queremos ver los promedios anuales, y necesitamos procesar los datos más."
   ]
  },
  {
   "cell_type": "code",
   "execution_count": 5,
   "metadata": {
    "slideshow": {
     "slide_type": "fragment"
    }
   },
   "outputs": [],
   "source": [
    "# Seleccionamos los años únicos con la función \"unique\":\n",
    "a = unique(datos[:,0])"
   ]
  },
  {
   "cell_type": "code",
   "execution_count": 6,
   "metadata": {
    "slideshow": {
     "slide_type": "fragment"
    }
   },
   "outputs": [],
   "source": [
    "promedio = []\n",
    "for an in a:\n",
    "    seleccion = (datos[:,0] == an)\n",
    "    promedio.append( mean(datos[seleccion,2]) )\n",
    "promedio = array(promedio)"
   ]
  },
  {
   "cell_type": "code",
   "execution_count": 7,
   "metadata": {
    "slideshow": {
     "slide_type": "slide"
    }
   },
   "outputs": [],
   "source": [
    "plot(a,promedio)\n",
    "xlabel(\"Años\")\n",
    "ylabel(\"Anomalía de temperatura\")"
   ]
  },
  {
   "cell_type": "markdown",
   "metadata": {
    "slideshow": {
     "slide_type": "slide"
    }
   },
   "source": [
    "### 2. Aplicar análisis\n",
    "\n",
    "Análisis de datos muchas veces significa un análisis *estadística*. Ejemplos simples son el valor promedio de un parámetro y algo que se llama la *desviación estandar* de un parámetro. \n",
    "\n",
    "Es muy importante tener conocimiento de la estadística para trabajar con datos! Hay un curso en el Semestre VI sobre la estadística. "
   ]
  },
  {
   "cell_type": "markdown",
   "metadata": {
    "slideshow": {
     "slide_type": "slide"
    }
   },
   "source": [
    "**La desviación estandar**: es una medición de cuánto varía una variable. Si vemos a una parte del gráfico de temperatura donde los valores son más o menos \"estables\", vemos que hay desviaciones pequeñas de los valores.\n",
    "\n",
    "La desviación estandar es una cuantificación del tamaño de las desviaciones del valor promedio. \n",
    "\n",
    "La variación de un valor está asociada a la \"distribución\" del valor. Para muchas variables en la naturaleza la distribución es \"gausiana\" o \"normal\". Por ejemplo, la distribución de las alturas en una población de personas es típicamente una gausiana: \n",
    "\n",
    "![](clase2_imagenes_datos/gaussian.png)"
   ]
  },
  {
   "cell_type": "markdown",
   "metadata": {
    "slideshow": {
     "slide_type": "slide"
    }
   },
   "source": [
    "Este gráfico dice que la mayoría de la población tiene una altura promedia (obviamente), y muy pocas personas son extremadamente alto o extremadamente corto. \n",
    "\n",
    "Este tipo de función también se llama una *función de densidad de probabilidad* (PDF, por sus siglas en inglés). Esta función da la probabilidad que una variable toma valores dentro de un cierto rango. La PDF gausiana tiene dos parámetros: el promedio de la distribución, y la *desviación estandar*. \n",
    "\n",
    "![](clase2_imagenes_datos/standard_deviation.png)"
   ]
  },
  {
   "cell_type": "markdown",
   "metadata": {
    "slideshow": {
     "slide_type": "slide"
    }
   },
   "source": [
    "La desviación estandar determina el \"ancho\" de la distribución. Específicamente, incluye aproximadamente $68\\%$ del área bajo la curva. Este significa que $68\\%$ de los valores medidos deberían estar dentro de $1$ desviación estandar del valor promedio."
   ]
  },
  {
   "cell_type": "markdown",
   "metadata": {
    "slideshow": {
     "slide_type": "fragment"
    }
   },
   "source": [
    "Para las temperaturas, en la época de temperaturas estables, podemos aproximar que las anomalías están distribuidas según la distribución gausiana.\n",
    "\n",
    "Es un hecho matemático que la combinación de errores en mediciones, variabilidad natural, etc. tenderán a causar que las variables tengan una distribución gausiana."
   ]
  },
  {
   "cell_type": "markdown",
   "metadata": {
    "slideshow": {
     "slide_type": "fragment"
    }
   },
   "source": [
    "Una desviación mayor que $1$ desviación estandar puede occurir en $32\\%$ de los casos (para una distribución gausiana). Una anomalía mayor que $2$ desviaciones estandares puede occurrir en sólo $5\\%$ de los casos. Algo mayor que $3$ desviaciones estandares tiene una probabilidad de solamente $0.4\\%$."
   ]
  },
  {
   "cell_type": "markdown",
   "metadata": {
    "slideshow": {
     "slide_type": "slide"
    }
   },
   "source": [
    "#### Análisis estadística de las temperaturas\n",
    "\n",
    "Calculamos el valor de la desviación estandar para la época $1961-1990$."
   ]
  },
  {
   "cell_type": "code",
   "execution_count": 8,
   "metadata": {
    "slideshow": {
     "slide_type": "fragment"
    }
   },
   "outputs": [],
   "source": [
    "# Convertimos el arreglo de años de \"float\" a \"int\"\n",
    "a = array(a,int)"
   ]
  },
  {
   "cell_type": "code",
   "execution_count": 9,
   "metadata": {
    "slideshow": {
     "slide_type": "fragment"
    }
   },
   "outputs": [],
   "source": [
    "# Creamos un arreglo para elegir solamente las anomalías anuales para el\n",
    "# período 1961-1990\n",
    "seleccion = ((a <= 1990) & (a >= 1961))"
   ]
  },
  {
   "cell_type": "markdown",
   "metadata": {
    "slideshow": {
     "slide_type": "slide"
    }
   },
   "source": [
    "La función **std** de NumPy calcula la desviación estandar de un conjunto de datos."
   ]
  },
  {
   "cell_type": "code",
   "execution_count": 10,
   "metadata": {
    "slideshow": {
     "slide_type": "fragment"
    }
   },
   "outputs": [],
   "source": [
    "std(promedio[seleccion])"
   ]
  },
  {
   "cell_type": "markdown",
   "metadata": {
    "slideshow": {
     "slide_type": "slide"
    }
   },
   "source": [
    "Entonces, una anomalía anual de valor absoluto mayor que $\\sim 0.132$ sería una anomalía mayor que $1$ desviación estandar.\n",
    "\n",
    "Ahora calculamos los valores absolutos de las anomalías a partir del año 2000."
   ]
  },
  {
   "cell_type": "code",
   "execution_count": 11,
   "metadata": {
    "slideshow": {
     "slide_type": "fragment"
    }
   },
   "outputs": [],
   "source": [
    "seleccion = (a >= 2000)\n",
    "abs(promedio[seleccion])/0.132"
   ]
  },
  {
   "cell_type": "markdown",
   "metadata": {
    "slideshow": {
     "slide_type": "fragment"
    }
   },
   "source": [
    "Las anomalías a partir del año 2000 son mayor que $2$ desviaciones estandares, y algunas son mayor que $5$!\n",
    "\n",
    "Estas anomalías son tan improbable que no pueden ser variabilidad natural, aunque tenemos que tener en mente las suposiciones de nuestro análisis (por ejemplo, que el período $1961-1990$ es \"estable\")."
   ]
  },
  {
   "cell_type": "markdown",
   "metadata": {
    "slideshow": {
     "slide_type": "slide"
    }
   },
   "source": [
    "### 3. Visualizar los resultados\n",
    "\n",
    "Graficamos el valor absoluto de las anomalías a partir del año 1961, con una línea que indica $1$ desviación estandar del valor promedio de las anomalías en el período $1961-1990$."
   ]
  },
  {
   "cell_type": "code",
   "execution_count": 12,
   "metadata": {
    "slideshow": {
     "slide_type": "slide"
    }
   },
   "outputs": [],
   "source": [
    "seleccion = (a >= 1961)\n",
    "plot(a[seleccion],abs(promedio[seleccion]))\n",
    "plot([1961,2018],[0.132,0.132],'r-')"
   ]
  },
  {
   "cell_type": "markdown",
   "metadata": {
    "slideshow": {
     "slide_type": "fragment"
    }
   },
   "source": [
    "Con este gráfico podemos ver claramente que las anomalías de temperatura en los últimos $20$ años son mucho mayor que $1$ desviación estandar.\n",
    "\n",
    "La visualización es una parte muy importante del análisis de datos. Ayuda con la comunicación del resultado.\n",
    "\n",
    "Así, otros investigadores pueden entender rápidamente nuestras conclusiones y sobre que base llegamos a ellas, y puedan verificar nuestros resultados."
   ]
  },
  {
   "cell_type": "markdown",
   "metadata": {
    "slideshow": {
     "slide_type": "slide"
    }
   },
   "source": [
    "## Herramientas para análisis de datos\n",
    "\n",
    "El trabajo de análisis de datos es lo que los astrónomos, los físicos experimentales, los meteorólogos, hacen *todo el tiempo*.\n",
    "\n",
    "Hoy en día, tenemos muchas herramientas computacionales para este tipo de análisis.\n",
    "\n",
    "En Python hay varios módulos útiles para análisis de datos:\n",
    "\n",
    "* NumPy - Numerical Python (Python numérico)\n",
    "* SciPy - Scientific Python (Python científico)\n",
    "* matplotlib - Gráficos en Python\n",
    "* pandas - Módulo para análisis de datos\n",
    "* scikit-learn - Módulo para *machine learning* en Python"
   ]
  },
  {
   "cell_type": "markdown",
   "metadata": {
    "slideshow": {
     "slide_type": "slide"
    }
   },
   "source": [
    "#### SciPy\n",
    "\n",
    "https://www.scipy.org/\n",
    "\n",
    "\n",
    "![](clase2_imagenes_datos/scipy.png)"
   ]
  },
  {
   "cell_type": "markdown",
   "metadata": {
    "slideshow": {
     "slide_type": "slide"
    }
   },
   "source": [
    "![](clase2_imagenes_datos/sympy_logo_small.png)"
   ]
  },
  {
   "cell_type": "code",
   "execution_count": 13,
   "metadata": {
    "slideshow": {
     "slide_type": "slide"
    }
   },
   "outputs": [],
   "source": [
    "from sympy import *\n",
    "init_printing()\n",
    "\n",
    "x, y, z = symbols('x y z')"
   ]
  },
  {
   "cell_type": "code",
   "execution_count": 14,
   "metadata": {
    "slideshow": {
     "slide_type": "fragment"
    }
   },
   "outputs": [],
   "source": [
    "diff(cos(x),x)"
   ]
  },
  {
   "cell_type": "code",
   "execution_count": 15,
   "metadata": {
    "slideshow": {
     "slide_type": "fragment"
    }
   },
   "outputs": [],
   "source": [
    "expr = x/(1+x**2)\n",
    "expr"
   ]
  },
  {
   "cell_type": "code",
   "execution_count": 16,
   "metadata": {
    "slideshow": {
     "slide_type": "fragment"
    }
   },
   "outputs": [],
   "source": [
    "integrate(expr,x)"
   ]
  },
  {
   "cell_type": "code",
   "execution_count": 17,
   "metadata": {
    "slideshow": {
     "slide_type": "skip"
    }
   },
   "outputs": [],
   "source": [
    "init_printing(pretty_print=False)"
   ]
  },
  {
   "cell_type": "markdown",
   "metadata": {
    "slideshow": {
     "slide_type": "slide"
    }
   },
   "source": [
    "![](clase2_imagenes_datos/pandas.png)"
   ]
  },
  {
   "cell_type": "code",
   "execution_count": 18,
   "metadata": {
    "slideshow": {
     "slide_type": "slide"
    }
   },
   "outputs": [],
   "source": [
    "import pandas as pd\n",
    "\n",
    "!head clase2_imagenes_datos/Shapley_galaxy.dat"
   ]
  },
  {
   "cell_type": "code",
   "execution_count": 19,
   "metadata": {
    "slideshow": {
     "slide_type": "slide"
    }
   },
   "outputs": [],
   "source": [
    "datos = pd.read_csv(\"clase2_imagenes_datos/Shapley_galaxy.dat\",delim_whitespace=True)\n",
    "datos.head()"
   ]
  },
  {
   "cell_type": "code",
   "execution_count": 20,
   "metadata": {
    "slideshow": {
     "slide_type": "slide"
    }
   },
   "outputs": [],
   "source": [
    "datos.describe()"
   ]
  },
  {
   "cell_type": "code",
   "execution_count": 21,
   "metadata": {
    "slideshow": {
     "slide_type": "slide"
    }
   },
   "outputs": [],
   "source": [
    "from pandas.plotting import scatter_matrix\n",
    "\n",
    "plots = scatter_matrix(datos)"
   ]
  },
  {
   "cell_type": "markdown",
   "metadata": {
    "slideshow": {
     "slide_type": "slide"
    }
   },
   "source": [
    "![](clase2_imagenes_datos/scikit_learn.png)"
   ]
  },
  {
   "cell_type": "code",
   "execution_count": 22,
   "metadata": {
    "slideshow": {
     "slide_type": "slide"
    }
   },
   "outputs": [],
   "source": [
    "from sklearn import datasets, svm, metrics\n",
    "\n",
    "digitos = datasets.load_digits()"
   ]
  },
  {
   "cell_type": "code",
   "execution_count": 23,
   "metadata": {
    "slideshow": {
     "slide_type": "fragment"
    }
   },
   "outputs": [],
   "source": [
    "imagenes_y_etiquetas = list(zip(digitos.images, digitos.target))\n",
    "for index, (image, label) in enumerate(imagenes_y_etiquetas[:10]):\n",
    "    subplot(3, 4, index + 1)\n",
    "    axis('off')\n",
    "    imshow(image, cmap=cm.gray_r, interpolation='nearest')\n",
    "    title('%i' % label)"
   ]
  },
  {
   "cell_type": "code",
   "execution_count": 24,
   "metadata": {
    "slideshow": {
     "slide_type": "slide"
    }
   },
   "outputs": [],
   "source": [
    "n_muestras = len(digitos.images)\n",
    "datos = digitos.images.reshape((n_muestras, -1))"
   ]
  },
  {
   "cell_type": "code",
   "execution_count": 25,
   "metadata": {
    "slideshow": {
     "slide_type": "slide"
    }
   },
   "outputs": [],
   "source": [
    "# Usamos un algoritmo de machine learning que se llama \n",
    "# \"support vector machine\"\n",
    "clasificador = svm.SVC(gamma=0.001)"
   ]
  },
  {
   "cell_type": "code",
   "execution_count": 26,
   "metadata": {
    "slideshow": {
     "slide_type": "fragment"
    }
   },
   "outputs": [],
   "source": [
    "# Usamos la mitad de los digitos para \"entrenar\" el algoritmo\n",
    "clasificador.fit(datos[:n_muestras // 2], digitos.target[:n_muestras // 2])"
   ]
  },
  {
   "cell_type": "code",
   "execution_count": 27,
   "metadata": {
    "slideshow": {
     "slide_type": "slide"
    }
   },
   "outputs": [],
   "source": [
    "# Predecimos los valores de la otra mitad de los digitos\n",
    "esperado = digitos.target[n_muestras // 2:]\n",
    "predicho = clasificador.predict(datos[n_muestras // 2:])"
   ]
  },
  {
   "cell_type": "code",
   "execution_count": 28,
   "metadata": {
    "slideshow": {
     "slide_type": "fragment"
    }
   },
   "outputs": [],
   "source": [
    "imagenes_y_predicciones = list(zip(digitos.images[n_muestras // 2:], predicho))\n",
    "for index, (image, prediction) in enumerate(imagenes_y_predicciones[:4]):\n",
    "    subplot(2, 4, index + 5)\n",
    "    axis('off')\n",
    "    imshow(image, cmap=cm.gray_r, interpolation='nearest')\n",
    "    title('Predicción: %i' % prediction)"
   ]
  },
  {
   "cell_type": "markdown",
   "metadata": {
    "slideshow": {
     "slide_type": "slide"
    }
   },
   "source": [
    "![](clase2_imagenes_datos/keras_tensorflow.jpeg)\n",
    "\n",
    "Módulos para *machine learning*, diseñados para optimizar y evaluar expresiones matemáticas con arreglos. También aprovechan de los GPUs para acelerar el algoritmo."
   ]
  },
  {
   "cell_type": "markdown",
   "metadata": {
    "slideshow": {
     "slide_type": "slide"
    }
   },
   "source": [
    "<img style=\"float: center;\" src=\"clase2_imagenes_datos/pytorch.png \" alt=\"alt text\" width=\"300\" height=\"300\" class=\"blog-image\">\n",
    "\n",
    "Otro módulo, un poco más moderno que TensorFlow, para *machine learning* con redes neuronales artificiales."
   ]
  },
  {
   "cell_type": "markdown",
   "metadata": {
    "slideshow": {
     "slide_type": "slide"
    }
   },
   "source": [
    "## Datos masivos\n",
    "\n",
    "Vimos antes que hoy en día tenemos muchos datos disponibles, pero demasiado para hacer un análisis \"tradicional\", como lo que hicimos arriba.\n",
    "\n",
    "Necesitamos nuevas técnicas de extracción, almacenamiento y análisis de datos. El desarrollo y aplicación de estas técnicas es una ciencia nueva que se llama *ciencia de datos*."
   ]
  },
  {
   "cell_type": "markdown",
   "metadata": {
    "slideshow": {
     "slide_type": "slide"
    }
   },
   "source": [
    "### Bases de datos\n",
    "\n",
    "Uno de los desafíos grandes en ciencia de datos es cómo almacenar y procesar los datos.\n",
    "\n",
    "Un ejemplo es el nuevo telescopio el LSST.\n",
    "\n",
    "![](clase2_imagenes_datos/lsst.jpg)"
   ]
  },
  {
   "cell_type": "markdown",
   "metadata": {
    "slideshow": {
     "slide_type": "slide"
    }
   },
   "source": [
    "* $\\sim 15$ TB de datos por noche.\n",
    "* No es factible tener todos estos datos en formato *raw* en un servidor.\n",
    "* Por ejemplo, si quiero usar solamente los datos de estrellas variables, quiero buscar y descargar solamente esos datos, y no todos."
   ]
  },
  {
   "cell_type": "markdown",
   "metadata": {
    "slideshow": {
     "slide_type": "slide"
    }
   },
   "source": [
    "Por lo tanto, es muy importante construir una *base de datos* que guarda los datos en una forma estructurada y accesible.\n",
    "\n",
    "Hay equipos que trabajan en la colaboración del LSST que están diseñando esta base de datos, y la infraestructura necesaria para facilitarla (servidores, conexiones, etc.)"
   ]
  },
  {
   "cell_type": "markdown",
   "metadata": {
    "slideshow": {
     "slide_type": "fragment"
    }
   },
   "source": [
    "Hay otros ejemplos del uso de bases de datos:\n",
    "\n",
    "* Simulaciones cosmológicas modernas generan muchos datos que necesitan organización.\n",
    "* Experimentos en la física de partículas (por ejemplo, el LHC) también generan muchos datos.\n",
    "\n",
    "Por lo tanto, para los científicos modernos es muy importante tener conocimiento del diseño y operación de las bases de datos."
   ]
  },
  {
   "cell_type": "markdown",
   "metadata": {
    "slideshow": {
     "slide_type": "slide"
    }
   },
   "source": [
    "### Los tipos de bases de datos\n",
    "\n",
    "* Relacionales: los datos están organizados en tablas, que tiene relaciones entre ellas. Este tipo es el más común y tradicional.\n",
    "\n",
    "![](clase2_imagenes_datos/relational_database_small.png)"
   ]
  },
  {
   "cell_type": "markdown",
   "metadata": {
    "slideshow": {
     "slide_type": "slide"
    }
   },
   "source": [
    "* No-relacional: bases de datos distribuidas, almacen de documentos, bases de datos gráficas, pares de valores-claves\n",
    "\n",
    "![](clase2_imagenes_datos/non_relational.jpg)"
   ]
  },
  {
   "cell_type": "markdown",
   "metadata": {
    "slideshow": {
     "slide_type": "slide"
    }
   },
   "source": [
    "#### Bases de datos relacionales\n",
    "\n",
    "Se puede \"interactuar\" con muchas bases de datos utilizando un lenguaje que se llama *SQL* (Structured Query Language). **No** es un lenguaje de programación, sino un lenguaje especializado para el uso de bases de datos.\n",
    "\n",
    "* Los datos en una base de datos relacional están organizados en tablas (que a veces se llaman \"relaciones\") con columnas y filas.\n",
    "* Las columnas corresponden a las atributas de los datos, mientra las filas son los registros."
   ]
  },
  {
   "cell_type": "markdown",
   "metadata": {
    "slideshow": {
     "slide_type": "slide"
    }
   },
   "source": [
    "Ejemplo: un catálogo de estrellas (filas), con coordenadas, tipo espectral, luminosidad, etc. (columnas):\n",
    "\n",
    "Tabla: estrellas\n",
    "\n",
    "![](clase2_imagenes_datos/catalogue.png)"
   ]
  },
  {
   "cell_type": "markdown",
   "metadata": {
    "slideshow": {
     "slide_type": "slide"
    }
   },
   "source": [
    "El punto importante es que cada fila tiene un número de identificación, o una clave.\n",
    "\n",
    "Entonces, quizás tenemos otra tabla sobre estrellas variables, con atributas (columnas) acerca de la variación en magnitud, tipo de estrella variable, etc. Cada estrella en esa tabla también tendrá un número de identificación:\n",
    "\n",
    "Tabla: estrellas_variables\n",
    "\n",
    "| ID  | Nombre      | Mag. max.  | Mag. min. | Tipo               |\n",
    "|-----|-------------|------------|-----------|--------------------|\n",
    "| 9   | Betelgeuse  |  0.0       |    1.3    | Supergigante rojo  |\n",
    "| 60  | Algol       |  2.1       |    3.4    | Binaria eclipsante |\n",
    "| 61  | Eta Carinae | -0.8       |    7.9    | Variable LBV       |\n",
    "\n",
    "Así que podemos relacionar las dos tablas por coincidencia de los números de identificación.\n",
    "\n",
    "En esta manera podemos combinar la información de muchas tablas para encontrar lo que necesitamos."
   ]
  },
  {
   "cell_type": "markdown",
   "metadata": {
    "slideshow": {
     "slide_type": "slide"
    }
   },
   "source": [
    "#### Acceso remoto\n",
    "\n",
    "En el caso de los datos masivos del LSST, por ejemplo, las tablas que contienen la información de las observaciones van a estar en un servidor (o varios). Un astrónomo que quiere usar los datos puede enviar una solicitud al servidor (escrito en *SQL*) y el servidor combinará las tablas según lo que está pidiendo. Finalmente enviará la tabla resultante al usuario."
   ]
  },
  {
   "cell_type": "markdown",
   "metadata": {
    "slideshow": {
     "slide_type": "slide"
    }
   },
   "source": [
    "![](clase2_imagenes_datos/database_access.png)"
   ]
  },
  {
   "cell_type": "markdown",
   "metadata": {
    "slideshow": {
     "slide_type": "slide"
    }
   },
   "source": [
    "#### SQL\n",
    "\n",
    "Ahora veremos algunos ejemplos del uso de SQL para acceder información en una base de datos relacional. Primero, veremos algunos de los comandos básicos:\n",
    "\n",
    "* SELECT (seleccionar): para elegir datos de una tabla\n",
    "* WHERE (donde): para aplicar un filtro\n",
    "* JOIN (unir): para combinar las filas de varias tablas"
   ]
  },
  {
   "cell_type": "markdown",
   "metadata": {
    "slideshow": {
     "slide_type": "slide"
    }
   },
   "source": [
    "Hay distintos tipos de JOIN:\n",
    "\n",
    "* INNER JOIN (unir internamente): solamente las filas que coinciden entre las tablas\n",
    "* LEFT JOIN (unir a la izquierda): todas las filas de la tabla a la izquierda, y solamente las que coinciden en la tabla a la derecha\n",
    "* RIGHT JOIN (unir a la derecha): opuesto de LEFT JOIN\n",
    "* OUTER JOIN (unir externamente): usar todas las filas de las dos tablas si hay coincidencia\n",
    "\n",
    "![](clase2_imagenes_datos/joins.png)"
   ]
  },
  {
   "cell_type": "markdown",
   "metadata": {
    "slideshow": {
     "slide_type": "slide"
    }
   },
   "source": [
    "Un ejemplo con las tablas de estrellas:\n",
    "\n",
    "```SELECT estrellas.nombre, estrellas.mass, estrellas_variables.tipo\n",
    "FROM estrellas\n",
    "INNER JOIN estrellas_variables ON estrellas.Rank=estrellas_variables.ID```"
   ]
  },
  {
   "cell_type": "markdown",
   "metadata": {
    "slideshow": {
     "slide_type": "slide"
    }
   },
   "source": [
    "Estos comandos crearán otra tabla que contiene solamente los nombre, tipos y masas de las estrellas que coinciden en su valor de \"rank\" de la tabla *estrellas* y de su valor de \"ID\" de la tabla *estrellas_variables*:\n",
    "\n",
    "| Nombre      | Mass             | Tipo               |\n",
    "|-------------|------------------|--------------------|\n",
    "| Betelgeuse  |  18              | Supergigante rojo  |\n",
    "| Algol       |  3.2 (primaria)  | Binaria eclipsante |\n",
    "| Eta Carinae |  100-200         | Variable LBV       |"
   ]
  },
  {
   "cell_type": "markdown",
   "metadata": {
    "slideshow": {
     "slide_type": "slide"
    }
   },
   "source": [
    "Si la tabla arriba se llama *estrellas_var_masas*, podemos aplicar un filtro con WHERE:\n",
    "\n",
    "```SELECT estrellas_var_masas.nombre, estrellas_var_masas.tipo\n",
    "FROM estrellas_var_masas\n",
    "WHERE estrellas_var_masas > 10```"
   ]
  },
  {
   "cell_type": "markdown",
   "metadata": {
    "slideshow": {
     "slide_type": "slide"
    }
   },
   "source": [
    "Con este comando tenemos la siguiente tabla con sólo una fila:\n",
    "\n",
    "| Nombre      | Tipo               |\n",
    "|-------------|--------------------|\n",
    "| Betelgeuse  | Supergigante rojo  |"
   ]
  },
  {
   "cell_type": "markdown",
   "metadata": {
    "slideshow": {
     "slide_type": "slide"
    }
   },
   "source": [
    "#### Bases de datos no-relacionales\n",
    "\n",
    "* Bases de datos sin mucha estructura\n",
    "* No hay una forma \"estandar\" de estos tipos de bases de datos\n",
    "* Para aplicaciones en el Internet, este tipo es más común ya que la información es muy dinámica, y cambia rápidamente\n",
    "* También se usa este tipo si la información está distribuida en la red"
   ]
  },
  {
   "cell_type": "markdown",
   "metadata": {
    "slideshow": {
     "slide_type": "slide"
    }
   },
   "source": [
    "#### Bases de datos en la astronomía\n",
    "\n",
    "Se puede acceder a muchos bases de datos astronómicas directamente de Python por el uso del módulo **astroquery** que es parte de **astropy**, un módulo de funciones útiles para la astronomía.\n",
    "\n",
    "![](clase2_imagenes_datos/astropy.png)\n",
    "\n",
    "http://www.astropy.org/\n",
    "\n",
    "https://astroquery.readthedocs.io/en/latest/"
   ]
  },
  {
   "cell_type": "markdown",
   "metadata": {
    "collapsed": true,
    "slideshow": {
     "slide_type": "slide"
    }
   },
   "source": [
    "## Análisis de datos masivos\n",
    "\n",
    "Obtener los datos es el primer paso. El segundo es hacer el análisis! Vimos el ejemplo antes de temperaturas promedias. Ahora veremos un ejemplo que muestra las dificultades en trabajar con datos **masivos**."
   ]
  },
  {
   "cell_type": "markdown",
   "metadata": {
    "slideshow": {
     "slide_type": "slide"
    }
   },
   "source": [
    "#### Ejemplo: datos (imágenes) de pulsares\n",
    "\n",
    "![](clase2_imagenes_datos/neutron_star.jpg)"
   ]
  },
  {
   "cell_type": "markdown",
   "metadata": {
    "slideshow": {
     "slide_type": "slide"
    }
   },
   "source": [
    "Un púlsar es una estrella de neutrones con una rotación muy rápida que emite en la longitud de onda de radio.\n",
    "\n",
    "Suponemos que tenemos varias imagenes de pulsares.\n",
    "\n",
    "* Podemos cargar la imágen a un arreglo, como vimos antes.\n",
    "* Así que, tendremos los arreglos `imagen1`, `imagen2`, etc."
   ]
  },
  {
   "cell_type": "code",
   "execution_count": 29,
   "metadata": {
    "slideshow": {
     "slide_type": "slide"
    }
   },
   "outputs": [],
   "source": [
    "imagen1 = load(\"clase2_imagenes_datos/pulsars/image1.npy\")\n",
    "imagen6 = load(\"clase2_imagenes_datos/pulsars/image6.npy\")\n",
    "\n",
    "imshow(imagen1)"
   ]
  },
  {
   "cell_type": "code",
   "execution_count": 30,
   "metadata": {
    "slideshow": {
     "slide_type": "slide"
    }
   },
   "outputs": [],
   "source": [
    "imshow(imagen6)"
   ]
  },
  {
   "cell_type": "code",
   "execution_count": 31,
   "metadata": {
    "slideshow": {
     "slide_type": "skip"
    }
   },
   "outputs": [],
   "source": [
    "type(imagen1)"
   ]
  },
  {
   "cell_type": "markdown",
   "metadata": {
    "slideshow": {
     "slide_type": "slide"
    }
   },
   "source": [
    "Los datos de cada imágen están en arreglos de NumPy. Si las imágenes tienen una resolución de $200 \\times 200$, vamos a tener arreglos de $200 \\times 200 = 40000$ elementos."
   ]
  },
  {
   "cell_type": "code",
   "execution_count": 32,
   "metadata": {
    "slideshow": {
     "slide_type": "skip"
    }
   },
   "outputs": [],
   "source": [
    "imagen1.shape"
   ]
  },
  {
   "cell_type": "markdown",
   "metadata": {
    "slideshow": {
     "slide_type": "fragment"
    }
   },
   "source": [
    "Tenemos $10$ imagenes, así que cargamos todas las imagenes en un arreglos de $3$ dimensiones: $200 \\times 200 \\times 10 = 400000$ elementos."
   ]
  },
  {
   "cell_type": "code",
   "execution_count": 33,
   "metadata": {
    "slideshow": {
     "slide_type": "fragment"
    }
   },
   "outputs": [],
   "source": [
    "imagenes = np.zeros((200,200,10))\n",
    "for i in range(1,10+1):\n",
    "    imagenes[:,:,i-1] = load(\"clase2_imagenes_datos/pulsars/image\"+str(i)+\".npy\")"
   ]
  },
  {
   "cell_type": "code",
   "execution_count": 34,
   "metadata": {
    "slideshow": {
     "slide_type": "fragment"
    }
   },
   "outputs": [],
   "source": [
    "imagenes.shape"
   ]
  },
  {
   "cell_type": "markdown",
   "metadata": {
    "slideshow": {
     "slide_type": "slide"
    }
   },
   "source": [
    "#### Combinando las imagenes\n",
    "\n",
    "<img style=\"float: right;\" src=\"clase2_imagenes_datos/pulsar_image1.png\">\n",
    "\n",
    "No se va nada en las imagenes! Solo \"ruido\"! \n",
    "\n",
    "En cada pixel hay un \"error\" (ruido térmico en el detector, etc.). \n",
    "\n",
    "Hay un señal, pero está muy cerca a los valores de ruido en las imagenes, así que no vemos nada."
   ]
  },
  {
   "cell_type": "markdown",
   "metadata": {
    "slideshow": {
     "slide_type": "slide"
    }
   },
   "source": [
    "Suponemos que los errores tienen una distribución gausiana, que es muy probable.\n",
    "\n",
    "De hecho, podemos investigar si es así o no. Usamos la función **histogram** para calcular la frecuencia de ocurrencia de valores:"
   ]
  },
  {
   "cell_type": "code",
   "execution_count": 35,
   "metadata": {
    "slideshow": {
     "slide_type": "fragment"
    }
   },
   "outputs": [],
   "source": [
    "from scipy import stats\n",
    "h, bins = histogram(imagenes.flatten(), density=True)\n",
    "centros = 0.5*(bins[1:] + bins[:-1])\n",
    "\n",
    "pdf = stats.norm.pdf(centros,loc=5.0)\n",
    "scatter(centros, h)\n",
    "scatter(centros, pdf)"
   ]
  },
  {
   "cell_type": "markdown",
   "metadata": {
    "slideshow": {
     "slide_type": "slide"
    }
   },
   "source": [
    "Del gráfico anterior, parece que los valores en los pixeles de las imagenes están distribuidas según la distribución gausiana, con valor promedio de $5$. Este valor corresponde al valor de fondo del instrumento (lo que detecta el telescopio de un cielo oscuro).\n",
    "\n",
    "¿Por qué es útil saber que los \"errores\" tienen una distribución gausiana? Porque ahora podemos sumar toda las imagenes, y los errores se van a *cancelar* (estadísticamente)! De hecho, calculamos el valor *promedio* de cada pixel."
   ]
  },
  {
   "cell_type": "code",
   "execution_count": 36,
   "metadata": {
    "slideshow": {
     "slide_type": "slide"
    }
   },
   "outputs": [],
   "source": [
    "imagen_resultante = mean(imagenes,axis=2)\n",
    "\n",
    "imshow(imagen_resultante)"
   ]
  },
  {
   "cell_type": "markdown",
   "metadata": {
    "slideshow": {
     "slide_type": "fragment"
    }
   },
   "source": [
    "Ahora podemos ver un puntito en el medio que es la detección (estadística) de un púlsar!"
   ]
  },
  {
   "cell_type": "markdown",
   "metadata": {
    "slideshow": {
     "slide_type": "slide"
    }
   },
   "source": [
    "#### Otro análisis: usando el mediano\n",
    "\n",
    "Esta operación de combinar imagenes es algo muy común en la astronomía. Se llama *stacking* (apilado).\n",
    "\n",
    "Para calcular el valor promedio de los pixeles, no era necesario cargar *todas* las imagenes.\n",
    "\n",
    "Otra manera de hacerlo es la siguiente:"
   ]
  },
  {
   "cell_type": "code",
   "execution_count": 37,
   "metadata": {
    "slideshow": {
     "slide_type": "fragment"
    }
   },
   "outputs": [],
   "source": [
    "imagen_resultante = np.zeros((200,200))\n",
    "for i in range(1,10+1):\n",
    "    imagen_resultante += load(\"clase2_imagenes_datos/pulsars/image\"+str(i)+\".npy\")\n",
    "imagen_resultante /= 10"
   ]
  },
  {
   "cell_type": "code",
   "execution_count": 38,
   "metadata": {
    "slideshow": {
     "slide_type": "slide"
    }
   },
   "outputs": [],
   "source": [
    "imshow(imagen_resultante)"
   ]
  },
  {
   "cell_type": "markdown",
   "metadata": {
    "slideshow": {
     "slide_type": "fragment"
    }
   },
   "source": [
    "Llegamos al mismo resultado, pero estamos guardando solamente $2$ arreglos en la memoría a la vez: el arreglo `imagen_resultante` y el arreglo del imágen actual en cada iteración del ciclo."
   ]
  },
  {
   "cell_type": "markdown",
   "metadata": {
    "slideshow": {
     "slide_type": "slide"
    }
   },
   "source": [
    "Un problema con el promedio de un conjunto de variables es que es muy sensible a valores extremos (los llamados *outliers*) que vimos antes.\n",
    "\n",
    "Por lo tanto, muchas veces es mejor usar la *mediana*. La mediana es el valor que separa la distribución de valores en dos partes iguales.\n",
    "\n",
    "![](clase2_imagenes_datos/mode_median.png)"
   ]
  },
  {
   "cell_type": "code",
   "execution_count": 39,
   "metadata": {
    "slideshow": {
     "slide_type": "slide"
    }
   },
   "outputs": [],
   "source": [
    "mean(imagenes), median(imagenes)"
   ]
  },
  {
   "cell_type": "markdown",
   "metadata": {
    "slideshow": {
     "slide_type": "slide"
    }
   },
   "source": [
    "Por su definición, para calcular la mediana necesitamos tener *todos* los valores en la memoria a la vez, para organizar los datos en sus dos partes.\n",
    "\n",
    "Este puede ser problemático si tenemos muchos datos."
   ]
  },
  {
   "cell_type": "code",
   "execution_count": 40,
   "metadata": {
    "slideshow": {
     "slide_type": "fragment"
    }
   },
   "outputs": [],
   "source": [
    "type(imagenes), imagenes.dtype"
   ]
  },
  {
   "cell_type": "markdown",
   "metadata": {
    "slideshow": {
     "slide_type": "fragment"
    }
   },
   "source": [
    "Todos los valores del arreglo de imagenes son *floats* de $64$ bits. Así que la memoria necesaria para cargar todos los datos es\n",
    "\n",
    "$64 \\times 400000 = 2.56 \\times 10^7$ bits $\\sim 3.2$ MB."
   ]
  },
  {
   "cell_type": "markdown",
   "metadata": {
    "slideshow": {
     "slide_type": "fragment"
    }
   },
   "source": [
    "Pero si tenemos $1000$ imagenes, con resolución $1000 \\times 1000$, ocupará\n",
    "\n",
    "$64 \\times 1000 \\times 1000 \\times 1000 \\approx 8$ GB!"
   ]
  },
  {
   "cell_type": "markdown",
   "metadata": {
    "slideshow": {
     "slide_type": "slide"
    }
   },
   "source": [
    "Es poco práctico cargar $8$ GB de datos en un computador para calcuar la mediana.\n",
    "\n",
    "Una opción es usar un algorítmo que calcula una aproximación a la mediana que no necesita tener todos los arreglos en la memoria. Otra opción es... paralelizar el algorítmo!\n",
    "\n",
    "Podríamos dividir las imágenes en sub-imágenes, calcular la mediana de cada sub-imágen, y determinar su promedio para la imágen total. Esta opción también es una aproximación al resultado.\n",
    "\n",
    "* En el caso de analizar datos masivos, necesitamos nuevas formas de trabajar. El análisis \"hecho a mano\" que vimos al principio de la clase no sirve..."
   ]
  },
  {
   "cell_type": "markdown",
   "metadata": {
    "slideshow": {
     "slide_type": "slide"
    }
   },
   "source": [
    "# Resumen\n",
    "\n",
    "* Análisis de datos es algo que los científicos hacen todo el tiempo.\n",
    "* Las herramientas computacionales que tenemos hoy en día ayudan muchisimo en ese área.\n",
    "* El lenguaje **Python** tiene muchos módulos útiles para trabajar con datos.\n",
    "* Otro lenguaje útil para análisis estadística es **R**.\n",
    "* Con datos masivos, necesitamos una forma de organizarlos, por ejemplo con *bases de datos*.\n",
    "* También hay que procesar (limpiar) los datos de problemas, errores, etc.\n",
    "* En el análisis de datos masivos es necesario el uso de métodos nuevos (automáticos).\n",
    "* En la mención hay $2$ cursos en el área de **ciencia de datos**. Las habilidades que uno aprende en este área sirven para muchos trabajos."
   ]
  }
 ],
 "metadata": {
  "celltoolbar": "Slideshow",
  "kernelspec": {
   "display_name": "Python 3 (ipykernel)",
   "language": "python",
   "name": "python3"
  },
  "language_info": {
   "codemirror_mode": {
    "name": "ipython",
    "version": 3
   },
   "file_extension": ".py",
   "mimetype": "text/x-python",
   "name": "python",
   "nbconvert_exporter": "python",
   "pygments_lexer": "ipython3",
   "version": "3.9.6"
  }
 },
 "nbformat": 4,
 "nbformat_minor": 1
}
