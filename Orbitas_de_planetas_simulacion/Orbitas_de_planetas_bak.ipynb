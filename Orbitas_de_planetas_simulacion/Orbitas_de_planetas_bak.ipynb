{
 "cells": [
  {
   "cell_type": "code",
   "execution_count": 9,
   "metadata": {},
   "outputs": [
    {
     "name": "stdout",
     "output_type": "stream",
     "text": [
      "Populating the interactive namespace from numpy and matplotlib\n"
     ]
    }
   ],
   "source": [
    "%pylab inline"
   ]
  },
  {
   "cell_type": "markdown",
   "metadata": {},
   "source": [
    "# Órbitas de los planetas"
   ]
  },
  {
   "cell_type": "markdown",
   "metadata": {},
   "source": [
    "## Introducción\n",
    "\n",
    "Las órbitas de los planetas son elipses que cumplen con las leyes de Kepler:\n",
    "\n",
    "1. Todos los planetas se desplazan alrededor del Sol describiendo órbitas elípticas. El Sol se encuentra en uno de los focos de la elipse.\n",
    "2. El radio vector que une un planeta y el Sol recorre áreas iguales en tiempos iguales.\n",
    "3. Para cualquier planeta, el cuadrado de su período orbital es directamente proporcional al cubo de la longitud del semieje mayor de su órbita elíptica.\n",
    "\n",
    "Estas leyes se puede obtener de la aplicación de la mecánica newtoniana. En este proyecto vamos a crear una simulación de las órbitas de los planetas en el sistema solar, donde resolvemos numéricamente las ecuaciones de movimiento de Newton."
   ]
  },
  {
   "cell_type": "markdown",
   "metadata": {},
   "source": [
    "## La segunda ley de Newton\n",
    "\n",
    "El movimiento lineal de un objeto en la mecánica clásica newtoniana está descrito por la segunda ley de Newton:\n",
    "\n",
    "$$\\vec{F} = m\\vec{a}$$\n",
    "\n",
    "donde $\\vec{F}$ es la fuerza neta, $\\vec{a}$ es la aceleración del objeto y $m$ es su masa (inercial). Suponemos que el objeto no tiene grados de libertad internos, es decir, que es una partícula. La segunda ley se puede escribir en forma de una ecuación diferencial:\n",
    "\n",
    "$$\\frac{d^2\\vec{x}}{dt^2} = \\frac{\\vec{F}}{m}$$\n",
    "\n",
    "La trayectoria del objeto, $\\vec{x}(t)$, resulta de resolver esta ecuación. En el caso de una fuerza general es difícil resolver analíticamente la ecuación, pero si la forma matemática de la fuerza es suficientemente simple, si se puede resolverla.\n",
    "\n",
    "En el caso de la fuerza gravitacional, que es una fuerza central, es posible resolver la ecuación de movimiento analíticamente. Sin embargo, en este proyecto, vamos a resolver la ecuación con un método numérico (es decir, con el computador)."
   ]
  },
  {
   "cell_type": "markdown",
   "metadata": {},
   "source": [
    "Primero, vamos a utilizar la aproximación de que los planetas y el Sol son masas puntuales. Además, vamos a despreciar los campos gravitatorios de los planetas, dado que la masa del Sol es mucho mayor que las masas de los planetas. La magnitud de la fuerza gravitacional entre dos masas $m$ y $M$ está dada por\n",
    "\n",
    "$$|\\vec{F}| = \\frac{GMm}{|\\vec{x}|^2}$$\n",
    "\n",
    "donde $\\vec{x}$ es un vector que apunta de una masa a la otra. Entonces, la magnitud de este vector es la distancia entre las masas.\n",
    "\n",
    "**Importante:** en este proyecto trabajaremos en un plano bidimensional, suponiendo que las órbitas de los planets están limitadas a ese plano. Aunque no es exactamente así en la realidad, es una aproximación aceptable. Además las órbitas también son casi circulares para la mayoría de los planetas. Por lo tanto vamos a suponer órbitas circulares."
   ]
  },
  {
   "cell_type": "markdown",
   "metadata": {},
   "source": [
    "### Tarea 1\n",
    "\n",
    "Determinar la constante gravitacional $G$ en unidades donde las masas están en masas solares, las longitudes en *unidades astronómicas* (UA) y el tiempo está en años.\n",
    "\n",
    "#### Solución\n",
    "\n",
    "En unidades SI la constante gravitacional es: $G_{SI} = 6.67408 \\times 10^{-11} $m$^3$ kg$^{-1}$ s$^{-2}$"
   ]
  },
  {
   "cell_type": "code",
   "execution_count": 10,
   "metadata": {},
   "outputs": [],
   "source": [
    "G_SI = 6.67408e-11\n",
    "\n",
    "metros_en_ua = 1.495978707e11\n",
    "kg_en_Msol = 1.98847e30\n",
    "segundos_en_un_año = 3.154e7"
   ]
  },
  {
   "cell_type": "code",
   "execution_count": 11,
   "metadata": {},
   "outputs": [
    {
     "data": {
      "text/plain": [
       "39.432797917226765"
      ]
     },
     "execution_count": 11,
     "metadata": {},
     "output_type": "execute_result"
    }
   ],
   "source": [
    "G_SI/(metros_en_ua**3)*kg_en_Msol*segundos_en_un_año**2"
   ]
  },
  {
   "cell_type": "markdown",
   "metadata": {},
   "source": [
    "El resultado es: $G = 39.433$ UA$^3$ yr$^{-2}$ M$_{sol}^{-1}$, donde usamos \"yr\" (del inglés *year*) para indicar \"año\". Numéricamente es preferible trabajar con números así que un número muy pequeño como lo que tenemos para $G_{SI}$. Tampoco es buena idea usar números muy grandes en una simulación si es posible evitar. Este es para eliminar errores numéricos."
   ]
  },
  {
   "cell_type": "markdown",
   "metadata": {},
   "source": [
    "### Tarea 2\n",
    "\n",
    "Usando el valor de $G$ ya calculado, definir una función en Python para calcular la fuerza gravitacional *por unidad de masa* entre el Sol y un planeta en la posición $x$, $y$ en el plano."
   ]
  },
  {
   "cell_type": "markdown",
   "metadata": {},
   "source": [
    "#### Solución\n",
    "\n",
    "La magnitud de la fuerza gravitacional entre dos masas es:\n",
    "    \n",
    "$$|\\vec{F}| = \\frac{GMm}{|\\vec{x}|^2}$$\n",
    "\n",
    "y la dirección es a lo largo de la línea que une las dos masas. Vamos a usar el Sol como la masa $M$, y un planeta con masa $m$. La fuerza *por unidad de masa* del planeta entonces es:\n",
    "\n",
    "$$\\frac{|\\vec{F}|}{m} = \\frac{GM}{|\\vec{x}|^2}$$\n",
    "\n",
    "La distancia radial entre el Sol y el planeta $d = |\\vec{x}|$ (con el Sol en el orígen de las coordenadas) es:\n",
    "\n",
    "$$d = \\sqrt{x^2 + y^2}$$\n",
    "\n",
    "Todavía hay que calcular las componentes del vector $\\vec{F}$. En coordenadas polares las componentes en $x, y$ son:\n",
    "\n",
    "$F_x = |\\vec{F}| \\cos \\theta$, $F_y = |\\vec{F}| \\sin \\theta$\n",
    "\n",
    "El ángulo $\\theta$ (el ángulo entre el vector de posición del planeta y el eje $x$) está dado por $\\tan^{-1}(y/x)$. Podemos usar la función de Python `arctan2` para evitar problemas del cálculo de $\\theta$ en distantas cuadrantes del plano."
   ]
  },
  {
   "cell_type": "code",
   "execution_count": 12,
   "metadata": {},
   "outputs": [],
   "source": [
    "G = 39.433 #AU^3 yr^{-2} M_sol^{-1}\n",
    "\n",
    "def fuerza(x,y,M):\n",
    "    # Abajo es un ejemplo de un \"docstring\" en Python, muy útil para explicar que hace la función!\n",
    "    '''\n",
    "    Función para calcular la fuerza gravitacional entre el Sol y un planeta.\n",
    "    3 argumentos: x, posición del planeta en x\n",
    "                  y, posición del planeta en y\n",
    "                  M, masa del Sol (siempre 1.0 en las unidades que usamos)\n",
    "    Returns: tuple, las componentes de la fuerza en x,y\n",
    "    '''\n",
    "    theta = arctan2(y,x)\n",
    "    d = sqrt(x**2 + y**2)\n",
    "    Fx = -((G*M)/d**2)*cos(theta)\n",
    "    Fy = -((G*M)/d**2)*sin(theta)\n",
    "    \n",
    "    return( Fx, Fy )"
   ]
  },
  {
   "cell_type": "markdown",
   "metadata": {},
   "source": [
    "(En el Notebook se puede obtener ayuda sobre cualquier función en Python con el uso de \"?\", incluyendo las funciones que nosotros definimos, si incluye un \"docstring\" como en el caso arriba.)"
   ]
  },
  {
   "cell_type": "code",
   "execution_count": 15,
   "metadata": {},
   "outputs": [],
   "source": [
    "?fuerza"
   ]
  },
  {
   "cell_type": "markdown",
   "metadata": {},
   "source": [
    "### Tarea 3\n",
    "\n",
    "Determinar las condiciones iniciales para la partícula que representa la Tierra, para que se mueva en una órbita circular alrededor del Sol. Definir variables `x0`, `y0`, `vx0`, `vy0` en Python para guardar estos valores."
   ]
  },
  {
   "cell_type": "markdown",
   "metadata": {},
   "source": [
    "#### Solución\n",
    "\n",
    "La Tierra está a $1$ UA (en promedio) del Sol. Vamos a indicar la posición inicial con $x_0, y_0$. Colocamos la Tierra en el eje $x$ solamente (por ahora), así que tenemos $x_0 = 1.0$ y $y_0 = 0.0$. Para esta posición, la velocidad en el eje $x$, para una órbita circular, debe ser **nulo**. Entonces la velocidad tangencial de la partícula es solamente en la dirección $y$.\n",
    "\n",
    "Podemos calcular esta velocidad considerando el período de la órbita ($1$ año). La circunferencia de la órbita es:\n",
    "\n",
    "$c = 2\\pi d = 2\\pi$\n",
    "\n",
    "ya que $d = 1$ para la Tierra en las unidades que usamos. Entonces requerimos una velocidad tangencial tal que la Tierra puede recorrer una distancia de $2\\pi$ UA en $1$ año:\n",
    "\n",
    "$v_{y0} = c/1 = 2\\pi$ \\[UA/yr\\]"
   ]
  },
  {
   "cell_type": "code",
   "execution_count": 16,
   "metadata": {},
   "outputs": [],
   "source": [
    "x0 = 1.0 #Distancia de la tierra en AU\n",
    "y0 = 0.0\n",
    "\n",
    "vx0 = 0.0\n",
    "vy0 = (2.0*pi*1.0)/1.0"
   ]
  },
  {
   "cell_type": "markdown",
   "metadata": {},
   "source": [
    "### Tarea 4\n",
    "\n",
    "Aplicar el método de *diferencias finitas* a la segunda ley de Newton para calcular la posición y velocidad de la Tierra en el momento $0.001$ años después del momento inicial."
   ]
  },
  {
   "cell_type": "markdown",
   "metadata": {},
   "source": [
    "#### Solución\n",
    "\n",
    "Como vimos en la clase, una posible aproximación a la derivada en el método de diferencias finitas es la siguiente:\n",
    "\n",
    "$$\\frac{df}{dt} \\approx \\frac{f(t+h) - f(t)}{h}$$\n",
    "\n",
    "Para la segunda ley de Newton (que es una ecuación con **vectores**) tenemos que aplicar el método de diferencias finítas a cada componente:\n",
    "\n",
    "$$\\frac{d\\vec{x}}{dt} \\approx \\frac{\\vec{x}(t+h)-\\vec{x}(t)}{h}$$\n",
    "\n",
    "Separando las componentes tenemos\n",
    "\n",
    "$$\\frac{dx}{dt} \\approx \\frac{x(t+h)-x(t)}{h}, \\quad \\quad \\frac{dy}{dt} \\approx \\frac{y(t+h)-y(t)}{h}$$\n",
    "\n",
    "En el lado izquierdo de las ecuaciones arriba tenemos las componentes de la velocidad, así que escribimos (reemplazando $\\approx$ por $=$ para simplificar la vida):\n",
    "\n",
    "$$v_x = \\frac{1}{h}(x(t+h) - x(t)), \\quad \\quad v_y = \\frac{1}{h}(y(t+h)-y(t))$$\n",
    "\n",
    "Vimos en la clase que la notación común para $x(t)$ es $x_i$ donde $i$ es el índice que corresponde al momento $t$. Por lo tanto $x(t+h)$ es $x_{i+1}$ ya que $t+h$ es el momento después de $t$ en nuestra discretización del tiempo.\n",
    "\n",
    "Entonces podemos escribir las ecuaciones para la velocidad así:\n",
    "\n",
    "$$v_{(x)i+1} = \\frac{1}{h}(x_{i+1} - x_i), \\quad \\quad v_{(y)i+1} = \\frac{1}{h}(y_{i+1} - y_i)$$\n",
    "\n",
    "donde indicamos que los valores de $v_x$ y $v_y$ son del momento $t+h$ (índice $i+1$). De hecho, para la derivada continua exacta los valores de $v_x$ y $v_y$ corresponden al momento $t$ y NO $t+h$. Pero en la aproximación de diferencias finitas, ya que no tomamos el límite, podemos elegir el momento en el tiempo que corresponde. La aproximación es mejor si elegimos $t+h$.\n",
    "\n",
    "Ahora es fácil reorganizar las ecuaciones para encontrar la nueva posición del planeta en el momento $t+h$, después del momento $t$, es decir, los valores de $x,y$ con índice $i+1$:\n",
    "\n",
    "$$ x_{i+1} = v_{(x)i+1}h + x_i, \\quad \\quad y_{i+1} = v_{(y)i+1}h + y_i$$\n",
    "\n",
    "Pero... cómo podemos obtener los valores de $v_x,v_y$ en el momento $t+h$? Aplicamos la segunda ley de Newton! La segunda ley dice:\n",
    "\n",
    "$$m\\vec{a} = \\vec{F}, \\quad \\Rightarrow \\quad \\vec{a} = \\vec{F}/m$$\n",
    "\n",
    "La aceleración es, por supuesto, la derivada de la velocidad con respecto al tiempo:\n",
    "\n",
    "$$\\frac{d\\vec{v}}{dt} = \\vec{a}$$\n",
    "\n",
    "Entonces, podemos escribir la segunda ley, en componentes, como\n",
    "\n",
    "$$\\frac{dv_x}{dt} = F_x/m, \\quad \\quad \\frac{dv_y}{dt} = F_y/m$$\n",
    "\n",
    "Aplicando el método de diferencias finitas de nuevo tenemos\n",
    "\n",
    "$$\\frac{v_x(t+h) - v_x(t)}{h} = F_x/m, \\quad \\quad \\frac{v_y(t+h) - v_y(t)}{h} = F_y/m$$\n",
    "\n",
    "En la notación con índices estas ecuaciones son\n",
    "\n",
    "$$(v_{(x)i+1} - v_{(x)i}) = F_{(x)i}h/m, \\quad \\quad (v_{(y)i+1} - v_{(y)i}) = F_{(y)i}h/m$$\n",
    "\n",
    "Reorganizamos estas ecuaciones para encontrar la nueva velocidad:\n",
    "\n",
    "$$v_{(x)i+1} = F_{(x)i}h/m + v_{(x)i}, \\quad \\quad v_{(y)i+1} = F_{(y)i}h/m + v_{(y)i}$$\n",
    "\n",
    "Ya podemos calcular la fuerza por unidad de masa $F_x/m$ y $F_y/m$, así que tenemos todo lo que necesitamos para calcular la posición y velocidad del planeta en el momento $t+h$."
   ]
  },
  {
   "cell_type": "code",
   "execution_count": 17,
   "metadata": {},
   "outputs": [],
   "source": [
    "h = 0.001"
   ]
  },
  {
   "cell_type": "code",
   "execution_count": 18,
   "metadata": {},
   "outputs": [],
   "source": [
    "Fx, Fy = fuerza(x0,y0,1.0) #fuerza por unidad de masa!\n",
    "\n",
    "vx1 = Fx*h + vx0 #calculamos la velocidad primero\n",
    "vy1 = Fy*h + vy0\n",
    "\n",
    "x1 = vx1*h + x0 #usamos la velocidad nueva para calcular la posición nueva\n",
    "y1 = vy1*h + y0"
   ]
  },
  {
   "cell_type": "code",
   "execution_count": 19,
   "metadata": {},
   "outputs": [
    {
     "data": {
      "text/plain": [
       "(1.0, 0.0)"
      ]
     },
     "execution_count": 19,
     "metadata": {},
     "output_type": "execute_result"
    }
   ],
   "source": [
    "x0, y0"
   ]
  },
  {
   "cell_type": "code",
   "execution_count": 20,
   "metadata": {},
   "outputs": [
    {
     "data": {
      "text/plain": [
       "(0.999960567, 0.006283185307179587)"
      ]
     },
     "execution_count": 20,
     "metadata": {},
     "output_type": "execute_result"
    }
   ],
   "source": [
    "x1, y1"
   ]
  },
  {
   "cell_type": "markdown",
   "metadata": {},
   "source": [
    "### Tarea 5\n",
    "\n",
    "Calcular los valores de posición y velocidad de la Tierra durante $100$ años ($100$ órbitas) usando el valor de $h=0.1$ (es decir, una diferencia entre cada momento del tiempo de $0.1$ años). Guardar los resultados en arreglos de NumPy."
   ]
  },
  {
   "cell_type": "markdown",
   "metadata": {},
   "source": [
    "#### Solución"
   ]
  },
  {
   "cell_type": "code",
   "execution_count": 66,
   "metadata": {},
   "outputs": [],
   "source": [
    "tiempo_total = 100\n",
    "h = 0.1"
   ]
  },
  {
   "cell_type": "markdown",
   "metadata": {},
   "source": [
    "Con el tiempo total $T$ igual a $100$ años, y la separación de los *timesteps* $h$ igual a $0.1$, podemos obtener el número total de valores que tenemos que guardar con $N = T/h$. Si $h$ no divide $T$ exactamente, tenemos que obtener un valor entero porque no tiene sentido tener arreglos de un número no entero de elementos."
   ]
  },
  {
   "cell_type": "code",
   "execution_count": 67,
   "metadata": {},
   "outputs": [],
   "source": [
    "N = int(tiempo_total/h) #Usamos int para convertir el resultado de la división a un valor entero."
   ]
  },
  {
   "cell_type": "code",
   "execution_count": 68,
   "metadata": {},
   "outputs": [],
   "source": [
    "x = zeros(N) #Creamos arreglos de N elementos para guardar todos los valores de posición y velocidad\n",
    "y = zeros(N)\n",
    "\n",
    "vx = zeros(N)\n",
    "vy = zeros(N)"
   ]
  },
  {
   "cell_type": "code",
   "execution_count": 69,
   "metadata": {},
   "outputs": [],
   "source": [
    "x[0] = x0 #Los primeros elementos de cada uno de estos arreglos corresponden a las condiciones iniciales.\n",
    "y[0] = y0\n",
    "\n",
    "vx[0] = vx0\n",
    "vy[0] = vy0"
   ]
  },
  {
   "cell_type": "markdown",
   "metadata": {},
   "source": [
    "Ahora hay que aplicar nuestro método para cada momento del tiempo. ¿Cómo lo hacemos? Con un ciclo! Usamos un ciclo `for` para *iterar* sobre todos los momentos entre $0$ y $N-2$, ya que en la iteración para el momento $N-2$ calculamos los valores nuevos en el momento $N-1$. El momento $N-1$ es el último de la simulación con $N$ momentos en total ya que partimos de $0$."
   ]
  },
  {
   "cell_type": "code",
   "execution_count": 70,
   "metadata": {},
   "outputs": [],
   "source": [
    "for i in range(N-1): #Cuidado! la función \"range\" comienza con i=0 y termina en i=N-2...\n",
    "     \n",
    "    Fx, Fy = fuerza(x[i],y[i],1.0)\n",
    "    \n",
    "    vx[i+1] = Fx*h + vx[i]\n",
    "    vy[i+1] = Fy*h + vy[i]\n",
    "    \n",
    "    x[i+1] = vx[i+1]*h + x[i]\n",
    "    y[i+1] = vy[i+1]*h + y[i]"
   ]
  },
  {
   "cell_type": "markdown",
   "metadata": {},
   "source": [
    "Ahora graficamos el resultado:"
   ]
  },
  {
   "cell_type": "code",
   "execution_count": 71,
   "metadata": {},
   "outputs": [
    {
     "data": {
      "text/plain": [
       "[<matplotlib.lines.Line2D at 0x7fea121b1b70>]"
      ]
     },
     "execution_count": 71,
     "metadata": {},
     "output_type": "execute_result"
    },
    {
     "data": {
      "image/png": "[encoded data removed]",
      "text/plain": [
       "<Figure size 432x288 with 1 Axes>"
      ]
     },
     "metadata": {
      "needs_background": "light"
     },
     "output_type": "display_data"
    }
   ],
   "source": [
    "axis(\"equal\")\n",
    "plot(x,y)"
   ]
  },
  {
   "cell_type": "markdown",
   "metadata": {},
   "source": [
    "Pero... la órbita no es circular! Hay desviaciones de la órbita circular, y después de trazar la línea de todas las $100$ órbitas tenemos un \"anillo\" de posiciones en vez de un círculo. ¿Qué pasó?"
   ]
  },
  {
   "cell_type": "markdown",
   "metadata": {},
   "source": [
    "### Tarea 6\n",
    "\n",
    "Encontrar la razón por el error en la órbita."
   ]
  },
  {
   "cell_type": "markdown",
   "metadata": {},
   "source": [
    "#### Solución\n",
    "\n",
    "Vimos en la clase que la precisión de la simulación depende del valor de $h$. En la derivada exacta $h$ se va a cero en el límite. Así que la aproximación de diferencias finitas va mejorando con valores más y más pequeños de $h$. Intentamos con $h=0.001$ (dos ordenes de magnitud menor)."
   ]
  },
  {
   "cell_type": "code",
   "execution_count": 76,
   "metadata": {},
   "outputs": [],
   "source": [
    "tiempo_total = 100\n",
    "h = 0.001"
   ]
  },
  {
   "cell_type": "code",
   "execution_count": 77,
   "metadata": {},
   "outputs": [],
   "source": [
    "N = int(tiempo_total/h)"
   ]
  },
  {
   "cell_type": "code",
   "execution_count": 78,
   "metadata": {},
   "outputs": [],
   "source": [
    "x = zeros(N)\n",
    "y = zeros(N)\n",
    "\n",
    "vx = zeros(N)\n",
    "vy = zeros(N)"
   ]
  },
  {
   "cell_type": "code",
   "execution_count": 79,
   "metadata": {},
   "outputs": [],
   "source": [
    "x[0] = x0 #Los primeros elementos de cada uno de estos arreglos corresponden a las condiciones iniciales.\n",
    "y[0] = y0\n",
    "\n",
    "vx[0] = vx0\n",
    "vy[0] = vy0"
   ]
  },
  {
   "cell_type": "code",
   "execution_count": 80,
   "metadata": {},
   "outputs": [],
   "source": [
    "for i in range(N-1):\n",
    "    \n",
    "    Fx, Fy = fuerza(x[i],y[i],1.0)\n",
    "    \n",
    "    vx[i+1] = Fx*h + vx[i]\n",
    "    vy[i+1] = Fy*h + vy[i]\n",
    "    \n",
    "    x[i+1] = vx[i+1]*h + x[i]\n",
    "    y[i+1] = vy[i+1]*h + y[i]"
   ]
  },
  {
   "cell_type": "code",
   "execution_count": 81,
   "metadata": {},
   "outputs": [
    {
     "data": {
      "text/plain": [
       "[<matplotlib.lines.Line2D at 0x7fea12b12160>]"
      ]
     },
     "execution_count": 81,
     "metadata": {},
     "output_type": "execute_result"
    },
    {
     "data": {
      "image/png": "[encoded data removed]",
      "text/plain": [
       "<Figure size 432x288 with 1 Axes>"
      ]
     },
     "metadata": {
      "needs_background": "light"
     },
     "output_type": "display_data"
    }
   ],
   "source": [
    "axis(\"equal\")\n",
    "plot(x,y)"
   ]
  },
  {
   "cell_type": "markdown",
   "metadata": {},
   "source": [
    "Mucho mejor! Pero hay un costo... Ahora el número total de momentos en el tiempo es $100$ veces mayor. Antes era:\n",
    "\n",
    "$$T/h = N \\quad \\Rightarrow \\quad N = 100/0.1 = 1000$$\n",
    "\n",
    "Ahora tenemos\n",
    "\n",
    "$$T/h = N \\quad \\Rightarrow \\quad N = 100/0.001 = 100000$$\n",
    "\n",
    "Este significa que la simulación demora más tiempo y ocupa más memoria."
   ]
  },
  {
   "cell_type": "markdown",
   "metadata": {},
   "source": [
    "### Tarea 7\n",
    "\n",
    "Para simplificar la ejecución de la simulación, definir una función que corre la simulación desde el punto inicial. Los argumentos a la función deben ser solamente las condiciones iniciales, el tiempo total y el valor de $h$. El tiempo total y el valor de $h$ deben tener valores por defecto de $100$ y $0.001$ respectivamente (usando argumentos opcionales)."
   ]
  },
  {
   "cell_type": "markdown",
   "metadata": {},
   "source": [
    "#### Solución\n",
    "\n",
    "Es mucho más conveniente definir una función para correr la simulación en vez de ejecutar las mismas células en el Notebook:"
   ]
  },
  {
   "cell_type": "code",
   "execution_count": 85,
   "metadata": {},
   "outputs": [],
   "source": [
    "def calcular_orbitas(x0,y0,vx0,vy0,tiempo_total=100,h=0.001):\n",
    "    '''\n",
    "    Función para calcular las órbitas durante el tiempo_total, con timestep h, dado las condiciones iniciales.\n",
    "    Argumentos: x0, y0, posición inicial\n",
    "                vx0, vy0, velocidad inicial\n",
    "                tiempo_total, Tiempo total de la simulación (en unidades de la simulación)\n",
    "                h, valor del timestep \n",
    "    Dependencias: depende de la función \"fuerza\" para calcular la fuerza gravitational entre el Sol y un planeta\n",
    "    Returns: arreglos de N elementos (N=tiempo_total/h) que contienen todos los valores de posicion y velocidad\n",
    "    '''\n",
    "    N = int(tiempo_total/h)\n",
    "    \n",
    "    x = zeros(N)\n",
    "    y = zeros(N)\n",
    "\n",
    "    vx = zeros(N)\n",
    "    vy = zeros(N)\n",
    "    \n",
    "    x[0] = x0\n",
    "    y[0] = y0\n",
    "\n",
    "    vx[0] = vx0\n",
    "    vy[0] = vy0\n",
    "    \n",
    "    for i in range(N-1):\n",
    "    \n",
    "        Fx, Fy = fuerza(x[i],y[i],1.0)\n",
    "    \n",
    "        vx[i+1] = Fx*h + vx[i]\n",
    "        vy[i+1] = Fy*h + vy[i]\n",
    "    \n",
    "        x[i+1] = vx[i+1]*h + x[i]\n",
    "        y[i+1] = vy[i+1]*h + y[i]\n",
    "        \n",
    "    return(x,y,vx,vy)"
   ]
  },
  {
   "cell_type": "markdown",
   "metadata": {},
   "source": [
    "Ahora podemos calcular la órbita de cualquier planeta usando la función arriba. Por ejemplo:"
   ]
  },
  {
   "cell_type": "code",
   "execution_count": 86,
   "metadata": {},
   "outputs": [],
   "source": [
    "x_tierra, y_tierra, vx_tierra, vy_tierra = calcular_orbitas(x0,y0,vx0,vy0)"
   ]
  },
  {
   "cell_type": "code",
   "execution_count": 87,
   "metadata": {},
   "outputs": [
    {
     "data": {
      "text/plain": [
       "[<matplotlib.lines.Line2D at 0x7fea12afbc50>]"
      ]
     },
     "execution_count": 87,
     "metadata": {},
     "output_type": "execute_result"
    },
    {
     "data": {
      "image/png": "[encoded data removed]",
      "text/plain": [
       "<Figure size 432x288 with 1 Axes>"
      ]
     },
     "metadata": {
      "needs_background": "light"
     },
     "output_type": "display_data"
    }
   ],
   "source": [
    "axis(\"equal\")\n",
    "plot(x_tierra,y_tierra)"
   ]
  },
  {
   "cell_type": "markdown",
   "metadata": {},
   "source": [
    "### Tarea 7\n",
    "\n",
    "Usar la función definida en Tarea 6 para calcular la órbita de **Júpiter** durante $100$ años. Los datos relevantes de Júpiter son\n",
    "\n",
    "* Radio de su órbita (promedio) d = 5,2 AU\n",
    "* Período de su órbita P = 11,862 años\n",
    "* Velocidad inicial = $2\\pi d/P$"
   ]
  },
  {
   "cell_type": "code",
   "execution_count": 88,
   "metadata": {},
   "outputs": [],
   "source": [
    "radio_jupiter = 5.2\n",
    "periodo_jupiter = 11.682\n",
    "velocidad_jupiter = 2.0*pi*radio_jupiter/periodo_jupiter"
   ]
  },
  {
   "cell_type": "code",
   "execution_count": 89,
   "metadata": {},
   "outputs": [],
   "source": [
    "x_jupiter, y_jupiter, vx_jupiter, vy_jupiter = calcular_orbitas(radio_jupiter,0.0,0.0,velocidad_jupiter)"
   ]
  },
  {
   "cell_type": "code",
   "execution_count": 91,
   "metadata": {},
   "outputs": [
    {
     "data": {
      "text/plain": [
       "[<matplotlib.lines.Line2D at 0x7fea129e7668>]"
      ]
     },
     "execution_count": 91,
     "metadata": {},
     "output_type": "execute_result"
    },
    {
     "data": {
      "image/png": "[encoded data removed]",
      "text/plain": [
       "<Figure size 432x288 with 1 Axes>"
      ]
     },
     "metadata": {
      "needs_background": "light"
     },
     "output_type": "display_data"
    }
   ],
   "source": [
    "axis(\"equal\")\n",
    "plot(x_tierra,y_tierra)\n",
    "plot(x_jupiter,y_jupiter)"
   ]
  },
  {
   "cell_type": "markdown",
   "metadata": {},
   "source": [
    "### Tarea 8\n",
    "\n",
    "En el Notebook se puede limpiar un gráfico con la función `clear_output` (del módulo `IPython.display`). Utilizar esta función para crear una animación de las órbitas de los planetas.\n",
    "\n",
    "Podría ser útil usar un paso más grande para el ciclo sobre los valores en los arreglos. Se puede controlar eso en la función `range` así:"
   ]
  },
  {
   "cell_type": "code",
   "execution_count": 100,
   "metadata": {},
   "outputs": [
    {
     "name": "stdout",
     "output_type": "stream",
     "text": [
      "0\n",
      "1\n",
      "2\n",
      "3\n",
      "4\n",
      "5\n",
      "6\n",
      "7\n",
      "8\n",
      "9\n"
     ]
    }
   ],
   "source": [
    "for i in range(0,10,1):\n",
    "    print(i)"
   ]
  },
  {
   "cell_type": "code",
   "execution_count": 104,
   "metadata": {},
   "outputs": [
    {
     "name": "stdout",
     "output_type": "stream",
     "text": [
      "0\n",
      "2\n",
      "4\n",
      "6\n",
      "8\n"
     ]
    }
   ],
   "source": [
    "for i in range(0,10,2):\n",
    "    print(i)"
   ]
  },
  {
   "cell_type": "markdown",
   "metadata": {},
   "source": [
    "#### Solución"
   ]
  },
  {
   "cell_type": "code",
   "execution_count": 105,
   "metadata": {},
   "outputs": [],
   "source": [
    "from IPython.display import clear_output"
   ]
  },
  {
   "cell_type": "code",
   "execution_count": 109,
   "metadata": {},
   "outputs": [
    {
     "data": {
      "image/png": "[encoded data removed]",
      "text/plain": [
       "<Figure size 432x288 with 1 Axes>"
      ]
     },
     "metadata": {
      "needs_background": "light"
     },
     "output_type": "display_data"
    }
   ],
   "source": [
    "for i in range(0,10000,100):\n",
    "    axis([-8,8,-6,6])\n",
    "    plot(x_tierra[0:i],y_tierra[0:i],'b-')\n",
    "    plot(x_tierra[i],y_tierra[i],'bo')\n",
    "    plot(x_jupiter[0:i],y_jupiter[0:i],'r-')\n",
    "    plot(x_jupiter[i],y_jupiter[i],'ro')\n",
    "    show()\n",
    "    clear_output(wait=True)"
   ]
  },
  {
   "cell_type": "code",
   "execution_count": null,
   "metadata": {},
   "outputs": [],
   "source": []
  }
 ],
 "metadata": {
  "kernelspec": {
   "display_name": "Python 3 (ipykernel)",
   "language": "python",
   "name": "python3"
  },
  "language_info": {
   "codemirror_mode": {
    "name": "ipython",
    "version": 3
   },
   "file_extension": ".py",
   "mimetype": "text/x-python",
   "name": "python",
   "nbconvert_exporter": "python",
   "pygments_lexer": "ipython3",
   "version": "3.9.6"
  }
 },
 "nbformat": 4,
 "nbformat_minor": 2
}
