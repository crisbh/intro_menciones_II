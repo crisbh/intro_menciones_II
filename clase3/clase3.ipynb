{
 "cells": [
  {
   "cell_type": "code",
   "execution_count": 1,
   "metadata": {
    "hideCode": false,
    "hidePrompt": false,
    "slideshow": {
     "slide_type": "skip"
    }
   },
   "outputs": [],
   "source": [
    "from numpy import *\n",
    "from matplotlib.pyplot import *\n",
    "\n",
    "%matplotlib inline\n",
    "# Correct size for figures in slideshow\n",
    "rcParams[\"figure.figsize\"] = (5, 4)\n",
    "rcParams[\"figure.dpi\"] = 100"
   ]
  },
  {
   "cell_type": "markdown",
   "metadata": {
    "hideCode": false,
    "hidePrompt": false,
    "slideshow": {
     "slide_type": "slide"
    }
   },
   "source": [
    "# Inteligencia Artificial y *Machine Learning*\n",
    "\n",
    "Hemos visto que el análisis de datos es de gran importancia en la ciencia. También hemos visto que, por el aumento de datos disponibles, necesitamos nuevas técnicas de análisis -- no es tan fácil hoy en día hacer los análisis en forma \"tradicional\":\n",
    "\n",
    "* Explorar\n",
    "* Gráficar\n",
    "* Refutar/apoyar hipótesis\n",
    "\n",
    "Hoy en día se necesita algorítmos automáticos para hacer el análisis de datos, pero hay muchos tipos de análisis que no se pueden hacer muy fácilmente en una manera automática."
   ]
  },
  {
   "cell_type": "markdown",
   "metadata": {
    "hideCode": false,
    "hidePrompt": false,
    "slideshow": {
     "slide_type": "slide"
    }
   },
   "source": [
    "### Un ejemplo de la astronomía: clasificación de las galaxias\n",
    "\n",
    "Las galaxias tienen distintas formas. Las dos categorías más amplias son \"elíptica\" o \"espiral\". Dentro de estas clasificaciones hay más subcategorías.\n",
    "\n",
    "Eliptica | Espiral\n",
    "---------|--------\n",
    "![](clase3_imagenes/elliptical.jpg) | ![](clase3_imagenes/spiral.jpg)"
   ]
  },
  {
   "cell_type": "markdown",
   "metadata": {
    "hideCode": false,
    "hidePrompt": false,
    "slideshow": {
     "slide_type": "slide"
    }
   },
   "source": [
    "Las subcategorías son:\n",
    "\n",
    "![](clase3_imagenes/hubble_sequence.png)"
   ]
  },
  {
   "cell_type": "markdown",
   "metadata": {
    "hideCode": false,
    "hidePrompt": false,
    "slideshow": {
     "slide_type": "fragment"
    }
   },
   "source": [
    "¿Cómo se clasifican las galaxias? **¡Por vista!** Los astrónomos miran a las imagenes y deciden la categoría según su aparencia visual.\n",
    "\n",
    "En los *surveys* de galaxias típicamente se observan *millones de galaxias*. No es factible (y es probablemente contra los derechos humanos) pedir a un astrónomo que mire a cada imágen y clasifique todas las galaxias...\n",
    "\n",
    "Pero ¿por qué es algo debe hacerlo una persona? Es porque los humanos son *muy* buenos en identificar objetos por su apariencia visual."
   ]
  },
  {
   "cell_type": "markdown",
   "metadata": {
    "hideCode": false,
    "hidePrompt": false,
    "slideshow": {
     "slide_type": "slide"
    }
   },
   "source": [
    "#### A veces demasiado bueno..."
   ]
  },
  {
   "cell_type": "markdown",
   "metadata": {
    "hideCode": false,
    "hidePrompt": false,
    "slideshow": {
     "slide_type": "slide"
    }
   },
   "source": [
    "| ¿Nube o conejo? |\n",
    "|----------------|\n",
    "| ![](clase3_imagenes/rabbit_cloud.jpg) |"
   ]
  },
  {
   "cell_type": "markdown",
   "metadata": {
    "hideCode": false,
    "hidePrompt": false,
    "slideshow": {
     "slide_type": "slide"
    }
   },
   "source": [
    "| Sólo un pan tostado? o la cara de Jesús/John Bonham de Led Zeppelin? |\n",
    "|-------------------------------------------------------------|\n",
    "| ![](clase3_imagenes/JesusOnToast2.jpg) |"
   ]
  },
  {
   "cell_type": "markdown",
   "metadata": {
    "hideCode": false,
    "hidePrompt": false,
    "slideshow": {
     "slide_type": "slide"
    }
   },
   "source": [
    "Tiene sentido que una *persona* haga la clasificación de las galaxias. Una solución al problema de tener muchas imagenes de datos es pedir la ayuda de otros...\n",
    "\n",
    "<img style=\"float: center;\" src=\"clase3_imagenes/gz-screenshot.jpg\" alt=\"alt text\" width=\"600\" height=\"600\" class=\"blog-image\">\n",
    "\n",
    "https://www.zooniverse.org/projects/zookeeper/galaxy-zoo\n",
    "\n",
    "Este es un ejemplo de *ciencia ciudadana* donde cualquier persona puede ayudar a hacer nuevos descubrimientos en la ciencia y otros áreas.\n",
    "\n",
    "https://www.zooniverse.org/projects\n",
    "\n",
    "Hay proyectos en las artes, la biología, la historia, la literatura, la medicina, la física, etc."
   ]
  },
  {
   "cell_type": "markdown",
   "metadata": {
    "hideCode": false,
    "hidePrompt": false,
    "slideshow": {
     "slide_type": "slide"
    }
   },
   "source": [
    "#### ¿Podría hacerlo también un computador?\n",
    "\n",
    "La tarea de reconocer lo que hay en una imágen visual es algo que los humanos hacen sin pensar. Pero requiere juicio, contexto, tomar decisiones con información poco clara...\n",
    "\n",
    "**Inteligencia artificial (IA)** es el área de la informática sobre el desarrollo de los algorítmos que pueden lidiar estos desafíos (es decir, que permiten a un computador \"pensar como un humano\")."
   ]
  },
  {
   "cell_type": "markdown",
   "metadata": {
    "hideCode": false,
    "hidePrompt": false,
    "slideshow": {
     "slide_type": "slide"
    }
   },
   "source": [
    "Sería demasiado complicado programar explícitamente todos los pasos que un computador necesitaría para reconocer una imágen. Sería mucho mejor si el computador pudiese *aprender por si mismo* como hacerlo.\n",
    "\n",
    "Por eso, una parte muy importante de la inteligencia artificial es el diseño e implementación de algorítmos de **aprendizaje de máquina** (*machine learning*)."
   ]
  },
  {
   "cell_type": "markdown",
   "metadata": {
    "hideCode": false,
    "hidePrompt": false,
    "slideshow": {
     "slide_type": "slide"
    }
   },
   "source": [
    "## Inteligencia Artificial (IA)\n",
    "\n",
    "La IA tiene una historia larga y complicada. Desde los primeros días de la informática se ha preguntado si un computador podría ser tan inteligente como un humano.\n",
    "\n",
    "El padre de la informática, Alan Turing, ideó una prueba para ver si una máquina tenía inteligencia o no - la famosa *prueba (test) de Turing*.\n",
    "\n",
    "![](clase3_imagenes/turing.jpg)"
   ]
  },
  {
   "cell_type": "markdown",
   "metadata": {
    "hideCode": false,
    "hidePrompt": false,
    "slideshow": {
     "slide_type": "slide"
    }
   },
   "source": [
    "### La prueba de Turing\n",
    "\n",
    "![](clase3_imagenes/turing_test.png)"
   ]
  },
  {
   "cell_type": "markdown",
   "metadata": {
    "hideCode": false,
    "hidePrompt": false,
    "slideshow": {
     "slide_type": "slide"
    }
   },
   "source": [
    "La idea de la prueba es la siguiente:\n",
    "\n",
    "\n",
    "* Hay una persona $C$ que hace preguntas a $A$ y $B$. \n",
    "* Escondidos de la persona $C$, hay un computador $A$ y otra persona $B$.\n",
    "* Si la persona $C$ no puede determinar cuál de $A$ o $B$ es el computador, entonces decimos que el computador es \"inteligente\".\n",
    "\n",
    "<img style=\"float: right;\" src=\"clase3_imagenes/turing_test.png\" alt=\"alt text\" width=\"400\" height=\"600\" class=\"blog-image\">"
   ]
  },
  {
   "cell_type": "markdown",
   "metadata": {
    "hideCode": false,
    "hidePrompt": false,
    "slideshow": {
     "slide_type": "slide"
    }
   },
   "source": [
    "Aunque el concepto de la prueba es interesante, de hecho tiene muchos problemas:\n",
    "\n",
    "1. **No es muy objetivo**: depende de la persona haciendo las preguntas, depende de las preguntas, etc.\n",
    "2. **Es específico a la inteligencia *humana***. Sabemos muy bien que muchas veces los humanos actuan sin inteligencia, y parece que hay otros animales que tienen mucha inteligencia.\n",
    "3. Es la inteligencia \"de verdad\" o inteligencia \"simulada\"?"
   ]
  },
  {
   "cell_type": "markdown",
   "metadata": {
    "slideshow": {
     "slide_type": "fragment"
    }
   },
   "source": [
    "En la práctica, el resultado de la prueba, al final, **¡es irrelevante!** "
   ]
  },
  {
   "cell_type": "markdown",
   "metadata": {
    "slideshow": {
     "slide_type": "fragment"
    }
   },
   "source": [
    "Una analogía:\n",
    "\n",
    "Nadie dice que la meta de la aeronáutica es construir aviones que vuelen de forma tan similar a los pájaros que los pájaros reales no puedan distinguirlos!"
   ]
  },
  {
   "cell_type": "markdown",
   "metadata": {
    "hideCode": false,
    "hidePrompt": false,
    "slideshow": {
     "slide_type": "slide"
    }
   },
   "source": [
    "#### La definición de la inteligencia\n",
    "\n",
    "Entonces, la pregunta más fundamental, que la prueba de Turing no aborda, es ¿qué es la inteligencia?\n",
    "\n",
    "La respuesta es típicamente \"algo que actúa como nosotros, los humanos\". Pero esta defición es muy vaga, y lógicamente circular.\n",
    "\n",
    "A pesar de que no hay una definición buena de lo que es \"la inteligencia\", la historia de la IA incluye muchos intentos de construir una máquina con una inteligencia general, como un humano. Esta aún no existe."
   ]
  },
  {
   "cell_type": "markdown",
   "metadata": {
    "hideCode": false,
    "hidePrompt": false,
    "slideshow": {
     "slide_type": "slide"
    }
   },
   "source": [
    "#### IA moderna\n",
    "\n",
    "Hay un punto de vista moderno de la IA que es diferente. \n",
    "\n",
    "* En vez de crear un computador que \"piensa como un humano\", podemos intentar crear algorítmos que hacen cosas que, usualmente, los humanos hacen mejor que el computador.\n",
    "\n",
    "* Estos son cosas que involucran información incompleta, razonamiento probabilístico, inferencia, etc."
   ]
  },
  {
   "cell_type": "markdown",
   "metadata": {
    "hideCode": false,
    "hidePrompt": false,
    "slideshow": {
     "slide_type": "slide"
    }
   },
   "source": [
    "#### Ejemplo: reconocimiento de imágenes\n",
    "\n",
    "De nuevo, el reconocimiento de imágenes es un ejemplo muy común. En esta imágen es muy fácil para nosotros ver que hay una bici roja:\n",
    "\n",
    "<img style=\"float: center;\" src=\"clase3_imagenes/red_bike.jpg\" alt=\"alt text\" width=\"600\" height=\"600\" class=\"blog-image\">"
   ]
  },
  {
   "cell_type": "markdown",
   "metadata": {
    "hideCode": false,
    "hidePrompt": false,
    "slideshow": {
     "slide_type": "slide"
    }
   },
   "source": [
    "...pero es muy difícil (sin las técnicas de *machine learning*) escribir un algorítmo que puede identificar los contenidos de cualquier imágen.\n",
    "\n",
    "Por cierto, el concepto de una \"captcha\" es para asegurar que el usuario es una persona y no un computador (un \"bot\"):\n",
    "\n",
    "![](clase3_imagenes/captcha.png)\n",
    "\n",
    "Es muy fácil (para nosotros) leer la palabra, pero típicamente es muy difícil para un computador (especialmente cuando esta distorcionada como en el ejemplo)."
   ]
  },
  {
   "cell_type": "markdown",
   "metadata": {
    "hideCode": false,
    "hidePrompt": false,
    "slideshow": {
     "slide_type": "slide"
    }
   },
   "source": [
    "#### Ejemplo: lenguajes naturales\n",
    "\n",
    "Los leguajes naturales (lenguajes humanos, e.g. castellano, inglés) tienen mucha ambigüedad. Uno se necesita saber el contexto de una frase para entenderla..."
   ]
  },
  {
   "cell_type": "markdown",
   "metadata": {
    "hideCode": false,
    "hidePrompt": false,
    "slideshow": {
     "slide_type": "slide"
    }
   },
   "source": [
    "![](clase3_imagenes/hallar_x.jpg)"
   ]
  },
  {
   "cell_type": "markdown",
   "metadata": {
    "hideCode": false,
    "hidePrompt": false,
    "slideshow": {
     "slide_type": "skip"
    }
   },
   "source": [
    "![](clase3_imagenes/socrates.jpg)"
   ]
  },
  {
   "cell_type": "markdown",
   "metadata": {
    "hideCode": false,
    "hidePrompt": false,
    "slideshow": {
     "slide_type": "slide"
    }
   },
   "source": [
    "Hay varias áreas de investigación en el área de lenguajes naturales en IA:\n",
    "\n",
    "* **Natural Language Processing**: Procesamiento de los lenguajes naturales, por ejemplo en el uso de *asistentes virtuales*, traducción automática (Google Translate).\n",
    "* **Natural Language Understanding**: Entendimiento de los lenguajes naturales, por ejemplo tener una máquina que puede entender el contenido de una noticia.\n",
    "* **Natural Language Generation**: Generación de los lenguajes naturales, por ejemplo los *chatbots* que responden a preguntas, o un programa que puede redactar una carta."
   ]
  },
  {
   "cell_type": "markdown",
   "metadata": {
    "hideCode": false,
    "hidePrompt": false,
    "slideshow": {
     "slide_type": "slide"
    }
   },
   "source": [
    "### Aplicaciones de IA\n",
    "Existen tres tipos de aplicaciones fundamentales de la inteligencia artificial:\n",
    "\n",
    "* **Clasificación**: categorizar lo que existe en el mundo.\n",
    "* **Predicción**: adivinar lo que va a pasar en el futuro.\n",
    "* **Reacción**: responder a las circunstancias actuales."
   ]
  },
  {
   "cell_type": "markdown",
   "metadata": {
    "hideCode": false,
    "hidePrompt": false,
    "slideshow": {
     "slide_type": "slide"
    }
   },
   "source": [
    "#### Classificación\n",
    "Para entender el mundo, tenemos que organizar nuestro conocimiento del mismo: tenemos que *clasificar* (categorizar) lo que hay.\n",
    "\n",
    "![](clase3_imagenes/cat_dog.png)"
   ]
  },
  {
   "cell_type": "markdown",
   "metadata": {
    "hideCode": false,
    "hidePrompt": false,
    "slideshow": {
     "slide_type": "slide"
    }
   },
   "source": [
    "#### Predicción\n",
    "Es importante para nosotros tener la capacidad de adivinar más o menos lo que va a pasar en el futuro (el futuro inmediato). También es así para un sistema de inteligencia artificial.\n",
    "\n",
    "![](clase3_imagenes/evil_computer.gif)"
   ]
  },
  {
   "cell_type": "markdown",
   "metadata": {
    "hideCode": false,
    "hidePrompt": false,
    "slideshow": {
     "slide_type": "slide"
    }
   },
   "source": [
    "#### Reacción\n",
    "\n",
    "<p align=\"center\">\n",
    "<img style=\"float: right;\" src=\"clase3_imagenes/boston-dynamics-robot.gif \" alt=\"alt text\" width=\"260\" class=\"blog-image\"> \n",
    "</p>\n",
    "\n",
    "En el caso de un sistema inteligente, es importante reaccionar a los eventos externos. \n",
    "\n",
    "Por ejemplo, un **vehículo autónomo** obviamente tiene que reaccionar bien a eventos externos...   \n",
    "\n",
    "Este aspecto de la inteligencia artificial tiene más relevancia para los robots que para los sistemas típicamente utilizados en la ciencia.\n",
    "\n",
    "\n",
    "\n",
    "A la derecha: *Robot de Boston Dynamics*.\n",
    "\n"
   ]
  },
  {
   "cell_type": "markdown",
   "metadata": {
    "hideCode": false,
    "hidePrompt": false,
    "slideshow": {
     "slide_type": "slide"
    }
   },
   "source": [
    "### IA aplicada a la ciencia\n",
    "\n",
    "Una aplicación de la IA hoy en día es el diseño de algorítmos para la extracción de información útil de datos complejos, incompletos e inciertos.\n",
    "\n",
    "En la ciencia, podemos usar estos algorítmos para muchos tipos de análisis:\n",
    "* Clasificación.\n",
    "* Identificación de datos raros (*outliers*).\n",
    "* Determinación de relaciones entre variables.\n",
    "* Predicciones para observaciones futuras.\n",
    "* y mucho más...\n",
    "\n",
    "Hablamos de algorítmos de ***machine learning***: un conjunto de técnicas diseñadas para lidiar este tipo de problemas. \n",
    "\n",
    "Se llama *machine learning* (aprendizaje de máquina) porque los algorítmos pueden mejorar su propio rendimiento con más y más datos, es decir *aprenden*."
   ]
  },
  {
   "cell_type": "markdown",
   "metadata": {
    "hideCode": false,
    "hidePrompt": false,
    "slideshow": {
     "slide_type": "slide"
    }
   },
   "source": [
    "#### Tipos de *machine learning*\n",
    "\n",
    "Hay dos tipos principales de machine learning:\n",
    "\n",
    "1. Aprendizaje sin supervisión.\n",
    "2. Aprendizaje con supervisión.\n",
    "\n",
    "También hay **aprendizaje semi-supervisado** (entre supervisado y no supervisado) y **aprendizaje reforzado** (más para robots/agentes)."
   ]
  },
  {
   "cell_type": "markdown",
   "metadata": {
    "hideCode": false,
    "hidePrompt": false,
    "slideshow": {
     "slide_type": "slide"
    }
   },
   "source": [
    "#### Aprendizaje sin supervisión\n",
    "\n",
    "Estos son algorítmos que podemos aplicar a los datos inmediatamente, sin la necesidad de \"entrenamiento\".\n",
    "\n",
    "Un ejemplo simple es un algorítmo que se llama *k-means clustering*."
   ]
  },
  {
   "cell_type": "markdown",
   "metadata": {
    "hideCode": false,
    "hidePrompt": false,
    "slideshow": {
     "slide_type": "slide"
    }
   },
   "source": [
    "Ejemplo: Supongamos que tenemos mediciones de las masas y temperaturas de algunas estrellas. \n",
    "\n",
    "Las estrellas en la *secuencia principal* tienen masas y temperaturas bajas, las gigantes rojas tienen masas y temperaturas mayores, y las gigantes azules tienen altas masa y temperaturas aún mayor.\n",
    "\n",
    "![](clase3_imagenes/masa_temp.png)"
   ]
  },
  {
   "cell_type": "markdown",
   "metadata": {
    "hideCode": false,
    "hidePrompt": false,
    "slideshow": {
     "slide_type": "slide"
    }
   },
   "source": [
    "#### *k-means clustering*\n",
    "\n",
    "Tenemos un espacio (bidimensional) de dos parámetros. Los datos agrupan en ciertas regiones de este espacio.\n",
    "\n",
    "Visualmente es muy fácil reconocer las regiones del espacio de parámetros donde los puntos se agrupan. Ahora, veremos que el algorítmo *k-means clustering* puede identificar estos regiones automáticamente."
   ]
  },
  {
   "cell_type": "code",
   "execution_count": 2,
   "metadata": {
    "hideCode": false,
    "hidePrompt": false,
    "slideshow": {
     "slide_type": "fragment"
    }
   },
   "outputs": [],
   "source": [
    "datos = np.load(\"clase3_imagenes/datos.npy\")"
   ]
  },
  {
   "cell_type": "markdown",
   "metadata": {
    "hideCode": false,
    "hidePrompt": false,
    "slideshow": {
     "slide_type": "fragment"
    }
   },
   "source": [
    "Importamos el módulo *scikit-learn* que contiene funciones que son implementaciones de muchos algorítmos de *machine learning*."
   ]
  },
  {
   "cell_type": "code",
   "execution_count": 3,
   "metadata": {
    "hideCode": false,
    "hidePrompt": false,
    "slideshow": {
     "slide_type": "fragment"
    }
   },
   "outputs": [],
   "source": [
    "from sklearn.cluster import KMeans"
   ]
  },
  {
   "cell_type": "markdown",
   "metadata": {
    "hideCode": false,
    "hidePrompt": false,
    "slideshow": {
     "slide_type": "slide"
    }
   },
   "source": [
    "Ahora vamos a usar el método *k-means clustering*. Suponemos que hay $3$ grupos de puntos (*clusters*). La función **KMeans** crea un objeto que podemos usar con nuestros datos."
   ]
  },
  {
   "cell_type": "code",
   "execution_count": 4,
   "metadata": {
    "hideCode": false,
    "hidePrompt": false,
    "slideshow": {
     "slide_type": "fragment"
    }
   },
   "outputs": [],
   "source": [
    "kmeans = KMeans(n_clusters=3, n_init=10)"
   ]
  },
  {
   "cell_type": "markdown",
   "metadata": {
    "hideCode": false,
    "hidePrompt": false,
    "slideshow": {
     "slide_type": "fragment"
    }
   },
   "source": [
    "Aplicamos nuestro modelo de *k-means* a los datos que tenemos."
   ]
  },
  {
   "cell_type": "code",
   "execution_count": 5,
   "metadata": {
    "hideCode": false,
    "hidePrompt": false,
    "slideshow": {
     "slide_type": "fragment"
    }
   },
   "outputs": [
    {
     "data": {
      "text/html": [
       "<style>#sk-container-id-1 {color: black;}#sk-container-id-1 pre{padding: 0;}#sk-container-id-1 div.sk-toggleable {background-color: white;}#sk-container-id-1 label.sk-toggleable__label {cursor: pointer;display: block;width: 100%;margin-bottom: 0;padding: 0.3em;box-sizing: border-box;text-align: center;}#sk-container-id-1 label.sk-toggleable__label-arrow:before {content: \"▸\";float: left;margin-right: 0.25em;color: #696969;}#sk-container-id-1 label.sk-toggleable__label-arrow:hover:before {color: black;}#sk-container-id-1 div.sk-estimator:hover label.sk-toggleable__label-arrow:before {color: black;}#sk-container-id-1 div.sk-toggleable__content {max-height: 0;max-width: 0;overflow: hidden;text-align: left;background-color: #f0f8ff;}#sk-container-id-1 div.sk-toggleable__content pre {margin: 0.2em;color: black;border-radius: 0.25em;background-color: #f0f8ff;}#sk-container-id-1 input.sk-toggleable__control:checked~div.sk-toggleable__content {max-height: 200px;max-width: 100%;overflow: auto;}#sk-container-id-1 input.sk-toggleable__control:checked~label.sk-toggleable__label-arrow:before {content: \"▾\";}#sk-container-id-1 div.sk-estimator input.sk-toggleable__control:checked~label.sk-toggleable__label {background-color: #d4ebff;}#sk-container-id-1 div.sk-label input.sk-toggleable__control:checked~label.sk-toggleable__label {background-color: #d4ebff;}#sk-container-id-1 input.sk-hidden--visually {border: 0;clip: rect(1px 1px 1px 1px);clip: rect(1px, 1px, 1px, 1px);height: 1px;margin: -1px;overflow: hidden;padding: 0;position: absolute;width: 1px;}#sk-container-id-1 div.sk-estimator {font-family: monospace;background-color: #f0f8ff;border: 1px dotted black;border-radius: 0.25em;box-sizing: border-box;margin-bottom: 0.5em;}#sk-container-id-1 div.sk-estimator:hover {background-color: #d4ebff;}#sk-container-id-1 div.sk-parallel-item::after {content: \"\";width: 100%;border-bottom: 1px solid gray;flex-grow: 1;}#sk-container-id-1 div.sk-label:hover label.sk-toggleable__label {background-color: #d4ebff;}#sk-container-id-1 div.sk-serial::before {content: \"\";position: absolute;border-left: 1px solid gray;box-sizing: border-box;top: 0;bottom: 0;left: 50%;z-index: 0;}#sk-container-id-1 div.sk-serial {display: flex;flex-direction: column;align-items: center;background-color: white;padding-right: 0.2em;padding-left: 0.2em;position: relative;}#sk-container-id-1 div.sk-item {position: relative;z-index: 1;}#sk-container-id-1 div.sk-parallel {display: flex;align-items: stretch;justify-content: center;background-color: white;position: relative;}#sk-container-id-1 div.sk-item::before, #sk-container-id-1 div.sk-parallel-item::before {content: \"\";position: absolute;border-left: 1px solid gray;box-sizing: border-box;top: 0;bottom: 0;left: 50%;z-index: -1;}#sk-container-id-1 div.sk-parallel-item {display: flex;flex-direction: column;z-index: 1;position: relative;background-color: white;}#sk-container-id-1 div.sk-parallel-item:first-child::after {align-self: flex-end;width: 50%;}#sk-container-id-1 div.sk-parallel-item:last-child::after {align-self: flex-start;width: 50%;}#sk-container-id-1 div.sk-parallel-item:only-child::after {width: 0;}#sk-container-id-1 div.sk-dashed-wrapped {border: 1px dashed gray;margin: 0 0.4em 0.5em 0.4em;box-sizing: border-box;padding-bottom: 0.4em;background-color: white;}#sk-container-id-1 div.sk-label label {font-family: monospace;font-weight: bold;display: inline-block;line-height: 1.2em;}#sk-container-id-1 div.sk-label-container {text-align: center;}#sk-container-id-1 div.sk-container {/* jupyter's `normalize.less` sets `[hidden] { display: none; }` but bootstrap.min.css set `[hidden] { display: none !important; }` so we also need the `!important` here to be able to override the default hidden behavior on the sphinx rendered scikit-learn.org. See: https://github.com/scikit-learn/scikit-learn/issues/21755 */display: inline-block !important;position: relative;}#sk-container-id-1 div.sk-text-repr-fallback {display: none;}</style><div id=\"sk-container-id-1\" class=\"sk-top-container\"><div class=\"sk-text-repr-fallback\"><pre>KMeans(n_clusters=3, n_init=10)</pre><b>In a Jupyter environment, please rerun this cell to show the HTML representation or trust the notebook. <br />On GitHub, the HTML representation is unable to render, please try loading this page with nbviewer.org.</b></div><div class=\"sk-container\" hidden><div class=\"sk-item\"><div class=\"sk-estimator sk-toggleable\"><input class=\"sk-toggleable__control sk-hidden--visually\" id=\"sk-estimator-id-1\" type=\"checkbox\" checked><label for=\"sk-estimator-id-1\" class=\"sk-toggleable__label sk-toggleable__label-arrow\">KMeans</label><div class=\"sk-toggleable__content\"><pre>KMeans(n_clusters=3, n_init=10)</pre></div></div></div></div></div>"
      ],
      "text/plain": [
       "KMeans(n_clusters=3, n_init=10)"
      ]
     },
     "execution_count": 5,
     "metadata": {},
     "output_type": "execute_result"
    }
   ],
   "source": [
    "kmeans.fit(datos)"
   ]
  },
  {
   "cell_type": "markdown",
   "metadata": {
    "hideCode": false,
    "hidePrompt": false,
    "slideshow": {
     "slide_type": "slide"
    }
   },
   "source": [
    "Podemos ver las posiciones de los centros de los grupos, según el algoritmo:"
   ]
  },
  {
   "cell_type": "code",
   "execution_count": 6,
   "metadata": {
    "hideCode": false,
    "hidePrompt": false,
    "slideshow": {
     "slide_type": "fragment"
    }
   },
   "outputs": [
    {
     "data": {
      "text/plain": [
       "array([[ 98.73404627, 101.08138838],\n",
       "       [ 12.12593034,  12.23503402],\n",
       "       [108.56303493, 150.63381276]])"
      ]
     },
     "execution_count": 6,
     "metadata": {},
     "output_type": "execute_result"
    }
   ],
   "source": [
    "kmeans.cluster_centers_"
   ]
  },
  {
   "cell_type": "markdown",
   "metadata": {
    "hideCode": false,
    "hidePrompt": false,
    "slideshow": {
     "slide_type": "fragment"
    }
   },
   "source": [
    "El algoritmo indica cual punto está en cual grupo con una etiqueta (*label*):"
   ]
  },
  {
   "cell_type": "code",
   "execution_count": 7,
   "metadata": {
    "hideCode": false,
    "hidePrompt": false,
    "slideshow": {
     "slide_type": "fragment"
    }
   },
   "outputs": [
    {
     "data": {
      "text/plain": [
       "array([1, 1, 1, 1, 1, 1, 1, 1, 1, 1, 0, 0, 0, 0, 0, 0, 0, 0, 0, 0, 2, 2,\n",
       "       2, 2, 2, 2, 2, 2, 2, 2], dtype=int32)"
      ]
     },
     "execution_count": 7,
     "metadata": {},
     "output_type": "execute_result"
    }
   ],
   "source": [
    "kmeans.labels_"
   ]
  },
  {
   "cell_type": "markdown",
   "metadata": {
    "hideCode": false,
    "hidePrompt": false,
    "slideshow": {
     "slide_type": "slide"
    }
   },
   "source": [
    "Podemos usar estos números en la función *scatter* que grafica los datos. Uno de los argumentos de *scatter* es \"c\", para especificar el color de cada punto."
   ]
  },
  {
   "cell_type": "code",
   "execution_count": 8,
   "metadata": {
    "hideCode": false,
    "hidePrompt": false,
    "slideshow": {
     "slide_type": "fragment"
    }
   },
   "outputs": [
    {
     "data": {
      "image/png": "[encoded data removed]",
      "text/plain": [
       "<Figure size 500x400 with 1 Axes>"
      ]
     },
     "metadata": {},
     "output_type": "display_data"
    }
   ],
   "source": [
    "scatter(datos[:,0],datos[:,1], c=kmeans.labels_)\n",
    "show()"
   ]
  },
  {
   "cell_type": "markdown",
   "metadata": {
    "hideCode": false,
    "hidePrompt": false,
    "slideshow": {
     "slide_type": "slide"
    }
   },
   "source": [
    "El algoritmo ha identificado correctamente los distintos grupos de puntos. Este algorítmo es muy útil si queremos identificar grupos en muchos datos.\n",
    "\n",
    "Es importante notar que no hemos dado información sobre los datos. Solamente que estamos buscando $3$ grupos. El algorítmo *aprendió* cuales son los grupos.\n",
    "\n",
    "Por ejemplo, en vez de $30$ puntos, quizás tenemos $10000$ estrellas, y mediciones de $8$ variables, y no solamente $2$. Entonces, estaríamos buscando varios grupos dentro de los $10000$ puntos en un espacio con $8$ dimensiones! Vemos entonces que un algorítmo automático ayuda muchísimo."
   ]
  },
  {
   "cell_type": "markdown",
   "metadata": {
    "hideCode": false,
    "hidePrompt": false,
    "slideshow": {
     "slide_type": "slide"
    }
   },
   "source": [
    "#### Aprendizaje con supervisión\n",
    "\n",
    "El ejemplo anterior era de un método \"sin supervisión\". No teniamos que dar datos de \"entrenamiento\" para enseñar el algorítmo.\n",
    "\n",
    "Ahora, vamos a ver un ejemplo de un algorítmo con supervisión, donde tenemos que enseñar el algorítmo con algunos de los datos."
   ]
  },
  {
   "cell_type": "markdown",
   "metadata": {
    "hideCode": false,
    "hidePrompt": false,
    "slideshow": {
     "slide_type": "slide"
    }
   },
   "source": [
    "#### Ejemplo: árbol de decisión (decision tree)\n",
    "\n",
    "Un *árbol de decisión* es como un diagrama de flujo. El algorítmo divide los datos según sus propiedades hasta que sean totalmente categorizados.\n",
    "\n",
    "Pero, el algoritmo necesita saber cuales propiedades corresponden a cuales categorías - por lo tanto hay que \"entrenar\" el algoritmo antes. Usamos datos que ya están categorizados (datos de entrenamiento), y el algorítmo se ajusta hasta que funcione bien con estos datos.\n",
    "\n",
    "Después, podemos aplicar el algorítmo a datos nuevos."
   ]
  },
  {
   "cell_type": "markdown",
   "metadata": {
    "hideCode": false,
    "hidePrompt": false,
    "slideshow": {
     "slide_type": "slide"
    }
   },
   "source": [
    "Un ejemplo con la taxonomía de animales.\n",
    "\n",
    "Tenemos un conjunto de datos que son observaciones de propiedades de algunos animales. Supongamos que tenemos observaciones de caballos, perros, vacas y pelícanos.\n",
    "\n",
    "Observaciones |  Caballo  |  Perro  | Vaca  | Pelícano\n",
    "--------------|-----------|---------|-------|---------\n",
    "4 patas?      |    Si     |    Si   |  Si   |    No\n",
    "Tiene pelaje? |    No     |    Si   |  No   |    No\n",
    "Tiene ubres?  |    No     |    No   |  Si   |    No\n",
    "\n",
    "De las observaciones podemos determinar qué animal es usando un *árbol de decisión*:"
   ]
  },
  {
   "cell_type": "markdown",
   "metadata": {
    "hideCode": false,
    "hidePrompt": false,
    "slideshow": {
     "slide_type": "slide"
    }
   },
   "source": [
    "<img style=\"float: center;\" src=\"clase3_imagenes/animals.png\" alt=\"alt text\" width=\"700\" height=\"600\" class=\"blog-image\">"
   ]
  },
  {
   "cell_type": "markdown",
   "metadata": {
    "hideCode": false,
    "hidePrompt": false,
    "slideshow": {
     "slide_type": "slide"
    }
   },
   "source": [
    "Ahora tenemos una clasificación de los datos según el árbol.\n",
    "\n",
    "Con datos científicos, podemos construir el árbol en forma automática usando un algorítmo computacional. De nuevo, el módulo de *scikit-learn* en Python contiene funciones para este."
   ]
  },
  {
   "cell_type": "markdown",
   "metadata": {
    "hideCode": false,
    "hidePrompt": false,
    "slideshow": {
     "slide_type": "slide"
    }
   },
   "source": [
    "#### Otro ejemplo: de las flores *iris*\n",
    "\n",
    "![](clase3_imagenes/iris_petal_sepal.png)"
   ]
  },
  {
   "cell_type": "code",
   "execution_count": 9,
   "metadata": {
    "hideCode": false,
    "hidePrompt": false,
    "slideshow": {
     "slide_type": "slide"
    }
   },
   "outputs": [],
   "source": [
    "from sklearn import tree\n",
    "from sklearn.datasets import load_iris\n",
    "iris = load_iris()"
   ]
  },
  {
   "cell_type": "code",
   "execution_count": 10,
   "metadata": {
    "hideCode": false,
    "hidePrompt": false,
    "slideshow": {
     "slide_type": "fragment"
    }
   },
   "outputs": [
    {
     "data": {
      "text/plain": [
       "['sepal length (cm)',\n",
       " 'sepal width (cm)',\n",
       " 'petal length (cm)',\n",
       " 'petal width (cm)']"
      ]
     },
     "execution_count": 10,
     "metadata": {},
     "output_type": "execute_result"
    }
   ],
   "source": [
    "iris.feature_names"
   ]
  },
  {
   "cell_type": "code",
   "execution_count": 11,
   "metadata": {
    "hideCode": false,
    "hidePrompt": false,
    "slideshow": {
     "slide_type": "slide"
    }
   },
   "outputs": [
    {
     "data": {
      "text/plain": [
       "array([[5.1, 3.5, 1.4, 0.2],\n",
       "       [4.9, 3. , 1.4, 0.2],\n",
       "       [4.7, 3.2, 1.3, 0.2],\n",
       "       [4.6, 3.1, 1.5, 0.2],\n",
       "       [5. , 3.6, 1.4, 0.2],\n",
       "       [5.4, 3.9, 1.7, 0.4],\n",
       "       [4.6, 3.4, 1.4, 0.3],\n",
       "       [5. , 3.4, 1.5, 0.2],\n",
       "       [4.4, 2.9, 1.4, 0.2],\n",
       "       [4.9, 3.1, 1.5, 0.1],\n",
       "       [5.4, 3.7, 1.5, 0.2],\n",
       "       [4.8, 3.4, 1.6, 0.2],\n",
       "       [4.8, 3. , 1.4, 0.1],\n",
       "       [4.3, 3. , 1.1, 0.1],\n",
       "       [5.8, 4. , 1.2, 0.2],\n",
       "       [5.7, 4.4, 1.5, 0.4],\n",
       "       [5.4, 3.9, 1.3, 0.4],\n",
       "       [5.1, 3.5, 1.4, 0.3],\n",
       "       [5.7, 3.8, 1.7, 0.3],\n",
       "       [5.1, 3.8, 1.5, 0.3],\n",
       "       [5.4, 3.4, 1.7, 0.2],\n",
       "       [5.1, 3.7, 1.5, 0.4],\n",
       "       [4.6, 3.6, 1. , 0.2],\n",
       "       [5.1, 3.3, 1.7, 0.5],\n",
       "       [4.8, 3.4, 1.9, 0.2],\n",
       "       [5. , 3. , 1.6, 0.2],\n",
       "       [5. , 3.4, 1.6, 0.4],\n",
       "       [5.2, 3.5, 1.5, 0.2],\n",
       "       [5.2, 3.4, 1.4, 0.2],\n",
       "       [4.7, 3.2, 1.6, 0.2],\n",
       "       [4.8, 3.1, 1.6, 0.2],\n",
       "       [5.4, 3.4, 1.5, 0.4],\n",
       "       [5.2, 4.1, 1.5, 0.1],\n",
       "       [5.5, 4.2, 1.4, 0.2],\n",
       "       [4.9, 3.1, 1.5, 0.2],\n",
       "       [5. , 3.2, 1.2, 0.2],\n",
       "       [5.5, 3.5, 1.3, 0.2],\n",
       "       [4.9, 3.6, 1.4, 0.1],\n",
       "       [4.4, 3. , 1.3, 0.2],\n",
       "       [5.1, 3.4, 1.5, 0.2],\n",
       "       [5. , 3.5, 1.3, 0.3],\n",
       "       [4.5, 2.3, 1.3, 0.3],\n",
       "       [4.4, 3.2, 1.3, 0.2],\n",
       "       [5. , 3.5, 1.6, 0.6],\n",
       "       [5.1, 3.8, 1.9, 0.4],\n",
       "       [4.8, 3. , 1.4, 0.3],\n",
       "       [5.1, 3.8, 1.6, 0.2],\n",
       "       [4.6, 3.2, 1.4, 0.2],\n",
       "       [5.3, 3.7, 1.5, 0.2],\n",
       "       [5. , 3.3, 1.4, 0.2],\n",
       "       [7. , 3.2, 4.7, 1.4],\n",
       "       [6.4, 3.2, 4.5, 1.5],\n",
       "       [6.9, 3.1, 4.9, 1.5],\n",
       "       [5.5, 2.3, 4. , 1.3],\n",
       "       [6.5, 2.8, 4.6, 1.5],\n",
       "       [5.7, 2.8, 4.5, 1.3],\n",
       "       [6.3, 3.3, 4.7, 1.6],\n",
       "       [4.9, 2.4, 3.3, 1. ],\n",
       "       [6.6, 2.9, 4.6, 1.3],\n",
       "       [5.2, 2.7, 3.9, 1.4],\n",
       "       [5. , 2. , 3.5, 1. ],\n",
       "       [5.9, 3. , 4.2, 1.5],\n",
       "       [6. , 2.2, 4. , 1. ],\n",
       "       [6.1, 2.9, 4.7, 1.4],\n",
       "       [5.6, 2.9, 3.6, 1.3],\n",
       "       [6.7, 3.1, 4.4, 1.4],\n",
       "       [5.6, 3. , 4.5, 1.5],\n",
       "       [5.8, 2.7, 4.1, 1. ],\n",
       "       [6.2, 2.2, 4.5, 1.5],\n",
       "       [5.6, 2.5, 3.9, 1.1],\n",
       "       [5.9, 3.2, 4.8, 1.8],\n",
       "       [6.1, 2.8, 4. , 1.3],\n",
       "       [6.3, 2.5, 4.9, 1.5],\n",
       "       [6.1, 2.8, 4.7, 1.2],\n",
       "       [6.4, 2.9, 4.3, 1.3],\n",
       "       [6.6, 3. , 4.4, 1.4],\n",
       "       [6.8, 2.8, 4.8, 1.4],\n",
       "       [6.7, 3. , 5. , 1.7],\n",
       "       [6. , 2.9, 4.5, 1.5],\n",
       "       [5.7, 2.6, 3.5, 1. ],\n",
       "       [5.5, 2.4, 3.8, 1.1],\n",
       "       [5.5, 2.4, 3.7, 1. ],\n",
       "       [5.8, 2.7, 3.9, 1.2],\n",
       "       [6. , 2.7, 5.1, 1.6],\n",
       "       [5.4, 3. , 4.5, 1.5],\n",
       "       [6. , 3.4, 4.5, 1.6],\n",
       "       [6.7, 3.1, 4.7, 1.5],\n",
       "       [6.3, 2.3, 4.4, 1.3],\n",
       "       [5.6, 3. , 4.1, 1.3],\n",
       "       [5.5, 2.5, 4. , 1.3],\n",
       "       [5.5, 2.6, 4.4, 1.2],\n",
       "       [6.1, 3. , 4.6, 1.4],\n",
       "       [5.8, 2.6, 4. , 1.2],\n",
       "       [5. , 2.3, 3.3, 1. ],\n",
       "       [5.6, 2.7, 4.2, 1.3],\n",
       "       [5.7, 3. , 4.2, 1.2],\n",
       "       [5.7, 2.9, 4.2, 1.3],\n",
       "       [6.2, 2.9, 4.3, 1.3],\n",
       "       [5.1, 2.5, 3. , 1.1],\n",
       "       [5.7, 2.8, 4.1, 1.3],\n",
       "       [6.3, 3.3, 6. , 2.5],\n",
       "       [5.8, 2.7, 5.1, 1.9],\n",
       "       [7.1, 3. , 5.9, 2.1],\n",
       "       [6.3, 2.9, 5.6, 1.8],\n",
       "       [6.5, 3. , 5.8, 2.2],\n",
       "       [7.6, 3. , 6.6, 2.1],\n",
       "       [4.9, 2.5, 4.5, 1.7],\n",
       "       [7.3, 2.9, 6.3, 1.8],\n",
       "       [6.7, 2.5, 5.8, 1.8],\n",
       "       [7.2, 3.6, 6.1, 2.5],\n",
       "       [6.5, 3.2, 5.1, 2. ],\n",
       "       [6.4, 2.7, 5.3, 1.9],\n",
       "       [6.8, 3. , 5.5, 2.1],\n",
       "       [5.7, 2.5, 5. , 2. ],\n",
       "       [5.8, 2.8, 5.1, 2.4],\n",
       "       [6.4, 3.2, 5.3, 2.3],\n",
       "       [6.5, 3. , 5.5, 1.8],\n",
       "       [7.7, 3.8, 6.7, 2.2],\n",
       "       [7.7, 2.6, 6.9, 2.3],\n",
       "       [6. , 2.2, 5. , 1.5],\n",
       "       [6.9, 3.2, 5.7, 2.3],\n",
       "       [5.6, 2.8, 4.9, 2. ],\n",
       "       [7.7, 2.8, 6.7, 2. ],\n",
       "       [6.3, 2.7, 4.9, 1.8],\n",
       "       [6.7, 3.3, 5.7, 2.1],\n",
       "       [7.2, 3.2, 6. , 1.8],\n",
       "       [6.2, 2.8, 4.8, 1.8],\n",
       "       [6.1, 3. , 4.9, 1.8],\n",
       "       [6.4, 2.8, 5.6, 2.1],\n",
       "       [7.2, 3. , 5.8, 1.6],\n",
       "       [7.4, 2.8, 6.1, 1.9],\n",
       "       [7.9, 3.8, 6.4, 2. ],\n",
       "       [6.4, 2.8, 5.6, 2.2],\n",
       "       [6.3, 2.8, 5.1, 1.5],\n",
       "       [6.1, 2.6, 5.6, 1.4],\n",
       "       [7.7, 3. , 6.1, 2.3],\n",
       "       [6.3, 3.4, 5.6, 2.4],\n",
       "       [6.4, 3.1, 5.5, 1.8],\n",
       "       [6. , 3. , 4.8, 1.8],\n",
       "       [6.9, 3.1, 5.4, 2.1],\n",
       "       [6.7, 3.1, 5.6, 2.4],\n",
       "       [6.9, 3.1, 5.1, 2.3],\n",
       "       [5.8, 2.7, 5.1, 1.9],\n",
       "       [6.8, 3.2, 5.9, 2.3],\n",
       "       [6.7, 3.3, 5.7, 2.5],\n",
       "       [6.7, 3. , 5.2, 2.3],\n",
       "       [6.3, 2.5, 5. , 1.9],\n",
       "       [6.5, 3. , 5.2, 2. ],\n",
       "       [6.2, 3.4, 5.4, 2.3],\n",
       "       [5.9, 3. , 5.1, 1.8]])"
      ]
     },
     "execution_count": 11,
     "metadata": {},
     "output_type": "execute_result"
    }
   ],
   "source": [
    "iris.data"
   ]
  },
  {
   "cell_type": "code",
   "execution_count": 12,
   "metadata": {
    "hideCode": false,
    "hidePrompt": false,
    "slideshow": {
     "slide_type": "slide"
    }
   },
   "outputs": [],
   "source": [
    "arbol = tree.DecisionTreeClassifier()\n",
    "arbol = arbol.fit(iris.data, iris.target)"
   ]
  },
  {
   "cell_type": "code",
   "execution_count": 13,
   "metadata": {
    "hideCode": false,
    "hidePrompt": false,
    "slideshow": {
     "slide_type": "slide"
    }
   },
   "outputs": [],
   "source": [
    "import graphviz"
   ]
  },
  {
   "cell_type": "code",
   "execution_count": 14,
   "metadata": {
    "hideCode": false,
    "hidePrompt": false,
    "slideshow": {
     "slide_type": "fragment"
    }
   },
   "outputs": [],
   "source": [
    "dot_data = tree.export_graphviz(arbol, out_file=None, \n",
    "                         feature_names=iris.feature_names,  \n",
    "                         class_names=iris.target_names,  \n",
    "                         filled=True, rounded=True,  \n",
    "                         special_characters=True)"
   ]
  },
  {
   "cell_type": "code",
   "execution_count": 15,
   "metadata": {
    "hideCode": false,
    "hidePrompt": false,
    "slideshow": {
     "slide_type": "fragment"
    }
   },
   "outputs": [],
   "source": [
    "graph = graphviz.Source(dot_data)"
   ]
  },
  {
   "cell_type": "code",
   "execution_count": 43,
   "metadata": {
    "hideCode": false,
    "hidePrompt": false,
    "slideshow": {
     "slide_type": "slide"
    }
   },
   "outputs": [
    {
     "data": {
      "image/svg+xml": [
       "<?xml version=\"1.0\" encoding=\"UTF-8\" standalone=\"no\"?>\n",
       "<!DOCTYPE svg PUBLIC \"-//W3C//DTD SVG 1.1//EN\"\n",
       " \"http://www.w3.org/Graphics/SVG/1.1/DTD/svg11.dtd\">\n",
       "<!-- Generated by graphviz version 9.0.0 (20230911.1827)\n",
       " -->\n",
       "<!-- Title: Tree Pages: 1 -->\n",
       "<svg width=\"857pt\" height=\"671pt\"\n",
       " viewBox=\"0.00 0.00 857.38 671.00\" xmlns=\"http://www.w3.org/2000/svg\" xmlns:xlink=\"http://www.w3.org/1999/xlink\">\n",
       "<g id=\"graph0\" class=\"graph\" transform=\"scale(1 1) rotate(0) translate(4 667)\">\n",
       "<title>Tree</title>\n",
       "<polygon fill=\"white\" stroke=\"none\" points=\"-4,4 -4,-667 853.38,-667 853.38,4 -4,4\"/>\n",
       "<!-- 0 -->\n",
       "<g id=\"node1\" class=\"node\">\n",
       "<title>0</title>\n",
       "<path fill=\"#ffffff\" stroke=\"black\" d=\"M506,-663C506,-663 384.25,-663 384.25,-663 378.25,-663 372.25,-657 372.25,-651 372.25,-651 372.25,-592 372.25,-592 372.25,-586 378.25,-580 384.25,-580 384.25,-580 506,-580 506,-580 512,-580 518,-586 518,-592 518,-592 518,-651 518,-651 518,-657 512,-663 506,-663\"/>\n",
       "<text text-anchor=\"start\" x=\"380.25\" y=\"-645.7\" font-family=\"Helvetica,sans-Serif\" font-size=\"14.00\">petal width (cm) ≤ 0.8</text>\n",
       "<text text-anchor=\"start\" x=\"409.88\" y=\"-630.7\" font-family=\"Helvetica,sans-Serif\" font-size=\"14.00\">gini = 0.667</text>\n",
       "<text text-anchor=\"start\" x=\"400.5\" y=\"-615.7\" font-family=\"Helvetica,sans-Serif\" font-size=\"14.00\">samples = 150</text>\n",
       "<text text-anchor=\"start\" x=\"387.38\" y=\"-600.7\" font-family=\"Helvetica,sans-Serif\" font-size=\"14.00\">value = [50, 50, 50]</text>\n",
       "<text text-anchor=\"start\" x=\"402\" y=\"-585.7\" font-family=\"Helvetica,sans-Serif\" font-size=\"14.00\">class = setosa</text>\n",
       "</g>\n",
       "<!-- 1 -->\n",
       "<g id=\"node2\" class=\"node\">\n",
       "<title>1</title>\n",
       "<path fill=\"#e58139\" stroke=\"black\" d=\"M415.38,-536.5C415.38,-536.5 322.88,-536.5 322.88,-536.5 316.88,-536.5 310.88,-530.5 310.88,-524.5 310.88,-524.5 310.88,-480.5 310.88,-480.5 310.88,-474.5 316.88,-468.5 322.88,-468.5 322.88,-468.5 415.38,-468.5 415.38,-468.5 421.38,-468.5 427.38,-474.5 427.38,-480.5 427.38,-480.5 427.38,-524.5 427.38,-524.5 427.38,-530.5 421.38,-536.5 415.38,-536.5\"/>\n",
       "<text text-anchor=\"start\" x=\"341.38\" y=\"-519.2\" font-family=\"Helvetica,sans-Serif\" font-size=\"14.00\">gini = 0.0</text>\n",
       "<text text-anchor=\"start\" x=\"328.25\" y=\"-504.2\" font-family=\"Helvetica,sans-Serif\" font-size=\"14.00\">samples = 50</text>\n",
       "<text text-anchor=\"start\" x=\"318.88\" y=\"-489.2\" font-family=\"Helvetica,sans-Serif\" font-size=\"14.00\">value = [50, 0, 0]</text>\n",
       "<text text-anchor=\"start\" x=\"326\" y=\"-474.2\" font-family=\"Helvetica,sans-Serif\" font-size=\"14.00\">class = setosa</text>\n",
       "</g>\n",
       "<!-- 0&#45;&gt;1 -->\n",
       "<g id=\"edge1\" class=\"edge\">\n",
       "<title>0&#45;&gt;1</title>\n",
       "<path fill=\"none\" stroke=\"black\" d=\"M418.54,-579.58C411.53,-568.77 403.93,-557.09 396.86,-546.19\"/>\n",
       "<polygon fill=\"black\" stroke=\"black\" points=\"400,-544.61 391.62,-538.13 394.13,-548.42 400,-544.61\"/>\n",
       "<text text-anchor=\"middle\" x=\"385.6\" y=\"-555.52\" font-family=\"Helvetica,sans-Serif\" font-size=\"14.00\">True</text>\n",
       "</g>\n",
       "<!-- 2 -->\n",
       "<g id=\"node3\" class=\"node\">\n",
       "<title>2</title>\n",
       "<path fill=\"#ffffff\" stroke=\"black\" d=\"M586.75,-544C586.75,-544 457.5,-544 457.5,-544 451.5,-544 445.5,-538 445.5,-532 445.5,-532 445.5,-473 445.5,-473 445.5,-467 451.5,-461 457.5,-461 457.5,-461 586.75,-461 586.75,-461 592.75,-461 598.75,-467 598.75,-473 598.75,-473 598.75,-532 598.75,-532 598.75,-538 592.75,-544 586.75,-544\"/>\n",
       "<text text-anchor=\"start\" x=\"453.5\" y=\"-526.7\" font-family=\"Helvetica,sans-Serif\" font-size=\"14.00\">petal width (cm) ≤ 1.75</text>\n",
       "<text text-anchor=\"start\" x=\"494.38\" y=\"-511.7\" font-family=\"Helvetica,sans-Serif\" font-size=\"14.00\">gini = 0.5</text>\n",
       "<text text-anchor=\"start\" x=\"477.5\" y=\"-496.7\" font-family=\"Helvetica,sans-Serif\" font-size=\"14.00\">samples = 100</text>\n",
       "<text text-anchor=\"start\" x=\"468.12\" y=\"-481.7\" font-family=\"Helvetica,sans-Serif\" font-size=\"14.00\">value = [0, 50, 50]</text>\n",
       "<text text-anchor=\"start\" x=\"470\" y=\"-466.7\" font-family=\"Helvetica,sans-Serif\" font-size=\"14.00\">class = versicolor</text>\n",
       "</g>\n",
       "<!-- 0&#45;&gt;2 -->\n",
       "<g id=\"edge2\" class=\"edge\">\n",
       "<title>0&#45;&gt;2</title>\n",
       "<path fill=\"none\" stroke=\"black\" d=\"M472.06,-579.58C477.54,-571.25 483.37,-562.39 489.03,-553.78\"/>\n",
       "<polygon fill=\"black\" stroke=\"black\" points=\"491.93,-555.74 494.51,-545.46 486.09,-551.89 491.93,-555.74\"/>\n",
       "<text text-anchor=\"middle\" x=\"500.39\" y=\"-562.89\" font-family=\"Helvetica,sans-Serif\" font-size=\"14.00\">False</text>\n",
       "</g>\n",
       "<!-- 3 -->\n",
       "<g id=\"node4\" class=\"node\">\n",
       "<title>3</title>\n",
       "<path fill=\"#4de88e\" stroke=\"black\" d=\"M478.38,-425C478.38,-425 343.88,-425 343.88,-425 337.88,-425 331.88,-419 331.88,-413 331.88,-413 331.88,-354 331.88,-354 331.88,-348 337.88,-342 343.88,-342 343.88,-342 478.38,-342 478.38,-342 484.38,-342 490.38,-348 490.38,-354 490.38,-354 490.38,-413 490.38,-413 490.38,-419 484.38,-425 478.38,-425\"/>\n",
       "<text text-anchor=\"start\" x=\"339.88\" y=\"-407.7\" font-family=\"Helvetica,sans-Serif\" font-size=\"14.00\">petal length (cm) ≤ 4.95</text>\n",
       "<text text-anchor=\"start\" x=\"375.88\" y=\"-392.7\" font-family=\"Helvetica,sans-Serif\" font-size=\"14.00\">gini = 0.168</text>\n",
       "<text text-anchor=\"start\" x=\"370.25\" y=\"-377.7\" font-family=\"Helvetica,sans-Serif\" font-size=\"14.00\">samples = 54</text>\n",
       "<text text-anchor=\"start\" x=\"360.88\" y=\"-362.7\" font-family=\"Helvetica,sans-Serif\" font-size=\"14.00\">value = [0, 49, 5]</text>\n",
       "<text text-anchor=\"start\" x=\"359\" y=\"-347.7\" font-family=\"Helvetica,sans-Serif\" font-size=\"14.00\">class = versicolor</text>\n",
       "</g>\n",
       "<!-- 2&#45;&gt;3 -->\n",
       "<g id=\"edge3\" class=\"edge\">\n",
       "<title>2&#45;&gt;3</title>\n",
       "<path fill=\"none\" stroke=\"black\" d=\"M483.3,-460.58C474.97,-451.8 466.09,-442.44 457.51,-433.39\"/>\n",
       "<polygon fill=\"black\" stroke=\"black\" points=\"460.2,-431.14 450.78,-426.3 455.12,-435.96 460.2,-431.14\"/>\n",
       "</g>\n",
       "<!-- 12 -->\n",
       "<g id=\"node13\" class=\"node\">\n",
       "<title>12</title>\n",
       "<path fill=\"#843de6\" stroke=\"black\" d=\"M701.38,-425C701.38,-425 566.88,-425 566.88,-425 560.88,-425 554.88,-419 554.88,-413 554.88,-413 554.88,-354 554.88,-354 554.88,-348 560.88,-342 566.88,-342 566.88,-342 701.38,-342 701.38,-342 707.38,-342 713.38,-348 713.38,-354 713.38,-354 713.38,-413 713.38,-413 713.38,-419 707.38,-425 701.38,-425\"/>\n",
       "<text text-anchor=\"start\" x=\"562.88\" y=\"-407.7\" font-family=\"Helvetica,sans-Serif\" font-size=\"14.00\">petal length (cm) ≤ 4.85</text>\n",
       "<text text-anchor=\"start\" x=\"598.88\" y=\"-392.7\" font-family=\"Helvetica,sans-Serif\" font-size=\"14.00\">gini = 0.043</text>\n",
       "<text text-anchor=\"start\" x=\"593.25\" y=\"-377.7\" font-family=\"Helvetica,sans-Serif\" font-size=\"14.00\">samples = 46</text>\n",
       "<text text-anchor=\"start\" x=\"583.88\" y=\"-362.7\" font-family=\"Helvetica,sans-Serif\" font-size=\"14.00\">value = [0, 1, 45]</text>\n",
       "<text text-anchor=\"start\" x=\"586.12\" y=\"-347.7\" font-family=\"Helvetica,sans-Serif\" font-size=\"14.00\">class = virginica</text>\n",
       "</g>\n",
       "<!-- 2&#45;&gt;12 -->\n",
       "<g id=\"edge12\" class=\"edge\">\n",
       "<title>2&#45;&gt;12</title>\n",
       "<path fill=\"none\" stroke=\"black\" d=\"M561.3,-460.58C569.7,-451.8 578.66,-442.44 587.32,-433.39\"/>\n",
       "<polygon fill=\"black\" stroke=\"black\" points=\"589.73,-435.94 594.12,-426.29 584.67,-431.1 589.73,-435.94\"/>\n",
       "</g>\n",
       "<!-- 4 -->\n",
       "<g id=\"node5\" class=\"node\">\n",
       "<title>4</title>\n",
       "<path fill=\"#3de684\" stroke=\"black\" d=\"M258.75,-306C258.75,-306 129.5,-306 129.5,-306 123.5,-306 117.5,-300 117.5,-294 117.5,-294 117.5,-235 117.5,-235 117.5,-229 123.5,-223 129.5,-223 129.5,-223 258.75,-223 258.75,-223 264.75,-223 270.75,-229 270.75,-235 270.75,-235 270.75,-294 270.75,-294 270.75,-300 264.75,-306 258.75,-306\"/>\n",
       "<text text-anchor=\"start\" x=\"125.5\" y=\"-288.7\" font-family=\"Helvetica,sans-Serif\" font-size=\"14.00\">petal width (cm) ≤ 1.65</text>\n",
       "<text text-anchor=\"start\" x=\"158.88\" y=\"-273.7\" font-family=\"Helvetica,sans-Serif\" font-size=\"14.00\">gini = 0.041</text>\n",
       "<text text-anchor=\"start\" x=\"153.25\" y=\"-258.7\" font-family=\"Helvetica,sans-Serif\" font-size=\"14.00\">samples = 48</text>\n",
       "<text text-anchor=\"start\" x=\"143.88\" y=\"-243.7\" font-family=\"Helvetica,sans-Serif\" font-size=\"14.00\">value = [0, 47, 1]</text>\n",
       "<text text-anchor=\"start\" x=\"142\" y=\"-228.7\" font-family=\"Helvetica,sans-Serif\" font-size=\"14.00\">class = versicolor</text>\n",
       "</g>\n",
       "<!-- 3&#45;&gt;4 -->\n",
       "<g id=\"edge4\" class=\"edge\">\n",
       "<title>3&#45;&gt;4</title>\n",
       "<path fill=\"none\" stroke=\"black\" d=\"M335.23,-341.58C317.39,-331.96 298.25,-321.64 280.01,-311.81\"/>\n",
       "<polygon fill=\"black\" stroke=\"black\" points=\"281.77,-308.78 271.31,-307.12 278.45,-314.94 281.77,-308.78\"/>\n",
       "</g>\n",
       "<!-- 7 -->\n",
       "<g id=\"node8\" class=\"node\">\n",
       "<title>7</title>\n",
       "<path fill=\"#c09cf2\" stroke=\"black\" d=\"M475.75,-306C475.75,-306 346.5,-306 346.5,-306 340.5,-306 334.5,-300 334.5,-294 334.5,-294 334.5,-235 334.5,-235 334.5,-229 340.5,-223 346.5,-223 346.5,-223 475.75,-223 475.75,-223 481.75,-223 487.75,-229 487.75,-235 487.75,-235 487.75,-294 487.75,-294 487.75,-300 481.75,-306 475.75,-306\"/>\n",
       "<text text-anchor=\"start\" x=\"342.5\" y=\"-288.7\" font-family=\"Helvetica,sans-Serif\" font-size=\"14.00\">petal width (cm) ≤ 1.55</text>\n",
       "<text text-anchor=\"start\" x=\"375.88\" y=\"-273.7\" font-family=\"Helvetica,sans-Serif\" font-size=\"14.00\">gini = 0.444</text>\n",
       "<text text-anchor=\"start\" x=\"374\" y=\"-258.7\" font-family=\"Helvetica,sans-Serif\" font-size=\"14.00\">samples = 6</text>\n",
       "<text text-anchor=\"start\" x=\"364.62\" y=\"-243.7\" font-family=\"Helvetica,sans-Serif\" font-size=\"14.00\">value = [0, 2, 4]</text>\n",
       "<text text-anchor=\"start\" x=\"363.12\" y=\"-228.7\" font-family=\"Helvetica,sans-Serif\" font-size=\"14.00\">class = virginica</text>\n",
       "</g>\n",
       "<!-- 3&#45;&gt;7 -->\n",
       "<g id=\"edge7\" class=\"edge\">\n",
       "<title>3&#45;&gt;7</title>\n",
       "<path fill=\"none\" stroke=\"black\" d=\"M411.12,-341.58C411.12,-333.79 411.12,-325.53 411.12,-317.45\"/>\n",
       "<polygon fill=\"black\" stroke=\"black\" points=\"414.63,-317.71 411.13,-307.71 407.63,-317.71 414.63,-317.71\"/>\n",
       "</g>\n",
       "<!-- 5 -->\n",
       "<g id=\"node6\" class=\"node\">\n",
       "<title>5</title>\n",
       "<path fill=\"#39e581\" stroke=\"black\" d=\"M108.25,-179.5C108.25,-179.5 12,-179.5 12,-179.5 6,-179.5 0,-173.5 0,-167.5 0,-167.5 0,-123.5 0,-123.5 0,-117.5 6,-111.5 12,-111.5 12,-111.5 108.25,-111.5 108.25,-111.5 114.25,-111.5 120.25,-117.5 120.25,-123.5 120.25,-123.5 120.25,-167.5 120.25,-167.5 120.25,-173.5 114.25,-179.5 108.25,-179.5\"/>\n",
       "<text text-anchor=\"start\" x=\"32.38\" y=\"-162.2\" font-family=\"Helvetica,sans-Serif\" font-size=\"14.00\">gini = 0.0</text>\n",
       "<text text-anchor=\"start\" x=\"19.25\" y=\"-147.2\" font-family=\"Helvetica,sans-Serif\" font-size=\"14.00\">samples = 47</text>\n",
       "<text text-anchor=\"start\" x=\"9.88\" y=\"-132.2\" font-family=\"Helvetica,sans-Serif\" font-size=\"14.00\">value = [0, 47, 0]</text>\n",
       "<text text-anchor=\"start\" x=\"8\" y=\"-117.2\" font-family=\"Helvetica,sans-Serif\" font-size=\"14.00\">class = versicolor</text>\n",
       "</g>\n",
       "<!-- 4&#45;&gt;5 -->\n",
       "<g id=\"edge5\" class=\"edge\">\n",
       "<title>4&#45;&gt;5</title>\n",
       "<path fill=\"none\" stroke=\"black\" d=\"M147.26,-222.58C134.13,-211.12 119.87,-198.67 106.76,-187.22\"/>\n",
       "<polygon fill=\"black\" stroke=\"black\" points=\"109.31,-184.8 99.47,-180.86 104.7,-190.07 109.31,-184.8\"/>\n",
       "</g>\n",
       "<!-- 6 -->\n",
       "<g id=\"node7\" class=\"node\">\n",
       "<title>6</title>\n",
       "<path fill=\"#8139e5\" stroke=\"black\" d=\"M238.12,-179.5C238.12,-179.5 150.12,-179.5 150.12,-179.5 144.12,-179.5 138.12,-173.5 138.12,-167.5 138.12,-167.5 138.12,-123.5 138.12,-123.5 138.12,-117.5 144.12,-111.5 150.12,-111.5 150.12,-111.5 238.12,-111.5 238.12,-111.5 244.12,-111.5 250.12,-117.5 250.12,-123.5 250.12,-123.5 250.12,-167.5 250.12,-167.5 250.12,-173.5 244.12,-179.5 238.12,-179.5\"/>\n",
       "<text text-anchor=\"start\" x=\"166.38\" y=\"-162.2\" font-family=\"Helvetica,sans-Serif\" font-size=\"14.00\">gini = 0.0</text>\n",
       "<text text-anchor=\"start\" x=\"157\" y=\"-147.2\" font-family=\"Helvetica,sans-Serif\" font-size=\"14.00\">samples = 1</text>\n",
       "<text text-anchor=\"start\" x=\"147.62\" y=\"-132.2\" font-family=\"Helvetica,sans-Serif\" font-size=\"14.00\">value = [0, 0, 1]</text>\n",
       "<text text-anchor=\"start\" x=\"146.12\" y=\"-117.2\" font-family=\"Helvetica,sans-Serif\" font-size=\"14.00\">class = virginica</text>\n",
       "</g>\n",
       "<!-- 4&#45;&gt;6 -->\n",
       "<g id=\"edge6\" class=\"edge\">\n",
       "<title>4&#45;&gt;6</title>\n",
       "<path fill=\"none\" stroke=\"black\" d=\"M194.12,-222.58C194.12,-212.43 194.12,-201.5 194.12,-191.18\"/>\n",
       "<polygon fill=\"black\" stroke=\"black\" points=\"197.63,-191.37 194.13,-181.37 190.63,-191.37 197.63,-191.37\"/>\n",
       "</g>\n",
       "<!-- 8 -->\n",
       "<g id=\"node9\" class=\"node\">\n",
       "<title>8</title>\n",
       "<path fill=\"#8139e5\" stroke=\"black\" d=\"M368.12,-179.5C368.12,-179.5 280.12,-179.5 280.12,-179.5 274.12,-179.5 268.12,-173.5 268.12,-167.5 268.12,-167.5 268.12,-123.5 268.12,-123.5 268.12,-117.5 274.12,-111.5 280.12,-111.5 280.12,-111.5 368.12,-111.5 368.12,-111.5 374.12,-111.5 380.12,-117.5 380.12,-123.5 380.12,-123.5 380.12,-167.5 380.12,-167.5 380.12,-173.5 374.12,-179.5 368.12,-179.5\"/>\n",
       "<text text-anchor=\"start\" x=\"296.38\" y=\"-162.2\" font-family=\"Helvetica,sans-Serif\" font-size=\"14.00\">gini = 0.0</text>\n",
       "<text text-anchor=\"start\" x=\"287\" y=\"-147.2\" font-family=\"Helvetica,sans-Serif\" font-size=\"14.00\">samples = 3</text>\n",
       "<text text-anchor=\"start\" x=\"277.62\" y=\"-132.2\" font-family=\"Helvetica,sans-Serif\" font-size=\"14.00\">value = [0, 0, 3]</text>\n",
       "<text text-anchor=\"start\" x=\"276.12\" y=\"-117.2\" font-family=\"Helvetica,sans-Serif\" font-size=\"14.00\">class = virginica</text>\n",
       "</g>\n",
       "<!-- 7&#45;&gt;8 -->\n",
       "<g id=\"edge8\" class=\"edge\">\n",
       "<title>7&#45;&gt;8</title>\n",
       "<path fill=\"none\" stroke=\"black\" d=\"M380.7,-222.58C372.58,-211.66 363.8,-199.85 355.62,-188.86\"/>\n",
       "<polygon fill=\"black\" stroke=\"black\" points=\"358.61,-187.01 349.84,-181.08 352.99,-191.19 358.61,-187.01\"/>\n",
       "</g>\n",
       "<!-- 9 -->\n",
       "<g id=\"node10\" class=\"node\">\n",
       "<title>9</title>\n",
       "<path fill=\"#9cf2c0\" stroke=\"black\" d=\"M544.38,-187C544.38,-187 409.88,-187 409.88,-187 403.88,-187 397.88,-181 397.88,-175 397.88,-175 397.88,-116 397.88,-116 397.88,-110 403.88,-104 409.88,-104 409.88,-104 544.38,-104 544.38,-104 550.38,-104 556.38,-110 556.38,-116 556.38,-116 556.38,-175 556.38,-175 556.38,-181 550.38,-187 544.38,-187\"/>\n",
       "<text text-anchor=\"start\" x=\"405.88\" y=\"-169.7\" font-family=\"Helvetica,sans-Serif\" font-size=\"14.00\">petal length (cm) ≤ 5.45</text>\n",
       "<text text-anchor=\"start\" x=\"441.88\" y=\"-154.7\" font-family=\"Helvetica,sans-Serif\" font-size=\"14.00\">gini = 0.444</text>\n",
       "<text text-anchor=\"start\" x=\"440\" y=\"-139.7\" font-family=\"Helvetica,sans-Serif\" font-size=\"14.00\">samples = 3</text>\n",
       "<text text-anchor=\"start\" x=\"430.62\" y=\"-124.7\" font-family=\"Helvetica,sans-Serif\" font-size=\"14.00\">value = [0, 2, 1]</text>\n",
       "<text text-anchor=\"start\" x=\"425\" y=\"-109.7\" font-family=\"Helvetica,sans-Serif\" font-size=\"14.00\">class = versicolor</text>\n",
       "</g>\n",
       "<!-- 7&#45;&gt;9 -->\n",
       "<g id=\"edge9\" class=\"edge\">\n",
       "<title>7&#45;&gt;9</title>\n",
       "<path fill=\"none\" stroke=\"black\" d=\"M434.21,-222.58C438.86,-214.34 443.8,-205.58 448.6,-197.06\"/>\n",
       "<polygon fill=\"black\" stroke=\"black\" points=\"451.56,-198.95 453.42,-188.52 445.46,-195.51 451.56,-198.95\"/>\n",
       "</g>\n",
       "<!-- 10 -->\n",
       "<g id=\"node11\" class=\"node\">\n",
       "<title>10</title>\n",
       "<path fill=\"#39e581\" stroke=\"black\" d=\"M458.25,-68C458.25,-68 362,-68 362,-68 356,-68 350,-62 350,-56 350,-56 350,-12 350,-12 350,-6 356,0 362,0 362,0 458.25,0 458.25,0 464.25,0 470.25,-6 470.25,-12 470.25,-12 470.25,-56 470.25,-56 470.25,-62 464.25,-68 458.25,-68\"/>\n",
       "<text text-anchor=\"start\" x=\"382.38\" y=\"-50.7\" font-family=\"Helvetica,sans-Serif\" font-size=\"14.00\">gini = 0.0</text>\n",
       "<text text-anchor=\"start\" x=\"373\" y=\"-35.7\" font-family=\"Helvetica,sans-Serif\" font-size=\"14.00\">samples = 2</text>\n",
       "<text text-anchor=\"start\" x=\"363.62\" y=\"-20.7\" font-family=\"Helvetica,sans-Serif\" font-size=\"14.00\">value = [0, 2, 0]</text>\n",
       "<text text-anchor=\"start\" x=\"358\" y=\"-5.7\" font-family=\"Helvetica,sans-Serif\" font-size=\"14.00\">class = versicolor</text>\n",
       "</g>\n",
       "<!-- 9&#45;&gt;10 -->\n",
       "<g id=\"edge10\" class=\"edge\">\n",
       "<title>9&#45;&gt;10</title>\n",
       "<path fill=\"none\" stroke=\"black\" d=\"M452.18,-103.73C447.04,-95.34 441.62,-86.47 436.44,-78.01\"/>\n",
       "<polygon fill=\"black\" stroke=\"black\" points=\"439.49,-76.29 431.29,-69.59 433.52,-79.95 439.49,-76.29\"/>\n",
       "</g>\n",
       "<!-- 11 -->\n",
       "<g id=\"node12\" class=\"node\">\n",
       "<title>11</title>\n",
       "<path fill=\"#8139e5\" stroke=\"black\" d=\"M588.12,-68C588.12,-68 500.12,-68 500.12,-68 494.12,-68 488.12,-62 488.12,-56 488.12,-56 488.12,-12 488.12,-12 488.12,-6 494.12,0 500.12,0 500.12,0 588.12,0 588.12,0 594.12,0 600.12,-6 600.12,-12 600.12,-12 600.12,-56 600.12,-56 600.12,-62 594.12,-68 588.12,-68\"/>\n",
       "<text text-anchor=\"start\" x=\"516.38\" y=\"-50.7\" font-family=\"Helvetica,sans-Serif\" font-size=\"14.00\">gini = 0.0</text>\n",
       "<text text-anchor=\"start\" x=\"507\" y=\"-35.7\" font-family=\"Helvetica,sans-Serif\" font-size=\"14.00\">samples = 1</text>\n",
       "<text text-anchor=\"start\" x=\"497.62\" y=\"-20.7\" font-family=\"Helvetica,sans-Serif\" font-size=\"14.00\">value = [0, 0, 1]</text>\n",
       "<text text-anchor=\"start\" x=\"496.12\" y=\"-5.7\" font-family=\"Helvetica,sans-Serif\" font-size=\"14.00\">class = virginica</text>\n",
       "</g>\n",
       "<!-- 9&#45;&gt;11 -->\n",
       "<g id=\"edge11\" class=\"edge\">\n",
       "<title>9&#45;&gt;11</title>\n",
       "<path fill=\"none\" stroke=\"black\" d=\"M502.07,-103.73C507.21,-95.34 512.63,-86.47 517.81,-78.01\"/>\n",
       "<polygon fill=\"black\" stroke=\"black\" points=\"520.73,-79.95 522.96,-69.59 514.76,-76.29 520.73,-79.95\"/>\n",
       "</g>\n",
       "<!-- 13 -->\n",
       "<g id=\"node14\" class=\"node\">\n",
       "<title>13</title>\n",
       "<path fill=\"#c09cf2\" stroke=\"black\" d=\"M702.88,-306C702.88,-306 565.38,-306 565.38,-306 559.38,-306 553.38,-300 553.38,-294 553.38,-294 553.38,-235 553.38,-235 553.38,-229 559.38,-223 565.38,-223 565.38,-223 702.88,-223 702.88,-223 708.88,-223 714.88,-229 714.88,-235 714.88,-235 714.88,-294 714.88,-294 714.88,-300 708.88,-306 702.88,-306\"/>\n",
       "<text text-anchor=\"start\" x=\"561.38\" y=\"-288.7\" font-family=\"Helvetica,sans-Serif\" font-size=\"14.00\">sepal length (cm) ≤ 5.95</text>\n",
       "<text text-anchor=\"start\" x=\"598.88\" y=\"-273.7\" font-family=\"Helvetica,sans-Serif\" font-size=\"14.00\">gini = 0.444</text>\n",
       "<text text-anchor=\"start\" x=\"597\" y=\"-258.7\" font-family=\"Helvetica,sans-Serif\" font-size=\"14.00\">samples = 3</text>\n",
       "<text text-anchor=\"start\" x=\"587.62\" y=\"-243.7\" font-family=\"Helvetica,sans-Serif\" font-size=\"14.00\">value = [0, 1, 2]</text>\n",
       "<text text-anchor=\"start\" x=\"586.12\" y=\"-228.7\" font-family=\"Helvetica,sans-Serif\" font-size=\"14.00\">class = virginica</text>\n",
       "</g>\n",
       "<!-- 12&#45;&gt;13 -->\n",
       "<g id=\"edge13\" class=\"edge\">\n",
       "<title>12&#45;&gt;13</title>\n",
       "<path fill=\"none\" stroke=\"black\" d=\"M634.12,-341.58C634.12,-333.79 634.12,-325.53 634.12,-317.45\"/>\n",
       "<polygon fill=\"black\" stroke=\"black\" points=\"637.63,-317.71 634.13,-307.71 630.63,-317.71 637.63,-317.71\"/>\n",
       "</g>\n",
       "<!-- 16 -->\n",
       "<g id=\"node17\" class=\"node\">\n",
       "<title>16</title>\n",
       "<path fill=\"#8139e5\" stroke=\"black\" d=\"M837.38,-298.5C837.38,-298.5 744.88,-298.5 744.88,-298.5 738.88,-298.5 732.88,-292.5 732.88,-286.5 732.88,-286.5 732.88,-242.5 732.88,-242.5 732.88,-236.5 738.88,-230.5 744.88,-230.5 744.88,-230.5 837.38,-230.5 837.38,-230.5 843.38,-230.5 849.38,-236.5 849.38,-242.5 849.38,-242.5 849.38,-286.5 849.38,-286.5 849.38,-292.5 843.38,-298.5 837.38,-298.5\"/>\n",
       "<text text-anchor=\"start\" x=\"763.38\" y=\"-281.2\" font-family=\"Helvetica,sans-Serif\" font-size=\"14.00\">gini = 0.0</text>\n",
       "<text text-anchor=\"start\" x=\"750.25\" y=\"-266.2\" font-family=\"Helvetica,sans-Serif\" font-size=\"14.00\">samples = 43</text>\n",
       "<text text-anchor=\"start\" x=\"740.88\" y=\"-251.2\" font-family=\"Helvetica,sans-Serif\" font-size=\"14.00\">value = [0, 0, 43]</text>\n",
       "<text text-anchor=\"start\" x=\"743.12\" y=\"-236.2\" font-family=\"Helvetica,sans-Serif\" font-size=\"14.00\">class = virginica</text>\n",
       "</g>\n",
       "<!-- 12&#45;&gt;16 -->\n",
       "<g id=\"edge16\" class=\"edge\">\n",
       "<title>12&#45;&gt;16</title>\n",
       "<path fill=\"none\" stroke=\"black\" d=\"M689.04,-341.58C704.71,-329.9 721.76,-317.19 737.36,-305.57\"/>\n",
       "<polygon fill=\"black\" stroke=\"black\" points=\"739.22,-308.55 745.14,-299.77 735.03,-302.93 739.22,-308.55\"/>\n",
       "</g>\n",
       "<!-- 14 -->\n",
       "<g id=\"node15\" class=\"node\">\n",
       "<title>14</title>\n",
       "<path fill=\"#39e581\" stroke=\"black\" d=\"M682.25,-179.5C682.25,-179.5 586,-179.5 586,-179.5 580,-179.5 574,-173.5 574,-167.5 574,-167.5 574,-123.5 574,-123.5 574,-117.5 580,-111.5 586,-111.5 586,-111.5 682.25,-111.5 682.25,-111.5 688.25,-111.5 694.25,-117.5 694.25,-123.5 694.25,-123.5 694.25,-167.5 694.25,-167.5 694.25,-173.5 688.25,-179.5 682.25,-179.5\"/>\n",
       "<text text-anchor=\"start\" x=\"606.38\" y=\"-162.2\" font-family=\"Helvetica,sans-Serif\" font-size=\"14.00\">gini = 0.0</text>\n",
       "<text text-anchor=\"start\" x=\"597\" y=\"-147.2\" font-family=\"Helvetica,sans-Serif\" font-size=\"14.00\">samples = 1</text>\n",
       "<text text-anchor=\"start\" x=\"587.62\" y=\"-132.2\" font-family=\"Helvetica,sans-Serif\" font-size=\"14.00\">value = [0, 1, 0]</text>\n",
       "<text text-anchor=\"start\" x=\"582\" y=\"-117.2\" font-family=\"Helvetica,sans-Serif\" font-size=\"14.00\">class = versicolor</text>\n",
       "</g>\n",
       "<!-- 13&#45;&gt;14 -->\n",
       "<g id=\"edge14\" class=\"edge\">\n",
       "<title>13&#45;&gt;14</title>\n",
       "<path fill=\"none\" stroke=\"black\" d=\"M634.12,-222.58C634.12,-212.43 634.12,-201.5 634.12,-191.18\"/>\n",
       "<polygon fill=\"black\" stroke=\"black\" points=\"637.63,-191.37 634.13,-181.37 630.63,-191.37 637.63,-191.37\"/>\n",
       "</g>\n",
       "<!-- 15 -->\n",
       "<g id=\"node16\" class=\"node\">\n",
       "<title>15</title>\n",
       "<path fill=\"#8139e5\" stroke=\"black\" d=\"M812.12,-179.5C812.12,-179.5 724.12,-179.5 724.12,-179.5 718.12,-179.5 712.12,-173.5 712.12,-167.5 712.12,-167.5 712.12,-123.5 712.12,-123.5 712.12,-117.5 718.12,-111.5 724.12,-111.5 724.12,-111.5 812.12,-111.5 812.12,-111.5 818.12,-111.5 824.12,-117.5 824.12,-123.5 824.12,-123.5 824.12,-167.5 824.12,-167.5 824.12,-173.5 818.12,-179.5 812.12,-179.5\"/>\n",
       "<text text-anchor=\"start\" x=\"740.38\" y=\"-162.2\" font-family=\"Helvetica,sans-Serif\" font-size=\"14.00\">gini = 0.0</text>\n",
       "<text text-anchor=\"start\" x=\"731\" y=\"-147.2\" font-family=\"Helvetica,sans-Serif\" font-size=\"14.00\">samples = 2</text>\n",
       "<text text-anchor=\"start\" x=\"721.62\" y=\"-132.2\" font-family=\"Helvetica,sans-Serif\" font-size=\"14.00\">value = [0, 0, 2]</text>\n",
       "<text text-anchor=\"start\" x=\"720.12\" y=\"-117.2\" font-family=\"Helvetica,sans-Serif\" font-size=\"14.00\">class = virginica</text>\n",
       "</g>\n",
       "<!-- 13&#45;&gt;15 -->\n",
       "<g id=\"edge15\" class=\"edge\">\n",
       "<title>13&#45;&gt;15</title>\n",
       "<path fill=\"none\" stroke=\"black\" d=\"M680.99,-222.58C694.12,-211.12 708.38,-198.67 721.49,-187.22\"/>\n",
       "<polygon fill=\"black\" stroke=\"black\" points=\"723.55,-190.07 728.78,-180.86 718.94,-184.8 723.55,-190.07\"/>\n",
       "</g>\n",
       "</g>\n",
       "</svg>\n"
      ],
      "text/plain": [
       "<graphviz.sources.Source at 0x16a80d250>"
      ]
     },
     "execution_count": 43,
     "metadata": {},
     "output_type": "execute_result"
    }
   ],
   "source": [
    "graph"
   ]
  },
  {
   "cell_type": "markdown",
   "metadata": {
    "hideCode": false,
    "hidePrompt": false,
    "slideshow": {
     "slide_type": "slide"
    }
   },
   "source": [
    "### Redes neuronales artificiales\n",
    "\n",
    "Un algoritmo más complejo en el área de *machine learning* es una **Red Neuronal Artificial** (RNA). La investigación de las RNA comenzó hace muchos años en los primeros días de la Inteligencia Artificial.\n",
    "\n",
    "La idea básica es crear un modelo computacional de algo similar a la estructura del cerebro:\n",
    "\n",
    "<img style=\"float: center;\" src=\"clase3_imagenes/neurons_brain.jpg\" alt=\"alt text\" width=\"600\" height=\"600\" class=\"blog-image\">"
   ]
  },
  {
   "cell_type": "markdown",
   "metadata": {
    "hideCode": false,
    "hidePrompt": false,
    "slideshow": {
     "slide_type": "slide"
    }
   },
   "source": [
    "<img style=\"float: center;\" src=\"clase3_imagenes/neurona-comun.png\" alt=\"alt text\" width=\"700\" height=\"600\" class=\"blog-image\">"
   ]
  },
  {
   "cell_type": "markdown",
   "metadata": {
    "hideCode": false,
    "hidePrompt": false,
    "slideshow": {
     "slide_type": "slide"
    }
   },
   "source": [
    "Una neurona en el cerebro se activa cuando recibe un señal suficientemente fuerte (un pulso eléctrico) de otras neuronas que están conectadas a sus dendritas. \n",
    "\n",
    "Cuando la neurona se activa, manda un pulso eléctrico a lo largo de su axón que termina en sinapsis que se conectan con las dendritas de otras neuronas."
   ]
  },
  {
   "cell_type": "markdown",
   "metadata": {
    "hideCode": false,
    "hidePrompt": false,
    "slideshow": {
     "slide_type": "slide"
    }
   },
   "source": [
    "Una red neuronal artificial es un modelo muy simplificado de esta estructura cerebral. Las neuronas artificiales son así:\n",
    "    \n",
    "|![](clase3_imagenes/neurona_artificial.png)|\n",
    "|-------------------------------------------|\n",
    "| Neurona de McCulloch-Pitts                |"
   ]
  },
  {
   "cell_type": "markdown",
   "metadata": {
    "hideCode": false,
    "hidePrompt": false,
    "slideshow": {
     "slide_type": "slide"
    }
   },
   "source": [
    "En este modelo, la neurona recibe \"señales\" en sus dendritas, que son simplemente los números $x_n$ multiplicados por *pesos* $w_n$. \n",
    "\n",
    "Luego, en el cuerpo de la neurona se calcula la sumatoria (y a veces se agrega un valor de umbral). El resultado de la sumatoria va como entrada a la *función de activación* $f$."
   ]
  },
  {
   "cell_type": "markdown",
   "metadata": {
    "hideCode": false,
    "hidePrompt": false,
    "slideshow": {
     "slide_type": "slide"
    }
   },
   "source": [
    "Podemos elegir (casi) cualquier función para $f$. Algunas posibilidades son:\n",
    "\n",
    "![](clase3_imagenes/funcion_activacion.png)"
   ]
  },
  {
   "cell_type": "markdown",
   "metadata": {
    "hideCode": false,
    "hidePrompt": false,
    "slideshow": {
     "slide_type": "slide"
    }
   },
   "source": [
    "El resultado de la función de activación es la salida de la neurona, que puede ir como entrada a otra neurona, y así formar una red compleja."
   ]
  },
  {
   "cell_type": "markdown",
   "metadata": {
    "slideshow": {
     "slide_type": "fragment"
    }
   },
   "source": [
    "Un ejemplo:\n",
    "\n",
    "Una neurona recibe $4$ valores de entrada: $x_1 = 1$, $x_2 = -3$, $x_3 = -4$, $x_4 = 2$. Los *pesos* son $w_1 = 0.1$, $w_2 = 0.3$, $w_3 = 0.1$ y $w_4 = 0.5$. El sumatorio, usando los pesos, será:\n",
    "\n",
    "$$x_1 w_1 + x_2 w_2 + x_3 w_3 + x_4 w_4 = -0.2$$\n",
    "\n",
    "La función de activación es la función *escalón* en los ejemplos arriba. Su valor de entrada es $-0.2 < 0$ así que su valor de salida es $-1$.\n",
    "\n",
    "Por otra parte, si el valor de un peso fuese $w_1 = 0.5$ en vez del valor del ejemplo anterior, el sumatorio será igual a $0.2 > 0$ y la salida de la función de activación será $+1$."
   ]
  },
  {
   "cell_type": "markdown",
   "metadata": {
    "hideCode": false,
    "hidePrompt": false,
    "slideshow": {
     "slide_type": "slide"
    }
   },
   "source": [
    "Podemos contectar varias neuronas así en una red:\n",
    "\n",
    "![](clase3_imagenes/RedNeuronalArtificial.png)"
   ]
  },
  {
   "cell_type": "markdown",
   "metadata": {
    "hideCode": false,
    "hidePrompt": false,
    "slideshow": {
     "slide_type": "slide"
    }
   },
   "source": [
    "1. Tenemos que dar valores como valores de entrada a la primera *capa* de neuronas, que se llama **la capa de entrada**.\n",
    "2. Las salidas de las funciones de activación de las neuronas en la primera capa dependen de los valores de entrada.\n",
    "3. Estas salidas van como entrada a la próxima capa de neuronas. Ya que esta capa no está conectada al mundo \"fuera\" de la red, se llama una **capa oculta**.\n",
    "4. Las salidas de la capa oculta van como entradas a la capa de salida, y las salidas de esta última capa son corresponden a las salidas finales de la red."
   ]
  },
  {
   "cell_type": "markdown",
   "metadata": {
    "hideCode": false,
    "hidePrompt": false,
    "slideshow": {
     "slide_type": "slide"
    }
   },
   "source": [
    "Entonces, las redes neuronales artificiales son como funciones matemáticas:\n",
    "\n",
    "![](clase3_imagenes/functionmachine.png)"
   ]
  },
  {
   "cell_type": "markdown",
   "metadata": {
    "hideCode": false,
    "hidePrompt": false,
    "slideshow": {
     "slide_type": "fragment"
    }
   },
   "source": [
    "Pero, una red neuronal artificial puede **aprender** y **mejorar** su propio rendimiento! ¿Cómo lo hace?"
   ]
  },
  {
   "cell_type": "markdown",
   "metadata": {
    "hideCode": false,
    "hidePrompt": false,
    "slideshow": {
     "slide_type": "slide"
    }
   },
   "source": [
    "##### Aprendizaje de la red\n",
    "\n",
    "Cada conexión (sinapsis) entre las neuronas tiene asociado un *peso*. Este es un valor (típicamente) entre $0$ y $1$. Un valor de $0$ significa que esta conexión no contribuye nada la activación de la neurona. Un valor de $1$ significa que esta conexión tiene una contribución máxima a la activación de la neurona:\n",
    "\n",
    "![](clase3_imagenes/neuron_weights.png)\n",
    "\n",
    "La activación o no de cada neurona depende de los valores de los pesos. El resultado final (la salida final) de la red depende del patrón de activación de toda la red.\n",
    "\n",
    "* Podemos usar datos conocidos para ajustar los pesos para obtener la salida que queremos. Este proceso se llama *entrenamiento de la red*."
   ]
  },
  {
   "cell_type": "markdown",
   "metadata": {
    "hideCode": false,
    "hidePrompt": false,
    "slideshow": {
     "slide_type": "slide"
    }
   },
   "source": [
    "Por ejemplo, supongamos que tenemos una red neuronal con $3$ entradas. Damos los valores $3.1$, $-0.1$, $2.6$ como entradas a la red. Las salidas que queremos son $0$ y $1$ (hay dos neuronas en la capa de salida de esta red).\n",
    "\n",
    "![](clase3_imagenes/neuron_network.png)"
   ]
  },
  {
   "cell_type": "markdown",
   "metadata": {
    "hideCode": false,
    "hidePrompt": false,
    "slideshow": {
     "slide_type": "fragment"
    }
   },
   "source": [
    "¿Cómo podemos garantizar que tendremos las salidas correctas? Por ajustar los pesos."
   ]
  },
  {
   "cell_type": "markdown",
   "metadata": {
    "hideCode": false,
    "hidePrompt": false,
    "slideshow": {
     "slide_type": "slide"
    }
   },
   "source": [
    "#### Una red neuronal muy básica\n",
    "\n",
    "Ahora vamos a crear una red neuronal para ver como funciona, y como podemos ajustar los pesos para obtener las salidas que queremos.\n",
    "\n",
    "En este ejemplo, vamos a tener una \"red\" muy simple, que contiene solamente $1$ neurona, con $3$ sinapsis (entradas) y una salida:\n",
    "\n",
    "![](clase3_imagenes/neuron_simple.png)"
   ]
  },
  {
   "cell_type": "markdown",
   "metadata": {
    "hideCode": false,
    "hidePrompt": false,
    "slideshow": {
     "slide_type": "slide"
    }
   },
   "source": [
    "Queremos una red que pueda representar los siguientes valores de entrada y salida:\n",
    "    \n",
    "Entradas | Salida\n",
    "---------|-------\n",
    "0 0 1    |   0\n",
    "1 1 1    |   1\n",
    "1 0 1    |   1\n",
    "0 1 1    |   0"
   ]
  },
  {
   "cell_type": "markdown",
   "metadata": {
    "hideCode": false,
    "hidePrompt": false,
    "slideshow": {
     "slide_type": "slide"
    }
   },
   "source": [
    "Entonces, ¿cuál será la salida para las siguientes entradas?\n",
    "\n",
    "Entradas | Salida\n",
    "---------|-------\n",
    "1 0 0    |   ?\n",
    "\n",
    "De acuerdo al patrón anterior, la salida siempre es igual a la primera entrada, así que debería ser $1$."
   ]
  },
  {
   "cell_type": "markdown",
   "metadata": {
    "hideCode": false,
    "hidePrompt": false,
    "slideshow": {
     "slide_type": "slide"
    }
   },
   "source": [
    "¿Cuáles son los valores de los *pesos* en cada entrada? \n",
    "\n",
    "Comenzamos utilizando pesos aleatorios. Después actualizamos los valores de los pesos para tener las salidas correctas.\n",
    "\n",
    "Necesitamos $3$ pesos (uno para cada entrada de la neurona):"
   ]
  },
  {
   "cell_type": "code",
   "execution_count": 17,
   "metadata": {
    "hideCode": false,
    "hidePrompt": false,
    "slideshow": {
     "slide_type": "fragment"
    }
   },
   "outputs": [
    {
     "data": {
      "text/plain": [
       "array([ 0.74866566,  0.62955254, -0.14758846])"
      ]
     },
     "execution_count": 17,
     "metadata": {},
     "output_type": "execute_result"
    }
   ],
   "source": [
    "pesos = random.uniform(low=-1.0,high=1.0,size=3)\n",
    "pesos"
   ]
  },
  {
   "cell_type": "markdown",
   "metadata": {
    "hideCode": false,
    "hidePrompt": false,
    "slideshow": {
     "slide_type": "slide"
    }
   },
   "source": [
    "##### El proceso de entrenamiento:\n",
    "\n",
    "1. Elegimos un conjunto de entradas (por ejemplo, la primera fila de la tabla arriba).\n",
    "2. Aplicamos los *pesos* a estos valores para calcular el sumatorio ponderado de las entradas.\n",
    "3. Utilizamos el resultado del sumatorio como entrada a la función de activación de la neurona.\n",
    "4. La salida de la función de activación, en este caso, es la salida de la red. Comparamos esta salida con el valor correcto y calculamos el error.\n",
    "5. En este caso, el error es la diferencia entre la salida de la neurona y la salida correcta.\n",
    "6. **Ajustamos los pesos**.\n",
    "7. Repetimos el proceso muchas veces..."
   ]
  },
  {
   "cell_type": "markdown",
   "metadata": {
    "hideCode": false,
    "hidePrompt": false,
    "slideshow": {
     "slide_type": "slide"
    }
   },
   "source": [
    "**Paso 1**\n",
    "\n",
    "Elegimos la primera fila de entradas. Entonces tenemos $x_1 = 0$, $x_2 = 0$, $x_3 = 1$.\n",
    "\n",
    "**Paso 2**\n",
    "\n",
    "Sumatorio ponderado de las entradas: $x = \\sum_i w_i x_i = w_1 x_1 + w_2 x_2 + w_3 x_3$."
   ]
  },
  {
   "cell_type": "code",
   "execution_count": 18,
   "metadata": {
    "hideCode": false,
    "hidePrompt": false,
    "slideshow": {
     "slide_type": "fragment"
    }
   },
   "outputs": [
    {
     "data": {
      "text/plain": [
       "array([ 0.        ,  0.        , -0.14758846])"
      ]
     },
     "execution_count": 18,
     "metadata": {},
     "output_type": "execute_result"
    }
   ],
   "source": [
    "entradas = array([0,0,1])\n",
    "pesos*entradas"
   ]
  },
  {
   "cell_type": "markdown",
   "metadata": {
    "hideCode": false,
    "hidePrompt": false,
    "slideshow": {
     "slide_type": "fragment"
    }
   },
   "source": [
    "Es importante notar que podemos representar las entradas y los pesos como *vectores* $\\vec{x}$, $\\vec{w}$."
   ]
  },
  {
   "cell_type": "code",
   "execution_count": 19,
   "metadata": {
    "hideCode": false,
    "hidePrompt": false,
    "slideshow": {
     "slide_type": "fragment"
    }
   },
   "outputs": [
    {
     "data": {
      "text/plain": [
       "-0.14758845584147773"
      ]
     },
     "execution_count": 19,
     "metadata": {},
     "output_type": "execute_result"
    }
   ],
   "source": [
    "sumatorio = sum(pesos*entradas)\n",
    "sumatorio"
   ]
  },
  {
   "cell_type": "markdown",
   "metadata": {
    "hideCode": false,
    "hidePrompt": false,
    "slideshow": {
     "slide_type": "slide"
    }
   },
   "source": [
    "**Pasos 3 y 4**\n",
    "\n",
    "La función de activación que vamos a ocupar en este caso es la función *sigmoide*: $y = \\frac{1}{1+e^{-x}}$\n",
    "\n",
    "Elegimos esta función porque se parece a la función escalón, pero es más fácil derivar ya que es siempre continua."
   ]
  },
  {
   "cell_type": "code",
   "execution_count": 20,
   "metadata": {
    "hideCode": false,
    "hidePrompt": false,
    "slideshow": {
     "slide_type": "fragment"
    }
   },
   "outputs": [
    {
     "data": {
      "image/png": "[encoded data removed]",
      "text/plain": [
       "<Figure size 500x400 with 1 Axes>"
      ]
     },
     "metadata": {},
     "output_type": "display_data"
    }
   ],
   "source": [
    "xvals = linspace(-6,6,100)\n",
    "yvals = 1.0/(1.0 + exp(-xvals))\n",
    "plot(xvals,yvals)\n",
    "show()"
   ]
  },
  {
   "cell_type": "markdown",
   "metadata": {
    "hideCode": false,
    "hidePrompt": false,
    "slideshow": {
     "slide_type": "slide"
    }
   },
   "source": [
    "La salida de la función de activación es:"
   ]
  },
  {
   "cell_type": "code",
   "execution_count": 21,
   "metadata": {
    "hideCode": false,
    "hidePrompt": false,
    "slideshow": {
     "slide_type": "fragment"
    }
   },
   "outputs": [
    {
     "data": {
      "text/plain": [
       "0.4631697159666907"
      ]
     },
     "execution_count": 21,
     "metadata": {},
     "output_type": "execute_result"
    }
   ],
   "source": [
    "1.0/(1.0 + exp(-sumatorio))"
   ]
  },
  {
   "cell_type": "markdown",
   "metadata": {
    "hideCode": false,
    "hidePrompt": false,
    "slideshow": {
     "slide_type": "slide"
    }
   },
   "source": [
    "La salida correcta es $0$.\n",
    "\n",
    "**Paso 5**\n",
    "\n",
    "El error en nuestra salida es la diferencia entre la salida correcta y la de la red:\n",
    "\n",
    "$\\epsilon = y_c - y$\n",
    "\n",
    "(Hay varias maneras de calcular el error. Estamos usando una opción simple)"
   ]
  },
  {
   "cell_type": "code",
   "execution_count": 22,
   "metadata": {
    "hideCode": false,
    "hidePrompt": false,
    "slideshow": {
     "slide_type": "fragment"
    }
   },
   "outputs": [
    {
     "data": {
      "text/plain": [
       "-0.4631697159666907"
      ]
     },
     "execution_count": 22,
     "metadata": {},
     "output_type": "execute_result"
    }
   ],
   "source": [
    "error = 0 - 1.0/(1.0 + exp(-sumatorio))\n",
    "error"
   ]
  },
  {
   "cell_type": "markdown",
   "metadata": {
    "hideCode": false,
    "hidePrompt": false,
    "slideshow": {
     "slide_type": "slide"
    }
   },
   "source": [
    "**Paso 6**\n",
    "\n",
    "Ahora viene la parte más complicada. Queremos ajustar los pesos para mejorar el rendimiento de la red. En otras palabras, queremos reducir el error mediante un ajuste de los pesos.\n",
    "\n",
    "Pensando en el problema en una forma matemática, lo que buscamos es el *mínimo* de la función que da el error. La operación de buscar este mínimo es algo que se llama *optimización*.\n",
    "\n",
    "De la aplicación del cálculo diferencial a este problema, es posible demostrar que la siguiente actualización de los pesos sirve:\n",
    "\n",
    "$$\\delta \\vec{w} = \\epsilon \\vec{x} \\frac{dy}{dx}$$\n",
    "\n",
    "La derivada de la función $y$ (que es la función de activación de la neurona) es\n",
    "\n",
    "$$\\frac{dy}{dx} = y(1-y)$$"
   ]
  },
  {
   "cell_type": "markdown",
   "metadata": {
    "hideCode": false,
    "hidePrompt": false,
    "slideshow": {
     "slide_type": "slide"
    }
   },
   "source": [
    "$$\\delta \\vec{w} = \\epsilon \\vec{x} \\frac{dy}{dx}$$\n",
    "\n",
    "Esta ecuación nos dice que el ajuste de los pesos es:\n",
    "* **Proporcional al error $\\epsilon$**. Si el error es grande, implica que los valores de los pesos son muy lejos de sus valores óptimos, y por lo tanto deberíamos cambiarlos más que en el caso de un error pequeño.\n",
    "* **Proporcional a las entradas $\\vec{x}$**. Así que, cada peso es proporcional a la entrada asociada. Si la entrada asociada al peso es igual a cero, no importa que valor de peso tenemos y por lo tanto no es necesario cambiarlo.\n",
    "* **Proporcional a la derivada de la función de activación**. Buscamos el mínimo del error, $\\epsilon$. Este error esta dado por $y_c - y$. Para encontrar el mínimo de una función, hay que considerar su derivada. Entonces, la derivada del error es la derivada de la función $y$ ($y_c$ es una constante)."
   ]
  },
  {
   "cell_type": "markdown",
   "metadata": {
    "hideCode": false,
    "hidePrompt": false,
    "slideshow": {
     "slide_type": "slide"
    }
   },
   "source": [
    "Es posible demostrar matemáticamente como actualizar los pesos para una red que tiene un número arbitrario de neuronas y conexiones.\n",
    "\n",
    "Esta parte del algorítmo (la actualización de los pesos) es la parte **más importante** de la operación de una red neuronal artificial. El algorítmo para actualizar los pesos se llama ***backpropagation***.\n",
    "\n",
    "Es por el uso de *backpropagation* que la red puede aprender. Este es la diferencia entre una red neuronal artificial y una función matemática!"
   ]
  },
  {
   "cell_type": "markdown",
   "metadata": {
    "hideCode": false,
    "hidePrompt": false,
    "slideshow": {
     "slide_type": "slide"
    }
   },
   "source": [
    "Ahora, calculamos la derivada:"
   ]
  },
  {
   "cell_type": "code",
   "execution_count": 23,
   "metadata": {
    "hideCode": false,
    "hidePrompt": false,
    "slideshow": {
     "slide_type": "fragment"
    }
   },
   "outputs": [
    {
     "data": {
      "text/plain": [
       "0.24864353017802573"
      ]
     },
     "execution_count": 23,
     "metadata": {},
     "output_type": "execute_result"
    }
   ],
   "source": [
    "y = 1.0/(1.0 + exp(-sumatorio))\n",
    "derivada = y*(1-y)\n",
    "derivada"
   ]
  },
  {
   "cell_type": "markdown",
   "metadata": {
    "hideCode": false,
    "hidePrompt": false,
    "slideshow": {
     "slide_type": "fragment"
    }
   },
   "source": [
    "Entonces los cambios de los pesos son:"
   ]
  },
  {
   "cell_type": "code",
   "execution_count": 24,
   "metadata": {
    "hideCode": false,
    "hidePrompt": false,
    "slideshow": {
     "slide_type": "fragment"
    }
   },
   "outputs": [
    {
     "data": {
      "text/plain": [
       "array([-0.        , -0.        , -0.11516415])"
      ]
     },
     "execution_count": 24,
     "metadata": {},
     "output_type": "execute_result"
    }
   ],
   "source": [
    "delta_w = error * entradas * derivada\n",
    "delta_w"
   ]
  },
  {
   "cell_type": "markdown",
   "metadata": {
    "hideCode": false,
    "hidePrompt": false,
    "slideshow": {
     "slide_type": "fragment"
    }
   },
   "source": [
    "Actualizamos los valores de los pesos:"
   ]
  },
  {
   "cell_type": "code",
   "execution_count": 25,
   "metadata": {
    "hideCode": false,
    "hidePrompt": false,
    "slideshow": {
     "slide_type": "fragment"
    }
   },
   "outputs": [
    {
     "data": {
      "text/plain": [
       "array([ 0.74866566,  0.62955254, -0.26275261])"
      ]
     },
     "execution_count": 25,
     "metadata": {},
     "output_type": "execute_result"
    }
   ],
   "source": [
    "pesos += delta_w\n",
    "pesos"
   ]
  },
  {
   "cell_type": "markdown",
   "metadata": {
    "hideCode": false,
    "hidePrompt": false,
    "slideshow": {
     "slide_type": "slide"
    }
   },
   "source": [
    "Calculamos el resultado con los nuevos valores de los pesos..."
   ]
  },
  {
   "cell_type": "code",
   "execution_count": 26,
   "metadata": {
    "hideCode": false,
    "hidePrompt": false,
    "slideshow": {
     "slide_type": "fragment"
    }
   },
   "outputs": [
    {
     "data": {
      "text/plain": [
       "0.4346871767073099"
      ]
     },
     "execution_count": 26,
     "metadata": {},
     "output_type": "execute_result"
    }
   ],
   "source": [
    "sumatorio = sum(pesos*entradas)\n",
    "1.0/(1.0 + exp(-sumatorio))"
   ]
  },
  {
   "cell_type": "markdown",
   "metadata": {
    "hideCode": false,
    "hidePrompt": false,
    "slideshow": {
     "slide_type": "slide"
    }
   },
   "source": [
    "El valor ha reducido después de la actualización de los pesos. Hay que repetir el proceso varias veces, y también hay que ocupar todas los pares de entradas/salidas de entrenamiento:\n",
    "\n",
    "Entradas | Salida\n",
    "---------|-------\n",
    "0 0 1    |   0\n",
    "1 1 1    |   1\n",
    "1 0 1    |   1\n",
    "0 1 1    |   0\n",
    "\n",
    "Entonces, vamos a aplicar el algorítmo a todas las entradas/salidas que tenemos."
   ]
  },
  {
   "cell_type": "code",
   "execution_count": 27,
   "metadata": {
    "hideCode": false,
    "hidePrompt": false,
    "slideshow": {
     "slide_type": "fragment"
    }
   },
   "outputs": [],
   "source": [
    "entradas = array([[0,0,1],[1,1,1],[1,0,1],[0,1,1]])\n",
    "salidas = array([[0,1,1,0]]).T ## La \"T\" significa la transpuesta del arreglo"
   ]
  },
  {
   "cell_type": "code",
   "execution_count": 28,
   "metadata": {
    "hideCode": false,
    "hidePrompt": false,
    "slideshow": {
     "slide_type": "slide"
    }
   },
   "outputs": [
    {
     "data": {
      "text/plain": [
       "array([[0, 0, 1],\n",
       "       [1, 1, 1],\n",
       "       [1, 0, 1],\n",
       "       [0, 1, 1]])"
      ]
     },
     "execution_count": 28,
     "metadata": {},
     "output_type": "execute_result"
    }
   ],
   "source": [
    "entradas"
   ]
  },
  {
   "cell_type": "code",
   "execution_count": 29,
   "metadata": {
    "hideCode": false,
    "hidePrompt": false,
    "slideshow": {
     "slide_type": "fragment"
    }
   },
   "outputs": [
    {
     "data": {
      "text/plain": [
       "array([[0],\n",
       "       [1],\n",
       "       [1],\n",
       "       [0]])"
      ]
     },
     "execution_count": 29,
     "metadata": {},
     "output_type": "execute_result"
    }
   ],
   "source": [
    "salidas"
   ]
  },
  {
   "cell_type": "code",
   "execution_count": 30,
   "metadata": {
    "hideCode": false,
    "hidePrompt": false,
    "slideshow": {
     "slide_type": "fragment"
    }
   },
   "outputs": [],
   "source": [
    "pesos = random.uniform(low=-1.0,high=1.0,size=(3,1))"
   ]
  },
  {
   "cell_type": "code",
   "execution_count": 31,
   "metadata": {
    "hideCode": false,
    "hidePrompt": false,
    "slideshow": {
     "slide_type": "fragment"
    }
   },
   "outputs": [
    {
     "data": {
      "text/plain": [
       "array([[-0.00172803],\n",
       "       [ 0.64758821],\n",
       "       [-0.1321773 ]])"
      ]
     },
     "execution_count": 31,
     "metadata": {},
     "output_type": "execute_result"
    }
   ],
   "source": [
    "pesos"
   ]
  },
  {
   "cell_type": "markdown",
   "metadata": {
    "hideCode": false,
    "hidePrompt": false,
    "slideshow": {
     "slide_type": "slide"
    }
   },
   "source": [
    "Definimos una función en Python para la función de activación de la neurona."
   ]
  },
  {
   "cell_type": "code",
   "execution_count": 32,
   "metadata": {
    "hideCode": false,
    "hidePrompt": false,
    "slideshow": {
     "slide_type": "fragment"
    }
   },
   "outputs": [],
   "source": [
    "def sigmoide(x):\n",
    "    return( 1/(1+exp(-x)) )"
   ]
  },
  {
   "cell_type": "markdown",
   "metadata": {
    "hideCode": false,
    "hidePrompt": false,
    "slideshow": {
     "slide_type": "slide"
    }
   },
   "source": [
    "Podemos calcular el sumatorio de cada conjunto de entradas con los pesos ocupando el producto escalar entre cada fila del arreglo \"entradas\" y el vector \"pesos\". En *NumPy* el producto escalar está dado por la operación \"dot\":"
   ]
  },
  {
   "cell_type": "code",
   "execution_count": 33,
   "metadata": {
    "hideCode": false,
    "hidePrompt": false,
    "slideshow": {
     "slide_type": "fragment"
    }
   },
   "outputs": [
    {
     "data": {
      "text/plain": [
       "array([[0.4670037 ],\n",
       "       [0.62566943],\n",
       "       [0.4665736 ],\n",
       "       [0.62607406]])"
      ]
     },
     "execution_count": 33,
     "metadata": {},
     "output_type": "execute_result"
    }
   ],
   "source": [
    "y = sigmoide(dot(entradas, pesos))\n",
    "y"
   ]
  },
  {
   "cell_type": "markdown",
   "metadata": {
    "hideCode": false,
    "hidePrompt": false,
    "slideshow": {
     "slide_type": "fragment"
    }
   },
   "source": [
    "Los errores son:"
   ]
  },
  {
   "cell_type": "code",
   "execution_count": 34,
   "metadata": {
    "hideCode": false,
    "hidePrompt": false,
    "slideshow": {
     "slide_type": "fragment"
    }
   },
   "outputs": [
    {
     "data": {
      "text/plain": [
       "array([[-0.4670037 ],\n",
       "       [ 0.37433057],\n",
       "       [ 0.5334264 ],\n",
       "       [-0.62607406]])"
      ]
     },
     "execution_count": 34,
     "metadata": {},
     "output_type": "execute_result"
    }
   ],
   "source": [
    "errores = salidas - y\n",
    "errores"
   ]
  },
  {
   "cell_type": "markdown",
   "metadata": {
    "hideCode": false,
    "hidePrompt": false,
    "slideshow": {
     "slide_type": "slide"
    }
   },
   "source": [
    "La derivada de la función de activación otra vez es $y(1-y)$:"
   ]
  },
  {
   "cell_type": "code",
   "execution_count": 35,
   "metadata": {
    "hideCode": false,
    "hidePrompt": false,
    "slideshow": {
     "slide_type": "fragment"
    }
   },
   "outputs": [
    {
     "data": {
      "text/plain": [
       "array([[0.24891124],\n",
       "       [0.23420719],\n",
       "       [0.24888268],\n",
       "       [0.23410533]])"
      ]
     },
     "execution_count": 35,
     "metadata": {},
     "output_type": "execute_result"
    }
   ],
   "source": [
    "derivadas = y*(1-y)\n",
    "derivadas"
   ]
  },
  {
   "cell_type": "markdown",
   "metadata": {
    "hideCode": false,
    "hidePrompt": false,
    "slideshow": {
     "slide_type": "slide"
    }
   },
   "source": [
    "Entonces, para calcular los cambios de los pesos $\\delta \\vec{w} = \\epsilon \\vec{x} \\frac{dy}{dx}$ *para cada fila de entradas* podemos usar la operación \"dot\" de nuevo:"
   ]
  },
  {
   "cell_type": "code",
   "execution_count": 36,
   "metadata": {
    "hideCode": false,
    "hidePrompt": false,
    "slideshow": {
     "slide_type": "fragment"
    }
   },
   "outputs": [
    {
     "data": {
      "text/plain": [
       "array([[0, 1, 1, 0],\n",
       "       [0, 1, 0, 1],\n",
       "       [1, 1, 1, 1]])"
      ]
     },
     "execution_count": 36,
     "metadata": {},
     "output_type": "execute_result"
    }
   ],
   "source": [
    "entradas.T"
   ]
  },
  {
   "cell_type": "code",
   "execution_count": 37,
   "metadata": {
    "hideCode": false,
    "hidePrompt": false,
    "slideshow": {
     "slide_type": "fragment"
    }
   },
   "outputs": [
    {
     "data": {
      "text/plain": [
       "array([[ 0.2204315 ],\n",
       "       [-0.05889636],\n",
       "       [-0.04237824]])"
      ]
     },
     "execution_count": 37,
     "metadata": {},
     "output_type": "execute_result"
    }
   ],
   "source": [
    "dot(entradas.T, errores * derivadas)"
   ]
  },
  {
   "cell_type": "markdown",
   "metadata": {
    "hideCode": false,
    "hidePrompt": false,
    "slideshow": {
     "slide_type": "slide"
    }
   },
   "source": [
    "Estos son los valores de $\\delta \\vec{w}$ que usamos para actualizar los pesos. Ahora, aplicamos nuestro proceso $10000$ veces para entrenar la red:"
   ]
  },
  {
   "cell_type": "code",
   "execution_count": 38,
   "metadata": {
    "hideCode": false,
    "hidePrompt": false,
    "slideshow": {
     "slide_type": "fragment"
    }
   },
   "outputs": [],
   "source": [
    "for iteracion in range(10000):\n",
    "    # Calculamos para todas las entradas y pesos\n",
    "    y = sigmoide(dot(entradas, pesos))\n",
    "    errores = salidas - y\n",
    "    derivadas = y*(1-y)\n",
    "    pesos += dot(entradas.T, errores * derivadas)"
   ]
  },
  {
   "cell_type": "code",
   "execution_count": 39,
   "metadata": {
    "hideCode": false,
    "hidePrompt": false,
    "slideshow": {
     "slide_type": "fragment"
    }
   },
   "outputs": [
    {
     "data": {
      "text/plain": [
       "array([[ 9.67284675],\n",
       "       [-0.20804831],\n",
       "       [-4.62944129]])"
      ]
     },
     "execution_count": 39,
     "metadata": {},
     "output_type": "execute_result"
    }
   ],
   "source": [
    "pesos"
   ]
  },
  {
   "cell_type": "markdown",
   "metadata": {
    "hideCode": false,
    "hidePrompt": false,
    "slideshow": {
     "slide_type": "slide"
    }
   },
   "source": [
    "Ahora comparamos las salidas de la red, para cada fila de entradas, con los valores correctos:"
   ]
  },
  {
   "cell_type": "code",
   "execution_count": 40,
   "metadata": {
    "hideCode": false,
    "hidePrompt": false,
    "slideshow": {
     "slide_type": "fragment"
    }
   },
   "outputs": [
    {
     "data": {
      "text/plain": [
       "array([[0.00966587],\n",
       "       [0.99211876],\n",
       "       [0.99358962],\n",
       "       [0.00786459]])"
      ]
     },
     "execution_count": 40,
     "metadata": {},
     "output_type": "execute_result"
    }
   ],
   "source": [
    "sigmoide(dot(entradas, pesos))"
   ]
  },
  {
   "cell_type": "markdown",
   "metadata": {
    "hideCode": false,
    "hidePrompt": false,
    "slideshow": {
     "slide_type": "fragment"
    }
   },
   "source": [
    "Estos valores son muy similares a los valores exactos:\n",
    "\n",
    "Entradas | Salida\n",
    "---------|-------\n",
    "0 0 1    |   0\n",
    "1 1 1    |   1\n",
    "1 0 1    |   1\n",
    "0 1 1    |   0"
   ]
  },
  {
   "cell_type": "markdown",
   "metadata": {
    "hideCode": false,
    "hidePrompt": false,
    "slideshow": {
     "slide_type": "slide"
    }
   },
   "source": [
    "Pero... ¿Podrá nuestra red puede determinar el valor correcto para entradas que nunca ha visto? Queremos ver la siguiente salida:\n",
    "\n",
    "Entradas | Salida\n",
    "---------|-------\n",
    "1 0 0    |   1"
   ]
  },
  {
   "cell_type": "code",
   "execution_count": 41,
   "metadata": {
    "hideCode": false,
    "hidePrompt": false,
    "slideshow": {
     "slide_type": "fragment"
    }
   },
   "outputs": [],
   "source": [
    "nuevas_entradas = array([1,0,0])"
   ]
  },
  {
   "cell_type": "code",
   "execution_count": 42,
   "metadata": {
    "hideCode": false,
    "hidePrompt": false,
    "slideshow": {
     "slide_type": "fragment"
    }
   },
   "outputs": [
    {
     "data": {
      "text/plain": [
       "array([0.99993703])"
      ]
     },
     "execution_count": 42,
     "metadata": {},
     "output_type": "execute_result"
    }
   ],
   "source": [
    "sigmoide(dot(nuevas_entradas, pesos))"
   ]
  },
  {
   "cell_type": "markdown",
   "metadata": {
    "hideCode": false,
    "hidePrompt": false,
    "slideshow": {
     "slide_type": "fragment"
    }
   },
   "source": [
    "**Esto está muy cerca al valor correcto de $1$!**"
   ]
  },
  {
   "cell_type": "markdown",
   "metadata": {
    "hideCode": false,
    "hidePrompt": false,
    "slideshow": {
     "slide_type": "slide"
    }
   },
   "source": [
    "#### Aplicaciones de las redes neuronales artificiales\n",
    "\n",
    "Las redes neuronales artificiales son la base de muchas aplicaciones de Inteligencia Artificial y *machine learning*. Si alguien habla de \"deep learning\" (aprendizaje profundo) se refiere al uso de RNAs."
   ]
  },
  {
   "cell_type": "markdown",
   "metadata": {
    "hideCode": false,
    "hidePrompt": false,
    "slideshow": {
     "slide_type": "slide"
    }
   },
   "source": [
    "En la red que vimos había solamente una neurona, así que no era una \"red\" de verdad. Con varias tapas de varias neuronas, podemos tener una relación muy no-lineal entre las entradas a la red, y las salidas.\n",
    "\n",
    "Por eso, las RNAs son muy útiles para problemas de análisis de datos en la ciencia que son problemas muy no-lineales."
   ]
  },
  {
   "cell_type": "markdown",
   "metadata": {
    "hideCode": false,
    "hidePrompt": false,
    "slideshow": {
     "slide_type": "slide"
    }
   },
   "source": [
    "Fuera de la ciencia, las RNAs son la base de intentos de diseñar inteligencias artificiales que tienen el nivel de la inteligencia humana.\n",
    "\n",
    "Por ejemplo, el sistema *Watson* de IBM:\n",
    "\n",
    "<center>\n",
    "<img style=\"float: center;\" src=\"clase3_imagenes/watson_jeopardy.jpg\" alt=\"alt text\" width=\"700\" height=\"600\" class=\"blog-image\">\n",
    "</center>"
   ]
  },
  {
   "cell_type": "markdown",
   "metadata": {
    "hideCode": false,
    "hidePrompt": false,
    "slideshow": {
     "slide_type": "slide"
    }
   },
   "source": [
    "Otro ejemplo es el sistema *Deep Mind* de Google:\n",
    "\n",
    "![](clase3_imagenes/alphaGo.jpg)"
   ]
  },
  {
   "cell_type": "markdown",
   "metadata": {
    "hideCode": false,
    "hidePrompt": false,
    "slideshow": {
     "slide_type": "slide"
    }
   },
   "source": [
    "Las recomendaciones de videos en YouTube están determinadas por una red neuronal artificial...\n",
    "<center>\n",
    "<img style=\"float: center;\" src=\"clase3_imagenes/youtube.png\" alt=\"alt text\" width=\"500\" height=\"600\" class=\"blog-image\">\n",
    "</center>"
   ]
  },
  {
   "cell_type": "markdown",
   "metadata": {
    "hideCode": false,
    "hidePrompt": false,
    "slideshow": {
     "slide_type": "slide"
    }
   },
   "source": [
    "# Resumen\n",
    "\n",
    "* Las cantidades de datos que hay en la ciencia hoy en día requieren técnicas de análisis más allá de las \"tradicionales\".\n",
    "* Con el desarrollo de algoritmos de *machine learning* hoy en día es posible automatizar muchos tipos de análisis que antes necesitaban una persona.\n",
    "* Hemos visto algunos ejemplos de algorítmos de *machine learning*: con supervisión (redes nueronales, árboles de decisión) y sin supervisión (*k-means clustering*)\n",
    "* En Python hay varios módulos que son útiles en este área, como *scikit-learn*.\n",
    "* Hay nuevas herramientas como *TensorFlow* que ayudan en el diseño de redes neuronales.\n",
    "* La importancia de estas técnicas va a seguir creciendo hacia el futuro!"
   ]
  }
 ],
 "metadata": {
  "celltoolbar": "Edit Metadata",
  "hide_code_all_hidden": false,
  "kernelspec": {
   "display_name": "Python 3 (ipykernel)",
   "language": "python",
   "name": "python3"
  },
  "language_info": {
   "codemirror_mode": {
    "name": "ipython",
    "version": 3
   },
   "file_extension": ".py",
   "mimetype": "text/x-python",
   "name": "python",
   "nbconvert_exporter": "python",
   "pygments_lexer": "ipython3",
   "version": "3.9.6"
  }
 },
 "nbformat": 4,
 "nbformat_minor": 2
}
