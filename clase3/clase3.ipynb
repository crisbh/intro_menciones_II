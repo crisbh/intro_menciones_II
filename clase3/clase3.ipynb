{
 "cells": [
  {
   "cell_type": "code",
   "execution_count": 4,
   "metadata": {
    "slideshow": {
     "slide_type": "skip"
    }
   },
   "outputs": [
    {
     "name": "stdout",
     "output_type": "stream",
     "text": [
      "Populating the interactive namespace from numpy and matplotlib\n"
     ]
    }
   ],
   "source": [
    "%pylab inline"
   ]
  },
  {
   "cell_type": "markdown",
   "metadata": {
    "slideshow": {
     "slide_type": "slide"
    }
   },
   "source": [
    "# Inteligencia Artificial y *Machine Learning*\n",
    "\n",
    "Hemos visto que el análisis de datos es de gran importancia en la ciencia. También hemos visto que, por el aumento de datos disponibles, necesitamos nuevas técnicas de análisis - no es tan fácil hoy en día hacer los análisis en forma \"tradicional\":\n",
    "\n",
    "* Explorar\n",
    "* Gráficar\n",
    "* Refutar/apoyar hipótesis\n",
    "\n",
    "Hoy en día se necesita algorítmos automáticos para hacer el análisis de datos, pero hay muchos tipos de análisis que no se puede hacer muy fácilmente en una manera automática."
   ]
  },
  {
   "cell_type": "markdown",
   "metadata": {
    "slideshow": {
     "slide_type": "slide"
    }
   },
   "source": [
    "### Un ejemplo de la astronomía: clasificación de las galaxias\n",
    "\n",
    "Las galaxias tienen distintas formas. Las dos categorías más amplias son \"eliptica\" o \"espiral\". Dentro de estas clasificaciones hay más subcategorías.\n",
    "\n",
    "Eliptica | Espiral\n",
    "---------|--------\n",
    "![](clase3_imagenes/elliptical.jpg) | ![](clase3_imagenes/spiral.jpg)"
   ]
  },
  {
   "cell_type": "markdown",
   "metadata": {
    "slideshow": {
     "slide_type": "slide"
    }
   },
   "source": [
    "Las subcategorías son:\n",
    "\n",
    "![](clase3_imagenes/hubble_sequence.png)"
   ]
  },
  {
   "cell_type": "markdown",
   "metadata": {
    "slideshow": {
     "slide_type": "fragment"
    }
   },
   "source": [
    "¿Cómo clasifican las galaxias? **¡Por vista!** Los astrónomos miran a las imagenes y deciden en la clasificación por su aparencia visual.\n",
    "\n",
    "En los *surveys* de galaxias típicamente observan millones de galaxias. No es factible (y es probablemente contra los derechos humanos) pedir a un astrónomo que mire a cada imágen y clasifique todas las galaxias...\n",
    "\n",
    "Pero ¿por qué es algo que está hecho por una persona? Es porque los humanos son *muy* buenos en identificar objetos por su apariencia visual."
   ]
  },
  {
   "cell_type": "markdown",
   "metadata": {
    "slideshow": {
     "slide_type": "slide"
    }
   },
   "source": [
    "#### A veces demasiado bueno..."
   ]
  },
  {
   "cell_type": "markdown",
   "metadata": {
    "slideshow": {
     "slide_type": "slide"
    }
   },
   "source": [
    "| ¿Nube o conejo? |\n",
    "|----------------|\n",
    "| ![](clase3_imagenes/rabbit_cloud.jpg) |"
   ]
  },
  {
   "cell_type": "markdown",
   "metadata": {
    "slideshow": {
     "slide_type": "slide"
    }
   },
   "source": [
    "| Pan tostado o la cara de Jesus/John Bonham de Led Zeppelin? |\n",
    "|-------------------------------------------------------------|\n",
    "| ![](clase3_imagenes/JesusOnToast2.jpg) |"
   ]
  },
  {
   "cell_type": "markdown",
   "metadata": {
    "slideshow": {
     "slide_type": "slide"
    }
   },
   "source": [
    "Tiene sentido que una *persona* hace la clasificación de las galaxias. Una solución al problema de tener muchas imagenes de datos es pedir la ayuda de otros...\n",
    "\n",
    "![](clase3_imagenes/gz-screenshot.jpg)\n",
    "\n",
    "https://www.zooniverse.org/projects/zookeeper/galaxy-zoo\n",
    "\n",
    "Este es un ejemplo de *ciencia ciudadana* donde cualquier persona puede ayudar a hacer nuevos descubrimientos en la ciencia y otros áreas.\n",
    "\n",
    "https://www.zooniverse.org/projects\n",
    "\n",
    "Hay proyectos en las artes, la biología, la historia, la literatura, la medicina, la física, etc."
   ]
  },
  {
   "cell_type": "markdown",
   "metadata": {
    "slideshow": {
     "slide_type": "slide"
    }
   },
   "source": [
    "#### ¿Este es algo que un computador puede hacer?\n",
    "\n",
    "La tarea de reconocer lo que hay en una imágen visual es algo que los humanos hacen sin pensar. Pero requiere juicio, contexto, tomar decisiones con información poco clara...\n",
    "\n",
    "**Inteligencia artificial** es el área de la informática sobre el desarrollo de los algorítmos que pueden lidiar estos desafíos (es decir, que dejan un computador a \"pensar como un humano\")."
   ]
  },
  {
   "cell_type": "markdown",
   "metadata": {
    "slideshow": {
     "slide_type": "slide"
    }
   },
   "source": [
    "Sería demasiado complicado programar explícitamente todos los pasos que un computador necesitaría para reconocer una imágen. Sería mucho mejor si el computador puede *aprender por si mismo* como hacerlo.\n",
    "\n",
    "Por eso, una parte muy importante de la inteligencia artificial es el diseño e implementación de algorítmos de **aprendizaje de máquina** (*machine learning*)."
   ]
  },
  {
   "cell_type": "markdown",
   "metadata": {
    "slideshow": {
     "slide_type": "slide"
    }
   },
   "source": [
    "## Inteligencia Artificial (IA)\n",
    "\n",
    "IA tiene una historia larga y complicada. Desde los primeros días de la informática se ha preguntado si un computador podría ser tan inteligente como un humano\n",
    "\n",
    "El padre de la informática, Alan Turing, ideó una prueba para ver si una máquina tenía inteligencia o no - la famosa *prueba de Turing*.\n",
    "\n",
    "![](clase3_imagenes/turing.jpg)"
   ]
  },
  {
   "cell_type": "markdown",
   "metadata": {
    "slideshow": {
     "slide_type": "slide"
    }
   },
   "source": [
    "### La prueba de Turing\n",
    "\n",
    "![](clase3_imagenes/turing_test.png)"
   ]
  },
  {
   "cell_type": "markdown",
   "metadata": {
    "slideshow": {
     "slide_type": "slide"
    }
   },
   "source": [
    "La idea de la prueba es la siguiente:\n",
    "\n",
    "* Hay una persona $C$ que hace preguntas a $A$ y $B$. \n",
    "* Escondidos de la persona $C$, hay un computador $A$ y otra persona $B$.\n",
    "* Si la persona $C$ no puede determinar cuál de $A$ y $B$ es el computador, entonces decimos que el computador es \"inteligente\"."
   ]
  },
  {
   "cell_type": "markdown",
   "metadata": {
    "slideshow": {
     "slide_type": "slide"
    }
   },
   "source": [
    "Aunque la idea de la prueba es interesante, de hecho tiene muchas problemas:\n",
    "\n",
    "1. No es muy objetivo - depende de la persona haciendo las preguntas, depende de las preguntas, etc.\n",
    "2. Es muy específico a la inteligencia *humana*. Sabemos muy bien que muchas veces los humanos actuan sin inteligencia, y parece que hay otros animales que tienen mucha inteligencia.\n",
    "3. Inteligencia \"de verdad\" o inteligencia \"simulada\"?\n",
    "4. La prueba, al final, ¡es irrelevante! \n",
    "\n",
    "Un ejemplo, nadie dice que la meta de la aeronáutica es construir aviones que vuelan en una forma tan similar a los pájaros, que los pájaros no saben si son otros pájaros o no!"
   ]
  },
  {
   "cell_type": "markdown",
   "metadata": {
    "slideshow": {
     "slide_type": "slide"
    }
   },
   "source": [
    "#### La definición de la inteligencia\n",
    "\n",
    "Entonces, la pregunta más fundamental, que la prueba de Turing no aborda, es ¿qué es la inteligencia?\n",
    "\n",
    "La respuesta es típicamente \"algo que actúa como nosotros, los humanos\". Pero esta defición es muy vaga, y lógicamente circular.\n",
    "\n",
    "A pesar de que no hay una definición buena de lo que es \"la inteligencia\", la historia de la IA incluye muchos intentos de construir una máquina con una inteligencia general, como un humano. Aún no existe."
   ]
  },
  {
   "cell_type": "markdown",
   "metadata": {
    "slideshow": {
     "slide_type": "slide"
    }
   },
   "source": [
    "#### IA moderna\n",
    "\n",
    "Hay un punto de vista moderna de la IA que es diferente. En vez de crear un computador que \"piensa como un humano\", podemos intentar a crear algorítmos que hacen cosas que, usualmente, los humanos hacen mejor.\n",
    "\n",
    "Estos son cosas que involucran información incompleta, razonamiento probabilistica, inferencia, etc."
   ]
  },
  {
   "cell_type": "markdown",
   "metadata": {
    "slideshow": {
     "slide_type": "slide"
    }
   },
   "source": [
    "#### Ejemplo: reconocimiento de imágenes\n",
    "\n",
    "De nuevo, el reconocimiento de imágenes es un ejemplo muy común. En esta imágen es muy fácil para nosotros ver que hay una bici roja:\n",
    "\n",
    "![](clase3_imagenes/red_bike.jpg)"
   ]
  },
  {
   "cell_type": "markdown",
   "metadata": {
    "slideshow": {
     "slide_type": "slide"
    }
   },
   "source": [
    "...pero es muy difícil (sin las técnicas de *machine learning*) escribir un algorítmo que puede identificar los contenidos de cualquier imágen.\n",
    "\n",
    "Por cierto, el concepto de una \"captcha\" es para asegurar que el usuario es una persona y no un computador (un \"bot\"):\n",
    "\n",
    "![](clase3_imagenes/captcha.png)\n",
    "\n",
    "Es muy fácil (para nosotros) leer la palabra, pero típicamente es muy difícil para un computador (especialmente cuando esta distorcionada como en el ejemplo)."
   ]
  },
  {
   "cell_type": "markdown",
   "metadata": {
    "slideshow": {
     "slide_type": "slide"
    }
   },
   "source": [
    "#### Ejemplo: lenguajes naturales\n",
    "\n",
    "Los leguajes naturales (lenguajes humanos, e.g. castellano, inglés) tienen mucha ambigüedad. Uno se necesita saber el contexto de una frase para entenderla..."
   ]
  },
  {
   "cell_type": "markdown",
   "metadata": {
    "slideshow": {
     "slide_type": "slide"
    }
   },
   "source": [
    "![](clase3_imagenes/hallar_x.jpg)"
   ]
  },
  {
   "cell_type": "markdown",
   "metadata": {
    "slideshow": {
     "slide_type": "slide"
    }
   },
   "source": [
    "![](clase3_imagenes/socrates.jpg)"
   ]
  },
  {
   "cell_type": "markdown",
   "metadata": {
    "slideshow": {
     "slide_type": "slide"
    }
   },
   "source": [
    "Hay varios áreas de investigación en el área de lenguajes naturales en IA:\n",
    "\n",
    "* *Natural Language Processing* - Procesamiento de los lenguajes naturales, por ejemplo en el uso de *asistentes virtuales*, traducción automática (Google Translate)\n",
    "* *Natural Language Understanding* - Entendimiento de los lenguajes naturales, por ejemplo tener una máquina que puede entender el contenido de una noticia\n",
    "* *Natural Language Generation* - Generación de los lenguajes naturales, por ejemplo los *chatbots* que responden a preguntas, o un programa que puede redactar una carta"
   ]
  },
  {
   "cell_type": "markdown",
   "metadata": {
    "slideshow": {
     "slide_type": "slide"
    }
   },
   "source": [
    "### Aplicaciones de IA\n",
    "Se puede considerar tres aplicaciones fundamentales de la inteligencia artificial:\n",
    "\n",
    "* Clasificación: categorizar lo que existe en el mundo.\n",
    "* Predicción: adivinar lo que va a pasar en el futuro.\n",
    "* Reacción: responder a las circunstancias actuales."
   ]
  },
  {
   "cell_type": "markdown",
   "metadata": {
    "slideshow": {
     "slide_type": "slide"
    }
   },
   "source": [
    "#### Classificación\n",
    "Para entender el mundo, tenemos que organizar nuestro conocimiento del mundo: tenemos que *classificar* (categorizar) lo que hay.\n",
    "\n",
    "![](clase3_imagenes/cat_dog.png)"
   ]
  },
  {
   "cell_type": "markdown",
   "metadata": {
    "slideshow": {
     "slide_type": "slide"
    }
   },
   "source": [
    "#### Predicción\n",
    "Es importante para nosotros tener la capacidad de adivinar más o menos lo que va a pasar en el futuro (el futuro inmediato). Es así para un sistema de inteligencia artificial también.\n",
    "\n",
    "![](clase3_imagenes/evil_computer.gif)"
   ]
  },
  {
   "cell_type": "markdown",
   "metadata": {
    "slideshow": {
     "slide_type": "slide"
    }
   },
   "source": [
    "#### Reacción\n",
    "En el caso de un sistema inteligente, es importante reaccionar a los eventos externos. Por ejemplo, un **vehículo autónomo** obviamente tiene que reaccionar bien a eventos externos...\n",
    "\n",
    "Este aspecto de la inteligencia artificial tiene más relevancia para los robots que para los sistemas típicamente utilizados en la ciencia.\n",
    "\n",
    "| ![](clase3_imagenes/boston_dynamics.webp) |\n",
    "|-----------------------------------------|\n",
    "| Robot de Boston Dynamics                |"
   ]
  },
  {
   "cell_type": "markdown",
   "metadata": {
    "slideshow": {
     "slide_type": "slide"
    }
   },
   "source": [
    "### IA aplicada a la ciencia\n",
    "\n",
    "Una aplicación de la IA hoy en día es el diseño de algorítmos para la extracción de información útil de datos complejos, incompletos y inciertos.\n",
    "\n",
    "En la ciencia, podemos usar estos algorítmos para muchos tipos de análisis:\n",
    "\n",
    "* Clasificación\n",
    "* Identificación de datos raros (*outliers*)\n",
    "* Determinación de relaciones entre variables\n",
    "* Predicciones para observaciones futuras\n",
    "* y mucho más...\n",
    "\n",
    "Estamos hablando de algorítmos de *machine learning*: un conjunto de técnicas diseñadas para lidiar estos tipos de problemas. Se llama *machine learning* (aprendizaje de máquina) porque los algorítmos pueden mejorar su propio rendimiento con más y más datos, es decir *aprenden*."
   ]
  },
  {
   "cell_type": "markdown",
   "metadata": {
    "slideshow": {
     "slide_type": "slide"
    }
   },
   "source": [
    "#### Tipos de *machine learning*\n",
    "\n",
    "Hay dos tipos principales:\n",
    "\n",
    "1. Aprendizaje sin supervisión\n",
    "2. Aprendizaje con supervisión\n",
    "\n",
    "También hay **aprendizaje semi-supervisado** (entre supervisado y no supervisado) y **aprendizaje reforzado** (más para robots/agentes)."
   ]
  },
  {
   "cell_type": "markdown",
   "metadata": {
    "slideshow": {
     "slide_type": "slide"
    }
   },
   "source": [
    "#### Aprendizaje sin supervisión\n",
    "\n",
    "Estos son algorítmos que podemos aplicar a los datos inmediatamente, sin la necesidad de \"entrenamiento\".\n",
    "\n",
    "Un ejemplo simple es un algorítmo que se llama *k-means clustering*."
   ]
  },
  {
   "cell_type": "markdown",
   "metadata": {
    "slideshow": {
     "slide_type": "slide"
    }
   },
   "source": [
    "Suponemos que tenemos mediciones de las masas y temperaturas de algunas estrellas. Las estrellas en la *secuencia principal* tienen masas y temperaturas bajas, las gigantes rojas tienen masas y temperaturas mayores, y las gigantes azules tienen altas masa y temperaturas aún mayor.\n",
    "\n",
    "![](clase3_imagenes/masa_temp.png)"
   ]
  },
  {
   "cell_type": "markdown",
   "metadata": {
    "slideshow": {
     "slide_type": "slide"
    }
   },
   "source": [
    "#### *k-means clustering*\n",
    "\n",
    "Tenemos un espacio (bidimensional) de dos parámetros. Los datos agrupan en ciertas regiones de este espacio.\n",
    "\n",
    "Podemos identificar muy fácilmente por vista las regiones del espacio de parámetros donde los puntos agrupan. Ahora, veremos el algorítmo *k-means clustering* que puede identificar estos regiones automáticamente."
   ]
  },
  {
   "cell_type": "code",
   "execution_count": 5,
   "metadata": {
    "slideshow": {
     "slide_type": "slide"
    }
   },
   "outputs": [
    {
     "name": "stdout",
     "output_type": "stream",
     "text": [
      "Populating the interactive namespace from numpy and matplotlib\n"
     ]
    }
   ],
   "source": [
    "%pylab inline"
   ]
  },
  {
   "cell_type": "code",
   "execution_count": 6,
   "metadata": {
    "slideshow": {
     "slide_type": "fragment"
    }
   },
   "outputs": [],
   "source": [
    "datos = load(\"clase3_imagenes/datos.npy\")"
   ]
  },
  {
   "cell_type": "markdown",
   "metadata": {
    "slideshow": {
     "slide_type": "fragment"
    }
   },
   "source": [
    "Importamos el módulo *scikit-learn* que contiene funciones que son implementaciones de muchos algorítmos de *machine learning*"
   ]
  },
  {
   "cell_type": "code",
   "execution_count": 7,
   "metadata": {
    "slideshow": {
     "slide_type": "fragment"
    }
   },
   "outputs": [],
   "source": [
    "from sklearn.cluster import KMeans"
   ]
  },
  {
   "cell_type": "markdown",
   "metadata": {
    "slideshow": {
     "slide_type": "slide"
    }
   },
   "source": [
    "Ahora vamos a usar el método *k-means clustering*. Suponemos que hay $3$ grupos de puntos (*clusters*). La función **KMeans** crea un objeto que podemos usar con nuestros datos."
   ]
  },
  {
   "cell_type": "code",
   "execution_count": 8,
   "metadata": {
    "slideshow": {
     "slide_type": "fragment"
    }
   },
   "outputs": [],
   "source": [
    "kmeans = KMeans(n_clusters=3)"
   ]
  },
  {
   "cell_type": "markdown",
   "metadata": {
    "slideshow": {
     "slide_type": "fragment"
    }
   },
   "source": [
    "Aplicamos nuestro modelo de *k-means* a los datos que tenemos."
   ]
  },
  {
   "cell_type": "code",
   "execution_count": 9,
   "metadata": {
    "slideshow": {
     "slide_type": "fragment"
    }
   },
   "outputs": [
    {
     "data": {
      "text/plain": [
       "KMeans(algorithm='auto', copy_x=True, init='k-means++', max_iter=300,\n",
       "    n_clusters=3, n_init=10, n_jobs=None, precompute_distances='auto',\n",
       "    random_state=None, tol=0.0001, verbose=0)"
      ]
     },
     "execution_count": 9,
     "metadata": {},
     "output_type": "execute_result"
    }
   ],
   "source": [
    "kmeans.fit(datos)"
   ]
  },
  {
   "cell_type": "markdown",
   "metadata": {
    "slideshow": {
     "slide_type": "slide"
    }
   },
   "source": [
    "Podemos ver las posiciones de los centros de los grupos, según el algorítmo:"
   ]
  },
  {
   "cell_type": "code",
   "execution_count": 10,
   "metadata": {
    "slideshow": {
     "slide_type": "fragment"
    }
   },
   "outputs": [
    {
     "data": {
      "text/plain": [
       "array([[108.56303493, 150.63381276],\n",
       "       [ 12.12593034,  12.23503402],\n",
       "       [ 98.73404627, 101.08138838]])"
      ]
     },
     "execution_count": 10,
     "metadata": {},
     "output_type": "execute_result"
    }
   ],
   "source": [
    "kmeans.cluster_centers_"
   ]
  },
  {
   "cell_type": "markdown",
   "metadata": {
    "slideshow": {
     "slide_type": "fragment"
    }
   },
   "source": [
    "El algoritmo indica cual punto está en cual grupo con una etiqueta (*label*):"
   ]
  },
  {
   "cell_type": "code",
   "execution_count": 11,
   "metadata": {
    "slideshow": {
     "slide_type": "fragment"
    }
   },
   "outputs": [
    {
     "data": {
      "text/plain": [
       "array([1, 1, 1, 1, 1, 1, 1, 1, 1, 1, 2, 2, 2, 2, 2, 2, 2, 2, 2, 2, 0, 0,\n",
       "       0, 0, 0, 0, 0, 0, 0, 0], dtype=int32)"
      ]
     },
     "execution_count": 11,
     "metadata": {},
     "output_type": "execute_result"
    }
   ],
   "source": [
    "kmeans.labels_"
   ]
  },
  {
   "cell_type": "markdown",
   "metadata": {
    "slideshow": {
     "slide_type": "slide"
    }
   },
   "source": [
    "Podemos usar estos números en la función *scatter* que grafica los datos. Uno de los argumentos a *scatter* es \"c\", para especificar el color de cada punto."
   ]
  },
  {
   "cell_type": "code",
   "execution_count": 12,
   "metadata": {
    "slideshow": {
     "slide_type": "fragment"
    }
   },
   "outputs": [
    {
     "data": {
      "text/plain": [
       "<matplotlib.collections.PathCollection at 0x7fd6d2d64b00>"
      ]
     },
     "execution_count": 12,
     "metadata": {},
     "output_type": "execute_result"
    },
    {
     "data": {
      "image/png": "[encoded data removed]",
      "text/plain": [
       "<Figure size 432x288 with 1 Axes>"
      ]
     },
     "metadata": {
      "needs_background": "light"
     },
     "output_type": "display_data"
    }
   ],
   "source": [
    "scatter(datos[:,0],datos[:,1], c=kmeans.labels_)"
   ]
  },
  {
   "cell_type": "markdown",
   "metadata": {
    "slideshow": {
     "slide_type": "slide"
    }
   },
   "source": [
    "El algoritmo ha identificado correctamente los distintos grupos de puntos. Este algorítmo es muy útil si queremos identificar grupos en muchos datos. Es importante notar que no hemos dado información sobre los datos. Solamente que estamos buscando $3$ grupos. El algorítmo *aprendió* cuales son los grupos.\n",
    "\n",
    "Por ejemplo, en vez de $30$ puntos, quizás tenemos $10000$ estrellas, y mediciones de $8$ variables, y no solamente $2$. Entonces, estaríamos buscando varios grupos dentro de los $10000$ puntos en un espacio con $8$ dimensiones! Un algorítmo automático ayuda muchisimo."
   ]
  },
  {
   "cell_type": "markdown",
   "metadata": {
    "slideshow": {
     "slide_type": "slide"
    }
   },
   "source": [
    "#### Aprendizaje con supervisión\n",
    "\n",
    "El ejemplo anterior era de un método \"sin supervisión\". No teniamos que dar datos de \"entrenamiento\" para enseñar el algorítmo.\n",
    "\n",
    "Ahora, vamos a ver un ejemplo de un algorítmo con supervisión, donde tenemos que enseñar el algorítmo con algunos de los datos."
   ]
  },
  {
   "cell_type": "markdown",
   "metadata": {
    "slideshow": {
     "slide_type": "slide"
    }
   },
   "source": [
    "#### Ejemplo: árbol de decisión (decision tree)\n",
    "\n",
    "Un *árbol de decisión* es como un diagrama de flujo. El algorítmo divide los datos según sus propiedades hasta que sean totalmente categorizados.\n",
    "\n",
    "Pero, el algorítmo necesita saber cuales propiedades corresponden a cuales categorías - por lo tanto hay que \"entrenar\" el algoritmo antes. Usamos datos que ya son categorizados (datos de entrenamiento), y el algorítmo se ajusta hasta que funcione bien con estos datos.\n",
    "\n",
    "Después, podemos aplicar el algorítmo a datos nuevos."
   ]
  },
  {
   "cell_type": "markdown",
   "metadata": {
    "slideshow": {
     "slide_type": "slide"
    }
   },
   "source": [
    "Un ejemplo con la taxonomía de animales.\n",
    "\n",
    "Tenemos un conjunto de datos que son observaciones de propiedades de algunos animales. Suponemos que tenemos observaciones de caballos, perros, vacas y pelícanos.\n",
    "\n",
    "Observaciones |  Caballo  |  Perro  | Vaca  | Pelícano\n",
    "--------------|-----------|---------|-------|---------\n",
    "4 patas?      |    Si     |    Si   |  Si   |    No\n",
    "Tiene pelaje? |    No     |    Si   |  No   |    No\n",
    "Tiene ubres?  |    No     |    No   |  Si   |    No\n",
    "\n",
    "De las observaciones podemos determinar qué animal es usando un *árbol de decisión*:"
   ]
  },
  {
   "cell_type": "markdown",
   "metadata": {
    "slideshow": {
     "slide_type": "slide"
    }
   },
   "source": [
    "![](clase3_imagenes/animals.png)"
   ]
  },
  {
   "cell_type": "markdown",
   "metadata": {
    "slideshow": {
     "slide_type": "slide"
    }
   },
   "source": [
    "Ahora tenemos una clasificación de los datos según el árbol.\n",
    "\n",
    "Con datos científicos, podemos construir el árbol en forma automática usando un algorítmo computacional. De nuevo, el módulo de *scikit-learn* en Python contiene funciones para este."
   ]
  },
  {
   "cell_type": "markdown",
   "metadata": {
    "slideshow": {
     "slide_type": "slide"
    }
   },
   "source": [
    "#### Otro ejemplo: con mediciones de los flores *iris*\n",
    "\n",
    "![](clase3_imagenes/iris_petal_sepal.png)"
   ]
  },
  {
   "cell_type": "code",
   "execution_count": 13,
   "metadata": {
    "slideshow": {
     "slide_type": "slide"
    }
   },
   "outputs": [],
   "source": [
    "from sklearn import tree\n",
    "from sklearn.datasets import load_iris\n",
    "iris = load_iris()"
   ]
  },
  {
   "cell_type": "code",
   "execution_count": 14,
   "metadata": {
    "slideshow": {
     "slide_type": "fragment"
    }
   },
   "outputs": [
    {
     "data": {
      "text/plain": [
       "['sepal length (cm)',\n",
       " 'sepal width (cm)',\n",
       " 'petal length (cm)',\n",
       " 'petal width (cm)']"
      ]
     },
     "execution_count": 14,
     "metadata": {},
     "output_type": "execute_result"
    }
   ],
   "source": [
    "iris.feature_names"
   ]
  },
  {
   "cell_type": "code",
   "execution_count": 15,
   "metadata": {
    "slideshow": {
     "slide_type": "slide"
    }
   },
   "outputs": [
    {
     "data": {
      "text/plain": [
       "array([[5.1, 3.5, 1.4, 0.2],\n",
       "       [4.9, 3. , 1.4, 0.2],\n",
       "       [4.7, 3.2, 1.3, 0.2],\n",
       "       [4.6, 3.1, 1.5, 0.2],\n",
       "       [5. , 3.6, 1.4, 0.2],\n",
       "       [5.4, 3.9, 1.7, 0.4],\n",
       "       [4.6, 3.4, 1.4, 0.3],\n",
       "       [5. , 3.4, 1.5, 0.2],\n",
       "       [4.4, 2.9, 1.4, 0.2],\n",
       "       [4.9, 3.1, 1.5, 0.1],\n",
       "       [5.4, 3.7, 1.5, 0.2],\n",
       "       [4.8, 3.4, 1.6, 0.2],\n",
       "       [4.8, 3. , 1.4, 0.1],\n",
       "       [4.3, 3. , 1.1, 0.1],\n",
       "       [5.8, 4. , 1.2, 0.2],\n",
       "       [5.7, 4.4, 1.5, 0.4],\n",
       "       [5.4, 3.9, 1.3, 0.4],\n",
       "       [5.1, 3.5, 1.4, 0.3],\n",
       "       [5.7, 3.8, 1.7, 0.3],\n",
       "       [5.1, 3.8, 1.5, 0.3],\n",
       "       [5.4, 3.4, 1.7, 0.2],\n",
       "       [5.1, 3.7, 1.5, 0.4],\n",
       "       [4.6, 3.6, 1. , 0.2],\n",
       "       [5.1, 3.3, 1.7, 0.5],\n",
       "       [4.8, 3.4, 1.9, 0.2],\n",
       "       [5. , 3. , 1.6, 0.2],\n",
       "       [5. , 3.4, 1.6, 0.4],\n",
       "       [5.2, 3.5, 1.5, 0.2],\n",
       "       [5.2, 3.4, 1.4, 0.2],\n",
       "       [4.7, 3.2, 1.6, 0.2],\n",
       "       [4.8, 3.1, 1.6, 0.2],\n",
       "       [5.4, 3.4, 1.5, 0.4],\n",
       "       [5.2, 4.1, 1.5, 0.1],\n",
       "       [5.5, 4.2, 1.4, 0.2],\n",
       "       [4.9, 3.1, 1.5, 0.2],\n",
       "       [5. , 3.2, 1.2, 0.2],\n",
       "       [5.5, 3.5, 1.3, 0.2],\n",
       "       [4.9, 3.6, 1.4, 0.1],\n",
       "       [4.4, 3. , 1.3, 0.2],\n",
       "       [5.1, 3.4, 1.5, 0.2],\n",
       "       [5. , 3.5, 1.3, 0.3],\n",
       "       [4.5, 2.3, 1.3, 0.3],\n",
       "       [4.4, 3.2, 1.3, 0.2],\n",
       "       [5. , 3.5, 1.6, 0.6],\n",
       "       [5.1, 3.8, 1.9, 0.4],\n",
       "       [4.8, 3. , 1.4, 0.3],\n",
       "       [5.1, 3.8, 1.6, 0.2],\n",
       "       [4.6, 3.2, 1.4, 0.2],\n",
       "       [5.3, 3.7, 1.5, 0.2],\n",
       "       [5. , 3.3, 1.4, 0.2],\n",
       "       [7. , 3.2, 4.7, 1.4],\n",
       "       [6.4, 3.2, 4.5, 1.5],\n",
       "       [6.9, 3.1, 4.9, 1.5],\n",
       "       [5.5, 2.3, 4. , 1.3],\n",
       "       [6.5, 2.8, 4.6, 1.5],\n",
       "       [5.7, 2.8, 4.5, 1.3],\n",
       "       [6.3, 3.3, 4.7, 1.6],\n",
       "       [4.9, 2.4, 3.3, 1. ],\n",
       "       [6.6, 2.9, 4.6, 1.3],\n",
       "       [5.2, 2.7, 3.9, 1.4],\n",
       "       [5. , 2. , 3.5, 1. ],\n",
       "       [5.9, 3. , 4.2, 1.5],\n",
       "       [6. , 2.2, 4. , 1. ],\n",
       "       [6.1, 2.9, 4.7, 1.4],\n",
       "       [5.6, 2.9, 3.6, 1.3],\n",
       "       [6.7, 3.1, 4.4, 1.4],\n",
       "       [5.6, 3. , 4.5, 1.5],\n",
       "       [5.8, 2.7, 4.1, 1. ],\n",
       "       [6.2, 2.2, 4.5, 1.5],\n",
       "       [5.6, 2.5, 3.9, 1.1],\n",
       "       [5.9, 3.2, 4.8, 1.8],\n",
       "       [6.1, 2.8, 4. , 1.3],\n",
       "       [6.3, 2.5, 4.9, 1.5],\n",
       "       [6.1, 2.8, 4.7, 1.2],\n",
       "       [6.4, 2.9, 4.3, 1.3],\n",
       "       [6.6, 3. , 4.4, 1.4],\n",
       "       [6.8, 2.8, 4.8, 1.4],\n",
       "       [6.7, 3. , 5. , 1.7],\n",
       "       [6. , 2.9, 4.5, 1.5],\n",
       "       [5.7, 2.6, 3.5, 1. ],\n",
       "       [5.5, 2.4, 3.8, 1.1],\n",
       "       [5.5, 2.4, 3.7, 1. ],\n",
       "       [5.8, 2.7, 3.9, 1.2],\n",
       "       [6. , 2.7, 5.1, 1.6],\n",
       "       [5.4, 3. , 4.5, 1.5],\n",
       "       [6. , 3.4, 4.5, 1.6],\n",
       "       [6.7, 3.1, 4.7, 1.5],\n",
       "       [6.3, 2.3, 4.4, 1.3],\n",
       "       [5.6, 3. , 4.1, 1.3],\n",
       "       [5.5, 2.5, 4. , 1.3],\n",
       "       [5.5, 2.6, 4.4, 1.2],\n",
       "       [6.1, 3. , 4.6, 1.4],\n",
       "       [5.8, 2.6, 4. , 1.2],\n",
       "       [5. , 2.3, 3.3, 1. ],\n",
       "       [5.6, 2.7, 4.2, 1.3],\n",
       "       [5.7, 3. , 4.2, 1.2],\n",
       "       [5.7, 2.9, 4.2, 1.3],\n",
       "       [6.2, 2.9, 4.3, 1.3],\n",
       "       [5.1, 2.5, 3. , 1.1],\n",
       "       [5.7, 2.8, 4.1, 1.3],\n",
       "       [6.3, 3.3, 6. , 2.5],\n",
       "       [5.8, 2.7, 5.1, 1.9],\n",
       "       [7.1, 3. , 5.9, 2.1],\n",
       "       [6.3, 2.9, 5.6, 1.8],\n",
       "       [6.5, 3. , 5.8, 2.2],\n",
       "       [7.6, 3. , 6.6, 2.1],\n",
       "       [4.9, 2.5, 4.5, 1.7],\n",
       "       [7.3, 2.9, 6.3, 1.8],\n",
       "       [6.7, 2.5, 5.8, 1.8],\n",
       "       [7.2, 3.6, 6.1, 2.5],\n",
       "       [6.5, 3.2, 5.1, 2. ],\n",
       "       [6.4, 2.7, 5.3, 1.9],\n",
       "       [6.8, 3. , 5.5, 2.1],\n",
       "       [5.7, 2.5, 5. , 2. ],\n",
       "       [5.8, 2.8, 5.1, 2.4],\n",
       "       [6.4, 3.2, 5.3, 2.3],\n",
       "       [6.5, 3. , 5.5, 1.8],\n",
       "       [7.7, 3.8, 6.7, 2.2],\n",
       "       [7.7, 2.6, 6.9, 2.3],\n",
       "       [6. , 2.2, 5. , 1.5],\n",
       "       [6.9, 3.2, 5.7, 2.3],\n",
       "       [5.6, 2.8, 4.9, 2. ],\n",
       "       [7.7, 2.8, 6.7, 2. ],\n",
       "       [6.3, 2.7, 4.9, 1.8],\n",
       "       [6.7, 3.3, 5.7, 2.1],\n",
       "       [7.2, 3.2, 6. , 1.8],\n",
       "       [6.2, 2.8, 4.8, 1.8],\n",
       "       [6.1, 3. , 4.9, 1.8],\n",
       "       [6.4, 2.8, 5.6, 2.1],\n",
       "       [7.2, 3. , 5.8, 1.6],\n",
       "       [7.4, 2.8, 6.1, 1.9],\n",
       "       [7.9, 3.8, 6.4, 2. ],\n",
       "       [6.4, 2.8, 5.6, 2.2],\n",
       "       [6.3, 2.8, 5.1, 1.5],\n",
       "       [6.1, 2.6, 5.6, 1.4],\n",
       "       [7.7, 3. , 6.1, 2.3],\n",
       "       [6.3, 3.4, 5.6, 2.4],\n",
       "       [6.4, 3.1, 5.5, 1.8],\n",
       "       [6. , 3. , 4.8, 1.8],\n",
       "       [6.9, 3.1, 5.4, 2.1],\n",
       "       [6.7, 3.1, 5.6, 2.4],\n",
       "       [6.9, 3.1, 5.1, 2.3],\n",
       "       [5.8, 2.7, 5.1, 1.9],\n",
       "       [6.8, 3.2, 5.9, 2.3],\n",
       "       [6.7, 3.3, 5.7, 2.5],\n",
       "       [6.7, 3. , 5.2, 2.3],\n",
       "       [6.3, 2.5, 5. , 1.9],\n",
       "       [6.5, 3. , 5.2, 2. ],\n",
       "       [6.2, 3.4, 5.4, 2.3],\n",
       "       [5.9, 3. , 5.1, 1.8]])"
      ]
     },
     "execution_count": 15,
     "metadata": {},
     "output_type": "execute_result"
    }
   ],
   "source": [
    "iris.data"
   ]
  },
  {
   "cell_type": "code",
   "execution_count": 16,
   "metadata": {
    "slideshow": {
     "slide_type": "slide"
    }
   },
   "outputs": [],
   "source": [
    "arbol = tree.DecisionTreeClassifier()\n",
    "arbol = arbol.fit(iris.data, iris.target)"
   ]
  },
  {
   "cell_type": "code",
   "execution_count": 17,
   "metadata": {
    "slideshow": {
     "slide_type": "slide"
    }
   },
   "outputs": [
    {
     "ename": "ModuleNotFoundError",
     "evalue": "No module named 'graphviz'",
     "output_type": "error",
     "traceback": [
      "\u001b[0;31m---------------------------------------------------------------------------\u001b[0m",
      "\u001b[0;31mModuleNotFoundError\u001b[0m                       Traceback (most recent call last)",
      "\u001b[0;32m<ipython-input-17-f7133d3517ab>\u001b[0m in \u001b[0;36m<module>\u001b[0;34m\u001b[0m\n\u001b[0;32m----> 1\u001b[0;31m \u001b[0;32mimport\u001b[0m \u001b[0mgraphviz\u001b[0m\u001b[0;34m\u001b[0m\u001b[0;34m\u001b[0m\u001b[0m\n\u001b[0m",
      "\u001b[0;31mModuleNotFoundError\u001b[0m: No module named 'graphviz'"
     ]
    }
   ],
   "source": [
    "import graphviz"
   ]
  },
  {
   "cell_type": "code",
   "execution_count": null,
   "metadata": {
    "slideshow": {
     "slide_type": "fragment"
    }
   },
   "outputs": [],
   "source": [
    "dot_data = tree.export_graphviz(arbol, out_file=None, \n",
    "                         feature_names=iris.feature_names,  \n",
    "                         class_names=iris.target_names,  \n",
    "                         filled=True, rounded=True,  \n",
    "                         special_characters=True)"
   ]
  },
  {
   "cell_type": "code",
   "execution_count": null,
   "metadata": {
    "slideshow": {
     "slide_type": "fragment"
    }
   },
   "outputs": [],
   "source": [
    "graph = graphviz.Source(dot_data)"
   ]
  },
  {
   "cell_type": "code",
   "execution_count": null,
   "metadata": {
    "slideshow": {
     "slide_type": "slide"
    }
   },
   "outputs": [],
   "source": [
    "#graph"
   ]
  },
  {
   "cell_type": "markdown",
   "metadata": {
    "slideshow": {
     "slide_type": "slide"
    }
   },
   "source": [
    "### Redes neuronales artificiales\n",
    "\n",
    "Un algorítmo más complejo en el área de *machine learning* es una red neuronal artificial (RNA). La investigación de las RNA comenzó hace muchos años en los primeros días de la Inteligencia Artificial.\n",
    "\n",
    "La idea básica es crear un modelo computacional de algo similar a la estructura del cerebro:\n",
    "\n",
    "![](clase3_imagenes/neurons_brain.jpg)"
   ]
  },
  {
   "cell_type": "markdown",
   "metadata": {
    "slideshow": {
     "slide_type": "slide"
    }
   },
   "source": [
    "![](clase3_imagenes/neurona-comun.png)"
   ]
  },
  {
   "cell_type": "markdown",
   "metadata": {
    "slideshow": {
     "slide_type": "slide"
    }
   },
   "source": [
    "Una neurona en el cerebro se activa cuando recibe un señal suficientemente fuerte (un pulso eléctrico) de otras neuronas que están conectadas a sus dendritas. Cuando la neurona activa, manda un pulso eléctrico a lo largo de su axón que termina en sinapsis que se conectan con las dendritas de otras neuronas."
   ]
  },
  {
   "cell_type": "markdown",
   "metadata": {
    "slideshow": {
     "slide_type": "slide"
    }
   },
   "source": [
    "Una red neuronal artificial es un modelo muy simplificado de esta estructura cerebral. Las neuronas artificiales son así:\n",
    "    \n",
    "|![](clase3_imagenes/neurona_artificial.png)|\n",
    "|-------------------------------------------|\n",
    "| Neurona de McCulloch-Pitts                |"
   ]
  },
  {
   "cell_type": "markdown",
   "metadata": {
    "slideshow": {
     "slide_type": "slide"
    }
   },
   "source": [
    "La neurona recibe \"señales\" en sus dendritas, que son simplemente los números $x_n$ multiplicados por *pesos* $w_n$. En el cuerpo de la neurona el sumatorio se calcula (y a veces se agrega un valor de umbral). El resultado del sumatorio va como entrada a la *función de activación* $f$."
   ]
  },
  {
   "cell_type": "markdown",
   "metadata": {
    "slideshow": {
     "slide_type": "slide"
    }
   },
   "source": [
    "Podemos elegir (casi) cualquier función para $f$. Algunas posibilidades son:\n",
    "\n",
    "![](clase3_imagenes/funcion_activacion.png)"
   ]
  },
  {
   "cell_type": "markdown",
   "metadata": {
    "slideshow": {
     "slide_type": "slide"
    }
   },
   "source": [
    "El resultado de la función de activación es la salida de la neurona, que puede ir como entrada a otra neurona.\n",
    "\n",
    "Un ejemplo:\n",
    "\n",
    "La neurona recibe $4$ valores de entrada: $x_1 = 1$, $x_2 = -3$, $x_3 = -4$, $x_4 = 2$. Los *pesos* son $w_1 = 0.1$, $w_2 = 0.3$, $w_3 = 0.1$ y $w_4 = 0.5$. El sumatorio, usando los pesos, será:\n",
    "\n",
    "$$x_1 w_1 + x_2 w_2 + x_3 w_3 + x_4 w_4 = -0.2$$\n",
    "\n",
    "La función de activación es la función *escalón* en los ejemplos arriba. Su valor de entrada es $-0.2 < 0$ así que su valor de salida es $-1$.\n",
    "\n",
    "Si $w_1 = 0.5$ en vez de su valor antes, el sumatorio será igual a $0.2 > 0$ y la salida de la función de activación será $+1$."
   ]
  },
  {
   "cell_type": "markdown",
   "metadata": {
    "slideshow": {
     "slide_type": "slide"
    }
   },
   "source": [
    "Podemos contectar varias neuronas así en una red:\n",
    "\n",
    "![](clase3_imagenes/RedNeuronalArtificial.png)"
   ]
  },
  {
   "cell_type": "markdown",
   "metadata": {
    "slideshow": {
     "slide_type": "slide"
    }
   },
   "source": [
    "1. Tenemos que dar valores como valores de entrada a la primera **capa** de neuronas, que se llama la capa de entrada.\n",
    "2. Las salidas de las funciones de activación de las neuronas en la primera capa dependen de los valores de entrada.\n",
    "3. Estas salidas van como entrada a la próxima capa de neuronas. Ya que esta capa no está conectada al mundo \"fuera\" de la red, se llama una capa **oculta**.\n",
    "4. Las salidas de la capa oculta van como entradas a la capa de salida, y las salidas de esta última capa son corresponden a las salidas finales de la red."
   ]
  },
  {
   "cell_type": "markdown",
   "metadata": {
    "slideshow": {
     "slide_type": "slide"
    }
   },
   "source": [
    "Entonces, las redes neuronales artificiales son como funciones matemáticas:\n",
    "\n",
    "![](clase3_imagenes/functionmachine.png)"
   ]
  },
  {
   "cell_type": "markdown",
   "metadata": {
    "slideshow": {
     "slide_type": "fragment"
    }
   },
   "source": [
    "Pero, una red neuronal artificial puede **aprender** y **mejorar** su propio rendimiento! ¿Cómo lo hace?"
   ]
  },
  {
   "cell_type": "markdown",
   "metadata": {
    "slideshow": {
     "slide_type": "slide"
    }
   },
   "source": [
    "##### Aprendizaje de la red\n",
    "\n",
    "Cada conexión (sinapsis) entre las neuronas tiene asociado un *peso*. Este es un valor (típicamente) entre $0$ y $1$. Un valor de $0$ significa que esta conexión no contribuye nada la activación de la neurona. Un valor de $1$ significa que esta conexión tiene una contribución máxima a la activación de la neurona:\n",
    "\n",
    "![](clase3_imagenes/neuron_weights.png)\n",
    "\n",
    "La activación o no de cada neurona depende de los valores de los pesos. El resultado final (la salida final) de la red depende del patrón de activación de toda la red.\n",
    "\n",
    "* Podemos usar datos conocidos para ajustar los pesos para obtener la salida que queremos. Este proceso se llama *entrenamiento de la red*."
   ]
  },
  {
   "cell_type": "markdown",
   "metadata": {
    "slideshow": {
     "slide_type": "slide"
    }
   },
   "source": [
    "Por ejemplo, supongamos que tenemos una red neuronal con $3$ entradas. Damos los valores $3.1$, $-0.1$, $2.6$ como entradas a la red. Las salidas que queremos son $0$ y $1$ (hay dos neuronas en la capa de salida de esta red).\n",
    "\n",
    "![](clase3_imagenes/neuron_network.png)"
   ]
  },
  {
   "cell_type": "markdown",
   "metadata": {
    "slideshow": {
     "slide_type": "fragment"
    }
   },
   "source": [
    "¿Cómo podemos garantizar que tendremos las salidas correctas? Por ajustar los pesos."
   ]
  },
  {
   "cell_type": "markdown",
   "metadata": {
    "slideshow": {
     "slide_type": "slide"
    }
   },
   "source": [
    "#### Una red neuronal muy básica\n",
    "\n",
    "Ahora vamos a crear una red neuronal para ver como funciona, y como podemos ajustar los pesos para obtener las salidas que queremos.\n",
    "\n",
    "En este ejemplo, vamos a tener una \"red\" muy simple, que contiene solamente $1$ neurona, con $3$ sinapsis (entradas) y una salida:\n",
    "\n",
    "![](clase3_imagenes/neuron_simple.png)"
   ]
  },
  {
   "cell_type": "markdown",
   "metadata": {
    "slideshow": {
     "slide_type": "slide"
    }
   },
   "source": [
    "Queremos una red que pueda representar los siguientes valores de entrada y salida:\n",
    "    \n",
    "Entradas | Salida\n",
    "---------|-------\n",
    "0 0 1    |   0\n",
    "1 1 1    |   1\n",
    "1 0 1    |   1\n",
    "0 1 1    |   0"
   ]
  },
  {
   "cell_type": "markdown",
   "metadata": {
    "slideshow": {
     "slide_type": "slide"
    }
   },
   "source": [
    "Entonces, ¿qué será la salida para las siguientes entradas?\n",
    "\n",
    "Entradas | Salida\n",
    "---------|-------\n",
    "1 0 0    |   ?\n",
    "\n",
    "La salida siempre es igual a la primera entrada, así que debería ser $1$."
   ]
  },
  {
   "cell_type": "markdown",
   "metadata": {
    "slideshow": {
     "slide_type": "slide"
    }
   },
   "source": [
    "¿Qué son los valores de los *pesos* en cada entrada? Comenzamos con pesos aleatorios. Después actualizamos los valores de los pesos para tener las salidas correctas.\n",
    "\n",
    "Necesitamos $3$ pesos (uno para cada entrada de la neurona):"
   ]
  },
  {
   "cell_type": "code",
   "execution_count": null,
   "metadata": {
    "slideshow": {
     "slide_type": "fragment"
    }
   },
   "outputs": [],
   "source": [
    "pesos = random.uniform(low=-1.0,high=1.0,size=3)\n",
    "pesos"
   ]
  },
  {
   "cell_type": "markdown",
   "metadata": {
    "slideshow": {
     "slide_type": "slide"
    }
   },
   "source": [
    "##### El proceso de entrenamiento:\n",
    "\n",
    "1. Elegimos un conjunto de entradas (por ejemplo, la primera fila de la tabla arriba).\n",
    "2. Aplicamos los *pesos* a estos valores para calcular el sumatorio ponderado de las entradas.\n",
    "3. Utilizamos el resultado del sumatorio como entrada a la función de activación de la neurona.\n",
    "4. La salida de la función de activación, en este caso, es la salida de la red. Comparamos esta salida con el valor correcto y calculamos el error.\n",
    "5. En este caso, el error es la diferencia entre la salida de la neurona y la salida correcta.\n",
    "6. **Ajustamos los pesos**.\n",
    "7. Repetimos el proceso muchas veces..."
   ]
  },
  {
   "cell_type": "markdown",
   "metadata": {
    "slideshow": {
     "slide_type": "slide"
    }
   },
   "source": [
    "**Paso 1**\n",
    "\n",
    "Elegimos la primera fila de entradas. Entonces tenemos $x_1 = 0$, $x_2 = 0$, $x_3 = 1$.\n",
    "\n",
    "**Paso 2**\n",
    "\n",
    "Sumatorio ponderado de las entradas: $x = \\sum_i w_i x_i = w_1 x_1 + w_2 x_2 + w_3 x_3$."
   ]
  },
  {
   "cell_type": "code",
   "execution_count": null,
   "metadata": {
    "slideshow": {
     "slide_type": "fragment"
    }
   },
   "outputs": [],
   "source": [
    "entradas = array([0,0,1])\n",
    "pesos*entradas"
   ]
  },
  {
   "cell_type": "markdown",
   "metadata": {
    "slideshow": {
     "slide_type": "fragment"
    }
   },
   "source": [
    "Es importante notar que podemos representar las entradas y los pesos como *vectores* $\\vec{x}$, $\\vec{w}$."
   ]
  },
  {
   "cell_type": "code",
   "execution_count": null,
   "metadata": {
    "slideshow": {
     "slide_type": "fragment"
    }
   },
   "outputs": [],
   "source": [
    "sumatorio = sum(pesos*entradas)\n",
    "sumatorio"
   ]
  },
  {
   "cell_type": "markdown",
   "metadata": {
    "slideshow": {
     "slide_type": "slide"
    }
   },
   "source": [
    "**Pasos 3 y 4**\n",
    "\n",
    "La función de activación que vamos a ocupar en este caso es la función *sigmoide*: $y = \\frac{1}{1+e^{-x}}$\n",
    "\n",
    "Elegimos esta función por que es más fácil derivar que una función discontinua."
   ]
  },
  {
   "cell_type": "code",
   "execution_count": null,
   "metadata": {
    "slideshow": {
     "slide_type": "fragment"
    }
   },
   "outputs": [],
   "source": [
    "xvals = linspace(-6,6,100)\n",
    "yvals = 1.0/(1.0 + exp(-xvals))\n",
    "plot(xvals,yvals)"
   ]
  },
  {
   "cell_type": "markdown",
   "metadata": {
    "slideshow": {
     "slide_type": "slide"
    }
   },
   "source": [
    "La salida de la función de activación es:"
   ]
  },
  {
   "cell_type": "code",
   "execution_count": null,
   "metadata": {
    "slideshow": {
     "slide_type": "fragment"
    }
   },
   "outputs": [],
   "source": [
    "1.0/(1.0 + exp(-sumatorio))"
   ]
  },
  {
   "cell_type": "markdown",
   "metadata": {
    "slideshow": {
     "slide_type": "slide"
    }
   },
   "source": [
    "La salida correcta es $0$.\n",
    "\n",
    "**Paso 5**\n",
    "\n",
    "El error en nuestra salida es la diferencia entre la salida correcta y la de la red:\n",
    "\n",
    "$\\epsilon = y_c - y$\n",
    "\n",
    "(Hay varias maneras de calcular el error. Estamos usando una opción simple)"
   ]
  },
  {
   "cell_type": "code",
   "execution_count": null,
   "metadata": {
    "slideshow": {
     "slide_type": "fragment"
    }
   },
   "outputs": [],
   "source": [
    "error = 0 - 1.0/(1.0 + exp(-sumatorio))\n",
    "error"
   ]
  },
  {
   "cell_type": "markdown",
   "metadata": {
    "slideshow": {
     "slide_type": "slide"
    }
   },
   "source": [
    "**Paso 6**\n",
    "\n",
    "Ahora viene la parte más complicada. Queremos ajustar los pesos para mejorar el rendimiento de la red. En otras palabras, queremos reducir el error por un ajuste de los pesos.\n",
    "\n",
    "Pensando en el problema en una forma matemática, lo que buscamos es el *mínimo* de la función que da el error. La operación de buscar este mínimo es algo que se llama *optimización*.\n",
    "\n",
    "De la aplicación del cálculo diferencial a este problema, es posible demostrar que la siguiente actualización de los pesos sirve:\n",
    "\n",
    "$$\\delta \\vec{w} = \\epsilon \\vec{x} \\frac{dy}{dx}$$\n",
    "\n",
    "La derivada de la función $y$ (que es la función de activación de la neurona) es\n",
    "\n",
    "$$\\frac{dy}{dx} = y(1-y)$$"
   ]
  },
  {
   "cell_type": "markdown",
   "metadata": {
    "slideshow": {
     "slide_type": "slide"
    }
   },
   "source": [
    "$$\\delta \\vec{w} = \\epsilon \\vec{x} \\frac{dy}{dx}$$\n",
    "\n",
    "* Proporcional al error $\\epsilon$. Si el error es grande, implica que los valores de los pesos son muy lejos de sus valores óptimos, y por lo tanto deberíamos cambiarlos más que en el caso de un error pequeño.\n",
    "* Proporcional a las entradas $\\vec{x}$. Así que, cada peso es proporcional a la entrada asociada. Si la entrada asociada al peso es igual a cero, no importa que valor de peso tenemos y por lo tanto no es necesario cambiarlo.\n",
    "* Proporcional a la derivada de la función de activación. Buscamos el mínimo del error, $\\epsilon$. Este error esta dado por $y_c - y$. Para encontrar el mínimo de una función, hay que considerar su derivada. Entonces, la derivada del error es la derivada de la función $y$ ($y_c$ es una constante)."
   ]
  },
  {
   "cell_type": "markdown",
   "metadata": {
    "slideshow": {
     "slide_type": "slide"
    }
   },
   "source": [
    "Es posible demostrar matemáticamente como actualizar los pesos para una red que tiene un número arbitrario de neuronas y conexiones.\n",
    "\n",
    "Esta parte del algorítmo (la actualización de los pesos) es la parte **más importante** de la operación de una red neuronal artificial. El algorítmo para actualizar los pesos se llama *backpropagation*.\n",
    "\n",
    "Es por el uso de *backpropagation* que la red puede aprender. Este es la diferencia entre una red neuronal artificial y una función matemática!"
   ]
  },
  {
   "cell_type": "markdown",
   "metadata": {
    "slideshow": {
     "slide_type": "slide"
    }
   },
   "source": [
    "Ahora, calculamos la derivada:"
   ]
  },
  {
   "cell_type": "code",
   "execution_count": null,
   "metadata": {
    "slideshow": {
     "slide_type": "fragment"
    }
   },
   "outputs": [],
   "source": [
    "y = 1.0/(1.0 + exp(-sumatorio))\n",
    "derivada = y*(1-y)\n",
    "derivada"
   ]
  },
  {
   "cell_type": "markdown",
   "metadata": {
    "slideshow": {
     "slide_type": "fragment"
    }
   },
   "source": [
    "Entonces los cambios de los pesos son:"
   ]
  },
  {
   "cell_type": "code",
   "execution_count": null,
   "metadata": {
    "slideshow": {
     "slide_type": "fragment"
    }
   },
   "outputs": [],
   "source": [
    "delta_w = error * entradas * derivada\n",
    "delta_w"
   ]
  },
  {
   "cell_type": "markdown",
   "metadata": {
    "slideshow": {
     "slide_type": "fragment"
    }
   },
   "source": [
    "Actualizamos los valores de los pesos:"
   ]
  },
  {
   "cell_type": "code",
   "execution_count": null,
   "metadata": {
    "slideshow": {
     "slide_type": "fragment"
    }
   },
   "outputs": [],
   "source": [
    "pesos += delta_w\n",
    "pesos"
   ]
  },
  {
   "cell_type": "markdown",
   "metadata": {
    "slideshow": {
     "slide_type": "slide"
    }
   },
   "source": [
    "Calculamos el resultado con los nuevos valores de los pesos..."
   ]
  },
  {
   "cell_type": "code",
   "execution_count": null,
   "metadata": {
    "slideshow": {
     "slide_type": "fragment"
    }
   },
   "outputs": [],
   "source": [
    "sumatorio = sum(pesos*entradas)\n",
    "1.0/(1.0 + exp(-sumatorio))"
   ]
  },
  {
   "cell_type": "markdown",
   "metadata": {
    "slideshow": {
     "slide_type": "slide"
    }
   },
   "source": [
    "El valor ha reducido después de la actualización de los pesos. Hay que repetir el proceso varias veces, y también hay que ocupar todas los pares de entradas/salidas de entrenamiento:\n",
    "\n",
    "Entradas | Salida\n",
    "---------|-------\n",
    "0 0 1    |   0\n",
    "1 1 1    |   1\n",
    "1 0 1    |   1\n",
    "0 1 1    |   0\n",
    "\n",
    "Entonces, vamos a aplicar el algorítmo a todas las entradas/salidas que tenemos."
   ]
  },
  {
   "cell_type": "code",
   "execution_count": null,
   "metadata": {
    "slideshow": {
     "slide_type": "fragment"
    }
   },
   "outputs": [],
   "source": [
    "entradas = array([[0,0,1],[1,1,1],[1,0,1],[0,1,1]])\n",
    "salidas = array([[0,1,1,0]]).T ## La \"T\" significa la transpuesta del arreglo"
   ]
  },
  {
   "cell_type": "code",
   "execution_count": null,
   "metadata": {
    "slideshow": {
     "slide_type": "slide"
    }
   },
   "outputs": [],
   "source": [
    "entradas"
   ]
  },
  {
   "cell_type": "code",
   "execution_count": null,
   "metadata": {
    "slideshow": {
     "slide_type": "fragment"
    }
   },
   "outputs": [],
   "source": [
    "salidas"
   ]
  },
  {
   "cell_type": "code",
   "execution_count": null,
   "metadata": {
    "slideshow": {
     "slide_type": "fragment"
    }
   },
   "outputs": [],
   "source": [
    "pesos = random.uniform(low=-1.0,high=1.0,size=(3,1))"
   ]
  },
  {
   "cell_type": "code",
   "execution_count": null,
   "metadata": {
    "slideshow": {
     "slide_type": "fragment"
    }
   },
   "outputs": [],
   "source": [
    "pesos"
   ]
  },
  {
   "cell_type": "markdown",
   "metadata": {
    "slideshow": {
     "slide_type": "slide"
    }
   },
   "source": [
    "Definimos una función en Python para la función de activación de la neurona."
   ]
  },
  {
   "cell_type": "code",
   "execution_count": null,
   "metadata": {
    "slideshow": {
     "slide_type": "fragment"
    }
   },
   "outputs": [],
   "source": [
    "def sigmoide(x):\n",
    "    return( 1/(1+exp(-x)) )"
   ]
  },
  {
   "cell_type": "markdown",
   "metadata": {
    "slideshow": {
     "slide_type": "slide"
    }
   },
   "source": [
    "Podemos calcular el sumatorio de cada conjunto de entradas con los pesos ocupando el producto escalar entre cada fila del arreglo \"entradas\" y el vector \"pesos\". En NumPy el producto escalar está dado por la operación \"dot\":"
   ]
  },
  {
   "cell_type": "code",
   "execution_count": null,
   "metadata": {
    "slideshow": {
     "slide_type": "fragment"
    }
   },
   "outputs": [],
   "source": [
    "y = sigmoide(dot(entradas, pesos))\n",
    "y"
   ]
  },
  {
   "cell_type": "markdown",
   "metadata": {
    "slideshow": {
     "slide_type": "fragment"
    }
   },
   "source": [
    "Los errores son:"
   ]
  },
  {
   "cell_type": "code",
   "execution_count": null,
   "metadata": {
    "slideshow": {
     "slide_type": "fragment"
    }
   },
   "outputs": [],
   "source": [
    "errores = salidas - y\n",
    "errores"
   ]
  },
  {
   "cell_type": "markdown",
   "metadata": {
    "slideshow": {
     "slide_type": "slide"
    }
   },
   "source": [
    "La derivada de la función de activación otra vez es $y(1-y)$:"
   ]
  },
  {
   "cell_type": "code",
   "execution_count": null,
   "metadata": {
    "slideshow": {
     "slide_type": "fragment"
    }
   },
   "outputs": [],
   "source": [
    "derivadas = y*(1-y)\n",
    "derivadas"
   ]
  },
  {
   "cell_type": "markdown",
   "metadata": {
    "slideshow": {
     "slide_type": "slide"
    }
   },
   "source": [
    "Entonces para calcular los cambios de los pesos $\\delta \\vec{w} = \\epsilon \\vec{x} \\frac{dy}{dx}$ *para cada fila de entradas* podemos usar la operación \"dot\" de nuevo:"
   ]
  },
  {
   "cell_type": "code",
   "execution_count": null,
   "metadata": {
    "slideshow": {
     "slide_type": "fragment"
    }
   },
   "outputs": [],
   "source": [
    "entradas.T"
   ]
  },
  {
   "cell_type": "code",
   "execution_count": null,
   "metadata": {
    "slideshow": {
     "slide_type": "fragment"
    }
   },
   "outputs": [],
   "source": [
    "dot(entradas.T, errores * derivadas)"
   ]
  },
  {
   "cell_type": "markdown",
   "metadata": {
    "slideshow": {
     "slide_type": "slide"
    }
   },
   "source": [
    "Estos son los valores de $\\delta \\vec{w}$ que usamos para actualizar los pesos. Ahora, aplicamos nuestro proceso $10000$ veces para entrenar la red:"
   ]
  },
  {
   "cell_type": "code",
   "execution_count": null,
   "metadata": {
    "slideshow": {
     "slide_type": "fragment"
    }
   },
   "outputs": [],
   "source": [
    "for iteracion in range(10000):\n",
    "    # Calculamos para todas las entradas y pesos\n",
    "    y = sigmoide(dot(entradas, pesos))\n",
    "    errores = salidas - y\n",
    "    derivadas = y*(1-y)\n",
    "    pesos += dot(entradas.T, errores * derivadas)"
   ]
  },
  {
   "cell_type": "code",
   "execution_count": null,
   "metadata": {
    "slideshow": {
     "slide_type": "fragment"
    }
   },
   "outputs": [],
   "source": [
    "pesos"
   ]
  },
  {
   "cell_type": "markdown",
   "metadata": {
    "slideshow": {
     "slide_type": "slide"
    }
   },
   "source": [
    "Ahora comparamos las salidas de la red, para cada fila de entradas, con los valores correctos:"
   ]
  },
  {
   "cell_type": "code",
   "execution_count": null,
   "metadata": {
    "slideshow": {
     "slide_type": "fragment"
    }
   },
   "outputs": [],
   "source": [
    "sigmoide(dot(entradas, pesos))"
   ]
  },
  {
   "cell_type": "markdown",
   "metadata": {
    "slideshow": {
     "slide_type": "fragment"
    }
   },
   "source": [
    "Estos valores son muy similares a los valores exactos:\n",
    "\n",
    "Entradas | Salida\n",
    "---------|-------\n",
    "0 0 1    |   0\n",
    "1 1 1    |   1\n",
    "1 0 1    |   1\n",
    "0 1 1    |   0"
   ]
  },
  {
   "cell_type": "markdown",
   "metadata": {
    "slideshow": {
     "slide_type": "slide"
    }
   },
   "source": [
    "Pero, ¿nuestra red puede determinar el valor correcto para entradas que nunca ha visto? Queremos ver la siguiente salida:\n",
    "\n",
    "Entradas | Salida\n",
    "---------|-------\n",
    "1 0 0    |   1"
   ]
  },
  {
   "cell_type": "code",
   "execution_count": null,
   "metadata": {
    "slideshow": {
     "slide_type": "fragment"
    }
   },
   "outputs": [],
   "source": [
    "nuevas_entradas = array([1,0,0])"
   ]
  },
  {
   "cell_type": "code",
   "execution_count": null,
   "metadata": {
    "slideshow": {
     "slide_type": "fragment"
    }
   },
   "outputs": [],
   "source": [
    "sigmoide(dot(nuevas_entradas, pesos))"
   ]
  },
  {
   "cell_type": "markdown",
   "metadata": {
    "slideshow": {
     "slide_type": "fragment"
    }
   },
   "source": [
    "Este es muy cerca al valor correcto de $1$!"
   ]
  },
  {
   "cell_type": "markdown",
   "metadata": {
    "slideshow": {
     "slide_type": "slide"
    }
   },
   "source": [
    "#### Aplicaciones de las redes neuronales artificiales\n",
    "\n",
    "Las redes neuronales artificiales son la base de muchas aplicaciones de Inteligencia Artificial y *machine learning*. Si alguien habla de \"deep learning\" (aprendizaje profundo) se refiere al uso de RNAs."
   ]
  },
  {
   "cell_type": "markdown",
   "metadata": {
    "slideshow": {
     "slide_type": "slide"
    }
   },
   "source": [
    "En la red que vimos había solamente una neurona, así que no era una \"red\" de verdad. Con varias tapas de varias neuronas, podemos tener una relación muy no-lineal entre las entradas a la red, y las salidas.\n",
    "\n",
    "Por eso, las RNAs son muy útiles para problemas de análisis de datos en la ciencia que son problemas muy no-lineales."
   ]
  },
  {
   "cell_type": "markdown",
   "metadata": {
    "slideshow": {
     "slide_type": "slide"
    }
   },
   "source": [
    "Fuera de la ciencia, las RNAs son la base de intentos de diseñar inteligencias artificiales que tienen el nivel de la inteligencia humana.\n",
    "\n",
    "Por ejemplo, el sistema *Watson* de IBM:\n",
    "\n",
    "![](clase3_imagenes/watson_jeopardy.jpg)"
   ]
  },
  {
   "cell_type": "markdown",
   "metadata": {
    "slideshow": {
     "slide_type": "slide"
    }
   },
   "source": [
    "Otro ejemplo es el sistema *Deep Mind* de Google:\n",
    "\n",
    "![](clase3_imagenes/alphaGo.jpg)"
   ]
  },
  {
   "cell_type": "markdown",
   "metadata": {
    "slideshow": {
     "slide_type": "slide"
    }
   },
   "source": [
    "Las recomendaciones de videos en YouTube están determinadas por una red neuronal artificial...\n",
    "\n",
    "![](clase3_imagenes/youtube.png)"
   ]
  },
  {
   "cell_type": "markdown",
   "metadata": {
    "slideshow": {
     "slide_type": "slide"
    }
   },
   "source": [
    "# Resumen\n",
    "\n",
    "* Las cantidades de datos que hay en la ciencia hoy en día requieren técnicas de análisis más allá de las \"tradicionales\"\n",
    "* Con el desarrollo de algoritmos de *machine learning* hoy en día es posible automatizar muchos tipos de análisis que antes necesitaban una persona.\n",
    "* Hemos visto algunos ejemplos de algorítmos de *machine learning*: con supervisión (redes nueronales, árboles de decisión) y sin supervisión (*k-means clustering*)\n",
    "* En Python hay varios módulos que son útiles en este área, como *scikit-learn*.\n",
    "* Hay nuevas herramientas como *TensorFlow* que ayudan en el diseño de redes neuronales.\n",
    "* La importancia de estas técnicas va a seguir creciendo!"
   ]
  },
  {
   "cell_type": "code",
   "execution_count": null,
   "metadata": {},
   "outputs": [],
   "source": []
  }
 ],
 "metadata": {
  "celltoolbar": "Slideshow",
  "kernelspec": {
   "display_name": "Python 3",
   "language": "python",
   "name": "python3"
  },
  "language_info": {
   "codemirror_mode": {
    "name": "ipython",
    "version": 3
   },
   "file_extension": ".py",
   "mimetype": "text/x-python",
   "name": "python",
   "nbconvert_exporter": "python",
   "pygments_lexer": "ipython3",
   "version": "3.7.3"
  }
 },
 "nbformat": 4,
 "nbformat_minor": 2
}
