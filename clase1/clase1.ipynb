{
 "cells": [
  {
   "cell_type": "markdown",
   "metadata": {
    "slideshow": {
     "slide_type": "skip"
    }
   },
   "source": [
    "# Instructions to export slides\n",
    "\n",
    "We might be interested in hiding the code of some slides, e.g. when displaying a video. In order to achieve this,\n",
    " the metadata of the cell has to be edited to include \"to_remove\" tag from the View->Cell Toolbar->Edit Metadata option.\n",
    " \n",
    "For instance:\n",
    " \n",
    "```js\n",
    "{\n",
    "    \"tags\": [\n",
    "        \"to_remove\"\n",
    "    ],\n",
    "    \"slideshow\": {\n",
    "        \"slide_type\": \"slide\"\n",
    "    }\n",
    "}\n",
    "```\n",
    "\n",
    "In order for this to take effect, the slideshow must be compile via the terminal using:\n",
    "```sh\n",
    "jupyter nbconvert presentation.ipynb --to slides --no-prompt --TagRemovePreprocessor.remove_input_tags {\\\"to_remove\\\"} --post serve --SlidesExporter.reveal_theme=simple\n",
    "```"
   ]
  },
  {
   "cell_type": "markdown",
   "metadata": {
    "hideCode": false,
    "hidePrompt": false,
    "slideshow": {
     "slide_type": "slide"
    }
   },
   "source": [
    "# Introducción a las menciones II\n",
    "## Módulo Computación Científica\n",
    "\n",
    "### Prof. Cristian Barrera Hinojosa\n",
    "### cristian.barrera@uv.cl\n",
    "\n",
    "#### Clases disponibles en:\n",
    "https://crisbh.github.io/intro_menciones_II/clases.html "
   ]
  },
  {
   "cell_type": "markdown",
   "metadata": {
    "hideCode": false,
    "hidePrompt": false,
    "slideshow": {
     "slide_type": "slide"
    }
   },
   "source": [
    "# Programa del curso\n",
    "\n",
    "1. Métodos de simulaciones\n",
    "2. Analisis de datos\n",
    "3. Machine learning\n",
    "4. Visualizaciones\n",
    "5. Caso de estudio: orbitas\n",
    "6. Caso de estudio: red neuronal artificial"
   ]
  },
  {
   "cell_type": "markdown",
   "metadata": {
    "hideCode": false,
    "hidePrompt": false,
    "slideshow": {
     "slide_type": "slide"
    }
   },
   "source": [
    "# Métodos de las simulaciones\n",
    "\n",
    "Durante la última clase del semestre pasado hablamos sobre la **utilidad** de las simulaciones computacionales y algunos ejemplos.\n",
    "\n",
    "Ahora veremos las **técnicas** que uno se usa para crear simulaciones.\n",
    "\n",
    "En general, las simulaciones:\n",
    "\n",
    "* Buscan reproducir algún aspecto de nuestro Universo.\n",
    "* Por lo tanto, se tratan de sistemas que se mueven a través del espacio y el tiempo.\n",
    "\n",
    "Por lo tanto, el primer desafío es: ¿cómo podemos representar el espacio y el tiempo en un computador?"
   ]
  },
  {
   "cell_type": "markdown",
   "metadata": {
    "hideCode": false,
    "hidePrompt": false,
    "slideshow": {
     "slide_type": "slide"
    }
   },
   "source": [
    "Normalmente pensamos que el espacio y el tiempo son *continuas* (aunque a un nivel cuántico, eso podría ser incorrecto...)\n",
    "\n",
    "No podemos representar continuidad exactamente en un computador, por su memoria finita.\n",
    "\n",
    "Como ejemplo, considere una parte de la línea de los números reales:\n",
    "\n",
    "![](clase1_imagenes/real_numbers.png)"
   ]
  },
  {
   "cell_type": "markdown",
   "metadata": {
    "hideCode": false,
    "hidePrompt": false,
    "slideshow": {
     "slide_type": "fragment"
    }
   },
   "source": [
    "Hay un número infinito de números entre cualquier par de números en la línea. Por la memoria finita de un computador, es imposible representar todos estos números. Por lo tanto, es imposible representar, en forma exacta, el concepto de *continuidad*."
   ]
  },
  {
   "cell_type": "markdown",
   "metadata": {
    "hideCode": false,
    "hidePrompt": false,
    "slideshow": {
     "slide_type": "slide"
    }
   },
   "source": [
    "#### Discretización del espacio y el tiempo\n",
    "\n",
    "Por esa razón, hay que representar el espacio y el tiempo en una forma *discreta* (en trozos, y no continua).\n",
    "\n",
    "Es como considerar solamente los números enteros en la línea de números reales.\n",
    "\n",
    "Además, el \"universo\" o \"dominio\" de la simulación tiene que ser *finito*. Muchas veces este \"dominio\" se llama la \"caja computacional\"."
   ]
  },
  {
   "cell_type": "markdown",
   "metadata": {
    "hideCode": false,
    "hidePrompt": false,
    "slideshow": {
     "slide_type": "fragment"
    }
   },
   "source": [
    "Un poco de jerga:\n",
    "\n",
    "* Pasos del tiempo (timesteps): los valores discretos del tiempo en la simulación.\n",
    "* Resolución: número de valores en el espacio y/o el tiempo que ocupamos en la simulación.\n",
    "\n",
    "    * Una simulación con más puntos en el espacio (para el mismo tamaño total de la simulación) tiene mejor resolución espacial.\n",
    "    * Con más puntos en el tiempo (para el mismo intervalo total del tiempo) tiene más resolución temporal.\n"
   ]
  },
  {
   "cell_type": "markdown",
   "metadata": {
    "hideCode": false,
    "hidePrompt": false,
    "slideshow": {
     "slide_type": "slide"
    }
   },
   "source": [
    "Un ejemplo sería el *Juego de la vida*:\n",
    "\n",
    "![](clase1_imagenes/gameoflife.png)\n",
    "\n",
    "* El espacio está discretizado: las células tienen posiciones específicas.\n",
    "* El tiempo tembién está discretizado: cada paso de tiempo tenemos una nueva generación de células vivas.\n",
    "* También el \"universo\" o \"dominio\" de la simulación es finito."
   ]
  },
  {
   "cell_type": "markdown",
   "metadata": {
    "hideCode": false,
    "hidePrompt": false,
    "slideshow": {
     "slide_type": "slide"
    }
   },
   "source": [
    "## Un ejemplo de la física: un oscilador armónico simple\n",
    "\n",
    "Según la mecánica Newtoniana, la posición de una partícula en una dimensión está dada por $x(t)$, que satisface la Segunda Ley de Newton:\n",
    "\n",
    "$$m\\frac{d^2x}{dt^2} = F(x,t)$$\n",
    "\n",
    "donde $F(x,t)$ es la fuerza y $m$ es la masa. Podemos hacer una simulación del movimiento de la partícula (es decir, podemos resolver la ecuación diferencial numéricamente)."
   ]
  },
  {
   "cell_type": "markdown",
   "metadata": {
    "hideCode": false,
    "hidePrompt": false,
    "slideshow": {
     "slide_type": "fragment"
    }
   },
   "source": [
    "### Pero primero: ¿qué es una ecuación diferencial?"
   ]
  },
  {
   "cell_type": "markdown",
   "metadata": {
    "hideCode": false,
    "hidePrompt": false,
    "slideshow": {
     "slide_type": "slide"
    }
   },
   "source": [
    "Consideremos el caso de un oscilador ármonico simple:\n",
    "\n",
    "![](clase1_imagenes/harmonic.png)"
   ]
  },
  {
   "cell_type": "markdown",
   "metadata": {
    "hideCode": false,
    "hidePrompt": false,
    "slideshow": {
     "slide_type": "slide"
    }
   },
   "source": [
    "En este sistema, la fuerza es $F = -kx$. Por lo tanto la ecuación que tenemos que resolver es\n",
    "\n",
    "$$\\frac{d^2x}{dt^2} = -\\frac{k}{m}x$$\n",
    "\n",
    "Buscamos la posición como función del tiempo: $x(t)$."
   ]
  },
  {
   "cell_type": "markdown",
   "metadata": {
    "hideCode": false,
    "hidePrompt": false,
    "slideshow": {
     "slide_type": "slide"
    }
   },
   "source": [
    "En Python, hay una función del módulo *SciPy* que puede resolver ecuaciones diferenciales. \n",
    "\n",
    "Este funciona con ecuaciones diferenciales de *primer* orden, no de *segundo* orden (como lo que tenemos arriba). Pero es fácil convertir la ecuación en dos ecuaciones de primer orden:\n",
    "\n",
    "$$\\frac{dx}{dt} = v$$\n",
    "\n",
    "$$\\frac{dv}{dt} = -\\frac{k}{m}x$$\n",
    "\n",
    "Estas son las ecuaciones que vamos a resolver con Python."
   ]
  },
  {
   "cell_type": "code",
   "execution_count": 1,
   "metadata": {
    "hideCode": false,
    "hidePrompt": false,
    "slideshow": {
     "slide_type": "skip"
    }
   },
   "outputs": [],
   "source": [
    "from numpy import *\n",
    "from matplotlib.pyplot import *\n",
    "\n",
    "%matplotlib inline\n",
    "# Correct size for figures in slideshow\n",
    "rcParams[\"figure.figsize\"] = (5, 4)\n",
    "rcParams[\"figure.dpi\"] = 100"
   ]
  },
  {
   "cell_type": "code",
   "execution_count": 2,
   "metadata": {
    "hideCode": false,
    "hideOutput": false,
    "hidePrompt": false,
    "slideshow": {
     "slide_type": "slide"
    }
   },
   "outputs": [],
   "source": [
    "from scipy import integrate"
   ]
  },
  {
   "cell_type": "markdown",
   "metadata": {
    "hideCode": false,
    "hidePrompt": false,
    "slideshow": {
     "slide_type": "fragment"
    }
   },
   "source": [
    "Definimos los lados derechos de las ecuaciones arriba como una función de Python.\n",
    "\n",
    "El primer argumento a la función será una lista `Y` de dos elementos. El primer elemento `Y[0]` es un valor de $v$, y el segundo elemento `Y[1]` es un valor de $x$."
   ]
  },
  {
   "cell_type": "code",
   "execution_count": 3,
   "metadata": {
    "hideCode": false,
    "hidePrompt": false,
    "slideshow": {
     "slide_type": "fragment"
    }
   },
   "outputs": [],
   "source": [
    "def ecuaciones(Y, t, k, m):\n",
    "    x, v = Y\n",
    "    return [v, -(k/m)*x]"
   ]
  },
  {
   "cell_type": "markdown",
   "metadata": {
    "hideCode": false,
    "hidePrompt": false,
    "slideshow": {
     "slide_type": "slide"
    }
   },
   "source": [
    "Ahora vamos a elegir los momentos en tiempo que queremos calcular. Creamos un arreglo de valores en el tiempo con el uso de `linspace`."
   ]
  },
  {
   "cell_type": "code",
   "execution_count": 4,
   "metadata": {
    "hideCode": false,
    "hidePrompt": false,
    "slideshow": {
     "slide_type": "fragment"
    }
   },
   "outputs": [],
   "source": [
    "tiempo = linspace(0,25,100)"
   ]
  },
  {
   "cell_type": "markdown",
   "metadata": {
    "hideCode": false,
    "hidePrompt": false,
    "slideshow": {
     "slide_type": "slide"
    }
   },
   "source": [
    "Definimos el valor de $k$, la constante del resorte, y la masa $m$. También necesitamos las *condiciones iniciales*: los valores de $x$ y $v$ en el momento $t=0$.\n",
    "\n",
    "Las unidades de $k$ son kg m/s$^2$. Entonces, si la masa está en kg, las posiciones están en metros, y tiempo está en segundos."
   ]
  },
  {
   "cell_type": "code",
   "execution_count": 5,
   "metadata": {
    "hideCode": false,
    "hidePrompt": false,
    "slideshow": {
     "slide_type": "fragment"
    }
   },
   "outputs": [],
   "source": [
    "k = 1.0\n",
    "m = 1.0\n",
    "x0 = 0.0\n",
    "v0 = 1.0"
   ]
  },
  {
   "cell_type": "markdown",
   "metadata": {
    "hideCode": false,
    "hidePrompt": false,
    "slideshow": {
     "slide_type": "slide"
    }
   },
   "source": [
    "Para resolver las ecuaciones (es decir, integrarlas) vamos a ocupar la función `odeint` del submódulo `integrate` de *SciPy*."
   ]
  },
  {
   "cell_type": "code",
   "execution_count": 6,
   "metadata": {
    "hideCode": false,
    "hidePrompt": false,
    "slideshow": {
     "slide_type": "fragment"
    }
   },
   "outputs": [],
   "source": [
    "solucion = integrate.odeint(ecuaciones, [x0, v0], tiempo, args=(k,m))"
   ]
  },
  {
   "cell_type": "code",
   "execution_count": 7,
   "metadata": {
    "hideCode": false,
    "hidePrompt": false,
    "slideshow": {
     "slide_type": "fragment"
    }
   },
   "outputs": [
    {
     "data": {
      "text/plain": [
       "(100, 2)"
      ]
     },
     "execution_count": 7,
     "metadata": {},
     "output_type": "execute_result"
    }
   ],
   "source": [
    "solucion.shape"
   ]
  },
  {
   "cell_type": "markdown",
   "metadata": {
    "hideCode": false,
    "hidePrompt": false,
    "slideshow": {
     "slide_type": "slide"
    }
   },
   "source": [
    "Tenemos una solución numérica a la ecuación diferencial que describe el sistema. Los valores en la primera columna del arreglo `solucion` son los valores de $x(t)$ y la segunda columna es $v(t)$.\n",
    "\n",
    "Hacemos un gráfico de la posición de la masa en tiempo."
   ]
  },
  {
   "cell_type": "code",
   "execution_count": 8,
   "metadata": {
    "hideCode": false,
    "hidePrompt": false,
    "slideshow": {
     "slide_type": "fragment"
    }
   },
   "outputs": [
    {
     "data": {
      "image/png": "[encoded data removed]",
      "text/plain": [
       "<Figure size 600x500 with 1 Axes>"
      ]
     },
     "metadata": {},
     "output_type": "display_data"
    }
   ],
   "source": [
    "plot(tiempo,solucion[:,0], marker='.')\n",
    "xlabel(\"Tiempo [s]\")\n",
    "ylabel(\"Posición [m]\")\n",
    "show()"
   ]
  },
  {
   "cell_type": "markdown",
   "metadata": {
    "hideCode": false,
    "hidePrompt": false,
    "slideshow": {
     "slide_type": "slide"
    }
   },
   "source": [
    "Ahora hacemos un gráfico de la velocidad de la masa en tiempo."
   ]
  },
  {
   "cell_type": "code",
   "execution_count": 9,
   "metadata": {
    "hideCode": false,
    "hidePrompt": false,
    "slideshow": {
     "slide_type": "fragment"
    }
   },
   "outputs": [
    {
     "data": {
      "image/png": "[encoded data removed]",
      "text/plain": [
       "<Figure size 600x500 with 1 Axes>"
      ]
     },
     "metadata": {},
     "output_type": "display_data"
    }
   ],
   "source": [
    "plot(tiempo,solucion[:,1], marker='.')\n",
    "xlabel(\"Tiempo [s]\")\n",
    "ylabel(\"Velocidad [m/s]\")\n",
    "show()"
   ]
  },
  {
   "cell_type": "markdown",
   "metadata": {
    "hideCode": false,
    "hidePrompt": false,
    "slideshow": {
     "slide_type": "slide"
    }
   },
   "source": [
    "Este es una simulación computacional! Tenemos una solución a las ecuaciones del sistema que hemos obtenido en forma *numérica* (y no analítica).\n",
    "\n",
    "De hecho, podemos resolver la ecuación diferencial analíticamente. Podemos ver la solución utilizando otro módulo de Python, *Sympy*.\n",
    "\n",
    "Podemos escribir la ecuación diferencial en otra forma:\n",
    "\n",
    "$$m\\frac{d^2x}{dt^2} = -kx$$\n",
    "\n",
    "$$\\rightarrow \\quad \\ddot{x} + \\omega_0^2 x = 0$$\n",
    "\n",
    "donde $\\omega_0^2 = k/m$"
   ]
  },
  {
   "cell_type": "code",
   "execution_count": 10,
   "metadata": {
    "hideCode": false,
    "hidePrompt": false,
    "slideshow": {
     "slide_type": "slide"
    }
   },
   "outputs": [],
   "source": [
    "# Ahora usamos Sympy para determinar la solución en una manera *analítica*\n",
    "\n",
    "import sympy\n",
    "sympy.init_printing()"
   ]
  },
  {
   "cell_type": "markdown",
   "metadata": {
    "hideCode": false,
    "hidePrompt": false,
    "slideshow": {
     "slide_type": "slide"
    }
   },
   "source": [
    "Vamos a simplificar la ecuación un poco. Elegimos $k = 1$ y $m = 1$ para eliminar estas variables."
   ]
  },
  {
   "cell_type": "code",
   "execution_count": 11,
   "metadata": {
    "hideCode": false,
    "hidePrompt": false,
    "slideshow": {
     "slide_type": "slide"
    }
   },
   "outputs": [],
   "source": [
    "t = sympy.symbols('t')\n",
    "x = sympy.Function('x')"
   ]
  },
  {
   "cell_type": "code",
   "execution_count": 12,
   "metadata": {
    "hideCode": false,
    "hidePrompt": false,
    "slideshow": {
     "slide_type": "slide"
    }
   },
   "outputs": [
    {
     "data": {
      "text/plain": [
       "x(t) = C₁⋅sin(t) + C₂⋅cos(t)"
      ]
     },
     "execution_count": 12,
     "metadata": {},
     "output_type": "execute_result"
    }
   ],
   "source": [
    "sol = sympy.dsolve(sympy.Derivative(x(t), t, 2) + x(t))\n",
    "sol"
   ]
  },
  {
   "cell_type": "markdown",
   "metadata": {
    "hideCode": false,
    "hidePrompt": false,
    "slideshow": {
     "slide_type": "slide"
    }
   },
   "source": [
    "Esta es la solución general a la ecuación differential de segundo orden (con $\\omega_0^2 = 1$). Se puede determinar las constantes $C_1$ y $C_2$ por las condiciones iniciales:\n",
    "\n",
    "$$x(0) = 0, \\quad v(0) = 1$$\n",
    "\n",
    "La velocidad es la derivada del lado derecho arriba con respecto al tiempo:"
   ]
  },
  {
   "cell_type": "code",
   "execution_count": 13,
   "metadata": {
    "hideCode": false,
    "hidePrompt": false,
    "slideshow": {
     "slide_type": "fragment"
    }
   },
   "outputs": [
    {
     "data": {
      "text/plain": [
       "C₁⋅cos(t) - C₂⋅sin(t)"
      ]
     },
     "execution_count": 13,
     "metadata": {},
     "output_type": "execute_result"
    }
   ],
   "source": [
    "sympy.diff(sol.rhs, t)"
   ]
  },
  {
   "cell_type": "markdown",
   "metadata": {
    "hideCode": false,
    "hidePrompt": false,
    "slideshow": {
     "slide_type": "slide"
    }
   },
   "source": [
    "$$v(t) = C_1 \\cos(t) - C_2 \\sin(t)$$"
   ]
  },
  {
   "cell_type": "markdown",
   "metadata": {
    "hideCode": false,
    "hidePrompt": false,
    "slideshow": {
     "slide_type": "slide"
    }
   },
   "source": [
    "Entonces,\n",
    "\n",
    "$$x(0) = C_2 = 0$$\n",
    "\n",
    "$$v(0) = C_1 = 1$$"
   ]
  },
  {
   "cell_type": "markdown",
   "metadata": {
    "hideCode": false,
    "hidePrompt": false,
    "slideshow": {
     "slide_type": "slide"
    }
   },
   "source": [
    "La posición como función del tiempo es\n",
    "\n",
    "$$x(t) = \\sin(t)$$\n",
    "\n",
    "y la velocidad es\n",
    "\n",
    "$$v(t) = \\cos(t)$$\n",
    "\n",
    "Podemos comprobar nuestro resultado numérico con el resultado analítico."
   ]
  },
  {
   "cell_type": "code",
   "execution_count": 14,
   "metadata": {
    "hideCode": false,
    "hidePrompt": false,
    "slideshow": {
     "slide_type": "slide"
    }
   },
   "outputs": [
    {
     "data": {
      "image/png": "[encoded data removed]",
      "text/plain": [
       "<Figure size 600x500 with 1 Axes>"
      ]
     },
     "metadata": {},
     "output_type": "display_data"
    }
   ],
   "source": [
    "plot(tiempo,sin(tiempo), 'o', c='r' )\n",
    "plot(tiempo,solucion[:,0], marker='.', linewidth=0.7, c='b')\n",
    "xlabel(\"Tiempo [s]\")\n",
    "ylabel(\"Posición [m]\")\n",
    "show()"
   ]
  },
  {
   "cell_type": "code",
   "execution_count": 15,
   "metadata": {
    "hideCode": false,
    "hidePrompt": false,
    "slideshow": {
     "slide_type": "slide"
    }
   },
   "outputs": [
    {
     "data": {
      "image/png": "[encoded data removed]",
      "text/plain": [
       "<Figure size 600x500 with 1 Axes>"
      ]
     },
     "metadata": {},
     "output_type": "display_data"
    }
   ],
   "source": [
    "plot(tiempo,cos(tiempo), 'o', c='r' )\n",
    "plot(tiempo,solucion[:,1], marker='.', linewidth=0.7, c='b')\n",
    "xlabel(\"Tiempo [s]\")\n",
    "ylabel(\"Velocidad [m]\")\n",
    "show()"
   ]
  },
  {
   "cell_type": "markdown",
   "metadata": {
    "hideCode": false,
    "hidePrompt": false,
    "slideshow": {
     "slide_type": "slide"
    }
   },
   "source": [
    "### Otro método: diferencias finitas\n",
    "\n",
    "Ahora vamos a ver un método muy útil que se puede aplicar a *cualquier* ecaución diferencial. El método se llama **diferencias finitas**.\n",
    "\n",
    "Este método está ocupado en simulaciones de la relatividad general, simulaciones cosmológicas, del clima, etc."
   ]
  },
  {
   "cell_type": "markdown",
   "metadata": {
    "hideCode": false,
    "hidePrompt": false,
    "slideshow": {
     "slide_type": "slide"
    }
   },
   "source": [
    "Consideremos la definición fundamental de una derivada:\n",
    "\n",
    "$$\\frac{dx}{dt} = \\lim_{h \\to 0} \\left(\\frac{x(t+h) - x(t)}{h}\\right)$$"
   ]
  },
  {
   "cell_type": "markdown",
   "metadata": {
    "hideCode": false,
    "hidePrompt": false,
    "slideshow": {
     "slide_type": "slide"
    }
   },
   "source": [
    "Podemos aproximar la derivada numéricamente usando un valor muy pequeño (pero no nulo) del parámetro $h$:\n",
    "\n",
    "$$\\frac{dx}{dt} \\approx \\left(\\frac{x(t+h) - x(t)}{h}\\right)$$"
   ]
  },
  {
   "cell_type": "markdown",
   "metadata": {
    "hideCode": false,
    "hidePrompt": false,
    "slideshow": {
     "slide_type": "slide"
    }
   },
   "source": [
    "El valor $h$ es la *resolución* de la malla computacional en el tiempo:\n",
    "\n",
    "| ![](clase1_imagenes/finite_diff.png) |\n",
    "|------------------------------------|\n",
    "| Discretización del tiempo        |"
   ]
  },
  {
   "cell_type": "markdown",
   "metadata": {
    "hideCode": false,
    "hidePrompt": false,
    "slideshow": {
     "slide_type": "slide"
    }
   },
   "source": [
    "Podríamos aplicar exactamente el mismo método a una derivada espacial, por ejemplo $\\frac{dy}{dx}$. Eso correspondería a una discretización del espacio.\n",
    "\n",
    "Entonces, evaluamos la derivada usando solamente los puntos $x(t_i)$, que están separados por una distancia $h$.\n",
    "\n",
    "Podemos escribir estos puntos así:\n",
    "\n",
    "$$x_i = x(t_i)$$\n",
    "\n",
    "Entonces tenemos $x(t_i + h) = x_{i+1}$.\n",
    "\n",
    "Por lo tanto, la aproximación de la derivada, en el punto $t_i$ se puede escribir como\n",
    "\n",
    "$$\\frac{dx}{dt}(t_i) = \\frac{x_{i+1} - x_i}{h}$$\n",
    "\n",
    "Esta aproximación se llama una diferencia **adelantada**, porque depende del valor de $x$ en el momento $t_i$ y en el siguiente momento $t_{i+1}$."
   ]
  },
  {
   "cell_type": "markdown",
   "metadata": {
    "hideCode": false,
    "hidePrompt": false,
    "slideshow": {
     "slide_type": "slide"
    }
   },
   "source": [
    "##### Las ecuaciones del oscilador armónico simple de nuevo\n",
    "\n",
    "Volvemos a las ecuaciones (de primer orden) para el oscilador armónico simple:\n",
    "\n",
    "$$\\frac{dx}{dt} = v$$\n",
    "\n",
    "$$\\frac{dv}{dt} = -\\frac{k}{m}x$$"
   ]
  },
  {
   "cell_type": "markdown",
   "metadata": {
    "hideCode": false,
    "hidePrompt": false,
    "slideshow": {
     "slide_type": "slide"
    }
   },
   "source": [
    "Usando el método de diferencias finitas, podemos aproximar estas ecuaciones con:\n",
    "\n",
    "$$\\frac{dx}{dt}(t_i) = v_i = \\frac{x_{i+1} - x_i}{h}$$\n",
    "\n",
    "$$\\frac{dv}{dt}(t_i) = \\frac{v_{i+1} - v_i}{h} = -\\frac{k}{m}x_i$$"
   ]
  },
  {
   "cell_type": "markdown",
   "metadata": {
    "hideCode": false,
    "hidePrompt": false,
    "slideshow": {
     "slide_type": "slide"
    }
   },
   "source": [
    "Lo que tenemos ahora es un par de *relaciones de recurrencia*:\n",
    "\n",
    "$$x_{i+1} = hv_i + x_i$$\n",
    "\n",
    "$$v_{i+1} = -\\frac{k}{m}hx_i + v_i$$"
   ]
  },
  {
   "cell_type": "markdown",
   "metadata": {
    "hideCode": false,
    "hidePrompt": false,
    "slideshow": {
     "slide_type": "slide"
    }
   },
   "source": [
    "Las condiciones iniciales definen los valores de $x_0$ y $v_0$. Entonces, podemos calcular $x_1$ y $v_1$ (sus valores en el próximo *paso de tiempo*) con:\n",
    "\n",
    "$$x_1 = hv_0 + x_0$$\n",
    "\n",
    "$$v_1 = -\\frac{k}{m}hx_0 + v_0$$\n",
    "\n",
    "Después de este cálculo, podemos obtener los valores de $x$ y $v$ en el próximo paso del tiempo con\n",
    "\n",
    "$$x_2 = hv_1 + x_1$$\n",
    "\n",
    "$$v_2 = -\\frac{k}{m}hx_1 + v_1$$\n",
    "\n",
    "Y así sigue..."
   ]
  },
  {
   "cell_type": "markdown",
   "metadata": {
    "hideCode": false,
    "hidePrompt": false,
    "slideshow": {
     "slide_type": "slide"
    }
   },
   "source": [
    "Ahora vamos a escribir un programa de Python para calcular estos valores!\n",
    "\n",
    "Primero, tenemos que decidir en los valores de algunos parámetros:\n",
    "\n",
    "* Tiempo total de la simulación. Vamos a elegir el mismo tiempo total como antes: 25 segundos.\n",
    "* Tamaño del salto del tiempo (valor de $h$): si este valor es demasiado grande la aproximación a la derivada es muy imprecisa. Si el valor es muy pequeño la simulación demorará mucho tiempo y/o ocupará mucha memoria."
   ]
  },
  {
   "cell_type": "code",
   "execution_count": 16,
   "metadata": {
    "hideCode": false,
    "hidePrompt": false,
    "slideshow": {
     "slide_type": "fragment"
    }
   },
   "outputs": [],
   "source": [
    "tiempo_total = 25.0\n",
    "h = 0.1"
   ]
  },
  {
   "cell_type": "markdown",
   "metadata": {
    "hideCode": false,
    "hidePrompt": false,
    "slideshow": {
     "slide_type": "slide"
    }
   },
   "source": [
    "El número de pasos total de la simulación será el tiempo total dividido por el intervalo de cada paso. \n",
    "\n",
    "Hacemos una conversión de un número real a un número entero, porque usaremos este valor para especificar el número de elementos que queremos en los arreglos que guardan los valores de $x$, $v$."
   ]
  },
  {
   "cell_type": "code",
   "execution_count": 17,
   "metadata": {
    "hideCode": false,
    "hidePrompt": false,
    "slideshow": {
     "slide_type": "fragment"
    }
   },
   "outputs": [],
   "source": [
    "pasos_del_tiempo = int(tiempo_total/h)"
   ]
  },
  {
   "cell_type": "code",
   "execution_count": 18,
   "metadata": {
    "hideCode": false,
    "hidePrompt": false,
    "slideshow": {
     "slide_type": "fragment"
    }
   },
   "outputs": [],
   "source": [
    "x = zeros(pasos_del_tiempo)\n",
    "v = zeros(pasos_del_tiempo)"
   ]
  },
  {
   "cell_type": "markdown",
   "metadata": {
    "hideCode": false,
    "hidePrompt": false,
    "slideshow": {
     "slide_type": "slide"
    }
   },
   "source": [
    "Asignamos valores a los parámetros $k$ y $m$ como antes:"
   ]
  },
  {
   "cell_type": "code",
   "execution_count": 19,
   "metadata": {
    "hideCode": false,
    "hidePrompt": false,
    "slideshow": {
     "slide_type": "fragment"
    }
   },
   "outputs": [],
   "source": [
    "k = 1.0\n",
    "m = 1.0"
   ]
  },
  {
   "cell_type": "markdown",
   "metadata": {
    "hideCode": false,
    "hidePrompt": false,
    "slideshow": {
     "slide_type": "slide"
    }
   },
   "source": [
    "Por las condiciones iniciales del problema, ya sabemos los valores del primer elemento de cada arreglo:"
   ]
  },
  {
   "cell_type": "code",
   "execution_count": 20,
   "metadata": {
    "hideCode": false,
    "hidePrompt": false,
    "slideshow": {
     "slide_type": "fragment"
    }
   },
   "outputs": [],
   "source": [
    "x[0] = 0.0\n",
    "v[0] = 1.0"
   ]
  },
  {
   "cell_type": "markdown",
   "metadata": {
    "hideCode": false,
    "hidePrompt": false,
    "slideshow": {
     "slide_type": "slide"
    }
   },
   "source": [
    "Ahora tenemos un ciclo *for* para tener una iteración sobre todos los pasos del tiempo. Usamos una variable $i$ en el ciclo. Esta variable será el índice para los arreglos `x` y `v`.\n",
    "\n",
    "Necesitamos que $i$ tome valores entre $1$ y el número total de pasos del tiempo.\n",
    "\n",
    "El ciclo comienza en $i=1$, porque ya tenemos los valores para $i=0$ (las condiciones iniciales).\n",
    "\n",
    "En cada iteración calculamos los nuevos valores de $x$ y $v$ en el momento $t = t_i$."
   ]
  },
  {
   "cell_type": "code",
   "execution_count": 21,
   "metadata": {
    "hideCode": false,
    "hidePrompt": false,
    "slideshow": {
     "slide_type": "fragment"
    }
   },
   "outputs": [],
   "source": [
    "for i in range(1,pasos_del_tiempo):\n",
    "    x[i] = h*v[i-1] + x[i-1]\n",
    "    v[i] = -(k/m)*h*x[i-1] + v[i-1]"
   ]
  },
  {
   "cell_type": "markdown",
   "metadata": {
    "hideCode": false,
    "hidePrompt": false,
    "slideshow": {
     "slide_type": "slide"
    }
   },
   "source": [
    "Para hacer los gráficos, necesitamos los valores del tiempo que hemos usado. Hay una función en NumPy, `arange`, que crea un arreglo de números enteros hasta un máximo.\n",
    "\n",
    "Si tenemos un arreglo de números enteros que representan los pasos del tiempo, podemos multiplicarlo por $h$ para tener los valores de $t$ en cada momento."
   ]
  },
  {
   "cell_type": "code",
   "execution_count": 22,
   "metadata": {
    "hideCode": false,
    "hidePrompt": false,
    "slideshow": {
     "slide_type": "fragment"
    }
   },
   "outputs": [],
   "source": [
    "tiempo = arange(pasos_del_tiempo)*h"
   ]
  },
  {
   "cell_type": "code",
   "execution_count": 23,
   "metadata": {
    "hideCode": false,
    "hidePrompt": false,
    "slideshow": {
     "slide_type": "slide"
    }
   },
   "outputs": [
    {
     "data": {
      "text/plain": [
       "[<matplotlib.lines.Line2D at 0x13fbd9be0>]"
      ]
     },
     "execution_count": 23,
     "metadata": {},
     "output_type": "execute_result"
    },
    {
     "data": {
      "image/png": "[encoded data removed]",
      "text/plain": [
       "<Figure size 600x500 with 1 Axes>"
      ]
     },
     "metadata": {},
     "output_type": "display_data"
    }
   ],
   "source": [
    "plot(tiempo,x)"
   ]
  },
  {
   "cell_type": "markdown",
   "metadata": {
    "hideCode": false,
    "hidePrompt": false,
    "slideshow": {
     "slide_type": "slide"
    }
   },
   "source": [
    "Las oscilaciones crecen! Pero sabemos de la solución analítica (la solución exacta) que deberíamos tener la función $\\sin(t)$ como solución.\n",
    "\n",
    "¿Qué pasó?\n",
    "\n",
    "Hay que acordar que estamos aproximando las derivadas con diferencias finitas. Podemos mejorar la aproximación con un valor más pequeño de $h$.\n",
    "\n",
    "Si vamos a cambiar parámetros y ejecutar el mismo código de nuevo, sería mejor definir una función:"
   ]
  },
  {
   "cell_type": "code",
   "execution_count": 24,
   "metadata": {
    "hideCode": false,
    "hidePrompt": false,
    "slideshow": {
     "slide_type": "slide"
    }
   },
   "outputs": [],
   "source": [
    "def dif_finita_OAS(tiempo_total,h,k,m,x0,v0):\n",
    "\n",
    "    pasos_del_tiempo = int(tiempo_total/h)\n",
    "\n",
    "    x = zeros(pasos_del_tiempo)\n",
    "    v = zeros(pasos_del_tiempo)\n",
    "\n",
    "    x[0] = x0\n",
    "    v[0] = v0\n",
    "\n",
    "    for i in range(1,pasos_del_tiempo):\n",
    "        x[i] = h*v[i-1] + x[i-1]\n",
    "        v[i] = -(k/m)*h*x[i-1] + v[i-1]\n",
    "    \n",
    "    tiempo = arange(pasos_del_tiempo)*h\n",
    "    return( tiempo, x, v )"
   ]
  },
  {
   "cell_type": "code",
   "execution_count": 25,
   "metadata": {
    "hideCode": false,
    "hidePrompt": false,
    "slideshow": {
     "slide_type": "slide"
    }
   },
   "outputs": [],
   "source": [
    "t, x, v = dif_finita_OAS(25.0, h=0.1, k=1.0, m=1.0, x0=0.0, v0=1.0)"
   ]
  },
  {
   "cell_type": "code",
   "execution_count": 26,
   "metadata": {
    "hideCode": false,
    "hidePrompt": false,
    "slideshow": {
     "slide_type": "slide"
    }
   },
   "outputs": [
    {
     "data": {
      "text/plain": [
       "[<matplotlib.lines.Line2D at 0x13fc5ba30>]"
      ]
     },
     "execution_count": 26,
     "metadata": {},
     "output_type": "execute_result"
    },
    {
     "data": {
      "image/png": "[encoded data removed]",
      "text/plain": [
       "<Figure size 600x500 with 1 Axes>"
      ]
     },
     "metadata": {},
     "output_type": "display_data"
    }
   ],
   "source": [
    "plot(t,x)"
   ]
  },
  {
   "cell_type": "code",
   "execution_count": 27,
   "metadata": {
    "hideCode": false,
    "hidePrompt": false,
    "slideshow": {
     "slide_type": "slide"
    }
   },
   "outputs": [],
   "source": [
    "t, x, v = dif_finita_OAS(25.0, h=0.01, k=1.0, m=1.0, x0=0.0, v0=1.0)"
   ]
  },
  {
   "cell_type": "code",
   "execution_count": 28,
   "metadata": {
    "hideCode": false,
    "hidePrompt": false,
    "slideshow": {
     "slide_type": "slide"
    }
   },
   "outputs": [
    {
     "data": {
      "text/plain": [
       "[<matplotlib.lines.Line2D at 0x13fb05130>]"
      ]
     },
     "execution_count": 28,
     "metadata": {},
     "output_type": "execute_result"
    },
    {
     "data": {
      "image/png": "[encoded data removed]",
      "text/plain": [
       "<Figure size 600x500 with 1 Axes>"
      ]
     },
     "metadata": {},
     "output_type": "display_data"
    }
   ],
   "source": [
    "plot(t,x)"
   ]
  },
  {
   "cell_type": "markdown",
   "metadata": {
    "hideCode": false,
    "hidePrompt": false,
    "slideshow": {
     "slide_type": "slide"
    }
   },
   "source": [
    "Este es mejor, pero todavía hay un crecimiento de la amplitud. De hecho, la aproximación que hemos usado para la derivada es bastante mala, y nunca tendremos una solución muy precisa.\n",
    "\n",
    "Pero hay un número infinito de posibles aproximaciones a una derivada con diferencias finitas! Hemos elegido la más simple, pero la menos precisa."
   ]
  },
  {
   "cell_type": "markdown",
   "metadata": {
    "hideCode": false,
    "hidePrompt": false,
    "slideshow": {
     "slide_type": "slide"
    }
   },
   "source": [
    "#### Diferencias finitas: una mejor aproximación\n",
    "\n",
    "La aproximación de diferencias finitas que usabamos es:\n",
    "\n",
    "$$\\left(\\frac{dx}{dt}\\right)_f \\approx \\frac{x(t+h) - x(t)}{h}$$"
   ]
  },
  {
   "cell_type": "markdown",
   "metadata": {
    "hideCode": false,
    "hidePrompt": false,
    "slideshow": {
     "slide_type": "slide"
    }
   },
   "source": [
    "Podemos usar una expresión similar en el caso de considerar un punto en la otra dirección simplemente por reemplazar $h$ con $-h$:\n",
    "\n",
    "$$\\left(\\frac{dx}{dt}\\right)_b \\approx \\frac{x(t-h) - x(t)}{-h} = \\frac{x(t) - x(t-h)}{h}$$"
   ]
  },
  {
   "cell_type": "markdown",
   "metadata": {
    "hideCode": false,
    "hidePrompt": false,
    "slideshow": {
     "slide_type": "slide"
    }
   },
   "source": [
    "Usamos el valor promedio de estas dos aproximaciones:\n",
    "\n",
    "$$\\frac{1}{2}\\left(\\frac{dx}{dt}\\right)_f + \\frac{1}{2}\\left(\\frac{dx}{dt}\\right)_b = \\frac{x(t+h) - x(t-h)}{2h}$$"
   ]
  },
  {
   "cell_type": "markdown",
   "metadata": {
    "hideCode": false,
    "hidePrompt": false,
    "slideshow": {
     "slide_type": "slide"
    }
   },
   "source": [
    "Esta aproximación se llama la *diferencia centrada*. Ahora podemos usar esta aproximación en el programa.\n",
    "\n",
    "$$\\frac{dx}{dt} = \\frac{x_{i+1} - x_{i-1}}{2h} = v_i$$\n",
    "\n",
    "$$\\frac{dv}{dt} = \\frac{v_{i+1} - v_{i-1}}{2h} = -\\frac{k}{m}x_i$$"
   ]
  },
  {
   "cell_type": "markdown",
   "metadata": {
    "hideCode": false,
    "hidePrompt": false,
    "slideshow": {
     "slide_type": "slide"
    }
   },
   "source": [
    "Reorganizando estas ecuaciones, tenemos:\n",
    "\n",
    "$$x_{i+1} = 2hv_i + x_{i-1}$$\n",
    "\n",
    "$$v_{i+1} = -2h\\frac{k}{m}x_i + v_{i-1}$$"
   ]
  },
  {
   "cell_type": "markdown",
   "metadata": {
    "hideCode": false,
    "hidePrompt": false,
    "slideshow": {
     "slide_type": "slide"
    }
   },
   "source": [
    "Ahora tenemos un problema: para calcular $x_1$ y $v_1$ parece que necesitamos los valores $x_{-1}$ y $v_{-1}$, que no existen!\n",
    "\n",
    "Por eso, usamos de nuevo la aproximación anterior para calcular los valores de $x_1$ y $v_1$:\n",
    "\n",
    "$$x_1 = hv_0 + x_0$$\n",
    "\n",
    "$$v_1 = -\\frac{k}{m}hx_0 + v_0$$"
   ]
  },
  {
   "cell_type": "markdown",
   "metadata": {
    "hideCode": false,
    "hidePrompt": false,
    "slideshow": {
     "slide_type": "slide"
    }
   },
   "source": [
    "Después de eso, podemos calcular $x_2$ y $v_2$ con la nueva aproximación:\n",
    "\n",
    "$$x_{2} = 2hv_1 + x_{0}$$\n",
    "\n",
    "$$v_{2} = -2h\\frac{k}{m}x_1 + v_{0}$$\n",
    "\n",
    "y los valores de $x_3$ y $v_3$:\n",
    "\n",
    "$$x_{3} = 2hv_2 + x_{1}$$\n",
    "\n",
    "$$v_{3} = -2h\\frac{k}{m}x_2 + v_{1}$$\n",
    "\n",
    "y sigue así...\n",
    "\n",
    "Podemos cambiar los índices en las relaciones de recurrencia para tener algo más parecido al programa que escribiremos:\n",
    "\n",
    "$$x_{i} = 2hv_{i-1} + x_{i-2}$$\n",
    "\n",
    "$$v_{i} = -2h\\frac{k}{m}x_{i-1} + v_{i-2}$$"
   ]
  },
  {
   "cell_type": "markdown",
   "metadata": {
    "hideCode": false,
    "hidePrompt": false,
    "slideshow": {
     "slide_type": "slide"
    }
   },
   "source": [
    "Definimos otra función:"
   ]
  },
  {
   "cell_type": "code",
   "execution_count": 29,
   "metadata": {
    "hideCode": false,
    "hidePrompt": false,
    "slideshow": {
     "slide_type": "fragment"
    }
   },
   "outputs": [],
   "source": [
    "def dif_finita_OAS_2(tiempo_total,h,k,m,x0,v0):\n",
    "\n",
    "    pasos_del_tiempo = int(tiempo_total/h)\n",
    "\n",
    "    x = zeros(pasos_del_tiempo)\n",
    "    v = zeros(pasos_del_tiempo)\n",
    "\n",
    "    x[0] = x0\n",
    "    v[0] = v0\n",
    "\n",
    "    ## Calculamos los valores de x_1, v_1 con la\n",
    "    ## aproximación que vimos antes\n",
    "    x[1] = h*v[0] + x[0]\n",
    "    v[1] = -(k/m)*h*x[0] + v[0]\n",
    "    \n",
    "    ## El ciclo comienza en 2 ahora!\n",
    "    for i in range(2,pasos_del_tiempo):\n",
    "        x[i] = 2*h*v[i-1] + x[i-2]\n",
    "        v[i] = -(k/m)*2*h*x[i-1] + v[i-2]\n",
    "    \n",
    "    tiempo = arange(pasos_del_tiempo)*h\n",
    "    return( tiempo, x, v )"
   ]
  },
  {
   "cell_type": "markdown",
   "metadata": {
    "hideCode": false,
    "hidePrompt": false,
    "slideshow": {
     "slide_type": "slide"
    }
   },
   "source": [
    "Vamos a probar esta versión del programa con el valor original de $h$, $h = 0.1$:"
   ]
  },
  {
   "cell_type": "code",
   "execution_count": 30,
   "metadata": {
    "hideCode": false,
    "hidePrompt": false,
    "slideshow": {
     "slide_type": "fragment"
    }
   },
   "outputs": [],
   "source": [
    "t2, x2, v2 = dif_finita_OAS_2(25.0,h=0.1,k=1.0,m=1.0,x0=0.0,v0=1.0)"
   ]
  },
  {
   "cell_type": "code",
   "execution_count": 31,
   "metadata": {
    "hideCode": false,
    "hidePrompt": false,
    "slideshow": {
     "slide_type": "fragment"
    }
   },
   "outputs": [
    {
     "data": {
      "text/plain": [
       "[<matplotlib.lines.Line2D at 0x13fb371c0>]"
      ]
     },
     "execution_count": 31,
     "metadata": {},
     "output_type": "execute_result"
    },
    {
     "data": {
      "image/png": "[encoded data removed]",
      "text/plain": [
       "<Figure size 600x500 with 1 Axes>"
      ]
     },
     "metadata": {},
     "output_type": "display_data"
    }
   ],
   "source": [
    "plot(t2,x2)"
   ]
  },
  {
   "cell_type": "code",
   "execution_count": 32,
   "metadata": {
    "hideCode": false,
    "hidePrompt": false,
    "slideshow": {
     "slide_type": "slide"
    }
   },
   "outputs": [],
   "source": [
    "t, x, v = dif_finita_OAS(25.0,h=0.1,k=1.0,m=1.0,x0=0.0,v0=1.0)"
   ]
  },
  {
   "cell_type": "code",
   "execution_count": 33,
   "metadata": {
    "hideCode": false,
    "hidePrompt": false,
    "slideshow": {
     "slide_type": "fragment"
    }
   },
   "outputs": [
    {
     "data": {
      "text/plain": [
       "[<matplotlib.lines.Line2D at 0x13fccbf40>]"
      ]
     },
     "execution_count": 33,
     "metadata": {},
     "output_type": "execute_result"
    },
    {
     "data": {
      "image/png": "[encoded data removed]",
      "text/plain": [
       "<Figure size 600x500 with 1 Axes>"
      ]
     },
     "metadata": {},
     "output_type": "display_data"
    }
   ],
   "source": [
    "plot(t,x)\n",
    "plot(t2,x2)"
   ]
  },
  {
   "cell_type": "markdown",
   "metadata": {
    "hideCode": false,
    "hidePrompt": false,
    "slideshow": {
     "slide_type": "slide"
    }
   },
   "source": [
    "### Ejemplos del método de diferencias finítas: péndulos"
   ]
  },
  {
   "cell_type": "code",
   "execution_count": 34,
   "metadata": {
    "slideshow": {
     "slide_type": "slide"
    },
    "tags": [
     "to_remove"
    ]
   },
   "outputs": [
    {
     "data": {
      "text/html": [
       "<div align=\"middle\">\n",
       "<video width=\"100%\" controls>\n",
       "      <source src=\"clase1_imagenes/single_pendulum.mp4\" type=\"video/mp4\">\n",
       "</video></div>\n"
      ],
      "text/plain": [
       "<IPython.core.display.HTML object>"
      ]
     },
     "metadata": {},
     "output_type": "display_data"
    }
   ],
   "source": [
    "%%HTML\n",
    "<div align=\"middle\">\n",
    "<video width=\"100%\" controls>\n",
    "      <source src=\"clase1_imagenes/single_pendulum.mp4\" type=\"video/mp4\">\n",
    "</video></div>"
   ]
  },
  {
   "cell_type": "code",
   "execution_count": 35,
   "metadata": {
    "slideshow": {
     "slide_type": "slide"
    },
    "tags": [
     "to_remove"
    ]
   },
   "outputs": [
    {
     "data": {
      "text/html": [
       "<div align=\"middle\">\n",
       "<video width=\"100%\" controls>\n",
       "      <source src=\"clase1_imagenes/simple_pendulum_error.mp4\" type=\"video/mp4\">\n",
       "</video></div>\n"
      ],
      "text/plain": [
       "<IPython.core.display.HTML object>"
      ]
     },
     "metadata": {},
     "output_type": "display_data"
    }
   ],
   "source": [
    "%%HTML\n",
    "<div align=\"middle\">\n",
    "<video width=\"100%\" controls>\n",
    "      <source src=\"clase1_imagenes/simple_pendulum_error.mp4\" type=\"video/mp4\">\n",
    "</video></div>"
   ]
  },
  {
   "cell_type": "code",
   "execution_count": 36,
   "metadata": {
    "slideshow": {
     "slide_type": "slide"
    },
    "tags": [
     "to_remove"
    ]
   },
   "outputs": [
    {
     "data": {
      "text/html": [
       "<div align=\"middle\">\n",
       "<video width=\"100%\" controls>\n",
       "      <source src=\"clase1_imagenes/double_pendulum.mp4\" type=\"video/mp4\">\n",
       "</video></div>\n"
      ],
      "text/plain": [
       "<IPython.core.display.HTML object>"
      ]
     },
     "metadata": {},
     "output_type": "display_data"
    }
   ],
   "source": [
    "%%HTML\n",
    "<div align=\"middle\">\n",
    "<video width=\"100%\" controls>\n",
    "      <source src=\"clase1_imagenes/double_pendulum.mp4\" type=\"video/mp4\">\n",
    "</video></div>"
   ]
  },
  {
   "cell_type": "markdown",
   "metadata": {
    "hideCode": false,
    "hidePrompt": false,
    "slideshow": {
     "slide_type": "slide"
    }
   },
   "source": [
    "Hemos visto que podríamos resolver las ecuaciones diferenciales de un oscilador armónico simple analíticamente. Por lo tanto, no necesitamos una simulación numérica.\n",
    "\n",
    "En el caso de ecuaciones diferenciales más complicadas (o cuando el sistema tienen muchos componentes) necesitamos las simulaciones.\n",
    "\n",
    "* Las ecuaciones de la relatividad general, por ejemplo, son **no-lineales** y así son muy difíciles de resolver.\n",
    "\n",
    "* Incluso las ecuaciones de la gravedad de Newton, en el caso de más que $2$ partículas, no tienen una solución exacta: hay que resolverlas numericamente.\n",
    "\n",
    "* Aunque la función `odeint` que usabamos funciona muy bien para ecuaciones diferenciales simples, no sirve para ecuaciones más complicadas, por ejemplo las ecuaciones diferenciales *parciales* que aparacen todo el tiempo en la física.\n",
    "\n",
    "El método de **diferencias finitas**, por otra parte, aplica a *cualquier* sistema de ecuaciones diferenciales, y por eso es muy utilizado en simulaciones."
   ]
  },
  {
   "cell_type": "markdown",
   "metadata": {
    "hideCode": false,
    "hidePrompt": false,
    "slideshow": {
     "slide_type": "slide"
    }
   },
   "source": [
    "## Métodos de Monte Carlo\n",
    "\n",
    "En la física cuántica es muy común usar el método de Monte Carlo. Este método utiliza números aleatorios para evaluar integrales.\n",
    "\n",
    "Por eso recibe su nombre por un casino famoso en Mónaco:\n",
    "\n",
    "![](clase1_imagenes/monte_carlo.jpg)"
   ]
  },
  {
   "cell_type": "markdown",
   "metadata": {
    "hideCode": false,
    "hidePrompt": false,
    "slideshow": {
     "slide_type": "slide"
    }
   },
   "source": [
    "En la física cuántica, las posiciones de las partículas no están totalmente localizadas: \n",
    "* Pueden no solamente seguir un camino en el espacio entre dos puntos.\n",
    "* También puede que tomen **todos** los caminos entre dos puntos!\n",
    "\n",
    "<img style=\"float: center;\" src=\"clase1_imagenes/path_integral.jpg \" alt=\"alt text\" width=\"300\" height=\"300\" class=\"blog-image\">"
   ]
  },
  {
   "cell_type": "markdown",
   "metadata": {
    "hideCode": false,
    "hidePrompt": false,
    "slideshow": {
     "slide_type": "fragment"
    }
   },
   "source": [
    "En la física estadística, también tratamos el sistema de forma probabilistica porque hay tantas partículas que es imposible analizarlas individualmente.\n",
    "\n",
    "Por estas razones, los métodos de Monte Carlo son muy utilizados en estudios del comportamiento de la materia al nivel microscópico."
   ]
  },
  {
   "cell_type": "markdown",
   "metadata": {
    "hideCode": false,
    "hidePrompt": false,
    "slideshow": {
     "slide_type": "slide"
    }
   },
   "source": [
    "### Cálculos en la física cuántica o estadística\n",
    "\n",
    "Típicamente en la física cuántica o estadística, queremos calcular **valores promedios** de algunas propiedades del sistema. Por ejemplo, el valor promedio de la energía de todas las partículas.\n",
    "\n",
    "Matemáticamente, calcular un promedio corresponde a la **evaluación de una integral**. En un sistema como el núcleo de un átomo, las integrales que tenemos que evaluar típicamente son muy complicadas y multidimensionales."
   ]
  },
  {
   "cell_type": "markdown",
   "metadata": {
    "hideCode": false,
    "hidePrompt": false,
    "slideshow": {
     "slide_type": "slide"
    }
   },
   "source": [
    "##### Las integrales\n",
    "\n",
    "Se puede interpretar una integral como el área debajo de una curva:\n",
    "\n",
    "![](clase1_imagenes/Integral_example.png)"
   ]
  },
  {
   "cell_type": "markdown",
   "metadata": {
    "hideCode": false,
    "hidePrompt": false,
    "slideshow": {
     "slide_type": "slide"
    }
   },
   "source": [
    "Numéricamente podemos aproximar las integrales con muchas divisiones del área en rectángulos. Así el problema se reduce al sumatorio de las áreas de muchos rectángulos. Aquí está un ejemplo en una dimensión:\n",
    "\n",
    "![](clase1_imagenes/integral_approx.png)"
   ]
  },
  {
   "cell_type": "markdown",
   "metadata": {
    "hideCode": false,
    "hidePrompt": false,
    "slideshow": {
     "slide_type": "slide"
    }
   },
   "source": [
    "De hecho con un procedimiento así uno puede **definir** la integral de una función. Se encuentra el valor exacto de la integral en el límite de un número infinito de rectángulos con anchos infinitesimalmente pequeños.\n",
    "\n",
    "Como lo que vimos para las derivadas (valores de $h$ pequeños pero no nulos), es posible aproximar una integral numéricamente por el uso de rectángulos muy estrechos, pero todavía con tamaño finito.\n",
    "\n",
    "Entonces, puede ser que podemos tener una aproximación aceptable de la integral de una función con $1000$ rectángulos, por ejemplo.\n",
    "\n",
    "También se puede definir la integración en más dimensiones. Por ejemplo, se puede determinar el volumen de una forma geométrica:\n",
    "\n",
    "![](clase1_imagenes/vol_integral.jpg)"
   ]
  },
  {
   "cell_type": "markdown",
   "metadata": {
    "hideCode": false,
    "hidePrompt": false,
    "slideshow": {
     "slide_type": "slide"
    }
   },
   "source": [
    "* Supogamos que necesitamos $1000$ divisiones en cada dimensión para calcular una integral de un volumen en $3$ dimensiones a una precisión aceptable. \n",
    "\n",
    "* Esto corresponde a $1000^3 = 10^9$ cubitos!"
   ]
  },
  {
   "cell_type": "markdown",
   "metadata": {
    "hideCode": false,
    "hidePrompt": false,
    "slideshow": {
     "slide_type": "fragment"
    }
   },
   "source": [
    "* En la física cuántica y estadística es común tener integrales de $10^6 - 10^9$ **dimensiones**! \n",
    "\n",
    "* Es totalmente imposible evaluar una integral así con los métodos normales de dividir el \"volumen\" en muchos \"cubitos\" pequeños.\n",
    "\n",
    "* Pero, hay otro método que sirve - el **Método de Monte Carlo**."
   ]
  },
  {
   "cell_type": "markdown",
   "metadata": {
    "hideCode": false,
    "hidePrompt": false,
    "slideshow": {
     "slide_type": "slide"
    }
   },
   "source": [
    "### Ejemplo: calculando el valor de $\\pi$ con un método de Monte Carlo"
   ]
  },
  {
   "cell_type": "code",
   "execution_count": 37,
   "metadata": {
    "hideCode": false,
    "hidePrompt": false,
    "slideshow": {
     "slide_type": "skip"
    }
   },
   "outputs": [
    {
     "data": {
      "text/plain": [
       "[<matplotlib.lines.Line2D at 0x13fd5edc0>]"
      ]
     },
     "execution_count": 37,
     "metadata": {},
     "output_type": "execute_result"
    },
    {
     "data": {
      "image/png": "[encoded data removed]",
      "text/plain": [
       "<Figure size 600x500 with 1 Axes>"
      ]
     },
     "metadata": {},
     "output_type": "display_data"
    }
   ],
   "source": [
    "axis(\"off\")\n",
    "plot([-1.0,-1.0],[-1.0,1.0],'k-')\n",
    "plot([1.0,1.0],[-1.0,1.0],'k-')\n",
    "plot([-1.0,1.0],[1.0,1.0],'k-')\n",
    "plot([-1.0,1.0],[-1.0,-1.0],'k-')\n",
    "theta = linspace(0.0,2*pi,1000)\n",
    "gca().set_aspect('equal', adjustable='box')\n",
    "plot(cos(theta),sin(theta),'r-')\n",
    "x = random.uniform(low=-1.0,high=1.0,size=10)\n",
    "y = random.uniform(low=-1.0,high=1.0,size=10)\n",
    "plot(x,y,'go')"
   ]
  },
  {
   "cell_type": "markdown",
   "metadata": {
    "hideCode": false,
    "hidePrompt": false,
    "slideshow": {
     "slide_type": "slide"
    }
   },
   "source": [
    "Tenemos un círculo con radio $r$ dentro de un cuadrado, donde cada lado tiene longitud $2r$:\n",
    "\n",
    "![](circlesquare1.png)\n",
    "\n",
    "El área del círculo es $M = \\pi r^2$ y el área del cuadrado es $N = 4r^2$. Entonces tenemos:\n",
    "\n",
    "$$\\frac{M}{N} = \\frac{\\pi}{4}$$\n",
    "\n",
    "Así que $\\pi$ está dado por $\\pi = 4M/N$."
   ]
  },
  {
   "cell_type": "markdown",
   "metadata": {
    "hideCode": false,
    "hidePrompt": false,
    "slideshow": {
     "slide_type": "slide"
    }
   },
   "source": [
    "#### Estimando el área del círculo con números aleatorios\n",
    "\n",
    "Ahora podemos elegir números aleatorios entre $-1$ y $1$ para las coordenadas $x$ y $y$. Estos puntos estarán siempre dentro del cuadrado, pero no siempre dentro del círculo:\n",
    "\n",
    "<img style=\"float: right;\" src=\"clase1_imagenes/circlesquare2.png\">\n",
    "\n",
    "La probabilidad de tener un punto dentro del círculo es proporcional al área del círculo: $p_{circ} \\propto M$. También, la probabilidad de tener un punto dentro del cuadrado es proporcional al área del cuadrado: $p_{cuad} \\propto N$. Por lo tanto, tenemos:\n",
    "\n",
    "$$\\frac{p_{circ}}{p_{cuad}} = \\frac{M}{N}$$"
   ]
  },
  {
   "cell_type": "markdown",
   "metadata": {
    "hideCode": false,
    "hidePrompt": false,
    "slideshow": {
     "slide_type": "slide"
    }
   },
   "source": [
    "<img style=\"float: right;\" src=\"clase1_imagenes/circlesquare2.png\">\n",
    "\n",
    "De hecho, elegimos puntos que *siempre* están dentro del cuadrado, así que $p_{cuad} = 1$, y $p_{circ} = M/N$.\n",
    "\n",
    "Si tenemos $n$ puntos en total, la probabilidad de tener $m$ puntos dentro del círculo está dada por $p_{circ} = m/n$. Por ende, tenemos una relación entre el número de puntos y los áreas:\n",
    "\n",
    "$$\\frac{m}{n} = \\frac{M}{N}$$\n",
    "\n",
    "Vamos a usar está relación para estimar el valor de $\\pi$."
   ]
  },
  {
   "cell_type": "markdown",
   "metadata": {
    "hideCode": false,
    "hidePrompt": false,
    "slideshow": {
     "slide_type": "slide"
    }
   },
   "source": [
    "Primero, generamos $10$ números aleatorios entre $-1$ y $1$ que son las coordenadas en $x$ (dentro del cuadrado):"
   ]
  },
  {
   "cell_type": "code",
   "execution_count": 38,
   "metadata": {
    "hideCode": false,
    "hidePrompt": false,
    "slideshow": {
     "slide_type": "fragment"
    }
   },
   "outputs": [],
   "source": [
    "x = random.uniform(low=-1.0,high=1.0,size=10)"
   ]
  },
  {
   "cell_type": "markdown",
   "metadata": {
    "hideCode": false,
    "hidePrompt": false,
    "slideshow": {
     "slide_type": "fragment"
    }
   },
   "source": [
    "Ahora generamos $10$ números aleatorios más dentro el mismo rango para las coordenadas $y$:"
   ]
  },
  {
   "cell_type": "code",
   "execution_count": 39,
   "metadata": {
    "hideCode": false,
    "hidePrompt": false,
    "slideshow": {
     "slide_type": "fragment"
    }
   },
   "outputs": [],
   "source": [
    "y = random.uniform(low=-1.0,high=1.0,size=10)"
   ]
  },
  {
   "cell_type": "markdown",
   "metadata": {
    "hideCode": false,
    "hidePrompt": false,
    "slideshow": {
     "slide_type": "fragment"
    }
   },
   "source": [
    "Calculamos el radio de todos los puntos."
   ]
  },
  {
   "cell_type": "code",
   "execution_count": 40,
   "metadata": {
    "hideCode": false,
    "hidePrompt": false,
    "slideshow": {
     "slide_type": "fragment"
    }
   },
   "outputs": [],
   "source": [
    "r = sqrt(x**2 + y**2)"
   ]
  },
  {
   "cell_type": "code",
   "execution_count": 41,
   "metadata": {
    "hideCode": false,
    "hidePrompt": false,
    "slideshow": {
     "slide_type": "skip"
    }
   },
   "outputs": [],
   "source": [
    "sympy.init_printing(pretty_print=False)"
   ]
  },
  {
   "cell_type": "markdown",
   "metadata": {
    "hideCode": false,
    "hidePrompt": false,
    "slideshow": {
     "slide_type": "slide"
    }
   },
   "source": [
    "Comparamos estos radios con el radio del círculo (que es $r = 1$). Si su radio es mayor que $1$, ese punto no está dentro del círculo."
   ]
  },
  {
   "cell_type": "code",
   "execution_count": 42,
   "metadata": {
    "hideCode": false,
    "hidePrompt": false,
    "slideshow": {
     "slide_type": "fragment"
    }
   },
   "outputs": [
    {
     "data": {
      "text/plain": [
       "array([0.59864216, 0.91875077, 0.50365058, 0.83316853, 0.54832411,\n",
       "       0.95432413, 1.02036664, 0.66174175, 0.40868598, 0.98773355])"
      ]
     },
     "execution_count": 42,
     "metadata": {},
     "output_type": "execute_result"
    }
   ],
   "source": [
    "r"
   ]
  },
  {
   "cell_type": "markdown",
   "metadata": {
    "hideCode": false,
    "hidePrompt": false,
    "slideshow": {
     "slide_type": "fragment"
    }
   },
   "source": [
    "Hay algunos valores mayor que $1$. Podemos calcular cuantos por el uso de un arreglo *Booleano*."
   ]
  },
  {
   "cell_type": "code",
   "execution_count": 43,
   "metadata": {
    "hideCode": false,
    "hidePrompt": false,
    "slideshow": {
     "slide_type": "fragment"
    }
   },
   "outputs": [
    {
     "data": {
      "text/plain": [
       "array([False, False, False, False, False, False,  True, False, False,\n",
       "       False])"
      ]
     },
     "execution_count": 43,
     "metadata": {},
     "output_type": "execute_result"
    }
   ],
   "source": [
    "r > 1.0"
   ]
  },
  {
   "cell_type": "code",
   "execution_count": 44,
   "metadata": {
    "hideCode": false,
    "hidePrompt": false,
    "slideshow": {
     "slide_type": "fragment"
    }
   },
   "outputs": [
    {
     "data": {
      "text/plain": [
       "1"
      ]
     },
     "execution_count": 44,
     "metadata": {},
     "output_type": "execute_result"
    }
   ],
   "source": [
    "sum(r > 1.0)"
   ]
  },
  {
   "cell_type": "markdown",
   "metadata": {
    "hideCode": false,
    "hidePrompt": false,
    "slideshow": {
     "slide_type": "slide"
    }
   },
   "source": [
    "La sumatoria de un arreglo Booleano solamente cuenta los valores de *True* (verdad).\n",
    "\n",
    "Entonces, el número total de puntos dentro del círculo está dado por:"
   ]
  },
  {
   "cell_type": "code",
   "execution_count": 45,
   "metadata": {
    "hideCode": false,
    "hidePrompt": false,
    "slideshow": {
     "slide_type": "fragment"
    }
   },
   "outputs": [
    {
     "data": {
      "text/plain": [
       "9"
      ]
     },
     "execution_count": 45,
     "metadata": {},
     "output_type": "execute_result"
    }
   ],
   "source": [
    "sum(r <= 1.0)"
   ]
  },
  {
   "cell_type": "markdown",
   "metadata": {
    "hideCode": false,
    "hidePrompt": false,
    "slideshow": {
     "slide_type": "fragment"
    }
   },
   "source": [
    "Ahora, calculamos la razón entre el número de puntos dentro del círculo y el número total."
   ]
  },
  {
   "cell_type": "code",
   "execution_count": 46,
   "metadata": {
    "hideCode": false,
    "hidePrompt": false,
    "slideshow": {
     "slide_type": "fragment"
    }
   },
   "outputs": [
    {
     "data": {
      "text/plain": [
       "0.9"
      ]
     },
     "execution_count": 46,
     "metadata": {},
     "output_type": "execute_result"
    }
   ],
   "source": [
    "sum(r <= 1.0)/len(r)"
   ]
  },
  {
   "cell_type": "markdown",
   "metadata": {
    "hideCode": false,
    "hidePrompt": false,
    "slideshow": {
     "slide_type": "fragment"
    }
   },
   "source": [
    "Este es el valor de $M/N$ (para solamente $10$ puntos). El valor de $\\pi$ está dado por $4M/N$:"
   ]
  },
  {
   "cell_type": "code",
   "execution_count": 47,
   "metadata": {
    "hideCode": false,
    "hidePrompt": false,
    "slideshow": {
     "slide_type": "fragment"
    }
   },
   "outputs": [
    {
     "data": {
      "text/plain": [
       "3.6"
      ]
     },
     "execution_count": 47,
     "metadata": {},
     "output_type": "execute_result"
    }
   ],
   "source": [
    "4.0*sum(r <= 1.0)/len(r)"
   ]
  },
  {
   "cell_type": "markdown",
   "metadata": {
    "hideCode": false,
    "hidePrompt": false,
    "slideshow": {
     "slide_type": "slide"
    }
   },
   "source": [
    "El resultado no es muy preciso... Podemos usar más números aleatorios. Ahora hacemos un ciclo para ver como el resultado mejora con más números aleatorios. Primero, definimos una lista de números totales de puntos que usaremos en cada ciclo:"
   ]
  },
  {
   "cell_type": "code",
   "execution_count": 48,
   "metadata": {
    "hideCode": false,
    "hidePrompt": false,
    "slideshow": {
     "slide_type": "fragment"
    }
   },
   "outputs": [],
   "source": [
    "numeros_totales = [x for x in range(100,10100,100)]"
   ]
  },
  {
   "cell_type": "code",
   "execution_count": 49,
   "metadata": {
    "hideCode": false,
    "hidePrompt": false,
    "slideshow": {
     "slide_type": "fragment"
    }
   },
   "outputs": [
    {
     "data": {
      "text/plain": [
       "[100, 200, 300, 400, 500, 600, 700, 800, 900, 1000, 1100, 1200, 1300, 1400, 1500, 1600, 1700, 1800, 1900, 2000, 2100, 2200, 2300, 2400, 2500, 2600, 2700, 2800, 2900, 3000, 3100, 3200, 3300, 3400, 3500, 3600, 3700, 3800, 3900, 4000, 4100, 4200, 4300, 4400, 4500, 4600, 4700, 4800, 4900, 5000, 5100, 5200, 5300, 5400, 5500, 5600, 5700, 5800, 5900, 6000, 6100, 6200, 6300, 6400, 6500, 6600, 6700, 6800, 6900, 7000, 7100, 7200, 7300, 7400, 7500, 7600, 7700, 7800, 7900, 8000, 8100, 8200, 8300, 8400, 8500, 8600, 8700, 8800, 8900, 9000, 9100, 9200, 9300, 9400, 9500, 9600, 9700, 9800, 9900, 10000]"
      ]
     },
     "execution_count": 49,
     "metadata": {},
     "output_type": "execute_result"
    }
   ],
   "source": [
    "numeros_totales"
   ]
  },
  {
   "cell_type": "markdown",
   "metadata": {
    "hideCode": false,
    "hidePrompt": false,
    "slideshow": {
     "slide_type": "slide"
    }
   },
   "source": [
    "Creamos una lista vacía para guardar los resultados de cada cálculo del valor de $\\pi$."
   ]
  },
  {
   "cell_type": "code",
   "execution_count": 50,
   "metadata": {
    "hideCode": false,
    "hidePrompt": false,
    "slideshow": {
     "slide_type": "fragment"
    }
   },
   "outputs": [],
   "source": [
    "resultados = []"
   ]
  },
  {
   "cell_type": "markdown",
   "metadata": {
    "hideCode": false,
    "hidePrompt": false,
    "slideshow": {
     "slide_type": "fragment"
    }
   },
   "source": [
    "Ahora estimamos el valor de $\\pi$ con diferentes números totales de puntos aleatorios."
   ]
  },
  {
   "cell_type": "code",
   "execution_count": 51,
   "metadata": {
    "hideCode": false,
    "hidePrompt": false,
    "slideshow": {
     "slide_type": "fragment"
    }
   },
   "outputs": [],
   "source": [
    "for n in numeros_totales: # Ciclo sobre todos los valores de \"n\"\n",
    "    x = random.uniform(low=-1.0,high=1.0,size=n) #n números aleatorios para x\n",
    "    y = random.uniform(low=-1.0,high=1.0,size=n) #n números aleatorios para y\n",
    "    r = sqrt(x**2 + y**2) #Los radios de los puntos\n",
    "    m = sum(r <= 1.0) #Cuantos puntos hay dentro del círculo, el valor \"m\"\n",
    "    resultados.append( 4.0*m/n ) #Agregamos el valor estimado de pi"
   ]
  },
  {
   "cell_type": "code",
   "execution_count": 52,
   "metadata": {
    "hideCode": false,
    "hidePrompt": false,
    "slideshow": {
     "slide_type": "slide"
    }
   },
   "outputs": [
    {
     "data": {
      "text/plain": [
       "[<matplotlib.lines.Line2D at 0x13fdb6910>]"
      ]
     },
     "execution_count": 52,
     "metadata": {},
     "output_type": "execute_result"
    },
    {
     "data": {
      "image/png": "[encoded data removed]",
      "text/plain": [
       "<Figure size 600x500 with 1 Axes>"
      ]
     },
     "metadata": {},
     "output_type": "display_data"
    }
   ],
   "source": [
    "plot(numeros_totales,resultados)\n",
    "plot([numeros_totales[0],numeros_totales[-1]],[pi,pi])"
   ]
  },
  {
   "cell_type": "markdown",
   "metadata": {
    "hideCode": false,
    "hidePrompt": false,
    "slideshow": {
     "slide_type": "fragment"
    }
   },
   "source": [
    "Vemos que la aproximación al valor de $\\pi$ mejora a medida que consideramos más números aleatorios."
   ]
  },
  {
   "cell_type": "markdown",
   "metadata": {
    "hideCode": false,
    "hidePrompt": false,
    "slideshow": {
     "slide_type": "slide"
    }
   },
   "source": [
    "#### Resumen: simulaciones de Monte Carlo\n",
    "\n",
    "* Lo que hicimos en este ejemplo fue evaluar una integral de *volumen* (en $2$ dimensiones, así que es un *área*) con números aleatorios. Este es un ejemplo de integración de Monte Carlo.\n",
    "\n",
    "* También podemos usar números aleatorios para *simular* sistemas físicos. Esto es muy útil en la física estadística y la física cuántica. Un ejemplo sería una simulación de Monte Carlo para calcular la energía promedio de un gas cuántico."
   ]
  },
  {
   "cell_type": "markdown",
   "metadata": {
    "hideCode": false,
    "hidePrompt": false,
    "slideshow": {
     "slide_type": "slide"
    }
   },
   "source": [
    "#### Una nota sobre números aleatorios\n",
    "\n",
    "* Los computadores son sistemas *deterministas*. Los algoritmos también son deterministas. Este significa que no podemos usar un algoritmo computacional para generar números que son verdaderamente aleatorios.\n",
    "\n",
    "* Lo que podemos hacer es generar números *pseudo-aleatorios*. Estos son números que parecen aleatorios, aunque están generados por un algorítmo determinista.\n",
    "\n",
    "Hay más información en Wikipedia:\n",
    "\n",
    "https://es.wikipedia.org/wiki/Generador_de_números_pseudoaleatorios"
   ]
  },
  {
   "cell_type": "markdown",
   "metadata": {
    "hideCode": false,
    "hidePrompt": false,
    "slideshow": {
     "slide_type": "slide"
    }
   },
   "source": [
    "# Resumen\n",
    "\n",
    "* La física se trata de la aplicación de ecuaciones matemáticas a la naturaleza.\n",
    "* La mayoría de los sistema físicos reales se describen mediante ecuaciones que no pueden resolverse analíticamente (\"con lápiz y papel\").\n",
    "* Sin embargo, **sí** podemos resolverlos numéricamente con una simulación computacional.\n",
    "* Hay varias técnicas para hacer simulaciones, por ejemplo: diferencias finitas, Monte Carlo, ... ."
   ]
  }
 ],
 "metadata": {
  "celltoolbar": "Edit Metadata",
  "hide_code_all_hidden": false,
  "kernelspec": {
   "display_name": "Python 3 (ipykernel)",
   "language": "python",
   "name": "python3"
  },
  "language_info": {
   "codemirror_mode": {
    "name": "ipython",
    "version": 3
   },
   "file_extension": ".py",
   "mimetype": "text/x-python",
   "name": "python",
   "nbconvert_exporter": "python",
   "pygments_lexer": "ipython3",
   "version": "3.9.6"
  }
 },
 "nbformat": 4,
 "nbformat_minor": 4
}
