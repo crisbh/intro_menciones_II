{
  "nbformat": 4,
  "nbformat_minor": 0,
  "metadata": {
    "colab": {
      "provenance": []
    },
    "kernelspec": {
      "name": "python3",
      "display_name": "Python 3"
    },
    "language_info": {
      "name": "python"
    }
  },
  "cells": [
    {
      "cell_type": "markdown",
      "source": [
        "# Simulacion del movimiento armonico simple"
      ],
      "metadata": {
        "id": "YrBmfvxse6BS"
      }
    },
    {
      "cell_type": "markdown",
      "source": [
        "En un sistema masa-resorte, la fuerza está dada por la llamada *Ley de Hooke*:\n",
        "\n",
        "$$F(x) = -kx$$\n",
        "\n",
        "Por lo tanto, aplicando la segunda ley de Newton $F=m a$:\n",
        "\n",
        "$$\\frac{d^2x}{dt^2} = -\\frac{k}{m}x$$\n",
        "\n",
        "Este tipo de ecuaciones se denomina **<span style=\"color:blue\">ecuación diferencial</span>**:\n",
        "\n",
        "- Nuestro desafío es llegar a encontrar la posición como función del tiempo, $x(t)$.\n",
        "\n",
        "A continuacion, utilizaremos Python para resolverla."
      ],
      "metadata": {
        "id": "7pPReyJafI-a"
      }
    },
    {
      "cell_type": "markdown",
      "source": [
        "En Python, hay una función del módulo `SciPy` que puede resolver ecuaciones diferenciales.\n",
        "\n",
        "Este módulo funciona con ecuaciones diferenciales de *primer* orden (con primeras derivadas), no de *segundo* orden (como lo que tenemos arriba). Pero es fácil convertir la ecuación en dos ecuaciones de primer orden. Para esto definimos la *velocidad* $v=\\frac{dx}{dt}$, con lo cual tenemos dos ecuaciones:\n",
        "\n",
        "$$\\quad\\frac{dx}{dt} = v\\qquad \\qquad \\qquad \\textrm{ecuación para la velocidad}$$                \n",
        "$$\\frac{dv}{dt} = -\\frac{k}{m}x \\qquad \\qquad \\textrm{ecuación para la posición}$$\n",
        "\n",
        "Estas son las ecuaciones que vamos a resolver con Python."
      ],
      "metadata": {
        "id": "Av0Wmnn_e1pZ"
      }
    },
    {
      "cell_type": "markdown",
      "source": [
        "## Código"
      ],
      "metadata": {
        "id": "BeGHhVIvgGmk"
      }
    },
    {
      "cell_type": "code",
      "source": [
        "# Para graficar, utilizamos matplotlib\n",
        "from matplotlib.pyplot import *\n",
        "\n",
        "# Configurar tamaño y resolución de gráficos\n",
        "rcParams[\"figure.figsize\"] = (5, 4)\n",
        "rcParams[\"figure.dpi\"] = 100"
      ],
      "metadata": {
        "id": "5679WQDee1A2"
      },
      "execution_count": 12,
      "outputs": []
    },
    {
      "cell_type": "code",
      "source": [
        "# Modulos con funciones numericas y matematicas\n",
        "from numpy import *\n",
        "from scipy import integrate"
      ],
      "metadata": {
        "id": "MsKrC6Aue1DQ"
      },
      "execution_count": 13,
      "outputs": []
    },
    {
      "cell_type": "code",
      "source": [
        "# Continuar...\n",
        "\n"
      ],
      "metadata": {
        "id": "y5ecsYBAf1qj"
      },
      "execution_count": 14,
      "outputs": []
    }
  ]
}